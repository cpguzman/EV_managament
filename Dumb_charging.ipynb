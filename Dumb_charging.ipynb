{
 "cells": [
  {
   "cell_type": "markdown",
   "id": "465a4b9a",
   "metadata": {
    "pycharm": {
     "name": "#%% md\n"
    }
   },
   "source": [
    "## Import packages"
   ]
  },
  {
   "cell_type": "code",
   "execution_count": 1,
   "id": "1ddb793e",
   "metadata": {
    "ExecuteTime": {
     "end_time": "2023-01-24T15:19:36.727069Z",
     "start_time": "2023-01-24T15:19:35.589009Z"
    },
    "pycharm": {
     "name": "#%%\n"
    }
   },
   "outputs": [],
   "source": [
    "import pyomo\n",
    "import pyomo.opt\n",
    "import pyomo.environ as pyo\n",
    "import numpy as np\n",
    "import pandas as pd\n",
    "import matplotlib as plt"
   ]
  },
  {
   "cell_type": "code",
   "execution_count": 2,
   "id": "0e61a162",
   "metadata": {
    "ExecuteTime": {
     "end_time": "2023-01-24T15:19:36.737069Z",
     "start_time": "2023-01-24T15:19:36.727069Z"
    },
    "pycharm": {
     "name": "#%%\n"
    }
   },
   "outputs": [],
   "source": [
    "n_time = 72 #test with 3 days"
   ]
  },
  {
   "cell_type": "code",
   "execution_count": 3,
   "id": "ec8eda0e",
   "metadata": {
    "ExecuteTime": {
     "end_time": "2023-01-24T15:19:36.750070Z",
     "start_time": "2023-01-24T15:19:36.737069Z"
    },
    "pycharm": {
     "name": "#%%\n"
    }
   },
   "outputs": [],
   "source": [
    "def _auxDictionary(a):\n",
    "    temp_dictionary = {}\n",
    "    if len(a.shape) == 3:\n",
    "        for dim0 in np.arange(a.shape[0]):\n",
    "            for dim1 in np.arange(a.shape[1]):\n",
    "                for dim2 in np.arange(a.shape[2]):\n",
    "                    temp_dictionary[(dim0+1, dim1+1, dim2+1)] = a[dim0, dim1, dim2]\n",
    "    elif len(a.shape) == 2:\n",
    "        for dim0 in np.arange(a.shape[0]):\n",
    "            for dim1 in np.arange(a.shape[1]):\n",
    "                temp_dictionary[(dim0+1, dim1+1)] = a[dim0, dim1]\n",
    "    else:\n",
    "        for dim0 in np.arange(a.shape[0]):\n",
    "            temp_dictionary[(dim0+1)] = a[dim0]\n",
    "    return temp_dictionary\n",
    "#temp_dict1 = _auxDictionary(loadLimit)"
   ]
  },
  {
   "cell_type": "markdown",
   "id": "e992bdc1",
   "metadata": {
    "pycharm": {
     "name": "#%% md\n"
    }
   },
   "source": [
    "## Data"
   ]
  },
  {
   "cell_type": "code",
   "execution_count": 4,
   "id": "a83cd167",
   "metadata": {
    "ExecuteTime": {
     "end_time": "2023-01-24T15:19:36.783071Z",
     "start_time": "2023-01-24T15:19:36.753070Z"
    },
    "pycharm": {
     "name": "#%%\n"
    }
   },
   "outputs": [],
   "source": [
    "data = {}\n",
    "data['Inputs'] = pd.read_csv('Inputs.csv')\n",
    "data['EVs_Inputs'] = pd.read_csv('EVs_Inputs.csv')\n",
    "data['alpha'] = pd.read_csv('alpha.csv')\n",
    "data['PchmaxEV'] = pd.read_csv('PchmaxEV.csv')\n",
    "data['S'] = pd.read_csv('S.csv')"
   ]
  },
  {
   "cell_type": "code",
   "execution_count": 5,
   "id": "41181e1c",
   "metadata": {
    "ExecuteTime": {
     "end_time": "2023-01-24T15:19:36.788072Z",
     "start_time": "2023-01-24T15:19:36.785072Z"
    },
    "pycharm": {
     "name": "#%%\n"
    }
   },
   "outputs": [],
   "source": [
    "n_evs = data['EVs_Inputs']['Esoc'].size"
   ]
  },
  {
   "cell_type": "markdown",
   "id": "3a5ca547",
   "metadata": {
    "pycharm": {
     "name": "#%% md\n"
    }
   },
   "source": [
    "## Start Time"
   ]
  },
  {
   "cell_type": "code",
   "execution_count": 6,
   "id": "44ffa214",
   "metadata": {
    "pycharm": {
     "name": "#%%\n"
    }
   },
   "outputs": [
    {
     "name": "stdout",
     "output_type": "stream",
     "text": [
      "Start Time = 14:07:31\n"
     ]
    }
   ],
   "source": [
    "from datetime import datetime\n",
    "\n",
    "now = datetime.now()\n",
    "\n",
    "start_time = now.strftime(\"%H:%M:%S\")\n",
    "print(\"Start Time =\", start_time)"
   ]
  },
  {
   "cell_type": "markdown",
   "id": "3d6c5e1f",
   "metadata": {
    "pycharm": {
     "name": "#%% md\n"
    }
   },
   "source": [
    "## Sets"
   ]
  },
  {
   "cell_type": "code",
   "execution_count": 7,
   "id": "b91563a4",
   "metadata": {
    "ExecuteTime": {
     "end_time": "2023-01-24T15:19:36.799072Z",
     "start_time": "2023-01-24T15:19:36.790072Z"
    },
    "pycharm": {
     "name": "#%%\n"
    }
   },
   "outputs": [],
   "source": [
    "model = pyo.ConcreteModel()\n",
    "\n",
    "model.ev = pyo.Set(initialize = np.arange(1, n_evs + 1))\n",
    "model.t = pyo.Set(initialize = np.arange(1, n_time + 1))\n"
   ]
  },
  {
   "cell_type": "markdown",
   "id": "5983637f",
   "metadata": {
    "pycharm": {
     "name": "#%% md\n"
    }
   },
   "source": [
    "## Parameters"
   ]
  },
  {
   "cell_type": "code",
   "execution_count": 8,
   "id": "84aa4cd4",
   "metadata": {
    "ExecuteTime": {
     "end_time": "2023-01-24T15:19:38.190108Z",
     "start_time": "2023-01-24T15:19:36.801073Z"
    },
    "pycharm": {
     "name": "#%%\n"
    }
   },
   "outputs": [],
   "source": [
    "model.EEVmax = pyo.Param(model.ev, initialize =_auxDictionary(data['EVs_Inputs'].to_numpy()[:,2]))\n",
    "model.EEVmin = pyo.Param(model.ev, initialize =_auxDictionary(data['EVs_Inputs'].to_numpy()[:,1]))\n",
    "model.ESoc = pyo.Param(model.ev, initialize =_auxDictionary(data['EVs_Inputs'].to_numpy()[:,0]))\n",
    "model.dT = pyo.Param(model.t, initialize =_auxDictionary(data['Inputs'].to_numpy()[:,0]))\n",
    "model.cDA = pyo.Param(model.t, initialize =_auxDictionary(data['Inputs'].to_numpy()[:,1]))\n",
    "model.PchmaxEV = pyo.Param(model.ev, model.t, initialize =_auxDictionary(data['PchmaxEV'].to_numpy()))\n",
    "model.S = pyo.Param(model.ev, model.t, initialize = _auxDictionary(data['S'].to_numpy()))\n",
    "model.alpha = pyo.Param(model.ev, model.t, initialize = _auxDictionary(data['alpha'].to_numpy()))\n",
    "model.RealHour = pyo.Param(model.t, initialize=_auxDictionary(data['Inputs'].to_numpy()[:,2]))\n",
    "model.penalty1 = 1000\n",
    "model.penalty2 = 1000\n",
    "model.penalty3 = 0.6\n",
    "model.Etrip = pyo.Param(model.ev, initialize=_auxDictionary(data['EVs_Inputs'].to_numpy()[:,3]))\n",
    "model.n = 0.95\n",
    "model.m = 0.6\n",
    "model.factor = 1"
   ]
  },
  {
   "cell_type": "markdown",
   "id": "32bfa69e",
   "metadata": {
    "pycharm": {
     "name": "#%% md\n"
    }
   },
   "source": [
    "## Variables"
   ]
  },
  {
   "cell_type": "code",
   "execution_count": 9,
   "id": "cf6d304b",
   "metadata": {
    "ExecuteTime": {
     "end_time": "2023-01-24T15:19:38.458122Z",
     "start_time": "2023-01-24T15:19:38.190108Z"
    },
    "pycharm": {
     "name": "#%%\n"
    }
   },
   "outputs": [],
   "source": [
    "model.PEV = pyo.Var(model.ev, model.t, domain = pyo.NonNegativeReals, initialize = 0)\n",
    "model.EEV = pyo.Var(model.ev, model.t, domain = pyo.Reals, initialize = 0)\n",
    "model.Etriprelax = pyo.Var(model.ev, model.t, domain = pyo.NonNegativeReals, initialize = 0)\n",
    "model.Eminsocrelax = pyo.Var(model.ev, model.t, domain = pyo.NonNegativeReals, initialize = 0)\n",
    "model.Etripn = pyo.Var(model.ev, model.t, domain = pyo.Reals, initialize = 0)"
   ]
  },
  {
   "cell_type": "markdown",
   "id": "50d04277",
   "metadata": {
    "pycharm": {
     "name": "#%% md\n"
    }
   },
   "source": [
    "## Constraints"
   ]
  },
  {
   "cell_type": "code",
   "execution_count": 10,
   "id": "a8a6f316",
   "metadata": {
    "ExecuteTime": {
     "end_time": "2023-01-24T15:19:43.182165Z",
     "start_time": "2023-01-24T15:19:38.460122Z"
    },
    "pycharm": {
     "name": "#%%\n"
    }
   },
   "outputs": [],
   "source": [
    "def _balance_etripn(m,ev,t): \n",
    "    return m.Etripn[ev,t] == m.Etrip[ev]*m.S[ev,t]/(sum([m.S[ev,k] for k in np.arange(1, n_time + 1)]))\n",
    "model.balance_etripn = pyo.Constraint(model.ev, model.t, rule = _balance_etripn)\n",
    "\n",
    "def _balance_energy_EVS3(m,ev,t): \n",
    "    if t == 24:\n",
    "        return m.EEV[ev,t] + m.Etriprelax[ev,t] == m.EEVmax[ev]\n",
    "    return pyo.Constraint.Skip\n",
    "model.balance_energy_EVS3 = pyo.Constraint(model.ev, model.t, rule = _balance_energy_EVS3)\n",
    "\n",
    "def _balance_energy_EVS4(m,ev,t): \n",
    "    if t == 48:\n",
    "        return m.EEV[ev,t] + m.Etriprelax[ev,t] == m.EEVmax[ev]\n",
    "    return pyo.Constraint.Skip\n",
    "model.balance_energy_EVS4 = pyo.Constraint(model.ev, model.t, rule = _balance_energy_EVS4)\n",
    "\n",
    "def _balance_energy_EVS5(m,ev,t): \n",
    "    if t == 72:\n",
    "        return m.EEV[ev,t] + m.Etriprelax[ev,t] == m.EEVmax[ev]\n",
    "    return pyo.Constraint.Skip\n",
    "model.balance_energy_EVS5 = pyo.Constraint(model.ev, model.t, rule = _balance_energy_EVS5)\n",
    "\n",
    "def _balance_energy_EVS(m,ev,t): \n",
    "    if t == 1:\n",
    "        return m.EEV[ev,t] - m.Etriprelax[ev,t] == m.ESoc[ev] + m.PEV[ev,t]*m.dT[t]*m.n - m.Etripn[ev,t]\n",
    "    return pyo.Constraint.Skip\n",
    "model.balance_energy_EVS = pyo.Constraint(model.ev, model.t, rule = _balance_energy_EVS)\n",
    "\n",
    "def _balance_energy_EVS2(m,ev,t): \n",
    "    if t > 1:\n",
    "        return m.EEV[ev,t] - m.Etriprelax[ev,t] == m.EEV[ev,t-1] + m.PEV[ev,t]*m.dT[t]*m.n - m.Etripn[ev,t]\n",
    "    return pyo.Constraint.Skip\n",
    "model.balance_energy_EVS2 = pyo.Constraint(model.ev, model.t, rule = _balance_energy_EVS2)\n",
    "\n",
    "def _power_charging_limit1(m,ev,t): \n",
    "    return m.PEV[ev,t] >= 0\n",
    "model.power_charging_limit1 = pyo.Constraint(model.ev, model.t, rule = _power_charging_limit1)\n",
    "\n",
    "def _power_charging_limit2(m,ev,t): \n",
    "    return m.PEV[ev,t] <= m.alpha[ev,t]*m.PchmaxEV[ev,t]*m.factor\n",
    "model.power_charging_limit2 = pyo.Constraint(model.ev, model.t, rule = _power_charging_limit2)\n",
    "\n",
    "def _energy_limits_EVS_1(m,ev,t): \n",
    "    return m.EEVmin[ev] <= m.EEV[ev,t] + m.Eminsocrelax[ev,t]\n",
    "model.energy_limits_EVS_1 = pyo.Constraint(model.ev, model.t, rule = _energy_limits_EVS_1)\n",
    "\n",
    "def _energy_limits_EVS_2(m,ev,t): \n",
    "    return m.EEV[ev,t] <= m.EEVmax[ev]\n",
    "model.energy_limits_EVS_2 = pyo.Constraint(model.ev, model.t, rule = _energy_limits_EVS_2)  "
   ]
  },
  {
   "cell_type": "markdown",
   "id": "bd4ceb28",
   "metadata": {
    "pycharm": {
     "name": "#%% md\n"
    }
   },
   "source": [
    "## Objective function"
   ]
  },
  {
   "cell_type": "code",
   "execution_count": 11,
   "id": "2d584a94",
   "metadata": {
    "ExecuteTime": {
     "end_time": "2023-01-24T15:19:43.979204Z",
     "start_time": "2023-01-24T15:19:43.182165Z"
    },
    "pycharm": {
     "name": "#%%\n"
    }
   },
   "outputs": [],
   "source": [
    "def _FOag(m):\n",
    "    return sum([m.EEVmax[ev] - m.EEV[ev,t] + m.Etriprelax[ev,t]*m.penalty1 + m.Eminsocrelax[ev,t]*m.penalty2 for ev in np.arange(1, n_evs + 1) for t in np.arange(1, n_time + 1)])  \n",
    "model.FOag = pyo.Objective(rule = _FOag, sense = pyo.minimize)"
   ]
  },
  {
   "cell_type": "markdown",
   "id": "8d9d00e1",
   "metadata": {
    "pycharm": {
     "name": "#%% md\n"
    }
   },
   "source": [
    "## Solve the model"
   ]
  },
  {
   "cell_type": "code",
   "execution_count": 12,
   "id": "f64949c1",
   "metadata": {
    "ExecuteTime": {
     "end_time": "2023-01-24T15:20:03.226330Z",
     "start_time": "2023-01-24T15:19:43.981204Z"
    },
    "pycharm": {
     "name": "#%%\n"
    }
   },
   "outputs": [
    {
     "name": "stdout",
     "output_type": "stream",
     "text": [
      "# ==========================================================\n",
      "# = Solver Results                                         =\n",
      "# ==========================================================\n",
      "# ----------------------------------------------------------\n",
      "#   Problem Information\n",
      "# ----------------------------------------------------------\n",
      "Problem: \n",
      "- Name: tmpg_b27qv7\n",
      "  Lower bound: 7720339026.437187\n",
      "  Upper bound: 7720339026.437187\n",
      "  Number of objectives: 1\n",
      "  Number of constraints: 636406\n",
      "  Number of variables: 526681\n",
      "  Number of nonzeros: 1166012\n",
      "  Sense: minimize\n",
      "# ----------------------------------------------------------\n",
      "#   Solver Information\n",
      "# ----------------------------------------------------------\n",
      "Solver: \n",
      "- Status: ok\n",
      "  User time: 1.63\n",
      "  Termination condition: optimal\n",
      "  Termination message: Dual simplex - Optimal\\x3a Objective = 7.7203390264e+09\n",
      "  Error rc: 0\n",
      "  Time: 4.322736501693726\n",
      "# ----------------------------------------------------------\n",
      "#   Solution Information\n",
      "# ----------------------------------------------------------\n",
      "Solution: \n",
      "- number of solutions: 0\n",
      "  number of solutions displayed: 0\n"
     ]
    }
   ],
   "source": [
    "from pyomo.opt import SolverFactory\n",
    "\n",
    "model.write('res_V4_EC.lp',  io_options={'symbolic_solver_labels': True})\n",
    "\n",
    "# Create a solver\n",
    "#opt = pyo.SolverFactory('cbc', executable='C:/Program Files/Cbc-releases.2.10.8-x86_64-w64-mingw64/bin/cbc.exe')\n",
    "\n",
    "opt = pyo.SolverFactory('cplex', executable='C:/Program Files/IBM/ILOG/CPLEX_Studio129/cplex/bin/x64_win64/cplex.exe')\n",
    "opt.options['LogFile'] = 'res_V4_EC.log'\n",
    "\n",
    "#opt = pyo.SolverFactory('ipopt', executable='C:/Program Files/Ipopt-3.11.1-win64-intel13.1/bin/ipopt.exe')\n",
    "#opt.options['print_level'] = 12\n",
    "#opt.options['output_file'] = \"res_V5_EC.log\"\n",
    "\n",
    "results = opt.solve(model)#, tee=True)\n",
    "results.write()"
   ]
  },
  {
   "cell_type": "markdown",
   "id": "f2119b3a",
   "metadata": {
    "pycharm": {
     "name": "#%% md\n"
    }
   },
   "source": [
    "## Objective Function Value"
   ]
  },
  {
   "cell_type": "code",
   "execution_count": 13,
   "id": "75bf01b2",
   "metadata": {
    "ExecuteTime": {
     "end_time": "2023-01-24T15:20:03.541347Z",
     "start_time": "2023-01-24T15:20:03.226330Z"
    },
    "pycharm": {
     "name": "#%%\n"
    }
   },
   "outputs": [
    {
     "data": {
      "text/plain": [
       "7720339026.437257"
      ]
     },
     "execution_count": 13,
     "metadata": {},
     "output_type": "execute_result"
    }
   ],
   "source": [
    "pyo.value(model.FOag)"
   ]
  },
  {
   "cell_type": "markdown",
   "id": "41de0b11",
   "metadata": {
    "pycharm": {
     "name": "#%% md\n"
    }
   },
   "source": [
    "## End Time"
   ]
  },
  {
   "cell_type": "code",
   "execution_count": 14,
   "id": "f398e54b",
   "metadata": {
    "pycharm": {
     "name": "#%%\n"
    }
   },
   "outputs": [
    {
     "name": "stdout",
     "output_type": "stream",
     "text": [
      "End Time = 14:09:46\n",
      "Dif: 0:02:15\n"
     ]
    }
   ],
   "source": [
    "now = datetime.now()\n",
    "\n",
    "end_time = now.strftime(\"%H:%M:%S\")\n",
    "print(\"End Time =\", end_time)\n",
    "print(\"Dif: {}\".format(datetime.strptime(end_time, \"%H:%M:%S\") - datetime.strptime(start_time, \"%H:%M:%S\")))"
   ]
  },
  {
   "cell_type": "markdown",
   "id": "6ebf9ce8",
   "metadata": {
    "pycharm": {
     "name": "#%% md\n"
    }
   },
   "source": [
    "## Cost Value"
   ]
  },
  {
   "cell_type": "code",
   "execution_count": 15,
   "id": "634d0ad7",
   "metadata": {
    "ExecuteTime": {
     "end_time": "2023-01-24T15:20:03.547348Z",
     "start_time": "2023-01-24T15:20:03.542347Z"
    },
    "pycharm": {
     "name": "#%%\n"
    }
   },
   "outputs": [],
   "source": [
    "def ext_pyomo_vals(vals):\n",
    "    # make a pd.Series from each\n",
    "    s = pd.Series(vals.extract_values(),\n",
    "                  index=vals.extract_values().keys())\n",
    "    # if the series is multi-indexed we need to unstack it...\n",
    "    if type(s.index[0]) == tuple:    # it is multi-indexed\n",
    "        s = s.unstack(level=1)\n",
    "    else:\n",
    "        # force transition from Series -> df\n",
    "        s = pd.DataFrame(s)\n",
    "    return s"
   ]
  },
  {
   "cell_type": "code",
   "execution_count": 16,
   "id": "eee3ee83",
   "metadata": {
    "ExecuteTime": {
     "end_time": "2023-01-24T15:20:05.134380Z",
     "start_time": "2023-01-24T15:20:03.549348Z"
    },
    "pycharm": {
     "name": "#%%\n"
    }
   },
   "outputs": [
    {
     "name": "stdout",
     "output_type": "stream",
     "text": [
      "Charge cost: 3799029.221786922\n"
     ]
    }
   ],
   "source": [
    "PEV_df = ext_pyomo_vals(model.PEV)\n",
    "dT_df = ext_pyomo_vals(model.dT)\n",
    "cDA_df = ext_pyomo_vals(model.cDA)\n",
    "EEV_df = ext_pyomo_vals(model.EEV)\n",
    "\n",
    "charge_cost = sum([PEV_df[t][ev]*dT_df[0][t]*cDA_df[0][t]\n",
    "                   for ev in np.arange(1, n_evs + 1) for t in np.arange(1, n_time + 1)])\n",
    "\n",
    "print('Charge cost: {}'.format(charge_cost))"
   ]
  },
  {
   "cell_type": "markdown",
   "id": "4632e191",
   "metadata": {
    "pycharm": {
     "name": "#%% md\n"
    }
   },
   "source": [
    "## Results"
   ]
  },
  {
   "cell_type": "code",
   "execution_count": 17,
   "id": "e6ef380e",
   "metadata": {
    "ExecuteTime": {
     "end_time": "2023-01-24T15:20:05.143380Z",
     "start_time": "2023-01-24T15:20:05.134380Z"
    },
    "pycharm": {
     "name": "#%%\n"
    }
   },
   "outputs": [
    {
     "name": "stdout",
     "output_type": "stream",
     "text": [
      "Total Charge: 53.38876383183451\n"
     ]
    }
   ],
   "source": [
    "print(\"Total Charge: {}\".format(np.sum(PEV_df.to_numpy()/1000000)))"
   ]
  },
  {
   "cell_type": "code",
   "execution_count": 18,
   "id": "21257bc4",
   "metadata": {
    "ExecuteTime": {
     "end_time": "2023-01-24T15:20:05.196383Z",
     "start_time": "2023-01-24T15:20:05.148381Z"
    },
    "pycharm": {
     "name": "#%%\n"
    }
   },
   "outputs": [
    {
     "data": {
      "text/html": [
       "<div>\n",
       "<style scoped>\n",
       "    .dataframe tbody tr th:only-of-type {\n",
       "        vertical-align: middle;\n",
       "    }\n",
       "\n",
       "    .dataframe tbody tr th {\n",
       "        vertical-align: top;\n",
       "    }\n",
       "\n",
       "    .dataframe thead th {\n",
       "        text-align: right;\n",
       "    }\n",
       "</style>\n",
       "<table border=\"1\" class=\"dataframe\">\n",
       "  <thead>\n",
       "    <tr style=\"text-align: right;\">\n",
       "      <th></th>\n",
       "      <th>1</th>\n",
       "      <th>2</th>\n",
       "      <th>3</th>\n",
       "      <th>4</th>\n",
       "      <th>5</th>\n",
       "      <th>6</th>\n",
       "      <th>7</th>\n",
       "      <th>8</th>\n",
       "      <th>9</th>\n",
       "      <th>10</th>\n",
       "      <th>...</th>\n",
       "      <th>63</th>\n",
       "      <th>64</th>\n",
       "      <th>65</th>\n",
       "      <th>66</th>\n",
       "      <th>67</th>\n",
       "      <th>68</th>\n",
       "      <th>69</th>\n",
       "      <th>70</th>\n",
       "      <th>71</th>\n",
       "      <th>72</th>\n",
       "    </tr>\n",
       "  </thead>\n",
       "  <tbody>\n",
       "    <tr>\n",
       "      <th>1</th>\n",
       "      <td>52800.000000</td>\n",
       "      <td>59640.000000</td>\n",
       "      <td>66480.000000</td>\n",
       "      <td>73320.000000</td>\n",
       "      <td>76600.000000</td>\n",
       "      <td>76600.000000</td>\n",
       "      <td>76600.000000</td>\n",
       "      <td>76600.000000</td>\n",
       "      <td>76600.000000</td>\n",
       "      <td>76600.000000</td>\n",
       "      <td>...</td>\n",
       "      <td>76600.000000</td>\n",
       "      <td>76600.000000</td>\n",
       "      <td>76600.000000</td>\n",
       "      <td>76600.000000</td>\n",
       "      <td>76600.000000</td>\n",
       "      <td>76600.000000</td>\n",
       "      <td>76600.000000</td>\n",
       "      <td>76600.000000</td>\n",
       "      <td>76600.000000</td>\n",
       "      <td>76600.000000</td>\n",
       "    </tr>\n",
       "    <tr>\n",
       "      <th>2</th>\n",
       "      <td>16200.000000</td>\n",
       "      <td>19620.000000</td>\n",
       "      <td>21300.000000</td>\n",
       "      <td>21300.000000</td>\n",
       "      <td>21300.000000</td>\n",
       "      <td>21300.000000</td>\n",
       "      <td>21300.000000</td>\n",
       "      <td>21300.000000</td>\n",
       "      <td>21300.000000</td>\n",
       "      <td>21300.000000</td>\n",
       "      <td>...</td>\n",
       "      <td>21300.000000</td>\n",
       "      <td>21300.000000</td>\n",
       "      <td>21300.000000</td>\n",
       "      <td>21300.000000</td>\n",
       "      <td>21300.000000</td>\n",
       "      <td>21300.000000</td>\n",
       "      <td>21300.000000</td>\n",
       "      <td>21300.000000</td>\n",
       "      <td>21300.000000</td>\n",
       "      <td>21300.000000</td>\n",
       "    </tr>\n",
       "    <tr>\n",
       "      <th>3</th>\n",
       "      <td>16200.000000</td>\n",
       "      <td>19620.000000</td>\n",
       "      <td>21300.000000</td>\n",
       "      <td>21300.000000</td>\n",
       "      <td>21300.000000</td>\n",
       "      <td>21300.000000</td>\n",
       "      <td>21300.000000</td>\n",
       "      <td>21300.000000</td>\n",
       "      <td>21300.000000</td>\n",
       "      <td>21300.000000</td>\n",
       "      <td>...</td>\n",
       "      <td>20767.399995</td>\n",
       "      <td>20767.399995</td>\n",
       "      <td>20767.399995</td>\n",
       "      <td>20767.399995</td>\n",
       "      <td>20767.399995</td>\n",
       "      <td>20767.399995</td>\n",
       "      <td>20767.399995</td>\n",
       "      <td>20767.399995</td>\n",
       "      <td>20767.399995</td>\n",
       "      <td>20767.399995</td>\n",
       "    </tr>\n",
       "    <tr>\n",
       "      <th>4</th>\n",
       "      <td>67079.704236</td>\n",
       "      <td>67079.704236</td>\n",
       "      <td>67079.704236</td>\n",
       "      <td>67079.704236</td>\n",
       "      <td>67079.704236</td>\n",
       "      <td>67079.704236</td>\n",
       "      <td>67079.704236</td>\n",
       "      <td>67079.704236</td>\n",
       "      <td>67079.704236</td>\n",
       "      <td>67079.704236</td>\n",
       "      <td>...</td>\n",
       "      <td>77000.000000</td>\n",
       "      <td>77000.000000</td>\n",
       "      <td>77000.000000</td>\n",
       "      <td>77000.000000</td>\n",
       "      <td>77000.000000</td>\n",
       "      <td>77000.000000</td>\n",
       "      <td>77000.000000</td>\n",
       "      <td>77000.000000</td>\n",
       "      <td>77000.000000</td>\n",
       "      <td>77000.000000</td>\n",
       "    </tr>\n",
       "    <tr>\n",
       "      <th>5</th>\n",
       "      <td>45960.000000</td>\n",
       "      <td>45960.000000</td>\n",
       "      <td>45960.000000</td>\n",
       "      <td>45960.000000</td>\n",
       "      <td>45960.000000</td>\n",
       "      <td>45960.000000</td>\n",
       "      <td>45960.000000</td>\n",
       "      <td>45960.000000</td>\n",
       "      <td>45960.000000</td>\n",
       "      <td>45960.000000</td>\n",
       "      <td>...</td>\n",
       "      <td>76600.000000</td>\n",
       "      <td>76600.000000</td>\n",
       "      <td>76600.000000</td>\n",
       "      <td>76600.000000</td>\n",
       "      <td>76600.000000</td>\n",
       "      <td>76600.000000</td>\n",
       "      <td>76600.000000</td>\n",
       "      <td>76600.000000</td>\n",
       "      <td>76600.000000</td>\n",
       "      <td>76600.000000</td>\n",
       "    </tr>\n",
       "    <tr>\n",
       "      <th>...</th>\n",
       "      <td>...</td>\n",
       "      <td>...</td>\n",
       "      <td>...</td>\n",
       "      <td>...</td>\n",
       "      <td>...</td>\n",
       "      <td>...</td>\n",
       "      <td>...</td>\n",
       "      <td>...</td>\n",
       "      <td>...</td>\n",
       "      <td>...</td>\n",
       "      <td>...</td>\n",
       "      <td>...</td>\n",
       "      <td>...</td>\n",
       "      <td>...</td>\n",
       "      <td>...</td>\n",
       "      <td>...</td>\n",
       "      <td>...</td>\n",
       "      <td>...</td>\n",
       "      <td>...</td>\n",
       "      <td>...</td>\n",
       "      <td>...</td>\n",
       "    </tr>\n",
       "    <tr>\n",
       "      <th>1459</th>\n",
       "      <td>55245.936702</td>\n",
       "      <td>55245.936702</td>\n",
       "      <td>55245.936702</td>\n",
       "      <td>55245.936702</td>\n",
       "      <td>55245.936702</td>\n",
       "      <td>55245.936702</td>\n",
       "      <td>55245.936702</td>\n",
       "      <td>55245.936702</td>\n",
       "      <td>55245.936702</td>\n",
       "      <td>55245.936702</td>\n",
       "      <td>...</td>\n",
       "      <td>57500.000000</td>\n",
       "      <td>57500.000000</td>\n",
       "      <td>57500.000000</td>\n",
       "      <td>57500.000000</td>\n",
       "      <td>57500.000000</td>\n",
       "      <td>57500.000000</td>\n",
       "      <td>57500.000000</td>\n",
       "      <td>57500.000000</td>\n",
       "      <td>57500.000000</td>\n",
       "      <td>57500.000000</td>\n",
       "    </tr>\n",
       "    <tr>\n",
       "      <th>1460</th>\n",
       "      <td>21300.000000</td>\n",
       "      <td>21300.000000</td>\n",
       "      <td>21300.000000</td>\n",
       "      <td>21300.000000</td>\n",
       "      <td>21300.000000</td>\n",
       "      <td>21300.000000</td>\n",
       "      <td>21300.000000</td>\n",
       "      <td>21300.000000</td>\n",
       "      <td>21300.000000</td>\n",
       "      <td>21300.000000</td>\n",
       "      <td>...</td>\n",
       "      <td>21300.000000</td>\n",
       "      <td>21300.000000</td>\n",
       "      <td>21300.000000</td>\n",
       "      <td>21300.000000</td>\n",
       "      <td>21300.000000</td>\n",
       "      <td>21300.000000</td>\n",
       "      <td>21300.000000</td>\n",
       "      <td>21300.000000</td>\n",
       "      <td>21300.000000</td>\n",
       "      <td>21300.000000</td>\n",
       "    </tr>\n",
       "    <tr>\n",
       "      <th>1461</th>\n",
       "      <td>41340.000000</td>\n",
       "      <td>48180.000000</td>\n",
       "      <td>55020.000000</td>\n",
       "      <td>57500.000000</td>\n",
       "      <td>57500.000000</td>\n",
       "      <td>57500.000000</td>\n",
       "      <td>57500.000000</td>\n",
       "      <td>57500.000000</td>\n",
       "      <td>57500.000000</td>\n",
       "      <td>57500.000000</td>\n",
       "      <td>...</td>\n",
       "      <td>57500.000000</td>\n",
       "      <td>57500.000000</td>\n",
       "      <td>57500.000000</td>\n",
       "      <td>57500.000000</td>\n",
       "      <td>57500.000000</td>\n",
       "      <td>57500.000000</td>\n",
       "      <td>57500.000000</td>\n",
       "      <td>57500.000000</td>\n",
       "      <td>57500.000000</td>\n",
       "      <td>57500.000000</td>\n",
       "    </tr>\n",
       "    <tr>\n",
       "      <th>1462</th>\n",
       "      <td>21300.000000</td>\n",
       "      <td>21300.000000</td>\n",
       "      <td>21300.000000</td>\n",
       "      <td>21300.000000</td>\n",
       "      <td>21300.000000</td>\n",
       "      <td>21300.000000</td>\n",
       "      <td>21300.000000</td>\n",
       "      <td>21300.000000</td>\n",
       "      <td>21300.000000</td>\n",
       "      <td>21300.000000</td>\n",
       "      <td>...</td>\n",
       "      <td>21300.000000</td>\n",
       "      <td>21300.000000</td>\n",
       "      <td>21300.000000</td>\n",
       "      <td>21300.000000</td>\n",
       "      <td>21300.000000</td>\n",
       "      <td>21300.000000</td>\n",
       "      <td>21300.000000</td>\n",
       "      <td>21300.000000</td>\n",
       "      <td>21300.000000</td>\n",
       "      <td>21300.000000</td>\n",
       "    </tr>\n",
       "    <tr>\n",
       "      <th>1463</th>\n",
       "      <td>41340.000000</td>\n",
       "      <td>48180.000000</td>\n",
       "      <td>55020.000000</td>\n",
       "      <td>57500.000000</td>\n",
       "      <td>57500.000000</td>\n",
       "      <td>57500.000000</td>\n",
       "      <td>57500.000000</td>\n",
       "      <td>57500.000000</td>\n",
       "      <td>57500.000000</td>\n",
       "      <td>57500.000000</td>\n",
       "      <td>...</td>\n",
       "      <td>57500.000000</td>\n",
       "      <td>57500.000000</td>\n",
       "      <td>57500.000000</td>\n",
       "      <td>57500.000000</td>\n",
       "      <td>57500.000000</td>\n",
       "      <td>57500.000000</td>\n",
       "      <td>57500.000000</td>\n",
       "      <td>57500.000000</td>\n",
       "      <td>57500.000000</td>\n",
       "      <td>57500.000000</td>\n",
       "    </tr>\n",
       "  </tbody>\n",
       "</table>\n",
       "<p>1463 rows × 72 columns</p>\n",
       "</div>"
      ],
      "text/plain": [
       "                1             2             3             4             5   \\\n",
       "1     52800.000000  59640.000000  66480.000000  73320.000000  76600.000000   \n",
       "2     16200.000000  19620.000000  21300.000000  21300.000000  21300.000000   \n",
       "3     16200.000000  19620.000000  21300.000000  21300.000000  21300.000000   \n",
       "4     67079.704236  67079.704236  67079.704236  67079.704236  67079.704236   \n",
       "5     45960.000000  45960.000000  45960.000000  45960.000000  45960.000000   \n",
       "...            ...           ...           ...           ...           ...   \n",
       "1459  55245.936702  55245.936702  55245.936702  55245.936702  55245.936702   \n",
       "1460  21300.000000  21300.000000  21300.000000  21300.000000  21300.000000   \n",
       "1461  41340.000000  48180.000000  55020.000000  57500.000000  57500.000000   \n",
       "1462  21300.000000  21300.000000  21300.000000  21300.000000  21300.000000   \n",
       "1463  41340.000000  48180.000000  55020.000000  57500.000000  57500.000000   \n",
       "\n",
       "                6             7             8             9             10  \\\n",
       "1     76600.000000  76600.000000  76600.000000  76600.000000  76600.000000   \n",
       "2     21300.000000  21300.000000  21300.000000  21300.000000  21300.000000   \n",
       "3     21300.000000  21300.000000  21300.000000  21300.000000  21300.000000   \n",
       "4     67079.704236  67079.704236  67079.704236  67079.704236  67079.704236   \n",
       "5     45960.000000  45960.000000  45960.000000  45960.000000  45960.000000   \n",
       "...            ...           ...           ...           ...           ...   \n",
       "1459  55245.936702  55245.936702  55245.936702  55245.936702  55245.936702   \n",
       "1460  21300.000000  21300.000000  21300.000000  21300.000000  21300.000000   \n",
       "1461  57500.000000  57500.000000  57500.000000  57500.000000  57500.000000   \n",
       "1462  21300.000000  21300.000000  21300.000000  21300.000000  21300.000000   \n",
       "1463  57500.000000  57500.000000  57500.000000  57500.000000  57500.000000   \n",
       "\n",
       "      ...            63            64            65            66  \\\n",
       "1     ...  76600.000000  76600.000000  76600.000000  76600.000000   \n",
       "2     ...  21300.000000  21300.000000  21300.000000  21300.000000   \n",
       "3     ...  20767.399995  20767.399995  20767.399995  20767.399995   \n",
       "4     ...  77000.000000  77000.000000  77000.000000  77000.000000   \n",
       "5     ...  76600.000000  76600.000000  76600.000000  76600.000000   \n",
       "...   ...           ...           ...           ...           ...   \n",
       "1459  ...  57500.000000  57500.000000  57500.000000  57500.000000   \n",
       "1460  ...  21300.000000  21300.000000  21300.000000  21300.000000   \n",
       "1461  ...  57500.000000  57500.000000  57500.000000  57500.000000   \n",
       "1462  ...  21300.000000  21300.000000  21300.000000  21300.000000   \n",
       "1463  ...  57500.000000  57500.000000  57500.000000  57500.000000   \n",
       "\n",
       "                67            68            69            70            71  \\\n",
       "1     76600.000000  76600.000000  76600.000000  76600.000000  76600.000000   \n",
       "2     21300.000000  21300.000000  21300.000000  21300.000000  21300.000000   \n",
       "3     20767.399995  20767.399995  20767.399995  20767.399995  20767.399995   \n",
       "4     77000.000000  77000.000000  77000.000000  77000.000000  77000.000000   \n",
       "5     76600.000000  76600.000000  76600.000000  76600.000000  76600.000000   \n",
       "...            ...           ...           ...           ...           ...   \n",
       "1459  57500.000000  57500.000000  57500.000000  57500.000000  57500.000000   \n",
       "1460  21300.000000  21300.000000  21300.000000  21300.000000  21300.000000   \n",
       "1461  57500.000000  57500.000000  57500.000000  57500.000000  57500.000000   \n",
       "1462  21300.000000  21300.000000  21300.000000  21300.000000  21300.000000   \n",
       "1463  57500.000000  57500.000000  57500.000000  57500.000000  57500.000000   \n",
       "\n",
       "                72  \n",
       "1     76600.000000  \n",
       "2     21300.000000  \n",
       "3     20767.399995  \n",
       "4     77000.000000  \n",
       "5     76600.000000  \n",
       "...            ...  \n",
       "1459  57500.000000  \n",
       "1460  21300.000000  \n",
       "1461  57500.000000  \n",
       "1462  21300.000000  \n",
       "1463  57500.000000  \n",
       "\n",
       "[1463 rows x 72 columns]"
      ]
     },
     "execution_count": 18,
     "metadata": {},
     "output_type": "execute_result"
    }
   ],
   "source": [
    "EEV_df"
   ]
  },
  {
   "cell_type": "code",
   "execution_count": 19,
   "id": "49aeca16",
   "metadata": {
    "ExecuteTime": {
     "end_time": "2023-01-24T15:20:05.244386Z",
     "start_time": "2023-01-24T15:20:05.198384Z"
    },
    "pycharm": {
     "name": "#%%\n"
    }
   },
   "outputs": [
    {
     "data": {
      "text/html": [
       "<div>\n",
       "<style scoped>\n",
       "    .dataframe tbody tr th:only-of-type {\n",
       "        vertical-align: middle;\n",
       "    }\n",
       "\n",
       "    .dataframe tbody tr th {\n",
       "        vertical-align: top;\n",
       "    }\n",
       "\n",
       "    .dataframe thead th {\n",
       "        text-align: right;\n",
       "    }\n",
       "</style>\n",
       "<table border=\"1\" class=\"dataframe\">\n",
       "  <thead>\n",
       "    <tr style=\"text-align: right;\">\n",
       "      <th></th>\n",
       "      <th>1</th>\n",
       "      <th>2</th>\n",
       "      <th>3</th>\n",
       "      <th>4</th>\n",
       "      <th>5</th>\n",
       "      <th>6</th>\n",
       "      <th>7</th>\n",
       "      <th>8</th>\n",
       "      <th>9</th>\n",
       "      <th>10</th>\n",
       "      <th>...</th>\n",
       "      <th>63</th>\n",
       "      <th>64</th>\n",
       "      <th>65</th>\n",
       "      <th>66</th>\n",
       "      <th>67</th>\n",
       "      <th>68</th>\n",
       "      <th>69</th>\n",
       "      <th>70</th>\n",
       "      <th>71</th>\n",
       "      <th>72</th>\n",
       "    </tr>\n",
       "  </thead>\n",
       "  <tbody>\n",
       "    <tr>\n",
       "      <th>1</th>\n",
       "      <td>7200.000000</td>\n",
       "      <td>7200.0</td>\n",
       "      <td>7200.000000</td>\n",
       "      <td>7200.000000</td>\n",
       "      <td>3452.631579</td>\n",
       "      <td>0.0</td>\n",
       "      <td>0.0</td>\n",
       "      <td>0.0</td>\n",
       "      <td>0.0</td>\n",
       "      <td>1901.392611</td>\n",
       "      <td>...</td>\n",
       "      <td>0.000000</td>\n",
       "      <td>0.0</td>\n",
       "      <td>0.0</td>\n",
       "      <td>0.0</td>\n",
       "      <td>0.0</td>\n",
       "      <td>0.000000</td>\n",
       "      <td>0.0</td>\n",
       "      <td>0.000000</td>\n",
       "      <td>0.0</td>\n",
       "      <td>1901.392611</td>\n",
       "    </tr>\n",
       "    <tr>\n",
       "      <th>2</th>\n",
       "      <td>3600.000000</td>\n",
       "      <td>3600.0</td>\n",
       "      <td>1768.421053</td>\n",
       "      <td>0.000000</td>\n",
       "      <td>0.000000</td>\n",
       "      <td>0.0</td>\n",
       "      <td>0.0</td>\n",
       "      <td>0.0</td>\n",
       "      <td>0.0</td>\n",
       "      <td>0.000000</td>\n",
       "      <td>...</td>\n",
       "      <td>0.000000</td>\n",
       "      <td>0.0</td>\n",
       "      <td>0.0</td>\n",
       "      <td>0.0</td>\n",
       "      <td>0.0</td>\n",
       "      <td>0.000000</td>\n",
       "      <td>0.0</td>\n",
       "      <td>0.000000</td>\n",
       "      <td>0.0</td>\n",
       "      <td>0.000000</td>\n",
       "    </tr>\n",
       "    <tr>\n",
       "      <th>3</th>\n",
       "      <td>3600.000000</td>\n",
       "      <td>3600.0</td>\n",
       "      <td>1768.421053</td>\n",
       "      <td>0.000000</td>\n",
       "      <td>0.000000</td>\n",
       "      <td>0.0</td>\n",
       "      <td>0.0</td>\n",
       "      <td>0.0</td>\n",
       "      <td>0.0</td>\n",
       "      <td>0.000000</td>\n",
       "      <td>...</td>\n",
       "      <td>0.000000</td>\n",
       "      <td>0.0</td>\n",
       "      <td>0.0</td>\n",
       "      <td>0.0</td>\n",
       "      <td>0.0</td>\n",
       "      <td>0.000000</td>\n",
       "      <td>0.0</td>\n",
       "      <td>0.000000</td>\n",
       "      <td>0.0</td>\n",
       "      <td>3600.000000</td>\n",
       "    </tr>\n",
       "    <tr>\n",
       "      <th>4</th>\n",
       "      <td>22000.000000</td>\n",
       "      <td>0.0</td>\n",
       "      <td>0.000000</td>\n",
       "      <td>0.000000</td>\n",
       "      <td>0.000000</td>\n",
       "      <td>0.0</td>\n",
       "      <td>0.0</td>\n",
       "      <td>0.0</td>\n",
       "      <td>0.0</td>\n",
       "      <td>0.000000</td>\n",
       "      <td>...</td>\n",
       "      <td>21.363962</td>\n",
       "      <td>0.0</td>\n",
       "      <td>0.0</td>\n",
       "      <td>0.0</td>\n",
       "      <td>0.0</td>\n",
       "      <td>0.000000</td>\n",
       "      <td>0.0</td>\n",
       "      <td>0.000000</td>\n",
       "      <td>0.0</td>\n",
       "      <td>0.000000</td>\n",
       "    </tr>\n",
       "    <tr>\n",
       "      <th>5</th>\n",
       "      <td>0.000000</td>\n",
       "      <td>0.0</td>\n",
       "      <td>0.000000</td>\n",
       "      <td>0.000000</td>\n",
       "      <td>0.000000</td>\n",
       "      <td>0.0</td>\n",
       "      <td>0.0</td>\n",
       "      <td>0.0</td>\n",
       "      <td>0.0</td>\n",
       "      <td>0.000000</td>\n",
       "      <td>...</td>\n",
       "      <td>919.504921</td>\n",
       "      <td>0.0</td>\n",
       "      <td>0.0</td>\n",
       "      <td>0.0</td>\n",
       "      <td>0.0</td>\n",
       "      <td>919.504921</td>\n",
       "      <td>0.0</td>\n",
       "      <td>919.504921</td>\n",
       "      <td>0.0</td>\n",
       "      <td>919.504921</td>\n",
       "    </tr>\n",
       "    <tr>\n",
       "      <th>...</th>\n",
       "      <td>...</td>\n",
       "      <td>...</td>\n",
       "      <td>...</td>\n",
       "      <td>...</td>\n",
       "      <td>...</td>\n",
       "      <td>...</td>\n",
       "      <td>...</td>\n",
       "      <td>...</td>\n",
       "      <td>...</td>\n",
       "      <td>...</td>\n",
       "      <td>...</td>\n",
       "      <td>...</td>\n",
       "      <td>...</td>\n",
       "      <td>...</td>\n",
       "      <td>...</td>\n",
       "      <td>...</td>\n",
       "      <td>...</td>\n",
       "      <td>...</td>\n",
       "      <td>...</td>\n",
       "      <td>...</td>\n",
       "      <td>...</td>\n",
       "    </tr>\n",
       "    <tr>\n",
       "      <th>1459</th>\n",
       "      <td>22000.000000</td>\n",
       "      <td>0.0</td>\n",
       "      <td>0.000000</td>\n",
       "      <td>0.000000</td>\n",
       "      <td>0.000000</td>\n",
       "      <td>0.0</td>\n",
       "      <td>0.0</td>\n",
       "      <td>0.0</td>\n",
       "      <td>0.0</td>\n",
       "      <td>0.000000</td>\n",
       "      <td>...</td>\n",
       "      <td>162.171893</td>\n",
       "      <td>0.0</td>\n",
       "      <td>0.0</td>\n",
       "      <td>0.0</td>\n",
       "      <td>0.0</td>\n",
       "      <td>0.000000</td>\n",
       "      <td>0.0</td>\n",
       "      <td>0.000000</td>\n",
       "      <td>0.0</td>\n",
       "      <td>0.000000</td>\n",
       "    </tr>\n",
       "    <tr>\n",
       "      <th>1460</th>\n",
       "      <td>9067.957693</td>\n",
       "      <td>0.0</td>\n",
       "      <td>0.000000</td>\n",
       "      <td>0.000000</td>\n",
       "      <td>0.000000</td>\n",
       "      <td>0.0</td>\n",
       "      <td>0.0</td>\n",
       "      <td>0.0</td>\n",
       "      <td>0.0</td>\n",
       "      <td>0.000000</td>\n",
       "      <td>...</td>\n",
       "      <td>99.536641</td>\n",
       "      <td>0.0</td>\n",
       "      <td>0.0</td>\n",
       "      <td>0.0</td>\n",
       "      <td>0.0</td>\n",
       "      <td>0.000000</td>\n",
       "      <td>0.0</td>\n",
       "      <td>0.000000</td>\n",
       "      <td>0.0</td>\n",
       "      <td>0.000000</td>\n",
       "    </tr>\n",
       "    <tr>\n",
       "      <th>1461</th>\n",
       "      <td>7200.000000</td>\n",
       "      <td>7200.0</td>\n",
       "      <td>7200.000000</td>\n",
       "      <td>2610.526316</td>\n",
       "      <td>0.000000</td>\n",
       "      <td>0.0</td>\n",
       "      <td>0.0</td>\n",
       "      <td>0.0</td>\n",
       "      <td>0.0</td>\n",
       "      <td>0.000000</td>\n",
       "      <td>...</td>\n",
       "      <td>0.000000</td>\n",
       "      <td>0.0</td>\n",
       "      <td>0.0</td>\n",
       "      <td>0.0</td>\n",
       "      <td>0.0</td>\n",
       "      <td>0.000000</td>\n",
       "      <td>0.0</td>\n",
       "      <td>0.000000</td>\n",
       "      <td>0.0</td>\n",
       "      <td>0.000000</td>\n",
       "    </tr>\n",
       "    <tr>\n",
       "      <th>1462</th>\n",
       "      <td>8968.421053</td>\n",
       "      <td>0.0</td>\n",
       "      <td>0.000000</td>\n",
       "      <td>0.000000</td>\n",
       "      <td>0.000000</td>\n",
       "      <td>0.0</td>\n",
       "      <td>0.0</td>\n",
       "      <td>0.0</td>\n",
       "      <td>0.0</td>\n",
       "      <td>0.000000</td>\n",
       "      <td>...</td>\n",
       "      <td>0.000000</td>\n",
       "      <td>0.0</td>\n",
       "      <td>0.0</td>\n",
       "      <td>0.0</td>\n",
       "      <td>0.0</td>\n",
       "      <td>0.000000</td>\n",
       "      <td>0.0</td>\n",
       "      <td>0.000000</td>\n",
       "      <td>0.0</td>\n",
       "      <td>0.000000</td>\n",
       "    </tr>\n",
       "    <tr>\n",
       "      <th>1463</th>\n",
       "      <td>7200.000000</td>\n",
       "      <td>7200.0</td>\n",
       "      <td>7200.000000</td>\n",
       "      <td>2610.526316</td>\n",
       "      <td>0.000000</td>\n",
       "      <td>0.0</td>\n",
       "      <td>0.0</td>\n",
       "      <td>0.0</td>\n",
       "      <td>0.0</td>\n",
       "      <td>0.000000</td>\n",
       "      <td>...</td>\n",
       "      <td>0.000000</td>\n",
       "      <td>0.0</td>\n",
       "      <td>0.0</td>\n",
       "      <td>0.0</td>\n",
       "      <td>0.0</td>\n",
       "      <td>0.000000</td>\n",
       "      <td>0.0</td>\n",
       "      <td>0.000000</td>\n",
       "      <td>0.0</td>\n",
       "      <td>0.000000</td>\n",
       "    </tr>\n",
       "  </tbody>\n",
       "</table>\n",
       "<p>1463 rows × 72 columns</p>\n",
       "</div>"
      ],
      "text/plain": [
       "                1       2            3            4            5    6    7   \\\n",
       "1      7200.000000  7200.0  7200.000000  7200.000000  3452.631579  0.0  0.0   \n",
       "2      3600.000000  3600.0  1768.421053     0.000000     0.000000  0.0  0.0   \n",
       "3      3600.000000  3600.0  1768.421053     0.000000     0.000000  0.0  0.0   \n",
       "4     22000.000000     0.0     0.000000     0.000000     0.000000  0.0  0.0   \n",
       "5         0.000000     0.0     0.000000     0.000000     0.000000  0.0  0.0   \n",
       "...            ...     ...          ...          ...          ...  ...  ...   \n",
       "1459  22000.000000     0.0     0.000000     0.000000     0.000000  0.0  0.0   \n",
       "1460   9067.957693     0.0     0.000000     0.000000     0.000000  0.0  0.0   \n",
       "1461   7200.000000  7200.0  7200.000000  2610.526316     0.000000  0.0  0.0   \n",
       "1462   8968.421053     0.0     0.000000     0.000000     0.000000  0.0  0.0   \n",
       "1463   7200.000000  7200.0  7200.000000  2610.526316     0.000000  0.0  0.0   \n",
       "\n",
       "       8    9            10  ...          63   64   65   66   67          68  \\\n",
       "1     0.0  0.0  1901.392611  ...    0.000000  0.0  0.0  0.0  0.0    0.000000   \n",
       "2     0.0  0.0     0.000000  ...    0.000000  0.0  0.0  0.0  0.0    0.000000   \n",
       "3     0.0  0.0     0.000000  ...    0.000000  0.0  0.0  0.0  0.0    0.000000   \n",
       "4     0.0  0.0     0.000000  ...   21.363962  0.0  0.0  0.0  0.0    0.000000   \n",
       "5     0.0  0.0     0.000000  ...  919.504921  0.0  0.0  0.0  0.0  919.504921   \n",
       "...   ...  ...          ...  ...         ...  ...  ...  ...  ...         ...   \n",
       "1459  0.0  0.0     0.000000  ...  162.171893  0.0  0.0  0.0  0.0    0.000000   \n",
       "1460  0.0  0.0     0.000000  ...   99.536641  0.0  0.0  0.0  0.0    0.000000   \n",
       "1461  0.0  0.0     0.000000  ...    0.000000  0.0  0.0  0.0  0.0    0.000000   \n",
       "1462  0.0  0.0     0.000000  ...    0.000000  0.0  0.0  0.0  0.0    0.000000   \n",
       "1463  0.0  0.0     0.000000  ...    0.000000  0.0  0.0  0.0  0.0    0.000000   \n",
       "\n",
       "       69          70   71           72  \n",
       "1     0.0    0.000000  0.0  1901.392611  \n",
       "2     0.0    0.000000  0.0     0.000000  \n",
       "3     0.0    0.000000  0.0  3600.000000  \n",
       "4     0.0    0.000000  0.0     0.000000  \n",
       "5     0.0  919.504921  0.0   919.504921  \n",
       "...   ...         ...  ...          ...  \n",
       "1459  0.0    0.000000  0.0     0.000000  \n",
       "1460  0.0    0.000000  0.0     0.000000  \n",
       "1461  0.0    0.000000  0.0     0.000000  \n",
       "1462  0.0    0.000000  0.0     0.000000  \n",
       "1463  0.0    0.000000  0.0     0.000000  \n",
       "\n",
       "[1463 rows x 72 columns]"
      ]
     },
     "execution_count": 19,
     "metadata": {},
     "output_type": "execute_result"
    }
   ],
   "source": [
    "PEV_df"
   ]
  },
  {
   "cell_type": "code",
   "execution_count": 20,
   "id": "936ae121",
   "metadata": {
    "ExecuteTime": {
     "end_time": "2023-01-24T15:20:05.257387Z",
     "start_time": "2023-01-24T15:20:05.246386Z"
    },
    "pycharm": {
     "name": "#%%\n"
    }
   },
   "outputs": [
    {
     "data": {
      "text/plain": [
       "1     9.242645e+06\n",
       "2     3.470611e+06\n",
       "3     2.815705e+06\n",
       "4     1.777347e+06\n",
       "5     1.023242e+06\n",
       "          ...     \n",
       "68    2.203442e+05\n",
       "69    1.589199e+05\n",
       "70    3.195400e+05\n",
       "71    1.257768e+06\n",
       "72    1.729723e+06\n",
       "Length: 72, dtype: float64"
      ]
     },
     "execution_count": 20,
     "metadata": {},
     "output_type": "execute_result"
    }
   ],
   "source": [
    "PEV_df.sum()"
   ]
  },
  {
   "cell_type": "code",
   "execution_count": 21,
   "id": "42d3cfd9",
   "metadata": {
    "ExecuteTime": {
     "end_time": "2023-01-24T16:51:24.001809Z",
     "start_time": "2023-01-24T16:51:23.579795Z"
    },
    "pycharm": {
     "name": "#%%\n"
    }
   },
   "outputs": [],
   "source": [
    "Etriprelax_df = ext_pyomo_vals(model.Etriprelax)"
   ]
  },
  {
   "cell_type": "code",
   "execution_count": 22,
   "id": "54eb97bf",
   "metadata": {
    "ExecuteTime": {
     "end_time": "2023-01-24T16:51:28.568012Z",
     "start_time": "2023-01-24T16:51:28.536010Z"
    },
    "pycharm": {
     "name": "#%%\n"
    }
   },
   "outputs": [
    {
     "data": {
      "text/plain": [
       "1     0.000000e+00\n",
       "2     0.000000e+00\n",
       "3     0.000000e+00\n",
       "4     0.000000e+00\n",
       "5     0.000000e+00\n",
       "          ...     \n",
       "68    7.887033e+03\n",
       "69    4.899160e+04\n",
       "70    0.000000e+00\n",
       "71    0.000000e+00\n",
       "72    1.569822e+06\n",
       "Length: 72, dtype: float64"
      ]
     },
     "execution_count": 22,
     "metadata": {},
     "output_type": "execute_result"
    }
   ],
   "source": [
    "Etriprelax_df.sum()"
   ]
  },
  {
   "cell_type": "code",
   "execution_count": 23,
   "id": "1a276104",
   "metadata": {
    "ExecuteTime": {
     "end_time": "2023-01-24T16:51:34.044272Z",
     "start_time": "2023-01-24T16:51:33.883266Z"
    },
    "pycharm": {
     "name": "#%%\n"
    }
   },
   "outputs": [],
   "source": [
    "Eminsocrelax_df = ext_pyomo_vals(model.Eminsocrelax)"
   ]
  },
  {
   "cell_type": "code",
   "execution_count": 24,
   "id": "128b3222",
   "metadata": {
    "ExecuteTime": {
     "end_time": "2023-01-24T16:51:40.975562Z",
     "start_time": "2023-01-24T16:51:40.959561Z"
    },
    "pycharm": {
     "name": "#%%\n"
    }
   },
   "outputs": [
    {
     "data": {
      "text/plain": [
       "1     0.0\n",
       "2     0.0\n",
       "3     0.0\n",
       "4     0.0\n",
       "5     0.0\n",
       "     ... \n",
       "68    0.0\n",
       "69    0.0\n",
       "70    0.0\n",
       "71    0.0\n",
       "72    0.0\n",
       "Length: 72, dtype: float64"
      ]
     },
     "execution_count": 24,
     "metadata": {},
     "output_type": "execute_result"
    }
   ],
   "source": [
    "Eminsocrelax_df.sum()"
   ]
  },
  {
   "cell_type": "code",
   "execution_count": 25,
   "id": "ce23224e",
   "metadata": {
    "ExecuteTime": {
     "end_time": "2023-01-24T16:51:46.544838Z",
     "start_time": "2023-01-24T16:51:46.391833Z"
    },
    "pycharm": {
     "name": "#%%\n"
    }
   },
   "outputs": [],
   "source": [
    "Etripn_df = ext_pyomo_vals(model.Etripn)"
   ]
  },
  {
   "cell_type": "code",
   "execution_count": 26,
   "id": "da345abb",
   "metadata": {
    "ExecuteTime": {
     "end_time": "2023-01-24T16:51:52.227062Z",
     "start_time": "2023-01-24T16:51:52.216062Z"
    },
    "pycharm": {
     "name": "#%%\n"
    }
   },
   "outputs": [
    {
     "data": {
      "text/plain": [
       "1     1.729799e+04\n",
       "2     0.000000e+00\n",
       "3     0.000000e+00\n",
       "4     0.000000e+00\n",
       "5     0.000000e+00\n",
       "          ...     \n",
       "68    6.291725e+05\n",
       "69    1.044228e+06\n",
       "70    7.452049e+05\n",
       "71    1.034969e+06\n",
       "72    8.203071e+05\n",
       "Length: 72, dtype: float64"
      ]
     },
     "execution_count": 26,
     "metadata": {},
     "output_type": "execute_result"
    }
   ],
   "source": [
    "Etripn_df.sum()"
   ]
  },
  {
   "cell_type": "markdown",
   "id": "320eab2f",
   "metadata": {
    "pycharm": {
     "name": "#%% md\n"
    }
   },
   "source": [
    "## Save results in csv files"
   ]
  },
  {
   "cell_type": "code",
   "execution_count": 27,
   "id": "b186723e",
   "metadata": {
    "ExecuteTime": {
     "end_time": "2023-01-24T17:21:06.497248Z",
     "start_time": "2023-01-24T17:21:06.341241Z"
    },
    "pycharm": {
     "name": "#%%\n"
    }
   },
   "outputs": [],
   "source": [
    "import os \n",
    "folder = 'results_Dumb_' + str(n_evs)\n",
    "\n",
    "if not os.path.exists(folder):\n",
    "    os.makedirs(folder)\n",
    "    \n",
    "EEV_df.to_csv(folder + '/EEV.csv')\n",
    "PEV_df.to_csv(folder + '/PEV.csv')\n",
    "PEV_df.sum().to_csv(folder + '/PEV_h.csv')\n",
    "\n",
    "Etriprelax_df.to_csv(folder + '/Etriprelax.csv')\n",
    "Etriprelax_df.sum().to_csv(folder + '/Etriprelax_h.csv')\n",
    "\n",
    "Eminsocrelax_df.to_csv(folder + '/Eminsocrelax.csv')\n",
    "Eminsocrelax_df.sum().to_csv(folder + '/Eminsocrelax_h.csv')\n",
    "\n",
    "Etripn_df.to_csv(folder + '/Etripn.csv')\n",
    "Etripn_df.sum().to_csv(folder + '/Etripn_h.csv')"
   ]
  },
  {
   "cell_type": "code",
   "execution_count": null,
   "id": "d2ce0e2b",
   "metadata": {
    "pycharm": {
     "name": "#%%\n"
    }
   },
   "outputs": [],
   "source": []
  },
  {
   "cell_type": "code",
   "execution_count": null,
   "id": "da623794",
   "metadata": {},
   "outputs": [],
   "source": []
  }
 ],
 "metadata": {
  "kernelspec": {
   "display_name": "Python 3 (ipykernel)",
   "language": "python",
   "name": "python3"
  },
  "language_info": {
   "codemirror_mode": {
    "name": "ipython",
    "version": 3
   },
   "file_extension": ".py",
   "mimetype": "text/x-python",
   "name": "python",
   "nbconvert_exporter": "python",
   "pygments_lexer": "ipython3",
   "version": "3.10.10"
  },
  "toc": {
   "base_numbering": 1,
   "nav_menu": {},
   "number_sections": true,
   "sideBar": true,
   "skip_h1_title": false,
   "title_cell": "Table of Contents",
   "title_sidebar": "Contents",
   "toc_cell": false,
   "toc_position": {},
   "toc_section_display": true,
   "toc_window_display": false
  }
 },
 "nbformat": 4,
 "nbformat_minor": 5
}
