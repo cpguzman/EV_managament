{
 "cells": [
  {
   "cell_type": "markdown",
   "id": "465a4b9a",
   "metadata": {
    "pycharm": {
     "name": "#%% md\n"
    }
   },
   "source": [
    "## Import packages"
   ]
  },
  {
   "cell_type": "code",
   "execution_count": 1,
   "id": "1ddb793e",
   "metadata": {
    "ExecuteTime": {
     "end_time": "2023-01-24T15:19:36.727069Z",
     "start_time": "2023-01-24T15:19:35.589009Z"
    },
    "pycharm": {
     "name": "#%%\n"
    }
   },
   "outputs": [],
   "source": [
    "import pyomo\n",
    "import pyomo.opt\n",
    "import pyomo.environ as pyo\n",
    "import numpy as np\n",
    "import pandas as pd\n",
    "import matplotlib as plt"
   ]
  },
  {
   "cell_type": "code",
   "execution_count": 2,
   "id": "0e61a162",
   "metadata": {
    "ExecuteTime": {
     "end_time": "2023-01-24T15:19:36.737069Z",
     "start_time": "2023-01-24T15:19:36.727069Z"
    },
    "pycharm": {
     "name": "#%%\n"
    }
   },
   "outputs": [],
   "source": [
    "n_time = 24"
   ]
  },
  {
   "cell_type": "code",
   "execution_count": 3,
   "id": "ec8eda0e",
   "metadata": {
    "ExecuteTime": {
     "end_time": "2023-01-24T15:19:36.750070Z",
     "start_time": "2023-01-24T15:19:36.737069Z"
    },
    "pycharm": {
     "name": "#%%\n"
    }
   },
   "outputs": [],
   "source": [
    "def _auxDictionary(a):\n",
    "    temp_dictionary = {}\n",
    "    if len(a.shape) == 3:\n",
    "        for dim0 in np.arange(a.shape[0]):\n",
    "            for dim1 in np.arange(a.shape[1]):\n",
    "                for dim2 in np.arange(a.shape[2]):\n",
    "                    temp_dictionary[(dim0+1, dim1+1, dim2+1)] = a[dim0, dim1, dim2]\n",
    "    elif len(a.shape) == 2:\n",
    "        for dim0 in np.arange(a.shape[0]):\n",
    "            for dim1 in np.arange(a.shape[1]):\n",
    "                temp_dictionary[(dim0+1, dim1+1)] = a[dim0, dim1]\n",
    "    else:\n",
    "        for dim0 in np.arange(a.shape[0]):\n",
    "            temp_dictionary[(dim0+1)] = a[dim0]\n",
    "    return temp_dictionary\n",
    "#temp_dict1 = _auxDictionary(loadLimit)"
   ]
  },
  {
   "cell_type": "markdown",
   "id": "e992bdc1",
   "metadata": {
    "pycharm": {
     "name": "#%% md\n"
    }
   },
   "source": [
    "## Data"
   ]
  },
  {
   "cell_type": "code",
   "execution_count": 4,
   "id": "a83cd167",
   "metadata": {
    "ExecuteTime": {
     "end_time": "2023-01-24T15:19:36.783071Z",
     "start_time": "2023-01-24T15:19:36.753070Z"
    },
    "pycharm": {
     "name": "#%%\n"
    }
   },
   "outputs": [],
   "source": [
    "data = {}\n",
    "data['Inputs'] = pd.read_csv('Inputs.csv')\n",
    "data['EVs_Inputs'] = pd.read_csv('EVs_Inputs.csv')\n",
    "data['alpha'] = pd.read_csv('alpha.csv')\n",
    "data['PchmaxEV'] = pd.read_csv('PchmaxEV.csv')\n",
    "data['S'] = pd.read_csv('S.csv')"
   ]
  },
  {
   "cell_type": "code",
   "execution_count": 5,
   "id": "41181e1c",
   "metadata": {
    "ExecuteTime": {
     "end_time": "2023-01-24T15:19:36.788072Z",
     "start_time": "2023-01-24T15:19:36.785072Z"
    },
    "pycharm": {
     "name": "#%%\n"
    }
   },
   "outputs": [],
   "source": [
    "n_evs = data['EVs_Inputs']['Esoc'].size"
   ]
  },
  {
   "cell_type": "markdown",
   "id": "ac8ecfa6",
   "metadata": {
    "pycharm": {
     "name": "#%% md\n"
    }
   },
   "source": [
    "## Start Time"
   ]
  },
  {
   "cell_type": "code",
   "execution_count": 6,
   "id": "2d0e60f7",
   "metadata": {
    "pycharm": {
     "name": "#%%\n"
    }
   },
   "outputs": [
    {
     "name": "stdout",
     "output_type": "stream",
     "text": [
      "Start Time = 17:51:56\n"
     ]
    }
   ],
   "source": [
    "from datetime import datetime\n",
    "\n",
    "now = datetime.now()\n",
    "\n",
    "start_time = now.strftime(\"%H:%M:%S\")\n",
    "print(\"Start Time =\", start_time)"
   ]
  },
  {
   "cell_type": "markdown",
   "id": "3d6c5e1f",
   "metadata": {
    "pycharm": {
     "name": "#%% md\n"
    }
   },
   "source": [
    "## Sets"
   ]
  },
  {
   "cell_type": "code",
   "execution_count": 7,
   "id": "b91563a4",
   "metadata": {
    "ExecuteTime": {
     "end_time": "2023-01-24T15:19:36.799072Z",
     "start_time": "2023-01-24T15:19:36.790072Z"
    },
    "pycharm": {
     "name": "#%%\n"
    }
   },
   "outputs": [],
   "source": [
    "model = pyo.ConcreteModel()\n",
    "\n",
    "model.ev = pyo.Set(initialize = np.arange(1, n_evs + 1))\n",
    "model.t = pyo.Set(initialize = np.arange(1, n_time + 1))\n"
   ]
  },
  {
   "cell_type": "markdown",
   "id": "5983637f",
   "metadata": {
    "pycharm": {
     "name": "#%% md\n"
    }
   },
   "source": [
    "## Parameters"
   ]
  },
  {
   "cell_type": "code",
   "execution_count": 8,
   "id": "84aa4cd4",
   "metadata": {
    "ExecuteTime": {
     "end_time": "2023-01-24T15:19:38.190108Z",
     "start_time": "2023-01-24T15:19:36.801073Z"
    },
    "pycharm": {
     "name": "#%%\n"
    }
   },
   "outputs": [],
   "source": [
    "model.EEVmax = pyo.Param(model.ev, initialize =_auxDictionary(data['EVs_Inputs'].to_numpy()[:,2]))\n",
    "model.EEVmin = pyo.Param(model.ev, initialize =_auxDictionary(data['EVs_Inputs'].to_numpy()[:,1]))\n",
    "model.ESoc = pyo.Param(model.ev, initialize =_auxDictionary(data['EVs_Inputs'].to_numpy()[:,0]))\n",
    "model.dT = pyo.Param(model.t, initialize =_auxDictionary(data['Inputs'].to_numpy()[:,0]))\n",
    "model.cDA = pyo.Param(model.t, initialize =_auxDictionary(data['Inputs'].to_numpy()[:,1]))\n",
    "model.PchmaxEV = pyo.Param(model.ev, model.t, initialize =_auxDictionary(data['PchmaxEV'].to_numpy()))\n",
    "model.S = pyo.Param(model.ev, model.t, initialize = _auxDictionary(data['S'].to_numpy()))\n",
    "model.alpha = pyo.Param(model.ev, model.t, initialize = _auxDictionary(data['alpha'].to_numpy()))\n",
    "model.RealHour = pyo.Param(model.t, initialize=_auxDictionary(data['Inputs'].to_numpy()[:,2]))\n",
    "model.penalty1 = 1000\n",
    "model.penalty2 = 1000\n",
    "model.penalty3 = 0.6\n",
    "model.Etrip = pyo.Param(model.ev, initialize=_auxDictionary(data['EVs_Inputs'].to_numpy()[:,3]))\n",
    "model.n = 0.95\n",
    "model.m = 0.6\n",
    "model.factor = 1"
   ]
  },
  {
   "cell_type": "markdown",
   "id": "32bfa69e",
   "metadata": {
    "pycharm": {
     "name": "#%% md\n"
    }
   },
   "source": [
    "## Variables"
   ]
  },
  {
   "cell_type": "code",
   "execution_count": 9,
   "id": "cf6d304b",
   "metadata": {
    "ExecuteTime": {
     "end_time": "2023-01-24T15:19:38.458122Z",
     "start_time": "2023-01-24T15:19:38.190108Z"
    },
    "pycharm": {
     "name": "#%%\n"
    }
   },
   "outputs": [],
   "source": [
    "model.PEV = pyo.Var(model.ev, model.t, domain = pyo.NonNegativeReals, initialize = 0)\n",
    "model.PEVdc = pyo.Var(model.ev, model.t, domain = pyo.NonNegativeReals, initialize = 0)\n",
    "model.EEV = pyo.Var(model.ev, model.t, domain = pyo.Reals, initialize = 0)\n",
    "model.Etriprelax = pyo.Var(model.ev, model.t, domain = pyo.NonNegativeReals, initialize = 0)\n",
    "model.Eminsocrelax = pyo.Var(model.ev, model.t, domain = pyo.NonNegativeReals, initialize = 0)\n",
    "model.Etripn = pyo.Var(model.ev, model.t, domain = pyo.Reals, initialize = 0)"
   ]
  },
  {
   "cell_type": "markdown",
   "id": "50d04277",
   "metadata": {
    "pycharm": {
     "name": "#%% md\n"
    }
   },
   "source": [
    "## Constraints"
   ]
  },
  {
   "cell_type": "code",
   "execution_count": 10,
   "id": "a8a6f316",
   "metadata": {
    "ExecuteTime": {
     "end_time": "2023-01-24T15:19:43.182165Z",
     "start_time": "2023-01-24T15:19:38.460122Z"
    },
    "pycharm": {
     "name": "#%%\n"
    }
   },
   "outputs": [],
   "source": [
    "def _balance_etripn(m,ev,t): \n",
    "    return m.Etripn[ev,t] == m.Etrip[ev]*m.S[ev,t]/(sum([m.S[ev,k] for k in np.arange(1, n_time + 1)]))\n",
    "model.balance_etripn = pyo.Constraint(model.ev, model.t, rule = _balance_etripn)\n",
    "\n",
    "def _balance_energy_EVS3(m,ev,t): \n",
    "    if t == 24:\n",
    "        return m.EEV[ev,t] + m.Etriprelax[ev,t] >= m.EEVmax[ev]*m.m\n",
    "    return pyo.Constraint.Skip\n",
    "model.balance_energy_EVS3 = pyo.Constraint(model.ev, model.t, rule = _balance_energy_EVS3)\n",
    "\n",
    "def _balance_energy_EVS(m,ev,t): \n",
    "    if t == 1:\n",
    "        return m.EEV[ev,t] - m.Etriprelax[ev,t] == m.ESoc[ev] + m.PEV[ev,t]*m.dT[t]*m.n - m.PEVdc[ev,t]*m.dT[t]/m.n - m.Etripn[ev,t]\n",
    "    return pyo.Constraint.Skip\n",
    "model.balance_energy_EVS = pyo.Constraint(model.ev, model.t, rule = _balance_energy_EVS)\n",
    "\n",
    "def _balance_energy_EVS2(m,ev,t): \n",
    "    if t > 1:\n",
    "        return m.EEV[ev,t] - m.Etriprelax[ev,t] == m.EEV[ev,t-1] + m.PEV[ev,t]*m.dT[t]*m.n - m.PEVdc[ev,t]*m.dT[t]/m.n - m.Etripn[ev,t]\n",
    "    return pyo.Constraint.Skip\n",
    "model.balance_energy_EVS2 = pyo.Constraint(model.ev, model.t, rule = _balance_energy_EVS2)\n",
    "\n",
    "def _power_charging_limit1(m,ev,t): \n",
    "    return m.PEV[ev,t] >= 0\n",
    "model.power_charging_limit1 = pyo.Constraint(model.ev, model.t, rule = _power_charging_limit1)\n",
    "\n",
    "def _power_charging_limit2(m,ev,t): \n",
    "    return m.PEV[ev,t] <= m.alpha[ev,t]*m.PchmaxEV[ev,t]*m.factor\n",
    "model.power_charging_limit2 = pyo.Constraint(model.ev, model.t, rule = _power_charging_limit2)\n",
    "\n",
    "def _power_discharging_limit2(m,ev,t): \n",
    "    return m.PEVdc[ev,t] <= m.alpha[ev,t]*m.PchmaxEV[ev,t]*m.factor\n",
    "model.power_discharging_limit2 = pyo.Constraint(model.ev, model.t, rule = _power_discharging_limit2)\n",
    "\n",
    "def _energy_limits_EVS_1(m,ev,t): \n",
    "    return m.EEVmin[ev] <= m.EEV[ev,t] + m.Eminsocrelax[ev,t]\n",
    "model.energy_limits_EVS_1 = pyo.Constraint(model.ev, model.t, rule = _energy_limits_EVS_1)\n",
    "\n",
    "def _energy_limits_EVS_2(m,ev,t): \n",
    "    return m.EEV[ev,t] <= m.EEVmax[ev]\n",
    "model.energy_limits_EVS_2 = pyo.Constraint(model.ev, model.t, rule = _energy_limits_EVS_2)  "
   ]
  },
  {
   "cell_type": "markdown",
   "id": "bd4ceb28",
   "metadata": {
    "pycharm": {
     "name": "#%% md\n"
    }
   },
   "source": [
    "## Objective function"
   ]
  },
  {
   "cell_type": "code",
   "execution_count": 11,
   "id": "2d584a94",
   "metadata": {
    "ExecuteTime": {
     "end_time": "2023-01-24T15:19:43.979204Z",
     "start_time": "2023-01-24T15:19:43.182165Z"
    },
    "pycharm": {
     "name": "#%%\n"
    }
   },
   "outputs": [],
   "source": [
    "def _FOag(m):\n",
    "    return sum([m.EEVmax[ev] - m.EEV[ev,t] + m.Etriprelax[ev,t]*m.penalty1 + m.Eminsocrelax[ev,t]*m.penalty2 for ev in np.arange(1, n_evs + 1) for t in np.arange(1, n_time + 1)])  \n",
    "model.FOag = pyo.Objective(rule = _FOag, sense = pyo.minimize)"
   ]
  },
  {
   "cell_type": "markdown",
   "id": "8d9d00e1",
   "metadata": {
    "pycharm": {
     "name": "#%% md\n"
    }
   },
   "source": [
    "## Solve the model"
   ]
  },
  {
   "cell_type": "code",
   "execution_count": 12,
   "id": "f64949c1",
   "metadata": {
    "ExecuteTime": {
     "end_time": "2023-01-24T15:20:03.226330Z",
     "start_time": "2023-01-24T15:19:43.981204Z"
    },
    "pycharm": {
     "name": "#%%\n"
    }
   },
   "outputs": [
    {
     "name": "stdout",
     "output_type": "stream",
     "text": [
      "# ==========================================================\n",
      "# = Solver Results                                         =\n",
      "# ==========================================================\n",
      "# ----------------------------------------------------------\n",
      "#   Problem Information\n",
      "# ----------------------------------------------------------\n",
      "Problem: \n",
      "- Name: tmpud5yremw\n",
      "  Lower bound: 441610867.4512243\n",
      "  Upper bound: 441610867.4512243\n",
      "  Number of objectives: 1\n",
      "  Number of constraints: 397151\n",
      "  Number of variables: 338401\n",
      "  Number of nonzeros: 735551\n",
      "  Sense: minimize\n",
      "# ----------------------------------------------------------\n",
      "#   Solver Information\n",
      "# ----------------------------------------------------------\n",
      "Solver: \n",
      "- Status: ok\n",
      "  User time: 1.38\n",
      "  Termination condition: optimal\n",
      "  Termination message: Dual simplex - Optimal\\x3a Objective = 4.4161086745e+08\n",
      "  Error rc: 0\n",
      "  Time: 3.730412006378174\n",
      "# ----------------------------------------------------------\n",
      "#   Solution Information\n",
      "# ----------------------------------------------------------\n",
      "Solution: \n",
      "- number of solutions: 0\n",
      "  number of solutions displayed: 0\n"
     ]
    }
   ],
   "source": [
    "from pyomo.opt import SolverFactory\n",
    "\n",
    "model.write('res_V4_EC.lp',  io_options={'symbolic_solver_labels': True})\n",
    "\n",
    "# Create a solver\n",
    "#opt = pyo.SolverFactory('cbc', executable='C:/Program Files/Cbc-releases.2.10.8-x86_64-w64-mingw64/bin/cbc.exe')\n",
    "\n",
    "opt = pyo.SolverFactory('cplex', executable='C:/Program Files/IBM/ILOG/CPLEX_Studio129/cplex/bin/x64_win64/cplex.exe')\n",
    "opt.options['LogFile'] = 'res_V4_EC.log'\n",
    "\n",
    "#opt = pyo.SolverFactory('ipopt', executable='C:/Program Files/Ipopt-3.11.1-win64-intel13.1/bin/ipopt.exe')\n",
    "#opt.options['print_level'] = 12\n",
    "#opt.options['output_file'] = \"res_V5_EC.log\"\n",
    "\n",
    "results = opt.solve(model)#, tee=True)\n",
    "results.write()"
   ]
  },
  {
   "cell_type": "markdown",
   "id": "f2119b3a",
   "metadata": {
    "pycharm": {
     "name": "#%% md\n"
    }
   },
   "source": [
    "## Objective Function Value"
   ]
  },
  {
   "cell_type": "code",
   "execution_count": 13,
   "id": "75bf01b2",
   "metadata": {
    "ExecuteTime": {
     "end_time": "2023-01-24T15:20:03.541347Z",
     "start_time": "2023-01-24T15:20:03.226330Z"
    },
    "pycharm": {
     "name": "#%%\n"
    }
   },
   "outputs": [
    {
     "data": {
      "text/plain": [
       "441610867.45122325"
      ]
     },
     "execution_count": 13,
     "metadata": {},
     "output_type": "execute_result"
    }
   ],
   "source": [
    "pyo.value(model.FOag)"
   ]
  },
  {
   "cell_type": "markdown",
   "id": "375fe62a",
   "metadata": {
    "pycharm": {
     "name": "#%% md\n"
    }
   },
   "source": [
    "## End Time"
   ]
  },
  {
   "cell_type": "code",
   "execution_count": 14,
   "id": "e976d3cf",
   "metadata": {
    "pycharm": {
     "name": "#%%\n"
    }
   },
   "outputs": [
    {
     "name": "stdout",
     "output_type": "stream",
     "text": [
      "End Time = 17:54:03\n",
      "Dif: 0:02:07\n"
     ]
    }
   ],
   "source": [
    "now = datetime.now()\n",
    "\n",
    "end_time = now.strftime(\"%H:%M:%S\")\n",
    "print(\"End Time =\", end_time)\n",
    "print(\"Dif: {}\".format(datetime.strptime(end_time, \"%H:%M:%S\") - datetime.strptime(start_time, \"%H:%M:%S\")))"
   ]
  },
  {
   "cell_type": "markdown",
   "id": "6ebf9ce8",
   "metadata": {
    "pycharm": {
     "name": "#%% md\n"
    }
   },
   "source": [
    "## Cost Value"
   ]
  },
  {
   "cell_type": "code",
   "execution_count": 15,
   "id": "634d0ad7",
   "metadata": {
    "ExecuteTime": {
     "end_time": "2023-01-24T15:20:03.547348Z",
     "start_time": "2023-01-24T15:20:03.542347Z"
    },
    "pycharm": {
     "name": "#%%\n"
    }
   },
   "outputs": [],
   "source": [
    "def ext_pyomo_vals(vals):\n",
    "    # make a pd.Series from each\n",
    "    s = pd.Series(vals.extract_values(),\n",
    "                  index=vals.extract_values().keys())\n",
    "    # if the series is multi-indexed we need to unstack it...\n",
    "    if type(s.index[0]) == tuple:    # it is multi-indexed\n",
    "        s = s.unstack(level=1)\n",
    "    else:\n",
    "        # force transition from Series -> df\n",
    "        s = pd.DataFrame(s)\n",
    "    return s"
   ]
  },
  {
   "cell_type": "code",
   "execution_count": 16,
   "id": "eee3ee83",
   "metadata": {
    "ExecuteTime": {
     "end_time": "2023-01-24T15:20:05.134380Z",
     "start_time": "2023-01-24T15:20:03.549348Z"
    },
    "pycharm": {
     "name": "#%%\n"
    }
   },
   "outputs": [
    {
     "name": "stdout",
     "output_type": "stream",
     "text": [
      "Charge cost: 4048543.068894738\n"
     ]
    }
   ],
   "source": [
    "PEV_df = ext_pyomo_vals(model.PEV)\n",
    "PEVdc_df = ext_pyomo_vals(model.PEVdc)\n",
    "dT_df = ext_pyomo_vals(model.dT)\n",
    "cDA_df = ext_pyomo_vals(model.cDA)\n",
    "EEV_df = ext_pyomo_vals(model.EEV)\n",
    "\n",
    "charge_cost = sum([PEV_df[t][ev]*dT_df[0][t]*cDA_df[0][t]\n",
    "                   for ev in np.arange(1, n_evs + 1) for t in np.arange(1, n_time + 1)])\n",
    "\n",
    "print('Charge cost: {}'.format(charge_cost))"
   ]
  },
  {
   "cell_type": "markdown",
   "id": "4632e191",
   "metadata": {
    "pycharm": {
     "name": "#%% md\n"
    }
   },
   "source": [
    "## Results"
   ]
  },
  {
   "cell_type": "code",
   "execution_count": 17,
   "id": "e6ef380e",
   "metadata": {
    "ExecuteTime": {
     "end_time": "2023-01-24T15:20:05.143380Z",
     "start_time": "2023-01-24T15:20:05.134380Z"
    },
    "pycharm": {
     "name": "#%%\n"
    }
   },
   "outputs": [
    {
     "name": "stdout",
     "output_type": "stream",
     "text": [
      "Total Charge: 69529409.54931077\n"
     ]
    }
   ],
   "source": [
    "print(\"Total Charge: {}\".format(np.sum(PEV_df.to_numpy())))"
   ]
  },
  {
   "cell_type": "code",
   "execution_count": 18,
   "id": "21257bc4",
   "metadata": {
    "ExecuteTime": {
     "end_time": "2023-01-24T15:20:05.196383Z",
     "start_time": "2023-01-24T15:20:05.148381Z"
    },
    "pycharm": {
     "name": "#%%\n"
    }
   },
   "outputs": [
    {
     "data": {
      "text/html": [
       "<div>\n",
       "<style scoped>\n",
       "    .dataframe tbody tr th:only-of-type {\n",
       "        vertical-align: middle;\n",
       "    }\n",
       "\n",
       "    .dataframe tbody tr th {\n",
       "        vertical-align: top;\n",
       "    }\n",
       "\n",
       "    .dataframe thead th {\n",
       "        text-align: right;\n",
       "    }\n",
       "</style>\n",
       "<table border=\"1\" class=\"dataframe\">\n",
       "  <thead>\n",
       "    <tr style=\"text-align: right;\">\n",
       "      <th></th>\n",
       "      <th>1</th>\n",
       "      <th>2</th>\n",
       "      <th>3</th>\n",
       "      <th>4</th>\n",
       "      <th>5</th>\n",
       "      <th>6</th>\n",
       "      <th>7</th>\n",
       "      <th>8</th>\n",
       "      <th>9</th>\n",
       "      <th>10</th>\n",
       "      <th>...</th>\n",
       "      <th>15</th>\n",
       "      <th>16</th>\n",
       "      <th>17</th>\n",
       "      <th>18</th>\n",
       "      <th>19</th>\n",
       "      <th>20</th>\n",
       "      <th>21</th>\n",
       "      <th>22</th>\n",
       "      <th>23</th>\n",
       "      <th>24</th>\n",
       "    </tr>\n",
       "  </thead>\n",
       "  <tbody>\n",
       "    <tr>\n",
       "      <th>1</th>\n",
       "      <td>61206.650</td>\n",
       "      <td>61206.650</td>\n",
       "      <td>61206.650</td>\n",
       "      <td>61206.650</td>\n",
       "      <td>61206.650</td>\n",
       "      <td>61206.650</td>\n",
       "      <td>61206.650</td>\n",
       "      <td>61206.650</td>\n",
       "      <td>61206.650</td>\n",
       "      <td>61206.650</td>\n",
       "      <td>...</td>\n",
       "      <td>68000.000</td>\n",
       "      <td>68000.000</td>\n",
       "      <td>68000.00</td>\n",
       "      <td>68000.000</td>\n",
       "      <td>68000.000</td>\n",
       "      <td>68000.0</td>\n",
       "      <td>68000.000</td>\n",
       "      <td>68000.00</td>\n",
       "      <td>68000.000</td>\n",
       "      <td>68000.0</td>\n",
       "    </tr>\n",
       "    <tr>\n",
       "      <th>2</th>\n",
       "      <td>60420.000</td>\n",
       "      <td>63840.000</td>\n",
       "      <td>67260.000</td>\n",
       "      <td>70680.000</td>\n",
       "      <td>74100.000</td>\n",
       "      <td>77520.000</td>\n",
       "      <td>80940.000</td>\n",
       "      <td>84360.000</td>\n",
       "      <td>87780.000</td>\n",
       "      <td>91200.000</td>\n",
       "      <td>...</td>\n",
       "      <td>95000.000</td>\n",
       "      <td>94344.125</td>\n",
       "      <td>93688.25</td>\n",
       "      <td>93032.375</td>\n",
       "      <td>93032.375</td>\n",
       "      <td>92376.5</td>\n",
       "      <td>91720.625</td>\n",
       "      <td>91064.75</td>\n",
       "      <td>93828.875</td>\n",
       "      <td>95000.0</td>\n",
       "    </tr>\n",
       "    <tr>\n",
       "      <th>3</th>\n",
       "      <td>61126.050</td>\n",
       "      <td>61126.050</td>\n",
       "      <td>61126.050</td>\n",
       "      <td>61126.050</td>\n",
       "      <td>61126.050</td>\n",
       "      <td>61126.050</td>\n",
       "      <td>61126.050</td>\n",
       "      <td>61126.050</td>\n",
       "      <td>61126.050</td>\n",
       "      <td>61126.050</td>\n",
       "      <td>...</td>\n",
       "      <td>68000.000</td>\n",
       "      <td>68000.000</td>\n",
       "      <td>68000.00</td>\n",
       "      <td>68000.000</td>\n",
       "      <td>68000.000</td>\n",
       "      <td>68000.0</td>\n",
       "      <td>68000.000</td>\n",
       "      <td>68000.00</td>\n",
       "      <td>68000.000</td>\n",
       "      <td>68000.0</td>\n",
       "    </tr>\n",
       "    <tr>\n",
       "      <th>4</th>\n",
       "      <td>63840.000</td>\n",
       "      <td>70680.000</td>\n",
       "      <td>77520.000</td>\n",
       "      <td>84360.000</td>\n",
       "      <td>91200.000</td>\n",
       "      <td>95000.000</td>\n",
       "      <td>95000.000</td>\n",
       "      <td>95000.000</td>\n",
       "      <td>95000.000</td>\n",
       "      <td>95000.000</td>\n",
       "      <td>...</td>\n",
       "      <td>93923.000</td>\n",
       "      <td>93923.000</td>\n",
       "      <td>93923.00</td>\n",
       "      <td>93923.000</td>\n",
       "      <td>93923.000</td>\n",
       "      <td>93923.0</td>\n",
       "      <td>93923.000</td>\n",
       "      <td>93923.00</td>\n",
       "      <td>93923.000</td>\n",
       "      <td>95000.0</td>\n",
       "    </tr>\n",
       "    <tr>\n",
       "      <th>5</th>\n",
       "      <td>11515.500</td>\n",
       "      <td>13500.000</td>\n",
       "      <td>13500.000</td>\n",
       "      <td>13500.000</td>\n",
       "      <td>13500.000</td>\n",
       "      <td>13500.000</td>\n",
       "      <td>13500.000</td>\n",
       "      <td>13500.000</td>\n",
       "      <td>13500.000</td>\n",
       "      <td>13500.000</td>\n",
       "      <td>...</td>\n",
       "      <td>13500.000</td>\n",
       "      <td>13500.000</td>\n",
       "      <td>13500.00</td>\n",
       "      <td>13500.000</td>\n",
       "      <td>13500.000</td>\n",
       "      <td>13500.0</td>\n",
       "      <td>13500.000</td>\n",
       "      <td>13500.00</td>\n",
       "      <td>13500.000</td>\n",
       "      <td>13500.0</td>\n",
       "    </tr>\n",
       "    <tr>\n",
       "      <th>...</th>\n",
       "      <td>...</td>\n",
       "      <td>...</td>\n",
       "      <td>...</td>\n",
       "      <td>...</td>\n",
       "      <td>...</td>\n",
       "      <td>...</td>\n",
       "      <td>...</td>\n",
       "      <td>...</td>\n",
       "      <td>...</td>\n",
       "      <td>...</td>\n",
       "      <td>...</td>\n",
       "      <td>...</td>\n",
       "      <td>...</td>\n",
       "      <td>...</td>\n",
       "      <td>...</td>\n",
       "      <td>...</td>\n",
       "      <td>...</td>\n",
       "      <td>...</td>\n",
       "      <td>...</td>\n",
       "      <td>...</td>\n",
       "      <td>...</td>\n",
       "    </tr>\n",
       "    <tr>\n",
       "      <th>2346</th>\n",
       "      <td>63024.245</td>\n",
       "      <td>63024.245</td>\n",
       "      <td>63024.245</td>\n",
       "      <td>63024.245</td>\n",
       "      <td>63024.245</td>\n",
       "      <td>63024.245</td>\n",
       "      <td>63024.245</td>\n",
       "      <td>63024.245</td>\n",
       "      <td>63024.245</td>\n",
       "      <td>63024.245</td>\n",
       "      <td>...</td>\n",
       "      <td>71000.000</td>\n",
       "      <td>71000.000</td>\n",
       "      <td>71000.00</td>\n",
       "      <td>71000.000</td>\n",
       "      <td>71000.000</td>\n",
       "      <td>71000.0</td>\n",
       "      <td>71000.000</td>\n",
       "      <td>71000.00</td>\n",
       "      <td>71000.000</td>\n",
       "      <td>71000.0</td>\n",
       "    </tr>\n",
       "    <tr>\n",
       "      <th>2347</th>\n",
       "      <td>13500.000</td>\n",
       "      <td>13500.000</td>\n",
       "      <td>13500.000</td>\n",
       "      <td>13500.000</td>\n",
       "      <td>13500.000</td>\n",
       "      <td>13500.000</td>\n",
       "      <td>13500.000</td>\n",
       "      <td>13500.000</td>\n",
       "      <td>13500.000</td>\n",
       "      <td>13500.000</td>\n",
       "      <td>...</td>\n",
       "      <td>13500.000</td>\n",
       "      <td>13500.000</td>\n",
       "      <td>13500.00</td>\n",
       "      <td>13500.000</td>\n",
       "      <td>13500.000</td>\n",
       "      <td>13500.0</td>\n",
       "      <td>13500.000</td>\n",
       "      <td>13500.00</td>\n",
       "      <td>13500.000</td>\n",
       "      <td>13500.0</td>\n",
       "    </tr>\n",
       "    <tr>\n",
       "      <th>2348</th>\n",
       "      <td>13500.000</td>\n",
       "      <td>13500.000</td>\n",
       "      <td>13500.000</td>\n",
       "      <td>13500.000</td>\n",
       "      <td>13500.000</td>\n",
       "      <td>13500.000</td>\n",
       "      <td>13500.000</td>\n",
       "      <td>13500.000</td>\n",
       "      <td>13500.000</td>\n",
       "      <td>13500.000</td>\n",
       "      <td>...</td>\n",
       "      <td>13500.000</td>\n",
       "      <td>13500.000</td>\n",
       "      <td>13500.00</td>\n",
       "      <td>13500.000</td>\n",
       "      <td>13500.000</td>\n",
       "      <td>13500.0</td>\n",
       "      <td>13500.000</td>\n",
       "      <td>13500.00</td>\n",
       "      <td>13500.000</td>\n",
       "      <td>13500.0</td>\n",
       "    </tr>\n",
       "    <tr>\n",
       "      <th>2349</th>\n",
       "      <td>64680.000</td>\n",
       "      <td>64680.000</td>\n",
       "      <td>64680.000</td>\n",
       "      <td>64680.000</td>\n",
       "      <td>64680.000</td>\n",
       "      <td>64680.000</td>\n",
       "      <td>64680.000</td>\n",
       "      <td>64680.000</td>\n",
       "      <td>64680.000</td>\n",
       "      <td>64680.000</td>\n",
       "      <td>...</td>\n",
       "      <td>105234.445</td>\n",
       "      <td>107800.000</td>\n",
       "      <td>107800.00</td>\n",
       "      <td>107800.000</td>\n",
       "      <td>107800.000</td>\n",
       "      <td>107800.0</td>\n",
       "      <td>107800.000</td>\n",
       "      <td>107800.00</td>\n",
       "      <td>107800.000</td>\n",
       "      <td>107800.0</td>\n",
       "    </tr>\n",
       "    <tr>\n",
       "      <th>2350</th>\n",
       "      <td>30000.000</td>\n",
       "      <td>30000.000</td>\n",
       "      <td>30000.000</td>\n",
       "      <td>30000.000</td>\n",
       "      <td>30000.000</td>\n",
       "      <td>30000.000</td>\n",
       "      <td>30000.000</td>\n",
       "      <td>30000.000</td>\n",
       "      <td>30000.000</td>\n",
       "      <td>30000.000</td>\n",
       "      <td>...</td>\n",
       "      <td>50000.000</td>\n",
       "      <td>50000.000</td>\n",
       "      <td>50000.00</td>\n",
       "      <td>50000.000</td>\n",
       "      <td>50000.000</td>\n",
       "      <td>50000.0</td>\n",
       "      <td>50000.000</td>\n",
       "      <td>50000.00</td>\n",
       "      <td>50000.000</td>\n",
       "      <td>50000.0</td>\n",
       "    </tr>\n",
       "  </tbody>\n",
       "</table>\n",
       "<p>2350 rows × 24 columns</p>\n",
       "</div>"
      ],
      "text/plain": [
       "             1          2          3          4          5          6   \\\n",
       "1     61206.650  61206.650  61206.650  61206.650  61206.650  61206.650   \n",
       "2     60420.000  63840.000  67260.000  70680.000  74100.000  77520.000   \n",
       "3     61126.050  61126.050  61126.050  61126.050  61126.050  61126.050   \n",
       "4     63840.000  70680.000  77520.000  84360.000  91200.000  95000.000   \n",
       "5     11515.500  13500.000  13500.000  13500.000  13500.000  13500.000   \n",
       "...         ...        ...        ...        ...        ...        ...   \n",
       "2346  63024.245  63024.245  63024.245  63024.245  63024.245  63024.245   \n",
       "2347  13500.000  13500.000  13500.000  13500.000  13500.000  13500.000   \n",
       "2348  13500.000  13500.000  13500.000  13500.000  13500.000  13500.000   \n",
       "2349  64680.000  64680.000  64680.000  64680.000  64680.000  64680.000   \n",
       "2350  30000.000  30000.000  30000.000  30000.000  30000.000  30000.000   \n",
       "\n",
       "             7          8          9          10  ...          15          16  \\\n",
       "1     61206.650  61206.650  61206.650  61206.650  ...   68000.000   68000.000   \n",
       "2     80940.000  84360.000  87780.000  91200.000  ...   95000.000   94344.125   \n",
       "3     61126.050  61126.050  61126.050  61126.050  ...   68000.000   68000.000   \n",
       "4     95000.000  95000.000  95000.000  95000.000  ...   93923.000   93923.000   \n",
       "5     13500.000  13500.000  13500.000  13500.000  ...   13500.000   13500.000   \n",
       "...         ...        ...        ...        ...  ...         ...         ...   \n",
       "2346  63024.245  63024.245  63024.245  63024.245  ...   71000.000   71000.000   \n",
       "2347  13500.000  13500.000  13500.000  13500.000  ...   13500.000   13500.000   \n",
       "2348  13500.000  13500.000  13500.000  13500.000  ...   13500.000   13500.000   \n",
       "2349  64680.000  64680.000  64680.000  64680.000  ...  105234.445  107800.000   \n",
       "2350  30000.000  30000.000  30000.000  30000.000  ...   50000.000   50000.000   \n",
       "\n",
       "             17          18          19        20          21         22  \\\n",
       "1      68000.00   68000.000   68000.000   68000.0   68000.000   68000.00   \n",
       "2      93688.25   93032.375   93032.375   92376.5   91720.625   91064.75   \n",
       "3      68000.00   68000.000   68000.000   68000.0   68000.000   68000.00   \n",
       "4      93923.00   93923.000   93923.000   93923.0   93923.000   93923.00   \n",
       "5      13500.00   13500.000   13500.000   13500.0   13500.000   13500.00   \n",
       "...         ...         ...         ...       ...         ...        ...   \n",
       "2346   71000.00   71000.000   71000.000   71000.0   71000.000   71000.00   \n",
       "2347   13500.00   13500.000   13500.000   13500.0   13500.000   13500.00   \n",
       "2348   13500.00   13500.000   13500.000   13500.0   13500.000   13500.00   \n",
       "2349  107800.00  107800.000  107800.000  107800.0  107800.000  107800.00   \n",
       "2350   50000.00   50000.000   50000.000   50000.0   50000.000   50000.00   \n",
       "\n",
       "              23        24  \n",
       "1      68000.000   68000.0  \n",
       "2      93828.875   95000.0  \n",
       "3      68000.000   68000.0  \n",
       "4      93923.000   95000.0  \n",
       "5      13500.000   13500.0  \n",
       "...          ...       ...  \n",
       "2346   71000.000   71000.0  \n",
       "2347   13500.000   13500.0  \n",
       "2348   13500.000   13500.0  \n",
       "2349  107800.000  107800.0  \n",
       "2350   50000.000   50000.0  \n",
       "\n",
       "[2350 rows x 24 columns]"
      ]
     },
     "execution_count": 18,
     "metadata": {},
     "output_type": "execute_result"
    }
   ],
   "source": [
    "EEV_df"
   ]
  },
  {
   "cell_type": "code",
   "execution_count": 19,
   "id": "49aeca16",
   "metadata": {
    "ExecuteTime": {
     "end_time": "2023-01-24T15:20:05.244386Z",
     "start_time": "2023-01-24T15:20:05.198384Z"
    },
    "pycharm": {
     "name": "#%%\n"
    }
   },
   "outputs": [
    {
     "data": {
      "text/html": [
       "<div>\n",
       "<style scoped>\n",
       "    .dataframe tbody tr th:only-of-type {\n",
       "        vertical-align: middle;\n",
       "    }\n",
       "\n",
       "    .dataframe tbody tr th {\n",
       "        vertical-align: top;\n",
       "    }\n",
       "\n",
       "    .dataframe thead th {\n",
       "        text-align: right;\n",
       "    }\n",
       "</style>\n",
       "<table border=\"1\" class=\"dataframe\">\n",
       "  <thead>\n",
       "    <tr style=\"text-align: right;\">\n",
       "      <th></th>\n",
       "      <th>1</th>\n",
       "      <th>2</th>\n",
       "      <th>3</th>\n",
       "      <th>4</th>\n",
       "      <th>5</th>\n",
       "      <th>6</th>\n",
       "      <th>7</th>\n",
       "      <th>8</th>\n",
       "      <th>9</th>\n",
       "      <th>10</th>\n",
       "      <th>...</th>\n",
       "      <th>15</th>\n",
       "      <th>16</th>\n",
       "      <th>17</th>\n",
       "      <th>18</th>\n",
       "      <th>19</th>\n",
       "      <th>20</th>\n",
       "      <th>21</th>\n",
       "      <th>22</th>\n",
       "      <th>23</th>\n",
       "      <th>24</th>\n",
       "    </tr>\n",
       "  </thead>\n",
       "  <tbody>\n",
       "    <tr>\n",
       "      <th>1</th>\n",
       "      <td>22000.000000</td>\n",
       "      <td>0.000000</td>\n",
       "      <td>0.0</td>\n",
       "      <td>0.0</td>\n",
       "      <td>0.0</td>\n",
       "      <td>0.0</td>\n",
       "      <td>0.0</td>\n",
       "      <td>0.0</td>\n",
       "      <td>0.0</td>\n",
       "      <td>0.000000</td>\n",
       "      <td>...</td>\n",
       "      <td>7670.210526</td>\n",
       "      <td>0.000000</td>\n",
       "      <td>0.0</td>\n",
       "      <td>0.0</td>\n",
       "      <td>0.0</td>\n",
       "      <td>0.0</td>\n",
       "      <td>0.0</td>\n",
       "      <td>0.0</td>\n",
       "      <td>0.0</td>\n",
       "      <td>0.000000</td>\n",
       "    </tr>\n",
       "    <tr>\n",
       "      <th>2</th>\n",
       "      <td>3600.000000</td>\n",
       "      <td>3600.000000</td>\n",
       "      <td>3600.0</td>\n",
       "      <td>3600.0</td>\n",
       "      <td>3600.0</td>\n",
       "      <td>3600.0</td>\n",
       "      <td>3600.0</td>\n",
       "      <td>3600.0</td>\n",
       "      <td>3600.0</td>\n",
       "      <td>3600.000000</td>\n",
       "      <td>...</td>\n",
       "      <td>0.000000</td>\n",
       "      <td>0.000000</td>\n",
       "      <td>0.0</td>\n",
       "      <td>0.0</td>\n",
       "      <td>0.0</td>\n",
       "      <td>0.0</td>\n",
       "      <td>0.0</td>\n",
       "      <td>0.0</td>\n",
       "      <td>3600.0</td>\n",
       "      <td>1232.763158</td>\n",
       "    </tr>\n",
       "    <tr>\n",
       "      <th>3</th>\n",
       "      <td>22000.000000</td>\n",
       "      <td>0.000000</td>\n",
       "      <td>0.0</td>\n",
       "      <td>0.0</td>\n",
       "      <td>0.0</td>\n",
       "      <td>0.0</td>\n",
       "      <td>0.0</td>\n",
       "      <td>0.0</td>\n",
       "      <td>0.0</td>\n",
       "      <td>0.000000</td>\n",
       "      <td>...</td>\n",
       "      <td>7839.894737</td>\n",
       "      <td>0.000000</td>\n",
       "      <td>0.0</td>\n",
       "      <td>0.0</td>\n",
       "      <td>0.0</td>\n",
       "      <td>0.0</td>\n",
       "      <td>0.0</td>\n",
       "      <td>0.0</td>\n",
       "      <td>0.0</td>\n",
       "      <td>0.000000</td>\n",
       "    </tr>\n",
       "    <tr>\n",
       "      <th>4</th>\n",
       "      <td>7200.000000</td>\n",
       "      <td>7200.000000</td>\n",
       "      <td>7200.0</td>\n",
       "      <td>7200.0</td>\n",
       "      <td>7200.0</td>\n",
       "      <td>4000.0</td>\n",
       "      <td>0.0</td>\n",
       "      <td>0.0</td>\n",
       "      <td>0.0</td>\n",
       "      <td>1133.684211</td>\n",
       "      <td>...</td>\n",
       "      <td>0.000000</td>\n",
       "      <td>0.000000</td>\n",
       "      <td>0.0</td>\n",
       "      <td>0.0</td>\n",
       "      <td>0.0</td>\n",
       "      <td>0.0</td>\n",
       "      <td>0.0</td>\n",
       "      <td>0.0</td>\n",
       "      <td>0.0</td>\n",
       "      <td>2267.368421</td>\n",
       "    </tr>\n",
       "    <tr>\n",
       "      <th>5</th>\n",
       "      <td>3600.000000</td>\n",
       "      <td>2088.947368</td>\n",
       "      <td>0.0</td>\n",
       "      <td>0.0</td>\n",
       "      <td>0.0</td>\n",
       "      <td>0.0</td>\n",
       "      <td>0.0</td>\n",
       "      <td>0.0</td>\n",
       "      <td>0.0</td>\n",
       "      <td>0.000000</td>\n",
       "      <td>...</td>\n",
       "      <td>4.736842</td>\n",
       "      <td>0.000000</td>\n",
       "      <td>0.0</td>\n",
       "      <td>0.0</td>\n",
       "      <td>0.0</td>\n",
       "      <td>0.0</td>\n",
       "      <td>0.0</td>\n",
       "      <td>0.0</td>\n",
       "      <td>0.0</td>\n",
       "      <td>0.000000</td>\n",
       "    </tr>\n",
       "    <tr>\n",
       "      <th>...</th>\n",
       "      <td>...</td>\n",
       "      <td>...</td>\n",
       "      <td>...</td>\n",
       "      <td>...</td>\n",
       "      <td>...</td>\n",
       "      <td>...</td>\n",
       "      <td>...</td>\n",
       "      <td>...</td>\n",
       "      <td>...</td>\n",
       "      <td>...</td>\n",
       "      <td>...</td>\n",
       "      <td>...</td>\n",
       "      <td>...</td>\n",
       "      <td>...</td>\n",
       "      <td>...</td>\n",
       "      <td>...</td>\n",
       "      <td>...</td>\n",
       "      <td>...</td>\n",
       "      <td>...</td>\n",
       "      <td>...</td>\n",
       "      <td>...</td>\n",
       "    </tr>\n",
       "    <tr>\n",
       "      <th>2346</th>\n",
       "      <td>22000.000000</td>\n",
       "      <td>0.000000</td>\n",
       "      <td>0.0</td>\n",
       "      <td>0.0</td>\n",
       "      <td>0.0</td>\n",
       "      <td>0.0</td>\n",
       "      <td>0.0</td>\n",
       "      <td>0.0</td>\n",
       "      <td>0.0</td>\n",
       "      <td>0.000000</td>\n",
       "      <td>...</td>\n",
       "      <td>8896.326316</td>\n",
       "      <td>0.000000</td>\n",
       "      <td>0.0</td>\n",
       "      <td>0.0</td>\n",
       "      <td>0.0</td>\n",
       "      <td>0.0</td>\n",
       "      <td>0.0</td>\n",
       "      <td>0.0</td>\n",
       "      <td>0.0</td>\n",
       "      <td>0.000000</td>\n",
       "    </tr>\n",
       "    <tr>\n",
       "      <th>2347</th>\n",
       "      <td>5687.052632</td>\n",
       "      <td>0.000000</td>\n",
       "      <td>0.0</td>\n",
       "      <td>0.0</td>\n",
       "      <td>0.0</td>\n",
       "      <td>0.0</td>\n",
       "      <td>0.0</td>\n",
       "      <td>0.0</td>\n",
       "      <td>0.0</td>\n",
       "      <td>0.000000</td>\n",
       "      <td>...</td>\n",
       "      <td>2.842105</td>\n",
       "      <td>0.000000</td>\n",
       "      <td>0.0</td>\n",
       "      <td>0.0</td>\n",
       "      <td>0.0</td>\n",
       "      <td>0.0</td>\n",
       "      <td>0.0</td>\n",
       "      <td>0.0</td>\n",
       "      <td>0.0</td>\n",
       "      <td>0.000000</td>\n",
       "    </tr>\n",
       "    <tr>\n",
       "      <th>2348</th>\n",
       "      <td>5684.210526</td>\n",
       "      <td>0.000000</td>\n",
       "      <td>0.0</td>\n",
       "      <td>0.0</td>\n",
       "      <td>0.0</td>\n",
       "      <td>0.0</td>\n",
       "      <td>0.0</td>\n",
       "      <td>0.0</td>\n",
       "      <td>0.0</td>\n",
       "      <td>0.000000</td>\n",
       "      <td>...</td>\n",
       "      <td>37.421053</td>\n",
       "      <td>0.000000</td>\n",
       "      <td>0.0</td>\n",
       "      <td>0.0</td>\n",
       "      <td>0.0</td>\n",
       "      <td>0.0</td>\n",
       "      <td>0.0</td>\n",
       "      <td>0.0</td>\n",
       "      <td>0.0</td>\n",
       "      <td>37.421053</td>\n",
       "    </tr>\n",
       "    <tr>\n",
       "      <th>2349</th>\n",
       "      <td>0.000000</td>\n",
       "      <td>0.000000</td>\n",
       "      <td>0.0</td>\n",
       "      <td>0.0</td>\n",
       "      <td>0.0</td>\n",
       "      <td>0.0</td>\n",
       "      <td>0.0</td>\n",
       "      <td>0.0</td>\n",
       "      <td>0.0</td>\n",
       "      <td>0.000000</td>\n",
       "      <td>...</td>\n",
       "      <td>22000.000000</td>\n",
       "      <td>2700.584211</td>\n",
       "      <td>0.0</td>\n",
       "      <td>0.0</td>\n",
       "      <td>0.0</td>\n",
       "      <td>0.0</td>\n",
       "      <td>0.0</td>\n",
       "      <td>0.0</td>\n",
       "      <td>0.0</td>\n",
       "      <td>1311.110526</td>\n",
       "    </tr>\n",
       "    <tr>\n",
       "      <th>2350</th>\n",
       "      <td>0.000000</td>\n",
       "      <td>0.000000</td>\n",
       "      <td>0.0</td>\n",
       "      <td>0.0</td>\n",
       "      <td>0.0</td>\n",
       "      <td>0.0</td>\n",
       "      <td>0.0</td>\n",
       "      <td>0.0</td>\n",
       "      <td>0.0</td>\n",
       "      <td>0.000000</td>\n",
       "      <td>...</td>\n",
       "      <td>261.947368</td>\n",
       "      <td>0.000000</td>\n",
       "      <td>0.0</td>\n",
       "      <td>0.0</td>\n",
       "      <td>0.0</td>\n",
       "      <td>0.0</td>\n",
       "      <td>0.0</td>\n",
       "      <td>0.0</td>\n",
       "      <td>0.0</td>\n",
       "      <td>1209.315789</td>\n",
       "    </tr>\n",
       "  </tbody>\n",
       "</table>\n",
       "<p>2350 rows × 24 columns</p>\n",
       "</div>"
      ],
      "text/plain": [
       "                1            2       3       4       5       6       7   \\\n",
       "1     22000.000000     0.000000     0.0     0.0     0.0     0.0     0.0   \n",
       "2      3600.000000  3600.000000  3600.0  3600.0  3600.0  3600.0  3600.0   \n",
       "3     22000.000000     0.000000     0.0     0.0     0.0     0.0     0.0   \n",
       "4      7200.000000  7200.000000  7200.0  7200.0  7200.0  4000.0     0.0   \n",
       "5      3600.000000  2088.947368     0.0     0.0     0.0     0.0     0.0   \n",
       "...            ...          ...     ...     ...     ...     ...     ...   \n",
       "2346  22000.000000     0.000000     0.0     0.0     0.0     0.0     0.0   \n",
       "2347   5687.052632     0.000000     0.0     0.0     0.0     0.0     0.0   \n",
       "2348   5684.210526     0.000000     0.0     0.0     0.0     0.0     0.0   \n",
       "2349      0.000000     0.000000     0.0     0.0     0.0     0.0     0.0   \n",
       "2350      0.000000     0.000000     0.0     0.0     0.0     0.0     0.0   \n",
       "\n",
       "          8       9            10  ...            15           16   17   18  \\\n",
       "1        0.0     0.0     0.000000  ...   7670.210526     0.000000  0.0  0.0   \n",
       "2     3600.0  3600.0  3600.000000  ...      0.000000     0.000000  0.0  0.0   \n",
       "3        0.0     0.0     0.000000  ...   7839.894737     0.000000  0.0  0.0   \n",
       "4        0.0     0.0  1133.684211  ...      0.000000     0.000000  0.0  0.0   \n",
       "5        0.0     0.0     0.000000  ...      4.736842     0.000000  0.0  0.0   \n",
       "...      ...     ...          ...  ...           ...          ...  ...  ...   \n",
       "2346     0.0     0.0     0.000000  ...   8896.326316     0.000000  0.0  0.0   \n",
       "2347     0.0     0.0     0.000000  ...      2.842105     0.000000  0.0  0.0   \n",
       "2348     0.0     0.0     0.000000  ...     37.421053     0.000000  0.0  0.0   \n",
       "2349     0.0     0.0     0.000000  ...  22000.000000  2700.584211  0.0  0.0   \n",
       "2350     0.0     0.0     0.000000  ...    261.947368     0.000000  0.0  0.0   \n",
       "\n",
       "       19   20   21   22      23           24  \n",
       "1     0.0  0.0  0.0  0.0     0.0     0.000000  \n",
       "2     0.0  0.0  0.0  0.0  3600.0  1232.763158  \n",
       "3     0.0  0.0  0.0  0.0     0.0     0.000000  \n",
       "4     0.0  0.0  0.0  0.0     0.0  2267.368421  \n",
       "5     0.0  0.0  0.0  0.0     0.0     0.000000  \n",
       "...   ...  ...  ...  ...     ...          ...  \n",
       "2346  0.0  0.0  0.0  0.0     0.0     0.000000  \n",
       "2347  0.0  0.0  0.0  0.0     0.0     0.000000  \n",
       "2348  0.0  0.0  0.0  0.0     0.0    37.421053  \n",
       "2349  0.0  0.0  0.0  0.0     0.0  1311.110526  \n",
       "2350  0.0  0.0  0.0  0.0     0.0  1209.315789  \n",
       "\n",
       "[2350 rows x 24 columns]"
      ]
     },
     "execution_count": 19,
     "metadata": {},
     "output_type": "execute_result"
    }
   ],
   "source": [
    "PEV_df"
   ]
  },
  {
   "cell_type": "code",
   "execution_count": 20,
   "id": "936ae121",
   "metadata": {
    "ExecuteTime": {
     "end_time": "2023-01-24T15:20:05.257387Z",
     "start_time": "2023-01-24T15:20:05.246386Z"
    },
    "pycharm": {
     "name": "#%%\n"
    }
   },
   "outputs": [
    {
     "data": {
      "text/plain": [
       "1     1.525093e+07\n",
       "2     4.850381e+06\n",
       "3     4.135748e+06\n",
       "4     3.905874e+06\n",
       "5     2.892210e+06\n",
       "6     1.851446e+06\n",
       "7     1.413739e+06\n",
       "8     1.279811e+06\n",
       "9     1.080418e+06\n",
       "10    6.793493e+05\n",
       "11    4.746029e+05\n",
       "12    6.422178e+04\n",
       "13    1.528077e+05\n",
       "14    1.616257e+07\n",
       "15    1.200197e+07\n",
       "16    3.630860e+05\n",
       "17    0.000000e+00\n",
       "18    0.000000e+00\n",
       "19    6.659760e+04\n",
       "20    1.547177e+05\n",
       "21    6.855315e+04\n",
       "22    1.547177e+05\n",
       "23    1.168652e+06\n",
       "24    1.357010e+06\n",
       "dtype: float64"
      ]
     },
     "execution_count": 20,
     "metadata": {},
     "output_type": "execute_result"
    }
   ],
   "source": [
    "PEV_df.sum()"
   ]
  },
  {
   "cell_type": "code",
   "execution_count": 21,
   "id": "42d3cfd9",
   "metadata": {
    "ExecuteTime": {
     "end_time": "2023-01-24T16:51:24.001809Z",
     "start_time": "2023-01-24T16:51:23.579795Z"
    },
    "pycharm": {
     "name": "#%%\n"
    }
   },
   "outputs": [],
   "source": [
    "Etriprelax_df = ext_pyomo_vals(model.Etriprelax)"
   ]
  },
  {
   "cell_type": "code",
   "execution_count": 22,
   "id": "54eb97bf",
   "metadata": {
    "ExecuteTime": {
     "end_time": "2023-01-24T16:51:28.568012Z",
     "start_time": "2023-01-24T16:51:28.536010Z"
    },
    "pycharm": {
     "name": "#%%\n"
    }
   },
   "outputs": [
    {
     "data": {
      "text/plain": [
       "1        0.00\n",
       "2        0.00\n",
       "3        0.00\n",
       "4        0.00\n",
       "5        0.00\n",
       "6        0.00\n",
       "7        0.00\n",
       "8        0.00\n",
       "9        0.00\n",
       "10       0.00\n",
       "11       0.00\n",
       "12       0.00\n",
       "13       0.00\n",
       "14       0.00\n",
       "15       0.00\n",
       "16       0.00\n",
       "17       0.00\n",
       "18       0.00\n",
       "19       0.00\n",
       "20       0.00\n",
       "21       0.00\n",
       "22       0.00\n",
       "23       0.00\n",
       "24    1829.14\n",
       "dtype: float64"
      ]
     },
     "execution_count": 22,
     "metadata": {},
     "output_type": "execute_result"
    }
   ],
   "source": [
    "Etriprelax_df.sum()"
   ]
  },
  {
   "cell_type": "code",
   "execution_count": 23,
   "id": "1a276104",
   "metadata": {
    "ExecuteTime": {
     "end_time": "2023-01-24T16:51:34.044272Z",
     "start_time": "2023-01-24T16:51:33.883266Z"
    },
    "pycharm": {
     "name": "#%%\n"
    }
   },
   "outputs": [],
   "source": [
    "Eminsocrelax_df = ext_pyomo_vals(model.Eminsocrelax)"
   ]
  },
  {
   "cell_type": "code",
   "execution_count": 24,
   "id": "128b3222",
   "metadata": {
    "ExecuteTime": {
     "end_time": "2023-01-24T16:51:40.975562Z",
     "start_time": "2023-01-24T16:51:40.959561Z"
    },
    "pycharm": {
     "name": "#%%\n"
    }
   },
   "outputs": [
    {
     "data": {
      "text/plain": [
       "1     0.0\n",
       "2     0.0\n",
       "3     0.0\n",
       "4     0.0\n",
       "5     0.0\n",
       "6     0.0\n",
       "7     0.0\n",
       "8     0.0\n",
       "9     0.0\n",
       "10    0.0\n",
       "11    0.0\n",
       "12    0.0\n",
       "13    0.0\n",
       "14    0.0\n",
       "15    0.0\n",
       "16    0.0\n",
       "17    0.0\n",
       "18    0.0\n",
       "19    0.0\n",
       "20    0.0\n",
       "21    0.0\n",
       "22    0.0\n",
       "23    0.0\n",
       "24    0.0\n",
       "dtype: float64"
      ]
     },
     "execution_count": 24,
     "metadata": {},
     "output_type": "execute_result"
    }
   ],
   "source": [
    "Eminsocrelax_df.sum()"
   ]
  },
  {
   "cell_type": "code",
   "execution_count": 25,
   "id": "ce23224e",
   "metadata": {
    "ExecuteTime": {
     "end_time": "2023-01-24T16:51:46.544838Z",
     "start_time": "2023-01-24T16:51:46.391833Z"
    },
    "pycharm": {
     "name": "#%%\n"
    }
   },
   "outputs": [],
   "source": [
    "Etripn_df = ext_pyomo_vals(model.Etripn)"
   ]
  },
  {
   "cell_type": "code",
   "execution_count": 26,
   "id": "da345abb",
   "metadata": {
    "ExecuteTime": {
     "end_time": "2023-01-24T16:51:52.227062Z",
     "start_time": "2023-01-24T16:51:52.216062Z"
    },
    "pycharm": {
     "name": "#%%\n"
    }
   },
   "outputs": [
    {
     "data": {
      "text/plain": [
       "1     2.612024e+05\n",
       "2     6.760249e+03\n",
       "3     2.264454e+03\n",
       "4     0.000000e+00\n",
       "5     2.015204e+03\n",
       "6     0.000000e+00\n",
       "7     2.236121e+03\n",
       "8     1.784238e+03\n",
       "9     0.000000e+00\n",
       "10    1.718482e+05\n",
       "11    3.989772e+05\n",
       "12    0.000000e+00\n",
       "13    1.929628e+05\n",
       "14    8.230019e+05\n",
       "15    3.673955e+05\n",
       "16    3.712070e+05\n",
       "17    1.048677e+05\n",
       "18    2.242252e+05\n",
       "19    7.264225e+04\n",
       "20    2.518741e+05\n",
       "21    2.880438e+05\n",
       "22    2.639219e+05\n",
       "23    2.856192e+05\n",
       "24    1.036363e+06\n",
       "dtype: float64"
      ]
     },
     "execution_count": 26,
     "metadata": {},
     "output_type": "execute_result"
    }
   ],
   "source": [
    "Etripn_df.sum()"
   ]
  },
  {
   "cell_type": "markdown",
   "id": "320eab2f",
   "metadata": {
    "pycharm": {
     "name": "#%% md\n"
    }
   },
   "source": [
    "## Save results in csv files"
   ]
  },
  {
   "cell_type": "code",
   "execution_count": 27,
   "id": "b186723e",
   "metadata": {
    "ExecuteTime": {
     "end_time": "2023-01-24T17:21:06.497248Z",
     "start_time": "2023-01-24T17:21:06.341241Z"
    },
    "pycharm": {
     "name": "#%%\n"
    }
   },
   "outputs": [],
   "source": [
    "import os \n",
    "folder = 'results_Dumb_V2G' + str(n_evs)\n",
    "\n",
    "if not os.path.exists(folder):\n",
    "    os.makedirs(folder)\n",
    "    \n",
    "EEV_df.to_csv(folder + '/EEV.csv')\n",
    "PEV_df.to_csv(folder + '/PEV.csv')\n",
    "PEV_df.sum().to_csv(folder + '/PEV_h.csv')\n",
    "PEVdc_df.sum().to_csv(folder + '/PEVdc_h.csv')\n",
    "\n",
    "Etriprelax_df.to_csv(folder + '/Etriprelax.csv')\n",
    "Etriprelax_df.sum().to_csv(folder + '/Etriprelax_h.csv')\n",
    "\n",
    "Eminsocrelax_df.to_csv(folder + '/Eminsocrelax.csv')\n",
    "Eminsocrelax_df.sum().to_csv(folder + '/Eminsocrelax_h.csv')\n",
    "\n",
    "Etripn_df.to_csv(folder + '/Etripn.csv')\n",
    "Etripn_df.sum().to_csv(folder + '/Etripn_h.csv')"
   ]
  },
  {
   "cell_type": "code",
   "execution_count": null,
   "id": "d2ce0e2b",
   "metadata": {
    "pycharm": {
     "name": "#%%\n"
    }
   },
   "outputs": [],
   "source": []
  }
 ],
 "metadata": {
  "kernelspec": {
   "display_name": "Python 3 (ipykernel)",
   "language": "python",
   "name": "python3"
  },
  "language_info": {
   "codemirror_mode": {
    "name": "ipython",
    "version": 3
   },
   "file_extension": ".py",
   "mimetype": "text/x-python",
   "name": "python",
   "nbconvert_exporter": "python",
   "pygments_lexer": "ipython3",
   "version": "3.10.9"
  },
  "toc": {
   "base_numbering": 1,
   "nav_menu": {},
   "number_sections": true,
   "sideBar": true,
   "skip_h1_title": false,
   "title_cell": "Table of Contents",
   "title_sidebar": "Contents",
   "toc_cell": false,
   "toc_position": {},
   "toc_section_display": true,
   "toc_window_display": false
  }
 },
 "nbformat": 4,
 "nbformat_minor": 5
}
