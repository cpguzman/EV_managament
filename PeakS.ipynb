{
 "cells": [
  {
   "cell_type": "markdown",
   "id": "ac740ea7",
   "metadata": {
    "pycharm": {
     "name": "#%% md\n"
    }
   },
   "source": [
    "## Import packages"
   ]
  },
  {
   "cell_type": "code",
   "execution_count": 1,
   "id": "b32c1f3e",
   "metadata": {
    "ExecuteTime": {
     "end_time": "2023-01-24T14:59:25.481854Z",
     "start_time": "2023-01-24T14:59:23.961831Z"
    },
    "pycharm": {
     "name": "#%%\n"
    }
   },
   "outputs": [],
   "source": [
    "import pyomo\n",
    "import pyomo.opt\n",
    "import pyomo.environ as pyo\n",
    "import numpy as np\n",
    "import pandas as pd\n",
    "import matplotlib as plt"
   ]
  },
  {
   "cell_type": "code",
   "execution_count": 2,
   "id": "b951ffb1",
   "metadata": {
    "ExecuteTime": {
     "end_time": "2023-01-24T14:59:25.486854Z",
     "start_time": "2023-01-24T14:59:25.481854Z"
    },
    "pycharm": {
     "name": "#%%\n"
    }
   },
   "outputs": [],
   "source": [
    "n_time = 24"
   ]
  },
  {
   "cell_type": "code",
   "execution_count": 3,
   "id": "2df13289",
   "metadata": {
    "ExecuteTime": {
     "end_time": "2023-01-24T14:59:25.500855Z",
     "start_time": "2023-01-24T14:59:25.486854Z"
    },
    "pycharm": {
     "name": "#%%\n"
    }
   },
   "outputs": [],
   "source": [
    "def _auxDictionary(a):\n",
    "    temp_dictionary = {}\n",
    "    if len(a.shape) == 3:\n",
    "        for dim0 in np.arange(a.shape[0]):\n",
    "            for dim1 in np.arange(a.shape[1]):\n",
    "                for dim2 in np.arange(a.shape[2]):\n",
    "                    temp_dictionary[(dim0+1, dim1+1, dim2+1)] = a[dim0, dim1, dim2]\n",
    "    elif len(a.shape) == 2:\n",
    "        for dim0 in np.arange(a.shape[0]):\n",
    "            for dim1 in np.arange(a.shape[1]):\n",
    "                temp_dictionary[(dim0+1, dim1+1)] = a[dim0, dim1]\n",
    "    else:\n",
    "        for dim0 in np.arange(a.shape[0]):\n",
    "            temp_dictionary[(dim0+1)] = a[dim0]\n",
    "    return temp_dictionary\n",
    "#temp_dict1 = _auxDictionary(loadLimit)"
   ]
  },
  {
   "cell_type": "markdown",
   "id": "dd960a93",
   "metadata": {
    "pycharm": {
     "name": "#%% md\n"
    }
   },
   "source": [
    "## Data"
   ]
  },
  {
   "cell_type": "code",
   "execution_count": 4,
   "id": "0353ffb9",
   "metadata": {
    "ExecuteTime": {
     "end_time": "2023-01-24T14:59:25.583859Z",
     "start_time": "2023-01-24T14:59:25.504855Z"
    },
    "pycharm": {
     "name": "#%%\n"
    }
   },
   "outputs": [],
   "source": [
    "data = {}\n",
    "data['Inputs'] = pd.read_csv('Inputs.csv')\n",
    "data['EVs_Inputs'] = pd.read_csv('EVs_Inputs.csv')\n",
    "data['alpha'] = pd.read_csv('alpha.csv')\n",
    "data['PchmaxEV'] = pd.read_csv('PchmaxEV.csv')\n",
    "data['S'] = pd.read_csv('S.csv')"
   ]
  },
  {
   "cell_type": "code",
   "execution_count": 5,
   "id": "5f134438",
   "metadata": {
    "ExecuteTime": {
     "end_time": "2023-01-24T14:59:25.589860Z",
     "start_time": "2023-01-24T14:59:25.584859Z"
    },
    "pycharm": {
     "name": "#%%\n"
    }
   },
   "outputs": [],
   "source": [
    "n_evs = data['EVs_Inputs']['Esoc'].size"
   ]
  },
  {
   "cell_type": "markdown",
   "id": "d85d7fb6",
   "metadata": {
    "pycharm": {
     "name": "#%% md\n"
    }
   },
   "source": [
    "## Start Time"
   ]
  },
  {
   "cell_type": "code",
   "execution_count": 6,
   "id": "739a8884",
   "metadata": {
    "pycharm": {
     "name": "#%%\n"
    }
   },
   "outputs": [
    {
     "name": "stdout",
     "output_type": "stream",
     "text": [
      "Start Time = 08:57:41\n"
     ]
    }
   ],
   "source": [
    "from datetime import datetime\n",
    "\n",
    "now = datetime.now()\n",
    "\n",
    "start_time = now.strftime(\"%H:%M:%S\")\n",
    "print(\"Start Time =\", start_time)"
   ]
  },
  {
   "cell_type": "markdown",
   "id": "5712625b",
   "metadata": {
    "pycharm": {
     "name": "#%% md\n"
    }
   },
   "source": [
    "## Sets"
   ]
  },
  {
   "cell_type": "code",
   "execution_count": 7,
   "id": "58bf95a0",
   "metadata": {
    "ExecuteTime": {
     "end_time": "2023-01-24T14:59:25.613861Z",
     "start_time": "2023-01-24T14:59:25.591860Z"
    },
    "pycharm": {
     "name": "#%%\n"
    }
   },
   "outputs": [],
   "source": [
    "model = pyo.ConcreteModel()\n",
    "\n",
    "model.ev = pyo.Set(initialize = np.arange(1, n_evs + 1))\n",
    "model.t = pyo.Set(initialize = np.arange(1, n_time + 1))\n"
   ]
  },
  {
   "cell_type": "markdown",
   "id": "23cd0f85",
   "metadata": {
    "pycharm": {
     "name": "#%% md\n"
    }
   },
   "source": [
    "## Parameters"
   ]
  },
  {
   "cell_type": "code",
   "execution_count": 8,
   "id": "d91874cb",
   "metadata": {
    "ExecuteTime": {
     "end_time": "2023-01-24T14:59:27.006895Z",
     "start_time": "2023-01-24T14:59:25.616861Z"
    },
    "pycharm": {
     "name": "#%%\n"
    }
   },
   "outputs": [],
   "source": [
    "model.EEVmax = pyo.Param(model.ev, initialize =_auxDictionary(data['EVs_Inputs'].to_numpy()[:,2]))\n",
    "model.EEVmin = pyo.Param(model.ev, initialize =_auxDictionary(data['EVs_Inputs'].to_numpy()[:,1]))\n",
    "model.ESoc = pyo.Param(model.ev, initialize =_auxDictionary(data['EVs_Inputs'].to_numpy()[:,0]))\n",
    "model.dT = pyo.Param(model.t, initialize =_auxDictionary(data['Inputs'].to_numpy()[:,0]))\n",
    "model.cDA = pyo.Param(model.t, initialize =_auxDictionary(data['Inputs'].to_numpy()[:,1]))\n",
    "model.Pl = pyo.Param(model.t, initialize =_auxDictionary(data['Inputs'].to_numpy()[:,2]))\n",
    "model.Php = pyo.Param(model.t, initialize =_auxDictionary(data['Inputs'].to_numpy()[:,3]))\n",
    "model.PchmaxEV = pyo.Param(model.ev, model.t, initialize =_auxDictionary(data['PchmaxEV'].to_numpy()))\n",
    "model.S = pyo.Param(model.ev, model.t, initialize = _auxDictionary(data['S'].to_numpy()))\n",
    "model.alpha = pyo.Param(model.ev, model.t, initialize = _auxDictionary(data['alpha'].to_numpy()))\n",
    "model.RealHour = pyo.Param(model.t, initialize=_auxDictionary(data['Inputs'].to_numpy()[:,2]))\n",
    "model.penalty1 = 1000\n",
    "model.penalty2 = 1000\n",
    "model.penalty3 = 0.6\n",
    "model.Etrip = pyo.Param(model.ev, initialize=_auxDictionary(data['EVs_Inputs'].to_numpy()[:,3]))\n",
    "model.n = 0.95\n",
    "model.m = 0.6\n",
    "model.factor = 1"
   ]
  },
  {
   "cell_type": "markdown",
   "id": "045e98a7",
   "metadata": {
    "pycharm": {
     "name": "#%% md\n"
    }
   },
   "source": [
    "## Variables"
   ]
  },
  {
   "cell_type": "code",
   "execution_count": 9,
   "id": "c50b6b3f",
   "metadata": {
    "ExecuteTime": {
     "end_time": "2023-01-24T14:59:27.274910Z",
     "start_time": "2023-01-24T14:59:27.006895Z"
    },
    "pycharm": {
     "name": "#%%\n"
    }
   },
   "outputs": [],
   "source": [
    "model.PEV = pyo.Var(model.ev, model.t, domain = pyo.NonNegativeReals, initialize = 0)\n",
    "model.EEV = pyo.Var(model.ev, model.t, domain = pyo.Reals, initialize = 0)\n",
    "model.Etriprelax = pyo.Var(model.ev, model.t, domain = pyo.NonNegativeReals, initialize = 0)\n",
    "model.Eminsocrelax = pyo.Var(model.ev, model.t, domain = pyo.NonNegativeReals, initialize = 0)\n",
    "model.Etripn = pyo.Var(model.ev, model.t, domain = pyo.Reals, initialize = 0)"
   ]
  },
  {
   "cell_type": "markdown",
   "id": "669f2907",
   "metadata": {
    "pycharm": {
     "name": "#%% md\n"
    }
   },
   "source": [
    "## Constraints"
   ]
  },
  {
   "cell_type": "code",
   "execution_count": 10,
   "id": "25accaea",
   "metadata": {
    "ExecuteTime": {
     "end_time": "2023-01-24T15:00:10.116220Z",
     "start_time": "2023-01-24T14:59:27.276910Z"
    },
    "pycharm": {
     "name": "#%%\n"
    }
   },
   "outputs": [],
   "source": [
    "def _balance_etripn(m,ev,t): \n",
    "    return m.Etripn[ev,t] == m.Etrip[ev]*m.S[ev,t]/(sum([m.S[ev,k] for k in np.arange(1, n_time + 1)]))\n",
    "model.balance_etripn = pyo.Constraint(model.ev, model.t, rule = _balance_etripn)\n",
    "\n",
    "def _balance_energy_EVS3(m,ev,t): \n",
    "    if t == 24:\n",
    "        return m.EEV[ev,t] + m.Etriprelax[ev,t] == m.EEVmax[ev]*m.m\n",
    "    return pyo.Constraint.Skip\n",
    "model.balance_energy_EVS3 = pyo.Constraint(model.ev, model.t, rule = _balance_energy_EVS3)\n",
    "\n",
    "def _balance_energy_EVS(m,ev,t): \n",
    "    if t == 1:\n",
    "        return m.EEV[ev,t] - m.Etriprelax[ev,t] == m.ESoc[ev] + m.PEV[ev,t]*m.dT[t]*m.n - m.Etripn[ev,t]\n",
    "    return pyo.Constraint.Skip\n",
    "model.balance_energy_EVS = pyo.Constraint(model.ev, model.t, rule = _balance_energy_EVS)\n",
    "\n",
    "def _balance_energy_EVS2(m,ev,t): \n",
    "    if t > 1:\n",
    "        return m.EEV[ev,t] - m.Etriprelax[ev,t] == m.EEV[ev,t-1] + m.PEV[ev,t]*m.dT[t]*m.n - m.Etripn[ev,t]\n",
    "    return pyo.Constraint.Skip\n",
    "model.balance_energy_EVS2 = pyo.Constraint(model.ev, model.t, rule = _balance_energy_EVS2)\n",
    "\n",
    "def _power_charging_limit1(m,ev,t): \n",
    "    return m.PEV[ev,t] >= 0\n",
    "model.power_charging_limit1 = pyo.Constraint(model.ev, model.t, rule = _power_charging_limit1)\n",
    "\n",
    "def _power_charging_limit2(m,ev,t): \n",
    "    return m.PEV[ev,t] <= m.alpha[ev,t]*m.PchmaxEV[ev,t]*m.factor\n",
    "model.power_charging_limit2 = pyo.Constraint(model.ev, model.t, rule = _power_charging_limit2)\n",
    "\n",
    "def _energy_limits_EVS_1(m,ev,t): \n",
    "    return m.EEVmin[ev] <= m.EEV[ev,t] + m.Eminsocrelax[ev,t]\n",
    "    #return m.EEVmin[ev] <= m.EEV[ev,t]\n",
    "model.energy_limits_EVS_1 = pyo.Constraint(model.ev, model.t, rule = _energy_limits_EVS_1)\n",
    "\n",
    "def _energy_limits_EVS_2(m,ev,t): \n",
    "    return m.EEV[ev,t] <= m.EEVmax[ev]\n",
    "model.energy_limits_EVS_2 = pyo.Constraint(model.ev, model.t, rule = _energy_limits_EVS_2)\n",
    "\n",
    "def _power_peak_s(m,ev,t): \n",
    "    if (m.Pl[t] >= m.Php[t]):\n",
    "        return m.PEV[ev,t] == 0\n",
    "    else:\n",
    "        return m.Pl[t] + sum(m.PEV[e,t] for e in np.arange(1, n_evs + 1)) <= m.Php[t]    \n",
    "model.power_peak_s = pyo.Constraint(model.ev, model.t, rule = _power_peak_s)"
   ]
  },
  {
   "cell_type": "markdown",
   "id": "d2d4903c",
   "metadata": {
    "pycharm": {
     "name": "#%% md\n"
    }
   },
   "source": [
    "## Objective function"
   ]
  },
  {
   "cell_type": "code",
   "execution_count": 11,
   "id": "f3e893b1",
   "metadata": {
    "ExecuteTime": {
     "end_time": "2023-01-24T15:00:10.687246Z",
     "start_time": "2023-01-24T15:00:10.116220Z"
    },
    "pycharm": {
     "name": "#%%\n"
    }
   },
   "outputs": [],
   "source": [
    "def _FOag(m):\n",
    "    return sum([m.Etriprelax[ev,t]*m.penalty1 + m.Eminsocrelax[ev,t]*m.penalty2 for ev in np.arange(1, n_evs + 1) for t in np.arange(1, n_time + 1)])\n",
    "\n",
    "model.FOag = pyo.Objective(rule = _FOag, sense = pyo.minimize)"
   ]
  },
  {
   "cell_type": "markdown",
   "id": "f43870d7",
   "metadata": {
    "pycharm": {
     "name": "#%% md\n"
    }
   },
   "source": [
    "## Solve the model"
   ]
  },
  {
   "cell_type": "code",
   "execution_count": 12,
   "id": "70cead68",
   "metadata": {
    "ExecuteTime": {
     "end_time": "2023-01-24T15:01:10.220444Z",
     "start_time": "2023-01-24T15:00:10.687246Z"
    },
    "pycharm": {
     "name": "#%%\n"
    }
   },
   "outputs": [
    {
     "name": "stdout",
     "output_type": "stream",
     "text": [
      "# ==========================================================\n",
      "# = Solver Results                                         =\n",
      "# ==========================================================\n",
      "# ----------------------------------------------------------\n",
      "#   Problem Information\n",
      "# ----------------------------------------------------------\n",
      "Problem: \n",
      "- Name: tmpi289pl0t\n",
      "  Lower bound: 606751980.2388384\n",
      "  Upper bound: 606751980.2388384\n",
      "  Number of objectives: 1\n",
      "  Number of constraints: 507001\n",
      "  Number of variables: 360001\n",
      "  Number of nonzeros: 216795001\n",
      "  Sense: minimize\n",
      "# ----------------------------------------------------------\n",
      "#   Solver Information\n",
      "# ----------------------------------------------------------\n",
      "Solver: \n",
      "- Status: ok\n",
      "  User time: 98.33\n",
      "  Termination condition: optimal\n",
      "  Termination message: Dual simplex - Optimal\\x3a Objective = 6.0675198024e+08\n",
      "  Error rc: 0\n",
      "  Time: 205.24801588058472\n",
      "# ----------------------------------------------------------\n",
      "#   Solution Information\n",
      "# ----------------------------------------------------------\n",
      "Solution: \n",
      "- number of solutions: 0\n",
      "  number of solutions displayed: 0\n"
     ]
    }
   ],
   "source": [
    "from pyomo.opt import SolverFactory\n",
    "\n",
    "model.write('res_V4_EC.lp',  io_options={'symbolic_solver_labels': True})\n",
    "\n",
    "# Create a solver\n",
    "#opt = pyo.SolverFactory('cbc', executable='C:/Program Files/Cbc-releases.2.10.8-x86_64-w64-mingw64/bin/cbc.exe')\n",
    "\n",
    "opt = pyo.SolverFactory('cplex', executable='C:/Program Files/IBM/ILOG/CPLEX_Studio129/cplex/bin/x64_win64/cplex.exe')\n",
    "opt.options['LogFile'] = 'res_V4_EC.log'\n",
    "\n",
    "#opt = pyo.SolverFactory('ipopt', executable='C:/Program Files/Ipopt-3.11.1-win64-intel13.1/bin/ipopt.exe')\n",
    "#opt.options['print_level'] = 12\n",
    "#opt.options['output_file'] = \"res_V5_EC.log\"\n",
    "\n",
    "results = opt.solve(model)#, tee=True)\n",
    "results.write()"
   ]
  },
  {
   "cell_type": "markdown",
   "id": "9dae22e7",
   "metadata": {
    "pycharm": {
     "name": "#%% md\n"
    }
   },
   "source": [
    "## Objective Function Value"
   ]
  },
  {
   "cell_type": "code",
   "execution_count": 13,
   "id": "664345a4",
   "metadata": {
    "ExecuteTime": {
     "end_time": "2023-01-24T15:01:10.416455Z",
     "start_time": "2023-01-24T15:01:10.220444Z"
    },
    "pycharm": {
     "name": "#%%\n"
    }
   },
   "outputs": [
    {
     "data": {
      "text/plain": [
       "606751980.2388382"
      ]
     },
     "execution_count": 13,
     "metadata": {},
     "output_type": "execute_result"
    }
   ],
   "source": [
    "pyo.value(model.FOag)"
   ]
  },
  {
   "cell_type": "markdown",
   "id": "6c6d9e87",
   "metadata": {
    "pycharm": {
     "name": "#%% md\n"
    }
   },
   "source": [
    "## End Time"
   ]
  },
  {
   "cell_type": "code",
   "execution_count": 14,
   "id": "bce5cd97",
   "metadata": {
    "pycharm": {
     "name": "#%%\n"
    }
   },
   "outputs": [
    {
     "name": "stdout",
     "output_type": "stream",
     "text": [
      "End Time = 09:46:04\n",
      "Dif: 0:48:23\n"
     ]
    }
   ],
   "source": [
    "now = datetime.now()\n",
    "\n",
    "end_time = now.strftime(\"%H:%M:%S\")\n",
    "print(\"End Time =\", end_time)\n",
    "print(\"Dif: {}\".format(datetime.strptime(end_time, \"%H:%M:%S\") - datetime.strptime(start_time, \"%H:%M:%S\")))"
   ]
  },
  {
   "cell_type": "markdown",
   "id": "60ac176c",
   "metadata": {
    "pycharm": {
     "name": "#%% md\n"
    }
   },
   "source": [
    "## Cost Value"
   ]
  },
  {
   "cell_type": "code",
   "execution_count": 15,
   "id": "94a2a418",
   "metadata": {
    "ExecuteTime": {
     "end_time": "2023-01-24T15:01:10.423455Z",
     "start_time": "2023-01-24T15:01:10.417455Z"
    },
    "pycharm": {
     "name": "#%%\n"
    }
   },
   "outputs": [],
   "source": [
    "def ext_pyomo_vals(vals):\n",
    "    # make a pd.Series from each\n",
    "    s = pd.Series(vals.extract_values(),\n",
    "                  index=vals.extract_values().keys())\n",
    "    # if the series is multi-indexed we need to unstack it...\n",
    "    if type(s.index[0]) == tuple:    # it is multi-indexed\n",
    "        s = s.unstack(level=1)\n",
    "    else:\n",
    "        # force transition from Series -> df\n",
    "        s = pd.DataFrame(s)\n",
    "    return s"
   ]
  },
  {
   "cell_type": "code",
   "execution_count": 16,
   "id": "d8244095",
   "metadata": {
    "ExecuteTime": {
     "end_time": "2023-01-24T15:01:12.018489Z",
     "start_time": "2023-01-24T15:01:10.426455Z"
    },
    "pycharm": {
     "name": "#%%\n"
    }
   },
   "outputs": [
    {
     "name": "stdout",
     "output_type": "stream",
     "text": [
      "Charge cost: 4238376.651663228\n"
     ]
    }
   ],
   "source": [
    "PEV_df = ext_pyomo_vals(model.PEV)\n",
    "dT_df = ext_pyomo_vals(model.dT)\n",
    "cDA_df = ext_pyomo_vals(model.cDA)\n",
    "EEV_df = ext_pyomo_vals(model.EEV)\n",
    "\n",
    "charge_cost = sum([PEV_df[t][ev]*dT_df[0][t]*cDA_df[0][t]\n",
    "                   for ev in np.arange(1, n_evs + 1) for t in np.arange(1, n_time + 1)])\n",
    "\n",
    "print('Charge cost: {}'.format(charge_cost))"
   ]
  },
  {
   "cell_type": "markdown",
   "id": "2cea90c4",
   "metadata": {
    "pycharm": {
     "name": "#%% md\n"
    }
   },
   "source": [
    "## Results"
   ]
  },
  {
   "cell_type": "code",
   "execution_count": 17,
   "id": "e0d8d44c",
   "metadata": {
    "ExecuteTime": {
     "end_time": "2023-01-24T15:01:12.028489Z",
     "start_time": "2023-01-24T15:01:12.018489Z"
    },
    "pycharm": {
     "name": "#%%\n"
    }
   },
   "outputs": [
    {
     "name": "stdout",
     "output_type": "stream",
     "text": [
      "Total Charge: 21901028.475480027\n"
     ]
    }
   ],
   "source": [
    "print(\"Total Charge: {}\".format(np.sum(PEV_df.to_numpy())))"
   ]
  },
  {
   "cell_type": "code",
   "execution_count": 18,
   "id": "81838938",
   "metadata": {
    "ExecuteTime": {
     "end_time": "2023-01-24T15:01:12.081492Z",
     "start_time": "2023-01-24T15:01:12.032489Z"
    },
    "pycharm": {
     "name": "#%%\n"
    }
   },
   "outputs": [
    {
     "data": {
      "text/html": [
       "<div>\n",
       "<style scoped>\n",
       "    .dataframe tbody tr th:only-of-type {\n",
       "        vertical-align: middle;\n",
       "    }\n",
       "\n",
       "    .dataframe tbody tr th {\n",
       "        vertical-align: top;\n",
       "    }\n",
       "\n",
       "    .dataframe thead th {\n",
       "        text-align: right;\n",
       "    }\n",
       "</style>\n",
       "<table border=\"1\" class=\"dataframe\">\n",
       "  <thead>\n",
       "    <tr style=\"text-align: right;\">\n",
       "      <th></th>\n",
       "      <th>1</th>\n",
       "      <th>2</th>\n",
       "      <th>3</th>\n",
       "      <th>4</th>\n",
       "      <th>5</th>\n",
       "      <th>6</th>\n",
       "      <th>7</th>\n",
       "      <th>8</th>\n",
       "      <th>9</th>\n",
       "      <th>10</th>\n",
       "      <th>...</th>\n",
       "      <th>15</th>\n",
       "      <th>16</th>\n",
       "      <th>17</th>\n",
       "      <th>18</th>\n",
       "      <th>19</th>\n",
       "      <th>20</th>\n",
       "      <th>21</th>\n",
       "      <th>22</th>\n",
       "      <th>23</th>\n",
       "      <th>24</th>\n",
       "    </tr>\n",
       "  </thead>\n",
       "  <tbody>\n",
       "    <tr>\n",
       "      <th>1</th>\n",
       "      <td>42581.555235</td>\n",
       "      <td>42581.555235</td>\n",
       "      <td>42581.555235</td>\n",
       "      <td>46001.555235</td>\n",
       "      <td>49421.555235</td>\n",
       "      <td>49421.555235</td>\n",
       "      <td>49421.555235</td>\n",
       "      <td>52841.555235</td>\n",
       "      <td>52841.555235</td>\n",
       "      <td>50227.703490</td>\n",
       "      <td>...</td>\n",
       "      <td>47613.851745</td>\n",
       "      <td>47613.851745</td>\n",
       "      <td>47613.851745</td>\n",
       "      <td>47613.851745</td>\n",
       "      <td>47613.851745</td>\n",
       "      <td>47613.851745</td>\n",
       "      <td>47613.851745</td>\n",
       "      <td>47613.851745</td>\n",
       "      <td>47613.851745</td>\n",
       "      <td>45000.0</td>\n",
       "    </tr>\n",
       "    <tr>\n",
       "      <th>2</th>\n",
       "      <td>9960.000000</td>\n",
       "      <td>9960.000000</td>\n",
       "      <td>9960.000000</td>\n",
       "      <td>9960.000000</td>\n",
       "      <td>9960.000000</td>\n",
       "      <td>9960.000000</td>\n",
       "      <td>9960.000000</td>\n",
       "      <td>9960.000000</td>\n",
       "      <td>9960.000000</td>\n",
       "      <td>9960.000000</td>\n",
       "      <td>...</td>\n",
       "      <td>9308.123760</td>\n",
       "      <td>9308.123760</td>\n",
       "      <td>9308.123760</td>\n",
       "      <td>9308.123760</td>\n",
       "      <td>9308.123760</td>\n",
       "      <td>9308.123760</td>\n",
       "      <td>9308.123760</td>\n",
       "      <td>9308.123760</td>\n",
       "      <td>9308.123760</td>\n",
       "      <td>9960.0</td>\n",
       "    </tr>\n",
       "    <tr>\n",
       "      <th>3</th>\n",
       "      <td>40200.000000</td>\n",
       "      <td>40200.000000</td>\n",
       "      <td>40200.000000</td>\n",
       "      <td>40200.000000</td>\n",
       "      <td>40200.000000</td>\n",
       "      <td>40200.000000</td>\n",
       "      <td>40200.000000</td>\n",
       "      <td>43995.300800</td>\n",
       "      <td>50835.300800</td>\n",
       "      <td>47290.200533</td>\n",
       "      <td>...</td>\n",
       "      <td>43745.100267</td>\n",
       "      <td>43745.100267</td>\n",
       "      <td>43745.100267</td>\n",
       "      <td>43745.100267</td>\n",
       "      <td>43745.100267</td>\n",
       "      <td>43745.100267</td>\n",
       "      <td>43745.100267</td>\n",
       "      <td>43745.100267</td>\n",
       "      <td>43745.100267</td>\n",
       "      <td>40200.0</td>\n",
       "    </tr>\n",
       "    <tr>\n",
       "      <th>4</th>\n",
       "      <td>45000.000000</td>\n",
       "      <td>45000.000000</td>\n",
       "      <td>45000.000000</td>\n",
       "      <td>45000.000000</td>\n",
       "      <td>45000.000000</td>\n",
       "      <td>45000.000000</td>\n",
       "      <td>45000.000000</td>\n",
       "      <td>45000.000000</td>\n",
       "      <td>45000.000000</td>\n",
       "      <td>45000.000000</td>\n",
       "      <td>...</td>\n",
       "      <td>42852.739320</td>\n",
       "      <td>42852.739320</td>\n",
       "      <td>42852.739320</td>\n",
       "      <td>42852.739320</td>\n",
       "      <td>42852.739320</td>\n",
       "      <td>42852.739320</td>\n",
       "      <td>42852.739320</td>\n",
       "      <td>42852.739320</td>\n",
       "      <td>42852.739320</td>\n",
       "      <td>45000.0</td>\n",
       "    </tr>\n",
       "    <tr>\n",
       "      <th>5</th>\n",
       "      <td>46200.000000</td>\n",
       "      <td>46200.000000</td>\n",
       "      <td>46200.000000</td>\n",
       "      <td>46200.000000</td>\n",
       "      <td>46200.000000</td>\n",
       "      <td>46200.000000</td>\n",
       "      <td>46200.000000</td>\n",
       "      <td>46200.000000</td>\n",
       "      <td>46200.000000</td>\n",
       "      <td>46200.000000</td>\n",
       "      <td>...</td>\n",
       "      <td>45939.577080</td>\n",
       "      <td>45939.577080</td>\n",
       "      <td>45939.577080</td>\n",
       "      <td>45939.577080</td>\n",
       "      <td>45939.577080</td>\n",
       "      <td>45939.577080</td>\n",
       "      <td>45939.577080</td>\n",
       "      <td>45939.577080</td>\n",
       "      <td>45939.577080</td>\n",
       "      <td>46200.0</td>\n",
       "    </tr>\n",
       "    <tr>\n",
       "      <th>...</th>\n",
       "      <td>...</td>\n",
       "      <td>...</td>\n",
       "      <td>...</td>\n",
       "      <td>...</td>\n",
       "      <td>...</td>\n",
       "      <td>...</td>\n",
       "      <td>...</td>\n",
       "      <td>...</td>\n",
       "      <td>...</td>\n",
       "      <td>...</td>\n",
       "      <td>...</td>\n",
       "      <td>...</td>\n",
       "      <td>...</td>\n",
       "      <td>...</td>\n",
       "      <td>...</td>\n",
       "      <td>...</td>\n",
       "      <td>...</td>\n",
       "      <td>...</td>\n",
       "      <td>...</td>\n",
       "      <td>...</td>\n",
       "      <td>...</td>\n",
       "    </tr>\n",
       "    <tr>\n",
       "      <th>2996</th>\n",
       "      <td>45000.000000</td>\n",
       "      <td>45000.000000</td>\n",
       "      <td>45000.000000</td>\n",
       "      <td>45000.000000</td>\n",
       "      <td>45000.000000</td>\n",
       "      <td>45000.000000</td>\n",
       "      <td>45000.000000</td>\n",
       "      <td>45000.000000</td>\n",
       "      <td>45000.000000</td>\n",
       "      <td>45000.000000</td>\n",
       "      <td>...</td>\n",
       "      <td>42223.793400</td>\n",
       "      <td>42223.793400</td>\n",
       "      <td>42223.793400</td>\n",
       "      <td>42223.793400</td>\n",
       "      <td>42223.793400</td>\n",
       "      <td>42223.793400</td>\n",
       "      <td>42223.793400</td>\n",
       "      <td>42223.793400</td>\n",
       "      <td>47776.206600</td>\n",
       "      <td>45000.0</td>\n",
       "    </tr>\n",
       "    <tr>\n",
       "      <th>2997</th>\n",
       "      <td>43631.005300</td>\n",
       "      <td>43631.005300</td>\n",
       "      <td>43631.005300</td>\n",
       "      <td>43631.005300</td>\n",
       "      <td>43631.005300</td>\n",
       "      <td>43631.005300</td>\n",
       "      <td>43631.005300</td>\n",
       "      <td>43631.005300</td>\n",
       "      <td>43631.005300</td>\n",
       "      <td>43631.005300</td>\n",
       "      <td>...</td>\n",
       "      <td>42262.010600</td>\n",
       "      <td>42262.010600</td>\n",
       "      <td>42262.010600</td>\n",
       "      <td>42262.010600</td>\n",
       "      <td>42262.010600</td>\n",
       "      <td>42262.010600</td>\n",
       "      <td>42262.010600</td>\n",
       "      <td>45000.000000</td>\n",
       "      <td>45000.000000</td>\n",
       "      <td>45000.0</td>\n",
       "    </tr>\n",
       "    <tr>\n",
       "      <th>2998</th>\n",
       "      <td>42000.000000</td>\n",
       "      <td>42000.000000</td>\n",
       "      <td>42000.000000</td>\n",
       "      <td>42000.000000</td>\n",
       "      <td>42000.000000</td>\n",
       "      <td>42000.000000</td>\n",
       "      <td>42000.000000</td>\n",
       "      <td>42000.000000</td>\n",
       "      <td>42000.000000</td>\n",
       "      <td>42000.000000</td>\n",
       "      <td>...</td>\n",
       "      <td>48642.092229</td>\n",
       "      <td>45945.673783</td>\n",
       "      <td>45945.673783</td>\n",
       "      <td>43249.255337</td>\n",
       "      <td>43249.255337</td>\n",
       "      <td>43249.255337</td>\n",
       "      <td>40552.836891</td>\n",
       "      <td>37856.418446</td>\n",
       "      <td>42000.000000</td>\n",
       "      <td>42000.0</td>\n",
       "    </tr>\n",
       "    <tr>\n",
       "      <th>2999</th>\n",
       "      <td>43867.405980</td>\n",
       "      <td>43867.405980</td>\n",
       "      <td>43867.405980</td>\n",
       "      <td>43867.405980</td>\n",
       "      <td>43867.405980</td>\n",
       "      <td>43867.405980</td>\n",
       "      <td>43867.405980</td>\n",
       "      <td>43867.405980</td>\n",
       "      <td>43867.405980</td>\n",
       "      <td>43867.405980</td>\n",
       "      <td>...</td>\n",
       "      <td>42734.811960</td>\n",
       "      <td>42734.811960</td>\n",
       "      <td>42734.811960</td>\n",
       "      <td>42734.811960</td>\n",
       "      <td>42734.811960</td>\n",
       "      <td>42734.811960</td>\n",
       "      <td>42734.811960</td>\n",
       "      <td>45000.000000</td>\n",
       "      <td>45000.000000</td>\n",
       "      <td>45000.0</td>\n",
       "    </tr>\n",
       "    <tr>\n",
       "      <th>3000</th>\n",
       "      <td>8640.000000</td>\n",
       "      <td>8640.000000</td>\n",
       "      <td>8640.000000</td>\n",
       "      <td>8640.000000</td>\n",
       "      <td>8640.000000</td>\n",
       "      <td>8640.000000</td>\n",
       "      <td>8640.000000</td>\n",
       "      <td>8640.000000</td>\n",
       "      <td>8640.000000</td>\n",
       "      <td>8640.000000</td>\n",
       "      <td>...</td>\n",
       "      <td>8617.479150</td>\n",
       "      <td>8617.479150</td>\n",
       "      <td>8617.479150</td>\n",
       "      <td>8617.479150</td>\n",
       "      <td>8617.479150</td>\n",
       "      <td>8617.479150</td>\n",
       "      <td>8617.479150</td>\n",
       "      <td>8617.479150</td>\n",
       "      <td>8617.479150</td>\n",
       "      <td>8640.0</td>\n",
       "    </tr>\n",
       "  </tbody>\n",
       "</table>\n",
       "<p>3000 rows × 24 columns</p>\n",
       "</div>"
      ],
      "text/plain": [
       "                1             2             3             4             5   \\\n",
       "1     42581.555235  42581.555235  42581.555235  46001.555235  49421.555235   \n",
       "2      9960.000000   9960.000000   9960.000000   9960.000000   9960.000000   \n",
       "3     40200.000000  40200.000000  40200.000000  40200.000000  40200.000000   \n",
       "4     45000.000000  45000.000000  45000.000000  45000.000000  45000.000000   \n",
       "5     46200.000000  46200.000000  46200.000000  46200.000000  46200.000000   \n",
       "...            ...           ...           ...           ...           ...   \n",
       "2996  45000.000000  45000.000000  45000.000000  45000.000000  45000.000000   \n",
       "2997  43631.005300  43631.005300  43631.005300  43631.005300  43631.005300   \n",
       "2998  42000.000000  42000.000000  42000.000000  42000.000000  42000.000000   \n",
       "2999  43867.405980  43867.405980  43867.405980  43867.405980  43867.405980   \n",
       "3000   8640.000000   8640.000000   8640.000000   8640.000000   8640.000000   \n",
       "\n",
       "                6             7             8             9             10  \\\n",
       "1     49421.555235  49421.555235  52841.555235  52841.555235  50227.703490   \n",
       "2      9960.000000   9960.000000   9960.000000   9960.000000   9960.000000   \n",
       "3     40200.000000  40200.000000  43995.300800  50835.300800  47290.200533   \n",
       "4     45000.000000  45000.000000  45000.000000  45000.000000  45000.000000   \n",
       "5     46200.000000  46200.000000  46200.000000  46200.000000  46200.000000   \n",
       "...            ...           ...           ...           ...           ...   \n",
       "2996  45000.000000  45000.000000  45000.000000  45000.000000  45000.000000   \n",
       "2997  43631.005300  43631.005300  43631.005300  43631.005300  43631.005300   \n",
       "2998  42000.000000  42000.000000  42000.000000  42000.000000  42000.000000   \n",
       "2999  43867.405980  43867.405980  43867.405980  43867.405980  43867.405980   \n",
       "3000   8640.000000   8640.000000   8640.000000   8640.000000   8640.000000   \n",
       "\n",
       "      ...            15            16            17            18  \\\n",
       "1     ...  47613.851745  47613.851745  47613.851745  47613.851745   \n",
       "2     ...   9308.123760   9308.123760   9308.123760   9308.123760   \n",
       "3     ...  43745.100267  43745.100267  43745.100267  43745.100267   \n",
       "4     ...  42852.739320  42852.739320  42852.739320  42852.739320   \n",
       "5     ...  45939.577080  45939.577080  45939.577080  45939.577080   \n",
       "...   ...           ...           ...           ...           ...   \n",
       "2996  ...  42223.793400  42223.793400  42223.793400  42223.793400   \n",
       "2997  ...  42262.010600  42262.010600  42262.010600  42262.010600   \n",
       "2998  ...  48642.092229  45945.673783  45945.673783  43249.255337   \n",
       "2999  ...  42734.811960  42734.811960  42734.811960  42734.811960   \n",
       "3000  ...   8617.479150   8617.479150   8617.479150   8617.479150   \n",
       "\n",
       "                19            20            21            22            23  \\\n",
       "1     47613.851745  47613.851745  47613.851745  47613.851745  47613.851745   \n",
       "2      9308.123760   9308.123760   9308.123760   9308.123760   9308.123760   \n",
       "3     43745.100267  43745.100267  43745.100267  43745.100267  43745.100267   \n",
       "4     42852.739320  42852.739320  42852.739320  42852.739320  42852.739320   \n",
       "5     45939.577080  45939.577080  45939.577080  45939.577080  45939.577080   \n",
       "...            ...           ...           ...           ...           ...   \n",
       "2996  42223.793400  42223.793400  42223.793400  42223.793400  47776.206600   \n",
       "2997  42262.010600  42262.010600  42262.010600  45000.000000  45000.000000   \n",
       "2998  43249.255337  43249.255337  40552.836891  37856.418446  42000.000000   \n",
       "2999  42734.811960  42734.811960  42734.811960  45000.000000  45000.000000   \n",
       "3000   8617.479150   8617.479150   8617.479150   8617.479150   8617.479150   \n",
       "\n",
       "           24  \n",
       "1     45000.0  \n",
       "2      9960.0  \n",
       "3     40200.0  \n",
       "4     45000.0  \n",
       "5     46200.0  \n",
       "...       ...  \n",
       "2996  45000.0  \n",
       "2997  45000.0  \n",
       "2998  42000.0  \n",
       "2999  45000.0  \n",
       "3000   8640.0  \n",
       "\n",
       "[3000 rows x 24 columns]"
      ]
     },
     "execution_count": 18,
     "metadata": {},
     "output_type": "execute_result"
    }
   ],
   "source": [
    "EEV_df"
   ]
  },
  {
   "cell_type": "code",
   "execution_count": 19,
   "id": "e9005d49",
   "metadata": {
    "ExecuteTime": {
     "end_time": "2023-01-24T15:01:12.129495Z",
     "start_time": "2023-01-24T15:01:12.084492Z"
    },
    "pycharm": {
     "name": "#%%\n"
    }
   },
   "outputs": [
    {
     "data": {
      "text/html": [
       "<div>\n",
       "<style scoped>\n",
       "    .dataframe tbody tr th:only-of-type {\n",
       "        vertical-align: middle;\n",
       "    }\n",
       "\n",
       "    .dataframe tbody tr th {\n",
       "        vertical-align: top;\n",
       "    }\n",
       "\n",
       "    .dataframe thead th {\n",
       "        text-align: right;\n",
       "    }\n",
       "</style>\n",
       "<table border=\"1\" class=\"dataframe\">\n",
       "  <thead>\n",
       "    <tr style=\"text-align: right;\">\n",
       "      <th></th>\n",
       "      <th>1</th>\n",
       "      <th>2</th>\n",
       "      <th>3</th>\n",
       "      <th>4</th>\n",
       "      <th>5</th>\n",
       "      <th>6</th>\n",
       "      <th>7</th>\n",
       "      <th>8</th>\n",
       "      <th>9</th>\n",
       "      <th>10</th>\n",
       "      <th>...</th>\n",
       "      <th>15</th>\n",
       "      <th>16</th>\n",
       "      <th>17</th>\n",
       "      <th>18</th>\n",
       "      <th>19</th>\n",
       "      <th>20</th>\n",
       "      <th>21</th>\n",
       "      <th>22</th>\n",
       "      <th>23</th>\n",
       "      <th>24</th>\n",
       "    </tr>\n",
       "  </thead>\n",
       "  <tbody>\n",
       "    <tr>\n",
       "      <th>1</th>\n",
       "      <td>205.691558</td>\n",
       "      <td>0.0</td>\n",
       "      <td>0.0</td>\n",
       "      <td>3600.0</td>\n",
       "      <td>3600.0</td>\n",
       "      <td>0.0</td>\n",
       "      <td>0.0</td>\n",
       "      <td>3600.000000</td>\n",
       "      <td>0.0</td>\n",
       "      <td>0.0</td>\n",
       "      <td>...</td>\n",
       "      <td>0.0</td>\n",
       "      <td>0.0</td>\n",
       "      <td>0.0</td>\n",
       "      <td>0.0</td>\n",
       "      <td>0.0</td>\n",
       "      <td>0.0</td>\n",
       "      <td>0.0</td>\n",
       "      <td>0.000000</td>\n",
       "      <td>0.000000</td>\n",
       "      <td>0.000000</td>\n",
       "    </tr>\n",
       "    <tr>\n",
       "      <th>2</th>\n",
       "      <td>0.000000</td>\n",
       "      <td>0.0</td>\n",
       "      <td>0.0</td>\n",
       "      <td>0.0</td>\n",
       "      <td>0.0</td>\n",
       "      <td>0.0</td>\n",
       "      <td>0.0</td>\n",
       "      <td>0.000000</td>\n",
       "      <td>0.0</td>\n",
       "      <td>0.0</td>\n",
       "      <td>...</td>\n",
       "      <td>0.0</td>\n",
       "      <td>0.0</td>\n",
       "      <td>0.0</td>\n",
       "      <td>0.0</td>\n",
       "      <td>0.0</td>\n",
       "      <td>0.0</td>\n",
       "      <td>0.0</td>\n",
       "      <td>0.000000</td>\n",
       "      <td>0.000000</td>\n",
       "      <td>1372.371032</td>\n",
       "    </tr>\n",
       "    <tr>\n",
       "      <th>3</th>\n",
       "      <td>0.000000</td>\n",
       "      <td>0.0</td>\n",
       "      <td>0.0</td>\n",
       "      <td>0.0</td>\n",
       "      <td>0.0</td>\n",
       "      <td>0.0</td>\n",
       "      <td>0.0</td>\n",
       "      <td>3995.053474</td>\n",
       "      <td>7200.0</td>\n",
       "      <td>0.0</td>\n",
       "      <td>...</td>\n",
       "      <td>0.0</td>\n",
       "      <td>0.0</td>\n",
       "      <td>0.0</td>\n",
       "      <td>0.0</td>\n",
       "      <td>0.0</td>\n",
       "      <td>0.0</td>\n",
       "      <td>0.0</td>\n",
       "      <td>0.000000</td>\n",
       "      <td>0.000000</td>\n",
       "      <td>0.000000</td>\n",
       "    </tr>\n",
       "    <tr>\n",
       "      <th>4</th>\n",
       "      <td>0.000000</td>\n",
       "      <td>0.0</td>\n",
       "      <td>0.0</td>\n",
       "      <td>0.0</td>\n",
       "      <td>0.0</td>\n",
       "      <td>0.0</td>\n",
       "      <td>0.0</td>\n",
       "      <td>0.000000</td>\n",
       "      <td>0.0</td>\n",
       "      <td>0.0</td>\n",
       "      <td>...</td>\n",
       "      <td>0.0</td>\n",
       "      <td>0.0</td>\n",
       "      <td>0.0</td>\n",
       "      <td>0.0</td>\n",
       "      <td>0.0</td>\n",
       "      <td>0.0</td>\n",
       "      <td>0.0</td>\n",
       "      <td>0.000000</td>\n",
       "      <td>0.000000</td>\n",
       "      <td>4520.548800</td>\n",
       "    </tr>\n",
       "    <tr>\n",
       "      <th>5</th>\n",
       "      <td>0.000000</td>\n",
       "      <td>0.0</td>\n",
       "      <td>0.0</td>\n",
       "      <td>0.0</td>\n",
       "      <td>0.0</td>\n",
       "      <td>0.0</td>\n",
       "      <td>0.0</td>\n",
       "      <td>0.000000</td>\n",
       "      <td>0.0</td>\n",
       "      <td>0.0</td>\n",
       "      <td>...</td>\n",
       "      <td>0.0</td>\n",
       "      <td>0.0</td>\n",
       "      <td>0.0</td>\n",
       "      <td>0.0</td>\n",
       "      <td>0.0</td>\n",
       "      <td>0.0</td>\n",
       "      <td>0.0</td>\n",
       "      <td>0.000000</td>\n",
       "      <td>0.000000</td>\n",
       "      <td>548.258779</td>\n",
       "    </tr>\n",
       "    <tr>\n",
       "      <th>...</th>\n",
       "      <td>...</td>\n",
       "      <td>...</td>\n",
       "      <td>...</td>\n",
       "      <td>...</td>\n",
       "      <td>...</td>\n",
       "      <td>...</td>\n",
       "      <td>...</td>\n",
       "      <td>...</td>\n",
       "      <td>...</td>\n",
       "      <td>...</td>\n",
       "      <td>...</td>\n",
       "      <td>...</td>\n",
       "      <td>...</td>\n",
       "      <td>...</td>\n",
       "      <td>...</td>\n",
       "      <td>...</td>\n",
       "      <td>...</td>\n",
       "      <td>...</td>\n",
       "      <td>...</td>\n",
       "      <td>...</td>\n",
       "      <td>...</td>\n",
       "    </tr>\n",
       "    <tr>\n",
       "      <th>2996</th>\n",
       "      <td>0.000000</td>\n",
       "      <td>0.0</td>\n",
       "      <td>0.0</td>\n",
       "      <td>0.0</td>\n",
       "      <td>0.0</td>\n",
       "      <td>0.0</td>\n",
       "      <td>0.0</td>\n",
       "      <td>0.000000</td>\n",
       "      <td>0.0</td>\n",
       "      <td>0.0</td>\n",
       "      <td>...</td>\n",
       "      <td>0.0</td>\n",
       "      <td>0.0</td>\n",
       "      <td>0.0</td>\n",
       "      <td>0.0</td>\n",
       "      <td>0.0</td>\n",
       "      <td>0.0</td>\n",
       "      <td>0.0</td>\n",
       "      <td>0.000000</td>\n",
       "      <td>5844.645474</td>\n",
       "      <td>0.000000</td>\n",
       "    </tr>\n",
       "    <tr>\n",
       "      <th>2997</th>\n",
       "      <td>0.000000</td>\n",
       "      <td>0.0</td>\n",
       "      <td>0.0</td>\n",
       "      <td>0.0</td>\n",
       "      <td>0.0</td>\n",
       "      <td>0.0</td>\n",
       "      <td>0.0</td>\n",
       "      <td>0.000000</td>\n",
       "      <td>0.0</td>\n",
       "      <td>0.0</td>\n",
       "      <td>...</td>\n",
       "      <td>0.0</td>\n",
       "      <td>0.0</td>\n",
       "      <td>0.0</td>\n",
       "      <td>0.0</td>\n",
       "      <td>0.0</td>\n",
       "      <td>0.0</td>\n",
       "      <td>0.0</td>\n",
       "      <td>2882.094105</td>\n",
       "      <td>0.000000</td>\n",
       "      <td>0.000000</td>\n",
       "    </tr>\n",
       "    <tr>\n",
       "      <th>2998</th>\n",
       "      <td>0.000000</td>\n",
       "      <td>0.0</td>\n",
       "      <td>0.0</td>\n",
       "      <td>0.0</td>\n",
       "      <td>0.0</td>\n",
       "      <td>0.0</td>\n",
       "      <td>0.0</td>\n",
       "      <td>0.000000</td>\n",
       "      <td>0.0</td>\n",
       "      <td>0.0</td>\n",
       "      <td>...</td>\n",
       "      <td>0.0</td>\n",
       "      <td>0.0</td>\n",
       "      <td>0.0</td>\n",
       "      <td>0.0</td>\n",
       "      <td>0.0</td>\n",
       "      <td>0.0</td>\n",
       "      <td>0.0</td>\n",
       "      <td>0.000000</td>\n",
       "      <td>7200.000000</td>\n",
       "      <td>0.000000</td>\n",
       "    </tr>\n",
       "    <tr>\n",
       "      <th>2999</th>\n",
       "      <td>0.000000</td>\n",
       "      <td>0.0</td>\n",
       "      <td>0.0</td>\n",
       "      <td>0.0</td>\n",
       "      <td>0.0</td>\n",
       "      <td>0.0</td>\n",
       "      <td>0.0</td>\n",
       "      <td>0.000000</td>\n",
       "      <td>0.0</td>\n",
       "      <td>0.0</td>\n",
       "      <td>...</td>\n",
       "      <td>0.0</td>\n",
       "      <td>0.0</td>\n",
       "      <td>0.0</td>\n",
       "      <td>0.0</td>\n",
       "      <td>0.0</td>\n",
       "      <td>0.0</td>\n",
       "      <td>0.0</td>\n",
       "      <td>2384.408463</td>\n",
       "      <td>0.000000</td>\n",
       "      <td>0.000000</td>\n",
       "    </tr>\n",
       "    <tr>\n",
       "      <th>3000</th>\n",
       "      <td>0.000000</td>\n",
       "      <td>0.0</td>\n",
       "      <td>0.0</td>\n",
       "      <td>0.0</td>\n",
       "      <td>0.0</td>\n",
       "      <td>0.0</td>\n",
       "      <td>0.0</td>\n",
       "      <td>0.000000</td>\n",
       "      <td>0.0</td>\n",
       "      <td>0.0</td>\n",
       "      <td>...</td>\n",
       "      <td>0.0</td>\n",
       "      <td>0.0</td>\n",
       "      <td>0.0</td>\n",
       "      <td>0.0</td>\n",
       "      <td>0.0</td>\n",
       "      <td>0.0</td>\n",
       "      <td>0.0</td>\n",
       "      <td>0.000000</td>\n",
       "      <td>0.000000</td>\n",
       "      <td>47.412316</td>\n",
       "    </tr>\n",
       "  </tbody>\n",
       "</table>\n",
       "<p>3000 rows × 24 columns</p>\n",
       "</div>"
      ],
      "text/plain": [
       "              1    2    3       4       5    6    7            8       9   \\\n",
       "1     205.691558  0.0  0.0  3600.0  3600.0  0.0  0.0  3600.000000     0.0   \n",
       "2       0.000000  0.0  0.0     0.0     0.0  0.0  0.0     0.000000     0.0   \n",
       "3       0.000000  0.0  0.0     0.0     0.0  0.0  0.0  3995.053474  7200.0   \n",
       "4       0.000000  0.0  0.0     0.0     0.0  0.0  0.0     0.000000     0.0   \n",
       "5       0.000000  0.0  0.0     0.0     0.0  0.0  0.0     0.000000     0.0   \n",
       "...          ...  ...  ...     ...     ...  ...  ...          ...     ...   \n",
       "2996    0.000000  0.0  0.0     0.0     0.0  0.0  0.0     0.000000     0.0   \n",
       "2997    0.000000  0.0  0.0     0.0     0.0  0.0  0.0     0.000000     0.0   \n",
       "2998    0.000000  0.0  0.0     0.0     0.0  0.0  0.0     0.000000     0.0   \n",
       "2999    0.000000  0.0  0.0     0.0     0.0  0.0  0.0     0.000000     0.0   \n",
       "3000    0.000000  0.0  0.0     0.0     0.0  0.0  0.0     0.000000     0.0   \n",
       "\n",
       "       10  ...   15   16   17   18   19   20   21           22           23  \\\n",
       "1     0.0  ...  0.0  0.0  0.0  0.0  0.0  0.0  0.0     0.000000     0.000000   \n",
       "2     0.0  ...  0.0  0.0  0.0  0.0  0.0  0.0  0.0     0.000000     0.000000   \n",
       "3     0.0  ...  0.0  0.0  0.0  0.0  0.0  0.0  0.0     0.000000     0.000000   \n",
       "4     0.0  ...  0.0  0.0  0.0  0.0  0.0  0.0  0.0     0.000000     0.000000   \n",
       "5     0.0  ...  0.0  0.0  0.0  0.0  0.0  0.0  0.0     0.000000     0.000000   \n",
       "...   ...  ...  ...  ...  ...  ...  ...  ...  ...          ...          ...   \n",
       "2996  0.0  ...  0.0  0.0  0.0  0.0  0.0  0.0  0.0     0.000000  5844.645474   \n",
       "2997  0.0  ...  0.0  0.0  0.0  0.0  0.0  0.0  0.0  2882.094105     0.000000   \n",
       "2998  0.0  ...  0.0  0.0  0.0  0.0  0.0  0.0  0.0     0.000000  7200.000000   \n",
       "2999  0.0  ...  0.0  0.0  0.0  0.0  0.0  0.0  0.0  2384.408463     0.000000   \n",
       "3000  0.0  ...  0.0  0.0  0.0  0.0  0.0  0.0  0.0     0.000000     0.000000   \n",
       "\n",
       "               24  \n",
       "1        0.000000  \n",
       "2     1372.371032  \n",
       "3        0.000000  \n",
       "4     4520.548800  \n",
       "5      548.258779  \n",
       "...           ...  \n",
       "2996     0.000000  \n",
       "2997     0.000000  \n",
       "2998     0.000000  \n",
       "2999     0.000000  \n",
       "3000    47.412316  \n",
       "\n",
       "[3000 rows x 24 columns]"
      ]
     },
     "execution_count": 19,
     "metadata": {},
     "output_type": "execute_result"
    }
   ],
   "source": [
    "PEV_df"
   ]
  },
  {
   "cell_type": "code",
   "execution_count": 20,
   "id": "6bd58f09",
   "metadata": {
    "ExecuteTime": {
     "end_time": "2023-01-24T15:01:12.141495Z",
     "start_time": "2023-01-24T15:01:12.130495Z"
    },
    "pycharm": {
     "name": "#%%\n"
    }
   },
   "outputs": [
    {
     "data": {
      "text/plain": [
       "1     1.275826e+05\n",
       "2     1.151844e+05\n",
       "3     1.228940e+05\n",
       "4     1.130054e+06\n",
       "5     2.302352e+05\n",
       "6     1.754544e+05\n",
       "7     1.026762e+06\n",
       "8     1.055215e+06\n",
       "9     9.199969e+05\n",
       "10    1.277181e+06\n",
       "11    1.289836e+06\n",
       "12    1.070450e+06\n",
       "13    8.470345e+05\n",
       "14    1.044673e+06\n",
       "15    3.808399e+05\n",
       "16    2.887602e+05\n",
       "17    3.162746e+05\n",
       "18    4.057130e+05\n",
       "19    3.136425e+05\n",
       "20    3.889530e+05\n",
       "21    2.692296e+06\n",
       "22    2.071862e+06\n",
       "23    2.363549e+06\n",
       "24    2.246586e+06\n",
       "dtype: float64"
      ]
     },
     "execution_count": 20,
     "metadata": {},
     "output_type": "execute_result"
    }
   ],
   "source": [
    "PEV_df.sum()"
   ]
  },
  {
   "cell_type": "code",
   "execution_count": 21,
   "id": "ddb463db",
   "metadata": {
    "ExecuteTime": {
     "end_time": "2023-01-24T17:14:08.706984Z",
     "start_time": "2023-01-24T17:14:08.159978Z"
    },
    "pycharm": {
     "name": "#%%\n"
    }
   },
   "outputs": [],
   "source": [
    "Etriprelax_df = ext_pyomo_vals(model.Etriprelax)"
   ]
  },
  {
   "cell_type": "code",
   "execution_count": 22,
   "id": "67f5d1eb",
   "metadata": {
    "ExecuteTime": {
     "end_time": "2023-01-24T17:14:14.048211Z",
     "start_time": "2023-01-24T17:14:14.015209Z"
    },
    "pycharm": {
     "name": "#%%\n"
    }
   },
   "outputs": [
    {
     "data": {
      "text/plain": [
       "1          0.000000\n",
       "2          0.000000\n",
       "3          0.000000\n",
       "4          0.000000\n",
       "5          0.000000\n",
       "6          0.000000\n",
       "7          0.000000\n",
       "8          0.000000\n",
       "9          0.000000\n",
       "10         0.000000\n",
       "11         0.000000\n",
       "12         0.000000\n",
       "13       106.277646\n",
       "14      8070.752858\n",
       "15     22846.032741\n",
       "16     36585.056179\n",
       "17     99000.457414\n",
       "18     82202.062632\n",
       "19     43220.856943\n",
       "20     53994.526756\n",
       "21     22783.685658\n",
       "22     29766.261031\n",
       "23      7842.592174\n",
       "24    193628.721652\n",
       "dtype: float64"
      ]
     },
     "execution_count": 22,
     "metadata": {},
     "output_type": "execute_result"
    }
   ],
   "source": [
    "Etriprelax_df.sum()"
   ]
  },
  {
   "cell_type": "code",
   "execution_count": 23,
   "id": "1927050c",
   "metadata": {
    "ExecuteTime": {
     "end_time": "2023-01-24T17:14:18.770418Z",
     "start_time": "2023-01-24T17:14:18.599413Z"
    },
    "pycharm": {
     "name": "#%%\n"
    }
   },
   "outputs": [],
   "source": [
    "Eminsocrelax_df = ext_pyomo_vals(model.Eminsocrelax)"
   ]
  },
  {
   "cell_type": "code",
   "execution_count": 24,
   "id": "5e7cc827",
   "metadata": {
    "ExecuteTime": {
     "end_time": "2023-01-24T17:14:23.651630Z",
     "start_time": "2023-01-24T17:14:23.642630Z"
    },
    "pycharm": {
     "name": "#%%\n"
    }
   },
   "outputs": [
    {
     "data": {
      "text/plain": [
       "1        0.000000\n",
       "2        0.000000\n",
       "3        0.000000\n",
       "4        0.000000\n",
       "5        0.000000\n",
       "6        0.000000\n",
       "7        0.000000\n",
       "8        0.000000\n",
       "9        0.000000\n",
       "10       0.000000\n",
       "11       0.000000\n",
       "12       0.000000\n",
       "13       0.000000\n",
       "14       0.000000\n",
       "15       0.000000\n",
       "16       0.000000\n",
       "17       0.000000\n",
       "18       0.000000\n",
       "19       0.000000\n",
       "20       0.000000\n",
       "21       0.000000\n",
       "22    6704.696555\n",
       "23       0.000000\n",
       "24       0.000000\n",
       "dtype: float64"
      ]
     },
     "execution_count": 24,
     "metadata": {},
     "output_type": "execute_result"
    }
   ],
   "source": [
    "Eminsocrelax_df.sum()"
   ]
  },
  {
   "cell_type": "code",
   "execution_count": 25,
   "id": "32b95b3a",
   "metadata": {
    "ExecuteTime": {
     "end_time": "2023-01-24T17:14:28.925875Z",
     "start_time": "2023-01-24T17:14:28.757869Z"
    },
    "pycharm": {
     "name": "#%%\n"
    }
   },
   "outputs": [],
   "source": [
    "Etripn_df = ext_pyomo_vals(model.Etripn)"
   ]
  },
  {
   "cell_type": "code",
   "execution_count": 26,
   "id": "15b20ddd",
   "metadata": {
    "ExecuteTime": {
     "end_time": "2023-01-24T17:14:38.964194Z",
     "start_time": "2023-01-24T17:14:38.954194Z"
    },
    "pycharm": {
     "name": "#%%\n"
    }
   },
   "outputs": [
    {
     "data": {
      "text/plain": [
       "1     1.673788e+06\n",
       "2     2.896256e+04\n",
       "3     0.000000e+00\n",
       "4     0.000000e+00\n",
       "5     0.000000e+00\n",
       "6     0.000000e+00\n",
       "7     0.000000e+00\n",
       "8     0.000000e+00\n",
       "9     0.000000e+00\n",
       "10    5.465601e+05\n",
       "11    1.315866e+06\n",
       "12    0.000000e+00\n",
       "13    8.313551e+05\n",
       "14    3.272904e+06\n",
       "15    1.418766e+06\n",
       "16    1.735838e+06\n",
       "17    5.656545e+05\n",
       "18    1.100017e+06\n",
       "19    3.648812e+05\n",
       "20    1.147978e+06\n",
       "21    1.388378e+06\n",
       "22    1.200184e+06\n",
       "23    1.404881e+06\n",
       "24    3.603640e+06\n",
       "dtype: float64"
      ]
     },
     "execution_count": 26,
     "metadata": {},
     "output_type": "execute_result"
    }
   ],
   "source": [
    "Etripn_df.sum()"
   ]
  },
  {
   "cell_type": "markdown",
   "id": "e512c47b",
   "metadata": {
    "pycharm": {
     "name": "#%% md\n"
    }
   },
   "source": [
    "## Save results in csv files"
   ]
  },
  {
   "cell_type": "code",
   "execution_count": 27,
   "id": "f011a676",
   "metadata": {
    "ExecuteTime": {
     "end_time": "2023-01-24T17:23:32.263705Z",
     "start_time": "2023-01-24T17:23:32.087698Z"
    },
    "pycharm": {
     "name": "#%%\n"
    }
   },
   "outputs": [],
   "source": [
    "import os \n",
    "folder = 'results_PeakS_' + str(n_evs)\n",
    "\n",
    "if not os.path.exists(folder):\n",
    "    os.makedirs(folder)\n",
    "    \n",
    "EEV_df.to_csv(folder + '/EEV.csv')\n",
    "PEV_df.to_csv(folder + '/PEV.csv')\n",
    "PEV_df.sum().to_csv(folder + '/PEV_h.csv')\n",
    "\n",
    "Etriprelax_df.to_csv(folder + '/Etriprelax.csv')\n",
    "Etriprelax_df.sum().to_csv(folder + '/Etriprelax_h.csv')\n",
    "\n",
    "Eminsocrelax_df.to_csv(folder + '/Eminsocrelax.csv')\n",
    "Eminsocrelax_df.sum().to_csv(folder + '/Eminsocrelax_h.csv')\n",
    "\n",
    "Etripn_df.to_csv(folder + '/Etripn.csv')\n",
    "Etripn_df.sum().to_csv(folder + '/Etripn_h.csv')"
   ]
  },
  {
   "cell_type": "code",
   "execution_count": null,
   "id": "8b97779e",
   "metadata": {
    "pycharm": {
     "name": "#%%\n"
    }
   },
   "outputs": [],
   "source": []
  }
 ],
 "metadata": {
  "kernelspec": {
   "display_name": "Python 3 (ipykernel)",
   "language": "python",
   "name": "python3"
  },
  "language_info": {
   "codemirror_mode": {
    "name": "ipython",
    "version": 3
   },
   "file_extension": ".py",
   "mimetype": "text/x-python",
   "name": "python",
   "nbconvert_exporter": "python",
   "pygments_lexer": "ipython3",
   "version": "3.10.11"
  },
  "toc": {
   "base_numbering": 1,
   "nav_menu": {},
   "number_sections": true,
   "sideBar": true,
   "skip_h1_title": false,
   "title_cell": "Table of Contents",
   "title_sidebar": "Contents",
   "toc_cell": false,
   "toc_position": {},
   "toc_section_display": true,
   "toc_window_display": false
  }
 },
 "nbformat": 4,
 "nbformat_minor": 5
}
