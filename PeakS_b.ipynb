{
 "cells": [
  {
   "cell_type": "markdown",
   "id": "126d97de",
   "metadata": {
    "pycharm": {
     "name": "#%% md\n"
    }
   },
   "source": [
    "## Import packages"
   ]
  },
  {
   "cell_type": "code",
   "execution_count": 1,
   "id": "152b466c",
   "metadata": {
    "ExecuteTime": {
     "end_time": "2023-01-24T15:02:06.288963Z",
     "start_time": "2023-01-24T15:02:05.310944Z"
    },
    "pycharm": {
     "name": "#%%\n"
    }
   },
   "outputs": [],
   "source": [
    "import pyomo\n",
    "import pyomo.opt\n",
    "import pyomo.environ as pyo\n",
    "import numpy as np\n",
    "import pandas as pd\n",
    "import matplotlib as plt"
   ]
  },
  {
   "cell_type": "code",
   "execution_count": 2,
   "id": "28f02ebc",
   "metadata": {
    "ExecuteTime": {
     "end_time": "2023-01-24T15:02:06.293963Z",
     "start_time": "2023-01-24T15:02:06.288963Z"
    },
    "pycharm": {
     "name": "#%%\n"
    }
   },
   "outputs": [],
   "source": [
    "n_time = 24"
   ]
  },
  {
   "cell_type": "code",
   "execution_count": 3,
   "id": "b0547e3b",
   "metadata": {
    "ExecuteTime": {
     "end_time": "2023-01-24T15:02:06.306963Z",
     "start_time": "2023-01-24T15:02:06.293963Z"
    },
    "pycharm": {
     "name": "#%%\n"
    }
   },
   "outputs": [],
   "source": [
    "def _auxDictionary(a):\n",
    "    temp_dictionary = {}\n",
    "    if len(a.shape) == 3:\n",
    "        for dim0 in np.arange(a.shape[0]):\n",
    "            for dim1 in np.arange(a.shape[1]):\n",
    "                for dim2 in np.arange(a.shape[2]):\n",
    "                    temp_dictionary[(dim0+1, dim1+1, dim2+1)] = a[dim0, dim1, dim2]\n",
    "    elif len(a.shape) == 2:\n",
    "        for dim0 in np.arange(a.shape[0]):\n",
    "            for dim1 in np.arange(a.shape[1]):\n",
    "                temp_dictionary[(dim0+1, dim1+1)] = a[dim0, dim1]\n",
    "    else:\n",
    "        for dim0 in np.arange(a.shape[0]):\n",
    "            temp_dictionary[(dim0+1)] = a[dim0]\n",
    "    return temp_dictionary\n",
    "#temp_dict1 = _auxDictionary(loadLimit)"
   ]
  },
  {
   "cell_type": "markdown",
   "id": "d5db0592",
   "metadata": {
    "pycharm": {
     "name": "#%% md\n"
    }
   },
   "source": [
    "## Data"
   ]
  },
  {
   "cell_type": "code",
   "execution_count": 4,
   "id": "9b292084",
   "metadata": {
    "ExecuteTime": {
     "end_time": "2023-01-24T15:02:06.339965Z",
     "start_time": "2023-01-24T15:02:06.308963Z"
    },
    "pycharm": {
     "name": "#%%\n"
    }
   },
   "outputs": [],
   "source": [
    "data = {}\n",
    "data['Inputs'] = pd.read_csv('Inputs.csv')\n",
    "data['EVs_Inputs'] = pd.read_csv('EVs_Inputs.csv')\n",
    "data['alpha'] = pd.read_csv('alpha.csv')\n",
    "data['PchmaxEV'] = pd.read_csv('PchmaxEV.csv')\n",
    "data['S'] = pd.read_csv('S.csv')"
   ]
  },
  {
   "cell_type": "code",
   "execution_count": 5,
   "id": "8b589f7f",
   "metadata": {
    "ExecuteTime": {
     "end_time": "2023-01-24T15:02:06.344965Z",
     "start_time": "2023-01-24T15:02:06.340965Z"
    },
    "pycharm": {
     "name": "#%%\n"
    }
   },
   "outputs": [],
   "source": [
    "n_evs = data['EVs_Inputs']['Esoc'].size"
   ]
  },
  {
   "cell_type": "markdown",
   "id": "2aebf038",
   "metadata": {
    "pycharm": {
     "name": "#%% md\n"
    }
   },
   "source": [
    "## Start Time"
   ]
  },
  {
   "cell_type": "code",
   "execution_count": 6,
   "id": "f3f169e3",
   "metadata": {
    "pycharm": {
     "name": "#%%\n"
    }
   },
   "outputs": [
    {
     "name": "stdout",
     "output_type": "stream",
     "text": [
      "Start Time = 14:50:05\n"
     ]
    }
   ],
   "source": [
    "from datetime import datetime\n",
    "\n",
    "now = datetime.now()\n",
    "\n",
    "start_time = now.strftime(\"%H:%M:%S\")\n",
    "print(\"Start Time =\", start_time)"
   ]
  },
  {
   "cell_type": "markdown",
   "id": "be596a04",
   "metadata": {
    "pycharm": {
     "name": "#%% md\n"
    }
   },
   "source": [
    "## Sets"
   ]
  },
  {
   "cell_type": "code",
   "execution_count": 7,
   "id": "22191c3f",
   "metadata": {
    "ExecuteTime": {
     "end_time": "2023-01-24T15:02:06.357966Z",
     "start_time": "2023-01-24T15:02:06.346966Z"
    },
    "pycharm": {
     "name": "#%%\n"
    }
   },
   "outputs": [],
   "source": [
    "model = pyo.ConcreteModel()\n",
    "\n",
    "model.ev = pyo.Set(initialize = np.arange(1, n_evs + 1))\n",
    "model.t = pyo.Set(initialize = np.arange(1, n_time + 1))\n"
   ]
  },
  {
   "cell_type": "markdown",
   "id": "b704f6a9",
   "metadata": {
    "pycharm": {
     "name": "#%% md\n"
    }
   },
   "source": [
    "## Parameters"
   ]
  },
  {
   "cell_type": "code",
   "execution_count": 8,
   "id": "1a914992",
   "metadata": {
    "ExecuteTime": {
     "end_time": "2023-01-24T15:02:07.739001Z",
     "start_time": "2023-01-24T15:02:06.359966Z"
    },
    "pycharm": {
     "name": "#%%\n"
    }
   },
   "outputs": [],
   "source": [
    "model.EEVmax = pyo.Param(model.ev, initialize =_auxDictionary(data['EVs_Inputs'].to_numpy()[:,2]))\n",
    "model.EEVmin = pyo.Param(model.ev, initialize =_auxDictionary(data['EVs_Inputs'].to_numpy()[:,1]))\n",
    "model.ESoc = pyo.Param(model.ev, initialize =_auxDictionary(data['EVs_Inputs'].to_numpy()[:,0]))\n",
    "model.dT = pyo.Param(model.t, initialize =_auxDictionary(data['Inputs'].to_numpy()[:,0]))\n",
    "model.cDA = pyo.Param(model.t, initialize =_auxDictionary(data['Inputs'].to_numpy()[:,1]))\n",
    "model.Pl = pyo.Param(model.t, initialize =_auxDictionary(data['Inputs'].to_numpy()[:,2]))\n",
    "model.Php = pyo.Param(model.t, initialize =_auxDictionary(data['Inputs'].to_numpy()[:,3]))\n",
    "model.PchmaxEV = pyo.Param(model.ev, model.t, initialize =_auxDictionary(data['PchmaxEV'].to_numpy()))\n",
    "model.S = pyo.Param(model.ev, model.t, initialize = _auxDictionary(data['S'].to_numpy()))\n",
    "model.alpha = pyo.Param(model.ev, model.t, initialize = _auxDictionary(data['alpha'].to_numpy()))\n",
    "model.RealHour = pyo.Param(model.t, initialize=_auxDictionary(data['Inputs'].to_numpy()[:,2]))\n",
    "model.penalty1 = 1000\n",
    "model.penalty2 = 1000\n",
    "model.penalty3 = 0.6\n",
    "model.Etrip = pyo.Param(model.ev, initialize=_auxDictionary(data['EVs_Inputs'].to_numpy()[:,3]))\n",
    "model.n = 1\n",
    "model.m = 0.6\n",
    "model.Ppeak = 80\n",
    "model.factor = 1"
   ]
  },
  {
   "cell_type": "markdown",
   "id": "e4bd0d30",
   "metadata": {
    "pycharm": {
     "name": "#%% md\n"
    }
   },
   "source": [
    "## Variables"
   ]
  },
  {
   "cell_type": "code",
   "execution_count": 9,
   "id": "f7e86de1",
   "metadata": {
    "ExecuteTime": {
     "end_time": "2023-01-24T15:02:08.011016Z",
     "start_time": "2023-01-24T15:02:07.739001Z"
    },
    "pycharm": {
     "name": "#%%\n"
    }
   },
   "outputs": [],
   "source": [
    "model.PEV = pyo.Var(model.ev, model.t, domain = pyo.NonNegativeReals, initialize = 0)\n",
    "model.EEV = pyo.Var(model.ev, model.t, domain = pyo.Reals, initialize = 0)\n",
    "model.Etriprelax = pyo.Var(model.ev, model.t, domain = pyo.NonNegativeReals, initialize = 0)\n",
    "model.Eminsocrelax = pyo.Var(model.ev, model.t, domain = pyo.NonNegativeReals, initialize = 0)\n",
    "model.Etripn = pyo.Var(model.ev, model.t, domain = pyo.Reals, initialize = 0)\n",
    "model.Ppeakred = pyo.Var(model.t, domain = pyo.NonNegativeReals, initialize = 0)\n",
    "model.Ppeakred2 = pyo.Var(domain = pyo.Reals, initialize = 0)"
   ]
  },
  {
   "cell_type": "markdown",
   "id": "e2de2b23",
   "metadata": {
    "pycharm": {
     "name": "#%% md\n"
    }
   },
   "source": [
    "## Constraints"
   ]
  },
  {
   "cell_type": "code",
   "execution_count": 10,
   "id": "a4156f6d",
   "metadata": {
    "ExecuteTime": {
     "end_time": "2023-01-24T15:03:55.246094Z",
     "start_time": "2023-01-24T15:02:08.013016Z"
    },
    "pycharm": {
     "name": "#%%\n"
    }
   },
   "outputs": [],
   "source": [
    "def _balance_etripn(m,ev,t): \n",
    "    return m.Etripn[ev,t] == m.Etrip[ev]*m.S[ev,t]/(sum([m.S[ev,k] for k in np.arange(1, n_time + 1)]))\n",
    "model.balance_etripn = pyo.Constraint(model.ev, model.t, rule = _balance_etripn)\n",
    "\n",
    "def _balance_energy_EVS3(m,ev,t): \n",
    "    if t == 24:\n",
    "        return m.EEV[ev,t] + m.Etriprelax[ev,t] >= m.EEVmax[ev]*m.m\n",
    "    return pyo.Constraint.Skip\n",
    "model.balance_energy_EVS3 = pyo.Constraint(model.ev, model.t, rule = _balance_energy_EVS3)\n",
    "\n",
    "def _balance_energy_EVS(m,ev,t): \n",
    "    if t == 1:\n",
    "        return m.EEV[ev,t] - m.Etriprelax[ev,t] == m.ESoc[ev] + m.PEV[ev,t]*m.dT[t]*m.n - m.Etripn[ev,t]\n",
    "    return pyo.Constraint.Skip\n",
    "model.balance_energy_EVS = pyo.Constraint(model.ev, model.t, rule = _balance_energy_EVS)\n",
    "\n",
    "def _balance_energy_EVS2(m,ev,t): \n",
    "    if t > 1:\n",
    "        return m.EEV[ev,t] - m.Etriprelax[ev,t] == m.EEV[ev,t-1] + m.PEV[ev,t]*m.dT[t]*m.n - m.Etripn[ev,t]\n",
    "    return pyo.Constraint.Skip\n",
    "model.balance_energy_EVS2 = pyo.Constraint(model.ev, model.t, rule = _balance_energy_EVS2)\n",
    "\n",
    "def _power_charging_limit1(m,ev,t): \n",
    "    return m.PEV[ev,t] >= 0\n",
    "model.power_charging_limit1 = pyo.Constraint(model.ev, model.t, rule = _power_charging_limit1)\n",
    "\n",
    "def _power_charging_limit2(m,ev,t): \n",
    "    return m.PEV[ev,t] <= m.alpha[ev,t]*m.PchmaxEV[ev,t]*m.factor\n",
    "model.power_charging_limit2 = pyo.Constraint(model.ev, model.t, rule = _power_charging_limit2)\n",
    "\n",
    "def _energy_limits_EVS_1(m,ev,t): \n",
    "    return m.EEVmin[ev] <= m.EEV[ev,t] + m.Eminsocrelax[ev,t]\n",
    "    #return m.EEVmin[ev] <= m.EEV[ev,t]\n",
    "model.energy_limits_EVS_1 = pyo.Constraint(model.ev, model.t, rule = _energy_limits_EVS_1)\n",
    "\n",
    "def _energy_limits_EVS_2(m,ev,t): \n",
    "    return m.EEV[ev,t] <= m.EEVmax[ev]\n",
    "model.energy_limits_EVS_2 = pyo.Constraint(model.ev, model.t, rule = _energy_limits_EVS_2)\n",
    "\n",
    "def _power_peak_s(m,ev,t): \n",
    "    return m.Pl[t] + sum(m.PEV[e,t] for e in np.arange(1, n_evs + 1)) - m.Ppeakred[t] <= m.Ppeak    \n",
    "model.power_peak_s = pyo.Constraint(model.ev, model.t, rule = _power_peak_s)\n",
    "\n",
    "def _energy_EVs_trips(m,t): \n",
    "    return m.Ppeakred2 >= m.Pl[t] + sum(m.PEV[ev,t] for ev in np.arange(1, n_evs + 1))\n",
    "model.energy_EVs_trips = pyo.Constraint(model.t, rule = _energy_EVs_trips)"
   ]
  },
  {
   "cell_type": "markdown",
   "id": "b9611d0f",
   "metadata": {
    "pycharm": {
     "name": "#%% md\n"
    }
   },
   "source": [
    "## Objective function"
   ]
  },
  {
   "cell_type": "code",
   "execution_count": 11,
   "id": "a7bd4811",
   "metadata": {
    "ExecuteTime": {
     "end_time": "2023-01-24T15:03:55.968121Z",
     "start_time": "2023-01-24T15:03:55.246094Z"
    },
    "pycharm": {
     "name": "#%%\n"
    }
   },
   "outputs": [],
   "source": [
    "def _FOag(m):\n",
    "    return sum(m.Ppeakred[t]**2 for t in np.arange(1, n_time + 1)) + sum([m.Etriprelax[ev,t]*m.penalty1 + m.Eminsocrelax[ev,t]*m.penalty2 for ev in np.arange(1, n_evs + 1) for t in np.arange(1, n_time + 1)])\n",
    "\n",
    "model.FOag = pyo.Objective(rule = _FOag, sense = pyo.minimize)"
   ]
  },
  {
   "cell_type": "markdown",
   "id": "b0fb9c46",
   "metadata": {
    "pycharm": {
     "name": "#%% md\n"
    }
   },
   "source": [
    "## Solve the model"
   ]
  },
  {
   "cell_type": "code",
   "execution_count": 12,
   "id": "cef9f28b",
   "metadata": {
    "ExecuteTime": {
     "end_time": "2023-01-24T15:05:50.788962Z",
     "start_time": "2023-01-24T15:03:55.968121Z"
    },
    "pycharm": {
     "name": "#%%\n"
    }
   },
   "outputs": [
    {
     "name": "stdout",
     "output_type": "stream",
     "text": [
      "# ==========================================================\n",
      "# = Solver Results                                         =\n",
      "# ==========================================================\n",
      "# ----------------------------------------------------------\n",
      "#   Problem Information\n",
      "# ----------------------------------------------------------\n",
      "Problem: \n",
      "- Name: tmptnz5r71n\n",
      "  Lower bound: 2170259773.8348765\n",
      "  Upper bound: 2170259773.8348765\n",
      "  Number of objectives: 1\n",
      "  Number of constraints: 146379\n",
      "  Number of variables: 103946\n",
      "  Number of nonzeros: 18270027\n",
      "  Sense: minimize\n",
      "# ----------------------------------------------------------\n",
      "#   Solver Information\n",
      "# ----------------------------------------------------------\n",
      "Solver: \n",
      "- Status: ok\n",
      "  User time: 3.14\n",
      "  Termination condition: optimal\n",
      "  Termination message: Barrier - Optimal\\x3a Objective = 2.1702597738e+09\n",
      "  Error rc: 0\n",
      "  Time: 11.583147048950195\n",
      "# ----------------------------------------------------------\n",
      "#   Solution Information\n",
      "# ----------------------------------------------------------\n",
      "Solution: \n",
      "- number of solutions: 0\n",
      "  number of solutions displayed: 0\n"
     ]
    }
   ],
   "source": [
    "from pyomo.opt import SolverFactory\n",
    "\n",
    "model.write('res_V4_EC.lp',  io_options={'symbolic_solver_labels': True})\n",
    "\n",
    "# Create a solver\n",
    "#opt = pyo.SolverFactory('cbc', executable='C:/Program Files/Cbc-releases.2.10.8-x86_64-w64-mingw64/bin/cbc.exe')\n",
    "\n",
    "opt = pyo.SolverFactory('cplex', executable='C:/Program Files/IBM/ILOG/CPLEX_Studio221/cplex/bin/x64_win64/cplex.exe')\n",
    "opt.options['LogFile'] = 'res_V4_EC.log'\n",
    "\n",
    "#opt = pyo.SolverFactory('ipopt', executable='C:/Program Files/Ipopt-3.11.1-win64-intel13.1/bin/ipopt.exe')\n",
    "#opt.options['print_level'] = 12\n",
    "#opt.options['output_file'] = \"res_V5_EC.log\"\n",
    "\n",
    "results = opt.solve(model)#, tee=True)\n",
    "results.write()"
   ]
  },
  {
   "cell_type": "markdown",
   "id": "28047d41",
   "metadata": {
    "pycharm": {
     "name": "#%% md\n"
    }
   },
   "source": [
    "## Objective Function Value"
   ]
  },
  {
   "cell_type": "code",
   "execution_count": 14,
   "id": "e8ecff65",
   "metadata": {
    "ExecuteTime": {
     "end_time": "2023-01-24T15:05:50.993972Z",
     "start_time": "2023-01-24T15:05:50.788962Z"
    },
    "pycharm": {
     "name": "#%%\n"
    }
   },
   "outputs": [
    {
     "data": {
      "text/plain": [
       "2170259773.8335614"
      ]
     },
     "execution_count": 14,
     "metadata": {},
     "output_type": "execute_result"
    }
   ],
   "source": [
    "pyo.value(model.FOag)"
   ]
  },
  {
   "cell_type": "markdown",
   "id": "ca432171",
   "metadata": {
    "pycharm": {
     "name": "#%% md\n"
    }
   },
   "source": [
    "## End Time"
   ]
  },
  {
   "cell_type": "code",
   "execution_count": 13,
   "id": "98c38f1f",
   "metadata": {
    "pycharm": {
     "name": "#%%\n"
    }
   },
   "outputs": [
    {
     "name": "stdout",
     "output_type": "stream",
     "text": [
      "End Time = 14:54:02\n",
      "Dif: 0:03:57\n"
     ]
    }
   ],
   "source": [
    "now = datetime.now()\n",
    "\n",
    "end_time = now.strftime(\"%H:%M:%S\")\n",
    "print(\"End Time =\", end_time)\n",
    "print(\"Dif: {}\".format(datetime.strptime(end_time, \"%H:%M:%S\") - datetime.strptime(start_time, \"%H:%M:%S\")))"
   ]
  },
  {
   "cell_type": "markdown",
   "id": "1d69f2ca",
   "metadata": {
    "pycharm": {
     "name": "#%% md\n"
    }
   },
   "source": [
    "## Cost Value"
   ]
  },
  {
   "cell_type": "code",
   "execution_count": 15,
   "id": "1d0f7811",
   "metadata": {
    "ExecuteTime": {
     "end_time": "2023-01-24T15:05:51.002973Z",
     "start_time": "2023-01-24T15:05:50.995973Z"
    },
    "pycharm": {
     "name": "#%%\n"
    }
   },
   "outputs": [],
   "source": [
    "def ext_pyomo_vals(vals):\n",
    "    # make a pd.Series from each\n",
    "    s = pd.Series(vals.extract_values(),\n",
    "                  index=vals.extract_values().keys())\n",
    "    # if the series is multi-indexed we need to unstack it...\n",
    "    if type(s.index[0]) == tuple:    # it is multi-indexed\n",
    "        s = s.unstack(level=1)\n",
    "    else:\n",
    "        # force transition from Series -> df\n",
    "        s = pd.DataFrame(s)\n",
    "    return s"
   ]
  },
  {
   "cell_type": "code",
   "execution_count": 16,
   "id": "08de5eaf",
   "metadata": {
    "ExecuteTime": {
     "end_time": "2023-01-24T15:05:52.754010Z",
     "start_time": "2023-01-24T15:05:51.004973Z"
    },
    "pycharm": {
     "name": "#%%\n"
    }
   },
   "outputs": [
    {
     "name": "stdout",
     "output_type": "stream",
     "text": [
      "Charge cost: 0.002826836133324312\n"
     ]
    }
   ],
   "source": [
    "PEV_df = ext_pyomo_vals(model.PEV)\n",
    "dT_df = ext_pyomo_vals(model.dT)\n",
    "cDA_df = ext_pyomo_vals(model.cDA)\n",
    "EEV_df = ext_pyomo_vals(model.EEV)\n",
    "\n",
    "charge_cost = sum([PEV_df[t][ev]*dT_df[0][t]*cDA_df[0][t]\n",
    "                   for ev in np.arange(1, n_evs + 1) for t in np.arange(1, n_time + 1)])\n",
    "\n",
    "print('Charge cost: {}'.format(charge_cost))"
   ]
  },
  {
   "cell_type": "markdown",
   "id": "15ad4fad",
   "metadata": {
    "pycharm": {
     "name": "#%% md\n"
    }
   },
   "source": [
    "## Results"
   ]
  },
  {
   "cell_type": "code",
   "execution_count": 17,
   "id": "7bf89647",
   "metadata": {
    "ExecuteTime": {
     "end_time": "2023-01-24T15:05:52.762010Z",
     "start_time": "2023-01-24T15:05:52.754010Z"
    },
    "pycharm": {
     "name": "#%%\n"
    }
   },
   "outputs": [
    {
     "name": "stdout",
     "output_type": "stream",
     "text": [
      "Total Charge: 7.775559319730117e-05\n"
     ]
    }
   ],
   "source": [
    "print(\"Total Charge: {}\".format(np.sum(PEV_df.to_numpy())))"
   ]
  },
  {
   "cell_type": "code",
   "execution_count": 18,
   "id": "d6d1f279",
   "metadata": {
    "ExecuteTime": {
     "end_time": "2023-01-24T15:05:52.815013Z",
     "start_time": "2023-01-24T15:05:52.765010Z"
    },
    "pycharm": {
     "name": "#%%\n"
    }
   },
   "outputs": [
    {
     "data": {
      "text/html": [
       "<div>\n",
       "<style scoped>\n",
       "    .dataframe tbody tr th:only-of-type {\n",
       "        vertical-align: middle;\n",
       "    }\n",
       "\n",
       "    .dataframe tbody tr th {\n",
       "        vertical-align: top;\n",
       "    }\n",
       "\n",
       "    .dataframe thead th {\n",
       "        text-align: right;\n",
       "    }\n",
       "</style>\n",
       "<table border=\"1\" class=\"dataframe\">\n",
       "  <thead>\n",
       "    <tr style=\"text-align: right;\">\n",
       "      <th></th>\n",
       "      <th>1</th>\n",
       "      <th>2</th>\n",
       "      <th>3</th>\n",
       "      <th>4</th>\n",
       "      <th>5</th>\n",
       "      <th>6</th>\n",
       "      <th>7</th>\n",
       "      <th>8</th>\n",
       "      <th>9</th>\n",
       "      <th>10</th>\n",
       "      <th>...</th>\n",
       "      <th>15</th>\n",
       "      <th>16</th>\n",
       "      <th>17</th>\n",
       "      <th>18</th>\n",
       "      <th>19</th>\n",
       "      <th>20</th>\n",
       "      <th>21</th>\n",
       "      <th>22</th>\n",
       "      <th>23</th>\n",
       "      <th>24</th>\n",
       "    </tr>\n",
       "  </thead>\n",
       "  <tbody>\n",
       "    <tr>\n",
       "      <th>1</th>\n",
       "      <td>3800.0</td>\n",
       "      <td>3770.240000</td>\n",
       "      <td>3770.240000</td>\n",
       "      <td>3770.240001</td>\n",
       "      <td>3770.240001</td>\n",
       "      <td>3770.240001</td>\n",
       "      <td>3770.240001</td>\n",
       "      <td>3770.240001</td>\n",
       "      <td>3770.240001</td>\n",
       "      <td>3770.240002</td>\n",
       "      <td>...</td>\n",
       "      <td>3740.480003</td>\n",
       "      <td>3710.720003</td>\n",
       "      <td>3710.720003</td>\n",
       "      <td>3710.720003</td>\n",
       "      <td>3710.720003</td>\n",
       "      <td>3710.720004</td>\n",
       "      <td>3710.720004</td>\n",
       "      <td>3710.720004</td>\n",
       "      <td>3710.720004</td>\n",
       "      <td>4705.360002</td>\n",
       "    </tr>\n",
       "    <tr>\n",
       "      <th>2</th>\n",
       "      <td>2360.0</td>\n",
       "      <td>2358.640000</td>\n",
       "      <td>2358.640000</td>\n",
       "      <td>2358.640001</td>\n",
       "      <td>2358.640001</td>\n",
       "      <td>2358.640001</td>\n",
       "      <td>2358.640001</td>\n",
       "      <td>2358.640001</td>\n",
       "      <td>2358.640001</td>\n",
       "      <td>2358.640002</td>\n",
       "      <td>...</td>\n",
       "      <td>2358.640003</td>\n",
       "      <td>2357.280003</td>\n",
       "      <td>2357.280003</td>\n",
       "      <td>2357.280003</td>\n",
       "      <td>2357.280003</td>\n",
       "      <td>2357.280004</td>\n",
       "      <td>2357.280004</td>\n",
       "      <td>2357.280004</td>\n",
       "      <td>2357.280004</td>\n",
       "      <td>2948.640002</td>\n",
       "    </tr>\n",
       "    <tr>\n",
       "      <th>3</th>\n",
       "      <td>2360.0</td>\n",
       "      <td>2354.135000</td>\n",
       "      <td>2354.135000</td>\n",
       "      <td>2354.135001</td>\n",
       "      <td>2354.135001</td>\n",
       "      <td>2354.135001</td>\n",
       "      <td>2354.135001</td>\n",
       "      <td>2354.135001</td>\n",
       "      <td>2354.135001</td>\n",
       "      <td>2354.135002</td>\n",
       "      <td>...</td>\n",
       "      <td>2348.270003</td>\n",
       "      <td>2348.270003</td>\n",
       "      <td>2348.270003</td>\n",
       "      <td>2348.270003</td>\n",
       "      <td>2348.270003</td>\n",
       "      <td>2348.270004</td>\n",
       "      <td>2348.270004</td>\n",
       "      <td>2348.270004</td>\n",
       "      <td>2348.270004</td>\n",
       "      <td>2944.135002</td>\n",
       "    </tr>\n",
       "    <tr>\n",
       "      <th>4</th>\n",
       "      <td>2360.0</td>\n",
       "      <td>2285.370000</td>\n",
       "      <td>2285.370000</td>\n",
       "      <td>2285.370001</td>\n",
       "      <td>2285.370001</td>\n",
       "      <td>2285.370001</td>\n",
       "      <td>2285.370001</td>\n",
       "      <td>2285.370001</td>\n",
       "      <td>2285.370001</td>\n",
       "      <td>2285.370002</td>\n",
       "      <td>...</td>\n",
       "      <td>2136.110003</td>\n",
       "      <td>2136.110003</td>\n",
       "      <td>2136.110003</td>\n",
       "      <td>2136.110003</td>\n",
       "      <td>2136.110003</td>\n",
       "      <td>2136.110004</td>\n",
       "      <td>2136.110004</td>\n",
       "      <td>2136.110004</td>\n",
       "      <td>2136.110004</td>\n",
       "      <td>2838.055002</td>\n",
       "    </tr>\n",
       "    <tr>\n",
       "      <th>5</th>\n",
       "      <td>2720.0</td>\n",
       "      <td>2641.480000</td>\n",
       "      <td>2641.480000</td>\n",
       "      <td>2641.480001</td>\n",
       "      <td>2641.480001</td>\n",
       "      <td>2641.480001</td>\n",
       "      <td>2641.480001</td>\n",
       "      <td>2641.480001</td>\n",
       "      <td>2641.480001</td>\n",
       "      <td>2641.480002</td>\n",
       "      <td>...</td>\n",
       "      <td>2641.480003</td>\n",
       "      <td>2562.960003</td>\n",
       "      <td>2562.960003</td>\n",
       "      <td>2562.960003</td>\n",
       "      <td>2562.960003</td>\n",
       "      <td>2562.960004</td>\n",
       "      <td>2562.960004</td>\n",
       "      <td>2562.960004</td>\n",
       "      <td>2562.960004</td>\n",
       "      <td>3321.480002</td>\n",
       "    </tr>\n",
       "    <tr>\n",
       "      <th>...</th>\n",
       "      <td>...</td>\n",
       "      <td>...</td>\n",
       "      <td>...</td>\n",
       "      <td>...</td>\n",
       "      <td>...</td>\n",
       "      <td>...</td>\n",
       "      <td>...</td>\n",
       "      <td>...</td>\n",
       "      <td>...</td>\n",
       "      <td>...</td>\n",
       "      <td>...</td>\n",
       "      <td>...</td>\n",
       "      <td>...</td>\n",
       "      <td>...</td>\n",
       "      <td>...</td>\n",
       "      <td>...</td>\n",
       "      <td>...</td>\n",
       "      <td>...</td>\n",
       "      <td>...</td>\n",
       "      <td>...</td>\n",
       "      <td>...</td>\n",
       "    </tr>\n",
       "    <tr>\n",
       "      <th>862</th>\n",
       "      <td>2080.0</td>\n",
       "      <td>2071.670000</td>\n",
       "      <td>2071.670000</td>\n",
       "      <td>2071.670001</td>\n",
       "      <td>2071.670001</td>\n",
       "      <td>2071.670001</td>\n",
       "      <td>2071.670001</td>\n",
       "      <td>2071.670001</td>\n",
       "      <td>2071.670001</td>\n",
       "      <td>2071.670002</td>\n",
       "      <td>...</td>\n",
       "      <td>2063.340003</td>\n",
       "      <td>2063.340003</td>\n",
       "      <td>2063.340003</td>\n",
       "      <td>2063.340003</td>\n",
       "      <td>2063.340003</td>\n",
       "      <td>2063.340004</td>\n",
       "      <td>2063.340004</td>\n",
       "      <td>2063.340004</td>\n",
       "      <td>2063.340004</td>\n",
       "      <td>2591.670002</td>\n",
       "    </tr>\n",
       "    <tr>\n",
       "      <th>863</th>\n",
       "      <td>3800.0</td>\n",
       "      <td>3479.960000</td>\n",
       "      <td>3159.920000</td>\n",
       "      <td>3159.920001</td>\n",
       "      <td>3159.920001</td>\n",
       "      <td>3159.920001</td>\n",
       "      <td>3159.920001</td>\n",
       "      <td>3159.920001</td>\n",
       "      <td>3159.920001</td>\n",
       "      <td>3159.920002</td>\n",
       "      <td>...</td>\n",
       "      <td>2839.880003</td>\n",
       "      <td>2519.840003</td>\n",
       "      <td>2519.840003</td>\n",
       "      <td>2519.840003</td>\n",
       "      <td>2519.840003</td>\n",
       "      <td>2519.840004</td>\n",
       "      <td>2519.840004</td>\n",
       "      <td>2519.840004</td>\n",
       "      <td>2519.840004</td>\n",
       "      <td>4109.920002</td>\n",
       "    </tr>\n",
       "    <tr>\n",
       "      <th>864</th>\n",
       "      <td>3400.0</td>\n",
       "      <td>2755.876667</td>\n",
       "      <td>2111.753334</td>\n",
       "      <td>2111.753334</td>\n",
       "      <td>2111.753334</td>\n",
       "      <td>2111.753334</td>\n",
       "      <td>2111.753334</td>\n",
       "      <td>2111.753335</td>\n",
       "      <td>2111.753335</td>\n",
       "      <td>2111.753335</td>\n",
       "      <td>...</td>\n",
       "      <td>2111.753336</td>\n",
       "      <td>1467.630003</td>\n",
       "      <td>1467.630003</td>\n",
       "      <td>1467.630003</td>\n",
       "      <td>1467.630003</td>\n",
       "      <td>1467.630004</td>\n",
       "      <td>1467.630004</td>\n",
       "      <td>1467.630004</td>\n",
       "      <td>1467.630004</td>\n",
       "      <td>3283.815002</td>\n",
       "    </tr>\n",
       "    <tr>\n",
       "      <th>865</th>\n",
       "      <td>540.0</td>\n",
       "      <td>539.010000</td>\n",
       "      <td>539.010000</td>\n",
       "      <td>539.010001</td>\n",
       "      <td>539.010001</td>\n",
       "      <td>539.010001</td>\n",
       "      <td>539.010001</td>\n",
       "      <td>539.010001</td>\n",
       "      <td>539.010001</td>\n",
       "      <td>539.010002</td>\n",
       "      <td>...</td>\n",
       "      <td>538.020003</td>\n",
       "      <td>538.020003</td>\n",
       "      <td>538.020003</td>\n",
       "      <td>538.020003</td>\n",
       "      <td>538.020003</td>\n",
       "      <td>538.020003</td>\n",
       "      <td>538.020004</td>\n",
       "      <td>538.020004</td>\n",
       "      <td>538.020004</td>\n",
       "      <td>674.010002</td>\n",
       "    </tr>\n",
       "    <tr>\n",
       "      <th>866</th>\n",
       "      <td>2200.0</td>\n",
       "      <td>2126.756667</td>\n",
       "      <td>2126.756667</td>\n",
       "      <td>2126.756667</td>\n",
       "      <td>2126.756667</td>\n",
       "      <td>2126.756668</td>\n",
       "      <td>2126.756668</td>\n",
       "      <td>2126.756668</td>\n",
       "      <td>2126.756668</td>\n",
       "      <td>2126.756668</td>\n",
       "      <td>...</td>\n",
       "      <td>1980.270003</td>\n",
       "      <td>1980.270003</td>\n",
       "      <td>1980.270003</td>\n",
       "      <td>1980.270003</td>\n",
       "      <td>1980.270003</td>\n",
       "      <td>1980.270004</td>\n",
       "      <td>1980.270004</td>\n",
       "      <td>1980.270004</td>\n",
       "      <td>1980.270004</td>\n",
       "      <td>2640.135002</td>\n",
       "    </tr>\n",
       "  </tbody>\n",
       "</table>\n",
       "<p>866 rows × 24 columns</p>\n",
       "</div>"
      ],
      "text/plain": [
       "         1            2            3            4            5            6   \\\n",
       "1    3800.0  3770.240000  3770.240000  3770.240001  3770.240001  3770.240001   \n",
       "2    2360.0  2358.640000  2358.640000  2358.640001  2358.640001  2358.640001   \n",
       "3    2360.0  2354.135000  2354.135000  2354.135001  2354.135001  2354.135001   \n",
       "4    2360.0  2285.370000  2285.370000  2285.370001  2285.370001  2285.370001   \n",
       "5    2720.0  2641.480000  2641.480000  2641.480001  2641.480001  2641.480001   \n",
       "..      ...          ...          ...          ...          ...          ...   \n",
       "862  2080.0  2071.670000  2071.670000  2071.670001  2071.670001  2071.670001   \n",
       "863  3800.0  3479.960000  3159.920000  3159.920001  3159.920001  3159.920001   \n",
       "864  3400.0  2755.876667  2111.753334  2111.753334  2111.753334  2111.753334   \n",
       "865   540.0   539.010000   539.010000   539.010001   539.010001   539.010001   \n",
       "866  2200.0  2126.756667  2126.756667  2126.756667  2126.756667  2126.756668   \n",
       "\n",
       "              7            8            9            10  ...           15  \\\n",
       "1    3770.240001  3770.240001  3770.240001  3770.240002  ...  3740.480003   \n",
       "2    2358.640001  2358.640001  2358.640001  2358.640002  ...  2358.640003   \n",
       "3    2354.135001  2354.135001  2354.135001  2354.135002  ...  2348.270003   \n",
       "4    2285.370001  2285.370001  2285.370001  2285.370002  ...  2136.110003   \n",
       "5    2641.480001  2641.480001  2641.480001  2641.480002  ...  2641.480003   \n",
       "..           ...          ...          ...          ...  ...          ...   \n",
       "862  2071.670001  2071.670001  2071.670001  2071.670002  ...  2063.340003   \n",
       "863  3159.920001  3159.920001  3159.920001  3159.920002  ...  2839.880003   \n",
       "864  2111.753334  2111.753335  2111.753335  2111.753335  ...  2111.753336   \n",
       "865   539.010001   539.010001   539.010001   539.010002  ...   538.020003   \n",
       "866  2126.756668  2126.756668  2126.756668  2126.756668  ...  1980.270003   \n",
       "\n",
       "              16           17           18           19           20  \\\n",
       "1    3710.720003  3710.720003  3710.720003  3710.720003  3710.720004   \n",
       "2    2357.280003  2357.280003  2357.280003  2357.280003  2357.280004   \n",
       "3    2348.270003  2348.270003  2348.270003  2348.270003  2348.270004   \n",
       "4    2136.110003  2136.110003  2136.110003  2136.110003  2136.110004   \n",
       "5    2562.960003  2562.960003  2562.960003  2562.960003  2562.960004   \n",
       "..           ...          ...          ...          ...          ...   \n",
       "862  2063.340003  2063.340003  2063.340003  2063.340003  2063.340004   \n",
       "863  2519.840003  2519.840003  2519.840003  2519.840003  2519.840004   \n",
       "864  1467.630003  1467.630003  1467.630003  1467.630003  1467.630004   \n",
       "865   538.020003   538.020003   538.020003   538.020003   538.020003   \n",
       "866  1980.270003  1980.270003  1980.270003  1980.270003  1980.270004   \n",
       "\n",
       "              21           22           23           24  \n",
       "1    3710.720004  3710.720004  3710.720004  4705.360002  \n",
       "2    2357.280004  2357.280004  2357.280004  2948.640002  \n",
       "3    2348.270004  2348.270004  2348.270004  2944.135002  \n",
       "4    2136.110004  2136.110004  2136.110004  2838.055002  \n",
       "5    2562.960004  2562.960004  2562.960004  3321.480002  \n",
       "..           ...          ...          ...          ...  \n",
       "862  2063.340004  2063.340004  2063.340004  2591.670002  \n",
       "863  2519.840004  2519.840004  2519.840004  4109.920002  \n",
       "864  1467.630004  1467.630004  1467.630004  3283.815002  \n",
       "865   538.020004   538.020004   538.020004   674.010002  \n",
       "866  1980.270004  1980.270004  1980.270004  2640.135002  \n",
       "\n",
       "[866 rows x 24 columns]"
      ]
     },
     "execution_count": 18,
     "metadata": {},
     "output_type": "execute_result"
    }
   ],
   "source": [
    "EEV_df"
   ]
  },
  {
   "cell_type": "code",
   "execution_count": 19,
   "id": "d9062450",
   "metadata": {
    "ExecuteTime": {
     "end_time": "2023-01-24T15:05:52.867016Z",
     "start_time": "2023-01-24T15:05:52.817013Z"
    },
    "pycharm": {
     "name": "#%%\n"
    }
   },
   "outputs": [
    {
     "data": {
      "text/html": [
       "<div>\n",
       "<style scoped>\n",
       "    .dataframe tbody tr th:only-of-type {\n",
       "        vertical-align: middle;\n",
       "    }\n",
       "\n",
       "    .dataframe tbody tr th {\n",
       "        vertical-align: top;\n",
       "    }\n",
       "\n",
       "    .dataframe thead th {\n",
       "        text-align: right;\n",
       "    }\n",
       "</style>\n",
       "<table border=\"1\" class=\"dataframe\">\n",
       "  <thead>\n",
       "    <tr style=\"text-align: right;\">\n",
       "      <th></th>\n",
       "      <th>1</th>\n",
       "      <th>2</th>\n",
       "      <th>3</th>\n",
       "      <th>4</th>\n",
       "      <th>5</th>\n",
       "      <th>6</th>\n",
       "      <th>7</th>\n",
       "      <th>8</th>\n",
       "      <th>9</th>\n",
       "      <th>10</th>\n",
       "      <th>...</th>\n",
       "      <th>15</th>\n",
       "      <th>16</th>\n",
       "      <th>17</th>\n",
       "      <th>18</th>\n",
       "      <th>19</th>\n",
       "      <th>20</th>\n",
       "      <th>21</th>\n",
       "      <th>22</th>\n",
       "      <th>23</th>\n",
       "      <th>24</th>\n",
       "    </tr>\n",
       "  </thead>\n",
       "  <tbody>\n",
       "    <tr>\n",
       "      <th>1</th>\n",
       "      <td>0.0</td>\n",
       "      <td>4.933805e-09</td>\n",
       "      <td>4.728556e-09</td>\n",
       "      <td>4.794450e-09</td>\n",
       "      <td>5.023853e-09</td>\n",
       "      <td>5.492581e-09</td>\n",
       "      <td>6.276583e-09</td>\n",
       "      <td>7.294970e-09</td>\n",
       "      <td>8.031940e-09</td>\n",
       "      <td>8.496513e-09</td>\n",
       "      <td>...</td>\n",
       "      <td>6.942427e-09</td>\n",
       "      <td>0.000000e+00</td>\n",
       "      <td>0.0</td>\n",
       "      <td>0.0</td>\n",
       "      <td>0.0</td>\n",
       "      <td>0.0</td>\n",
       "      <td>0.0</td>\n",
       "      <td>0.0</td>\n",
       "      <td>0.0</td>\n",
       "      <td>0.0</td>\n",
       "    </tr>\n",
       "    <tr>\n",
       "      <th>2</th>\n",
       "      <td>0.0</td>\n",
       "      <td>4.934863e-09</td>\n",
       "      <td>4.729670e-09</td>\n",
       "      <td>4.795798e-09</td>\n",
       "      <td>5.025732e-09</td>\n",
       "      <td>5.495207e-09</td>\n",
       "      <td>6.279530e-09</td>\n",
       "      <td>7.297621e-09</td>\n",
       "      <td>8.034385e-09</td>\n",
       "      <td>8.498881e-09</td>\n",
       "      <td>...</td>\n",
       "      <td>6.944318e-09</td>\n",
       "      <td>5.996892e-09</td>\n",
       "      <td>0.0</td>\n",
       "      <td>0.0</td>\n",
       "      <td>0.0</td>\n",
       "      <td>0.0</td>\n",
       "      <td>0.0</td>\n",
       "      <td>0.0</td>\n",
       "      <td>0.0</td>\n",
       "      <td>0.0</td>\n",
       "    </tr>\n",
       "    <tr>\n",
       "      <th>3</th>\n",
       "      <td>0.0</td>\n",
       "      <td>4.934906e-09</td>\n",
       "      <td>4.729714e-09</td>\n",
       "      <td>4.795845e-09</td>\n",
       "      <td>5.025790e-09</td>\n",
       "      <td>5.495283e-09</td>\n",
       "      <td>6.279616e-09</td>\n",
       "      <td>7.297698e-09</td>\n",
       "      <td>8.034453e-09</td>\n",
       "      <td>8.498945e-09</td>\n",
       "      <td>...</td>\n",
       "      <td>6.944375e-09</td>\n",
       "      <td>0.000000e+00</td>\n",
       "      <td>0.0</td>\n",
       "      <td>0.0</td>\n",
       "      <td>0.0</td>\n",
       "      <td>0.0</td>\n",
       "      <td>0.0</td>\n",
       "      <td>0.0</td>\n",
       "      <td>0.0</td>\n",
       "      <td>0.0</td>\n",
       "    </tr>\n",
       "    <tr>\n",
       "      <th>4</th>\n",
       "      <td>0.0</td>\n",
       "      <td>4.934562e-09</td>\n",
       "      <td>4.729283e-09</td>\n",
       "      <td>4.795326e-09</td>\n",
       "      <td>5.025055e-09</td>\n",
       "      <td>5.494275e-09</td>\n",
       "      <td>6.278696e-09</td>\n",
       "      <td>7.297299e-09</td>\n",
       "      <td>8.034393e-09</td>\n",
       "      <td>8.499059e-09</td>\n",
       "      <td>...</td>\n",
       "      <td>0.000000e+00</td>\n",
       "      <td>0.000000e+00</td>\n",
       "      <td>0.0</td>\n",
       "      <td>0.0</td>\n",
       "      <td>0.0</td>\n",
       "      <td>0.0</td>\n",
       "      <td>0.0</td>\n",
       "      <td>0.0</td>\n",
       "      <td>0.0</td>\n",
       "      <td>0.0</td>\n",
       "    </tr>\n",
       "    <tr>\n",
       "      <th>5</th>\n",
       "      <td>0.0</td>\n",
       "      <td>4.934425e-09</td>\n",
       "      <td>4.729228e-09</td>\n",
       "      <td>4.795297e-09</td>\n",
       "      <td>5.025100e-09</td>\n",
       "      <td>5.494370e-09</td>\n",
       "      <td>6.278545e-09</td>\n",
       "      <td>7.296608e-09</td>\n",
       "      <td>8.033345e-09</td>\n",
       "      <td>8.497807e-09</td>\n",
       "      <td>...</td>\n",
       "      <td>6.943357e-09</td>\n",
       "      <td>5.997712e-09</td>\n",
       "      <td>0.0</td>\n",
       "      <td>0.0</td>\n",
       "      <td>0.0</td>\n",
       "      <td>0.0</td>\n",
       "      <td>0.0</td>\n",
       "      <td>0.0</td>\n",
       "      <td>0.0</td>\n",
       "      <td>0.0</td>\n",
       "    </tr>\n",
       "    <tr>\n",
       "      <th>...</th>\n",
       "      <td>...</td>\n",
       "      <td>...</td>\n",
       "      <td>...</td>\n",
       "      <td>...</td>\n",
       "      <td>...</td>\n",
       "      <td>...</td>\n",
       "      <td>...</td>\n",
       "      <td>...</td>\n",
       "      <td>...</td>\n",
       "      <td>...</td>\n",
       "      <td>...</td>\n",
       "      <td>...</td>\n",
       "      <td>...</td>\n",
       "      <td>...</td>\n",
       "      <td>...</td>\n",
       "      <td>...</td>\n",
       "      <td>...</td>\n",
       "      <td>...</td>\n",
       "      <td>...</td>\n",
       "      <td>...</td>\n",
       "      <td>...</td>\n",
       "    </tr>\n",
       "    <tr>\n",
       "      <th>862</th>\n",
       "      <td>0.0</td>\n",
       "      <td>4.935436e-09</td>\n",
       "      <td>4.730361e-09</td>\n",
       "      <td>4.796565e-09</td>\n",
       "      <td>5.026697e-09</td>\n",
       "      <td>5.496393e-09</td>\n",
       "      <td>6.280543e-09</td>\n",
       "      <td>7.298057e-09</td>\n",
       "      <td>8.034452e-09</td>\n",
       "      <td>8.498746e-09</td>\n",
       "      <td>...</td>\n",
       "      <td>6.944623e-09</td>\n",
       "      <td>0.000000e+00</td>\n",
       "      <td>0.0</td>\n",
       "      <td>0.0</td>\n",
       "      <td>0.0</td>\n",
       "      <td>0.0</td>\n",
       "      <td>0.0</td>\n",
       "      <td>0.0</td>\n",
       "      <td>0.0</td>\n",
       "      <td>0.0</td>\n",
       "    </tr>\n",
       "    <tr>\n",
       "      <th>863</th>\n",
       "      <td>0.0</td>\n",
       "      <td>0.000000e+00</td>\n",
       "      <td>4.727745e-09</td>\n",
       "      <td>4.793511e-09</td>\n",
       "      <td>5.022497e-09</td>\n",
       "      <td>5.490586e-09</td>\n",
       "      <td>6.274529e-09</td>\n",
       "      <td>7.293845e-09</td>\n",
       "      <td>8.031493e-09</td>\n",
       "      <td>8.496431e-09</td>\n",
       "      <td>...</td>\n",
       "      <td>6.941813e-09</td>\n",
       "      <td>0.000000e+00</td>\n",
       "      <td>0.0</td>\n",
       "      <td>0.0</td>\n",
       "      <td>0.0</td>\n",
       "      <td>0.0</td>\n",
       "      <td>0.0</td>\n",
       "      <td>0.0</td>\n",
       "      <td>0.0</td>\n",
       "      <td>0.0</td>\n",
       "    </tr>\n",
       "    <tr>\n",
       "      <th>864</th>\n",
       "      <td>0.0</td>\n",
       "      <td>0.000000e+00</td>\n",
       "      <td>4.727825e-09</td>\n",
       "      <td>4.793455e-09</td>\n",
       "      <td>5.022118e-09</td>\n",
       "      <td>5.489861e-09</td>\n",
       "      <td>6.274161e-09</td>\n",
       "      <td>7.294600e-09</td>\n",
       "      <td>8.032954e-09</td>\n",
       "      <td>8.498231e-09</td>\n",
       "      <td>...</td>\n",
       "      <td>6.942366e-09</td>\n",
       "      <td>6.002472e-09</td>\n",
       "      <td>0.0</td>\n",
       "      <td>0.0</td>\n",
       "      <td>0.0</td>\n",
       "      <td>0.0</td>\n",
       "      <td>0.0</td>\n",
       "      <td>0.0</td>\n",
       "      <td>0.0</td>\n",
       "      <td>0.0</td>\n",
       "    </tr>\n",
       "    <tr>\n",
       "      <th>865</th>\n",
       "      <td>0.0</td>\n",
       "      <td>4.932399e-09</td>\n",
       "      <td>4.727929e-09</td>\n",
       "      <td>4.794423e-09</td>\n",
       "      <td>5.024706e-09</td>\n",
       "      <td>5.494387e-09</td>\n",
       "      <td>6.278043e-09</td>\n",
       "      <td>7.294654e-09</td>\n",
       "      <td>8.030242e-09</td>\n",
       "      <td>8.493823e-09</td>\n",
       "      <td>...</td>\n",
       "      <td>6.941040e-09</td>\n",
       "      <td>0.000000e+00</td>\n",
       "      <td>0.0</td>\n",
       "      <td>0.0</td>\n",
       "      <td>0.0</td>\n",
       "      <td>0.0</td>\n",
       "      <td>0.0</td>\n",
       "      <td>0.0</td>\n",
       "      <td>0.0</td>\n",
       "      <td>0.0</td>\n",
       "    </tr>\n",
       "    <tr>\n",
       "      <th>866</th>\n",
       "      <td>0.0</td>\n",
       "      <td>4.934926e-09</td>\n",
       "      <td>4.729745e-09</td>\n",
       "      <td>4.795863e-09</td>\n",
       "      <td>5.025785e-09</td>\n",
       "      <td>5.495255e-09</td>\n",
       "      <td>6.279609e-09</td>\n",
       "      <td>7.297733e-09</td>\n",
       "      <td>8.034486e-09</td>\n",
       "      <td>8.498954e-09</td>\n",
       "      <td>...</td>\n",
       "      <td>0.000000e+00</td>\n",
       "      <td>0.000000e+00</td>\n",
       "      <td>0.0</td>\n",
       "      <td>0.0</td>\n",
       "      <td>0.0</td>\n",
       "      <td>0.0</td>\n",
       "      <td>0.0</td>\n",
       "      <td>0.0</td>\n",
       "      <td>0.0</td>\n",
       "      <td>0.0</td>\n",
       "    </tr>\n",
       "  </tbody>\n",
       "</table>\n",
       "<p>866 rows × 24 columns</p>\n",
       "</div>"
      ],
      "text/plain": [
       "      1             2             3             4             5   \\\n",
       "1    0.0  4.933805e-09  4.728556e-09  4.794450e-09  5.023853e-09   \n",
       "2    0.0  4.934863e-09  4.729670e-09  4.795798e-09  5.025732e-09   \n",
       "3    0.0  4.934906e-09  4.729714e-09  4.795845e-09  5.025790e-09   \n",
       "4    0.0  4.934562e-09  4.729283e-09  4.795326e-09  5.025055e-09   \n",
       "5    0.0  4.934425e-09  4.729228e-09  4.795297e-09  5.025100e-09   \n",
       "..   ...           ...           ...           ...           ...   \n",
       "862  0.0  4.935436e-09  4.730361e-09  4.796565e-09  5.026697e-09   \n",
       "863  0.0  0.000000e+00  4.727745e-09  4.793511e-09  5.022497e-09   \n",
       "864  0.0  0.000000e+00  4.727825e-09  4.793455e-09  5.022118e-09   \n",
       "865  0.0  4.932399e-09  4.727929e-09  4.794423e-09  5.024706e-09   \n",
       "866  0.0  4.934926e-09  4.729745e-09  4.795863e-09  5.025785e-09   \n",
       "\n",
       "               6             7             8             9             10  \\\n",
       "1    5.492581e-09  6.276583e-09  7.294970e-09  8.031940e-09  8.496513e-09   \n",
       "2    5.495207e-09  6.279530e-09  7.297621e-09  8.034385e-09  8.498881e-09   \n",
       "3    5.495283e-09  6.279616e-09  7.297698e-09  8.034453e-09  8.498945e-09   \n",
       "4    5.494275e-09  6.278696e-09  7.297299e-09  8.034393e-09  8.499059e-09   \n",
       "5    5.494370e-09  6.278545e-09  7.296608e-09  8.033345e-09  8.497807e-09   \n",
       "..            ...           ...           ...           ...           ...   \n",
       "862  5.496393e-09  6.280543e-09  7.298057e-09  8.034452e-09  8.498746e-09   \n",
       "863  5.490586e-09  6.274529e-09  7.293845e-09  8.031493e-09  8.496431e-09   \n",
       "864  5.489861e-09  6.274161e-09  7.294600e-09  8.032954e-09  8.498231e-09   \n",
       "865  5.494387e-09  6.278043e-09  7.294654e-09  8.030242e-09  8.493823e-09   \n",
       "866  5.495255e-09  6.279609e-09  7.297733e-09  8.034486e-09  8.498954e-09   \n",
       "\n",
       "     ...            15            16   17   18   19   20   21   22   23   24  \n",
       "1    ...  6.942427e-09  0.000000e+00  0.0  0.0  0.0  0.0  0.0  0.0  0.0  0.0  \n",
       "2    ...  6.944318e-09  5.996892e-09  0.0  0.0  0.0  0.0  0.0  0.0  0.0  0.0  \n",
       "3    ...  6.944375e-09  0.000000e+00  0.0  0.0  0.0  0.0  0.0  0.0  0.0  0.0  \n",
       "4    ...  0.000000e+00  0.000000e+00  0.0  0.0  0.0  0.0  0.0  0.0  0.0  0.0  \n",
       "5    ...  6.943357e-09  5.997712e-09  0.0  0.0  0.0  0.0  0.0  0.0  0.0  0.0  \n",
       "..   ...           ...           ...  ...  ...  ...  ...  ...  ...  ...  ...  \n",
       "862  ...  6.944623e-09  0.000000e+00  0.0  0.0  0.0  0.0  0.0  0.0  0.0  0.0  \n",
       "863  ...  6.941813e-09  0.000000e+00  0.0  0.0  0.0  0.0  0.0  0.0  0.0  0.0  \n",
       "864  ...  6.942366e-09  6.002472e-09  0.0  0.0  0.0  0.0  0.0  0.0  0.0  0.0  \n",
       "865  ...  6.941040e-09  0.000000e+00  0.0  0.0  0.0  0.0  0.0  0.0  0.0  0.0  \n",
       "866  ...  0.000000e+00  0.000000e+00  0.0  0.0  0.0  0.0  0.0  0.0  0.0  0.0  \n",
       "\n",
       "[866 rows x 24 columns]"
      ]
     },
     "execution_count": 19,
     "metadata": {},
     "output_type": "execute_result"
    }
   ],
   "source": [
    "PEV_df"
   ]
  },
  {
   "cell_type": "code",
   "execution_count": 20,
   "id": "976f7d27",
   "metadata": {
    "ExecuteTime": {
     "end_time": "2023-01-24T15:05:52.882017Z",
     "start_time": "2023-01-24T15:05:52.870016Z"
    },
    "pycharm": {
     "name": "#%%\n"
    }
   },
   "outputs": [
    {
     "data": {
      "text/plain": [
       "1     4.693859e-07\n",
       "2     3.547834e-06\n",
       "3     3.585159e-06\n",
       "4     3.659662e-06\n",
       "5     3.865519e-06\n",
       "6     4.243328e-06\n",
       "7     4.855899e-06\n",
       "8     5.651829e-06\n",
       "9     6.223213e-06\n",
       "10    6.592338e-06\n",
       "11    6.793138e-06\n",
       "12    6.884425e-06\n",
       "13    6.009665e-06\n",
       "14    4.865993e-06\n",
       "15    4.212789e-06\n",
       "16    2.387852e-06\n",
       "17    4.844807e-07\n",
       "18    4.796379e-07\n",
       "19    4.751505e-07\n",
       "20    4.855596e-07\n",
       "21    4.954052e-07\n",
       "22    4.924450e-07\n",
       "23    4.987345e-07\n",
       "24    4.961520e-07\n",
       "dtype: float64"
      ]
     },
     "execution_count": 20,
     "metadata": {},
     "output_type": "execute_result"
    }
   ],
   "source": [
    "PEV_df.sum()"
   ]
  },
  {
   "cell_type": "code",
   "execution_count": 21,
   "id": "f4867aa1",
   "metadata": {
    "ExecuteTime": {
     "end_time": "2023-01-24T17:10:32.552826Z",
     "start_time": "2023-01-24T17:10:32.187821Z"
    },
    "pycharm": {
     "name": "#%%\n"
    }
   },
   "outputs": [],
   "source": [
    "Etriprelax_df = ext_pyomo_vals(model.Etriprelax)"
   ]
  },
  {
   "cell_type": "code",
   "execution_count": 22,
   "id": "00a79ead",
   "metadata": {
    "ExecuteTime": {
     "end_time": "2023-01-24T17:10:36.065995Z",
     "start_time": "2023-01-24T17:10:36.037994Z"
    },
    "pycharm": {
     "name": "#%%\n"
    }
   },
   "outputs": [
    {
     "data": {
      "text/plain": [
       "1          0.000016\n",
       "2       2364.213099\n",
       "3       2536.691479\n",
       "4       1977.258726\n",
       "5       1639.251291\n",
       "6       1492.697691\n",
       "7       1390.605201\n",
       "8       1301.852762\n",
       "9       1213.645315\n",
       "10      1144.366765\n",
       "11      1100.563034\n",
       "12      1053.462418\n",
       "13      1024.742526\n",
       "14      1007.342907\n",
       "15      1007.102953\n",
       "16       975.193066\n",
       "17       818.076347\n",
       "18       405.527511\n",
       "19       298.944858\n",
       "20       203.658435\n",
       "21       183.161475\n",
       "22       147.665384\n",
       "23         0.000156\n",
       "24    712986.993334\n",
       "dtype: float64"
      ]
     },
     "execution_count": 22,
     "metadata": {},
     "output_type": "execute_result"
    }
   ],
   "source": [
    "Etriprelax_df.sum()"
   ]
  },
  {
   "cell_type": "code",
   "execution_count": 23,
   "id": "9d9b37f9",
   "metadata": {
    "ExecuteTime": {
     "end_time": "2023-01-24T17:10:53.242796Z",
     "start_time": "2023-01-24T17:10:53.062789Z"
    },
    "pycharm": {
     "name": "#%%\n"
    }
   },
   "outputs": [],
   "source": [
    "Eminsocrelax_df = ext_pyomo_vals(model.Eminsocrelax)"
   ]
  },
  {
   "cell_type": "code",
   "execution_count": 24,
   "id": "bb86f4de",
   "metadata": {
    "ExecuteTime": {
     "end_time": "2023-01-24T17:10:57.876992Z",
     "start_time": "2023-01-24T17:10:57.865992Z"
    },
    "pycharm": {
     "name": "#%%\n"
    }
   },
   "outputs": [
    {
     "data": {
      "text/plain": [
       "1     0.000000\n",
       "2     0.000008\n",
       "3     0.000078\n",
       "4     0.000078\n",
       "5     0.000078\n",
       "6     0.000078\n",
       "7     0.000078\n",
       "8     0.000078\n",
       "9     0.000078\n",
       "10    0.000078\n",
       "11    0.000078\n",
       "12    0.000078\n",
       "13    0.000078\n",
       "14    0.000078\n",
       "15    0.000078\n",
       "16    0.000078\n",
       "17    0.000078\n",
       "18    0.000078\n",
       "19    0.000078\n",
       "20    0.000078\n",
       "21    0.000078\n",
       "22    0.000078\n",
       "23    0.000078\n",
       "24    0.000078\n",
       "dtype: float64"
      ]
     },
     "execution_count": 24,
     "metadata": {},
     "output_type": "execute_result"
    }
   ],
   "source": [
    "Eminsocrelax_df.sum()"
   ]
  },
  {
   "cell_type": "code",
   "execution_count": 25,
   "id": "33413580",
   "metadata": {
    "ExecuteTime": {
     "end_time": "2023-01-24T17:11:03.030222Z",
     "start_time": "2023-01-24T17:11:02.864217Z"
    },
    "pycharm": {
     "name": "#%%\n"
    }
   },
   "outputs": [],
   "source": [
    "Etripn_df = ext_pyomo_vals(model.Etripn)"
   ]
  },
  {
   "cell_type": "code",
   "execution_count": 26,
   "id": "1041097a",
   "metadata": {
    "ExecuteTime": {
     "end_time": "2023-01-24T17:11:10.840545Z",
     "start_time": "2023-01-24T17:11:10.824544Z"
    },
    "pycharm": {
     "name": "#%%\n"
    }
   },
   "outputs": [
    {
     "data": {
      "text/plain": [
       "1         0.000000\n",
       "2     99055.709983\n",
       "3     54584.136167\n",
       "4      7271.898119\n",
       "5      3558.580983\n",
       "6      2679.886649\n",
       "7      2234.135530\n",
       "8      1321.875530\n",
       "9      1059.115952\n",
       "10      351.191667\n",
       "11     1321.875530\n",
       "12     6730.330000\n",
       "13    17814.336429\n",
       "14        0.000000\n",
       "15    31568.023864\n",
       "16    80159.464983\n",
       "17    16998.327649\n",
       "18      834.574935\n",
       "19      522.776364\n",
       "20     4216.203167\n",
       "21     8266.467333\n",
       "22      799.099167\n",
       "23        0.000000\n",
       "24        0.000000\n",
       "dtype: float64"
      ]
     },
     "execution_count": 26,
     "metadata": {},
     "output_type": "execute_result"
    }
   ],
   "source": [
    "Etripn_df.sum()"
   ]
  },
  {
   "cell_type": "code",
   "execution_count": 27,
   "id": "b5a66c37",
   "metadata": {
    "ExecuteTime": {
     "end_time": "2023-01-24T17:11:15.418741Z",
     "start_time": "2023-01-24T17:11:15.406741Z"
    },
    "pycharm": {
     "name": "#%%\n"
    },
    "scrolled": false
   },
   "outputs": [],
   "source": [
    "Ppeakred_df = ext_pyomo_vals(model.Ppeakred)"
   ]
  },
  {
   "cell_type": "code",
   "execution_count": 28,
   "id": "5954437e",
   "metadata": {
    "ExecuteTime": {
     "end_time": "2023-01-24T17:11:21.468980Z",
     "start_time": "2023-01-24T17:11:21.441979Z"
    },
    "pycharm": {
     "name": "#%%\n"
    }
   },
   "outputs": [
    {
     "data": {
      "text/html": [
       "<div>\n",
       "<style scoped>\n",
       "    .dataframe tbody tr th:only-of-type {\n",
       "        vertical-align: middle;\n",
       "    }\n",
       "\n",
       "    .dataframe tbody tr th {\n",
       "        vertical-align: top;\n",
       "    }\n",
       "\n",
       "    .dataframe thead th {\n",
       "        text-align: right;\n",
       "    }\n",
       "</style>\n",
       "<table border=\"1\" class=\"dataframe\">\n",
       "  <thead>\n",
       "    <tr style=\"text-align: right;\">\n",
       "      <th></th>\n",
       "      <th>0</th>\n",
       "    </tr>\n",
       "  </thead>\n",
       "  <tbody>\n",
       "    <tr>\n",
       "      <th>1</th>\n",
       "      <td>8598.880000</td>\n",
       "    </tr>\n",
       "    <tr>\n",
       "      <th>2</th>\n",
       "      <td>9349.600004</td>\n",
       "    </tr>\n",
       "    <tr>\n",
       "      <th>3</th>\n",
       "      <td>9747.800004</td>\n",
       "    </tr>\n",
       "    <tr>\n",
       "      <th>4</th>\n",
       "      <td>9616.250004</td>\n",
       "    </tr>\n",
       "    <tr>\n",
       "      <th>5</th>\n",
       "      <td>9184.900004</td>\n",
       "    </tr>\n",
       "    <tr>\n",
       "      <th>6</th>\n",
       "      <td>8413.450004</td>\n",
       "    </tr>\n",
       "    <tr>\n",
       "      <th>7</th>\n",
       "      <td>7378.400005</td>\n",
       "    </tr>\n",
       "    <tr>\n",
       "      <th>8</th>\n",
       "      <td>6366.400006</td>\n",
       "    </tr>\n",
       "    <tr>\n",
       "      <th>9</th>\n",
       "      <td>5794.100006</td>\n",
       "    </tr>\n",
       "    <tr>\n",
       "      <th>10</th>\n",
       "      <td>5483.900007</td>\n",
       "    </tr>\n",
       "    <tr>\n",
       "      <th>11</th>\n",
       "      <td>5332.250007</td>\n",
       "    </tr>\n",
       "    <tr>\n",
       "      <th>12</th>\n",
       "      <td>5276.780007</td>\n",
       "    </tr>\n",
       "    <tr>\n",
       "      <th>13</th>\n",
       "      <td>5389.600006</td>\n",
       "    </tr>\n",
       "    <tr>\n",
       "      <th>14</th>\n",
       "      <td>5808.600005</td>\n",
       "    </tr>\n",
       "    <tr>\n",
       "      <th>15</th>\n",
       "      <td>6696.580004</td>\n",
       "    </tr>\n",
       "    <tr>\n",
       "      <th>16</th>\n",
       "      <td>7727.230002</td>\n",
       "    </tr>\n",
       "    <tr>\n",
       "      <th>17</th>\n",
       "      <td>8337.200000</td>\n",
       "    </tr>\n",
       "    <tr>\n",
       "      <th>18</th>\n",
       "      <td>8418.880000</td>\n",
       "    </tr>\n",
       "    <tr>\n",
       "      <th>19</th>\n",
       "      <td>8496.050000</td>\n",
       "    </tr>\n",
       "    <tr>\n",
       "      <th>20</th>\n",
       "      <td>8318.950000</td>\n",
       "    </tr>\n",
       "    <tr>\n",
       "      <th>21</th>\n",
       "      <td>8158.250000</td>\n",
       "    </tr>\n",
       "    <tr>\n",
       "      <th>22</th>\n",
       "      <td>8206.150000</td>\n",
       "    </tr>\n",
       "    <tr>\n",
       "      <th>23</th>\n",
       "      <td>8105.930000</td>\n",
       "    </tr>\n",
       "    <tr>\n",
       "      <th>24</th>\n",
       "      <td>8147.180000</td>\n",
       "    </tr>\n",
       "  </tbody>\n",
       "</table>\n",
       "</div>"
      ],
      "text/plain": [
       "              0\n",
       "1   8598.880000\n",
       "2   9349.600004\n",
       "3   9747.800004\n",
       "4   9616.250004\n",
       "5   9184.900004\n",
       "6   8413.450004\n",
       "7   7378.400005\n",
       "8   6366.400006\n",
       "9   5794.100006\n",
       "10  5483.900007\n",
       "11  5332.250007\n",
       "12  5276.780007\n",
       "13  5389.600006\n",
       "14  5808.600005\n",
       "15  6696.580004\n",
       "16  7727.230002\n",
       "17  8337.200000\n",
       "18  8418.880000\n",
       "19  8496.050000\n",
       "20  8318.950000\n",
       "21  8158.250000\n",
       "22  8206.150000\n",
       "23  8105.930000\n",
       "24  8147.180000"
      ]
     },
     "execution_count": 28,
     "metadata": {},
     "output_type": "execute_result"
    }
   ],
   "source": [
    "Ppeakred_df"
   ]
  },
  {
   "cell_type": "code",
   "execution_count": 29,
   "id": "f24b3aee",
   "metadata": {
    "ExecuteTime": {
     "end_time": "2023-01-24T17:11:28.741269Z",
     "start_time": "2023-01-24T17:11:28.728268Z"
    },
    "pycharm": {
     "name": "#%%\n"
    }
   },
   "outputs": [],
   "source": [
    "Ppeakred2_df = ext_pyomo_vals(model.Ppeakred2)"
   ]
  },
  {
   "cell_type": "code",
   "execution_count": 30,
   "id": "d9fe6425",
   "metadata": {
    "ExecuteTime": {
     "end_time": "2023-01-24T17:11:34.462521Z",
     "start_time": "2023-01-24T17:11:34.453521Z"
    },
    "pycharm": {
     "name": "#%%\n"
    }
   },
   "outputs": [
    {
     "data": {
      "text/html": [
       "<div>\n",
       "<style scoped>\n",
       "    .dataframe tbody tr th:only-of-type {\n",
       "        vertical-align: middle;\n",
       "    }\n",
       "\n",
       "    .dataframe tbody tr th {\n",
       "        vertical-align: top;\n",
       "    }\n",
       "\n",
       "    .dataframe thead th {\n",
       "        text-align: right;\n",
       "    }\n",
       "</style>\n",
       "<table border=\"1\" class=\"dataframe\">\n",
       "  <thead>\n",
       "    <tr style=\"text-align: right;\">\n",
       "      <th></th>\n",
       "      <th>0</th>\n",
       "    </tr>\n",
       "  </thead>\n",
       "  <tbody>\n",
       "    <tr>\n",
       "      <th>NaN</th>\n",
       "      <td>9827.800004</td>\n",
       "    </tr>\n",
       "  </tbody>\n",
       "</table>\n",
       "</div>"
      ],
      "text/plain": [
       "               0\n",
       "NaN  9827.800004"
      ]
     },
     "execution_count": 30,
     "metadata": {},
     "output_type": "execute_result"
    }
   ],
   "source": [
    "Ppeakred2_df"
   ]
  },
  {
   "cell_type": "markdown",
   "id": "f866bf30",
   "metadata": {
    "pycharm": {
     "name": "#%% md\n"
    }
   },
   "source": [
    "## Save results in csv files"
   ]
  },
  {
   "cell_type": "code",
   "execution_count": 31,
   "id": "15f7c912",
   "metadata": {
    "ExecuteTime": {
     "end_time": "2023-01-24T17:23:21.008212Z",
     "start_time": "2023-01-24T17:23:20.738203Z"
    },
    "pycharm": {
     "name": "#%%\n"
    }
   },
   "outputs": [],
   "source": [
    "import os \n",
    "folder = 'results_PeakS_b_' + str(n_evs)\n",
    "\n",
    "if not os.path.exists(folder):\n",
    "    os.makedirs(folder)\n",
    "    \n",
    "EEV_df.to_csv(folder + '/EEV.csv')\n",
    "PEV_df.to_csv(folder + '/PEV.csv')\n",
    "PEV_df.sum().to_csv(folder + '/PEV_h.csv')\n",
    "\n",
    "Etriprelax_df.to_csv(folder + '/Etriprelax.csv')\n",
    "Etriprelax_df.sum().to_csv(folder + '/Etriprelax_h.csv')\n",
    "\n",
    "Eminsocrelax_df.to_csv(folder + '/Eminsocrelax.csv')\n",
    "Eminsocrelax_df.sum().to_csv(folder + '/Eminsocrelax_h.csv')\n",
    "\n",
    "Etripn_df.to_csv(folder + '/Etripn.csv')\n",
    "Etripn_df.sum().to_csv(folder + '/Etripn_h.csv')\n",
    "\n",
    "Ppeakred_df.to_csv(folder + '/Ppeakread.csv')"
   ]
  },
  {
   "cell_type": "code",
   "execution_count": 31,
   "id": "048646d5",
   "metadata": {
    "pycharm": {
     "name": "#%%\n"
    }
   },
   "outputs": [],
   "source": []
  }
 ],
 "metadata": {
  "kernelspec": {
   "display_name": "Python 3 (ipykernel)",
   "language": "python",
   "name": "python3"
  },
  "language_info": {
   "codemirror_mode": {
    "name": "ipython",
    "version": 3
   },
   "file_extension": ".py",
   "mimetype": "text/x-python",
   "name": "python",
   "nbconvert_exporter": "python",
   "pygments_lexer": "ipython3",
   "version": "3.10.10"
  },
  "toc": {
   "base_numbering": 1,
   "nav_menu": {},
   "number_sections": true,
   "sideBar": true,
   "skip_h1_title": false,
   "title_cell": "Table of Contents",
   "title_sidebar": "Contents",
   "toc_cell": false,
   "toc_position": {},
   "toc_section_display": true,
   "toc_window_display": false
  }
 },
 "nbformat": 4,
 "nbformat_minor": 5
}
