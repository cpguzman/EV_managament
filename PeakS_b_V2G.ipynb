{
 "cells": [
  {
   "cell_type": "markdown",
   "id": "7f509974",
   "metadata": {
    "pycharm": {
     "name": "#%% md\n"
    }
   },
   "source": [
    "## Import packages"
   ]
  },
  {
   "cell_type": "code",
   "execution_count": 1,
   "id": "b8c79c70",
   "metadata": {
    "ExecuteTime": {
     "end_time": "2023-01-24T15:06:07.492634Z",
     "start_time": "2023-01-24T15:06:06.454579Z"
    },
    "pycharm": {
     "name": "#%%\n"
    }
   },
   "outputs": [],
   "source": [
    "import pyomo\n",
    "import pyomo.opt\n",
    "import pyomo.environ as pyo\n",
    "import numpy as np\n",
    "import pandas as pd\n",
    "import matplotlib as plt"
   ]
  },
  {
   "cell_type": "code",
   "execution_count": 2,
   "id": "8916144d",
   "metadata": {
    "ExecuteTime": {
     "end_time": "2023-01-24T15:06:07.497634Z",
     "start_time": "2023-01-24T15:06:07.494634Z"
    },
    "pycharm": {
     "name": "#%%\n"
    }
   },
   "outputs": [],
   "source": [
    "n_time = 24"
   ]
  },
  {
   "cell_type": "code",
   "execution_count": 3,
   "id": "e4019e82",
   "metadata": {
    "ExecuteTime": {
     "end_time": "2023-01-24T15:06:07.511635Z",
     "start_time": "2023-01-24T15:06:07.500635Z"
    },
    "pycharm": {
     "name": "#%%\n"
    }
   },
   "outputs": [],
   "source": [
    "def _auxDictionary(a):\n",
    "    temp_dictionary = {}\n",
    "    if len(a.shape) == 3:\n",
    "        for dim0 in np.arange(a.shape[0]):\n",
    "            for dim1 in np.arange(a.shape[1]):\n",
    "                for dim2 in np.arange(a.shape[2]):\n",
    "                    temp_dictionary[(dim0+1, dim1+1, dim2+1)] = a[dim0, dim1, dim2]\n",
    "    elif len(a.shape) == 2:\n",
    "        for dim0 in np.arange(a.shape[0]):\n",
    "            for dim1 in np.arange(a.shape[1]):\n",
    "                temp_dictionary[(dim0+1, dim1+1)] = a[dim0, dim1]\n",
    "    else:\n",
    "        for dim0 in np.arange(a.shape[0]):\n",
    "            temp_dictionary[(dim0+1)] = a[dim0]\n",
    "    return temp_dictionary\n",
    "#temp_dict1 = _auxDictionary(loadLimit)"
   ]
  },
  {
   "cell_type": "markdown",
   "id": "cb000d36",
   "metadata": {
    "pycharm": {
     "name": "#%% md\n"
    }
   },
   "source": [
    "## Data"
   ]
  },
  {
   "cell_type": "code",
   "execution_count": 4,
   "id": "1006455b",
   "metadata": {
    "ExecuteTime": {
     "end_time": "2023-01-24T15:06:07.544637Z",
     "start_time": "2023-01-24T15:06:07.513635Z"
    },
    "pycharm": {
     "name": "#%%\n"
    }
   },
   "outputs": [],
   "source": [
    "data = {}\n",
    "data['Inputs'] = pd.read_csv('Inputs.csv')\n",
    "data['EVs_Inputs'] = pd.read_csv('EVs_Inputs.csv')\n",
    "data['alpha'] = pd.read_csv('alpha.csv')\n",
    "data['PchmaxEV'] = pd.read_csv('PchmaxEV.csv')\n",
    "data['S'] = pd.read_csv('S.csv')"
   ]
  },
  {
   "cell_type": "code",
   "execution_count": 5,
   "id": "b6c6d364",
   "metadata": {
    "ExecuteTime": {
     "end_time": "2023-01-24T15:06:07.550637Z",
     "start_time": "2023-01-24T15:06:07.546637Z"
    },
    "pycharm": {
     "name": "#%%\n"
    }
   },
   "outputs": [],
   "source": [
    "n_evs = data['EVs_Inputs']['Esoc'].size"
   ]
  },
  {
   "cell_type": "markdown",
   "source": [
    "## Start Time"
   ],
   "metadata": {
    "collapsed": false,
    "pycharm": {
     "name": "#%% md\n"
    }
   }
  },
  {
   "cell_type": "code",
   "execution_count": 6,
   "outputs": [
    {
     "name": "stdout",
     "output_type": "stream",
     "text": [
      "Start Time = 14:55:52\n"
     ]
    }
   ],
   "source": [
    "from datetime import datetime\n",
    "\n",
    "now = datetime.now()\n",
    "\n",
    "start_time = now.strftime(\"%H:%M:%S\")\n",
    "print(\"Start Time =\", start_time)"
   ],
   "metadata": {
    "collapsed": false,
    "pycharm": {
     "name": "#%%\n"
    }
   }
  },
  {
   "cell_type": "markdown",
   "id": "d86416ff",
   "metadata": {
    "pycharm": {
     "name": "#%% md\n"
    }
   },
   "source": [
    "## Sets"
   ]
  },
  {
   "cell_type": "code",
   "execution_count": 7,
   "id": "983612b1",
   "metadata": {
    "ExecuteTime": {
     "end_time": "2023-01-24T15:06:07.562638Z",
     "start_time": "2023-01-24T15:06:07.552638Z"
    },
    "pycharm": {
     "name": "#%%\n"
    }
   },
   "outputs": [],
   "source": [
    "model = pyo.ConcreteModel()\n",
    "\n",
    "model.ev = pyo.Set(initialize = np.arange(1, n_evs + 1))\n",
    "model.t = pyo.Set(initialize = np.arange(1, n_time + 1))\n"
   ]
  },
  {
   "cell_type": "markdown",
   "id": "01ee3d30",
   "metadata": {
    "pycharm": {
     "name": "#%% md\n"
    }
   },
   "source": [
    "## Parameters"
   ]
  },
  {
   "cell_type": "code",
   "execution_count": 8,
   "id": "2b5a3841",
   "metadata": {
    "ExecuteTime": {
     "end_time": "2023-01-24T15:06:08.995688Z",
     "start_time": "2023-01-24T15:06:07.564638Z"
    },
    "pycharm": {
     "name": "#%%\n"
    }
   },
   "outputs": [],
   "source": [
    "model.EEVmax = pyo.Param(model.ev, initialize =_auxDictionary(data['EVs_Inputs'].to_numpy()[:,2]))\n",
    "model.EEVmin = pyo.Param(model.ev, initialize =_auxDictionary(data['EVs_Inputs'].to_numpy()[:,1]))\n",
    "model.ESoc = pyo.Param(model.ev, initialize =_auxDictionary(data['EVs_Inputs'].to_numpy()[:,0]))\n",
    "model.dT = pyo.Param(model.t, initialize =_auxDictionary(data['Inputs'].to_numpy()[:,0]))\n",
    "model.cDA = pyo.Param(model.t, initialize =_auxDictionary(data['Inputs'].to_numpy()[:,1]))\n",
    "model.Pl = pyo.Param(model.t, initialize =_auxDictionary(data['Inputs'].to_numpy()[:,2]))\n",
    "model.Php = pyo.Param(model.t, initialize =_auxDictionary(data['Inputs'].to_numpy()[:,3]))\n",
    "model.PchmaxEV = pyo.Param(model.ev, model.t, initialize =_auxDictionary(data['PchmaxEV'].to_numpy()))\n",
    "model.S = pyo.Param(model.ev, model.t, initialize = _auxDictionary(data['S'].to_numpy()))\n",
    "model.alpha = pyo.Param(model.ev, model.t, initialize = _auxDictionary(data['alpha'].to_numpy()))\n",
    "model.RealHour = pyo.Param(model.t, initialize=_auxDictionary(data['Inputs'].to_numpy()[:,2]))\n",
    "model.penalty1 = 1000\n",
    "model.penalty2 = 1000\n",
    "model.penalty3 = 0.6\n",
    "model.Etrip = pyo.Param(model.ev, initialize=_auxDictionary(data['EVs_Inputs'].to_numpy()[:,3]))\n",
    "model.n = 0.95\n",
    "model.m = 0.6\n",
    "model.Ppeak = pyo.Param(model.t, initialize =_auxDictionary(data['Inputs'].to_numpy()[:,3]*0.8))\n",
    "model.factor = 1"
   ]
  },
  {
   "cell_type": "markdown",
   "id": "dab1547f",
   "metadata": {
    "pycharm": {
     "name": "#%% md\n"
    }
   },
   "source": [
    "## Variables"
   ]
  },
  {
   "cell_type": "code",
   "execution_count": 9,
   "id": "05d558ef",
   "metadata": {
    "ExecuteTime": {
     "end_time": "2023-01-24T15:06:09.292704Z",
     "start_time": "2023-01-24T15:06:08.995688Z"
    },
    "pycharm": {
     "name": "#%%\n"
    }
   },
   "outputs": [],
   "source": [
    "model.PEV = pyo.Var(model.ev, model.t, domain = pyo.NonNegativeReals, initialize = 0)\n",
    "model.PEVdc = pyo.Var(model.ev, model.t, domain = pyo.NonNegativeReals, initialize = 0)\n",
    "model.EEV = pyo.Var(model.ev, model.t, domain = pyo.Reals, initialize = 0)\n",
    "model.Etriprelax = pyo.Var(model.ev, model.t, domain = pyo.NonNegativeReals, initialize = 0)\n",
    "model.Eminsocrelax = pyo.Var(model.ev, model.t, domain = pyo.NonNegativeReals, initialize = 0)\n",
    "model.Etripn = pyo.Var(model.ev, model.t, domain = pyo.Reals, initialize = 0)\n",
    "model.Ppeakred = pyo.Var(model.t, domain = pyo.NonNegativeReals, initialize = 0)\n",
    "model.Ppeakred2 = pyo.Var(domain = pyo.Reals, initialize = 0)"
   ]
  },
  {
   "cell_type": "markdown",
   "id": "4f749edb",
   "metadata": {
    "pycharm": {
     "name": "#%% md\n"
    }
   },
   "source": [
    "## Constraints"
   ]
  },
  {
   "cell_type": "code",
   "execution_count": 10,
   "id": "0c180bf6",
   "metadata": {
    "ExecuteTime": {
     "end_time": "2023-01-24T15:09:36.459842Z",
     "start_time": "2023-01-24T15:06:09.294705Z"
    },
    "pycharm": {
     "name": "#%%\n"
    }
   },
   "outputs": [],
   "source": [
    "def _balance_etripn(m,ev,t): \n",
    "    return m.Etripn[ev,t] == m.Etrip[ev]*m.S[ev,t]/(sum([m.S[ev,k] for k in np.arange(1, n_time + 1)]))\n",
    "model.balance_etripn = pyo.Constraint(model.ev, model.t, rule = _balance_etripn)\n",
    "\n",
    "def _balance_energy_EVS3(m,ev,t): \n",
    "    if t == 24:\n",
    "        return m.EEV[ev,t] + m.Etriprelax[ev,t] >= m.EEVmax[ev]*m.m\n",
    "    return pyo.Constraint.Skip\n",
    "model.balance_energy_EVS3 = pyo.Constraint(model.ev, model.t, rule = _balance_energy_EVS3)\n",
    "\n",
    "def _balance_energy_EVS(m,ev,t): \n",
    "    if t == 1:\n",
    "        return m.EEV[ev,t] - m.Etriprelax[ev,t] == m.ESoc[ev] + m.PEV[ev,t]*m.dT[t]*m.n - m.PEVdc[ev,t]*m.dT[t]/m.n - m.Etripn[ev,t]\n",
    "    return pyo.Constraint.Skip\n",
    "model.balance_energy_EVS = pyo.Constraint(model.ev, model.t, rule = _balance_energy_EVS)\n",
    "\n",
    "def _balance_energy_EVS2(m,ev,t): \n",
    "    if t > 1:\n",
    "        return m.EEV[ev,t] - m.Etriprelax[ev,t] == m.EEV[ev,t-1] + m.PEV[ev,t]*m.dT[t]*m.n - m.PEVdc[ev,t]*m.dT[t]/m.n - m.Etripn[ev,t]\n",
    "    return pyo.Constraint.Skip\n",
    "model.balance_energy_EVS2 = pyo.Constraint(model.ev, model.t, rule = _balance_energy_EVS2)\n",
    "\n",
    "def _power_charging_limit1(m,ev,t): \n",
    "    return m.PEV[ev,t] >= 0\n",
    "model.power_charging_limit1 = pyo.Constraint(model.ev, model.t, rule = _power_charging_limit1)\n",
    "\n",
    "def _power_charging_limit2(m,ev,t): \n",
    "    return m.PEV[ev,t] <= m.alpha[ev,t]*m.PchmaxEV[ev,t]*m.factor\n",
    "model.power_charging_limit2 = pyo.Constraint(model.ev, model.t, rule = _power_charging_limit2)\n",
    "\n",
    "def _power_discharging_limit2(m,ev,t): \n",
    "    return m.PEVdc[ev,t] <= m.alpha[ev,t]*m.PchmaxEV[ev,t]\n",
    "model.power_discharging_limit2 = pyo.Constraint(model.ev, model.t, rule = _power_discharging_limit2)\n",
    "\n",
    "def _energy_limits_EVS_1(m,ev,t): \n",
    "    return m.EEVmin[ev] <= m.EEV[ev,t] + m.Eminsocrelax[ev,t]\n",
    "    #return m.EEVmin[ev] <= m.EEV[ev,t]\n",
    "model.energy_limits_EVS_1 = pyo.Constraint(model.ev, model.t, rule = _energy_limits_EVS_1)\n",
    "\n",
    "def _energy_limits_EVS_2(m,ev,t): \n",
    "    return m.EEV[ev,t] <= m.EEVmax[ev]\n",
    "model.energy_limits_EVS_2 = pyo.Constraint(model.ev, model.t, rule = _energy_limits_EVS_2)\n",
    "\n",
    "def _power_peak_s(m,ev,t): \n",
    "    return m.Pl[t] + sum(m.PEV[e,t] - m.PEVdc[e,t] for e in np.arange(1, n_evs + 1)) - m.Ppeakred[t] <= m.Ppeak[t]    \n",
    "model.power_peak_s = pyo.Constraint(model.ev, model.t, rule = _power_peak_s)\n",
    "\n",
    "def _energy_EVs_trips(m,t): \n",
    "    return m.Ppeakred2 >= m.Pl[t] + sum(m.PEV[ev,t] - m.PEVdc[ev,t] for ev in np.arange(1, n_evs + 1))\n",
    "model.energy_EVs_trips = pyo.Constraint(model.t, rule = _energy_EVs_trips)"
   ]
  },
  {
   "cell_type": "markdown",
   "id": "4357df03",
   "metadata": {
    "pycharm": {
     "name": "#%% md\n"
    }
   },
   "source": [
    "## Objective function"
   ]
  },
  {
   "cell_type": "code",
   "execution_count": 11,
   "id": "95f7e78e",
   "metadata": {
    "ExecuteTime": {
     "end_time": "2023-01-24T15:09:36.798861Z",
     "start_time": "2023-01-24T15:09:36.459842Z"
    },
    "pycharm": {
     "name": "#%%\n"
    }
   },
   "outputs": [],
   "source": [
    "def _FOag(m):\n",
    "    return sum(m.Ppeakred[t]**2 for t in np.arange(1, n_time + 1)) + sum([m.Etriprelax[ev,t]*m.penalty1 + m.Eminsocrelax[ev,t]*m.penalty2 for ev in np.arange(1, n_evs + 1) for t in np.arange(1, n_time + 1)])\n",
    "\n",
    "model.FOag = pyo.Objective(rule = _FOag, sense = pyo.minimize)"
   ]
  },
  {
   "cell_type": "markdown",
   "id": "c7cbaf51",
   "metadata": {
    "pycharm": {
     "name": "#%% md\n"
    }
   },
   "source": [
    "## Solve the model"
   ]
  },
  {
   "cell_type": "code",
   "execution_count": 12,
   "id": "f6fc8346",
   "metadata": {
    "ExecuteTime": {
     "end_time": "2023-01-24T15:13:22.132516Z",
     "start_time": "2023-01-24T15:09:36.799861Z"
    },
    "pycharm": {
     "name": "#%%\n"
    },
    "scrolled": true
   },
   "outputs": [
    {
     "name": "stdout",
     "output_type": "stream",
     "text": [
      "# ==========================================================\n",
      "# = Solver Results                                         =\n",
      "# ==========================================================\n",
      "# ----------------------------------------------------------\n",
      "#   Problem Information\n",
      "# ----------------------------------------------------------\n",
      "Problem: \n",
      "- Name: tmp6ybznsga\n",
      "  Lower bound: 746143516.7035443\n",
      "  Upper bound: 746143516.7035443\n",
      "  Number of objectives: 1\n",
      "  Number of constraints: 167163\n",
      "  Number of variables: 124730\n",
      "  Number of nonzeros: 36331323\n",
      "  Sense: minimize\n",
      "# ----------------------------------------------------------\n",
      "#   Solver Information\n",
      "# ----------------------------------------------------------\n",
      "Solver: \n",
      "- Status: ok\n",
      "  User time: 8.2\n",
      "  Termination condition: optimal\n",
      "  Termination message: Barrier - Optimal\\x3a Objective = 7.4614351670e+08\n",
      "  Error rc: 0\n",
      "  Time: 35.674245834350586\n",
      "# ----------------------------------------------------------\n",
      "#   Solution Information\n",
      "# ----------------------------------------------------------\n",
      "Solution: \n",
      "- number of solutions: 0\n",
      "  number of solutions displayed: 0\n"
     ]
    }
   ],
   "source": [
    "from pyomo.opt import SolverFactory\n",
    "\n",
    "model.write('res_V4_EC.lp',  io_options={'symbolic_solver_labels': True})\n",
    "\n",
    "# Create a solver\n",
    "#opt = pyo.SolverFactory('cbc', executable='C:/Program Files/Cbc-releases.2.10.8-x86_64-w64-mingw64/bin/cbc.exe')\n",
    "\n",
    "opt = pyo.SolverFactory('cplex', executable='C:/Program Files/IBM/ILOG/CPLEX_Studio221/cplex/bin/x64_win64/cplex.exe')\n",
    "opt.options['LogFile'] = 'res_V4_EC.log'\n",
    "\n",
    "#opt = pyo.SolverFactory('ipopt', executable='C:/Program Files/Ipopt-3.11.1-win64-intel13.1/bin/ipopt.exe')\n",
    "#opt.options['print_level'] = 12\n",
    "#opt.options['output_file'] = \"res_V5_EC.log\"\n",
    "\n",
    "results = opt.solve(model)#, tee=True)\n",
    "results.write()"
   ]
  },
  {
   "cell_type": "markdown",
   "id": "74ad98d7",
   "metadata": {
    "pycharm": {
     "name": "#%% md\n"
    }
   },
   "source": [
    "## Objective Function Value"
   ]
  },
  {
   "cell_type": "code",
   "execution_count": 14,
   "id": "e0dd58e0",
   "metadata": {
    "ExecuteTime": {
     "end_time": "2023-01-24T15:13:22.339527Z",
     "start_time": "2023-01-24T15:13:22.132516Z"
    },
    "pycharm": {
     "name": "#%%\n"
    }
   },
   "outputs": [
    {
     "data": {
      "text/plain": "746143516.7034274"
     },
     "execution_count": 14,
     "metadata": {},
     "output_type": "execute_result"
    }
   ],
   "source": [
    "pyo.value(model.FOag)"
   ]
  },
  {
   "cell_type": "markdown",
   "source": [
    "## End Time"
   ],
   "metadata": {
    "collapsed": false,
    "pycharm": {
     "name": "#%% md\n"
    }
   }
  },
  {
   "cell_type": "code",
   "execution_count": 13,
   "outputs": [
    {
     "name": "stdout",
     "output_type": "stream",
     "text": [
      "End Time = 15:05:46\n",
      "Dif: 0:09:54\n"
     ]
    }
   ],
   "source": [
    "now = datetime.now()\n",
    "\n",
    "end_time = now.strftime(\"%H:%M:%S\")\n",
    "print(\"End Time =\", end_time)\n",
    "print(\"Dif: {}\".format(datetime.strptime(end_time, \"%H:%M:%S\") - datetime.strptime(start_time, \"%H:%M:%S\")))"
   ],
   "metadata": {
    "collapsed": false,
    "pycharm": {
     "name": "#%%\n"
    }
   }
  },
  {
   "cell_type": "markdown",
   "id": "d6025bbf",
   "metadata": {
    "pycharm": {
     "name": "#%% md\n"
    }
   },
   "source": [
    "## Cost Value"
   ]
  },
  {
   "cell_type": "code",
   "execution_count": 15,
   "id": "fcf2b316",
   "metadata": {
    "ExecuteTime": {
     "end_time": "2023-01-24T15:13:22.871555Z",
     "start_time": "2023-01-24T15:13:22.341527Z"
    },
    "pycharm": {
     "name": "#%%\n"
    }
   },
   "outputs": [],
   "source": [
    "def ext_pyomo_vals(vals):\n",
    "    # make a pd.Series from each\n",
    "    s = pd.Series(vals.extract_values(),\n",
    "                  index=vals.extract_values().keys())\n",
    "    # if the series is multi-indexed we need to unstack it...\n",
    "    if type(s.index[0]) == tuple:    # it is multi-indexed\n",
    "        s = s.unstack(level=1)\n",
    "    else:\n",
    "        # force transition from Series -> df\n",
    "        s = pd.DataFrame(s)\n",
    "    return s"
   ]
  },
  {
   "cell_type": "code",
   "execution_count": 16,
   "id": "53201ffc",
   "metadata": {
    "ExecuteTime": {
     "end_time": "2023-01-24T15:13:25.917589Z",
     "start_time": "2023-01-24T15:13:22.871555Z"
    },
    "pycharm": {
     "name": "#%%\n"
    }
   },
   "outputs": [
    {
     "name": "stdout",
     "output_type": "stream",
     "text": [
      "Charge cost: 403894.5579537475\n",
      "Discharge cost: 2015717.0042277009\n"
     ]
    }
   ],
   "source": [
    "PEV_df = ext_pyomo_vals(model.PEV)\n",
    "dT_df = ext_pyomo_vals(model.dT)\n",
    "cDA_df = ext_pyomo_vals(model.cDA)\n",
    "PEVdc_df = ext_pyomo_vals(model.PEVdc)\n",
    "EEV_df = ext_pyomo_vals(model.EEV)\n",
    "\n",
    "charge_cost = sum([PEV_df[t][ev]*dT_df[0][t]*cDA_df[0][t]\n",
    "                   for ev in np.arange(1, n_evs + 1) for t in np.arange(1, n_time + 1)])\n",
    "\n",
    "discharge_cost = sum([PEVdc_df[t][ev]*dT_df[0][t]*cDA_df[0][t]\n",
    "                      for ev in np.arange(1, n_evs + 1) for t in np.arange(1, n_time + 1)])\n",
    "\n",
    "print('Charge cost: {}'.format(charge_cost))\n",
    "print('Discharge cost: {}'.format(discharge_cost))"
   ]
  },
  {
   "cell_type": "markdown",
   "id": "614fa855",
   "metadata": {
    "pycharm": {
     "name": "#%% md\n"
    }
   },
   "source": [
    "## Results"
   ]
  },
  {
   "cell_type": "code",
   "execution_count": 17,
   "id": "42bdc8dd",
   "metadata": {
    "ExecuteTime": {
     "end_time": "2023-01-24T15:13:25.927589Z",
     "start_time": "2023-01-24T15:13:25.917589Z"
    },
    "pycharm": {
     "name": "#%%\n"
    }
   },
   "outputs": [
    {
     "name": "stdout",
     "output_type": "stream",
     "text": [
      "Total Charge: 14169.5097977588\n"
     ]
    }
   ],
   "source": [
    "print(\"Total Charge: {}\".format(np.sum(PEV_df.to_numpy())))"
   ]
  },
  {
   "cell_type": "code",
   "execution_count": 18,
   "id": "0bde96bf",
   "metadata": {
    "ExecuteTime": {
     "end_time": "2023-01-24T15:13:25.937590Z",
     "start_time": "2023-01-24T15:13:25.929589Z"
    },
    "pycharm": {
     "name": "#%%\n"
    }
   },
   "outputs": [
    {
     "name": "stdout",
     "output_type": "stream",
     "text": [
      "Total Discharge: 41172.02234452484\n"
     ]
    }
   ],
   "source": [
    "print(\"Total Discharge: {}\".format(np.sum(PEVdc_df.to_numpy())))"
   ]
  },
  {
   "cell_type": "code",
   "execution_count": 19,
   "id": "84bd8402",
   "metadata": {
    "ExecuteTime": {
     "end_time": "2023-01-24T15:13:25.994593Z",
     "start_time": "2023-01-24T15:13:25.940590Z"
    },
    "pycharm": {
     "name": "#%%\n"
    }
   },
   "outputs": [
    {
     "data": {
      "text/plain": "         1            2            3            4            5            6   \\\n1    3800.0  3766.077639  3760.989468  3755.746795  3751.944503  3749.220788   \n2    2360.0  2354.324146  2349.047609  2343.622081  2339.693556  2336.885397   \n3    2360.0  2349.822608  2344.550316  2339.129001  2335.203087  2332.396523   \n4    2360.0  2281.063353  2275.793688  2270.375619  2266.454060  2263.653879   \n5    2720.0  2637.314801  2632.220280  2626.977897  2623.178594  2620.460978   \n..      ...          ...          ...          ...          ...          ...   \n862  2080.0  2067.514530  2062.431787  2057.203050  2053.413393  2050.703235   \n863  3800.0  3479.960000  3154.811044  3149.556307  3145.752729  3143.036986   \n864  3400.0  2755.876667  2106.816280  2101.739598  2098.056489  2095.426150   \n865   540.0   535.213718   530.574531   525.820723   522.275205   519.688855   \n866  2200.0  2122.628386  2117.579005  2112.385331  2108.619404  2105.926225   \n\n              7            8            9            10  ...           15  \\\n1    3747.863389  3746.721551  3745.575097  3744.434377  ...  3706.600961   \n2    2335.492428  2334.320308  2333.139632  2331.964232  ...  2323.613688   \n3    2331.004160  2329.832509  2328.652279  2327.477258  ...  2313.261620   \n4    2262.267275  2261.101541  2259.926078  2258.755889  ...  2107.164324   \n5    2619.109462  2617.973463  2616.831453  2615.694919  ...  2607.638569   \n..           ...          ...          ...          ...  ...          ...   \n862  2049.355725  2048.223092  2047.083897  2045.949929  ...  2029.578509   \n863  3141.690276  3140.560048  3139.422574  3138.290706  ...  2810.204922   \n864  2094.121444  2093.028292  2091.925715  2090.827292  ...  2082.975255   \n865   518.372768   517.264013   516.150754   515.037851  ...   506.142253   \n866  2104.587204  2103.462250  2102.330392  2101.203650  ...  1952.471415   \n\n              16           17           18           19           20  \\\n1    3676.840961  3676.840961  3676.840961  3676.840961  3676.840961   \n2    2318.803340  2318.803340  2318.803340  2318.803340  2318.803340   \n3    2313.261620  2313.261620  2313.261620  2313.261620  2313.261620   \n4    2107.164324  2107.164324  2107.164324  2107.164324  2107.164324   \n5    2525.796388  2525.796388  2525.796388  2525.796388  2525.796388   \n..           ...          ...          ...          ...          ...   \n862  2029.578509  2029.578509  2029.578509  2029.578509  2029.578509   \n863  2490.164922  2490.164922  2490.164922  2490.164922  2490.164922   \n864  1435.586031  1435.586031  1435.586031  1435.586031  1435.586031   \n865   506.142253   506.142253   506.142253   506.142253   506.142253   \n866  1952.471415  1952.471415  1952.471415  1952.471415  1952.471415   \n\n              21           22           23           24  \n1    3676.840961  3676.840961  3676.840961  4688.420481  \n2    2318.803340  2318.803340  2318.803340  2929.401670  \n3    2313.261620  2313.261620  2313.261620  2926.630810  \n4    2107.164324  2107.164324  2107.164324  2823.582162  \n5    2525.796388  2525.796388  2525.796388  3302.898194  \n..           ...          ...          ...          ...  \n862  2029.578509  2029.578509  2029.578509  2574.789254  \n863  2490.164922  2490.164922  2490.164922  4095.082461  \n864  1435.586031  1435.586031  1435.586031  3267.793016  \n865   506.142253   506.142253   506.142253   658.071126  \n866  1952.471415  1952.471415  1952.471415  2626.235708  \n\n[866 rows x 24 columns]",
      "text/html": "<div>\n<style scoped>\n    .dataframe tbody tr th:only-of-type {\n        vertical-align: middle;\n    }\n\n    .dataframe tbody tr th {\n        vertical-align: top;\n    }\n\n    .dataframe thead th {\n        text-align: right;\n    }\n</style>\n<table border=\"1\" class=\"dataframe\">\n  <thead>\n    <tr style=\"text-align: right;\">\n      <th></th>\n      <th>1</th>\n      <th>2</th>\n      <th>3</th>\n      <th>4</th>\n      <th>5</th>\n      <th>6</th>\n      <th>7</th>\n      <th>8</th>\n      <th>9</th>\n      <th>10</th>\n      <th>...</th>\n      <th>15</th>\n      <th>16</th>\n      <th>17</th>\n      <th>18</th>\n      <th>19</th>\n      <th>20</th>\n      <th>21</th>\n      <th>22</th>\n      <th>23</th>\n      <th>24</th>\n    </tr>\n  </thead>\n  <tbody>\n    <tr>\n      <th>1</th>\n      <td>3800.0</td>\n      <td>3766.077639</td>\n      <td>3760.989468</td>\n      <td>3755.746795</td>\n      <td>3751.944503</td>\n      <td>3749.220788</td>\n      <td>3747.863389</td>\n      <td>3746.721551</td>\n      <td>3745.575097</td>\n      <td>3744.434377</td>\n      <td>...</td>\n      <td>3706.600961</td>\n      <td>3676.840961</td>\n      <td>3676.840961</td>\n      <td>3676.840961</td>\n      <td>3676.840961</td>\n      <td>3676.840961</td>\n      <td>3676.840961</td>\n      <td>3676.840961</td>\n      <td>3676.840961</td>\n      <td>4688.420481</td>\n    </tr>\n    <tr>\n      <th>2</th>\n      <td>2360.0</td>\n      <td>2354.324146</td>\n      <td>2349.047609</td>\n      <td>2343.622081</td>\n      <td>2339.693556</td>\n      <td>2336.885397</td>\n      <td>2335.492428</td>\n      <td>2334.320308</td>\n      <td>2333.139632</td>\n      <td>2331.964232</td>\n      <td>...</td>\n      <td>2323.613688</td>\n      <td>2318.803340</td>\n      <td>2318.803340</td>\n      <td>2318.803340</td>\n      <td>2318.803340</td>\n      <td>2318.803340</td>\n      <td>2318.803340</td>\n      <td>2318.803340</td>\n      <td>2318.803340</td>\n      <td>2929.401670</td>\n    </tr>\n    <tr>\n      <th>3</th>\n      <td>2360.0</td>\n      <td>2349.822608</td>\n      <td>2344.550316</td>\n      <td>2339.129001</td>\n      <td>2335.203087</td>\n      <td>2332.396523</td>\n      <td>2331.004160</td>\n      <td>2329.832509</td>\n      <td>2328.652279</td>\n      <td>2327.477258</td>\n      <td>...</td>\n      <td>2313.261620</td>\n      <td>2313.261620</td>\n      <td>2313.261620</td>\n      <td>2313.261620</td>\n      <td>2313.261620</td>\n      <td>2313.261620</td>\n      <td>2313.261620</td>\n      <td>2313.261620</td>\n      <td>2313.261620</td>\n      <td>2926.630810</td>\n    </tr>\n    <tr>\n      <th>4</th>\n      <td>2360.0</td>\n      <td>2281.063353</td>\n      <td>2275.793688</td>\n      <td>2270.375619</td>\n      <td>2266.454060</td>\n      <td>2263.653879</td>\n      <td>2262.267275</td>\n      <td>2261.101541</td>\n      <td>2259.926078</td>\n      <td>2258.755889</td>\n      <td>...</td>\n      <td>2107.164324</td>\n      <td>2107.164324</td>\n      <td>2107.164324</td>\n      <td>2107.164324</td>\n      <td>2107.164324</td>\n      <td>2107.164324</td>\n      <td>2107.164324</td>\n      <td>2107.164324</td>\n      <td>2107.164324</td>\n      <td>2823.582162</td>\n    </tr>\n    <tr>\n      <th>5</th>\n      <td>2720.0</td>\n      <td>2637.314801</td>\n      <td>2632.220280</td>\n      <td>2626.977897</td>\n      <td>2623.178594</td>\n      <td>2620.460978</td>\n      <td>2619.109462</td>\n      <td>2617.973463</td>\n      <td>2616.831453</td>\n      <td>2615.694919</td>\n      <td>...</td>\n      <td>2607.638569</td>\n      <td>2525.796388</td>\n      <td>2525.796388</td>\n      <td>2525.796388</td>\n      <td>2525.796388</td>\n      <td>2525.796388</td>\n      <td>2525.796388</td>\n      <td>2525.796388</td>\n      <td>2525.796388</td>\n      <td>3302.898194</td>\n    </tr>\n    <tr>\n      <th>...</th>\n      <td>...</td>\n      <td>...</td>\n      <td>...</td>\n      <td>...</td>\n      <td>...</td>\n      <td>...</td>\n      <td>...</td>\n      <td>...</td>\n      <td>...</td>\n      <td>...</td>\n      <td>...</td>\n      <td>...</td>\n      <td>...</td>\n      <td>...</td>\n      <td>...</td>\n      <td>...</td>\n      <td>...</td>\n      <td>...</td>\n      <td>...</td>\n      <td>...</td>\n      <td>...</td>\n    </tr>\n    <tr>\n      <th>862</th>\n      <td>2080.0</td>\n      <td>2067.514530</td>\n      <td>2062.431787</td>\n      <td>2057.203050</td>\n      <td>2053.413393</td>\n      <td>2050.703235</td>\n      <td>2049.355725</td>\n      <td>2048.223092</td>\n      <td>2047.083897</td>\n      <td>2045.949929</td>\n      <td>...</td>\n      <td>2029.578509</td>\n      <td>2029.578509</td>\n      <td>2029.578509</td>\n      <td>2029.578509</td>\n      <td>2029.578509</td>\n      <td>2029.578509</td>\n      <td>2029.578509</td>\n      <td>2029.578509</td>\n      <td>2029.578509</td>\n      <td>2574.789254</td>\n    </tr>\n    <tr>\n      <th>863</th>\n      <td>3800.0</td>\n      <td>3479.960000</td>\n      <td>3154.811044</td>\n      <td>3149.556307</td>\n      <td>3145.752729</td>\n      <td>3143.036986</td>\n      <td>3141.690276</td>\n      <td>3140.560048</td>\n      <td>3139.422574</td>\n      <td>3138.290706</td>\n      <td>...</td>\n      <td>2810.204922</td>\n      <td>2490.164922</td>\n      <td>2490.164922</td>\n      <td>2490.164922</td>\n      <td>2490.164922</td>\n      <td>2490.164922</td>\n      <td>2490.164922</td>\n      <td>2490.164922</td>\n      <td>2490.164922</td>\n      <td>4095.082461</td>\n    </tr>\n    <tr>\n      <th>864</th>\n      <td>3400.0</td>\n      <td>2755.876667</td>\n      <td>2106.816280</td>\n      <td>2101.739598</td>\n      <td>2098.056489</td>\n      <td>2095.426150</td>\n      <td>2094.121444</td>\n      <td>2093.028292</td>\n      <td>2091.925715</td>\n      <td>2090.827292</td>\n      <td>...</td>\n      <td>2082.975255</td>\n      <td>1435.586031</td>\n      <td>1435.586031</td>\n      <td>1435.586031</td>\n      <td>1435.586031</td>\n      <td>1435.586031</td>\n      <td>1435.586031</td>\n      <td>1435.586031</td>\n      <td>1435.586031</td>\n      <td>3267.793016</td>\n    </tr>\n    <tr>\n      <th>865</th>\n      <td>540.0</td>\n      <td>535.213718</td>\n      <td>530.574531</td>\n      <td>525.820723</td>\n      <td>522.275205</td>\n      <td>519.688855</td>\n      <td>518.372768</td>\n      <td>517.264013</td>\n      <td>516.150754</td>\n      <td>515.037851</td>\n      <td>...</td>\n      <td>506.142253</td>\n      <td>506.142253</td>\n      <td>506.142253</td>\n      <td>506.142253</td>\n      <td>506.142253</td>\n      <td>506.142253</td>\n      <td>506.142253</td>\n      <td>506.142253</td>\n      <td>506.142253</td>\n      <td>658.071126</td>\n    </tr>\n    <tr>\n      <th>866</th>\n      <td>2200.0</td>\n      <td>2122.628386</td>\n      <td>2117.579005</td>\n      <td>2112.385331</td>\n      <td>2108.619404</td>\n      <td>2105.926225</td>\n      <td>2104.587204</td>\n      <td>2103.462250</td>\n      <td>2102.330392</td>\n      <td>2101.203650</td>\n      <td>...</td>\n      <td>1952.471415</td>\n      <td>1952.471415</td>\n      <td>1952.471415</td>\n      <td>1952.471415</td>\n      <td>1952.471415</td>\n      <td>1952.471415</td>\n      <td>1952.471415</td>\n      <td>1952.471415</td>\n      <td>1952.471415</td>\n      <td>2626.235708</td>\n    </tr>\n  </tbody>\n</table>\n<p>866 rows × 24 columns</p>\n</div>"
     },
     "execution_count": 19,
     "metadata": {},
     "output_type": "execute_result"
    }
   ],
   "source": [
    "EEV_df"
   ]
  },
  {
   "cell_type": "code",
   "execution_count": 20,
   "id": "98a2b564",
   "metadata": {
    "ExecuteTime": {
     "end_time": "2023-01-24T15:13:26.046596Z",
     "start_time": "2023-01-24T15:13:25.996593Z"
    },
    "pycharm": {
     "name": "#%%\n"
    }
   },
   "outputs": [
    {
     "data": {
      "text/plain": "      1             2             3             4             5   \\\n1    0.0  9.298331e-08  9.382931e-08  9.383902e-08  9.239939e-08   \n2    0.0  9.423669e-08  9.518323e-08  9.516110e-08  9.359043e-08   \n3    0.0  9.424938e-08  9.519665e-08  9.517386e-08  9.360112e-08   \n4    0.0  9.468392e-08  9.562276e-08  9.558360e-08  9.398159e-08   \n5    0.0  9.344037e-08  9.430683e-08  9.428706e-08  9.280650e-08   \n..   ...           ...           ...           ...           ...   \n862  0.0  9.363090e-08  9.452548e-08  9.448660e-08  9.298317e-08   \n863  0.0  0.000000e+00  9.478135e-08  9.474822e-08  9.324379e-08   \n864  0.0  0.000000e+00  9.677218e-08  9.663058e-08  9.500598e-08   \n865  0.0  1.026846e-07  1.024006e-07  1.015113e-07  9.887601e-08   \n866  0.0  9.397131e-08  9.485802e-08  9.481080e-08  9.328567e-08   \n\n               6             7             8             9             10  \\\n1    9.123688e-08  9.411319e-08  9.554020e-08  9.598471e-08  9.589770e-08   \n2    9.228269e-08  9.510176e-08  9.648858e-08  9.693347e-08  9.683282e-08   \n3    9.229133e-08  9.510922e-08  9.649509e-08  9.693965e-08  9.683843e-08   \n4    9.262370e-08  9.540404e-08  9.678722e-08  9.725432e-08  9.714250e-08   \n5    9.158705e-08  9.442017e-08  9.583517e-08  9.628575e-08  9.617743e-08   \n..            ...           ...           ...           ...           ...   \n862  9.173456e-08  9.454569e-08  9.594995e-08  9.639434e-08  9.627103e-08   \n863  9.197636e-08  9.476905e-08  9.618911e-08  9.667640e-08  9.656086e-08   \n864  9.352949e-08  9.615684e-08  9.755836e-08  9.810780e-08  9.791789e-08   \n865  9.651918e-08  9.859339e-08  9.963816e-08  9.973384e-08  9.927440e-08   \n866  9.200345e-08  9.479269e-08  9.619659e-08  9.665752e-08  9.653117e-08   \n\n     ...            15            16   17   18   19   20   21   22   23   24  \n1    ...  9.250463e-08  0.000000e+00  0.0  0.0  0.0  0.0  0.0  0.0  0.0  0.0  \n2    ...  9.342885e-08  9.329077e-08  0.0  0.0  0.0  0.0  0.0  0.0  0.0  0.0  \n3    ...  9.343071e-08  0.000000e+00  0.0  0.0  0.0  0.0  0.0  0.0  0.0  0.0  \n4    ...  0.000000e+00  0.000000e+00  0.0  0.0  0.0  0.0  0.0  0.0  0.0  0.0  \n5    ...  9.269082e-08  9.256418e-08  0.0  0.0  0.0  0.0  0.0  0.0  0.0  0.0  \n..   ...           ...           ...  ...  ...  ...  ...  ...  ...  ...  ...  \n862  ...  9.270442e-08  0.000000e+00  0.0  0.0  0.0  0.0  0.0  0.0  0.0  0.0  \n863  ...  9.308572e-08  0.000000e+00  0.0  0.0  0.0  0.0  0.0  0.0  0.0  0.0  \n864  ...  9.413930e-08  9.399923e-08  0.0  0.0  0.0  0.0  0.0  0.0  0.0  0.0  \n865  ...  9.403777e-08  0.000000e+00  0.0  0.0  0.0  0.0  0.0  0.0  0.0  0.0  \n866  ...  0.000000e+00  0.000000e+00  0.0  0.0  0.0  0.0  0.0  0.0  0.0  0.0  \n\n[866 rows x 24 columns]",
      "text/html": "<div>\n<style scoped>\n    .dataframe tbody tr th:only-of-type {\n        vertical-align: middle;\n    }\n\n    .dataframe tbody tr th {\n        vertical-align: top;\n    }\n\n    .dataframe thead th {\n        text-align: right;\n    }\n</style>\n<table border=\"1\" class=\"dataframe\">\n  <thead>\n    <tr style=\"text-align: right;\">\n      <th></th>\n      <th>1</th>\n      <th>2</th>\n      <th>3</th>\n      <th>4</th>\n      <th>5</th>\n      <th>6</th>\n      <th>7</th>\n      <th>8</th>\n      <th>9</th>\n      <th>10</th>\n      <th>...</th>\n      <th>15</th>\n      <th>16</th>\n      <th>17</th>\n      <th>18</th>\n      <th>19</th>\n      <th>20</th>\n      <th>21</th>\n      <th>22</th>\n      <th>23</th>\n      <th>24</th>\n    </tr>\n  </thead>\n  <tbody>\n    <tr>\n      <th>1</th>\n      <td>0.0</td>\n      <td>9.298331e-08</td>\n      <td>9.382931e-08</td>\n      <td>9.383902e-08</td>\n      <td>9.239939e-08</td>\n      <td>9.123688e-08</td>\n      <td>9.411319e-08</td>\n      <td>9.554020e-08</td>\n      <td>9.598471e-08</td>\n      <td>9.589770e-08</td>\n      <td>...</td>\n      <td>9.250463e-08</td>\n      <td>0.000000e+00</td>\n      <td>0.0</td>\n      <td>0.0</td>\n      <td>0.0</td>\n      <td>0.0</td>\n      <td>0.0</td>\n      <td>0.0</td>\n      <td>0.0</td>\n      <td>0.0</td>\n    </tr>\n    <tr>\n      <th>2</th>\n      <td>0.0</td>\n      <td>9.423669e-08</td>\n      <td>9.518323e-08</td>\n      <td>9.516110e-08</td>\n      <td>9.359043e-08</td>\n      <td>9.228269e-08</td>\n      <td>9.510176e-08</td>\n      <td>9.648858e-08</td>\n      <td>9.693347e-08</td>\n      <td>9.683282e-08</td>\n      <td>...</td>\n      <td>9.342885e-08</td>\n      <td>9.329077e-08</td>\n      <td>0.0</td>\n      <td>0.0</td>\n      <td>0.0</td>\n      <td>0.0</td>\n      <td>0.0</td>\n      <td>0.0</td>\n      <td>0.0</td>\n      <td>0.0</td>\n    </tr>\n    <tr>\n      <th>3</th>\n      <td>0.0</td>\n      <td>9.424938e-08</td>\n      <td>9.519665e-08</td>\n      <td>9.517386e-08</td>\n      <td>9.360112e-08</td>\n      <td>9.229133e-08</td>\n      <td>9.510922e-08</td>\n      <td>9.649509e-08</td>\n      <td>9.693965e-08</td>\n      <td>9.683843e-08</td>\n      <td>...</td>\n      <td>9.343071e-08</td>\n      <td>0.000000e+00</td>\n      <td>0.0</td>\n      <td>0.0</td>\n      <td>0.0</td>\n      <td>0.0</td>\n      <td>0.0</td>\n      <td>0.0</td>\n      <td>0.0</td>\n      <td>0.0</td>\n    </tr>\n    <tr>\n      <th>4</th>\n      <td>0.0</td>\n      <td>9.468392e-08</td>\n      <td>9.562276e-08</td>\n      <td>9.558360e-08</td>\n      <td>9.398159e-08</td>\n      <td>9.262370e-08</td>\n      <td>9.540404e-08</td>\n      <td>9.678722e-08</td>\n      <td>9.725432e-08</td>\n      <td>9.714250e-08</td>\n      <td>...</td>\n      <td>0.000000e+00</td>\n      <td>0.000000e+00</td>\n      <td>0.0</td>\n      <td>0.0</td>\n      <td>0.0</td>\n      <td>0.0</td>\n      <td>0.0</td>\n      <td>0.0</td>\n      <td>0.0</td>\n      <td>0.0</td>\n    </tr>\n    <tr>\n      <th>5</th>\n      <td>0.0</td>\n      <td>9.344037e-08</td>\n      <td>9.430683e-08</td>\n      <td>9.428706e-08</td>\n      <td>9.280650e-08</td>\n      <td>9.158705e-08</td>\n      <td>9.442017e-08</td>\n      <td>9.583517e-08</td>\n      <td>9.628575e-08</td>\n      <td>9.617743e-08</td>\n      <td>...</td>\n      <td>9.269082e-08</td>\n      <td>9.256418e-08</td>\n      <td>0.0</td>\n      <td>0.0</td>\n      <td>0.0</td>\n      <td>0.0</td>\n      <td>0.0</td>\n      <td>0.0</td>\n      <td>0.0</td>\n      <td>0.0</td>\n    </tr>\n    <tr>\n      <th>...</th>\n      <td>...</td>\n      <td>...</td>\n      <td>...</td>\n      <td>...</td>\n      <td>...</td>\n      <td>...</td>\n      <td>...</td>\n      <td>...</td>\n      <td>...</td>\n      <td>...</td>\n      <td>...</td>\n      <td>...</td>\n      <td>...</td>\n      <td>...</td>\n      <td>...</td>\n      <td>...</td>\n      <td>...</td>\n      <td>...</td>\n      <td>...</td>\n      <td>...</td>\n      <td>...</td>\n    </tr>\n    <tr>\n      <th>862</th>\n      <td>0.0</td>\n      <td>9.363090e-08</td>\n      <td>9.452548e-08</td>\n      <td>9.448660e-08</td>\n      <td>9.298317e-08</td>\n      <td>9.173456e-08</td>\n      <td>9.454569e-08</td>\n      <td>9.594995e-08</td>\n      <td>9.639434e-08</td>\n      <td>9.627103e-08</td>\n      <td>...</td>\n      <td>9.270442e-08</td>\n      <td>0.000000e+00</td>\n      <td>0.0</td>\n      <td>0.0</td>\n      <td>0.0</td>\n      <td>0.0</td>\n      <td>0.0</td>\n      <td>0.0</td>\n      <td>0.0</td>\n      <td>0.0</td>\n    </tr>\n    <tr>\n      <th>863</th>\n      <td>0.0</td>\n      <td>0.000000e+00</td>\n      <td>9.478135e-08</td>\n      <td>9.474822e-08</td>\n      <td>9.324379e-08</td>\n      <td>9.197636e-08</td>\n      <td>9.476905e-08</td>\n      <td>9.618911e-08</td>\n      <td>9.667640e-08</td>\n      <td>9.656086e-08</td>\n      <td>...</td>\n      <td>9.308572e-08</td>\n      <td>0.000000e+00</td>\n      <td>0.0</td>\n      <td>0.0</td>\n      <td>0.0</td>\n      <td>0.0</td>\n      <td>0.0</td>\n      <td>0.0</td>\n      <td>0.0</td>\n      <td>0.0</td>\n    </tr>\n    <tr>\n      <th>864</th>\n      <td>0.0</td>\n      <td>0.000000e+00</td>\n      <td>9.677218e-08</td>\n      <td>9.663058e-08</td>\n      <td>9.500598e-08</td>\n      <td>9.352949e-08</td>\n      <td>9.615684e-08</td>\n      <td>9.755836e-08</td>\n      <td>9.810780e-08</td>\n      <td>9.791789e-08</td>\n      <td>...</td>\n      <td>9.413930e-08</td>\n      <td>9.399923e-08</td>\n      <td>0.0</td>\n      <td>0.0</td>\n      <td>0.0</td>\n      <td>0.0</td>\n      <td>0.0</td>\n      <td>0.0</td>\n      <td>0.0</td>\n      <td>0.0</td>\n    </tr>\n    <tr>\n      <th>865</th>\n      <td>0.0</td>\n      <td>1.026846e-07</td>\n      <td>1.024006e-07</td>\n      <td>1.015113e-07</td>\n      <td>9.887601e-08</td>\n      <td>9.651918e-08</td>\n      <td>9.859339e-08</td>\n      <td>9.963816e-08</td>\n      <td>9.973384e-08</td>\n      <td>9.927440e-08</td>\n      <td>...</td>\n      <td>9.403777e-08</td>\n      <td>0.000000e+00</td>\n      <td>0.0</td>\n      <td>0.0</td>\n      <td>0.0</td>\n      <td>0.0</td>\n      <td>0.0</td>\n      <td>0.0</td>\n      <td>0.0</td>\n      <td>0.0</td>\n    </tr>\n    <tr>\n      <th>866</th>\n      <td>0.0</td>\n      <td>9.397131e-08</td>\n      <td>9.485802e-08</td>\n      <td>9.481080e-08</td>\n      <td>9.328567e-08</td>\n      <td>9.200345e-08</td>\n      <td>9.479269e-08</td>\n      <td>9.619659e-08</td>\n      <td>9.665752e-08</td>\n      <td>9.653117e-08</td>\n      <td>...</td>\n      <td>0.000000e+00</td>\n      <td>0.000000e+00</td>\n      <td>0.0</td>\n      <td>0.0</td>\n      <td>0.0</td>\n      <td>0.0</td>\n      <td>0.0</td>\n      <td>0.0</td>\n      <td>0.0</td>\n      <td>0.0</td>\n    </tr>\n  </tbody>\n</table>\n<p>866 rows × 24 columns</p>\n</div>"
     },
     "execution_count": 20,
     "metadata": {},
     "output_type": "execute_result"
    }
   ],
   "source": [
    "PEV_df"
   ]
  },
  {
   "cell_type": "code",
   "execution_count": 21,
   "id": "32b80826",
   "metadata": {
    "ExecuteTime": {
     "end_time": "2023-01-24T15:13:26.099599Z",
     "start_time": "2023-01-24T15:13:26.048596Z"
    },
    "pycharm": {
     "name": "#%%\n"
    }
   },
   "outputs": [
    {
     "data": {
      "text/plain": "      1         2         3         4         5         6         7   \\\n1    0.0  3.954243  4.833763  4.980540  3.612177  2.587529  1.289529   \n2    0.0  4.100061  5.012710  5.154252  3.732099  2.667751  1.323321   \n3    0.0  4.096773  5.008677  5.150250  3.729618  2.666236  1.322745   \n4    0.0  4.091315  5.006182  5.147166  3.725481  2.660172  1.317274   \n5    0.0  3.956939  4.839795  4.980264  3.609338  2.581736  1.283940   \n..   ...       ...       ...       ...       ...       ...       ...   \n862  0.0  3.947697  4.828605  4.967300  3.600175  2.574650  1.280134   \n863  0.0  0.000000  4.853509  4.992000  3.613398  2.579956  1.279374   \n864  0.0  0.000000  4.690201  4.822848  3.498954  2.498822  1.239471   \n865  0.0  3.606468  4.407228  4.516117  3.368242  2.457033  1.250283   \n866  0.0  3.921866  4.796912  4.933991  3.577630  2.558520  1.272070   \n\n           8         9         10  ...        15        16   17   18   19  \\\n1    1.084746  1.089131  1.083685  ...  3.341036  0.000000  0.0  0.0  0.0   \n2    1.113514  1.121642  1.116630  ...  3.472089  3.277831  0.0  0.0  0.0   \n3    1.113069  1.121218  1.116270  ...  3.472761  0.000000  0.0  0.0  0.0   \n4    1.107448  1.116689  1.111680  ...  0.000000  0.000000  0.0  0.0  0.0   \n5    1.079200  1.084910  1.079707  ...  3.339009  3.156072  0.0  0.0  0.0   \n..        ...       ...       ...  ...       ...       ...  ...  ...  ...   \n862  1.076002  1.082236  1.077269  ...  3.332325  0.000000  0.0  0.0  0.0   \n863  1.073716  1.080601  1.075275  ...  3.346997  0.000000  0.0  0.0  0.0   \n864  1.038495  1.047448  1.043502  ...  3.276091  3.102596  0.0  0.0  0.0   \n865  1.053317  1.057597  1.057258  ...  3.239188  0.000000  0.0  0.0  0.0   \n866  1.068706  1.075266  1.070405  ...  0.000000  0.000000  0.0  0.0  0.0   \n\n      20   21   22   23   24  \n1    0.0  0.0  0.0  0.0  0.0  \n2    0.0  0.0  0.0  0.0  0.0  \n3    0.0  0.0  0.0  0.0  0.0  \n4    0.0  0.0  0.0  0.0  0.0  \n5    0.0  0.0  0.0  0.0  0.0  \n..   ...  ...  ...  ...  ...  \n862  0.0  0.0  0.0  0.0  0.0  \n863  0.0  0.0  0.0  0.0  0.0  \n864  0.0  0.0  0.0  0.0  0.0  \n865  0.0  0.0  0.0  0.0  0.0  \n866  0.0  0.0  0.0  0.0  0.0  \n\n[866 rows x 24 columns]",
      "text/html": "<div>\n<style scoped>\n    .dataframe tbody tr th:only-of-type {\n        vertical-align: middle;\n    }\n\n    .dataframe tbody tr th {\n        vertical-align: top;\n    }\n\n    .dataframe thead th {\n        text-align: right;\n    }\n</style>\n<table border=\"1\" class=\"dataframe\">\n  <thead>\n    <tr style=\"text-align: right;\">\n      <th></th>\n      <th>1</th>\n      <th>2</th>\n      <th>3</th>\n      <th>4</th>\n      <th>5</th>\n      <th>6</th>\n      <th>7</th>\n      <th>8</th>\n      <th>9</th>\n      <th>10</th>\n      <th>...</th>\n      <th>15</th>\n      <th>16</th>\n      <th>17</th>\n      <th>18</th>\n      <th>19</th>\n      <th>20</th>\n      <th>21</th>\n      <th>22</th>\n      <th>23</th>\n      <th>24</th>\n    </tr>\n  </thead>\n  <tbody>\n    <tr>\n      <th>1</th>\n      <td>0.0</td>\n      <td>3.954243</td>\n      <td>4.833763</td>\n      <td>4.980540</td>\n      <td>3.612177</td>\n      <td>2.587529</td>\n      <td>1.289529</td>\n      <td>1.084746</td>\n      <td>1.089131</td>\n      <td>1.083685</td>\n      <td>...</td>\n      <td>3.341036</td>\n      <td>0.000000</td>\n      <td>0.0</td>\n      <td>0.0</td>\n      <td>0.0</td>\n      <td>0.0</td>\n      <td>0.0</td>\n      <td>0.0</td>\n      <td>0.0</td>\n      <td>0.0</td>\n    </tr>\n    <tr>\n      <th>2</th>\n      <td>0.0</td>\n      <td>4.100061</td>\n      <td>5.012710</td>\n      <td>5.154252</td>\n      <td>3.732099</td>\n      <td>2.667751</td>\n      <td>1.323321</td>\n      <td>1.113514</td>\n      <td>1.121642</td>\n      <td>1.116630</td>\n      <td>...</td>\n      <td>3.472089</td>\n      <td>3.277831</td>\n      <td>0.0</td>\n      <td>0.0</td>\n      <td>0.0</td>\n      <td>0.0</td>\n      <td>0.0</td>\n      <td>0.0</td>\n      <td>0.0</td>\n      <td>0.0</td>\n    </tr>\n    <tr>\n      <th>3</th>\n      <td>0.0</td>\n      <td>4.096773</td>\n      <td>5.008677</td>\n      <td>5.150250</td>\n      <td>3.729618</td>\n      <td>2.666236</td>\n      <td>1.322745</td>\n      <td>1.113069</td>\n      <td>1.121218</td>\n      <td>1.116270</td>\n      <td>...</td>\n      <td>3.472761</td>\n      <td>0.000000</td>\n      <td>0.0</td>\n      <td>0.0</td>\n      <td>0.0</td>\n      <td>0.0</td>\n      <td>0.0</td>\n      <td>0.0</td>\n      <td>0.0</td>\n      <td>0.0</td>\n    </tr>\n    <tr>\n      <th>4</th>\n      <td>0.0</td>\n      <td>4.091315</td>\n      <td>5.006182</td>\n      <td>5.147166</td>\n      <td>3.725481</td>\n      <td>2.660172</td>\n      <td>1.317274</td>\n      <td>1.107448</td>\n      <td>1.116689</td>\n      <td>1.111680</td>\n      <td>...</td>\n      <td>0.000000</td>\n      <td>0.000000</td>\n      <td>0.0</td>\n      <td>0.0</td>\n      <td>0.0</td>\n      <td>0.0</td>\n      <td>0.0</td>\n      <td>0.0</td>\n      <td>0.0</td>\n      <td>0.0</td>\n    </tr>\n    <tr>\n      <th>5</th>\n      <td>0.0</td>\n      <td>3.956939</td>\n      <td>4.839795</td>\n      <td>4.980264</td>\n      <td>3.609338</td>\n      <td>2.581736</td>\n      <td>1.283940</td>\n      <td>1.079200</td>\n      <td>1.084910</td>\n      <td>1.079707</td>\n      <td>...</td>\n      <td>3.339009</td>\n      <td>3.156072</td>\n      <td>0.0</td>\n      <td>0.0</td>\n      <td>0.0</td>\n      <td>0.0</td>\n      <td>0.0</td>\n      <td>0.0</td>\n      <td>0.0</td>\n      <td>0.0</td>\n    </tr>\n    <tr>\n      <th>...</th>\n      <td>...</td>\n      <td>...</td>\n      <td>...</td>\n      <td>...</td>\n      <td>...</td>\n      <td>...</td>\n      <td>...</td>\n      <td>...</td>\n      <td>...</td>\n      <td>...</td>\n      <td>...</td>\n      <td>...</td>\n      <td>...</td>\n      <td>...</td>\n      <td>...</td>\n      <td>...</td>\n      <td>...</td>\n      <td>...</td>\n      <td>...</td>\n      <td>...</td>\n      <td>...</td>\n    </tr>\n    <tr>\n      <th>862</th>\n      <td>0.0</td>\n      <td>3.947697</td>\n      <td>4.828605</td>\n      <td>4.967300</td>\n      <td>3.600175</td>\n      <td>2.574650</td>\n      <td>1.280134</td>\n      <td>1.076002</td>\n      <td>1.082236</td>\n      <td>1.077269</td>\n      <td>...</td>\n      <td>3.332325</td>\n      <td>0.000000</td>\n      <td>0.0</td>\n      <td>0.0</td>\n      <td>0.0</td>\n      <td>0.0</td>\n      <td>0.0</td>\n      <td>0.0</td>\n      <td>0.0</td>\n      <td>0.0</td>\n    </tr>\n    <tr>\n      <th>863</th>\n      <td>0.0</td>\n      <td>0.000000</td>\n      <td>4.853509</td>\n      <td>4.992000</td>\n      <td>3.613398</td>\n      <td>2.579956</td>\n      <td>1.279374</td>\n      <td>1.073716</td>\n      <td>1.080601</td>\n      <td>1.075275</td>\n      <td>...</td>\n      <td>3.346997</td>\n      <td>0.000000</td>\n      <td>0.0</td>\n      <td>0.0</td>\n      <td>0.0</td>\n      <td>0.0</td>\n      <td>0.0</td>\n      <td>0.0</td>\n      <td>0.0</td>\n      <td>0.0</td>\n    </tr>\n    <tr>\n      <th>864</th>\n      <td>0.0</td>\n      <td>0.000000</td>\n      <td>4.690201</td>\n      <td>4.822848</td>\n      <td>3.498954</td>\n      <td>2.498822</td>\n      <td>1.239471</td>\n      <td>1.038495</td>\n      <td>1.047448</td>\n      <td>1.043502</td>\n      <td>...</td>\n      <td>3.276091</td>\n      <td>3.102596</td>\n      <td>0.0</td>\n      <td>0.0</td>\n      <td>0.0</td>\n      <td>0.0</td>\n      <td>0.0</td>\n      <td>0.0</td>\n      <td>0.0</td>\n      <td>0.0</td>\n    </tr>\n    <tr>\n      <th>865</th>\n      <td>0.0</td>\n      <td>3.606468</td>\n      <td>4.407228</td>\n      <td>4.516117</td>\n      <td>3.368242</td>\n      <td>2.457033</td>\n      <td>1.250283</td>\n      <td>1.053317</td>\n      <td>1.057597</td>\n      <td>1.057258</td>\n      <td>...</td>\n      <td>3.239188</td>\n      <td>0.000000</td>\n      <td>0.0</td>\n      <td>0.0</td>\n      <td>0.0</td>\n      <td>0.0</td>\n      <td>0.0</td>\n      <td>0.0</td>\n      <td>0.0</td>\n      <td>0.0</td>\n    </tr>\n    <tr>\n      <th>866</th>\n      <td>0.0</td>\n      <td>3.921866</td>\n      <td>4.796912</td>\n      <td>4.933991</td>\n      <td>3.577630</td>\n      <td>2.558520</td>\n      <td>1.272070</td>\n      <td>1.068706</td>\n      <td>1.075266</td>\n      <td>1.070405</td>\n      <td>...</td>\n      <td>0.000000</td>\n      <td>0.000000</td>\n      <td>0.0</td>\n      <td>0.0</td>\n      <td>0.0</td>\n      <td>0.0</td>\n      <td>0.0</td>\n      <td>0.0</td>\n      <td>0.0</td>\n      <td>0.0</td>\n    </tr>\n  </tbody>\n</table>\n<p>866 rows × 24 columns</p>\n</div>"
     },
     "execution_count": 21,
     "metadata": {},
     "output_type": "execute_result"
    }
   ],
   "source": [
    "PEVdc_df"
   ]
  },
  {
   "cell_type": "code",
   "execution_count": 22,
   "id": "0790a6fa",
   "metadata": {
    "ExecuteTime": {
     "end_time": "2023-01-24T15:13:26.110599Z",
     "start_time": "2023-01-24T15:13:26.102599Z"
    },
    "pycharm": {
     "name": "#%%\n"
    }
   },
   "outputs": [
    {
     "data": {
      "text/plain": "1        0.000009\n2        0.000069\n3      368.356902\n4      606.112638\n5       16.310872\n6       17.416619\n7       70.091877\n8      926.796968\n9     1504.535268\n10    1811.369876\n11    1963.816511\n12    2012.543936\n13    1806.157351\n14    1310.787676\n15    1745.550558\n16       9.662599\n17       0.000009\n18       0.000009\n19       0.000008\n20       0.000009\n21       0.000009\n22       0.000009\n23       0.000009\n24       0.000009\ndtype: float64"
     },
     "execution_count": 22,
     "metadata": {},
     "output_type": "execute_result"
    }
   ],
   "source": [
    "PEV_df.sum()"
   ]
  },
  {
   "cell_type": "code",
   "execution_count": 23,
   "id": "d233e7ec",
   "metadata": {
    "ExecuteTime": {
     "end_time": "2023-01-24T15:13:26.123600Z",
     "start_time": "2023-01-24T15:13:26.114600Z"
    },
    "pycharm": {
     "name": "#%%\n"
    }
   },
   "outputs": [
    {
     "data": {
      "text/plain": "1     2125.930114\n2     2876.650175\n3     3643.207008\n4     3749.412744\n5     2728.260978\n6     1957.916725\n7      975.541984\n8      820.247075\n9      825.685375\n10     822.319984\n11     823.116618\n12     816.374043\n13     722.807458\n14     646.437783\n15    1969.180664\n16    1263.942705\n17    1864.250114\n18    1945.930114\n19    2023.100114\n20    1846.000114\n21    1685.300114\n22    1733.200114\n23    1632.980114\n24    1674.230114\ndtype: float64"
     },
     "execution_count": 23,
     "metadata": {},
     "output_type": "execute_result"
    }
   ],
   "source": [
    "PEVdc_df.sum()"
   ]
  },
  {
   "cell_type": "code",
   "execution_count": 24,
   "id": "791a54ab",
   "metadata": {
    "ExecuteTime": {
     "end_time": "2023-01-24T17:09:14.165827Z",
     "start_time": "2023-01-24T17:09:14.052822Z"
    },
    "pycharm": {
     "name": "#%%\n"
    }
   },
   "outputs": [],
   "source": [
    "Etriprelax_df = ext_pyomo_vals(model.Etriprelax)"
   ]
  },
  {
   "cell_type": "code",
   "execution_count": 25,
   "id": "390bad91",
   "metadata": {
    "ExecuteTime": {
     "end_time": "2023-01-24T17:09:14.301834Z",
     "start_time": "2023-01-24T17:09:14.294834Z"
    },
    "pycharm": {
     "name": "#%%\n"
    }
   },
   "outputs": [
    {
     "data": {
      "text/plain": "1     8.225044e-07\n2     1.176760e+03\n3     1.282896e+03\n4     8.837112e+02\n5     7.572326e+02\n6     6.816838e+02\n7     6.192837e+02\n8     5.634827e+02\n9     5.058990e+02\n10    3.985984e+02\n11    3.770377e+02\n12    3.337237e+02\n13    3.186621e+02\n14    3.064548e+02\n15    2.997005e+02\n16    2.914563e+02\n17    2.734888e+02\n18    1.721069e+02\n19    1.627061e+02\n20    1.555651e+02\n21    1.433953e+02\n22    1.211421e+02\n23    8.179160e-06\n24    7.346565e+05\ndtype: float64"
     },
     "execution_count": 25,
     "metadata": {},
     "output_type": "execute_result"
    }
   ],
   "source": [
    "Etriprelax_df.sum()"
   ]
  },
  {
   "cell_type": "code",
   "execution_count": 26,
   "id": "24705458",
   "metadata": {
    "ExecuteTime": {
     "end_time": "2023-01-24T17:09:14.735859Z",
     "start_time": "2023-01-24T17:09:14.622853Z"
    },
    "pycharm": {
     "name": "#%%\n"
    }
   },
   "outputs": [],
   "source": [
    "Eminsocrelax_df = ext_pyomo_vals(model.Eminsocrelax)"
   ]
  },
  {
   "cell_type": "code",
   "execution_count": 27,
   "id": "ab50f6c4",
   "metadata": {
    "ExecuteTime": {
     "end_time": "2023-01-24T17:09:14.901868Z",
     "start_time": "2023-01-24T17:09:14.894868Z"
    },
    "pycharm": {
     "name": "#%%\n"
    }
   },
   "outputs": [
    {
     "data": {
      "text/plain": "1     1.605819e-07\n2     7.699833e-07\n3     4.101385e-06\n4     4.090129e-06\n5     4.090127e-06\n6     4.090123e-06\n7     4.090116e-06\n8     4.090113e-06\n9     4.093805e-06\n10    4.090105e-06\n11    4.093683e-06\n12    4.090102e-06\n13    4.090113e-06\n14    4.090119e-06\n15    4.090160e-06\n16    4.090454e-06\n17    4.091733e-06\n18    4.091236e-06\n19    4.091148e-06\n20    4.091061e-06\n21    4.090986e-06\n22    4.093215e-06\n23    4.091832e-06\n24    4.089923e-06\ndtype: float64"
     },
     "execution_count": 27,
     "metadata": {},
     "output_type": "execute_result"
    }
   ],
   "source": [
    "Eminsocrelax_df.sum()"
   ]
  },
  {
   "cell_type": "code",
   "execution_count": 28,
   "id": "7dabf69d",
   "metadata": {
    "ExecuteTime": {
     "end_time": "2023-01-24T17:09:15.281890Z",
     "start_time": "2023-01-24T17:09:15.165884Z"
    },
    "pycharm": {
     "name": "#%%\n"
    }
   },
   "outputs": [],
   "source": [
    "Etripn_df = ext_pyomo_vals(model.Etripn)"
   ]
  },
  {
   "cell_type": "code",
   "execution_count": 29,
   "id": "ac82b04c",
   "metadata": {
    "ExecuteTime": {
     "end_time": "2023-01-24T17:09:15.729916Z",
     "start_time": "2023-01-24T17:09:15.718915Z"
    },
    "pycharm": {
     "name": "#%%\n"
    }
   },
   "outputs": [
    {
     "data": {
      "text/plain": "1         0.000000\n2     99055.709983\n3     54584.136167\n4      7271.898119\n5      3558.580983\n6      2679.886649\n7      2234.135530\n8      1321.875530\n9      1059.115952\n10      351.191667\n11     1321.875530\n12     6730.330000\n13    17814.336429\n14        0.000000\n15    31568.023864\n16    80159.464983\n17    16998.327649\n18      834.574935\n19      522.776364\n20     4216.203167\n21     8266.467333\n22      799.099167\n23        0.000000\n24        0.000000\ndtype: float64"
     },
     "execution_count": 29,
     "metadata": {},
     "output_type": "execute_result"
    }
   ],
   "source": [
    "Etripn_df.sum()"
   ]
  },
  {
   "cell_type": "code",
   "execution_count": 30,
   "id": "a0855b10",
   "metadata": {
    "ExecuteTime": {
     "end_time": "2023-01-24T17:09:16.209943Z",
     "start_time": "2023-01-24T17:09:16.205943Z"
    },
    "pycharm": {
     "name": "#%%\n"
    }
   },
   "outputs": [],
   "source": [
    "Ppeakred_df = ext_pyomo_vals(model.Ppeakred)"
   ]
  },
  {
   "cell_type": "code",
   "execution_count": 31,
   "id": "515e98f2",
   "metadata": {
    "ExecuteTime": {
     "end_time": "2023-01-24T17:09:17.214974Z",
     "start_time": "2023-01-24T17:09:17.205974Z"
    },
    "pycharm": {
     "name": "#%%\n"
    }
   },
   "outputs": [
    {
     "data": {
      "text/plain": "             0\n1   263.157895\n2   263.157894\n3   263.157894\n4   263.157894\n5   263.157894\n6   263.157894\n7   263.157893\n8   263.157893\n9   263.157893\n10  263.157893\n11  263.157893\n12  263.157893\n13  263.157893\n14  263.157893\n15  263.157894\n16  263.157894\n17  263.157895\n18  263.157895\n19  263.157895\n20  263.157895\n21  263.157895\n22  263.157895\n23  263.157895\n24  263.157895",
      "text/html": "<div>\n<style scoped>\n    .dataframe tbody tr th:only-of-type {\n        vertical-align: middle;\n    }\n\n    .dataframe tbody tr th {\n        vertical-align: top;\n    }\n\n    .dataframe thead th {\n        text-align: right;\n    }\n</style>\n<table border=\"1\" class=\"dataframe\">\n  <thead>\n    <tr style=\"text-align: right;\">\n      <th></th>\n      <th>0</th>\n    </tr>\n  </thead>\n  <tbody>\n    <tr>\n      <th>1</th>\n      <td>263.157895</td>\n    </tr>\n    <tr>\n      <th>2</th>\n      <td>263.157894</td>\n    </tr>\n    <tr>\n      <th>3</th>\n      <td>263.157894</td>\n    </tr>\n    <tr>\n      <th>4</th>\n      <td>263.157894</td>\n    </tr>\n    <tr>\n      <th>5</th>\n      <td>263.157894</td>\n    </tr>\n    <tr>\n      <th>6</th>\n      <td>263.157894</td>\n    </tr>\n    <tr>\n      <th>7</th>\n      <td>263.157893</td>\n    </tr>\n    <tr>\n      <th>8</th>\n      <td>263.157893</td>\n    </tr>\n    <tr>\n      <th>9</th>\n      <td>263.157893</td>\n    </tr>\n    <tr>\n      <th>10</th>\n      <td>263.157893</td>\n    </tr>\n    <tr>\n      <th>11</th>\n      <td>263.157893</td>\n    </tr>\n    <tr>\n      <th>12</th>\n      <td>263.157893</td>\n    </tr>\n    <tr>\n      <th>13</th>\n      <td>263.157893</td>\n    </tr>\n    <tr>\n      <th>14</th>\n      <td>263.157893</td>\n    </tr>\n    <tr>\n      <th>15</th>\n      <td>263.157894</td>\n    </tr>\n    <tr>\n      <th>16</th>\n      <td>263.157894</td>\n    </tr>\n    <tr>\n      <th>17</th>\n      <td>263.157895</td>\n    </tr>\n    <tr>\n      <th>18</th>\n      <td>263.157895</td>\n    </tr>\n    <tr>\n      <th>19</th>\n      <td>263.157895</td>\n    </tr>\n    <tr>\n      <th>20</th>\n      <td>263.157895</td>\n    </tr>\n    <tr>\n      <th>21</th>\n      <td>263.157895</td>\n    </tr>\n    <tr>\n      <th>22</th>\n      <td>263.157895</td>\n    </tr>\n    <tr>\n      <th>23</th>\n      <td>263.157895</td>\n    </tr>\n    <tr>\n      <th>24</th>\n      <td>263.157895</td>\n    </tr>\n  </tbody>\n</table>\n</div>"
     },
     "execution_count": 31,
     "metadata": {},
     "output_type": "execute_result"
    }
   ],
   "source": [
    "Ppeakred_df"
   ]
  },
  {
   "cell_type": "code",
   "execution_count": 32,
   "id": "d1c27359",
   "metadata": {
    "ExecuteTime": {
     "end_time": "2023-01-24T17:09:26.185348Z",
     "start_time": "2023-01-24T17:09:26.172348Z"
    },
    "pycharm": {
     "name": "#%%\n"
    }
   },
   "outputs": [],
   "source": [
    "Ppeakred2_df = ext_pyomo_vals(model.Ppeakred2)"
   ]
  },
  {
   "cell_type": "code",
   "execution_count": 33,
   "id": "1c9a83f7",
   "metadata": {
    "ExecuteTime": {
     "end_time": "2023-01-24T17:09:32.453604Z",
     "start_time": "2023-01-24T17:09:32.447604Z"
    },
    "pycharm": {
     "name": "#%%\n"
    }
   },
   "outputs": [
    {
     "data": {
      "text/plain": "               0\nNaN  6552.949895",
      "text/html": "<div>\n<style scoped>\n    .dataframe tbody tr th:only-of-type {\n        vertical-align: middle;\n    }\n\n    .dataframe tbody tr th {\n        vertical-align: top;\n    }\n\n    .dataframe thead th {\n        text-align: right;\n    }\n</style>\n<table border=\"1\" class=\"dataframe\">\n  <thead>\n    <tr style=\"text-align: right;\">\n      <th></th>\n      <th>0</th>\n    </tr>\n  </thead>\n  <tbody>\n    <tr>\n      <th>NaN</th>\n      <td>6552.949895</td>\n    </tr>\n  </tbody>\n</table>\n</div>"
     },
     "execution_count": 33,
     "metadata": {},
     "output_type": "execute_result"
    }
   ],
   "source": [
    "Ppeakred2_df"
   ]
  },
  {
   "cell_type": "markdown",
   "id": "5ca42570",
   "metadata": {
    "pycharm": {
     "name": "#%% md\n"
    }
   },
   "source": [
    "## Save results in csv files"
   ]
  },
  {
   "cell_type": "code",
   "execution_count": 34,
   "id": "970996cf",
   "metadata": {
    "ExecuteTime": {
     "end_time": "2023-01-24T17:22:55.906580Z",
     "start_time": "2023-01-24T17:22:55.570569Z"
    },
    "pycharm": {
     "name": "#%%\n"
    }
   },
   "outputs": [],
   "source": [
    "import os \n",
    "folder = 'results_PeakS_b_V2G_' + str(n_evs)\n",
    "\n",
    "if not os.path.exists(folder):\n",
    "    os.makedirs(folder)\n",
    "    \n",
    "EEV_df.to_csv(folder + '/EEV.csv')\n",
    "PEV_df.to_csv(folder + '/PEV.csv')\n",
    "PEVdc_df.to_csv(folder + '/PEVdc.csv')\n",
    "PEV_df.sum().to_csv(folder + '/PEV_h.csv')\n",
    "PEVdc_df.sum().to_csv(folder + '/PEVdc_h.csv')\n",
    "\n",
    "Etriprelax_df.to_csv(folder + '/Etriprelax.csv')\n",
    "Etriprelax_df.sum().to_csv(folder + '/Etriprelax_h.csv')\n",
    "\n",
    "Eminsocrelax_df.to_csv(folder + '/Eminsocrelax.csv')\n",
    "Eminsocrelax_df.sum().to_csv(folder + '/Eminsocrelax_h.csv')\n",
    "\n",
    "Etripn_df.to_csv(folder + '/Etripn.csv')\n",
    "Etripn_df.sum().to_csv(folder + '/Etripn_h.csv')\n",
    "\n",
    "Ppeakred_df.to_csv(folder + '/Ppeakread.csv')"
   ]
  },
  {
   "cell_type": "code",
   "execution_count": 34,
   "id": "84ab223b",
   "metadata": {
    "pycharm": {
     "name": "#%%\n"
    }
   },
   "outputs": [],
   "source": []
  }
 ],
 "metadata": {
  "kernelspec": {
   "display_name": "Python 3 (ipykernel)",
   "language": "python",
   "name": "python3"
  },
  "language_info": {
   "codemirror_mode": {
    "name": "ipython",
    "version": 3
   },
   "file_extension": ".py",
   "mimetype": "text/x-python",
   "name": "python",
   "nbconvert_exporter": "python",
   "pygments_lexer": "ipython3",
   "version": "3.10.9"
  },
  "toc": {
   "base_numbering": 1,
   "nav_menu": {},
   "number_sections": true,
   "sideBar": true,
   "skip_h1_title": false,
   "title_cell": "Table of Contents",
   "title_sidebar": "Contents",
   "toc_cell": false,
   "toc_position": {},
   "toc_section_display": true,
   "toc_window_display": false
  }
 },
 "nbformat": 4,
 "nbformat_minor": 5
}