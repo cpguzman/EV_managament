{
 "cells": [
  {
   "cell_type": "markdown",
   "id": "3d756ef7",
   "metadata": {
    "pycharm": {
     "name": "#%% md\n"
    }
   },
   "source": [
    "## Import packages"
   ]
  },
  {
   "cell_type": "code",
   "execution_count": 1,
   "id": "a0ea6387",
   "metadata": {
    "ExecuteTime": {
     "end_time": "2023-01-24T14:50:18.095602Z",
     "start_time": "2023-01-24T14:50:17.053583Z"
    },
    "pycharm": {
     "name": "#%%\n"
    }
   },
   "outputs": [],
   "source": [
    "import pyomo\n",
    "import pyomo.opt\n",
    "import pyomo.environ as pyo\n",
    "import numpy as np\n",
    "import pandas as pd\n",
    "import matplotlib as plt"
   ]
  },
  {
   "cell_type": "code",
   "execution_count": 2,
   "id": "bb6bdd8c",
   "metadata": {
    "ExecuteTime": {
     "end_time": "2023-01-24T14:50:18.100602Z",
     "start_time": "2023-01-24T14:50:18.095602Z"
    },
    "pycharm": {
     "name": "#%%\n"
    }
   },
   "outputs": [],
   "source": [
    "n_time = 24"
   ]
  },
  {
   "cell_type": "code",
   "execution_count": 3,
   "id": "4225ebc0",
   "metadata": {
    "ExecuteTime": {
     "end_time": "2023-01-24T14:50:18.114603Z",
     "start_time": "2023-01-24T14:50:18.100602Z"
    },
    "pycharm": {
     "name": "#%%\n"
    }
   },
   "outputs": [],
   "source": [
    "def _auxDictionary(a):\n",
    "    temp_dictionary = {}\n",
    "    if len(a.shape) == 3:\n",
    "        for dim0 in np.arange(a.shape[0]):\n",
    "            for dim1 in np.arange(a.shape[1]):\n",
    "                for dim2 in np.arange(a.shape[2]):\n",
    "                    temp_dictionary[(dim0+1, dim1+1, dim2+1)] = a[dim0, dim1, dim2]\n",
    "    elif len(a.shape) == 2:\n",
    "        for dim0 in np.arange(a.shape[0]):\n",
    "            for dim1 in np.arange(a.shape[1]):\n",
    "                temp_dictionary[(dim0+1, dim1+1)] = a[dim0, dim1]\n",
    "    else:\n",
    "        for dim0 in np.arange(a.shape[0]):\n",
    "            temp_dictionary[(dim0+1)] = a[dim0]\n",
    "    return temp_dictionary\n",
    "#temp_dict1 = _auxDictionary(loadLimit)"
   ]
  },
  {
   "cell_type": "markdown",
   "id": "ad5eb4ae",
   "metadata": {
    "pycharm": {
     "name": "#%% md\n"
    }
   },
   "source": [
    "## Start Time"
   ]
  },
  {
   "cell_type": "code",
   "execution_count": 4,
   "id": "5e4c14c5",
   "metadata": {
    "pycharm": {
     "name": "#%%\n"
    }
   },
   "outputs": [
    {
     "name": "stdout",
     "output_type": "stream",
     "text": [
      "Start Time = 23:30:43\n"
     ]
    }
   ],
   "source": [
    "from datetime import datetime\n",
    "\n",
    "now = datetime.now()\n",
    "\n",
    "start_time = now.strftime(\"%H:%M:%S\")\n",
    "print(\"Start Time =\", start_time)"
   ]
  },
  {
   "cell_type": "markdown",
   "id": "9df88d6e",
   "metadata": {
    "pycharm": {
     "name": "#%% md\n"
    }
   },
   "source": [
    "## Data"
   ]
  },
  {
   "cell_type": "code",
   "execution_count": 5,
   "id": "3b7f496d",
   "metadata": {
    "ExecuteTime": {
     "end_time": "2023-01-24T14:50:18.146605Z",
     "start_time": "2023-01-24T14:50:18.116603Z"
    },
    "pycharm": {
     "name": "#%%\n"
    }
   },
   "outputs": [],
   "source": [
    "data = {}\n",
    "data['Inputs'] = pd.read_csv('Inputs.csv')\n",
    "data['EVs_Inputs'] = pd.read_csv('EVs_Inputs.csv')\n",
    "data['alpha'] = pd.read_csv('alpha.csv')\n",
    "data['PchmaxEV'] = pd.read_csv('PchmaxEV.csv')\n",
    "data['S'] = pd.read_csv('S.csv')"
   ]
  },
  {
   "cell_type": "code",
   "execution_count": 6,
   "id": "ee8d4d1c",
   "metadata": {
    "ExecuteTime": {
     "end_time": "2023-01-24T14:50:18.151605Z",
     "start_time": "2023-01-24T14:50:18.147605Z"
    },
    "pycharm": {
     "name": "#%%\n"
    }
   },
   "outputs": [],
   "source": [
    "n_evs = data['EVs_Inputs']['Esoc'].size"
   ]
  },
  {
   "cell_type": "markdown",
   "id": "4f31d13a",
   "metadata": {
    "pycharm": {
     "name": "#%% md\n"
    }
   },
   "source": [
    "## Sets"
   ]
  },
  {
   "cell_type": "code",
   "execution_count": 7,
   "id": "1a2bb045",
   "metadata": {
    "ExecuteTime": {
     "end_time": "2023-01-24T14:50:18.163606Z",
     "start_time": "2023-01-24T14:50:18.153605Z"
    },
    "pycharm": {
     "name": "#%%\n"
    }
   },
   "outputs": [],
   "source": [
    "model = pyo.ConcreteModel()\n",
    "\n",
    "model.ev = pyo.Set(initialize = np.arange(1, n_evs + 1))\n",
    "model.t = pyo.Set(initialize = np.arange(1, n_time + 1))\n"
   ]
  },
  {
   "cell_type": "markdown",
   "id": "207187b2",
   "metadata": {
    "pycharm": {
     "name": "#%% md\n"
    }
   },
   "source": [
    "## Parameters"
   ]
  },
  {
   "cell_type": "code",
   "execution_count": 8,
   "id": "02257ad1",
   "metadata": {
    "ExecuteTime": {
     "end_time": "2023-01-24T14:50:19.580638Z",
     "start_time": "2023-01-24T14:50:18.164606Z"
    },
    "pycharm": {
     "name": "#%%\n"
    }
   },
   "outputs": [],
   "source": [
    "model.EEVmax = pyo.Param(model.ev, initialize =_auxDictionary(data['EVs_Inputs'].to_numpy()[:,2]))\n",
    "model.EEVmin = pyo.Param(model.ev, initialize =_auxDictionary(data['EVs_Inputs'].to_numpy()[:,1]))\n",
    "model.ESoc = pyo.Param(model.ev, initialize =_auxDictionary(data['EVs_Inputs'].to_numpy()[:,0]))\n",
    "model.dT = pyo.Param(model.t, initialize =_auxDictionary(data['Inputs'].to_numpy()[:,0]))\n",
    "model.cDA = pyo.Param(model.t, initialize =_auxDictionary(data['Inputs'].to_numpy()[:,1]))\n",
    "model.Pl = pyo.Param(model.t, initialize =_auxDictionary(data['Inputs'].to_numpy()[:,2]))\n",
    "model.Php = pyo.Param(model.t, initialize =_auxDictionary(data['Inputs'].to_numpy()[:,3]))\n",
    "model.PchmaxEV = pyo.Param(model.ev, model.t, initialize =_auxDictionary(data['PchmaxEV'].to_numpy()))\n",
    "model.S = pyo.Param(model.ev, model.t, initialize = _auxDictionary(data['S'].to_numpy()))\n",
    "model.alpha = pyo.Param(model.ev, model.t, initialize = _auxDictionary(data['alpha'].to_numpy()))\n",
    "model.RealHour = pyo.Param(model.t, initialize=_auxDictionary(data['Inputs'].to_numpy()[:,2]))\n",
    "model.penalty1 = 1000\n",
    "model.penalty2 = 1000\n",
    "model.penalty3 = 0.6\n",
    "model.Etrip = pyo.Param(model.ev, initialize=_auxDictionary(data['EVs_Inputs'].to_numpy()[:,3]))\n",
    "model.n = 0.95\n",
    "model.m = 0.6\n",
    "#model.Ppeak = 8000\n",
    "model.Ppeak = (pyo.Param(model.t, initialize =_auxDictionary((data['Inputs']* 1.017).to_numpy()[:,3]))) \n",
    "model.factor = 1"
   ]
  },
  {
   "cell_type": "markdown",
   "id": "31d76485",
   "metadata": {
    "pycharm": {
     "name": "#%% md\n"
    }
   },
   "source": [
    "## Variables"
   ]
  },
  {
   "cell_type": "code",
   "execution_count": 9,
   "id": "39e1730c",
   "metadata": {
    "ExecuteTime": {
     "end_time": "2023-01-24T14:50:19.852653Z",
     "start_time": "2023-01-24T14:50:19.580638Z"
    },
    "pycharm": {
     "name": "#%%\n"
    }
   },
   "outputs": [],
   "source": [
    "model.PEV = pyo.Var(model.ev, model.t, domain = pyo.NonNegativeReals, initialize = 0)\n",
    "model.EEV = pyo.Var(model.ev, model.t, domain = pyo.Reals, initialize = 0)\n",
    "model.Etriprelax = pyo.Var(model.ev, model.t, domain = pyo.NonNegativeReals, initialize = 0)\n",
    "model.Eminsocrelax = pyo.Var(model.ev, model.t, domain = pyo.NonNegativeReals, initialize = 0)\n",
    "model.Etripn = pyo.Var(model.ev, model.t, domain = pyo.Reals, initialize = 0)\n",
    "model.Ppeakred = pyo.Var(model.t, domain = pyo.NonNegativeReals, initialize = 0)\n",
    "model.Ppeakred2 = pyo.Var(domain = pyo.Reals, initialize = 0)"
   ]
  },
  {
   "cell_type": "markdown",
   "id": "551f45c9",
   "metadata": {
    "pycharm": {
     "name": "#%% md\n"
    }
   },
   "source": [
    "## Constraints"
   ]
  },
  {
   "cell_type": "code",
   "execution_count": 10,
   "id": "f2f8811e",
   "metadata": {
    "ExecuteTime": {
     "end_time": "2023-01-24T14:50:25.225878Z",
     "start_time": "2023-01-24T14:50:19.854653Z"
    },
    "pycharm": {
     "name": "#%%\n"
    }
   },
   "outputs": [],
   "source": [
    "def _balance_etripn(m,ev,t): \n",
    "    return m.Etripn[ev,t] == m.Etrip[ev]*m.S[ev,t]/(sum([m.S[ev,k] for k in np.arange(1, n_time + 1)]))\n",
    "model.balance_etripn = pyo.Constraint(model.ev, model.t, rule = _balance_etripn)\n",
    "\n",
    "def _balance_energy_EVS3(m,ev,t): \n",
    "    if t == 24:\n",
    "        return m.EEV[ev,t] + m.Etriprelax[ev,t] >= m.EEVmax[ev]*m.m\n",
    "    return pyo.Constraint.Skip\n",
    "model.balance_energy_EVS3 = pyo.Constraint(model.ev, model.t, rule = _balance_energy_EVS3)\n",
    "\n",
    "def _balance_energy_EVS(m,ev,t): \n",
    "    if t == 1:\n",
    "        return m.EEV[ev,t] - m.Etriprelax[ev,t] == m.ESoc[ev] + m.PEV[ev,t]*m.dT[t]*m.n - m.Etripn[ev,t]\n",
    "    return pyo.Constraint.Skip\n",
    "model.balance_energy_EVS = pyo.Constraint(model.ev, model.t, rule = _balance_energy_EVS)\n",
    "\n",
    "def _balance_energy_EVS2(m,ev,t): \n",
    "    if t > 1:\n",
    "        return m.EEV[ev,t] - m.Etriprelax[ev,t] == m.EEV[ev,t-1] + m.PEV[ev,t]*m.dT[t]*m.n - m.Etripn[ev,t]\n",
    "    return pyo.Constraint.Skip\n",
    "model.balance_energy_EVS2 = pyo.Constraint(model.ev, model.t, rule = _balance_energy_EVS2)\n",
    "\n",
    "def _power_charging_limit1(m,ev,t): \n",
    "    return m.PEV[ev,t] >= 0\n",
    "model.power_charging_limit1 = pyo.Constraint(model.ev, model.t, rule = _power_charging_limit1)\n",
    "\n",
    "def _power_charging_limit2(m,ev,t): \n",
    "    return m.PEV[ev,t] <= m.alpha[ev,t]*m.PchmaxEV[ev,t]*m.factor\n",
    "model.power_charging_limit2 = pyo.Constraint(model.ev, model.t, rule = _power_charging_limit2)\n",
    "\n",
    "def _energy_limits_EVS_1(m,ev,t): \n",
    "    return m.EEVmin[ev] <= m.EEV[ev,t] + m.Eminsocrelax[ev,t]\n",
    "    #return m.EEVmin[ev] <= m.EEV[ev,t]\n",
    "model.energy_limits_EVS_1 = pyo.Constraint(model.ev, model.t, rule = _energy_limits_EVS_1)\n",
    "\n",
    "def _energy_limits_EVS_2(m,ev,t): \n",
    "    return m.EEV[ev,t] <= m.EEVmax[ev]\n",
    "model.energy_limits_EVS_2 = pyo.Constraint(model.ev, model.t, rule = _energy_limits_EVS_2)\n",
    "\n",
    "def _energy_EVs_trips(m,t): \n",
    "    return m.Ppeakred2 >= m.Pl[t] + sum(m.PEV[ev,t] for ev in np.arange(1, n_evs + 1))\n",
    "model.energy_EVs_trips = pyo.Constraint(model.t, rule = _energy_EVs_trips)"
   ]
  },
  {
   "cell_type": "markdown",
   "id": "9cade5b0",
   "metadata": {
    "pycharm": {
     "name": "#%% md\n"
    }
   },
   "source": [
    "## Objective function"
   ]
  },
  {
   "cell_type": "code",
   "execution_count": 11,
   "id": "60be73c8",
   "metadata": {
    "ExecuteTime": {
     "end_time": "2023-01-24T14:50:25.596898Z",
     "start_time": "2023-01-24T14:50:25.227878Z"
    },
    "pycharm": {
     "name": "#%%\n"
    }
   },
   "outputs": [],
   "source": [
    "def _FOag(m):\n",
    "    return m.Ppeakred2 + sum([m.Etriprelax[ev,t]*m.penalty1 + m.Eminsocrelax[ev,t]*m.penalty2 for ev in np.arange(1, n_evs + 1) for t in np.arange(1, n_time + 1)])\n",
    "\n",
    "model.FOag = pyo.Objective(rule = _FOag, sense = pyo.minimize)"
   ]
  },
  {
   "cell_type": "markdown",
   "id": "e60c041a",
   "metadata": {
    "pycharm": {
     "name": "#%% md\n"
    }
   },
   "source": [
    "## Solve the model"
   ]
  },
  {
   "cell_type": "code",
   "execution_count": 12,
   "id": "a1b18211",
   "metadata": {
    "ExecuteTime": {
     "end_time": "2023-01-24T14:50:48.647862Z",
     "start_time": "2023-01-24T14:50:25.598898Z"
    },
    "pycharm": {
     "name": "#%%\n"
    }
   },
   "outputs": [
    {
     "name": "stdout",
     "output_type": "stream",
     "text": [
      "# ==========================================================\n",
      "# = Solver Results                                         =\n",
      "# ==========================================================\n",
      "# ----------------------------------------------------------\n",
      "#   Problem Information\n",
      "# ----------------------------------------------------------\n",
      "Problem: \n",
      "- Name: tmp2ehb9vnb\n",
      "  Lower bound: 614099749.0410936\n",
      "  Upper bound: 614099749.0410936\n",
      "  Number of objectives: 1\n",
      "  Number of constraints: 435025\n",
      "  Number of variables: 360002\n",
      "  Number of nonzeros: 867025\n",
      "  Sense: minimize\n",
      "# ----------------------------------------------------------\n",
      "#   Solver Information\n",
      "# ----------------------------------------------------------\n",
      "Solver: \n",
      "- Status: ok\n",
      "  User time: 2.45\n",
      "  Termination condition: optimal\n",
      "  Termination message: Dual simplex - Optimal\\x3a Objective = 6.1409974904e+08\n",
      "  Error rc: 0\n",
      "  Time: 4.38883113861084\n",
      "# ----------------------------------------------------------\n",
      "#   Solution Information\n",
      "# ----------------------------------------------------------\n",
      "Solution: \n",
      "- number of solutions: 0\n",
      "  number of solutions displayed: 0\n"
     ]
    }
   ],
   "source": [
    "from pyomo.opt import SolverFactory\n",
    "\n",
    "model.write('res_V4_EC.lp',  io_options={'symbolic_solver_labels': True})\n",
    "\n",
    "# Create a solver\n",
    "#opt = pyo.SolverFactory('cbc', executable='C:/Program Files/Cbc-releases.2.10.8-x86_64-w64-mingw64/bin/cbc.exe')\n",
    "\n",
    "opt = pyo.SolverFactory('cplex', executable='C:/Program Files/IBM/ILOG/CPLEX_Studio129/cplex/bin/x64_win64/cplex.exe')\n",
    "opt.options['LogFile'] = 'res_V4_EC.log'\n",
    "\n",
    "#opt = pyo.SolverFactory('ipopt', executable='C:/Program Files/Ipopt-3.11.1-win64-intel13.1/bin/ipopt.exe')\n",
    "#opt.options['print_level'] = 12\n",
    "#opt.options['output_file'] = \"res_V5_EC.log\"\n",
    "\n",
    "results = opt.solve(model)#, tee=True)\n",
    "results.write()"
   ]
  },
  {
   "cell_type": "markdown",
   "id": "861706d7",
   "metadata": {
    "pycharm": {
     "name": "#%% md\n"
    }
   },
   "source": [
    "## Objective Function Value"
   ]
  },
  {
   "cell_type": "code",
   "execution_count": 13,
   "id": "98b54a67",
   "metadata": {
    "ExecuteTime": {
     "end_time": "2023-01-24T14:50:48.870875Z",
     "start_time": "2023-01-24T14:50:48.651863Z"
    },
    "pycharm": {
     "name": "#%%\n"
    }
   },
   "outputs": [
    {
     "data": {
      "text/plain": [
       "614099749.0410903"
      ]
     },
     "execution_count": 13,
     "metadata": {},
     "output_type": "execute_result"
    }
   ],
   "source": [
    "pyo.value(model.FOag)"
   ]
  },
  {
   "cell_type": "markdown",
   "id": "2f77e6c2",
   "metadata": {
    "pycharm": {
     "name": "#%% md\n"
    }
   },
   "source": [
    "## End Time"
   ]
  },
  {
   "cell_type": "code",
   "execution_count": 14,
   "id": "760b53e1",
   "metadata": {
    "pycharm": {
     "name": "#%%\n"
    }
   },
   "outputs": [
    {
     "name": "stdout",
     "output_type": "stream",
     "text": [
      "End Time = 23:32:12\n",
      "Dif: 0:01:29\n"
     ]
    }
   ],
   "source": [
    "now = datetime.now()\n",
    "\n",
    "end_time = now.strftime(\"%H:%M:%S\")\n",
    "print(\"End Time =\", end_time)\n",
    "print(\"Dif: {}\".format(datetime.strptime(end_time, \"%H:%M:%S\") - datetime.strptime(start_time, \"%H:%M:%S\")))"
   ]
  },
  {
   "cell_type": "markdown",
   "id": "160e04bc",
   "metadata": {
    "pycharm": {
     "name": "#%% md\n"
    }
   },
   "source": [
    "## Cost Value"
   ]
  },
  {
   "cell_type": "code",
   "execution_count": 15,
   "id": "69c0a3ed",
   "metadata": {
    "ExecuteTime": {
     "end_time": "2023-01-24T14:50:48.877875Z",
     "start_time": "2023-01-24T14:50:48.872875Z"
    },
    "pycharm": {
     "name": "#%%\n"
    }
   },
   "outputs": [],
   "source": [
    "def ext_pyomo_vals(vals):\n",
    "    # make a pd.Series from each\n",
    "    s = pd.Series(vals.extract_values(),\n",
    "                  index=vals.extract_values().keys())\n",
    "    # if the series is multi-indexed we need to unstack it...\n",
    "    if type(s.index[0]) == tuple:    # it is multi-indexed\n",
    "        s = s.unstack(level=1)\n",
    "    else:\n",
    "        # force transition from Series -> df\n",
    "        s = pd.DataFrame(s)\n",
    "    return s"
   ]
  },
  {
   "cell_type": "code",
   "execution_count": 16,
   "id": "b38b7cbc",
   "metadata": {
    "ExecuteTime": {
     "end_time": "2023-01-24T14:50:50.690952Z",
     "start_time": "2023-01-24T14:50:48.879876Z"
    },
    "pycharm": {
     "name": "#%%\n"
    }
   },
   "outputs": [
    {
     "name": "stdout",
     "output_type": "stream",
     "text": [
      "Charge cost: 3839228.0021392885\n"
     ]
    }
   ],
   "source": [
    "PEV_df = ext_pyomo_vals(model.PEV)\n",
    "dT_df = ext_pyomo_vals(model.dT)\n",
    "cDA_df = ext_pyomo_vals(model.cDA)\n",
    "EEV_df = ext_pyomo_vals(model.EEV)\n",
    "\n",
    "charge_cost = sum([PEV_df[t][ev]*dT_df[0][t]*cDA_df[0][t]\n",
    "                   for ev in np.arange(1, n_evs + 1) for t in np.arange(1, n_time + 1)])\n",
    "\n",
    "\n",
    "print('Charge cost: {}'.format(charge_cost))"
   ]
  },
  {
   "cell_type": "markdown",
   "id": "234cb53c",
   "metadata": {
    "pycharm": {
     "name": "#%% md\n"
    }
   },
   "source": [
    "## Results"
   ]
  },
  {
   "cell_type": "code",
   "execution_count": 17,
   "id": "3f62d60e",
   "metadata": {
    "ExecuteTime": {
     "end_time": "2023-01-24T14:50:50.698952Z",
     "start_time": "2023-01-24T14:50:50.692952Z"
    },
    "pycharm": {
     "name": "#%%\n"
    }
   },
   "outputs": [
    {
     "name": "stdout",
     "output_type": "stream",
     "text": [
      "Total Charge: 22025353.725536697\n"
     ]
    }
   ],
   "source": [
    "print(\"Total Charge: {}\".format(np.sum(PEV_df.to_numpy())))"
   ]
  },
  {
   "cell_type": "code",
   "execution_count": 18,
   "id": "f9b10466",
   "metadata": {
    "ExecuteTime": {
     "end_time": "2023-01-24T14:50:50.743954Z",
     "start_time": "2023-01-24T14:50:50.700952Z"
    },
    "pycharm": {
     "name": "#%%\n"
    }
   },
   "outputs": [
    {
     "data": {
      "text/html": [
       "<div>\n",
       "<style scoped>\n",
       "    .dataframe tbody tr th:only-of-type {\n",
       "        vertical-align: middle;\n",
       "    }\n",
       "\n",
       "    .dataframe tbody tr th {\n",
       "        vertical-align: top;\n",
       "    }\n",
       "\n",
       "    .dataframe thead th {\n",
       "        text-align: right;\n",
       "    }\n",
       "</style>\n",
       "<table border=\"1\" class=\"dataframe\">\n",
       "  <thead>\n",
       "    <tr style=\"text-align: right;\">\n",
       "      <th></th>\n",
       "      <th>1</th>\n",
       "      <th>2</th>\n",
       "      <th>3</th>\n",
       "      <th>4</th>\n",
       "      <th>5</th>\n",
       "      <th>6</th>\n",
       "      <th>7</th>\n",
       "      <th>8</th>\n",
       "      <th>9</th>\n",
       "      <th>10</th>\n",
       "      <th>...</th>\n",
       "      <th>15</th>\n",
       "      <th>16</th>\n",
       "      <th>17</th>\n",
       "      <th>18</th>\n",
       "      <th>19</th>\n",
       "      <th>20</th>\n",
       "      <th>21</th>\n",
       "      <th>22</th>\n",
       "      <th>23</th>\n",
       "      <th>24</th>\n",
       "    </tr>\n",
       "  </thead>\n",
       "  <tbody>\n",
       "    <tr>\n",
       "      <th>1</th>\n",
       "      <td>42386.148255</td>\n",
       "      <td>42386.148255</td>\n",
       "      <td>42386.148255</td>\n",
       "      <td>45806.148255</td>\n",
       "      <td>45806.148255</td>\n",
       "      <td>45806.148255</td>\n",
       "      <td>45806.148255</td>\n",
       "      <td>46001.555235</td>\n",
       "      <td>49421.555235</td>\n",
       "      <td>50227.703490</td>\n",
       "      <td>...</td>\n",
       "      <td>47613.851745</td>\n",
       "      <td>47613.851745</td>\n",
       "      <td>47613.851745</td>\n",
       "      <td>47613.851745</td>\n",
       "      <td>47613.851745</td>\n",
       "      <td>47613.851745</td>\n",
       "      <td>47613.851745</td>\n",
       "      <td>47613.851745</td>\n",
       "      <td>47613.851745</td>\n",
       "      <td>45000.0</td>\n",
       "    </tr>\n",
       "    <tr>\n",
       "      <th>2</th>\n",
       "      <td>9960.000000</td>\n",
       "      <td>9960.000000</td>\n",
       "      <td>9960.000000</td>\n",
       "      <td>9960.000000</td>\n",
       "      <td>9960.000000</td>\n",
       "      <td>9960.000000</td>\n",
       "      <td>9960.000000</td>\n",
       "      <td>9960.000000</td>\n",
       "      <td>9960.000000</td>\n",
       "      <td>9960.000000</td>\n",
       "      <td>...</td>\n",
       "      <td>10611.876240</td>\n",
       "      <td>10611.876240</td>\n",
       "      <td>10611.876240</td>\n",
       "      <td>10611.876240</td>\n",
       "      <td>10611.876240</td>\n",
       "      <td>10611.876240</td>\n",
       "      <td>10611.876240</td>\n",
       "      <td>10611.876240</td>\n",
       "      <td>10611.876240</td>\n",
       "      <td>9960.0</td>\n",
       "    </tr>\n",
       "    <tr>\n",
       "      <th>3</th>\n",
       "      <td>40200.000000</td>\n",
       "      <td>40200.000000</td>\n",
       "      <td>40200.000000</td>\n",
       "      <td>43995.300800</td>\n",
       "      <td>43995.300800</td>\n",
       "      <td>43995.300800</td>\n",
       "      <td>43995.300800</td>\n",
       "      <td>50835.300800</td>\n",
       "      <td>50835.300800</td>\n",
       "      <td>47290.200533</td>\n",
       "      <td>...</td>\n",
       "      <td>43745.100267</td>\n",
       "      <td>43745.100267</td>\n",
       "      <td>43745.100267</td>\n",
       "      <td>43745.100267</td>\n",
       "      <td>43745.100267</td>\n",
       "      <td>43745.100267</td>\n",
       "      <td>43745.100267</td>\n",
       "      <td>43745.100267</td>\n",
       "      <td>43745.100267</td>\n",
       "      <td>40200.0</td>\n",
       "    </tr>\n",
       "    <tr>\n",
       "      <th>4</th>\n",
       "      <td>45000.000000</td>\n",
       "      <td>45000.000000</td>\n",
       "      <td>45000.000000</td>\n",
       "      <td>45000.000000</td>\n",
       "      <td>45000.000000</td>\n",
       "      <td>45000.000000</td>\n",
       "      <td>45000.000000</td>\n",
       "      <td>45000.000000</td>\n",
       "      <td>45000.000000</td>\n",
       "      <td>45000.000000</td>\n",
       "      <td>...</td>\n",
       "      <td>42852.739320</td>\n",
       "      <td>47147.260680</td>\n",
       "      <td>47147.260680</td>\n",
       "      <td>47147.260680</td>\n",
       "      <td>47147.260680</td>\n",
       "      <td>47147.260680</td>\n",
       "      <td>47147.260680</td>\n",
       "      <td>47147.260680</td>\n",
       "      <td>47147.260680</td>\n",
       "      <td>45000.0</td>\n",
       "    </tr>\n",
       "    <tr>\n",
       "      <th>5</th>\n",
       "      <td>46200.000000</td>\n",
       "      <td>46200.000000</td>\n",
       "      <td>46200.000000</td>\n",
       "      <td>46200.000000</td>\n",
       "      <td>46200.000000</td>\n",
       "      <td>46200.000000</td>\n",
       "      <td>46200.000000</td>\n",
       "      <td>46200.000000</td>\n",
       "      <td>46200.000000</td>\n",
       "      <td>46200.000000</td>\n",
       "      <td>...</td>\n",
       "      <td>46460.422920</td>\n",
       "      <td>46460.422920</td>\n",
       "      <td>46460.422920</td>\n",
       "      <td>46460.422920</td>\n",
       "      <td>46460.422920</td>\n",
       "      <td>46460.422920</td>\n",
       "      <td>46460.422920</td>\n",
       "      <td>46460.422920</td>\n",
       "      <td>46460.422920</td>\n",
       "      <td>46200.0</td>\n",
       "    </tr>\n",
       "    <tr>\n",
       "      <th>...</th>\n",
       "      <td>...</td>\n",
       "      <td>...</td>\n",
       "      <td>...</td>\n",
       "      <td>...</td>\n",
       "      <td>...</td>\n",
       "      <td>...</td>\n",
       "      <td>...</td>\n",
       "      <td>...</td>\n",
       "      <td>...</td>\n",
       "      <td>...</td>\n",
       "      <td>...</td>\n",
       "      <td>...</td>\n",
       "      <td>...</td>\n",
       "      <td>...</td>\n",
       "      <td>...</td>\n",
       "      <td>...</td>\n",
       "      <td>...</td>\n",
       "      <td>...</td>\n",
       "      <td>...</td>\n",
       "      <td>...</td>\n",
       "      <td>...</td>\n",
       "    </tr>\n",
       "    <tr>\n",
       "      <th>2996</th>\n",
       "      <td>45000.000000</td>\n",
       "      <td>45000.000000</td>\n",
       "      <td>45000.000000</td>\n",
       "      <td>45000.000000</td>\n",
       "      <td>45000.000000</td>\n",
       "      <td>45000.000000</td>\n",
       "      <td>45000.000000</td>\n",
       "      <td>45000.000000</td>\n",
       "      <td>45000.000000</td>\n",
       "      <td>45000.000000</td>\n",
       "      <td>...</td>\n",
       "      <td>42223.793400</td>\n",
       "      <td>42223.793400</td>\n",
       "      <td>42223.793400</td>\n",
       "      <td>42223.793400</td>\n",
       "      <td>47776.206600</td>\n",
       "      <td>47776.206600</td>\n",
       "      <td>47776.206600</td>\n",
       "      <td>47776.206600</td>\n",
       "      <td>47776.206600</td>\n",
       "      <td>45000.0</td>\n",
       "    </tr>\n",
       "    <tr>\n",
       "      <th>2997</th>\n",
       "      <td>43631.005300</td>\n",
       "      <td>43631.005300</td>\n",
       "      <td>43631.005300</td>\n",
       "      <td>43631.005300</td>\n",
       "      <td>43631.005300</td>\n",
       "      <td>43631.005300</td>\n",
       "      <td>43631.005300</td>\n",
       "      <td>43631.005300</td>\n",
       "      <td>43631.005300</td>\n",
       "      <td>43631.005300</td>\n",
       "      <td>...</td>\n",
       "      <td>42262.010600</td>\n",
       "      <td>42262.010600</td>\n",
       "      <td>42262.010600</td>\n",
       "      <td>42262.010600</td>\n",
       "      <td>42262.010600</td>\n",
       "      <td>45000.000000</td>\n",
       "      <td>45000.000000</td>\n",
       "      <td>45000.000000</td>\n",
       "      <td>45000.000000</td>\n",
       "      <td>45000.0</td>\n",
       "    </tr>\n",
       "    <tr>\n",
       "      <th>2998</th>\n",
       "      <td>42000.000000</td>\n",
       "      <td>42000.000000</td>\n",
       "      <td>42000.000000</td>\n",
       "      <td>42000.000000</td>\n",
       "      <td>42000.000000</td>\n",
       "      <td>42000.000000</td>\n",
       "      <td>42000.000000</td>\n",
       "      <td>42000.000000</td>\n",
       "      <td>48840.000000</td>\n",
       "      <td>55680.000000</td>\n",
       "      <td>...</td>\n",
       "      <td>55482.092229</td>\n",
       "      <td>52785.673783</td>\n",
       "      <td>52785.673783</td>\n",
       "      <td>50089.255337</td>\n",
       "      <td>50089.255337</td>\n",
       "      <td>50089.255337</td>\n",
       "      <td>47392.836891</td>\n",
       "      <td>44696.418446</td>\n",
       "      <td>42000.000000</td>\n",
       "      <td>42000.0</td>\n",
       "    </tr>\n",
       "    <tr>\n",
       "      <th>2999</th>\n",
       "      <td>46132.594020</td>\n",
       "      <td>46132.594020</td>\n",
       "      <td>46132.594020</td>\n",
       "      <td>46132.594020</td>\n",
       "      <td>46132.594020</td>\n",
       "      <td>46132.594020</td>\n",
       "      <td>46132.594020</td>\n",
       "      <td>46132.594020</td>\n",
       "      <td>46132.594020</td>\n",
       "      <td>46132.594020</td>\n",
       "      <td>...</td>\n",
       "      <td>45000.000000</td>\n",
       "      <td>45000.000000</td>\n",
       "      <td>45000.000000</td>\n",
       "      <td>45000.000000</td>\n",
       "      <td>45000.000000</td>\n",
       "      <td>45000.000000</td>\n",
       "      <td>45000.000000</td>\n",
       "      <td>45000.000000</td>\n",
       "      <td>45000.000000</td>\n",
       "      <td>45000.0</td>\n",
       "    </tr>\n",
       "    <tr>\n",
       "      <th>3000</th>\n",
       "      <td>8640.000000</td>\n",
       "      <td>8640.000000</td>\n",
       "      <td>8640.000000</td>\n",
       "      <td>8640.000000</td>\n",
       "      <td>8640.000000</td>\n",
       "      <td>8640.000000</td>\n",
       "      <td>8640.000000</td>\n",
       "      <td>8640.000000</td>\n",
       "      <td>8685.041700</td>\n",
       "      <td>8685.041700</td>\n",
       "      <td>...</td>\n",
       "      <td>8662.520850</td>\n",
       "      <td>8662.520850</td>\n",
       "      <td>8662.520850</td>\n",
       "      <td>8662.520850</td>\n",
       "      <td>8662.520850</td>\n",
       "      <td>8662.520850</td>\n",
       "      <td>8662.520850</td>\n",
       "      <td>8662.520850</td>\n",
       "      <td>8662.520850</td>\n",
       "      <td>8640.0</td>\n",
       "    </tr>\n",
       "  </tbody>\n",
       "</table>\n",
       "<p>3000 rows × 24 columns</p>\n",
       "</div>"
      ],
      "text/plain": [
       "                1             2             3             4             5   \\\n",
       "1     42386.148255  42386.148255  42386.148255  45806.148255  45806.148255   \n",
       "2      9960.000000   9960.000000   9960.000000   9960.000000   9960.000000   \n",
       "3     40200.000000  40200.000000  40200.000000  43995.300800  43995.300800   \n",
       "4     45000.000000  45000.000000  45000.000000  45000.000000  45000.000000   \n",
       "5     46200.000000  46200.000000  46200.000000  46200.000000  46200.000000   \n",
       "...            ...           ...           ...           ...           ...   \n",
       "2996  45000.000000  45000.000000  45000.000000  45000.000000  45000.000000   \n",
       "2997  43631.005300  43631.005300  43631.005300  43631.005300  43631.005300   \n",
       "2998  42000.000000  42000.000000  42000.000000  42000.000000  42000.000000   \n",
       "2999  46132.594020  46132.594020  46132.594020  46132.594020  46132.594020   \n",
       "3000   8640.000000   8640.000000   8640.000000   8640.000000   8640.000000   \n",
       "\n",
       "                6             7             8             9             10  \\\n",
       "1     45806.148255  45806.148255  46001.555235  49421.555235  50227.703490   \n",
       "2      9960.000000   9960.000000   9960.000000   9960.000000   9960.000000   \n",
       "3     43995.300800  43995.300800  50835.300800  50835.300800  47290.200533   \n",
       "4     45000.000000  45000.000000  45000.000000  45000.000000  45000.000000   \n",
       "5     46200.000000  46200.000000  46200.000000  46200.000000  46200.000000   \n",
       "...            ...           ...           ...           ...           ...   \n",
       "2996  45000.000000  45000.000000  45000.000000  45000.000000  45000.000000   \n",
       "2997  43631.005300  43631.005300  43631.005300  43631.005300  43631.005300   \n",
       "2998  42000.000000  42000.000000  42000.000000  48840.000000  55680.000000   \n",
       "2999  46132.594020  46132.594020  46132.594020  46132.594020  46132.594020   \n",
       "3000   8640.000000   8640.000000   8640.000000   8685.041700   8685.041700   \n",
       "\n",
       "      ...            15            16            17            18  \\\n",
       "1     ...  47613.851745  47613.851745  47613.851745  47613.851745   \n",
       "2     ...  10611.876240  10611.876240  10611.876240  10611.876240   \n",
       "3     ...  43745.100267  43745.100267  43745.100267  43745.100267   \n",
       "4     ...  42852.739320  47147.260680  47147.260680  47147.260680   \n",
       "5     ...  46460.422920  46460.422920  46460.422920  46460.422920   \n",
       "...   ...           ...           ...           ...           ...   \n",
       "2996  ...  42223.793400  42223.793400  42223.793400  42223.793400   \n",
       "2997  ...  42262.010600  42262.010600  42262.010600  42262.010600   \n",
       "2998  ...  55482.092229  52785.673783  52785.673783  50089.255337   \n",
       "2999  ...  45000.000000  45000.000000  45000.000000  45000.000000   \n",
       "3000  ...   8662.520850   8662.520850   8662.520850   8662.520850   \n",
       "\n",
       "                19            20            21            22            23  \\\n",
       "1     47613.851745  47613.851745  47613.851745  47613.851745  47613.851745   \n",
       "2     10611.876240  10611.876240  10611.876240  10611.876240  10611.876240   \n",
       "3     43745.100267  43745.100267  43745.100267  43745.100267  43745.100267   \n",
       "4     47147.260680  47147.260680  47147.260680  47147.260680  47147.260680   \n",
       "5     46460.422920  46460.422920  46460.422920  46460.422920  46460.422920   \n",
       "...            ...           ...           ...           ...           ...   \n",
       "2996  47776.206600  47776.206600  47776.206600  47776.206600  47776.206600   \n",
       "2997  42262.010600  45000.000000  45000.000000  45000.000000  45000.000000   \n",
       "2998  50089.255337  50089.255337  47392.836891  44696.418446  42000.000000   \n",
       "2999  45000.000000  45000.000000  45000.000000  45000.000000  45000.000000   \n",
       "3000   8662.520850   8662.520850   8662.520850   8662.520850   8662.520850   \n",
       "\n",
       "           24  \n",
       "1     45000.0  \n",
       "2      9960.0  \n",
       "3     40200.0  \n",
       "4     45000.0  \n",
       "5     46200.0  \n",
       "...       ...  \n",
       "2996  45000.0  \n",
       "2997  45000.0  \n",
       "2998  42000.0  \n",
       "2999  45000.0  \n",
       "3000   8640.0  \n",
       "\n",
       "[3000 rows x 24 columns]"
      ]
     },
     "execution_count": 18,
     "metadata": {},
     "output_type": "execute_result"
    }
   ],
   "source": [
    "EEV_df"
   ]
  },
  {
   "cell_type": "code",
   "execution_count": 19,
   "id": "6a7b4bb8",
   "metadata": {
    "ExecuteTime": {
     "end_time": "2023-01-24T14:50:50.783957Z",
     "start_time": "2023-01-24T14:50:50.745954Z"
    },
    "pycharm": {
     "name": "#%%\n"
    }
   },
   "outputs": [
    {
     "data": {
      "text/html": [
       "<div>\n",
       "<style scoped>\n",
       "    .dataframe tbody tr th:only-of-type {\n",
       "        vertical-align: middle;\n",
       "    }\n",
       "\n",
       "    .dataframe tbody tr th {\n",
       "        vertical-align: top;\n",
       "    }\n",
       "\n",
       "    .dataframe thead th {\n",
       "        text-align: right;\n",
       "    }\n",
       "</style>\n",
       "<table border=\"1\" class=\"dataframe\">\n",
       "  <thead>\n",
       "    <tr style=\"text-align: right;\">\n",
       "      <th></th>\n",
       "      <th>1</th>\n",
       "      <th>2</th>\n",
       "      <th>3</th>\n",
       "      <th>4</th>\n",
       "      <th>5</th>\n",
       "      <th>6</th>\n",
       "      <th>7</th>\n",
       "      <th>8</th>\n",
       "      <th>9</th>\n",
       "      <th>10</th>\n",
       "      <th>...</th>\n",
       "      <th>15</th>\n",
       "      <th>16</th>\n",
       "      <th>17</th>\n",
       "      <th>18</th>\n",
       "      <th>19</th>\n",
       "      <th>20</th>\n",
       "      <th>21</th>\n",
       "      <th>22</th>\n",
       "      <th>23</th>\n",
       "      <th>24</th>\n",
       "    </tr>\n",
       "  </thead>\n",
       "  <tbody>\n",
       "    <tr>\n",
       "      <th>1</th>\n",
       "      <td>0.000000</td>\n",
       "      <td>0.0</td>\n",
       "      <td>0.0</td>\n",
       "      <td>3600.000000</td>\n",
       "      <td>0.0</td>\n",
       "      <td>0.0</td>\n",
       "      <td>0.0</td>\n",
       "      <td>205.691558</td>\n",
       "      <td>3600.000000</td>\n",
       "      <td>3600.0</td>\n",
       "      <td>...</td>\n",
       "      <td>0.0</td>\n",
       "      <td>0.0000</td>\n",
       "      <td>0.0</td>\n",
       "      <td>0.0</td>\n",
       "      <td>0.000000</td>\n",
       "      <td>0.000000</td>\n",
       "      <td>0.0</td>\n",
       "      <td>0.0</td>\n",
       "      <td>0.0</td>\n",
       "      <td>0.0</td>\n",
       "    </tr>\n",
       "    <tr>\n",
       "      <th>2</th>\n",
       "      <td>0.000000</td>\n",
       "      <td>0.0</td>\n",
       "      <td>0.0</td>\n",
       "      <td>0.000000</td>\n",
       "      <td>0.0</td>\n",
       "      <td>0.0</td>\n",
       "      <td>0.0</td>\n",
       "      <td>0.000000</td>\n",
       "      <td>0.000000</td>\n",
       "      <td>0.0</td>\n",
       "      <td>...</td>\n",
       "      <td>0.0</td>\n",
       "      <td>0.0000</td>\n",
       "      <td>0.0</td>\n",
       "      <td>0.0</td>\n",
       "      <td>0.000000</td>\n",
       "      <td>0.000000</td>\n",
       "      <td>0.0</td>\n",
       "      <td>0.0</td>\n",
       "      <td>0.0</td>\n",
       "      <td>0.0</td>\n",
       "    </tr>\n",
       "    <tr>\n",
       "      <th>3</th>\n",
       "      <td>0.000000</td>\n",
       "      <td>0.0</td>\n",
       "      <td>0.0</td>\n",
       "      <td>3995.053474</td>\n",
       "      <td>0.0</td>\n",
       "      <td>0.0</td>\n",
       "      <td>0.0</td>\n",
       "      <td>7200.000000</td>\n",
       "      <td>0.000000</td>\n",
       "      <td>0.0</td>\n",
       "      <td>...</td>\n",
       "      <td>0.0</td>\n",
       "      <td>0.0000</td>\n",
       "      <td>0.0</td>\n",
       "      <td>0.0</td>\n",
       "      <td>0.000000</td>\n",
       "      <td>0.000000</td>\n",
       "      <td>0.0</td>\n",
       "      <td>0.0</td>\n",
       "      <td>0.0</td>\n",
       "      <td>0.0</td>\n",
       "    </tr>\n",
       "    <tr>\n",
       "      <th>4</th>\n",
       "      <td>0.000000</td>\n",
       "      <td>0.0</td>\n",
       "      <td>0.0</td>\n",
       "      <td>0.000000</td>\n",
       "      <td>0.0</td>\n",
       "      <td>0.0</td>\n",
       "      <td>0.0</td>\n",
       "      <td>0.000000</td>\n",
       "      <td>0.000000</td>\n",
       "      <td>0.0</td>\n",
       "      <td>...</td>\n",
       "      <td>0.0</td>\n",
       "      <td>4520.5488</td>\n",
       "      <td>0.0</td>\n",
       "      <td>0.0</td>\n",
       "      <td>0.000000</td>\n",
       "      <td>0.000000</td>\n",
       "      <td>0.0</td>\n",
       "      <td>0.0</td>\n",
       "      <td>0.0</td>\n",
       "      <td>0.0</td>\n",
       "    </tr>\n",
       "    <tr>\n",
       "      <th>5</th>\n",
       "      <td>0.000000</td>\n",
       "      <td>0.0</td>\n",
       "      <td>0.0</td>\n",
       "      <td>0.000000</td>\n",
       "      <td>0.0</td>\n",
       "      <td>0.0</td>\n",
       "      <td>0.0</td>\n",
       "      <td>0.000000</td>\n",
       "      <td>0.000000</td>\n",
       "      <td>0.0</td>\n",
       "      <td>...</td>\n",
       "      <td>0.0</td>\n",
       "      <td>0.0000</td>\n",
       "      <td>0.0</td>\n",
       "      <td>0.0</td>\n",
       "      <td>0.000000</td>\n",
       "      <td>0.000000</td>\n",
       "      <td>0.0</td>\n",
       "      <td>0.0</td>\n",
       "      <td>0.0</td>\n",
       "      <td>0.0</td>\n",
       "    </tr>\n",
       "    <tr>\n",
       "      <th>...</th>\n",
       "      <td>...</td>\n",
       "      <td>...</td>\n",
       "      <td>...</td>\n",
       "      <td>...</td>\n",
       "      <td>...</td>\n",
       "      <td>...</td>\n",
       "      <td>...</td>\n",
       "      <td>...</td>\n",
       "      <td>...</td>\n",
       "      <td>...</td>\n",
       "      <td>...</td>\n",
       "      <td>...</td>\n",
       "      <td>...</td>\n",
       "      <td>...</td>\n",
       "      <td>...</td>\n",
       "      <td>...</td>\n",
       "      <td>...</td>\n",
       "      <td>...</td>\n",
       "      <td>...</td>\n",
       "      <td>...</td>\n",
       "      <td>...</td>\n",
       "    </tr>\n",
       "    <tr>\n",
       "      <th>2996</th>\n",
       "      <td>0.000000</td>\n",
       "      <td>0.0</td>\n",
       "      <td>0.0</td>\n",
       "      <td>0.000000</td>\n",
       "      <td>0.0</td>\n",
       "      <td>0.0</td>\n",
       "      <td>0.0</td>\n",
       "      <td>0.000000</td>\n",
       "      <td>0.000000</td>\n",
       "      <td>0.0</td>\n",
       "      <td>...</td>\n",
       "      <td>0.0</td>\n",
       "      <td>0.0000</td>\n",
       "      <td>0.0</td>\n",
       "      <td>0.0</td>\n",
       "      <td>5844.645474</td>\n",
       "      <td>0.000000</td>\n",
       "      <td>0.0</td>\n",
       "      <td>0.0</td>\n",
       "      <td>0.0</td>\n",
       "      <td>0.0</td>\n",
       "    </tr>\n",
       "    <tr>\n",
       "      <th>2997</th>\n",
       "      <td>0.000000</td>\n",
       "      <td>0.0</td>\n",
       "      <td>0.0</td>\n",
       "      <td>0.000000</td>\n",
       "      <td>0.0</td>\n",
       "      <td>0.0</td>\n",
       "      <td>0.0</td>\n",
       "      <td>0.000000</td>\n",
       "      <td>0.000000</td>\n",
       "      <td>0.0</td>\n",
       "      <td>...</td>\n",
       "      <td>0.0</td>\n",
       "      <td>0.0000</td>\n",
       "      <td>0.0</td>\n",
       "      <td>0.0</td>\n",
       "      <td>0.000000</td>\n",
       "      <td>2882.094105</td>\n",
       "      <td>0.0</td>\n",
       "      <td>0.0</td>\n",
       "      <td>0.0</td>\n",
       "      <td>0.0</td>\n",
       "    </tr>\n",
       "    <tr>\n",
       "      <th>2998</th>\n",
       "      <td>0.000000</td>\n",
       "      <td>0.0</td>\n",
       "      <td>0.0</td>\n",
       "      <td>0.000000</td>\n",
       "      <td>0.0</td>\n",
       "      <td>0.0</td>\n",
       "      <td>0.0</td>\n",
       "      <td>0.000000</td>\n",
       "      <td>7200.000000</td>\n",
       "      <td>7200.0</td>\n",
       "      <td>...</td>\n",
       "      <td>0.0</td>\n",
       "      <td>0.0000</td>\n",
       "      <td>0.0</td>\n",
       "      <td>0.0</td>\n",
       "      <td>0.000000</td>\n",
       "      <td>0.000000</td>\n",
       "      <td>0.0</td>\n",
       "      <td>0.0</td>\n",
       "      <td>0.0</td>\n",
       "      <td>0.0</td>\n",
       "    </tr>\n",
       "    <tr>\n",
       "      <th>2999</th>\n",
       "      <td>2384.408463</td>\n",
       "      <td>0.0</td>\n",
       "      <td>0.0</td>\n",
       "      <td>0.000000</td>\n",
       "      <td>0.0</td>\n",
       "      <td>0.0</td>\n",
       "      <td>0.0</td>\n",
       "      <td>0.000000</td>\n",
       "      <td>0.000000</td>\n",
       "      <td>0.0</td>\n",
       "      <td>...</td>\n",
       "      <td>0.0</td>\n",
       "      <td>0.0000</td>\n",
       "      <td>0.0</td>\n",
       "      <td>0.0</td>\n",
       "      <td>0.000000</td>\n",
       "      <td>0.000000</td>\n",
       "      <td>0.0</td>\n",
       "      <td>0.0</td>\n",
       "      <td>0.0</td>\n",
       "      <td>0.0</td>\n",
       "    </tr>\n",
       "    <tr>\n",
       "      <th>3000</th>\n",
       "      <td>0.000000</td>\n",
       "      <td>0.0</td>\n",
       "      <td>0.0</td>\n",
       "      <td>0.000000</td>\n",
       "      <td>0.0</td>\n",
       "      <td>0.0</td>\n",
       "      <td>0.0</td>\n",
       "      <td>0.000000</td>\n",
       "      <td>47.412316</td>\n",
       "      <td>0.0</td>\n",
       "      <td>...</td>\n",
       "      <td>0.0</td>\n",
       "      <td>0.0000</td>\n",
       "      <td>0.0</td>\n",
       "      <td>0.0</td>\n",
       "      <td>0.000000</td>\n",
       "      <td>0.000000</td>\n",
       "      <td>0.0</td>\n",
       "      <td>0.0</td>\n",
       "      <td>0.0</td>\n",
       "      <td>0.0</td>\n",
       "    </tr>\n",
       "  </tbody>\n",
       "</table>\n",
       "<p>3000 rows × 24 columns</p>\n",
       "</div>"
      ],
      "text/plain": [
       "               1    2    3            4    5    6    7            8   \\\n",
       "1        0.000000  0.0  0.0  3600.000000  0.0  0.0  0.0   205.691558   \n",
       "2        0.000000  0.0  0.0     0.000000  0.0  0.0  0.0     0.000000   \n",
       "3        0.000000  0.0  0.0  3995.053474  0.0  0.0  0.0  7200.000000   \n",
       "4        0.000000  0.0  0.0     0.000000  0.0  0.0  0.0     0.000000   \n",
       "5        0.000000  0.0  0.0     0.000000  0.0  0.0  0.0     0.000000   \n",
       "...           ...  ...  ...          ...  ...  ...  ...          ...   \n",
       "2996     0.000000  0.0  0.0     0.000000  0.0  0.0  0.0     0.000000   \n",
       "2997     0.000000  0.0  0.0     0.000000  0.0  0.0  0.0     0.000000   \n",
       "2998     0.000000  0.0  0.0     0.000000  0.0  0.0  0.0     0.000000   \n",
       "2999  2384.408463  0.0  0.0     0.000000  0.0  0.0  0.0     0.000000   \n",
       "3000     0.000000  0.0  0.0     0.000000  0.0  0.0  0.0     0.000000   \n",
       "\n",
       "               9       10  ...   15         16   17   18           19  \\\n",
       "1     3600.000000  3600.0  ...  0.0     0.0000  0.0  0.0     0.000000   \n",
       "2        0.000000     0.0  ...  0.0     0.0000  0.0  0.0     0.000000   \n",
       "3        0.000000     0.0  ...  0.0     0.0000  0.0  0.0     0.000000   \n",
       "4        0.000000     0.0  ...  0.0  4520.5488  0.0  0.0     0.000000   \n",
       "5        0.000000     0.0  ...  0.0     0.0000  0.0  0.0     0.000000   \n",
       "...           ...     ...  ...  ...        ...  ...  ...          ...   \n",
       "2996     0.000000     0.0  ...  0.0     0.0000  0.0  0.0  5844.645474   \n",
       "2997     0.000000     0.0  ...  0.0     0.0000  0.0  0.0     0.000000   \n",
       "2998  7200.000000  7200.0  ...  0.0     0.0000  0.0  0.0     0.000000   \n",
       "2999     0.000000     0.0  ...  0.0     0.0000  0.0  0.0     0.000000   \n",
       "3000    47.412316     0.0  ...  0.0     0.0000  0.0  0.0     0.000000   \n",
       "\n",
       "               20   21   22   23   24  \n",
       "1        0.000000  0.0  0.0  0.0  0.0  \n",
       "2        0.000000  0.0  0.0  0.0  0.0  \n",
       "3        0.000000  0.0  0.0  0.0  0.0  \n",
       "4        0.000000  0.0  0.0  0.0  0.0  \n",
       "5        0.000000  0.0  0.0  0.0  0.0  \n",
       "...           ...  ...  ...  ...  ...  \n",
       "2996     0.000000  0.0  0.0  0.0  0.0  \n",
       "2997  2882.094105  0.0  0.0  0.0  0.0  \n",
       "2998     0.000000  0.0  0.0  0.0  0.0  \n",
       "2999     0.000000  0.0  0.0  0.0  0.0  \n",
       "3000     0.000000  0.0  0.0  0.0  0.0  \n",
       "\n",
       "[3000 rows x 24 columns]"
      ]
     },
     "execution_count": 19,
     "metadata": {},
     "output_type": "execute_result"
    }
   ],
   "source": [
    "PEV_df"
   ]
  },
  {
   "cell_type": "code",
   "execution_count": 20,
   "id": "0cc07db4",
   "metadata": {
    "ExecuteTime": {
     "end_time": "2023-01-24T14:50:50.794957Z",
     "start_time": "2023-01-24T14:50:50.785957Z"
    },
    "pycharm": {
     "name": "#%%\n"
    }
   },
   "outputs": [
    {
     "data": {
      "text/plain": [
       "1     8.358363e+05\n",
       "2     2.009604e+05\n",
       "3     2.646785e+05\n",
       "4     1.622885e+06\n",
       "5     3.805540e+05\n",
       "6     3.215175e+05\n",
       "7     1.345554e+06\n",
       "8     1.351855e+06\n",
       "9     1.278880e+06\n",
       "10    1.310289e+06\n",
       "11    1.380205e+06\n",
       "12    1.021497e+06\n",
       "13    1.325851e+06\n",
       "14    9.467050e+05\n",
       "15    8.506368e+05\n",
       "16    7.924884e+05\n",
       "17    7.407031e+05\n",
       "18    8.471974e+05\n",
       "19    8.409313e+05\n",
       "20    9.215540e+05\n",
       "21    1.040065e+06\n",
       "22    1.098837e+06\n",
       "23    7.113175e+05\n",
       "24    5.943544e+05\n",
       "dtype: float64"
      ]
     },
     "execution_count": 20,
     "metadata": {},
     "output_type": "execute_result"
    }
   ],
   "source": [
    "PEV_df.sum()"
   ]
  },
  {
   "cell_type": "code",
   "execution_count": 21,
   "id": "8c180b25",
   "metadata": {
    "ExecuteTime": {
     "end_time": "2023-01-24T17:18:16.479354Z",
     "start_time": "2023-01-24T17:18:16.066347Z"
    },
    "pycharm": {
     "name": "#%%\n"
    }
   },
   "outputs": [],
   "source": [
    "Etriprelax_df = ext_pyomo_vals(model.Etriprelax)"
   ]
  },
  {
   "cell_type": "code",
   "execution_count": 22,
   "id": "d3bf0630",
   "metadata": {
    "ExecuteTime": {
     "end_time": "2023-01-24T17:18:20.309532Z",
     "start_time": "2023-01-24T17:18:20.283531Z"
    },
    "pycharm": {
     "name": "#%%\n"
    }
   },
   "outputs": [
    {
     "data": {
      "text/plain": [
       "1          0.000000\n",
       "2          0.000000\n",
       "3          0.000000\n",
       "4          0.000000\n",
       "5          0.000000\n",
       "6          0.000000\n",
       "7          0.000000\n",
       "8          0.000000\n",
       "9          0.000000\n",
       "10         0.000000\n",
       "11         0.000000\n",
       "12         0.000000\n",
       "13      2143.550786\n",
       "14     22498.938794\n",
       "15     41839.214121\n",
       "16     12788.559005\n",
       "17     68147.797652\n",
       "18     78337.703891\n",
       "19     49425.312612\n",
       "20     61348.927142\n",
       "21     32071.913195\n",
       "22     25174.231656\n",
       "23     19347.109733\n",
       "24    193628.721652\n",
       "dtype: float64"
      ]
     },
     "execution_count": 22,
     "metadata": {},
     "output_type": "execute_result"
    }
   ],
   "source": [
    "Etriprelax_df.sum()"
   ]
  },
  {
   "cell_type": "code",
   "execution_count": 23,
   "id": "6d7931bd",
   "metadata": {
    "ExecuteTime": {
     "end_time": "2023-01-24T17:18:52.720751Z",
     "start_time": "2023-01-24T17:18:52.560746Z"
    },
    "pycharm": {
     "name": "#%%\n"
    }
   },
   "outputs": [],
   "source": [
    "Eminsocrelax_df = ext_pyomo_vals(model.Eminsocrelax)"
   ]
  },
  {
   "cell_type": "code",
   "execution_count": 24,
   "id": "3c2e6aa8",
   "metadata": {
    "ExecuteTime": {
     "end_time": "2023-01-24T17:18:57.355973Z",
     "start_time": "2023-01-24T17:18:57.343972Z"
    },
    "pycharm": {
     "name": "#%%\n"
    }
   },
   "outputs": [
    {
     "data": {
      "text/plain": [
       "1     0.0\n",
       "2     0.0\n",
       "3     0.0\n",
       "4     0.0\n",
       "5     0.0\n",
       "6     0.0\n",
       "7     0.0\n",
       "8     0.0\n",
       "9     0.0\n",
       "10    0.0\n",
       "11    0.0\n",
       "12    0.0\n",
       "13    0.0\n",
       "14    0.0\n",
       "15    0.0\n",
       "16    0.0\n",
       "17    0.0\n",
       "18    0.0\n",
       "19    0.0\n",
       "20    0.0\n",
       "21    0.0\n",
       "22    0.0\n",
       "23    0.0\n",
       "24    0.0\n",
       "dtype: float64"
      ]
     },
     "execution_count": 24,
     "metadata": {},
     "output_type": "execute_result"
    }
   ],
   "source": [
    "Eminsocrelax_df.sum()"
   ]
  },
  {
   "cell_type": "code",
   "execution_count": 25,
   "id": "495f203a",
   "metadata": {
    "ExecuteTime": {
     "end_time": "2023-01-24T17:19:04.302291Z",
     "start_time": "2023-01-24T17:19:01.694189Z"
    },
    "pycharm": {
     "name": "#%%\n"
    }
   },
   "outputs": [],
   "source": [
    "Etripn_df = ext_pyomo_vals(model.Etripn)"
   ]
  },
  {
   "cell_type": "code",
   "execution_count": 26,
   "id": "bc2935d5",
   "metadata": {
    "ExecuteTime": {
     "end_time": "2023-01-24T17:19:06.715408Z",
     "start_time": "2023-01-24T17:19:06.698408Z"
    },
    "pycharm": {
     "name": "#%%\n"
    }
   },
   "outputs": [
    {
     "data": {
      "text/plain": [
       "1     1.673788e+06\n",
       "2     2.896256e+04\n",
       "3     0.000000e+00\n",
       "4     0.000000e+00\n",
       "5     0.000000e+00\n",
       "6     0.000000e+00\n",
       "7     0.000000e+00\n",
       "8     0.000000e+00\n",
       "9     0.000000e+00\n",
       "10    5.465601e+05\n",
       "11    1.315866e+06\n",
       "12    0.000000e+00\n",
       "13    8.313551e+05\n",
       "14    3.272904e+06\n",
       "15    1.418766e+06\n",
       "16    1.735838e+06\n",
       "17    5.656545e+05\n",
       "18    1.100017e+06\n",
       "19    3.648812e+05\n",
       "20    1.147978e+06\n",
       "21    1.388378e+06\n",
       "22    1.200184e+06\n",
       "23    1.404881e+06\n",
       "24    3.603640e+06\n",
       "dtype: float64"
      ]
     },
     "execution_count": 26,
     "metadata": {},
     "output_type": "execute_result"
    }
   ],
   "source": [
    "Etripn_df.sum()"
   ]
  },
  {
   "cell_type": "code",
   "execution_count": 27,
   "id": "d777f989",
   "metadata": {
    "ExecuteTime": {
     "end_time": "2023-01-24T17:19:35.739382Z",
     "start_time": "2023-01-24T17:19:35.718381Z"
    },
    "pycharm": {
     "name": "#%%\n"
    }
   },
   "outputs": [],
   "source": [
    "Ppeakred_df = ext_pyomo_vals(model.Ppeakred)"
   ]
  },
  {
   "cell_type": "code",
   "execution_count": 28,
   "id": "a9336fd8",
   "metadata": {
    "ExecuteTime": {
     "end_time": "2023-01-24T17:19:40.457592Z",
     "start_time": "2023-01-24T17:19:40.434591Z"
    },
    "pycharm": {
     "name": "#%%\n"
    }
   },
   "outputs": [
    {
     "data": {
      "text/html": [
       "<div>\n",
       "<style scoped>\n",
       "    .dataframe tbody tr th:only-of-type {\n",
       "        vertical-align: middle;\n",
       "    }\n",
       "\n",
       "    .dataframe tbody tr th {\n",
       "        vertical-align: top;\n",
       "    }\n",
       "\n",
       "    .dataframe thead th {\n",
       "        text-align: right;\n",
       "    }\n",
       "</style>\n",
       "<table border=\"1\" class=\"dataframe\">\n",
       "  <thead>\n",
       "    <tr style=\"text-align: right;\">\n",
       "      <th></th>\n",
       "      <th>0</th>\n",
       "    </tr>\n",
       "  </thead>\n",
       "  <tbody>\n",
       "    <tr>\n",
       "      <th>1</th>\n",
       "      <td>0</td>\n",
       "    </tr>\n",
       "    <tr>\n",
       "      <th>2</th>\n",
       "      <td>0</td>\n",
       "    </tr>\n",
       "    <tr>\n",
       "      <th>3</th>\n",
       "      <td>0</td>\n",
       "    </tr>\n",
       "    <tr>\n",
       "      <th>4</th>\n",
       "      <td>0</td>\n",
       "    </tr>\n",
       "    <tr>\n",
       "      <th>5</th>\n",
       "      <td>0</td>\n",
       "    </tr>\n",
       "    <tr>\n",
       "      <th>6</th>\n",
       "      <td>0</td>\n",
       "    </tr>\n",
       "    <tr>\n",
       "      <th>7</th>\n",
       "      <td>0</td>\n",
       "    </tr>\n",
       "    <tr>\n",
       "      <th>8</th>\n",
       "      <td>0</td>\n",
       "    </tr>\n",
       "    <tr>\n",
       "      <th>9</th>\n",
       "      <td>0</td>\n",
       "    </tr>\n",
       "    <tr>\n",
       "      <th>10</th>\n",
       "      <td>0</td>\n",
       "    </tr>\n",
       "    <tr>\n",
       "      <th>11</th>\n",
       "      <td>0</td>\n",
       "    </tr>\n",
       "    <tr>\n",
       "      <th>12</th>\n",
       "      <td>0</td>\n",
       "    </tr>\n",
       "    <tr>\n",
       "      <th>13</th>\n",
       "      <td>0</td>\n",
       "    </tr>\n",
       "    <tr>\n",
       "      <th>14</th>\n",
       "      <td>0</td>\n",
       "    </tr>\n",
       "    <tr>\n",
       "      <th>15</th>\n",
       "      <td>0</td>\n",
       "    </tr>\n",
       "    <tr>\n",
       "      <th>16</th>\n",
       "      <td>0</td>\n",
       "    </tr>\n",
       "    <tr>\n",
       "      <th>17</th>\n",
       "      <td>0</td>\n",
       "    </tr>\n",
       "    <tr>\n",
       "      <th>18</th>\n",
       "      <td>0</td>\n",
       "    </tr>\n",
       "    <tr>\n",
       "      <th>19</th>\n",
       "      <td>0</td>\n",
       "    </tr>\n",
       "    <tr>\n",
       "      <th>20</th>\n",
       "      <td>0</td>\n",
       "    </tr>\n",
       "    <tr>\n",
       "      <th>21</th>\n",
       "      <td>0</td>\n",
       "    </tr>\n",
       "    <tr>\n",
       "      <th>22</th>\n",
       "      <td>0</td>\n",
       "    </tr>\n",
       "    <tr>\n",
       "      <th>23</th>\n",
       "      <td>0</td>\n",
       "    </tr>\n",
       "    <tr>\n",
       "      <th>24</th>\n",
       "      <td>0</td>\n",
       "    </tr>\n",
       "  </tbody>\n",
       "</table>\n",
       "</div>"
      ],
      "text/plain": [
       "    0\n",
       "1   0\n",
       "2   0\n",
       "3   0\n",
       "4   0\n",
       "5   0\n",
       "6   0\n",
       "7   0\n",
       "8   0\n",
       "9   0\n",
       "10  0\n",
       "11  0\n",
       "12  0\n",
       "13  0\n",
       "14  0\n",
       "15  0\n",
       "16  0\n",
       "17  0\n",
       "18  0\n",
       "19  0\n",
       "20  0\n",
       "21  0\n",
       "22  0\n",
       "23  0\n",
       "24  0"
      ]
     },
     "execution_count": 28,
     "metadata": {},
     "output_type": "execute_result"
    }
   ],
   "source": [
    "Ppeakred_df"
   ]
  },
  {
   "cell_type": "code",
   "execution_count": 29,
   "id": "17659422",
   "metadata": {
    "ExecuteTime": {
     "end_time": "2023-01-24T17:19:52.319104Z",
     "start_time": "2023-01-24T17:19:52.306103Z"
    },
    "pycharm": {
     "name": "#%%\n"
    }
   },
   "outputs": [],
   "source": [
    "Ppeakred2_df = ext_pyomo_vals(model.Ppeakred2)"
   ]
  },
  {
   "cell_type": "code",
   "execution_count": 30,
   "id": "c89d0f5a",
   "metadata": {
    "ExecuteTime": {
     "end_time": "2023-01-24T17:19:56.256298Z",
     "start_time": "2023-01-24T17:19:56.247298Z"
    },
    "pycharm": {
     "name": "#%%\n"
    }
   },
   "outputs": [
    {
     "data": {
      "text/html": [
       "<div>\n",
       "<style scoped>\n",
       "    .dataframe tbody tr th:only-of-type {\n",
       "        vertical-align: middle;\n",
       "    }\n",
       "\n",
       "    .dataframe tbody tr th {\n",
       "        vertical-align: top;\n",
       "    }\n",
       "\n",
       "    .dataframe thead th {\n",
       "        text-align: right;\n",
       "    }\n",
       "</style>\n",
       "<table border=\"1\" class=\"dataframe\">\n",
       "  <thead>\n",
       "    <tr style=\"text-align: right;\">\n",
       "      <th></th>\n",
       "      <th>0</th>\n",
       "    </tr>\n",
       "  </thead>\n",
       "  <tbody>\n",
       "    <tr>\n",
       "      <th>None</th>\n",
       "      <td>7.347769e+06</td>\n",
       "    </tr>\n",
       "  </tbody>\n",
       "</table>\n",
       "</div>"
      ],
      "text/plain": [
       "                 0\n",
       "None  7.347769e+06"
      ]
     },
     "execution_count": 30,
     "metadata": {},
     "output_type": "execute_result"
    }
   ],
   "source": [
    "Ppeakred2_df"
   ]
  },
  {
   "cell_type": "markdown",
   "id": "93249ade",
   "metadata": {
    "pycharm": {
     "name": "#%% md\n"
    }
   },
   "source": [
    "## Save results in csv files"
   ]
  },
  {
   "cell_type": "code",
   "execution_count": 31,
   "id": "4b839a6a",
   "metadata": {
    "ExecuteTime": {
     "end_time": "2023-01-24T17:23:58.367697Z",
     "start_time": "2023-01-24T17:23:58.202690Z"
    },
    "pycharm": {
     "name": "#%%\n"
    }
   },
   "outputs": [],
   "source": [
    "import os \n",
    "folder = 'results_Peak_tot_' + str(n_evs)\n",
    "\n",
    "if not os.path.exists(folder):\n",
    "    os.makedirs(folder)\n",
    "    \n",
    "EEV_df.to_csv(folder + '/EEV.csv')\n",
    "PEV_df.to_csv(folder + '/PEV.csv')\n",
    "PEV_df.sum().to_csv(folder + '/PEV_h.csv')\n",
    "\n",
    "Etriprelax_df.to_csv(folder + '/Etriprelax.csv')\n",
    "Etriprelax_df.sum().to_csv(folder + '/Etriprelax_h.csv')\n",
    "\n",
    "Eminsocrelax_df.to_csv(folder + '/Eminsocrelax.csv')\n",
    "Eminsocrelax_df.sum().to_csv(folder + '/Eminsocrelax_h.csv')\n",
    "\n",
    "Etripn_df.to_csv(folder + '/Etripn.csv')\n",
    "Etripn_df.sum().to_csv(folder + '/Etripn_h.csv')\n",
    "\n",
    "Ppeakred_df.to_csv(folder + '/Ppeakread.csv')\n",
    "\n",
    "Pcons_df = PEV_df.sum() + data['Inputs'].to_numpy()[:,2]\n",
    "Pcons_df.to_csv(folder + '/Pcons.csv')"
   ]
  },
  {
   "cell_type": "code",
   "execution_count": null,
   "id": "66927ea0",
   "metadata": {
    "pycharm": {
     "name": "#%%\n"
    }
   },
   "outputs": [],
   "source": []
  }
 ],
 "metadata": {
  "kernelspec": {
   "display_name": "Python 3 (ipykernel)",
   "language": "python",
   "name": "python3"
  },
  "language_info": {
   "codemirror_mode": {
    "name": "ipython",
    "version": 3
   },
   "file_extension": ".py",
   "mimetype": "text/x-python",
   "name": "python",
   "nbconvert_exporter": "python",
   "pygments_lexer": "ipython3",
   "version": "3.10.11"
  },
  "toc": {
   "base_numbering": 1,
   "nav_menu": {},
   "number_sections": true,
   "sideBar": true,
   "skip_h1_title": false,
   "title_cell": "Table of Contents",
   "title_sidebar": "Contents",
   "toc_cell": false,
   "toc_position": {},
   "toc_section_display": true,
   "toc_window_display": false
  }
 },
 "nbformat": 4,
 "nbformat_minor": 5
}
