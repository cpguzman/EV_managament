{
 "cells": [
  {
   "cell_type": "markdown",
   "id": "49f8415c",
   "metadata": {
    "pycharm": {
     "name": "#%% md\n"
    }
   },
   "source": [
    "## Import packages"
   ]
  },
  {
   "cell_type": "code",
   "execution_count": 1,
   "id": "715e26a7",
   "metadata": {
    "ExecuteTime": {
     "end_time": "2023-01-24T15:33:15.888058Z",
     "start_time": "2023-01-24T15:33:14.912039Z"
    },
    "pycharm": {
     "name": "#%%\n"
    }
   },
   "outputs": [],
   "source": [
    "import pyomo\n",
    "import pyomo.opt\n",
    "import pyomo.environ as pyo\n",
    "import numpy as np\n",
    "import pandas as pd\n",
    "import matplotlib as plt"
   ]
  },
  {
   "cell_type": "code",
   "execution_count": 2,
   "id": "7439ce86",
   "metadata": {
    "ExecuteTime": {
     "end_time": "2023-01-24T15:33:15.893058Z",
     "start_time": "2023-01-24T15:33:15.888058Z"
    },
    "pycharm": {
     "name": "#%%\n"
    }
   },
   "outputs": [],
   "source": [
    "n_time = 24\n",
    "country = \"Denmark\"; # Possible options: Portugal, Slovenia, Greece, Denmark, this if apply only to Slovenia and Denmark, because both countries have biomass"
   ]
  },
  {
   "cell_type": "code",
   "execution_count": 3,
   "id": "b8f61626",
   "metadata": {
    "ExecuteTime": {
     "end_time": "2023-01-24T15:33:15.906058Z",
     "start_time": "2023-01-24T15:33:15.893058Z"
    },
    "pycharm": {
     "name": "#%%\n"
    }
   },
   "outputs": [],
   "source": [
    "def _auxDictionary(a):\n",
    "    temp_dictionary = {}\n",
    "    if len(a.shape) == 3:\n",
    "        for dim0 in np.arange(a.shape[0]):\n",
    "            for dim1 in np.arange(a.shape[1]):\n",
    "                for dim2 in np.arange(a.shape[2]):\n",
    "                    temp_dictionary[(dim0+1, dim1+1, dim2+1)] = a[dim0, dim1, dim2]\n",
    "    elif len(a.shape) == 2:\n",
    "        for dim0 in np.arange(a.shape[0]):\n",
    "            for dim1 in np.arange(a.shape[1]):\n",
    "                temp_dictionary[(dim0+1, dim1+1)] = a[dim0, dim1]\n",
    "    else:\n",
    "        for dim0 in np.arange(a.shape[0]):\n",
    "            temp_dictionary[(dim0+1)] = a[dim0]\n",
    "    return temp_dictionary\n",
    "#temp_dict1 = _auxDictionary(loadLimit)"
   ]
  },
  {
   "cell_type": "markdown",
   "id": "066f9dad",
   "metadata": {
    "pycharm": {
     "name": "#%% md\n"
    }
   },
   "source": [
    "## Data"
   ]
  },
  {
   "cell_type": "code",
   "execution_count": 4,
   "id": "6ee2c24c",
   "metadata": {
    "ExecuteTime": {
     "end_time": "2023-01-24T15:33:15.938060Z",
     "start_time": "2023-01-24T15:33:15.909058Z"
    },
    "pycharm": {
     "name": "#%%\n"
    }
   },
   "outputs": [],
   "source": [
    "data = {}\n",
    "data['Inputs'] = pd.read_csv('Inputs.csv')\n",
    "data['EVs_Inputs'] = pd.read_csv('EVs_Inputs.csv')\n",
    "data['alpha'] = pd.read_csv('alpha.csv')\n",
    "data['PchmaxEV'] = pd.read_csv('PchmaxEV.csv')\n",
    "data['S'] = pd.read_csv('S.csv')"
   ]
  },
  {
   "cell_type": "code",
   "execution_count": 5,
   "id": "8c8c07d9",
   "metadata": {
    "ExecuteTime": {
     "end_time": "2023-01-24T15:33:15.946060Z",
     "start_time": "2023-01-24T15:33:15.939060Z"
    },
    "pycharm": {
     "name": "#%%\n"
    }
   },
   "outputs": [],
   "source": [
    "n_evs = data['EVs_Inputs']['Esoc'].size"
   ]
  },
  {
   "cell_type": "markdown",
   "id": "1a180354",
   "metadata": {
    "pycharm": {
     "name": "#%% md\n"
    }
   },
   "source": [
    "## Start Time"
   ]
  },
  {
   "cell_type": "code",
   "execution_count": 6,
   "id": "2b449c1e",
   "metadata": {
    "pycharm": {
     "name": "#%%\n"
    }
   },
   "outputs": [
    {
     "name": "stdout",
     "output_type": "stream",
     "text": [
      "Start Time = 19:02:39\n"
     ]
    }
   ],
   "source": [
    "from datetime import datetime\n",
    "\n",
    "now = datetime.now()\n",
    "\n",
    "start_time = now.strftime(\"%H:%M:%S\")\n",
    "print(\"Start Time =\", start_time)"
   ]
  },
  {
   "cell_type": "markdown",
   "id": "aa86258e",
   "metadata": {
    "pycharm": {
     "name": "#%% md\n"
    }
   },
   "source": [
    "## Sets"
   ]
  },
  {
   "cell_type": "code",
   "execution_count": 7,
   "id": "6324b7f3",
   "metadata": {
    "ExecuteTime": {
     "end_time": "2023-01-24T15:33:15.959061Z",
     "start_time": "2023-01-24T15:33:15.949061Z"
    },
    "pycharm": {
     "name": "#%%\n"
    }
   },
   "outputs": [],
   "source": [
    "model = pyo.ConcreteModel()\n",
    "\n",
    "model.ev = pyo.Set(initialize = np.arange(1, n_evs + 1))\n",
    "model.t = pyo.Set(initialize = np.arange(1, n_time + 1))\n"
   ]
  },
  {
   "cell_type": "markdown",
   "id": "c5060158",
   "metadata": {
    "pycharm": {
     "name": "#%% md\n"
    }
   },
   "source": [
    "## Parameters"
   ]
  },
  {
   "cell_type": "code",
   "execution_count": 8,
   "id": "0244c4e0",
   "metadata": {
    "ExecuteTime": {
     "end_time": "2023-01-24T15:33:17.353101Z",
     "start_time": "2023-01-24T15:33:15.960061Z"
    },
    "pycharm": {
     "name": "#%%\n"
    }
   },
   "outputs": [],
   "source": [
    "model.EEVmax = pyo.Param(model.ev, initialize =_auxDictionary(data['EVs_Inputs'].to_numpy()[:,2]))\n",
    "model.EEVmin = pyo.Param(model.ev, initialize =_auxDictionary(data['EVs_Inputs'].to_numpy()[:,1]))\n",
    "model.ESoc = pyo.Param(model.ev, initialize =_auxDictionary(data['EVs_Inputs'].to_numpy()[:,0]))\n",
    "model.dT = pyo.Param(model.t, initialize =_auxDictionary(data['Inputs'].to_numpy()[:,0]))\n",
    "model.cDA = pyo.Param(model.t, initialize =_auxDictionary(data['Inputs'].to_numpy()[:,1]))\n",
    "model.Pl = pyo.Param(model.t, initialize =_auxDictionary(data['Inputs'].to_numpy()[:,2]))\n",
    "model.Php = pyo.Param(model.t, initialize =_auxDictionary(data['Inputs'].to_numpy()[:,3]))\n",
    "model.Pb = pyo.Param(model.t, initialize =_auxDictionary(data['Inputs'].to_numpy()[:,4]))\n",
    "model.Pimp = pyo.Param(model.t, initialize =_auxDictionary(data['Inputs'].to_numpy()[:,5]))\n",
    "model.Ppv = pyo.Param(model.t, initialize =_auxDictionary(data['Inputs'].to_numpy()[:,6]))\n",
    "model.Pwind = pyo.Param(model.t, initialize =_auxDictionary(data['Inputs'].to_numpy()[:,7]))\n",
    "model.Phid = pyo.Param(model.t, initialize =_auxDictionary(data['Inputs'].to_numpy()[:,8]))\n",
    "model.Pbio = pyo.Param(model.t, initialize =_auxDictionary(data['Inputs'].to_numpy()[:,9]))\n",
    "model.PchmaxEV = pyo.Param(model.ev, model.t, initialize =_auxDictionary(data['PchmaxEV'].to_numpy()))\n",
    "model.S = pyo.Param(model.ev, model.t, initialize = _auxDictionary(data['S'].to_numpy()))\n",
    "model.alpha = pyo.Param(model.ev, model.t, initialize = _auxDictionary(data['alpha'].to_numpy()))\n",
    "model.RealHour = pyo.Param(model.t, initialize=_auxDictionary(data['Inputs'].to_numpy()[:,9]))\n",
    "model.penalty1 = 1000\n",
    "model.penalty2 = 1000\n",
    "model.penalty3 = 0.6\n",
    "model.Etrip = pyo.Param(model.ev, initialize=_auxDictionary(data['EVs_Inputs'].to_numpy()[:,3]))\n",
    "model.n = 0.95\n",
    "model.m = 0.6\n",
    "model.factor = 1"
   ]
  },
  {
   "cell_type": "markdown",
   "id": "ed19147f",
   "metadata": {
    "pycharm": {
     "name": "#%% md\n"
    }
   },
   "source": [
    "## Variables"
   ]
  },
  {
   "cell_type": "code",
   "execution_count": 9,
   "id": "8eb6f254",
   "metadata": {
    "ExecuteTime": {
     "end_time": "2023-01-24T15:33:17.619115Z",
     "start_time": "2023-01-24T15:33:17.353101Z"
    },
    "pycharm": {
     "name": "#%%\n"
    }
   },
   "outputs": [],
   "source": [
    "model.PEV = pyo.Var(model.ev, model.t, domain = pyo.NonNegativeReals, initialize = 0)\n",
    "model.EEV = pyo.Var(model.ev, model.t, domain = pyo.Reals, initialize = 0)\n",
    "model.Etriprelax = pyo.Var(model.ev, model.t, domain = pyo.NonNegativeReals, initialize = 0)\n",
    "model.Eminsocrelax = pyo.Var(model.ev, model.t, domain = pyo.NonNegativeReals, initialize = 0)\n",
    "model.Etripn = pyo.Var(model.ev, model.t, domain = pyo.Reals, initialize = 0)\n",
    "model.Pgen = pyo.Var(model.t, domain =  pyo.NonNegativeReals, initialize = 0)\n",
    "model.Pres = pyo.Var(model.t, domain = pyo.NonNegativeReals, initialize = 0)\n",
    "model.Pex = pyo.Var(model.t, domain = pyo.NonNegativeReals, initialize = 0)"
   ]
  },
  {
   "cell_type": "markdown",
   "id": "7186c6b6",
   "metadata": {
    "pycharm": {
     "name": "#%% md\n"
    }
   },
   "source": [
    "## Constraints"
   ]
  },
  {
   "cell_type": "code",
   "execution_count": 10,
   "id": "af513242",
   "metadata": {
    "ExecuteTime": {
     "end_time": "2023-01-24T15:33:22.419174Z",
     "start_time": "2023-01-24T15:33:17.621116Z"
    },
    "pycharm": {
     "name": "#%%\n"
    }
   },
   "outputs": [],
   "source": [
    "def _balance_etripn(m,ev,t): \n",
    "    return m.Etripn[ev,t] == m.Etrip[ev]*m.S[ev,t]/(sum([m.S[ev,k] for k in np.arange(1, n_time + 1)]))\n",
    "model.balance_etripn = pyo.Constraint(model.ev, model.t, rule = _balance_etripn)\n",
    "\n",
    "def _balance_energy_EVS3(m,ev,t): \n",
    "    if t == 24:\n",
    "        return m.EEV[ev,t] + m.Etriprelax[ev,t] >= m.EEVmax[ev]*m.m\n",
    "    return pyo.Constraint.Skip\n",
    "model.balance_energy_EVS3 = pyo.Constraint(model.ev, model.t, rule = _balance_energy_EVS3)\n",
    "\n",
    "def _balance_energy_EVS(m,ev,t): \n",
    "    if t == 1:\n",
    "        return m.EEV[ev,t] - m.Etriprelax[ev,t] == m.ESoc[ev] + m.PEV[ev,t]*m.dT[t]*m.n - m.Etripn[ev,t]\n",
    "    return pyo.Constraint.Skip\n",
    "model.balance_energy_EVS = pyo.Constraint(model.ev, model.t, rule = _balance_energy_EVS)\n",
    "\n",
    "def _balance_energy_EVS2(m,ev,t): \n",
    "    if t > 1:\n",
    "        return m.EEV[ev,t] - m.Etriprelax[ev,t] == m.EEV[ev,t-1] + m.PEV[ev,t]*m.dT[t]*m.n - m.Etripn[ev,t]\n",
    "    return pyo.Constraint.Skip\n",
    "model.balance_energy_EVS2 = pyo.Constraint(model.ev, model.t, rule = _balance_energy_EVS2)\n",
    "\n",
    "def _RES_balance(m,t):\n",
    "    return m.Pres[t] == m.Pwind[t] + m.Ppv[t] + m.Phid[t] + m.Pbio[t]\n",
    "model.RES_balance = pyo.Constraint(model.t, rule = _RES_balance)\n",
    "\n",
    "def _total_balance(m,t):\n",
    "    #if (country == \"Slovenia\"):\n",
    "        return m.Pgen[t] + m.Pres[t] + m.Pimp[t] - m.Pex[t] == m.Pl[t] + m.Pb[t] +sum(m.PEV[ev, t] for ev in np.arange(1, n_evs + 1))\n",
    "    #else:\n",
    "        #return m.Pgen[t] + m.Pres[t] + m.Pimp[t] - m.Pex[t] ==  m.Pl[t] + m.Pb[t] + sum(m.PEV[ev, t] for ev in np.arange(1, n_evs + 1))\n",
    "model.total_balance = pyo.Constraint(model.t, rule = _total_balance)\n",
    "\n",
    "def _power_charging_limit1(m,ev,t): \n",
    "    return m.PEV[ev,t] >= 0\n",
    "model.power_charging_limit1 = pyo.Constraint(model.ev, model.t, rule = _power_charging_limit1)\n",
    "\n",
    "def _power_charging_limit2(m,ev,t): \n",
    "    return m.PEV[ev,t] <= m.alpha[ev,t]*m.PchmaxEV[ev,t]*m.factor\n",
    "model.power_charging_limit2 = pyo.Constraint(model.ev, model.t, rule = _power_charging_limit2)\n",
    "\n",
    "def _energy_limits_EVS_1(m,ev,t): \n",
    "    return m.EEVmin[ev] <= m.EEV[ev,t] + m.Eminsocrelax[ev,t]\n",
    "    #return m.EEVmin[ev] <= m.EEV[ev,t]\n",
    "model.energy_limits_EVS_1 = pyo.Constraint(model.ev, model.t, rule = _energy_limits_EVS_1)\n",
    "\n",
    "def _energy_limits_EVS_2(m,ev,t): \n",
    "    return m.EEV[ev,t] <= m.EEVmax[ev]\n",
    "model.energy_limits_EVS_2 = pyo.Constraint(model.ev, model.t, rule = _energy_limits_EVS_2)\n"
   ]
  },
  {
   "cell_type": "markdown",
   "id": "4fc67cc6",
   "metadata": {
    "pycharm": {
     "name": "#%% md\n"
    }
   },
   "source": [
    "## Objective function"
   ]
  },
  {
   "cell_type": "code",
   "execution_count": 11,
   "id": "a81eab81",
   "metadata": {
    "ExecuteTime": {
     "end_time": "2023-01-24T15:33:22.749192Z",
     "start_time": "2023-01-24T15:33:22.419174Z"
    },
    "pycharm": {
     "name": "#%%\n"
    }
   },
   "outputs": [],
   "source": [
    "def _FOag(m):\n",
    "    return sum(m.Pgen[t] for t in np.arange(1, n_time + 1)) + sum([m.Etriprelax[ev,t]*m.penalty1 + m.Eminsocrelax[ev,t]*m.penalty2 for ev in np.arange(1, n_evs + 1) for t in np.arange(1, n_time + 1)])\n",
    "\n",
    "model.FOag = pyo.Objective(rule = _FOag, sense = pyo.minimize)"
   ]
  },
  {
   "cell_type": "markdown",
   "id": "c187224f",
   "metadata": {
    "pycharm": {
     "name": "#%% md\n"
    }
   },
   "source": [
    "## Solve the model"
   ]
  },
  {
   "cell_type": "code",
   "execution_count": 12,
   "id": "633159e2",
   "metadata": {
    "ExecuteTime": {
     "end_time": "2023-01-24T15:33:41.798287Z",
     "start_time": "2023-01-24T15:33:22.751192Z"
    },
    "pycharm": {
     "name": "#%%\n"
    }
   },
   "outputs": [
    {
     "name": "stdout",
     "output_type": "stream",
     "text": [
      "# ==========================================================\n",
      "# = Solver Results                                         =\n",
      "# ==========================================================\n",
      "# ----------------------------------------------------------\n",
      "#   Problem Information\n",
      "# ----------------------------------------------------------\n",
      "Problem: \n",
      "- Name: tmplxmbhwse\n",
      "  Lower bound: 679149730.5588425\n",
      "  Upper bound: 679149730.5588425\n",
      "  Number of objectives: 1\n",
      "  Number of constraints: 917754\n",
      "  Number of variables: 759553\n",
      "  Number of nonzeros: 1829178\n",
      "  Sense: minimize\n",
      "# ----------------------------------------------------------\n",
      "#   Solver Information\n",
      "# ----------------------------------------------------------\n",
      "Solver: \n",
      "- Status: ok\n",
      "  User time: 2.95\n",
      "  Termination condition: optimal\n",
      "  Termination message: Primal simplex - Optimal\\x3a Objective = 6.7914973056e+08\n",
      "  Error rc: 0\n",
      "  Time: 6.72814154624939\n",
      "# ----------------------------------------------------------\n",
      "#   Solution Information\n",
      "# ----------------------------------------------------------\n",
      "Solution: \n",
      "- number of solutions: 0\n",
      "  number of solutions displayed: 0\n"
     ]
    }
   ],
   "source": [
    "from pyomo.opt import SolverFactory\n",
    "\n",
    "model.write('res_V4_EC.lp',  io_options={'symbolic_solver_labels': True})\n",
    "\n",
    "# Create a solver\n",
    "#opt = pyo.SolverFactory('cbc', executable='C:/Program Files/Cbc-releases.2.10.8-x86_64-w64-mingw64/bin/cbc.exe')\n",
    "\n",
    "opt = pyo.SolverFactory('cplex', executable='C:/Program Files/IBM/ILOG/CPLEX_Studio129/cplex/bin/x64_win64/cplex.exe')\n",
    "opt.options['LogFile'] = 'res_V4_EC.log'\n",
    "\n",
    "#opt = pyo.SolverFactory('ipopt', executable='C:/Program Files/Ipopt-3.11.1-win64-intel13.1/bin/ipopt.exe')\n",
    "#opt.options['print_level'] = 12\n",
    "#opt.options['output_file'] = \"res_V5_EC.log\"\n",
    "\n",
    "results = opt.solve(model)#, tee=True)\n",
    "results.write()"
   ]
  },
  {
   "cell_type": "markdown",
   "id": "e400b960",
   "metadata": {
    "pycharm": {
     "name": "#%% md\n"
    }
   },
   "source": [
    "## Objective Function Value"
   ]
  },
  {
   "cell_type": "code",
   "execution_count": 13,
   "id": "a7e24b62",
   "metadata": {
    "ExecuteTime": {
     "end_time": "2023-01-24T15:33:41.998298Z",
     "start_time": "2023-01-24T15:33:41.798287Z"
    },
    "pycharm": {
     "name": "#%%\n"
    }
   },
   "outputs": [
    {
     "data": {
      "text/plain": [
       "679149730.5588424"
      ]
     },
     "execution_count": 13,
     "metadata": {},
     "output_type": "execute_result"
    }
   ],
   "source": [
    "pyo.value(model.FOag)"
   ]
  },
  {
   "cell_type": "markdown",
   "id": "8d24bfd3",
   "metadata": {
    "pycharm": {
     "name": "#%% md\n"
    }
   },
   "source": [
    "## End Time"
   ]
  },
  {
   "cell_type": "code",
   "execution_count": 14,
   "id": "712a6ae9",
   "metadata": {
    "pycharm": {
     "name": "#%%\n"
    }
   },
   "outputs": [
    {
     "name": "stdout",
     "output_type": "stream",
     "text": [
      "End Time = 19:05:50\n",
      "Dif: 0:03:11\n"
     ]
    }
   ],
   "source": [
    "now = datetime.now()\n",
    "\n",
    "end_time = now.strftime(\"%H:%M:%S\")\n",
    "print(\"End Time =\", end_time)\n",
    "print(\"Dif: {}\".format(datetime.strptime(end_time, \"%H:%M:%S\") - datetime.strptime(start_time, \"%H:%M:%S\")))"
   ]
  },
  {
   "cell_type": "markdown",
   "id": "de186eda",
   "metadata": {
    "pycharm": {
     "name": "#%% md\n"
    }
   },
   "source": [
    "## Cost Value"
   ]
  },
  {
   "cell_type": "code",
   "execution_count": 15,
   "id": "5e6051a8",
   "metadata": {
    "ExecuteTime": {
     "end_time": "2023-01-24T15:33:42.008298Z",
     "start_time": "2023-01-24T15:33:42.000298Z"
    },
    "pycharm": {
     "name": "#%%\n"
    }
   },
   "outputs": [],
   "source": [
    "def ext_pyomo_vals(vals):\n",
    "    # make a pd.Series from each\n",
    "    s = pd.Series(vals.extract_values(),\n",
    "                  index=vals.extract_values().keys())\n",
    "    # if the series is multi-indexed we need to unstack it...\n",
    "    if type(s.index[0]) == tuple:    # it is multi-indexed\n",
    "        s = s.unstack(level=1)\n",
    "    else:\n",
    "        # force transition from Series -> df\n",
    "        s = pd.DataFrame(s)\n",
    "    return s"
   ]
  },
  {
   "cell_type": "code",
   "execution_count": 16,
   "id": "bbb357f8",
   "metadata": {
    "ExecuteTime": {
     "end_time": "2023-01-24T15:33:43.620333Z",
     "start_time": "2023-01-24T15:33:42.011299Z"
    },
    "pycharm": {
     "name": "#%%\n"
    }
   },
   "outputs": [
    {
     "name": "stdout",
     "output_type": "stream",
     "text": [
      "Charge cost: 11667100.604484418\n"
     ]
    }
   ],
   "source": [
    "PEV_df = ext_pyomo_vals(model.PEV)\n",
    "dT_df = ext_pyomo_vals(model.dT)\n",
    "cDA_df = ext_pyomo_vals(model.cDA)\n",
    "EEV_df = ext_pyomo_vals(model.EEV)\n",
    "\n",
    "charge_cost = sum([PEV_df[t][ev]*dT_df[0][t]*cDA_df[0][t]\n",
    "                   for ev in np.arange(1, n_evs + 1) for t in np.arange(1, n_time + 1)])\n",
    "\n",
    "print('Charge cost: {}'.format(charge_cost))"
   ]
  },
  {
   "cell_type": "markdown",
   "id": "7e5cd7ce",
   "metadata": {
    "pycharm": {
     "name": "#%% md\n"
    }
   },
   "source": [
    "## Results"
   ]
  },
  {
   "cell_type": "code",
   "execution_count": 17,
   "id": "a341e329",
   "metadata": {
    "ExecuteTime": {
     "end_time": "2023-01-24T15:33:43.628333Z",
     "start_time": "2023-01-24T15:33:43.620333Z"
    },
    "pycharm": {
     "name": "#%%\n"
    }
   },
   "outputs": [
    {
     "name": "stdout",
     "output_type": "stream",
     "text": [
      "Total Charge: 60.16329651767804\n"
     ]
    }
   ],
   "source": [
    "print(\"Total Charge: {}\".format(np.sum(PEV_df.to_numpy()/1000000)))"
   ]
  },
  {
   "cell_type": "code",
   "execution_count": 18,
   "id": "2ed8567c",
   "metadata": {
    "ExecuteTime": {
     "end_time": "2023-01-24T15:33:43.683336Z",
     "start_time": "2023-01-24T15:33:43.638334Z"
    },
    "pycharm": {
     "name": "#%%\n"
    }
   },
   "outputs": [
    {
     "data": {
      "text/html": [
       "<div>\n",
       "<style scoped>\n",
       "    .dataframe tbody tr th:only-of-type {\n",
       "        vertical-align: middle;\n",
       "    }\n",
       "\n",
       "    .dataframe tbody tr th {\n",
       "        vertical-align: top;\n",
       "    }\n",
       "\n",
       "    .dataframe thead th {\n",
       "        text-align: right;\n",
       "    }\n",
       "</style>\n",
       "<table border=\"1\" class=\"dataframe\">\n",
       "  <thead>\n",
       "    <tr style=\"text-align: right;\">\n",
       "      <th></th>\n",
       "      <th>1</th>\n",
       "      <th>2</th>\n",
       "      <th>3</th>\n",
       "      <th>4</th>\n",
       "      <th>5</th>\n",
       "      <th>6</th>\n",
       "      <th>7</th>\n",
       "      <th>8</th>\n",
       "      <th>9</th>\n",
       "      <th>10</th>\n",
       "      <th>...</th>\n",
       "      <th>15</th>\n",
       "      <th>16</th>\n",
       "      <th>17</th>\n",
       "      <th>18</th>\n",
       "      <th>19</th>\n",
       "      <th>20</th>\n",
       "      <th>21</th>\n",
       "      <th>22</th>\n",
       "      <th>23</th>\n",
       "      <th>24</th>\n",
       "    </tr>\n",
       "  </thead>\n",
       "  <tbody>\n",
       "    <tr>\n",
       "      <th>1</th>\n",
       "      <td>64680.000000</td>\n",
       "      <td>64680.000000</td>\n",
       "      <td>64680.000000</td>\n",
       "      <td>64680.000000</td>\n",
       "      <td>64680.000000</td>\n",
       "      <td>64680.000000</td>\n",
       "      <td>64680.000000</td>\n",
       "      <td>64680.000000</td>\n",
       "      <td>64680.000000</td>\n",
       "      <td>64680.000000</td>\n",
       "      <td>...</td>\n",
       "      <td>61355.454847</td>\n",
       "      <td>61355.454847</td>\n",
       "      <td>61355.454847</td>\n",
       "      <td>68004.545152</td>\n",
       "      <td>68004.545152</td>\n",
       "      <td>68004.545152</td>\n",
       "      <td>68004.545152</td>\n",
       "      <td>68004.545152</td>\n",
       "      <td>68004.545152</td>\n",
       "      <td>64680.0</td>\n",
       "    </tr>\n",
       "    <tr>\n",
       "      <th>2</th>\n",
       "      <td>43914.400342</td>\n",
       "      <td>43914.400342</td>\n",
       "      <td>43914.400342</td>\n",
       "      <td>43914.400342</td>\n",
       "      <td>43914.400342</td>\n",
       "      <td>43914.400342</td>\n",
       "      <td>43914.400342</td>\n",
       "      <td>43914.400342</td>\n",
       "      <td>43914.400342</td>\n",
       "      <td>43914.400342</td>\n",
       "      <td>...</td>\n",
       "      <td>40800.000000</td>\n",
       "      <td>40800.000000</td>\n",
       "      <td>40800.000000</td>\n",
       "      <td>40800.000000</td>\n",
       "      <td>40800.000000</td>\n",
       "      <td>40800.000000</td>\n",
       "      <td>40800.000000</td>\n",
       "      <td>40800.000000</td>\n",
       "      <td>40800.000000</td>\n",
       "      <td>40800.0</td>\n",
       "    </tr>\n",
       "    <tr>\n",
       "      <th>3</th>\n",
       "      <td>8100.000000</td>\n",
       "      <td>8100.000000</td>\n",
       "      <td>8100.000000</td>\n",
       "      <td>8100.000000</td>\n",
       "      <td>8100.000000</td>\n",
       "      <td>8100.000000</td>\n",
       "      <td>8100.000000</td>\n",
       "      <td>8100.000000</td>\n",
       "      <td>8100.000000</td>\n",
       "      <td>8100.000000</td>\n",
       "      <td>...</td>\n",
       "      <td>8105.634469</td>\n",
       "      <td>8105.634469</td>\n",
       "      <td>8105.634469</td>\n",
       "      <td>8105.634469</td>\n",
       "      <td>8105.634469</td>\n",
       "      <td>8105.634469</td>\n",
       "      <td>8105.634469</td>\n",
       "      <td>8105.634469</td>\n",
       "      <td>8105.634469</td>\n",
       "      <td>8100.0</td>\n",
       "    </tr>\n",
       "    <tr>\n",
       "      <th>4</th>\n",
       "      <td>8100.000000</td>\n",
       "      <td>8100.000000</td>\n",
       "      <td>8100.000000</td>\n",
       "      <td>8133.806812</td>\n",
       "      <td>8133.806812</td>\n",
       "      <td>8133.806812</td>\n",
       "      <td>8133.806812</td>\n",
       "      <td>8133.806812</td>\n",
       "      <td>8133.806812</td>\n",
       "      <td>8133.806812</td>\n",
       "      <td>...</td>\n",
       "      <td>8116.903406</td>\n",
       "      <td>8116.903406</td>\n",
       "      <td>8116.903406</td>\n",
       "      <td>8116.903406</td>\n",
       "      <td>8116.903406</td>\n",
       "      <td>8116.903406</td>\n",
       "      <td>8116.903406</td>\n",
       "      <td>8116.903406</td>\n",
       "      <td>8116.903406</td>\n",
       "      <td>8100.0</td>\n",
       "    </tr>\n",
       "    <tr>\n",
       "      <th>5</th>\n",
       "      <td>40800.000000</td>\n",
       "      <td>40800.000000</td>\n",
       "      <td>40800.000000</td>\n",
       "      <td>40800.000000</td>\n",
       "      <td>40800.000000</td>\n",
       "      <td>40800.000000</td>\n",
       "      <td>40800.000000</td>\n",
       "      <td>40800.000000</td>\n",
       "      <td>40800.000000</td>\n",
       "      <td>40800.000000</td>\n",
       "      <td>...</td>\n",
       "      <td>36733.917045</td>\n",
       "      <td>34700.875567</td>\n",
       "      <td>34700.875567</td>\n",
       "      <td>34700.875567</td>\n",
       "      <td>34700.875567</td>\n",
       "      <td>48932.165910</td>\n",
       "      <td>46899.124433</td>\n",
       "      <td>44866.082955</td>\n",
       "      <td>42833.041478</td>\n",
       "      <td>40800.0</td>\n",
       "    </tr>\n",
       "    <tr>\n",
       "      <th>...</th>\n",
       "      <td>...</td>\n",
       "      <td>...</td>\n",
       "      <td>...</td>\n",
       "      <td>...</td>\n",
       "      <td>...</td>\n",
       "      <td>...</td>\n",
       "      <td>...</td>\n",
       "      <td>...</td>\n",
       "      <td>...</td>\n",
       "      <td>...</td>\n",
       "      <td>...</td>\n",
       "      <td>...</td>\n",
       "      <td>...</td>\n",
       "      <td>...</td>\n",
       "      <td>...</td>\n",
       "      <td>...</td>\n",
       "      <td>...</td>\n",
       "      <td>...</td>\n",
       "      <td>...</td>\n",
       "      <td>...</td>\n",
       "      <td>...</td>\n",
       "    </tr>\n",
       "    <tr>\n",
       "      <th>6325</th>\n",
       "      <td>44400.000000</td>\n",
       "      <td>44400.000000</td>\n",
       "      <td>44400.000000</td>\n",
       "      <td>44400.000000</td>\n",
       "      <td>44400.000000</td>\n",
       "      <td>44400.000000</td>\n",
       "      <td>44400.000000</td>\n",
       "      <td>44400.000000</td>\n",
       "      <td>44400.000000</td>\n",
       "      <td>44400.000000</td>\n",
       "      <td>...</td>\n",
       "      <td>57025.472631</td>\n",
       "      <td>52888.208947</td>\n",
       "      <td>48750.945262</td>\n",
       "      <td>44613.681578</td>\n",
       "      <td>44613.681578</td>\n",
       "      <td>40476.417893</td>\n",
       "      <td>36339.154209</td>\n",
       "      <td>36339.154209</td>\n",
       "      <td>32201.890524</td>\n",
       "      <td>44400.0</td>\n",
       "    </tr>\n",
       "    <tr>\n",
       "      <th>6326</th>\n",
       "      <td>46800.000000</td>\n",
       "      <td>46800.000000</td>\n",
       "      <td>46800.000000</td>\n",
       "      <td>48405.030549</td>\n",
       "      <td>48405.030549</td>\n",
       "      <td>48405.030549</td>\n",
       "      <td>48405.030549</td>\n",
       "      <td>48405.030549</td>\n",
       "      <td>48405.030549</td>\n",
       "      <td>48405.030549</td>\n",
       "      <td>...</td>\n",
       "      <td>47602.515275</td>\n",
       "      <td>47602.515275</td>\n",
       "      <td>47602.515275</td>\n",
       "      <td>47602.515275</td>\n",
       "      <td>47602.515275</td>\n",
       "      <td>47602.515275</td>\n",
       "      <td>47602.515275</td>\n",
       "      <td>47602.515275</td>\n",
       "      <td>47602.515275</td>\n",
       "      <td>46800.0</td>\n",
       "    </tr>\n",
       "    <tr>\n",
       "      <th>6327</th>\n",
       "      <td>57000.000000</td>\n",
       "      <td>57000.000000</td>\n",
       "      <td>57000.000000</td>\n",
       "      <td>57000.000000</td>\n",
       "      <td>57000.000000</td>\n",
       "      <td>57000.000000</td>\n",
       "      <td>57000.000000</td>\n",
       "      <td>57000.000000</td>\n",
       "      <td>57000.000000</td>\n",
       "      <td>57000.000000</td>\n",
       "      <td>...</td>\n",
       "      <td>59422.821494</td>\n",
       "      <td>59422.821494</td>\n",
       "      <td>59422.821494</td>\n",
       "      <td>59422.821494</td>\n",
       "      <td>59422.821494</td>\n",
       "      <td>59422.821494</td>\n",
       "      <td>59422.821494</td>\n",
       "      <td>59422.821494</td>\n",
       "      <td>59422.821494</td>\n",
       "      <td>57000.0</td>\n",
       "    </tr>\n",
       "    <tr>\n",
       "      <th>6328</th>\n",
       "      <td>64680.000000</td>\n",
       "      <td>64680.000000</td>\n",
       "      <td>64680.000000</td>\n",
       "      <td>64680.000000</td>\n",
       "      <td>64680.000000</td>\n",
       "      <td>64680.000000</td>\n",
       "      <td>64680.000000</td>\n",
       "      <td>64680.000000</td>\n",
       "      <td>64680.000000</td>\n",
       "      <td>64680.000000</td>\n",
       "      <td>...</td>\n",
       "      <td>65676.972600</td>\n",
       "      <td>65676.972600</td>\n",
       "      <td>65676.972600</td>\n",
       "      <td>65676.972600</td>\n",
       "      <td>65676.972600</td>\n",
       "      <td>65676.972600</td>\n",
       "      <td>65676.972600</td>\n",
       "      <td>65676.972600</td>\n",
       "      <td>65676.972600</td>\n",
       "      <td>64680.0</td>\n",
       "    </tr>\n",
       "    <tr>\n",
       "      <th>6329</th>\n",
       "      <td>44400.000000</td>\n",
       "      <td>44400.000000</td>\n",
       "      <td>44400.000000</td>\n",
       "      <td>44400.000000</td>\n",
       "      <td>44400.000000</td>\n",
       "      <td>44400.000000</td>\n",
       "      <td>44400.000000</td>\n",
       "      <td>44400.000000</td>\n",
       "      <td>44400.000000</td>\n",
       "      <td>44400.000000</td>\n",
       "      <td>...</td>\n",
       "      <td>51276.756225</td>\n",
       "      <td>50130.630187</td>\n",
       "      <td>50130.630187</td>\n",
       "      <td>50130.630187</td>\n",
       "      <td>48984.504150</td>\n",
       "      <td>47838.378112</td>\n",
       "      <td>47838.378112</td>\n",
       "      <td>46692.252075</td>\n",
       "      <td>45546.126037</td>\n",
       "      <td>44400.0</td>\n",
       "    </tr>\n",
       "  </tbody>\n",
       "</table>\n",
       "<p>6329 rows × 24 columns</p>\n",
       "</div>"
      ],
      "text/plain": [
       "                1             2             3             4             5   \\\n",
       "1     64680.000000  64680.000000  64680.000000  64680.000000  64680.000000   \n",
       "2     43914.400342  43914.400342  43914.400342  43914.400342  43914.400342   \n",
       "3      8100.000000   8100.000000   8100.000000   8100.000000   8100.000000   \n",
       "4      8100.000000   8100.000000   8100.000000   8133.806812   8133.806812   \n",
       "5     40800.000000  40800.000000  40800.000000  40800.000000  40800.000000   \n",
       "...            ...           ...           ...           ...           ...   \n",
       "6325  44400.000000  44400.000000  44400.000000  44400.000000  44400.000000   \n",
       "6326  46800.000000  46800.000000  46800.000000  48405.030549  48405.030549   \n",
       "6327  57000.000000  57000.000000  57000.000000  57000.000000  57000.000000   \n",
       "6328  64680.000000  64680.000000  64680.000000  64680.000000  64680.000000   \n",
       "6329  44400.000000  44400.000000  44400.000000  44400.000000  44400.000000   \n",
       "\n",
       "                6             7             8             9             10  \\\n",
       "1     64680.000000  64680.000000  64680.000000  64680.000000  64680.000000   \n",
       "2     43914.400342  43914.400342  43914.400342  43914.400342  43914.400342   \n",
       "3      8100.000000   8100.000000   8100.000000   8100.000000   8100.000000   \n",
       "4      8133.806812   8133.806812   8133.806812   8133.806812   8133.806812   \n",
       "5     40800.000000  40800.000000  40800.000000  40800.000000  40800.000000   \n",
       "...            ...           ...           ...           ...           ...   \n",
       "6325  44400.000000  44400.000000  44400.000000  44400.000000  44400.000000   \n",
       "6326  48405.030549  48405.030549  48405.030549  48405.030549  48405.030549   \n",
       "6327  57000.000000  57000.000000  57000.000000  57000.000000  57000.000000   \n",
       "6328  64680.000000  64680.000000  64680.000000  64680.000000  64680.000000   \n",
       "6329  44400.000000  44400.000000  44400.000000  44400.000000  44400.000000   \n",
       "\n",
       "      ...            15            16            17            18  \\\n",
       "1     ...  61355.454847  61355.454847  61355.454847  68004.545152   \n",
       "2     ...  40800.000000  40800.000000  40800.000000  40800.000000   \n",
       "3     ...   8105.634469   8105.634469   8105.634469   8105.634469   \n",
       "4     ...   8116.903406   8116.903406   8116.903406   8116.903406   \n",
       "5     ...  36733.917045  34700.875567  34700.875567  34700.875567   \n",
       "...   ...           ...           ...           ...           ...   \n",
       "6325  ...  57025.472631  52888.208947  48750.945262  44613.681578   \n",
       "6326  ...  47602.515275  47602.515275  47602.515275  47602.515275   \n",
       "6327  ...  59422.821494  59422.821494  59422.821494  59422.821494   \n",
       "6328  ...  65676.972600  65676.972600  65676.972600  65676.972600   \n",
       "6329  ...  51276.756225  50130.630187  50130.630187  50130.630187   \n",
       "\n",
       "                19            20            21            22            23  \\\n",
       "1     68004.545152  68004.545152  68004.545152  68004.545152  68004.545152   \n",
       "2     40800.000000  40800.000000  40800.000000  40800.000000  40800.000000   \n",
       "3      8105.634469   8105.634469   8105.634469   8105.634469   8105.634469   \n",
       "4      8116.903406   8116.903406   8116.903406   8116.903406   8116.903406   \n",
       "5     34700.875567  48932.165910  46899.124433  44866.082955  42833.041478   \n",
       "...            ...           ...           ...           ...           ...   \n",
       "6325  44613.681578  40476.417893  36339.154209  36339.154209  32201.890524   \n",
       "6326  47602.515275  47602.515275  47602.515275  47602.515275  47602.515275   \n",
       "6327  59422.821494  59422.821494  59422.821494  59422.821494  59422.821494   \n",
       "6328  65676.972600  65676.972600  65676.972600  65676.972600  65676.972600   \n",
       "6329  48984.504150  47838.378112  47838.378112  46692.252075  45546.126037   \n",
       "\n",
       "           24  \n",
       "1     64680.0  \n",
       "2     40800.0  \n",
       "3      8100.0  \n",
       "4      8100.0  \n",
       "5     40800.0  \n",
       "...       ...  \n",
       "6325  44400.0  \n",
       "6326  46800.0  \n",
       "6327  57000.0  \n",
       "6328  64680.0  \n",
       "6329  44400.0  \n",
       "\n",
       "[6329 rows x 24 columns]"
      ]
     },
     "execution_count": 18,
     "metadata": {},
     "output_type": "execute_result"
    }
   ],
   "source": [
    "EEV_df"
   ]
  },
  {
   "cell_type": "code",
   "execution_count": 19,
   "id": "4623282e",
   "metadata": {
    "ExecuteTime": {
     "end_time": "2023-01-24T15:33:43.736339Z",
     "start_time": "2023-01-24T15:33:43.685336Z"
    },
    "pycharm": {
     "name": "#%%\n"
    }
   },
   "outputs": [
    {
     "data": {
      "text/html": [
       "<div>\n",
       "<style scoped>\n",
       "    .dataframe tbody tr th:only-of-type {\n",
       "        vertical-align: middle;\n",
       "    }\n",
       "\n",
       "    .dataframe tbody tr th {\n",
       "        vertical-align: top;\n",
       "    }\n",
       "\n",
       "    .dataframe thead th {\n",
       "        text-align: right;\n",
       "    }\n",
       "</style>\n",
       "<table border=\"1\" class=\"dataframe\">\n",
       "  <thead>\n",
       "    <tr style=\"text-align: right;\">\n",
       "      <th></th>\n",
       "      <th>1</th>\n",
       "      <th>2</th>\n",
       "      <th>3</th>\n",
       "      <th>4</th>\n",
       "      <th>5</th>\n",
       "      <th>6</th>\n",
       "      <th>7</th>\n",
       "      <th>8</th>\n",
       "      <th>9</th>\n",
       "      <th>10</th>\n",
       "      <th>...</th>\n",
       "      <th>15</th>\n",
       "      <th>16</th>\n",
       "      <th>17</th>\n",
       "      <th>18</th>\n",
       "      <th>19</th>\n",
       "      <th>20</th>\n",
       "      <th>21</th>\n",
       "      <th>22</th>\n",
       "      <th>23</th>\n",
       "      <th>24</th>\n",
       "    </tr>\n",
       "  </thead>\n",
       "  <tbody>\n",
       "    <tr>\n",
       "      <th>1</th>\n",
       "      <td>0.0000</td>\n",
       "      <td>0.0</td>\n",
       "      <td>0.0</td>\n",
       "      <td>0.000000</td>\n",
       "      <td>0.0</td>\n",
       "      <td>0.0</td>\n",
       "      <td>0.0</td>\n",
       "      <td>0.0</td>\n",
       "      <td>0.0</td>\n",
       "      <td>0.0</td>\n",
       "      <td>...</td>\n",
       "      <td>0.000000</td>\n",
       "      <td>0.0</td>\n",
       "      <td>0.0</td>\n",
       "      <td>6999.042426</td>\n",
       "      <td>0.0</td>\n",
       "      <td>0.000000</td>\n",
       "      <td>0.0</td>\n",
       "      <td>0.0</td>\n",
       "      <td>0.0</td>\n",
       "      <td>0.000000</td>\n",
       "    </tr>\n",
       "    <tr>\n",
       "      <th>2</th>\n",
       "      <td>6556.6323</td>\n",
       "      <td>0.0</td>\n",
       "      <td>0.0</td>\n",
       "      <td>0.000000</td>\n",
       "      <td>0.0</td>\n",
       "      <td>0.0</td>\n",
       "      <td>0.0</td>\n",
       "      <td>0.0</td>\n",
       "      <td>0.0</td>\n",
       "      <td>0.0</td>\n",
       "      <td>...</td>\n",
       "      <td>0.000000</td>\n",
       "      <td>0.0</td>\n",
       "      <td>0.0</td>\n",
       "      <td>0.000000</td>\n",
       "      <td>0.0</td>\n",
       "      <td>0.000000</td>\n",
       "      <td>0.0</td>\n",
       "      <td>0.0</td>\n",
       "      <td>0.0</td>\n",
       "      <td>0.000000</td>\n",
       "    </tr>\n",
       "    <tr>\n",
       "      <th>3</th>\n",
       "      <td>0.0000</td>\n",
       "      <td>0.0</td>\n",
       "      <td>0.0</td>\n",
       "      <td>0.000000</td>\n",
       "      <td>0.0</td>\n",
       "      <td>0.0</td>\n",
       "      <td>0.0</td>\n",
       "      <td>0.0</td>\n",
       "      <td>0.0</td>\n",
       "      <td>0.0</td>\n",
       "      <td>...</td>\n",
       "      <td>11.862039</td>\n",
       "      <td>0.0</td>\n",
       "      <td>0.0</td>\n",
       "      <td>0.000000</td>\n",
       "      <td>0.0</td>\n",
       "      <td>0.000000</td>\n",
       "      <td>0.0</td>\n",
       "      <td>0.0</td>\n",
       "      <td>0.0</td>\n",
       "      <td>0.000000</td>\n",
       "    </tr>\n",
       "    <tr>\n",
       "      <th>4</th>\n",
       "      <td>0.0000</td>\n",
       "      <td>0.0</td>\n",
       "      <td>0.0</td>\n",
       "      <td>35.586117</td>\n",
       "      <td>0.0</td>\n",
       "      <td>0.0</td>\n",
       "      <td>0.0</td>\n",
       "      <td>0.0</td>\n",
       "      <td>0.0</td>\n",
       "      <td>0.0</td>\n",
       "      <td>...</td>\n",
       "      <td>0.000000</td>\n",
       "      <td>0.0</td>\n",
       "      <td>0.0</td>\n",
       "      <td>0.000000</td>\n",
       "      <td>0.0</td>\n",
       "      <td>0.000000</td>\n",
       "      <td>0.0</td>\n",
       "      <td>0.0</td>\n",
       "      <td>0.0</td>\n",
       "      <td>0.000000</td>\n",
       "    </tr>\n",
       "    <tr>\n",
       "      <th>5</th>\n",
       "      <td>0.0000</td>\n",
       "      <td>0.0</td>\n",
       "      <td>0.0</td>\n",
       "      <td>0.000000</td>\n",
       "      <td>0.0</td>\n",
       "      <td>0.0</td>\n",
       "      <td>0.0</td>\n",
       "      <td>0.0</td>\n",
       "      <td>0.0</td>\n",
       "      <td>0.0</td>\n",
       "      <td>...</td>\n",
       "      <td>0.000000</td>\n",
       "      <td>0.0</td>\n",
       "      <td>0.0</td>\n",
       "      <td>0.000000</td>\n",
       "      <td>0.0</td>\n",
       "      <td>17120.349284</td>\n",
       "      <td>0.0</td>\n",
       "      <td>0.0</td>\n",
       "      <td>0.0</td>\n",
       "      <td>0.000000</td>\n",
       "    </tr>\n",
       "    <tr>\n",
       "      <th>...</th>\n",
       "      <td>...</td>\n",
       "      <td>...</td>\n",
       "      <td>...</td>\n",
       "      <td>...</td>\n",
       "      <td>...</td>\n",
       "      <td>...</td>\n",
       "      <td>...</td>\n",
       "      <td>...</td>\n",
       "      <td>...</td>\n",
       "      <td>...</td>\n",
       "      <td>...</td>\n",
       "      <td>...</td>\n",
       "      <td>...</td>\n",
       "      <td>...</td>\n",
       "      <td>...</td>\n",
       "      <td>...</td>\n",
       "      <td>...</td>\n",
       "      <td>...</td>\n",
       "      <td>...</td>\n",
       "      <td>...</td>\n",
       "      <td>...</td>\n",
       "    </tr>\n",
       "    <tr>\n",
       "      <th>6325</th>\n",
       "      <td>0.0000</td>\n",
       "      <td>0.0</td>\n",
       "      <td>0.0</td>\n",
       "      <td>0.000000</td>\n",
       "      <td>0.0</td>\n",
       "      <td>0.0</td>\n",
       "      <td>0.0</td>\n",
       "      <td>0.0</td>\n",
       "      <td>0.0</td>\n",
       "      <td>0.0</td>\n",
       "      <td>...</td>\n",
       "      <td>0.000000</td>\n",
       "      <td>0.0</td>\n",
       "      <td>0.0</td>\n",
       "      <td>0.000000</td>\n",
       "      <td>0.0</td>\n",
       "      <td>0.000000</td>\n",
       "      <td>0.0</td>\n",
       "      <td>0.0</td>\n",
       "      <td>0.0</td>\n",
       "      <td>17195.129642</td>\n",
       "    </tr>\n",
       "    <tr>\n",
       "      <th>6326</th>\n",
       "      <td>0.0000</td>\n",
       "      <td>0.0</td>\n",
       "      <td>0.0</td>\n",
       "      <td>1689.505841</td>\n",
       "      <td>0.0</td>\n",
       "      <td>0.0</td>\n",
       "      <td>0.0</td>\n",
       "      <td>0.0</td>\n",
       "      <td>0.0</td>\n",
       "      <td>0.0</td>\n",
       "      <td>...</td>\n",
       "      <td>0.000000</td>\n",
       "      <td>0.0</td>\n",
       "      <td>0.0</td>\n",
       "      <td>0.000000</td>\n",
       "      <td>0.0</td>\n",
       "      <td>0.000000</td>\n",
       "      <td>0.0</td>\n",
       "      <td>0.0</td>\n",
       "      <td>0.0</td>\n",
       "      <td>0.000000</td>\n",
       "    </tr>\n",
       "    <tr>\n",
       "      <th>6327</th>\n",
       "      <td>0.0000</td>\n",
       "      <td>0.0</td>\n",
       "      <td>0.0</td>\n",
       "      <td>0.000000</td>\n",
       "      <td>0.0</td>\n",
       "      <td>0.0</td>\n",
       "      <td>0.0</td>\n",
       "      <td>0.0</td>\n",
       "      <td>0.0</td>\n",
       "      <td>0.0</td>\n",
       "      <td>...</td>\n",
       "      <td>5100.676829</td>\n",
       "      <td>0.0</td>\n",
       "      <td>0.0</td>\n",
       "      <td>0.000000</td>\n",
       "      <td>0.0</td>\n",
       "      <td>0.000000</td>\n",
       "      <td>0.0</td>\n",
       "      <td>0.0</td>\n",
       "      <td>0.0</td>\n",
       "      <td>0.000000</td>\n",
       "    </tr>\n",
       "    <tr>\n",
       "      <th>6328</th>\n",
       "      <td>0.0000</td>\n",
       "      <td>0.0</td>\n",
       "      <td>0.0</td>\n",
       "      <td>0.000000</td>\n",
       "      <td>0.0</td>\n",
       "      <td>0.0</td>\n",
       "      <td>0.0</td>\n",
       "      <td>0.0</td>\n",
       "      <td>0.0</td>\n",
       "      <td>0.0</td>\n",
       "      <td>...</td>\n",
       "      <td>0.000000</td>\n",
       "      <td>0.0</td>\n",
       "      <td>0.0</td>\n",
       "      <td>0.000000</td>\n",
       "      <td>0.0</td>\n",
       "      <td>0.000000</td>\n",
       "      <td>0.0</td>\n",
       "      <td>0.0</td>\n",
       "      <td>0.0</td>\n",
       "      <td>5101.110316</td>\n",
       "    </tr>\n",
       "    <tr>\n",
       "      <th>6329</th>\n",
       "      <td>0.0000</td>\n",
       "      <td>0.0</td>\n",
       "      <td>0.0</td>\n",
       "      <td>0.000000</td>\n",
       "      <td>0.0</td>\n",
       "      <td>0.0</td>\n",
       "      <td>0.0</td>\n",
       "      <td>0.0</td>\n",
       "      <td>0.0</td>\n",
       "      <td>0.0</td>\n",
       "      <td>...</td>\n",
       "      <td>0.000000</td>\n",
       "      <td>0.0</td>\n",
       "      <td>0.0</td>\n",
       "      <td>0.000000</td>\n",
       "      <td>0.0</td>\n",
       "      <td>0.000000</td>\n",
       "      <td>0.0</td>\n",
       "      <td>0.0</td>\n",
       "      <td>0.0</td>\n",
       "      <td>0.000000</td>\n",
       "    </tr>\n",
       "  </tbody>\n",
       "</table>\n",
       "<p>6329 rows × 24 columns</p>\n",
       "</div>"
      ],
      "text/plain": [
       "             1    2    3            4    5    6    7    8    9    10  ...  \\\n",
       "1        0.0000  0.0  0.0     0.000000  0.0  0.0  0.0  0.0  0.0  0.0  ...   \n",
       "2     6556.6323  0.0  0.0     0.000000  0.0  0.0  0.0  0.0  0.0  0.0  ...   \n",
       "3        0.0000  0.0  0.0     0.000000  0.0  0.0  0.0  0.0  0.0  0.0  ...   \n",
       "4        0.0000  0.0  0.0    35.586117  0.0  0.0  0.0  0.0  0.0  0.0  ...   \n",
       "5        0.0000  0.0  0.0     0.000000  0.0  0.0  0.0  0.0  0.0  0.0  ...   \n",
       "...         ...  ...  ...          ...  ...  ...  ...  ...  ...  ...  ...   \n",
       "6325     0.0000  0.0  0.0     0.000000  0.0  0.0  0.0  0.0  0.0  0.0  ...   \n",
       "6326     0.0000  0.0  0.0  1689.505841  0.0  0.0  0.0  0.0  0.0  0.0  ...   \n",
       "6327     0.0000  0.0  0.0     0.000000  0.0  0.0  0.0  0.0  0.0  0.0  ...   \n",
       "6328     0.0000  0.0  0.0     0.000000  0.0  0.0  0.0  0.0  0.0  0.0  ...   \n",
       "6329     0.0000  0.0  0.0     0.000000  0.0  0.0  0.0  0.0  0.0  0.0  ...   \n",
       "\n",
       "               15   16   17           18   19            20   21   22   23  \\\n",
       "1        0.000000  0.0  0.0  6999.042426  0.0      0.000000  0.0  0.0  0.0   \n",
       "2        0.000000  0.0  0.0     0.000000  0.0      0.000000  0.0  0.0  0.0   \n",
       "3       11.862039  0.0  0.0     0.000000  0.0      0.000000  0.0  0.0  0.0   \n",
       "4        0.000000  0.0  0.0     0.000000  0.0      0.000000  0.0  0.0  0.0   \n",
       "5        0.000000  0.0  0.0     0.000000  0.0  17120.349284  0.0  0.0  0.0   \n",
       "...           ...  ...  ...          ...  ...           ...  ...  ...  ...   \n",
       "6325     0.000000  0.0  0.0     0.000000  0.0      0.000000  0.0  0.0  0.0   \n",
       "6326     0.000000  0.0  0.0     0.000000  0.0      0.000000  0.0  0.0  0.0   \n",
       "6327  5100.676829  0.0  0.0     0.000000  0.0      0.000000  0.0  0.0  0.0   \n",
       "6328     0.000000  0.0  0.0     0.000000  0.0      0.000000  0.0  0.0  0.0   \n",
       "6329     0.000000  0.0  0.0     0.000000  0.0      0.000000  0.0  0.0  0.0   \n",
       "\n",
       "                24  \n",
       "1         0.000000  \n",
       "2         0.000000  \n",
       "3         0.000000  \n",
       "4         0.000000  \n",
       "5         0.000000  \n",
       "...            ...  \n",
       "6325  17195.129642  \n",
       "6326      0.000000  \n",
       "6327      0.000000  \n",
       "6328   5101.110316  \n",
       "6329      0.000000  \n",
       "\n",
       "[6329 rows x 24 columns]"
      ]
     },
     "execution_count": 19,
     "metadata": {},
     "output_type": "execute_result"
    }
   ],
   "source": [
    "PEV_df"
   ]
  },
  {
   "cell_type": "code",
   "execution_count": 20,
   "id": "ff5ee25e",
   "metadata": {
    "ExecuteTime": {
     "end_time": "2023-01-24T15:33:43.745340Z",
     "start_time": "2023-01-24T15:33:43.739339Z"
    },
    "pycharm": {
     "name": "#%%\n"
    }
   },
   "outputs": [
    {
     "data": {
      "text/plain": [
       "1     4.363414e+06\n",
       "2     4.027367e+06\n",
       "3     3.049860e+06\n",
       "4     3.503841e+06\n",
       "5     3.471848e+06\n",
       "6     2.802645e+05\n",
       "7     1.394803e+05\n",
       "8     3.355881e+06\n",
       "9     2.182627e+05\n",
       "10    1.614589e+06\n",
       "11    2.627893e+06\n",
       "12    2.380489e+05\n",
       "13    2.193871e+06\n",
       "14    1.466228e+06\n",
       "15    3.137412e+06\n",
       "16    6.961429e+05\n",
       "17    2.134768e+06\n",
       "18    3.097060e+06\n",
       "19    3.307345e+06\n",
       "20    3.396911e+06\n",
       "21    3.082221e+06\n",
       "22    2.146500e+06\n",
       "23    2.726146e+06\n",
       "24    5.887941e+06\n",
       "dtype: float64"
      ]
     },
     "execution_count": 20,
     "metadata": {},
     "output_type": "execute_result"
    }
   ],
   "source": [
    "PEV_df.sum()"
   ]
  },
  {
   "cell_type": "code",
   "execution_count": 21,
   "id": "6675147b",
   "metadata": {
    "ExecuteTime": {
     "end_time": "2023-01-24T15:33:43.766341Z",
     "start_time": "2023-01-24T15:33:43.747340Z"
    },
    "pycharm": {
     "name": "#%%\n"
    }
   },
   "outputs": [
    {
     "data": {
      "text/html": [
       "<div>\n",
       "<style scoped>\n",
       "    .dataframe tbody tr th:only-of-type {\n",
       "        vertical-align: middle;\n",
       "    }\n",
       "\n",
       "    .dataframe tbody tr th {\n",
       "        vertical-align: top;\n",
       "    }\n",
       "\n",
       "    .dataframe thead th {\n",
       "        text-align: right;\n",
       "    }\n",
       "</style>\n",
       "<table border=\"1\" class=\"dataframe\">\n",
       "  <thead>\n",
       "    <tr style=\"text-align: right;\">\n",
       "      <th></th>\n",
       "      <th>0</th>\n",
       "    </tr>\n",
       "  </thead>\n",
       "  <tbody>\n",
       "    <tr>\n",
       "      <th>1</th>\n",
       "      <td>9.376070e+06</td>\n",
       "    </tr>\n",
       "    <tr>\n",
       "      <th>2</th>\n",
       "      <td>9.063047e+06</td>\n",
       "    </tr>\n",
       "    <tr>\n",
       "      <th>3</th>\n",
       "      <td>7.857392e+06</td>\n",
       "    </tr>\n",
       "    <tr>\n",
       "      <th>4</th>\n",
       "      <td>8.041461e+06</td>\n",
       "    </tr>\n",
       "    <tr>\n",
       "      <th>5</th>\n",
       "      <td>7.893129e+06</td>\n",
       "    </tr>\n",
       "    <tr>\n",
       "      <th>6</th>\n",
       "      <td>5.023961e+06</td>\n",
       "    </tr>\n",
       "    <tr>\n",
       "      <th>7</th>\n",
       "      <td>9.839294e+05</td>\n",
       "    </tr>\n",
       "    <tr>\n",
       "      <th>8</th>\n",
       "      <td>4.200669e+06</td>\n",
       "    </tr>\n",
       "    <tr>\n",
       "      <th>9</th>\n",
       "      <td>1.236724e+06</td>\n",
       "    </tr>\n",
       "    <tr>\n",
       "      <th>10</th>\n",
       "      <td>2.637004e+06</td>\n",
       "    </tr>\n",
       "    <tr>\n",
       "      <th>11</th>\n",
       "      <td>3.730155e+06</td>\n",
       "    </tr>\n",
       "    <tr>\n",
       "      <th>12</th>\n",
       "      <td>1.729912e+06</td>\n",
       "    </tr>\n",
       "    <tr>\n",
       "      <th>13</th>\n",
       "      <td>4.420425e+06</td>\n",
       "    </tr>\n",
       "    <tr>\n",
       "      <th>14</th>\n",
       "      <td>3.609270e+06</td>\n",
       "    </tr>\n",
       "    <tr>\n",
       "      <th>15</th>\n",
       "      <td>5.867516e+06</td>\n",
       "    </tr>\n",
       "    <tr>\n",
       "      <th>16</th>\n",
       "      <td>1.091849e+06</td>\n",
       "    </tr>\n",
       "    <tr>\n",
       "      <th>17</th>\n",
       "      <td>0.000000e+00</td>\n",
       "    </tr>\n",
       "    <tr>\n",
       "      <th>18</th>\n",
       "      <td>0.000000e+00</td>\n",
       "    </tr>\n",
       "    <tr>\n",
       "      <th>19</th>\n",
       "      <td>0.000000e+00</td>\n",
       "    </tr>\n",
       "    <tr>\n",
       "      <th>20</th>\n",
       "      <td>0.000000e+00</td>\n",
       "    </tr>\n",
       "    <tr>\n",
       "      <th>21</th>\n",
       "      <td>0.000000e+00</td>\n",
       "    </tr>\n",
       "    <tr>\n",
       "      <th>22</th>\n",
       "      <td>0.000000e+00</td>\n",
       "    </tr>\n",
       "    <tr>\n",
       "      <th>23</th>\n",
       "      <td>3.553797e+06</td>\n",
       "    </tr>\n",
       "    <tr>\n",
       "      <th>24</th>\n",
       "      <td>1.054584e+07</td>\n",
       "    </tr>\n",
       "  </tbody>\n",
       "</table>\n",
       "</div>"
      ],
      "text/plain": [
       "               0\n",
       "1   9.376070e+06\n",
       "2   9.063047e+06\n",
       "3   7.857392e+06\n",
       "4   8.041461e+06\n",
       "5   7.893129e+06\n",
       "6   5.023961e+06\n",
       "7   9.839294e+05\n",
       "8   4.200669e+06\n",
       "9   1.236724e+06\n",
       "10  2.637004e+06\n",
       "11  3.730155e+06\n",
       "12  1.729912e+06\n",
       "13  4.420425e+06\n",
       "14  3.609270e+06\n",
       "15  5.867516e+06\n",
       "16  1.091849e+06\n",
       "17  0.000000e+00\n",
       "18  0.000000e+00\n",
       "19  0.000000e+00\n",
       "20  0.000000e+00\n",
       "21  0.000000e+00\n",
       "22  0.000000e+00\n",
       "23  3.553797e+06\n",
       "24  1.054584e+07"
      ]
     },
     "execution_count": 21,
     "metadata": {},
     "output_type": "execute_result"
    }
   ],
   "source": [
    "Pgen_df = ext_pyomo_vals(model.Pgen)\n",
    "\n",
    "Pgen_df"
   ]
  },
  {
   "cell_type": "code",
   "execution_count": 22,
   "id": "b4f36898",
   "metadata": {
    "ExecuteTime": {
     "end_time": "2023-01-24T15:33:43.784342Z",
     "start_time": "2023-01-24T15:33:43.769341Z"
    },
    "pycharm": {
     "name": "#%%\n"
    }
   },
   "outputs": [
    {
     "data": {
      "text/html": [
       "<div>\n",
       "<style scoped>\n",
       "    .dataframe tbody tr th:only-of-type {\n",
       "        vertical-align: middle;\n",
       "    }\n",
       "\n",
       "    .dataframe tbody tr th {\n",
       "        vertical-align: top;\n",
       "    }\n",
       "\n",
       "    .dataframe thead th {\n",
       "        text-align: right;\n",
       "    }\n",
       "</style>\n",
       "<table border=\"1\" class=\"dataframe\">\n",
       "  <thead>\n",
       "    <tr style=\"text-align: right;\">\n",
       "      <th></th>\n",
       "      <th>0</th>\n",
       "    </tr>\n",
       "  </thead>\n",
       "  <tbody>\n",
       "    <tr>\n",
       "      <th>1</th>\n",
       "      <td>5.202029e+06</td>\n",
       "    </tr>\n",
       "    <tr>\n",
       "      <th>2</th>\n",
       "      <td>5.864105e+06</td>\n",
       "    </tr>\n",
       "    <tr>\n",
       "      <th>3</th>\n",
       "      <td>5.383119e+06</td>\n",
       "    </tr>\n",
       "    <tr>\n",
       "      <th>4</th>\n",
       "      <td>4.117823e+06</td>\n",
       "    </tr>\n",
       "    <tr>\n",
       "      <th>5</th>\n",
       "      <td>3.434997e+06</td>\n",
       "    </tr>\n",
       "    <tr>\n",
       "      <th>6</th>\n",
       "      <td>4.004192e+06</td>\n",
       "    </tr>\n",
       "    <tr>\n",
       "      <th>7</th>\n",
       "      <td>5.191122e+06</td>\n",
       "    </tr>\n",
       "    <tr>\n",
       "      <th>8</th>\n",
       "      <td>4.282210e+06</td>\n",
       "    </tr>\n",
       "    <tr>\n",
       "      <th>9</th>\n",
       "      <td>4.371468e+06</td>\n",
       "    </tr>\n",
       "    <tr>\n",
       "      <th>10</th>\n",
       "      <td>3.906558e+06</td>\n",
       "    </tr>\n",
       "    <tr>\n",
       "      <th>11</th>\n",
       "      <td>3.486552e+06</td>\n",
       "    </tr>\n",
       "    <tr>\n",
       "      <th>12</th>\n",
       "      <td>3.691903e+06</td>\n",
       "    </tr>\n",
       "    <tr>\n",
       "      <th>13</th>\n",
       "      <td>4.118951e+06</td>\n",
       "    </tr>\n",
       "    <tr>\n",
       "      <th>14</th>\n",
       "      <td>5.561970e+06</td>\n",
       "    </tr>\n",
       "    <tr>\n",
       "      <th>15</th>\n",
       "      <td>6.102671e+06</td>\n",
       "    </tr>\n",
       "    <tr>\n",
       "      <th>16</th>\n",
       "      <td>9.494741e+06</td>\n",
       "    </tr>\n",
       "    <tr>\n",
       "      <th>17</th>\n",
       "      <td>1.218563e+07</td>\n",
       "    </tr>\n",
       "    <tr>\n",
       "      <th>18</th>\n",
       "      <td>1.208855e+07</td>\n",
       "    </tr>\n",
       "    <tr>\n",
       "      <th>19</th>\n",
       "      <td>1.255179e+07</td>\n",
       "    </tr>\n",
       "    <tr>\n",
       "      <th>20</th>\n",
       "      <td>1.235324e+07</td>\n",
       "    </tr>\n",
       "    <tr>\n",
       "      <th>21</th>\n",
       "      <td>1.072364e+07</td>\n",
       "    </tr>\n",
       "    <tr>\n",
       "      <th>22</th>\n",
       "      <td>9.259148e+06</td>\n",
       "    </tr>\n",
       "    <tr>\n",
       "      <th>23</th>\n",
       "      <td>7.937077e+06</td>\n",
       "    </tr>\n",
       "    <tr>\n",
       "      <th>24</th>\n",
       "      <td>5.236647e+06</td>\n",
       "    </tr>\n",
       "  </tbody>\n",
       "</table>\n",
       "</div>"
      ],
      "text/plain": [
       "               0\n",
       "1   5.202029e+06\n",
       "2   5.864105e+06\n",
       "3   5.383119e+06\n",
       "4   4.117823e+06\n",
       "5   3.434997e+06\n",
       "6   4.004192e+06\n",
       "7   5.191122e+06\n",
       "8   4.282210e+06\n",
       "9   4.371468e+06\n",
       "10  3.906558e+06\n",
       "11  3.486552e+06\n",
       "12  3.691903e+06\n",
       "13  4.118951e+06\n",
       "14  5.561970e+06\n",
       "15  6.102671e+06\n",
       "16  9.494741e+06\n",
       "17  1.218563e+07\n",
       "18  1.208855e+07\n",
       "19  1.255179e+07\n",
       "20  1.235324e+07\n",
       "21  1.072364e+07\n",
       "22  9.259148e+06\n",
       "23  7.937077e+06\n",
       "24  5.236647e+06"
      ]
     },
     "execution_count": 22,
     "metadata": {},
     "output_type": "execute_result"
    }
   ],
   "source": [
    "Pres_df = ext_pyomo_vals(model.Pres)\n",
    "\n",
    "Pres_df"
   ]
  },
  {
   "cell_type": "code",
   "execution_count": 23,
   "id": "1a4b0a42",
   "metadata": {
    "ExecuteTime": {
     "end_time": "2023-01-24T17:05:54.186160Z",
     "start_time": "2023-01-24T17:05:53.606148Z"
    },
    "pycharm": {
     "name": "#%%\n"
    }
   },
   "outputs": [],
   "source": [
    "Etriprelax_df = ext_pyomo_vals(model.Etriprelax)"
   ]
  },
  {
   "cell_type": "code",
   "execution_count": 24,
   "id": "d05a167f",
   "metadata": {
    "ExecuteTime": {
     "end_time": "2023-01-24T17:05:58.282343Z",
     "start_time": "2023-01-24T17:05:58.200339Z"
    },
    "pycharm": {
     "name": "#%%\n"
    }
   },
   "outputs": [
    {
     "data": {
      "text/plain": [
       "1          0.000000\n",
       "2          0.000000\n",
       "3          0.000000\n",
       "4          0.000000\n",
       "5          0.000000\n",
       "6          0.000000\n",
       "7          0.000000\n",
       "8          0.000000\n",
       "9          0.000000\n",
       "10         0.000000\n",
       "11         0.000000\n",
       "12         0.000000\n",
       "13         0.000000\n",
       "14         0.000000\n",
       "15      1352.438457\n",
       "16         0.000000\n",
       "17     12097.491539\n",
       "18         0.000000\n",
       "19         0.000000\n",
       "20     18756.184082\n",
       "21     18453.018544\n",
       "22     35142.554101\n",
       "23     22334.812330\n",
       "24    480151.085585\n",
       "dtype: float64"
      ]
     },
     "execution_count": 24,
     "metadata": {},
     "output_type": "execute_result"
    }
   ],
   "source": [
    "Etriprelax_df.sum()"
   ]
  },
  {
   "cell_type": "code",
   "execution_count": 25,
   "id": "31b6567e",
   "metadata": {
    "ExecuteTime": {
     "end_time": "2023-01-24T17:06:03.871600Z",
     "start_time": "2023-01-24T17:06:03.713595Z"
    },
    "pycharm": {
     "name": "#%%\n"
    }
   },
   "outputs": [],
   "source": [
    "Eminsocrelax_df = ext_pyomo_vals(model.Eminsocrelax)"
   ]
  },
  {
   "cell_type": "code",
   "execution_count": 26,
   "id": "5b7336ec",
   "metadata": {
    "ExecuteTime": {
     "end_time": "2023-01-24T17:06:08.648805Z",
     "start_time": "2023-01-24T17:06:08.637805Z"
    },
    "pycharm": {
     "name": "#%%\n"
    }
   },
   "outputs": [
    {
     "data": {
      "text/plain": [
       "1     0.0\n",
       "2     0.0\n",
       "3     0.0\n",
       "4     0.0\n",
       "5     0.0\n",
       "6     0.0\n",
       "7     0.0\n",
       "8     0.0\n",
       "9     0.0\n",
       "10    0.0\n",
       "11    0.0\n",
       "12    0.0\n",
       "13    0.0\n",
       "14    0.0\n",
       "15    0.0\n",
       "16    0.0\n",
       "17    0.0\n",
       "18    0.0\n",
       "19    0.0\n",
       "20    0.0\n",
       "21    0.0\n",
       "22    0.0\n",
       "23    0.0\n",
       "24    0.0\n",
       "dtype: float64"
      ]
     },
     "execution_count": 26,
     "metadata": {},
     "output_type": "execute_result"
    }
   ],
   "source": [
    "Eminsocrelax_df.sum()"
   ]
  },
  {
   "cell_type": "code",
   "execution_count": 27,
   "id": "af611526",
   "metadata": {
    "ExecuteTime": {
     "end_time": "2023-01-24T17:06:15.053089Z",
     "start_time": "2023-01-24T17:06:14.903084Z"
    },
    "pycharm": {
     "name": "#%%\n"
    }
   },
   "outputs": [],
   "source": [
    "Etripn_df = ext_pyomo_vals(model.Etripn)"
   ]
  },
  {
   "cell_type": "code",
   "execution_count": 28,
   "id": "2d67466a",
   "metadata": {
    "ExecuteTime": {
     "end_time": "2023-01-24T17:06:19.409280Z",
     "start_time": "2023-01-24T17:06:19.391279Z"
    },
    "pycharm": {
     "name": "#%%\n"
    }
   },
   "outputs": [
    {
     "data": {
      "text/plain": [
       "1     3.012639e+06\n",
       "2     1.166828e+05\n",
       "3     5.611484e+04\n",
       "4     1.747803e+04\n",
       "5     7.542035e+03\n",
       "6     1.218573e+04\n",
       "7     1.022651e+04\n",
       "8     1.182157e+04\n",
       "9     0.000000e+00\n",
       "10    1.878932e+06\n",
       "11    4.450396e+06\n",
       "12    0.000000e+00\n",
       "13    2.402219e+06\n",
       "14    9.198751e+06\n",
       "15    4.185460e+06\n",
       "16    4.260775e+06\n",
       "17    1.203396e+06\n",
       "18    2.595200e+06\n",
       "19    7.924992e+05\n",
       "20    2.940490e+06\n",
       "21    3.307096e+06\n",
       "22    2.922840e+06\n",
       "23    3.333886e+06\n",
       "24    1.150694e+07\n",
       "dtype: float64"
      ]
     },
     "execution_count": 28,
     "metadata": {},
     "output_type": "execute_result"
    }
   ],
   "source": [
    "Etripn_df.sum()"
   ]
  },
  {
   "cell_type": "code",
   "execution_count": 29,
   "id": "e371541d",
   "metadata": {
    "pycharm": {
     "name": "#%%\n"
    }
   },
   "outputs": [],
   "source": [
    "Pex_df = ext_pyomo_vals(model.Pex)"
   ]
  },
  {
   "cell_type": "code",
   "execution_count": 30,
   "id": "5d7863e8",
   "metadata": {
    "pycharm": {
     "name": "#%%\n"
    }
   },
   "outputs": [
    {
     "data": {
      "text/html": [
       "<div>\n",
       "<style scoped>\n",
       "    .dataframe tbody tr th:only-of-type {\n",
       "        vertical-align: middle;\n",
       "    }\n",
       "\n",
       "    .dataframe tbody tr th {\n",
       "        vertical-align: top;\n",
       "    }\n",
       "\n",
       "    .dataframe thead th {\n",
       "        text-align: right;\n",
       "    }\n",
       "</style>\n",
       "<table border=\"1\" class=\"dataframe\">\n",
       "  <thead>\n",
       "    <tr style=\"text-align: right;\">\n",
       "      <th></th>\n",
       "      <th>0</th>\n",
       "    </tr>\n",
       "  </thead>\n",
       "  <tbody>\n",
       "    <tr>\n",
       "      <th>1</th>\n",
       "      <td>0.0</td>\n",
       "    </tr>\n",
       "    <tr>\n",
       "      <th>2</th>\n",
       "      <td>0.0</td>\n",
       "    </tr>\n",
       "    <tr>\n",
       "      <th>3</th>\n",
       "      <td>0.0</td>\n",
       "    </tr>\n",
       "    <tr>\n",
       "      <th>4</th>\n",
       "      <td>0.0</td>\n",
       "    </tr>\n",
       "    <tr>\n",
       "      <th>5</th>\n",
       "      <td>0.0</td>\n",
       "    </tr>\n",
       "    <tr>\n",
       "      <th>6</th>\n",
       "      <td>0.0</td>\n",
       "    </tr>\n",
       "    <tr>\n",
       "      <th>7</th>\n",
       "      <td>0.0</td>\n",
       "    </tr>\n",
       "    <tr>\n",
       "      <th>8</th>\n",
       "      <td>0.0</td>\n",
       "    </tr>\n",
       "    <tr>\n",
       "      <th>9</th>\n",
       "      <td>0.0</td>\n",
       "    </tr>\n",
       "    <tr>\n",
       "      <th>10</th>\n",
       "      <td>0.0</td>\n",
       "    </tr>\n",
       "    <tr>\n",
       "      <th>11</th>\n",
       "      <td>0.0</td>\n",
       "    </tr>\n",
       "    <tr>\n",
       "      <th>12</th>\n",
       "      <td>0.0</td>\n",
       "    </tr>\n",
       "    <tr>\n",
       "      <th>13</th>\n",
       "      <td>0.0</td>\n",
       "    </tr>\n",
       "    <tr>\n",
       "      <th>14</th>\n",
       "      <td>0.0</td>\n",
       "    </tr>\n",
       "    <tr>\n",
       "      <th>15</th>\n",
       "      <td>0.0</td>\n",
       "    </tr>\n",
       "    <tr>\n",
       "      <th>16</th>\n",
       "      <td>0.0</td>\n",
       "    </tr>\n",
       "    <tr>\n",
       "      <th>17</th>\n",
       "      <td>0.0</td>\n",
       "    </tr>\n",
       "    <tr>\n",
       "      <th>18</th>\n",
       "      <td>0.0</td>\n",
       "    </tr>\n",
       "    <tr>\n",
       "      <th>19</th>\n",
       "      <td>0.0</td>\n",
       "    </tr>\n",
       "    <tr>\n",
       "      <th>20</th>\n",
       "      <td>0.0</td>\n",
       "    </tr>\n",
       "    <tr>\n",
       "      <th>21</th>\n",
       "      <td>0.0</td>\n",
       "    </tr>\n",
       "    <tr>\n",
       "      <th>22</th>\n",
       "      <td>0.0</td>\n",
       "    </tr>\n",
       "    <tr>\n",
       "      <th>23</th>\n",
       "      <td>0.0</td>\n",
       "    </tr>\n",
       "    <tr>\n",
       "      <th>24</th>\n",
       "      <td>0.0</td>\n",
       "    </tr>\n",
       "  </tbody>\n",
       "</table>\n",
       "</div>"
      ],
      "text/plain": [
       "      0\n",
       "1   0.0\n",
       "2   0.0\n",
       "3   0.0\n",
       "4   0.0\n",
       "5   0.0\n",
       "6   0.0\n",
       "7   0.0\n",
       "8   0.0\n",
       "9   0.0\n",
       "10  0.0\n",
       "11  0.0\n",
       "12  0.0\n",
       "13  0.0\n",
       "14  0.0\n",
       "15  0.0\n",
       "16  0.0\n",
       "17  0.0\n",
       "18  0.0\n",
       "19  0.0\n",
       "20  0.0\n",
       "21  0.0\n",
       "22  0.0\n",
       "23  0.0\n",
       "24  0.0"
      ]
     },
     "execution_count": 30,
     "metadata": {},
     "output_type": "execute_result"
    }
   ],
   "source": [
    "Pex_df"
   ]
  },
  {
   "cell_type": "code",
   "execution_count": 31,
   "id": "1550e3a1",
   "metadata": {},
   "outputs": [],
   "source": [
    "Pbio_df = ext_pyomo_vals(model.Pbio)"
   ]
  },
  {
   "cell_type": "code",
   "execution_count": 32,
   "id": "f3e8b4ac",
   "metadata": {},
   "outputs": [
    {
     "data": {
      "text/html": [
       "<div>\n",
       "<style scoped>\n",
       "    .dataframe tbody tr th:only-of-type {\n",
       "        vertical-align: middle;\n",
       "    }\n",
       "\n",
       "    .dataframe tbody tr th {\n",
       "        vertical-align: top;\n",
       "    }\n",
       "\n",
       "    .dataframe thead th {\n",
       "        text-align: right;\n",
       "    }\n",
       "</style>\n",
       "<table border=\"1\" class=\"dataframe\">\n",
       "  <thead>\n",
       "    <tr style=\"text-align: right;\">\n",
       "      <th></th>\n",
       "      <th>0</th>\n",
       "    </tr>\n",
       "  </thead>\n",
       "  <tbody>\n",
       "    <tr>\n",
       "      <th>1</th>\n",
       "      <td>538066.6667</td>\n",
       "    </tr>\n",
       "    <tr>\n",
       "      <th>2</th>\n",
       "      <td>502133.3333</td>\n",
       "    </tr>\n",
       "    <tr>\n",
       "      <th>3</th>\n",
       "      <td>493577.7778</td>\n",
       "    </tr>\n",
       "    <tr>\n",
       "      <th>4</th>\n",
       "      <td>492488.8889</td>\n",
       "    </tr>\n",
       "    <tr>\n",
       "      <th>5</th>\n",
       "      <td>508977.7778</td>\n",
       "    </tr>\n",
       "    <tr>\n",
       "      <th>6</th>\n",
       "      <td>415955.5556</td>\n",
       "    </tr>\n",
       "    <tr>\n",
       "      <th>7</th>\n",
       "      <td>553000.0000</td>\n",
       "    </tr>\n",
       "    <tr>\n",
       "      <th>8</th>\n",
       "      <td>562800.0000</td>\n",
       "    </tr>\n",
       "    <tr>\n",
       "      <th>9</th>\n",
       "      <td>562800.0000</td>\n",
       "    </tr>\n",
       "    <tr>\n",
       "      <th>10</th>\n",
       "      <td>554555.5556</td>\n",
       "    </tr>\n",
       "    <tr>\n",
       "      <th>11</th>\n",
       "      <td>520333.3333</td>\n",
       "    </tr>\n",
       "    <tr>\n",
       "      <th>12</th>\n",
       "      <td>513177.7778</td>\n",
       "    </tr>\n",
       "    <tr>\n",
       "      <th>13</th>\n",
       "      <td>526244.4444</td>\n",
       "    </tr>\n",
       "    <tr>\n",
       "      <th>14</th>\n",
       "      <td>535577.7778</td>\n",
       "    </tr>\n",
       "    <tr>\n",
       "      <th>15</th>\n",
       "      <td>536355.5556</td>\n",
       "    </tr>\n",
       "    <tr>\n",
       "      <th>16</th>\n",
       "      <td>546000.0000</td>\n",
       "    </tr>\n",
       "    <tr>\n",
       "      <th>17</th>\n",
       "      <td>522822.2222</td>\n",
       "    </tr>\n",
       "    <tr>\n",
       "      <th>18</th>\n",
       "      <td>521733.3333</td>\n",
       "    </tr>\n",
       "    <tr>\n",
       "      <th>19</th>\n",
       "      <td>532933.3333</td>\n",
       "    </tr>\n",
       "    <tr>\n",
       "      <th>20</th>\n",
       "      <td>530755.5556</td>\n",
       "    </tr>\n",
       "    <tr>\n",
       "      <th>21</th>\n",
       "      <td>432288.8889</td>\n",
       "    </tr>\n",
       "    <tr>\n",
       "      <th>22</th>\n",
       "      <td>494200.0000</td>\n",
       "    </tr>\n",
       "    <tr>\n",
       "      <th>23</th>\n",
       "      <td>554088.8889</td>\n",
       "    </tr>\n",
       "    <tr>\n",
       "      <th>24</th>\n",
       "      <td>558911.1111</td>\n",
       "    </tr>\n",
       "  </tbody>\n",
       "</table>\n",
       "</div>"
      ],
      "text/plain": [
       "              0\n",
       "1   538066.6667\n",
       "2   502133.3333\n",
       "3   493577.7778\n",
       "4   492488.8889\n",
       "5   508977.7778\n",
       "6   415955.5556\n",
       "7   553000.0000\n",
       "8   562800.0000\n",
       "9   562800.0000\n",
       "10  554555.5556\n",
       "11  520333.3333\n",
       "12  513177.7778\n",
       "13  526244.4444\n",
       "14  535577.7778\n",
       "15  536355.5556\n",
       "16  546000.0000\n",
       "17  522822.2222\n",
       "18  521733.3333\n",
       "19  532933.3333\n",
       "20  530755.5556\n",
       "21  432288.8889\n",
       "22  494200.0000\n",
       "23  554088.8889\n",
       "24  558911.1111"
      ]
     },
     "execution_count": 32,
     "metadata": {},
     "output_type": "execute_result"
    }
   ],
   "source": [
    "Pbio_df"
   ]
  },
  {
   "cell_type": "markdown",
   "id": "a68903ef",
   "metadata": {
    "pycharm": {
     "name": "#%% md\n"
    }
   },
   "source": [
    "## Save results in csv files"
   ]
  },
  {
   "cell_type": "code",
   "execution_count": 33,
   "id": "4f916d41",
   "metadata": {
    "ExecuteTime": {
     "end_time": "2023-01-24T17:22:26.847469Z",
     "start_time": "2023-01-24T17:22:26.673463Z"
    },
    "pycharm": {
     "name": "#%%\n"
    }
   },
   "outputs": [],
   "source": [
    "import os \n",
    "folder = 'results_RES_' + str(n_evs)\n",
    "\n",
    "if not os.path.exists(folder):\n",
    "    os.makedirs(folder)\n",
    "    \n",
    "EEV_df.to_csv(folder + '/EEV.csv')\n",
    "PEV_df.to_csv(folder + '/PEV.csv')\n",
    "PEV_df.sum().to_csv(folder + '/PEV_h.csv')\n",
    "\n",
    "Etriprelax_df.to_csv(folder + '/Etriprelax.csv')\n",
    "Etriprelax_df.sum().to_csv(folder + '/Etriprelax_h.csv')\n",
    "\n",
    "Eminsocrelax_df.to_csv(folder + '/Eminsocrelax.csv')\n",
    "Eminsocrelax_df.sum().to_csv(folder + '/Eminsocrelax_h.csv')\n",
    "\n",
    "Etripn_df.to_csv(folder + '/Etripn.csv')\n",
    "Etripn_df.sum().to_csv(folder + '/Etripn_h.csv')\n",
    "\n",
    "Pgen_df.to_csv(folder + '/Pgen.csv')\n",
    "Pres_df.to_csv(folder + '/Pres.csv')\n",
    "Pex_df.to_csv(folder + '/Pex.csv')"
   ]
  },
  {
   "cell_type": "code",
   "execution_count": null,
   "id": "b9e00ba6",
   "metadata": {
    "pycharm": {
     "name": "#%%\n"
    }
   },
   "outputs": [],
   "source": []
  },
  {
   "cell_type": "code",
   "execution_count": null,
   "id": "031e8f77",
   "metadata": {
    "pycharm": {
     "name": "#%%\n"
    }
   },
   "outputs": [],
   "source": []
  }
 ],
 "metadata": {
  "kernelspec": {
   "display_name": "Python 3 (ipykernel)",
   "language": "python",
   "name": "python3"
  },
  "language_info": {
   "codemirror_mode": {
    "name": "ipython",
    "version": 3
   },
   "file_extension": ".py",
   "mimetype": "text/x-python",
   "name": "python",
   "nbconvert_exporter": "python",
   "pygments_lexer": "ipython3",
   "version": "3.10.11"
  },
  "toc": {
   "base_numbering": 1,
   "nav_menu": {},
   "number_sections": true,
   "sideBar": true,
   "skip_h1_title": false,
   "title_cell": "Table of Contents",
   "title_sidebar": "Contents",
   "toc_cell": false,
   "toc_position": {},
   "toc_section_display": true,
   "toc_window_display": false
  }
 },
 "nbformat": 4,
 "nbformat_minor": 5
}
