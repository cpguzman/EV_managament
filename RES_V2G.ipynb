{
 "cells": [
  {
   "cell_type": "markdown",
   "id": "1dedb32b",
   "metadata": {
    "pycharm": {
     "name": "#%% md\n"
    }
   },
   "source": [
    "## Import packages"
   ]
  },
  {
   "cell_type": "code",
   "execution_count": 1,
   "id": "abe7d3e4",
   "metadata": {
    "ExecuteTime": {
     "end_time": "2023-01-24T15:39:46.857427Z",
     "start_time": "2023-01-24T15:39:45.859401Z"
    },
    "pycharm": {
     "name": "#%%\n"
    }
   },
   "outputs": [],
   "source": [
    "import pyomo\n",
    "import pyomo.opt\n",
    "import pyomo.environ as pyo\n",
    "import numpy as np\n",
    "import pandas as pd\n",
    "import matplotlib as plt"
   ]
  },
  {
   "cell_type": "code",
   "execution_count": 2,
   "id": "720fe587",
   "metadata": {
    "ExecuteTime": {
     "end_time": "2023-01-24T15:39:46.867427Z",
     "start_time": "2023-01-24T15:39:46.857427Z"
    },
    "pycharm": {
     "name": "#%%\n"
    }
   },
   "outputs": [],
   "source": [
    "n_time = 24\n",
    "country = \"Portugal\"; # Possible options: Portugal, Slovenia, Greece, Denmark, this if apply only to Slovenia and Denmark, because both countries have biomass"
   ]
  },
  {
   "cell_type": "code",
   "execution_count": 3,
   "id": "edcaa475",
   "metadata": {
    "ExecuteTime": {
     "end_time": "2023-01-24T15:39:46.880427Z",
     "start_time": "2023-01-24T15:39:46.867427Z"
    },
    "pycharm": {
     "name": "#%%\n"
    }
   },
   "outputs": [],
   "source": [
    "def _auxDictionary(a):\n",
    "    temp_dictionary = {}\n",
    "    if len(a.shape) == 3:\n",
    "        for dim0 in np.arange(a.shape[0]):\n",
    "            for dim1 in np.arange(a.shape[1]):\n",
    "                for dim2 in np.arange(a.shape[2]):\n",
    "                    temp_dictionary[(dim0+1, dim1+1, dim2+1)] = a[dim0, dim1, dim2]\n",
    "    elif len(a.shape) == 2:\n",
    "        for dim0 in np.arange(a.shape[0]):\n",
    "            for dim1 in np.arange(a.shape[1]):\n",
    "                temp_dictionary[(dim0+1, dim1+1)] = a[dim0, dim1]\n",
    "    else:\n",
    "        for dim0 in np.arange(a.shape[0]):\n",
    "            temp_dictionary[(dim0+1)] = a[dim0]\n",
    "    return temp_dictionary\n",
    "#temp_dict1 = _auxDictionary(loadLimit)"
   ]
  },
  {
   "cell_type": "markdown",
   "id": "49a97544",
   "metadata": {
    "pycharm": {
     "name": "#%% md\n"
    }
   },
   "source": [
    "## Data"
   ]
  },
  {
   "cell_type": "code",
   "execution_count": 4,
   "id": "43e8f328",
   "metadata": {
    "ExecuteTime": {
     "end_time": "2023-01-24T15:39:46.912429Z",
     "start_time": "2023-01-24T15:39:46.883428Z"
    },
    "pycharm": {
     "name": "#%%\n"
    }
   },
   "outputs": [],
   "source": [
    "data = {}\n",
    "data['Inputs'] = pd.read_csv('Inputs.csv')\n",
    "data['EVs_Inputs'] = pd.read_csv('EVs_Inputs.csv')\n",
    "data['alpha'] = pd.read_csv('alpha.csv')\n",
    "data['PchmaxEV'] = pd.read_csv('PchmaxEV.csv')\n",
    "data['S'] = pd.read_csv('S.csv')"
   ]
  },
  {
   "cell_type": "code",
   "execution_count": 5,
   "id": "bc37a833",
   "metadata": {
    "ExecuteTime": {
     "end_time": "2023-01-24T15:39:46.918430Z",
     "start_time": "2023-01-24T15:39:46.914429Z"
    },
    "pycharm": {
     "name": "#%%\n"
    }
   },
   "outputs": [],
   "source": [
    "n_evs = data['EVs_Inputs']['Esoc'].size"
   ]
  },
  {
   "cell_type": "markdown",
   "id": "98424122",
   "metadata": {
    "pycharm": {
     "name": "#%% md\n"
    }
   },
   "source": [
    "## Start Time"
   ]
  },
  {
   "cell_type": "code",
   "execution_count": 6,
   "id": "e4c307dd",
   "metadata": {
    "pycharm": {
     "name": "#%%\n"
    }
   },
   "outputs": [
    {
     "name": "stdout",
     "output_type": "stream",
     "text": [
      "Start Time = 08:14:35\n"
     ]
    }
   ],
   "source": [
    "from datetime import datetime\n",
    "\n",
    "now = datetime.now()\n",
    "\n",
    "start_time = now.strftime(\"%H:%M:%S\")\n",
    "print(\"Start Time =\", start_time)"
   ]
  },
  {
   "cell_type": "markdown",
   "id": "36d9c022",
   "metadata": {
    "pycharm": {
     "name": "#%% md\n"
    }
   },
   "source": [
    "## Sets"
   ]
  },
  {
   "cell_type": "code",
   "execution_count": 7,
   "id": "e4555e9b",
   "metadata": {
    "ExecuteTime": {
     "end_time": "2023-01-24T15:39:46.930430Z",
     "start_time": "2023-01-24T15:39:46.920430Z"
    },
    "pycharm": {
     "name": "#%%\n"
    }
   },
   "outputs": [],
   "source": [
    "model = pyo.ConcreteModel()\n",
    "\n",
    "model.ev = pyo.Set(initialize = np.arange(1, n_evs + 1))\n",
    "model.t = pyo.Set(initialize = np.arange(1, n_time + 1))\n"
   ]
  },
  {
   "cell_type": "markdown",
   "id": "ae174622",
   "metadata": {
    "pycharm": {
     "name": "#%% md\n"
    }
   },
   "source": [
    "## Parameters"
   ]
  },
  {
   "cell_type": "code",
   "execution_count": 8,
   "id": "f8d4a6d9",
   "metadata": {
    "ExecuteTime": {
     "end_time": "2023-01-24T15:39:48.321465Z",
     "start_time": "2023-01-24T15:39:46.932430Z"
    },
    "pycharm": {
     "name": "#%%\n"
    }
   },
   "outputs": [],
   "source": [
    "model.EEVmax = pyo.Param(model.ev, initialize =_auxDictionary(data['EVs_Inputs'].to_numpy()[:,2]))\n",
    "model.EEVmin = pyo.Param(model.ev, initialize =_auxDictionary(data['EVs_Inputs'].to_numpy()[:,1]))\n",
    "model.ESoc = pyo.Param(model.ev, initialize =_auxDictionary(data['EVs_Inputs'].to_numpy()[:,0]))\n",
    "model.dT = pyo.Param(model.t, initialize =_auxDictionary(data['Inputs'].to_numpy()[:,0]))\n",
    "model.cDA = pyo.Param(model.t, initialize =_auxDictionary(data['Inputs'].to_numpy()[:,1]))\n",
    "model.Pl = pyo.Param(model.t, initialize =_auxDictionary(data['Inputs'].to_numpy()[:,2]))\n",
    "model.Php = pyo.Param(model.t, initialize =_auxDictionary(data['Inputs'].to_numpy()[:,3]))\n",
    "model.Pb = pyo.Param(model.t, initialize =_auxDictionary(data['Inputs'].to_numpy()[:,4]))\n",
    "model.Pimp = pyo.Param(model.t, initialize =_auxDictionary(data['Inputs'].to_numpy()[:,5]))\n",
    "model.Ppv = pyo.Param(model.t, initialize =_auxDictionary(data['Inputs'].to_numpy()[:,6]))\n",
    "model.Pwind = pyo.Param(model.t, initialize =_auxDictionary(data['Inputs'].to_numpy()[:,7]))\n",
    "model.Phid = pyo.Param(model.t, initialize =_auxDictionary(data['Inputs'].to_numpy()[:,8]))\n",
    "model.Pbio = pyo.Param(model.t, initialize =_auxDictionary(data['Inputs'].to_numpy()[:,9]))\n",
    "model.PchmaxEV = pyo.Param(model.ev, model.t, initialize =_auxDictionary(data['PchmaxEV'].to_numpy()))\n",
    "model.S = pyo.Param(model.ev, model.t, initialize = _auxDictionary(data['S'].to_numpy()))\n",
    "model.alpha = pyo.Param(model.ev, model.t, initialize = _auxDictionary(data['alpha'].to_numpy()))\n",
    "model.RealHour = pyo.Param(model.t, initialize=_auxDictionary(data['Inputs'].to_numpy()[:,9]))\n",
    "model.penalty1 = 1000\n",
    "model.penalty2 = 1000\n",
    "model.penalty3 = 0.6\n",
    "model.Etrip = pyo.Param(model.ev, initialize=_auxDictionary(data['EVs_Inputs'].to_numpy()[:,3]))\n",
    "model.n = 0.95\n",
    "model.m = 0.6\n",
    "model.factor = 1"
   ]
  },
  {
   "cell_type": "markdown",
   "id": "e70de65e",
   "metadata": {
    "pycharm": {
     "name": "#%% md\n"
    }
   },
   "source": [
    "## Variables"
   ]
  },
  {
   "cell_type": "code",
   "execution_count": 9,
   "id": "3ca272c3",
   "metadata": {
    "ExecuteTime": {
     "end_time": "2023-01-24T15:39:48.634483Z",
     "start_time": "2023-01-24T15:39:48.321465Z"
    },
    "pycharm": {
     "name": "#%%\n"
    }
   },
   "outputs": [],
   "source": [
    "model.PEV = pyo.Var(model.ev, model.t, domain = pyo.NonNegativeReals, initialize = 0)\n",
    "model.PEVdc = pyo.Var(model.ev, model.t, domain = pyo.NonNegativeReals, initialize = 0)\n",
    "model.EEV = pyo.Var(model.ev, model.t, domain = pyo.Reals, initialize = 0)\n",
    "model.Etriprelax = pyo.Var(model.ev, model.t, domain = pyo.NonNegativeReals, initialize = 0)\n",
    "model.Eminsocrelax = pyo.Var(model.ev, model.t, domain = pyo.NonNegativeReals, initialize = 0)\n",
    "model.Etripn = pyo.Var(model.ev, model.t, domain = pyo.Reals, initialize = 0)\n",
    "model.Pgen = pyo.Var(model.t, domain = pyo.NonNegativeReals, initialize = 0)\n",
    "model.Pres = pyo.Var(model.t, domain = pyo.NonNegativeReals, initialize = 0)\n",
    "model.Pex = pyo.Var(model.t, domain = pyo.NonNegativeReals, initialize = 0)"
   ]
  },
  {
   "cell_type": "markdown",
   "id": "0b623462",
   "metadata": {
    "pycharm": {
     "name": "#%% md\n"
    }
   },
   "source": [
    "## Constraints"
   ]
  },
  {
   "cell_type": "code",
   "execution_count": 10,
   "id": "b5e2758b",
   "metadata": {
    "ExecuteTime": {
     "end_time": "2023-01-24T15:39:54.308526Z",
     "start_time": "2023-01-24T15:39:48.636483Z"
    },
    "pycharm": {
     "name": "#%%\n"
    }
   },
   "outputs": [],
   "source": [
    "def _balance_etripn(m,ev,t): \n",
    "    return m.Etripn[ev,t] == m.Etrip[ev]*m.S[ev,t]/(sum([m.S[ev,k] for k in np.arange(1, n_time + 1)]))\n",
    "model.balance_etripn = pyo.Constraint(model.ev, model.t, rule = _balance_etripn)\n",
    "\n",
    "def _balance_energy_EVS3(m,ev,t): \n",
    "    if t == 24:\n",
    "        return m.EEV[ev,t] + m.Etriprelax[ev,t] >= m.EEVmax[ev]*m.m\n",
    "    return pyo.Constraint.Skip\n",
    "model.balance_energy_EVS3 = pyo.Constraint(model.ev, model.t, rule = _balance_energy_EVS3)\n",
    "\n",
    "def _balance_energy_EVS(m,ev,t): \n",
    "    if t == 1:\n",
    "        return m.EEV[ev,t] - m.Etriprelax[ev,t] == m.ESoc[ev] + m.PEV[ev,t]*m.dT[t]*m.n - m.PEVdc[ev,t]*m.dT[t]/m.n - m.Etripn[ev,t]\n",
    "    return pyo.Constraint.Skip\n",
    "model.balance_energy_EVS = pyo.Constraint(model.ev, model.t, rule = _balance_energy_EVS)\n",
    "\n",
    "def _balance_energy_EVS2(m,ev,t): \n",
    "    if t > 1:\n",
    "        return m.EEV[ev,t] - m.Etriprelax[ev,t] == m.EEV[ev,t-1] + m.PEV[ev,t]*m.dT[t]*m.n - m.PEVdc[ev,t]*m.dT[t]/m.n - m.Etripn[ev,t]\n",
    "    return pyo.Constraint.Skip\n",
    "model.balance_energy_EVS2 = pyo.Constraint(model.ev, model.t, rule = _balance_energy_EVS2)\n",
    "\n",
    "def _RES_balance(m,t):\n",
    "    return m.Pres[t] == m.Pwind[t] + m.Ppv[t] + m.Phid[t] + m.Pbio[t]\n",
    "model.RES_balance = pyo.Constraint(model.t, rule = _RES_balance)\n",
    "\n",
    "def _total_balance(m,t):\n",
    "    if (country == \"Slovenia\"):\n",
    "        return m.Pgen[t] + m.Pres[t] + m.Pimp[t] + sum(m.PEVdc[ev,t] for ev in np.arange(1, n_evs + 1)) - m.Pex[t] == m.Pl[t] + m.Pb[t]  + sum(m.PEV[ev, t] for ev in np.arange(1, n_evs + 1))\n",
    "    else:\n",
    "        return m.Pgen[t] + m.Pres[t] + m.Pimp[t] + sum(m.PEVdc[ev,t] for ev in np.arange(1, n_evs + 1)) - m.Pex[t] == m.Pl[t] + m.Pb[t] + sum(m.PEV[ev, t] for ev in np.arange(1, n_evs + 1))\n",
    "model.total_balance = pyo.Constraint(model.t, rule = _total_balance)\n",
    "\n",
    "def _power_charging_limit1(m,ev,t): \n",
    "    return m.PEV[ev,t] >= 0\n",
    "model.power_charging_limit1 = pyo.Constraint(model.ev, model.t, rule = _power_charging_limit1)\n",
    "\n",
    "def _power_charging_limit2(m,ev,t): \n",
    "    return m.PEV[ev,t] <= m.alpha[ev,t]*m.PchmaxEV[ev,t]*m.factor\n",
    "model.power_charging_limit2 = pyo.Constraint(model.ev, model.t, rule = _power_charging_limit2)\n",
    "\n",
    "def _power_discharging_limit2(m,ev,t): \n",
    "    return m.PEVdc[ev,t] <= m.alpha[ev,t]*m.PchmaxEV[ev,t]*m.factor\n",
    "model.power_discharging_limit2 = pyo.Constraint(model.ev, model.t, rule = _power_discharging_limit2)\n",
    "\n",
    "def _energy_limits_EVS_1(m,ev,t): \n",
    "    return m.EEVmin[ev] <= m.EEV[ev,t] + m.Eminsocrelax[ev,t]\n",
    "    #return m.EEVmin[ev] <= m.EEV[ev,t]\n",
    "model.energy_limits_EVS_1 = pyo.Constraint(model.ev, model.t, rule = _energy_limits_EVS_1)\n",
    "\n",
    "def _energy_limits_EVS_2(m,ev,t): \n",
    "    return m.EEV[ev,t] <= m.EEVmax[ev]\n",
    "model.energy_limits_EVS_2 = pyo.Constraint(model.ev, model.t, rule = _energy_limits_EVS_2)\n"
   ]
  },
  {
   "cell_type": "markdown",
   "id": "a85ae2b3",
   "metadata": {
    "pycharm": {
     "name": "#%% md\n"
    }
   },
   "source": [
    "## Objective function"
   ]
  },
  {
   "cell_type": "code",
   "execution_count": 11,
   "id": "965b822c",
   "metadata": {
    "ExecuteTime": {
     "end_time": "2023-01-24T15:39:54.630543Z",
     "start_time": "2023-01-24T15:39:54.308526Z"
    },
    "pycharm": {
     "name": "#%%\n"
    }
   },
   "outputs": [],
   "source": [
    "def _FOag(m):\n",
    "    return sum(m.Pgen[t] for t in np.arange(1, n_time + 1)) + sum([m.Etriprelax[ev,t]*m.penalty1 + m.Eminsocrelax[ev,t]*m.penalty2 for ev in np.arange(1, n_evs + 1) for t in np.arange(1, n_time + 1)])\n",
    "\n",
    "model.FOag = pyo.Objective(rule = _FOag, sense = pyo.minimize)"
   ]
  },
  {
   "cell_type": "markdown",
   "id": "b289b0f0",
   "metadata": {
    "pycharm": {
     "name": "#%% md\n"
    }
   },
   "source": [
    "## Solve the model"
   ]
  },
  {
   "cell_type": "code",
   "execution_count": 12,
   "id": "4ff0526e",
   "metadata": {
    "ExecuteTime": {
     "end_time": "2023-01-24T15:40:17.787642Z",
     "start_time": "2023-01-24T15:39:54.632544Z"
    },
    "pycharm": {
     "name": "#%%\n"
    }
   },
   "outputs": [
    {
     "name": "stdout",
     "output_type": "stream",
     "text": [
      "# ==========================================================\n",
      "# = Solver Results                                         =\n",
      "# ==========================================================\n",
      "# ----------------------------------------------------------\n",
      "#   Problem Information\n",
      "# ----------------------------------------------------------\n",
      "Problem: \n",
      "- Name: tmponftd9ch\n",
      "  Lower bound: 9945604.568676103\n",
      "  Upper bound: 9945604.568676103\n",
      "  Number of objectives: 1\n",
      "  Number of constraints: 507049\n",
      "  Number of variables: 432073\n",
      "  Number of nonzeros: 1083097\n",
      "  Sense: minimize\n",
      "# ----------------------------------------------------------\n",
      "#   Solver Information\n",
      "# ----------------------------------------------------------\n",
      "Solver: \n",
      "- Status: ok\n",
      "  User time: 7.45\n",
      "  Termination condition: optimal\n",
      "  Termination message: Dual simplex - Optimal\\x3a Objective = 9.9456045687e+06\n",
      "  Error rc: 0\n",
      "  Time: 11.57652497291565\n",
      "# ----------------------------------------------------------\n",
      "#   Solution Information\n",
      "# ----------------------------------------------------------\n",
      "Solution: \n",
      "- number of solutions: 0\n",
      "  number of solutions displayed: 0\n"
     ]
    }
   ],
   "source": [
    "from pyomo.opt import SolverFactory\n",
    "\n",
    "model.write('res_V4_EC.lp',  io_options={'symbolic_solver_labels': True})\n",
    "\n",
    "# Create a solver\n",
    "#opt = pyo.SolverFactory('cbc', executable='C:/Program Files/Cbc-releases.2.10.8-x86_64-w64-mingw64/bin/cbc.exe')\n",
    "\n",
    "opt = pyo.SolverFactory('cplex', executable='C:/Program Files/IBM/ILOG/CPLEX_Studio129/cplex/bin/x64_win64/cplex.exe')\n",
    "opt.options['LogFile'] = 'res_V4_EC.log'\n",
    "\n",
    "#opt = pyo.SolverFactory('ipopt', executable='C:/Program Files/Ipopt-3.11.1-win64-intel13.1/bin/ipopt.exe')\n",
    "#opt.options['print_level'] = 12\n",
    "#opt.options['output_file'] = \"res_V5_EC.log\"\n",
    "\n",
    "results = opt.solve(model)#, tee=True)\n",
    "results.write()"
   ]
  },
  {
   "cell_type": "markdown",
   "id": "b760a646",
   "metadata": {
    "pycharm": {
     "name": "#%% md\n"
    }
   },
   "source": [
    "## Objective Function Value"
   ]
  },
  {
   "cell_type": "code",
   "execution_count": 13,
   "id": "59564680",
   "metadata": {
    "ExecuteTime": {
     "end_time": "2023-01-24T15:40:17.988652Z",
     "start_time": "2023-01-24T15:40:17.787642Z"
    },
    "pycharm": {
     "name": "#%%\n"
    }
   },
   "outputs": [
    {
     "data": {
      "text/plain": [
       "9945604.568676125"
      ]
     },
     "execution_count": 13,
     "metadata": {},
     "output_type": "execute_result"
    }
   ],
   "source": [
    "pyo.value(model.FOag)"
   ]
  },
  {
   "cell_type": "markdown",
   "id": "7c6c6ddf",
   "metadata": {
    "pycharm": {
     "name": "#%% md\n"
    }
   },
   "source": [
    "## End Time"
   ]
  },
  {
   "cell_type": "code",
   "execution_count": 14,
   "id": "0ddd9031",
   "metadata": {
    "pycharm": {
     "name": "#%%\n"
    }
   },
   "outputs": [
    {
     "name": "stdout",
     "output_type": "stream",
     "text": [
      "End Time = 08:16:21\n",
      "Dif: 0:01:46\n"
     ]
    }
   ],
   "source": [
    "now = datetime.now()\n",
    "\n",
    "end_time = now.strftime(\"%H:%M:%S\")\n",
    "print(\"End Time =\", end_time)\n",
    "print(\"Dif: {}\".format(datetime.strptime(end_time, \"%H:%M:%S\") - datetime.strptime(start_time, \"%H:%M:%S\")))"
   ]
  },
  {
   "cell_type": "markdown",
   "id": "dcddb89a",
   "metadata": {
    "pycharm": {
     "name": "#%% md\n"
    }
   },
   "source": [
    "## Cost Value"
   ]
  },
  {
   "cell_type": "code",
   "execution_count": 15,
   "id": "046bcfc9",
   "metadata": {
    "ExecuteTime": {
     "end_time": "2023-01-24T15:40:17.995653Z",
     "start_time": "2023-01-24T15:40:17.990653Z"
    },
    "pycharm": {
     "name": "#%%\n"
    }
   },
   "outputs": [],
   "source": [
    "def ext_pyomo_vals(vals):\n",
    "    # make a pd.Series from each\n",
    "    s = pd.Series(vals.extract_values(),\n",
    "                  index=vals.extract_values().keys())\n",
    "    # if the series is multi-indexed we need to unstack it...\n",
    "    if type(s.index[0]) == tuple:    # it is multi-indexed\n",
    "        s = s.unstack(level=1)\n",
    "    else:\n",
    "        # force transition from Series -> df\n",
    "        s = pd.DataFrame(s)\n",
    "    return s"
   ]
  },
  {
   "cell_type": "code",
   "execution_count": 16,
   "id": "306066c0",
   "metadata": {
    "ExecuteTime": {
     "end_time": "2023-01-24T15:40:21.028686Z",
     "start_time": "2023-01-24T15:40:17.997653Z"
    },
    "pycharm": {
     "name": "#%%\n"
    }
   },
   "outputs": [
    {
     "name": "stdout",
     "output_type": "stream",
     "text": [
      "Charge cost: 1132013.0692250833\n",
      "Discharge cost: 459552.476911195\n"
     ]
    }
   ],
   "source": [
    "PEV_df = ext_pyomo_vals(model.PEV)\n",
    "dT_df = ext_pyomo_vals(model.dT)\n",
    "cDA_df = ext_pyomo_vals(model.cDA)\n",
    "PEVdc_df = ext_pyomo_vals(model.PEVdc)\n",
    "EEV_df = ext_pyomo_vals(model.EEV)\n",
    "\n",
    "charge_cost = sum([PEV_df[t][ev]*dT_df[0][t]*cDA_df[0][t]\n",
    "                   for ev in np.arange(1, n_evs + 1) for t in np.arange(1, n_time + 1)])\n",
    "\n",
    "discharge_cost = sum([PEVdc_df[t][ev]*dT_df[0][t]*cDA_df[0][t]\n",
    "                      for ev in np.arange(1, n_evs + 1) for t in np.arange(1, n_time + 1)])\n",
    "\n",
    "print('Charge cost: {}'.format(charge_cost))\n",
    "print('Discharge cost: {}'.format(discharge_cost))"
   ]
  },
  {
   "cell_type": "markdown",
   "id": "342875b2",
   "metadata": {
    "pycharm": {
     "name": "#%% md\n"
    }
   },
   "source": [
    "## Results"
   ]
  },
  {
   "cell_type": "code",
   "execution_count": 17,
   "id": "dd042adc",
   "metadata": {
    "ExecuteTime": {
     "end_time": "2023-01-24T15:40:21.038686Z",
     "start_time": "2023-01-24T15:40:21.028686Z"
    },
    "pycharm": {
     "name": "#%%\n"
    }
   },
   "outputs": [
    {
     "name": "stdout",
     "output_type": "stream",
     "text": [
      "Total Charge: 6.502977491703602\n"
     ]
    }
   ],
   "source": [
    "print(\"Total Charge: {}\".format(np.sum(PEV_df.to_numpy())/1000000))"
   ]
  },
  {
   "cell_type": "code",
   "execution_count": 18,
   "id": "5c37f80b",
   "metadata": {
    "ExecuteTime": {
     "end_time": "2023-01-24T15:40:21.053687Z",
     "start_time": "2023-01-24T15:40:21.043687Z"
    },
    "pycharm": {
     "name": "#%%\n"
    }
   },
   "outputs": [
    {
     "name": "stdout",
     "output_type": "stream",
     "text": [
      "Total Discharge: 2.1137093847625006\n"
     ]
    }
   ],
   "source": [
    "print(\"Total Discharge: {}\".format(np.sum(PEVdc_df.to_numpy())/1000000))"
   ]
  },
  {
   "cell_type": "code",
   "execution_count": 19,
   "id": "c840fbee",
   "metadata": {
    "ExecuteTime": {
     "end_time": "2023-01-24T15:40:21.111691Z",
     "start_time": "2023-01-24T15:40:21.055687Z"
    },
    "pycharm": {
     "name": "#%%\n"
    }
   },
   "outputs": [
    {
     "data": {
      "text/html": [
       "<div>\n",
       "<style scoped>\n",
       "    .dataframe tbody tr th:only-of-type {\n",
       "        vertical-align: middle;\n",
       "    }\n",
       "\n",
       "    .dataframe tbody tr th {\n",
       "        vertical-align: top;\n",
       "    }\n",
       "\n",
       "    .dataframe thead th {\n",
       "        text-align: right;\n",
       "    }\n",
       "</style>\n",
       "<table border=\"1\" class=\"dataframe\">\n",
       "  <thead>\n",
       "    <tr style=\"text-align: right;\">\n",
       "      <th></th>\n",
       "      <th>1</th>\n",
       "      <th>2</th>\n",
       "      <th>3</th>\n",
       "      <th>4</th>\n",
       "      <th>5</th>\n",
       "      <th>6</th>\n",
       "      <th>7</th>\n",
       "      <th>8</th>\n",
       "      <th>9</th>\n",
       "      <th>10</th>\n",
       "      <th>...</th>\n",
       "      <th>15</th>\n",
       "      <th>16</th>\n",
       "      <th>17</th>\n",
       "      <th>18</th>\n",
       "      <th>19</th>\n",
       "      <th>20</th>\n",
       "      <th>21</th>\n",
       "      <th>22</th>\n",
       "      <th>23</th>\n",
       "      <th>24</th>\n",
       "    </tr>\n",
       "  </thead>\n",
       "  <tbody>\n",
       "    <tr>\n",
       "      <th>1</th>\n",
       "      <td>44521.23750</td>\n",
       "      <td>44521.237500</td>\n",
       "      <td>44521.237500</td>\n",
       "      <td>44521.237500</td>\n",
       "      <td>44521.23750</td>\n",
       "      <td>44521.2375</td>\n",
       "      <td>44521.2375</td>\n",
       "      <td>44521.237500</td>\n",
       "      <td>44521.237500</td>\n",
       "      <td>45957.525000</td>\n",
       "      <td>...</td>\n",
       "      <td>45478.762500</td>\n",
       "      <td>45478.762500</td>\n",
       "      <td>45478.762500</td>\n",
       "      <td>45478.762500</td>\n",
       "      <td>45478.762500</td>\n",
       "      <td>45478.762500</td>\n",
       "      <td>45478.762500</td>\n",
       "      <td>45478.762500</td>\n",
       "      <td>45478.762500</td>\n",
       "      <td>45000.0</td>\n",
       "    </tr>\n",
       "    <tr>\n",
       "      <th>2</th>\n",
       "      <td>9960.00000</td>\n",
       "      <td>9720.038824</td>\n",
       "      <td>9720.038824</td>\n",
       "      <td>9720.038824</td>\n",
       "      <td>10198.80000</td>\n",
       "      <td>10198.8000</td>\n",
       "      <td>10198.8000</td>\n",
       "      <td>10198.800000</td>\n",
       "      <td>10198.800000</td>\n",
       "      <td>10198.800000</td>\n",
       "      <td>...</td>\n",
       "      <td>10079.400000</td>\n",
       "      <td>10079.400000</td>\n",
       "      <td>10079.400000</td>\n",
       "      <td>10079.400000</td>\n",
       "      <td>10079.400000</td>\n",
       "      <td>10079.400000</td>\n",
       "      <td>10079.400000</td>\n",
       "      <td>10079.400000</td>\n",
       "      <td>10079.400000</td>\n",
       "      <td>9960.0</td>\n",
       "    </tr>\n",
       "    <tr>\n",
       "      <th>3</th>\n",
       "      <td>40200.00000</td>\n",
       "      <td>40200.000000</td>\n",
       "      <td>40200.000000</td>\n",
       "      <td>40200.000000</td>\n",
       "      <td>40200.00000</td>\n",
       "      <td>40200.0000</td>\n",
       "      <td>40200.0000</td>\n",
       "      <td>41630.553152</td>\n",
       "      <td>41630.553152</td>\n",
       "      <td>44067.846514</td>\n",
       "      <td>...</td>\n",
       "      <td>43418.513181</td>\n",
       "      <td>43418.513181</td>\n",
       "      <td>43418.513181</td>\n",
       "      <td>43418.513181</td>\n",
       "      <td>43418.513181</td>\n",
       "      <td>43418.513181</td>\n",
       "      <td>43418.513181</td>\n",
       "      <td>43418.513181</td>\n",
       "      <td>43418.513181</td>\n",
       "      <td>40200.0</td>\n",
       "    </tr>\n",
       "    <tr>\n",
       "      <th>4</th>\n",
       "      <td>45000.00000</td>\n",
       "      <td>45000.000000</td>\n",
       "      <td>45000.000000</td>\n",
       "      <td>45000.000000</td>\n",
       "      <td>45000.00000</td>\n",
       "      <td>45000.0000</td>\n",
       "      <td>45000.0000</td>\n",
       "      <td>45000.000000</td>\n",
       "      <td>45000.000000</td>\n",
       "      <td>45000.000000</td>\n",
       "      <td>...</td>\n",
       "      <td>45393.300000</td>\n",
       "      <td>45393.300000</td>\n",
       "      <td>45393.300000</td>\n",
       "      <td>45393.300000</td>\n",
       "      <td>45393.300000</td>\n",
       "      <td>45393.300000</td>\n",
       "      <td>45393.300000</td>\n",
       "      <td>45393.300000</td>\n",
       "      <td>45393.300000</td>\n",
       "      <td>45000.0</td>\n",
       "    </tr>\n",
       "    <tr>\n",
       "      <th>5</th>\n",
       "      <td>43596.39116</td>\n",
       "      <td>43596.391160</td>\n",
       "      <td>43596.391160</td>\n",
       "      <td>43596.391160</td>\n",
       "      <td>43596.39116</td>\n",
       "      <td>46295.4000</td>\n",
       "      <td>46295.4000</td>\n",
       "      <td>46295.400000</td>\n",
       "      <td>46295.400000</td>\n",
       "      <td>46295.400000</td>\n",
       "      <td>...</td>\n",
       "      <td>46247.700000</td>\n",
       "      <td>46247.700000</td>\n",
       "      <td>46247.700000</td>\n",
       "      <td>46247.700000</td>\n",
       "      <td>46247.700000</td>\n",
       "      <td>46247.700000</td>\n",
       "      <td>46247.700000</td>\n",
       "      <td>46247.700000</td>\n",
       "      <td>46247.700000</td>\n",
       "      <td>46200.0</td>\n",
       "    </tr>\n",
       "    <tr>\n",
       "      <th>...</th>\n",
       "      <td>...</td>\n",
       "      <td>...</td>\n",
       "      <td>...</td>\n",
       "      <td>...</td>\n",
       "      <td>...</td>\n",
       "      <td>...</td>\n",
       "      <td>...</td>\n",
       "      <td>...</td>\n",
       "      <td>...</td>\n",
       "      <td>...</td>\n",
       "      <td>...</td>\n",
       "      <td>...</td>\n",
       "      <td>...</td>\n",
       "      <td>...</td>\n",
       "      <td>...</td>\n",
       "      <td>...</td>\n",
       "      <td>...</td>\n",
       "      <td>...</td>\n",
       "      <td>...</td>\n",
       "      <td>...</td>\n",
       "      <td>...</td>\n",
       "    </tr>\n",
       "    <tr>\n",
       "      <th>2996</th>\n",
       "      <td>45000.00000</td>\n",
       "      <td>45000.000000</td>\n",
       "      <td>45000.000000</td>\n",
       "      <td>45000.000000</td>\n",
       "      <td>45000.00000</td>\n",
       "      <td>45000.0000</td>\n",
       "      <td>45000.0000</td>\n",
       "      <td>45000.000000</td>\n",
       "      <td>45000.000000</td>\n",
       "      <td>45000.000000</td>\n",
       "      <td>...</td>\n",
       "      <td>45508.500000</td>\n",
       "      <td>45508.500000</td>\n",
       "      <td>45508.500000</td>\n",
       "      <td>45508.500000</td>\n",
       "      <td>45508.500000</td>\n",
       "      <td>45508.500000</td>\n",
       "      <td>45508.500000</td>\n",
       "      <td>45508.500000</td>\n",
       "      <td>45508.500000</td>\n",
       "      <td>45000.0</td>\n",
       "    </tr>\n",
       "    <tr>\n",
       "      <th>2997</th>\n",
       "      <td>44749.25000</td>\n",
       "      <td>44749.250000</td>\n",
       "      <td>44749.250000</td>\n",
       "      <td>44749.250000</td>\n",
       "      <td>44749.25000</td>\n",
       "      <td>44749.2500</td>\n",
       "      <td>44749.2500</td>\n",
       "      <td>44749.250000</td>\n",
       "      <td>44749.250000</td>\n",
       "      <td>44749.250000</td>\n",
       "      <td>...</td>\n",
       "      <td>45000.000000</td>\n",
       "      <td>45000.000000</td>\n",
       "      <td>45000.000000</td>\n",
       "      <td>45000.000000</td>\n",
       "      <td>45000.000000</td>\n",
       "      <td>45000.000000</td>\n",
       "      <td>45000.000000</td>\n",
       "      <td>45000.000000</td>\n",
       "      <td>45000.000000</td>\n",
       "      <td>45000.0</td>\n",
       "    </tr>\n",
       "    <tr>\n",
       "      <th>2998</th>\n",
       "      <td>42000.00000</td>\n",
       "      <td>42000.000000</td>\n",
       "      <td>42000.000000</td>\n",
       "      <td>42000.000000</td>\n",
       "      <td>42000.00000</td>\n",
       "      <td>42000.0000</td>\n",
       "      <td>45457.2000</td>\n",
       "      <td>45457.200000</td>\n",
       "      <td>45457.200000</td>\n",
       "      <td>45457.200000</td>\n",
       "      <td>...</td>\n",
       "      <td>44469.428571</td>\n",
       "      <td>43975.542857</td>\n",
       "      <td>43975.542857</td>\n",
       "      <td>43481.657143</td>\n",
       "      <td>43481.657143</td>\n",
       "      <td>43481.657143</td>\n",
       "      <td>42987.771429</td>\n",
       "      <td>42493.885714</td>\n",
       "      <td>42000.000000</td>\n",
       "      <td>42000.0</td>\n",
       "    </tr>\n",
       "    <tr>\n",
       "      <th>2999</th>\n",
       "      <td>44792.55000</td>\n",
       "      <td>44792.550000</td>\n",
       "      <td>44792.550000</td>\n",
       "      <td>44792.550000</td>\n",
       "      <td>44792.55000</td>\n",
       "      <td>44792.5500</td>\n",
       "      <td>44792.5500</td>\n",
       "      <td>44792.550000</td>\n",
       "      <td>44792.550000</td>\n",
       "      <td>44792.550000</td>\n",
       "      <td>...</td>\n",
       "      <td>45000.000000</td>\n",
       "      <td>45000.000000</td>\n",
       "      <td>45000.000000</td>\n",
       "      <td>45000.000000</td>\n",
       "      <td>45000.000000</td>\n",
       "      <td>45000.000000</td>\n",
       "      <td>45000.000000</td>\n",
       "      <td>45000.000000</td>\n",
       "      <td>45000.000000</td>\n",
       "      <td>45000.0</td>\n",
       "    </tr>\n",
       "    <tr>\n",
       "      <th>3000</th>\n",
       "      <td>8640.00000</td>\n",
       "      <td>8640.000000</td>\n",
       "      <td>8640.000000</td>\n",
       "      <td>8640.000000</td>\n",
       "      <td>8640.00000</td>\n",
       "      <td>8640.0000</td>\n",
       "      <td>8640.0000</td>\n",
       "      <td>8640.000000</td>\n",
       "      <td>8640.000000</td>\n",
       "      <td>8640.000000</td>\n",
       "      <td>...</td>\n",
       "      <td>8644.125000</td>\n",
       "      <td>8644.125000</td>\n",
       "      <td>8644.125000</td>\n",
       "      <td>8644.125000</td>\n",
       "      <td>8644.125000</td>\n",
       "      <td>8644.125000</td>\n",
       "      <td>8644.125000</td>\n",
       "      <td>8644.125000</td>\n",
       "      <td>8644.125000</td>\n",
       "      <td>8640.0</td>\n",
       "    </tr>\n",
       "  </tbody>\n",
       "</table>\n",
       "<p>3000 rows × 24 columns</p>\n",
       "</div>"
      ],
      "text/plain": [
       "               1             2             3             4            5   \\\n",
       "1     44521.23750  44521.237500  44521.237500  44521.237500  44521.23750   \n",
       "2      9960.00000   9720.038824   9720.038824   9720.038824  10198.80000   \n",
       "3     40200.00000  40200.000000  40200.000000  40200.000000  40200.00000   \n",
       "4     45000.00000  45000.000000  45000.000000  45000.000000  45000.00000   \n",
       "5     43596.39116  43596.391160  43596.391160  43596.391160  43596.39116   \n",
       "...           ...           ...           ...           ...          ...   \n",
       "2996  45000.00000  45000.000000  45000.000000  45000.000000  45000.00000   \n",
       "2997  44749.25000  44749.250000  44749.250000  44749.250000  44749.25000   \n",
       "2998  42000.00000  42000.000000  42000.000000  42000.000000  42000.00000   \n",
       "2999  44792.55000  44792.550000  44792.550000  44792.550000  44792.55000   \n",
       "3000   8640.00000   8640.000000   8640.000000   8640.000000   8640.00000   \n",
       "\n",
       "              6           7             8             9             10  ...  \\\n",
       "1     44521.2375  44521.2375  44521.237500  44521.237500  45957.525000  ...   \n",
       "2     10198.8000  10198.8000  10198.800000  10198.800000  10198.800000  ...   \n",
       "3     40200.0000  40200.0000  41630.553152  41630.553152  44067.846514  ...   \n",
       "4     45000.0000  45000.0000  45000.000000  45000.000000  45000.000000  ...   \n",
       "5     46295.4000  46295.4000  46295.400000  46295.400000  46295.400000  ...   \n",
       "...          ...         ...           ...           ...           ...  ...   \n",
       "2996  45000.0000  45000.0000  45000.000000  45000.000000  45000.000000  ...   \n",
       "2997  44749.2500  44749.2500  44749.250000  44749.250000  44749.250000  ...   \n",
       "2998  42000.0000  45457.2000  45457.200000  45457.200000  45457.200000  ...   \n",
       "2999  44792.5500  44792.5500  44792.550000  44792.550000  44792.550000  ...   \n",
       "3000   8640.0000   8640.0000   8640.000000   8640.000000   8640.000000  ...   \n",
       "\n",
       "                15            16            17            18            19  \\\n",
       "1     45478.762500  45478.762500  45478.762500  45478.762500  45478.762500   \n",
       "2     10079.400000  10079.400000  10079.400000  10079.400000  10079.400000   \n",
       "3     43418.513181  43418.513181  43418.513181  43418.513181  43418.513181   \n",
       "4     45393.300000  45393.300000  45393.300000  45393.300000  45393.300000   \n",
       "5     46247.700000  46247.700000  46247.700000  46247.700000  46247.700000   \n",
       "...            ...           ...           ...           ...           ...   \n",
       "2996  45508.500000  45508.500000  45508.500000  45508.500000  45508.500000   \n",
       "2997  45000.000000  45000.000000  45000.000000  45000.000000  45000.000000   \n",
       "2998  44469.428571  43975.542857  43975.542857  43481.657143  43481.657143   \n",
       "2999  45000.000000  45000.000000  45000.000000  45000.000000  45000.000000   \n",
       "3000   8644.125000   8644.125000   8644.125000   8644.125000   8644.125000   \n",
       "\n",
       "                20            21            22            23       24  \n",
       "1     45478.762500  45478.762500  45478.762500  45478.762500  45000.0  \n",
       "2     10079.400000  10079.400000  10079.400000  10079.400000   9960.0  \n",
       "3     43418.513181  43418.513181  43418.513181  43418.513181  40200.0  \n",
       "4     45393.300000  45393.300000  45393.300000  45393.300000  45000.0  \n",
       "5     46247.700000  46247.700000  46247.700000  46247.700000  46200.0  \n",
       "...            ...           ...           ...           ...      ...  \n",
       "2996  45508.500000  45508.500000  45508.500000  45508.500000  45000.0  \n",
       "2997  45000.000000  45000.000000  45000.000000  45000.000000  45000.0  \n",
       "2998  43481.657143  42987.771429  42493.885714  42000.000000  42000.0  \n",
       "2999  45000.000000  45000.000000  45000.000000  45000.000000  45000.0  \n",
       "3000   8644.125000   8644.125000   8644.125000   8644.125000   8640.0  \n",
       "\n",
       "[3000 rows x 24 columns]"
      ]
     },
     "execution_count": 19,
     "metadata": {},
     "output_type": "execute_result"
    }
   ],
   "source": [
    "EEV_df"
   ]
  },
  {
   "cell_type": "code",
   "execution_count": 20,
   "id": "86653968",
   "metadata": {
    "ExecuteTime": {
     "end_time": "2023-01-24T15:40:21.155693Z",
     "start_time": "2023-01-24T15:40:21.114691Z"
    },
    "pycharm": {
     "name": "#%%\n"
    }
   },
   "outputs": [
    {
     "data": {
      "text/html": [
       "<div>\n",
       "<style scoped>\n",
       "    .dataframe tbody tr th:only-of-type {\n",
       "        vertical-align: middle;\n",
       "    }\n",
       "\n",
       "    .dataframe tbody tr th {\n",
       "        vertical-align: top;\n",
       "    }\n",
       "\n",
       "    .dataframe thead th {\n",
       "        text-align: right;\n",
       "    }\n",
       "</style>\n",
       "<table border=\"1\" class=\"dataframe\">\n",
       "  <thead>\n",
       "    <tr style=\"text-align: right;\">\n",
       "      <th></th>\n",
       "      <th>1</th>\n",
       "      <th>2</th>\n",
       "      <th>3</th>\n",
       "      <th>4</th>\n",
       "      <th>5</th>\n",
       "      <th>6</th>\n",
       "      <th>7</th>\n",
       "      <th>8</th>\n",
       "      <th>9</th>\n",
       "      <th>10</th>\n",
       "      <th>...</th>\n",
       "      <th>15</th>\n",
       "      <th>16</th>\n",
       "      <th>17</th>\n",
       "      <th>18</th>\n",
       "      <th>19</th>\n",
       "      <th>20</th>\n",
       "      <th>21</th>\n",
       "      <th>22</th>\n",
       "      <th>23</th>\n",
       "      <th>24</th>\n",
       "    </tr>\n",
       "  </thead>\n",
       "  <tbody>\n",
       "    <tr>\n",
       "      <th>1</th>\n",
       "      <td>0.0</td>\n",
       "      <td>0.0</td>\n",
       "      <td>0.0</td>\n",
       "      <td>0.0</td>\n",
       "      <td>0.000000</td>\n",
       "      <td>0.000000</td>\n",
       "      <td>0.000000</td>\n",
       "      <td>0.000000</td>\n",
       "      <td>0.0</td>\n",
       "      <td>2015.842105</td>\n",
       "      <td>...</td>\n",
       "      <td>0.000000</td>\n",
       "      <td>0.0</td>\n",
       "      <td>0.0</td>\n",
       "      <td>0.0</td>\n",
       "      <td>0.0</td>\n",
       "      <td>0.0</td>\n",
       "      <td>0.0</td>\n",
       "      <td>0.0</td>\n",
       "      <td>0.0</td>\n",
       "      <td>0.0</td>\n",
       "    </tr>\n",
       "    <tr>\n",
       "      <th>2</th>\n",
       "      <td>0.0</td>\n",
       "      <td>0.0</td>\n",
       "      <td>0.0</td>\n",
       "      <td>0.0</td>\n",
       "      <td>503.959132</td>\n",
       "      <td>0.000000</td>\n",
       "      <td>0.000000</td>\n",
       "      <td>0.000000</td>\n",
       "      <td>0.0</td>\n",
       "      <td>0.000000</td>\n",
       "      <td>...</td>\n",
       "      <td>0.000000</td>\n",
       "      <td>0.0</td>\n",
       "      <td>0.0</td>\n",
       "      <td>0.0</td>\n",
       "      <td>0.0</td>\n",
       "      <td>0.0</td>\n",
       "      <td>0.0</td>\n",
       "      <td>0.0</td>\n",
       "      <td>0.0</td>\n",
       "      <td>0.0</td>\n",
       "    </tr>\n",
       "    <tr>\n",
       "      <th>3</th>\n",
       "      <td>0.0</td>\n",
       "      <td>0.0</td>\n",
       "      <td>0.0</td>\n",
       "      <td>0.0</td>\n",
       "      <td>0.000000</td>\n",
       "      <td>0.000000</td>\n",
       "      <td>0.000000</td>\n",
       "      <td>1505.845423</td>\n",
       "      <td>0.0</td>\n",
       "      <td>3249.080732</td>\n",
       "      <td>...</td>\n",
       "      <td>0.000000</td>\n",
       "      <td>0.0</td>\n",
       "      <td>0.0</td>\n",
       "      <td>0.0</td>\n",
       "      <td>0.0</td>\n",
       "      <td>0.0</td>\n",
       "      <td>0.0</td>\n",
       "      <td>0.0</td>\n",
       "      <td>0.0</td>\n",
       "      <td>0.0</td>\n",
       "    </tr>\n",
       "    <tr>\n",
       "      <th>4</th>\n",
       "      <td>0.0</td>\n",
       "      <td>0.0</td>\n",
       "      <td>0.0</td>\n",
       "      <td>0.0</td>\n",
       "      <td>0.000000</td>\n",
       "      <td>0.000000</td>\n",
       "      <td>0.000000</td>\n",
       "      <td>0.000000</td>\n",
       "      <td>0.0</td>\n",
       "      <td>0.000000</td>\n",
       "      <td>...</td>\n",
       "      <td>0.000000</td>\n",
       "      <td>0.0</td>\n",
       "      <td>0.0</td>\n",
       "      <td>0.0</td>\n",
       "      <td>0.0</td>\n",
       "      <td>0.0</td>\n",
       "      <td>0.0</td>\n",
       "      <td>0.0</td>\n",
       "      <td>0.0</td>\n",
       "      <td>0.0</td>\n",
       "    </tr>\n",
       "    <tr>\n",
       "      <th>5</th>\n",
       "      <td>0.0</td>\n",
       "      <td>0.0</td>\n",
       "      <td>0.0</td>\n",
       "      <td>0.0</td>\n",
       "      <td>0.000000</td>\n",
       "      <td>2841.061937</td>\n",
       "      <td>0.000000</td>\n",
       "      <td>0.000000</td>\n",
       "      <td>0.0</td>\n",
       "      <td>0.000000</td>\n",
       "      <td>...</td>\n",
       "      <td>0.000000</td>\n",
       "      <td>0.0</td>\n",
       "      <td>0.0</td>\n",
       "      <td>0.0</td>\n",
       "      <td>0.0</td>\n",
       "      <td>0.0</td>\n",
       "      <td>0.0</td>\n",
       "      <td>0.0</td>\n",
       "      <td>0.0</td>\n",
       "      <td>0.0</td>\n",
       "    </tr>\n",
       "    <tr>\n",
       "      <th>...</th>\n",
       "      <td>...</td>\n",
       "      <td>...</td>\n",
       "      <td>...</td>\n",
       "      <td>...</td>\n",
       "      <td>...</td>\n",
       "      <td>...</td>\n",
       "      <td>...</td>\n",
       "      <td>...</td>\n",
       "      <td>...</td>\n",
       "      <td>...</td>\n",
       "      <td>...</td>\n",
       "      <td>...</td>\n",
       "      <td>...</td>\n",
       "      <td>...</td>\n",
       "      <td>...</td>\n",
       "      <td>...</td>\n",
       "      <td>...</td>\n",
       "      <td>...</td>\n",
       "      <td>...</td>\n",
       "      <td>...</td>\n",
       "      <td>...</td>\n",
       "    </tr>\n",
       "    <tr>\n",
       "      <th>2996</th>\n",
       "      <td>0.0</td>\n",
       "      <td>0.0</td>\n",
       "      <td>0.0</td>\n",
       "      <td>0.0</td>\n",
       "      <td>0.000000</td>\n",
       "      <td>0.000000</td>\n",
       "      <td>0.000000</td>\n",
       "      <td>0.000000</td>\n",
       "      <td>0.0</td>\n",
       "      <td>0.000000</td>\n",
       "      <td>...</td>\n",
       "      <td>0.000000</td>\n",
       "      <td>0.0</td>\n",
       "      <td>0.0</td>\n",
       "      <td>0.0</td>\n",
       "      <td>0.0</td>\n",
       "      <td>0.0</td>\n",
       "      <td>0.0</td>\n",
       "      <td>0.0</td>\n",
       "      <td>0.0</td>\n",
       "      <td>0.0</td>\n",
       "    </tr>\n",
       "    <tr>\n",
       "      <th>2997</th>\n",
       "      <td>0.0</td>\n",
       "      <td>0.0</td>\n",
       "      <td>0.0</td>\n",
       "      <td>0.0</td>\n",
       "      <td>0.000000</td>\n",
       "      <td>0.000000</td>\n",
       "      <td>0.000000</td>\n",
       "      <td>0.000000</td>\n",
       "      <td>0.0</td>\n",
       "      <td>0.000000</td>\n",
       "      <td>...</td>\n",
       "      <td>527.894737</td>\n",
       "      <td>0.0</td>\n",
       "      <td>0.0</td>\n",
       "      <td>0.0</td>\n",
       "      <td>0.0</td>\n",
       "      <td>0.0</td>\n",
       "      <td>0.0</td>\n",
       "      <td>0.0</td>\n",
       "      <td>0.0</td>\n",
       "      <td>0.0</td>\n",
       "    </tr>\n",
       "    <tr>\n",
       "      <th>2998</th>\n",
       "      <td>0.0</td>\n",
       "      <td>0.0</td>\n",
       "      <td>0.0</td>\n",
       "      <td>0.0</td>\n",
       "      <td>0.000000</td>\n",
       "      <td>0.000000</td>\n",
       "      <td>3639.157895</td>\n",
       "      <td>0.000000</td>\n",
       "      <td>0.0</td>\n",
       "      <td>0.000000</td>\n",
       "      <td>...</td>\n",
       "      <td>0.000000</td>\n",
       "      <td>0.0</td>\n",
       "      <td>0.0</td>\n",
       "      <td>0.0</td>\n",
       "      <td>0.0</td>\n",
       "      <td>0.0</td>\n",
       "      <td>0.0</td>\n",
       "      <td>0.0</td>\n",
       "      <td>0.0</td>\n",
       "      <td>0.0</td>\n",
       "    </tr>\n",
       "    <tr>\n",
       "      <th>2999</th>\n",
       "      <td>0.0</td>\n",
       "      <td>0.0</td>\n",
       "      <td>0.0</td>\n",
       "      <td>0.0</td>\n",
       "      <td>0.000000</td>\n",
       "      <td>0.000000</td>\n",
       "      <td>0.000000</td>\n",
       "      <td>0.000000</td>\n",
       "      <td>0.0</td>\n",
       "      <td>0.000000</td>\n",
       "      <td>...</td>\n",
       "      <td>436.736842</td>\n",
       "      <td>0.0</td>\n",
       "      <td>0.0</td>\n",
       "      <td>0.0</td>\n",
       "      <td>0.0</td>\n",
       "      <td>0.0</td>\n",
       "      <td>0.0</td>\n",
       "      <td>0.0</td>\n",
       "      <td>0.0</td>\n",
       "      <td>0.0</td>\n",
       "    </tr>\n",
       "    <tr>\n",
       "      <th>3000</th>\n",
       "      <td>0.0</td>\n",
       "      <td>0.0</td>\n",
       "      <td>0.0</td>\n",
       "      <td>0.0</td>\n",
       "      <td>0.000000</td>\n",
       "      <td>0.000000</td>\n",
       "      <td>0.000000</td>\n",
       "      <td>0.000000</td>\n",
       "      <td>0.0</td>\n",
       "      <td>0.000000</td>\n",
       "      <td>...</td>\n",
       "      <td>0.000000</td>\n",
       "      <td>0.0</td>\n",
       "      <td>0.0</td>\n",
       "      <td>0.0</td>\n",
       "      <td>0.0</td>\n",
       "      <td>0.0</td>\n",
       "      <td>0.0</td>\n",
       "      <td>0.0</td>\n",
       "      <td>0.0</td>\n",
       "      <td>0.0</td>\n",
       "    </tr>\n",
       "  </tbody>\n",
       "</table>\n",
       "<p>3000 rows × 24 columns</p>\n",
       "</div>"
      ],
      "text/plain": [
       "       1    2    3    4           5            6            7            8   \\\n",
       "1     0.0  0.0  0.0  0.0    0.000000     0.000000     0.000000     0.000000   \n",
       "2     0.0  0.0  0.0  0.0  503.959132     0.000000     0.000000     0.000000   \n",
       "3     0.0  0.0  0.0  0.0    0.000000     0.000000     0.000000  1505.845423   \n",
       "4     0.0  0.0  0.0  0.0    0.000000     0.000000     0.000000     0.000000   \n",
       "5     0.0  0.0  0.0  0.0    0.000000  2841.061937     0.000000     0.000000   \n",
       "...   ...  ...  ...  ...         ...          ...          ...          ...   \n",
       "2996  0.0  0.0  0.0  0.0    0.000000     0.000000     0.000000     0.000000   \n",
       "2997  0.0  0.0  0.0  0.0    0.000000     0.000000     0.000000     0.000000   \n",
       "2998  0.0  0.0  0.0  0.0    0.000000     0.000000  3639.157895     0.000000   \n",
       "2999  0.0  0.0  0.0  0.0    0.000000     0.000000     0.000000     0.000000   \n",
       "3000  0.0  0.0  0.0  0.0    0.000000     0.000000     0.000000     0.000000   \n",
       "\n",
       "       9            10  ...          15   16   17   18   19   20   21   22  \\\n",
       "1     0.0  2015.842105  ...    0.000000  0.0  0.0  0.0  0.0  0.0  0.0  0.0   \n",
       "2     0.0     0.000000  ...    0.000000  0.0  0.0  0.0  0.0  0.0  0.0  0.0   \n",
       "3     0.0  3249.080732  ...    0.000000  0.0  0.0  0.0  0.0  0.0  0.0  0.0   \n",
       "4     0.0     0.000000  ...    0.000000  0.0  0.0  0.0  0.0  0.0  0.0  0.0   \n",
       "5     0.0     0.000000  ...    0.000000  0.0  0.0  0.0  0.0  0.0  0.0  0.0   \n",
       "...   ...          ...  ...         ...  ...  ...  ...  ...  ...  ...  ...   \n",
       "2996  0.0     0.000000  ...    0.000000  0.0  0.0  0.0  0.0  0.0  0.0  0.0   \n",
       "2997  0.0     0.000000  ...  527.894737  0.0  0.0  0.0  0.0  0.0  0.0  0.0   \n",
       "2998  0.0     0.000000  ...    0.000000  0.0  0.0  0.0  0.0  0.0  0.0  0.0   \n",
       "2999  0.0     0.000000  ...  436.736842  0.0  0.0  0.0  0.0  0.0  0.0  0.0   \n",
       "3000  0.0     0.000000  ...    0.000000  0.0  0.0  0.0  0.0  0.0  0.0  0.0   \n",
       "\n",
       "       23   24  \n",
       "1     0.0  0.0  \n",
       "2     0.0  0.0  \n",
       "3     0.0  0.0  \n",
       "4     0.0  0.0  \n",
       "5     0.0  0.0  \n",
       "...   ...  ...  \n",
       "2996  0.0  0.0  \n",
       "2997  0.0  0.0  \n",
       "2998  0.0  0.0  \n",
       "2999  0.0  0.0  \n",
       "3000  0.0  0.0  \n",
       "\n",
       "[3000 rows x 24 columns]"
      ]
     },
     "execution_count": 20,
     "metadata": {},
     "output_type": "execute_result"
    }
   ],
   "source": [
    "PEV_df"
   ]
  },
  {
   "cell_type": "code",
   "execution_count": 21,
   "id": "5c14bd00",
   "metadata": {
    "ExecuteTime": {
     "end_time": "2023-01-24T15:40:21.171694Z",
     "start_time": "2023-01-24T15:40:21.157693Z"
    },
    "pycharm": {
     "name": "#%%\n"
    }
   },
   "outputs": [
    {
     "data": {
      "text/plain": [
       "1     9.257968e+04\n",
       "2     0.000000e+00\n",
       "3     1.758523e+05\n",
       "4     1.390388e+05\n",
       "5     9.151462e+05\n",
       "6     7.598667e+05\n",
       "7     5.969473e+05\n",
       "8     6.255258e+05\n",
       "9     6.528364e+05\n",
       "10    6.573320e+05\n",
       "11    2.523918e+05\n",
       "12    1.889220e+04\n",
       "13    6.604366e+03\n",
       "14    1.420385e+06\n",
       "15    1.392754e+05\n",
       "16    0.000000e+00\n",
       "17    0.000000e+00\n",
       "18    0.000000e+00\n",
       "19    0.000000e+00\n",
       "20    0.000000e+00\n",
       "21    0.000000e+00\n",
       "22    0.000000e+00\n",
       "23    2.849148e+03\n",
       "24    4.745489e+04\n",
       "dtype: float64"
      ]
     },
     "execution_count": 21,
     "metadata": {},
     "output_type": "execute_result"
    }
   ],
   "source": [
    "PEV_df.sum()"
   ]
  },
  {
   "cell_type": "code",
   "execution_count": 22,
   "id": "1cb20f3d",
   "metadata": {
    "ExecuteTime": {
     "end_time": "2023-01-24T15:40:21.181695Z",
     "start_time": "2023-01-24T15:40:21.174694Z"
    },
    "pycharm": {
     "name": "#%%\n"
    }
   },
   "outputs": [
    {
     "data": {
      "text/plain": [
       "1     263958.041398\n",
       "2     232229.037579\n",
       "3          0.000000\n",
       "4          0.000000\n",
       "5          0.000000\n",
       "6          0.000000\n",
       "7          0.000000\n",
       "8          0.000000\n",
       "9          0.000000\n",
       "10         0.000000\n",
       "11         0.000000\n",
       "12         0.000000\n",
       "13    383754.652500\n",
       "14     62601.197500\n",
       "15     45761.285000\n",
       "16         0.000000\n",
       "17         0.000000\n",
       "18         0.000000\n",
       "19         0.000000\n",
       "20         0.000000\n",
       "21         0.000000\n",
       "22         0.000000\n",
       "23    177762.722000\n",
       "24    947642.448786\n",
       "dtype: float64"
      ]
     },
     "execution_count": 22,
     "metadata": {},
     "output_type": "execute_result"
    }
   ],
   "source": [
    "PEVdc_df.sum()"
   ]
  },
  {
   "cell_type": "code",
   "execution_count": 23,
   "id": "ab5ef4d2",
   "metadata": {
    "ExecuteTime": {
     "end_time": "2023-01-24T15:40:21.203696Z",
     "start_time": "2023-01-24T15:40:21.183695Z"
    },
    "pycharm": {
     "name": "#%%\n"
    }
   },
   "outputs": [
    {
     "data": {
      "text/html": [
       "<div>\n",
       "<style scoped>\n",
       "    .dataframe tbody tr th:only-of-type {\n",
       "        vertical-align: middle;\n",
       "    }\n",
       "\n",
       "    .dataframe tbody tr th {\n",
       "        vertical-align: top;\n",
       "    }\n",
       "\n",
       "    .dataframe thead th {\n",
       "        text-align: right;\n",
       "    }\n",
       "</style>\n",
       "<table border=\"1\" class=\"dataframe\">\n",
       "  <thead>\n",
       "    <tr style=\"text-align: right;\">\n",
       "      <th></th>\n",
       "      <th>0</th>\n",
       "    </tr>\n",
       "  </thead>\n",
       "  <tbody>\n",
       "    <tr>\n",
       "      <th>1</th>\n",
       "      <td>2.553275e+05</td>\n",
       "    </tr>\n",
       "    <tr>\n",
       "      <th>2</th>\n",
       "      <td>0.000000e+00</td>\n",
       "    </tr>\n",
       "    <tr>\n",
       "      <th>3</th>\n",
       "      <td>0.000000e+00</td>\n",
       "    </tr>\n",
       "    <tr>\n",
       "      <th>4</th>\n",
       "      <td>0.000000e+00</td>\n",
       "    </tr>\n",
       "    <tr>\n",
       "      <th>5</th>\n",
       "      <td>0.000000e+00</td>\n",
       "    </tr>\n",
       "    <tr>\n",
       "      <th>6</th>\n",
       "      <td>0.000000e+00</td>\n",
       "    </tr>\n",
       "    <tr>\n",
       "      <th>7</th>\n",
       "      <td>0.000000e+00</td>\n",
       "    </tr>\n",
       "    <tr>\n",
       "      <th>8</th>\n",
       "      <td>0.000000e+00</td>\n",
       "    </tr>\n",
       "    <tr>\n",
       "      <th>9</th>\n",
       "      <td>0.000000e+00</td>\n",
       "    </tr>\n",
       "    <tr>\n",
       "      <th>10</th>\n",
       "      <td>0.000000e+00</td>\n",
       "    </tr>\n",
       "    <tr>\n",
       "      <th>11</th>\n",
       "      <td>0.000000e+00</td>\n",
       "    </tr>\n",
       "    <tr>\n",
       "      <th>12</th>\n",
       "      <td>0.000000e+00</td>\n",
       "    </tr>\n",
       "    <tr>\n",
       "      <th>13</th>\n",
       "      <td>4.339087e+05</td>\n",
       "    </tr>\n",
       "    <tr>\n",
       "      <th>14</th>\n",
       "      <td>2.614236e+06</td>\n",
       "    </tr>\n",
       "    <tr>\n",
       "      <th>15</th>\n",
       "      <td>3.701350e+05</td>\n",
       "    </tr>\n",
       "    <tr>\n",
       "      <th>16</th>\n",
       "      <td>4.411219e+05</td>\n",
       "    </tr>\n",
       "    <tr>\n",
       "      <th>17</th>\n",
       "      <td>1.833738e+04</td>\n",
       "    </tr>\n",
       "    <tr>\n",
       "      <th>18</th>\n",
       "      <td>2.997941e+05</td>\n",
       "    </tr>\n",
       "    <tr>\n",
       "      <th>19</th>\n",
       "      <td>2.762258e+05</td>\n",
       "    </tr>\n",
       "    <tr>\n",
       "      <th>20</th>\n",
       "      <td>8.901500e+05</td>\n",
       "    </tr>\n",
       "    <tr>\n",
       "      <th>21</th>\n",
       "      <td>8.647999e+05</td>\n",
       "    </tr>\n",
       "    <tr>\n",
       "      <th>22</th>\n",
       "      <td>6.320088e+05</td>\n",
       "    </tr>\n",
       "    <tr>\n",
       "      <th>23</th>\n",
       "      <td>1.150119e+06</td>\n",
       "    </tr>\n",
       "    <tr>\n",
       "      <th>24</th>\n",
       "      <td>0.000000e+00</td>\n",
       "    </tr>\n",
       "  </tbody>\n",
       "</table>\n",
       "</div>"
      ],
      "text/plain": [
       "               0\n",
       "1   2.553275e+05\n",
       "2   0.000000e+00\n",
       "3   0.000000e+00\n",
       "4   0.000000e+00\n",
       "5   0.000000e+00\n",
       "6   0.000000e+00\n",
       "7   0.000000e+00\n",
       "8   0.000000e+00\n",
       "9   0.000000e+00\n",
       "10  0.000000e+00\n",
       "11  0.000000e+00\n",
       "12  0.000000e+00\n",
       "13  4.339087e+05\n",
       "14  2.614236e+06\n",
       "15  3.701350e+05\n",
       "16  4.411219e+05\n",
       "17  1.833738e+04\n",
       "18  2.997941e+05\n",
       "19  2.762258e+05\n",
       "20  8.901500e+05\n",
       "21  8.647999e+05\n",
       "22  6.320088e+05\n",
       "23  1.150119e+06\n",
       "24  0.000000e+00"
      ]
     },
     "execution_count": 23,
     "metadata": {},
     "output_type": "execute_result"
    }
   ],
   "source": [
    "Pgen_df = ext_pyomo_vals(model.Pgen)\n",
    "\n",
    "Pgen_df"
   ]
  },
  {
   "cell_type": "code",
   "execution_count": 24,
   "id": "5e96ff1a",
   "metadata": {
    "ExecuteTime": {
     "end_time": "2023-01-24T15:40:21.236698Z",
     "start_time": "2023-01-24T15:40:21.206696Z"
    },
    "pycharm": {
     "name": "#%%\n"
    }
   },
   "outputs": [
    {
     "data": {
      "text/html": [
       "<div>\n",
       "<style scoped>\n",
       "    .dataframe tbody tr th:only-of-type {\n",
       "        vertical-align: middle;\n",
       "    }\n",
       "\n",
       "    .dataframe tbody tr th {\n",
       "        vertical-align: top;\n",
       "    }\n",
       "\n",
       "    .dataframe thead th {\n",
       "        text-align: right;\n",
       "    }\n",
       "</style>\n",
       "<table border=\"1\" class=\"dataframe\">\n",
       "  <thead>\n",
       "    <tr style=\"text-align: right;\">\n",
       "      <th></th>\n",
       "      <th>0</th>\n",
       "    </tr>\n",
       "  </thead>\n",
       "  <tbody>\n",
       "    <tr>\n",
       "      <th>1</th>\n",
       "      <td>6.085227e+06</td>\n",
       "    </tr>\n",
       "    <tr>\n",
       "      <th>2</th>\n",
       "      <td>5.948526e+06</td>\n",
       "    </tr>\n",
       "    <tr>\n",
       "      <th>3</th>\n",
       "      <td>6.151688e+06</td>\n",
       "    </tr>\n",
       "    <tr>\n",
       "      <th>4</th>\n",
       "      <td>5.907329e+06</td>\n",
       "    </tr>\n",
       "    <tr>\n",
       "      <th>5</th>\n",
       "      <td>6.545075e+06</td>\n",
       "    </tr>\n",
       "    <tr>\n",
       "      <th>6</th>\n",
       "      <td>6.252979e+06</td>\n",
       "    </tr>\n",
       "    <tr>\n",
       "      <th>7</th>\n",
       "      <td>5.863696e+06</td>\n",
       "    </tr>\n",
       "    <tr>\n",
       "      <th>8</th>\n",
       "      <td>5.822859e+06</td>\n",
       "    </tr>\n",
       "    <tr>\n",
       "      <th>9</th>\n",
       "      <td>5.811374e+06</td>\n",
       "    </tr>\n",
       "    <tr>\n",
       "      <th>10</th>\n",
       "      <td>5.838394e+06</td>\n",
       "    </tr>\n",
       "    <tr>\n",
       "      <th>11</th>\n",
       "      <td>5.646505e+06</td>\n",
       "    </tr>\n",
       "    <tr>\n",
       "      <th>12</th>\n",
       "      <td>5.881711e+06</td>\n",
       "    </tr>\n",
       "    <tr>\n",
       "      <th>13</th>\n",
       "      <td>5.696160e+06</td>\n",
       "    </tr>\n",
       "    <tr>\n",
       "      <th>14</th>\n",
       "      <td>5.630328e+06</td>\n",
       "    </tr>\n",
       "    <tr>\n",
       "      <th>15</th>\n",
       "      <td>6.704496e+06</td>\n",
       "    </tr>\n",
       "    <tr>\n",
       "      <th>16</th>\n",
       "      <td>6.591759e+06</td>\n",
       "    </tr>\n",
       "    <tr>\n",
       "      <th>17</th>\n",
       "      <td>7.073904e+06</td>\n",
       "    </tr>\n",
       "    <tr>\n",
       "      <th>18</th>\n",
       "      <td>6.686513e+06</td>\n",
       "    </tr>\n",
       "    <tr>\n",
       "      <th>19</th>\n",
       "      <td>6.715981e+06</td>\n",
       "    </tr>\n",
       "    <tr>\n",
       "      <th>20</th>\n",
       "      <td>6.016975e+06</td>\n",
       "    </tr>\n",
       "    <tr>\n",
       "      <th>21</th>\n",
       "      <td>5.928347e+06</td>\n",
       "    </tr>\n",
       "    <tr>\n",
       "      <th>22</th>\n",
       "      <td>6.102618e+06</td>\n",
       "    </tr>\n",
       "    <tr>\n",
       "      <th>23</th>\n",
       "      <td>5.797106e+06</td>\n",
       "    </tr>\n",
       "    <tr>\n",
       "      <th>24</th>\n",
       "      <td>5.866191e+06</td>\n",
       "    </tr>\n",
       "  </tbody>\n",
       "</table>\n",
       "</div>"
      ],
      "text/plain": [
       "               0\n",
       "1   6.085227e+06\n",
       "2   5.948526e+06\n",
       "3   6.151688e+06\n",
       "4   5.907329e+06\n",
       "5   6.545075e+06\n",
       "6   6.252979e+06\n",
       "7   5.863696e+06\n",
       "8   5.822859e+06\n",
       "9   5.811374e+06\n",
       "10  5.838394e+06\n",
       "11  5.646505e+06\n",
       "12  5.881711e+06\n",
       "13  5.696160e+06\n",
       "14  5.630328e+06\n",
       "15  6.704496e+06\n",
       "16  6.591759e+06\n",
       "17  7.073904e+06\n",
       "18  6.686513e+06\n",
       "19  6.715981e+06\n",
       "20  6.016975e+06\n",
       "21  5.928347e+06\n",
       "22  6.102618e+06\n",
       "23  5.797106e+06\n",
       "24  5.866191e+06"
      ]
     },
     "execution_count": 24,
     "metadata": {},
     "output_type": "execute_result"
    }
   ],
   "source": [
    "Pres_df = ext_pyomo_vals(model.Pres)\n",
    "\n",
    "Pres_df"
   ]
  },
  {
   "cell_type": "code",
   "execution_count": 25,
   "id": "e4cd6e24",
   "metadata": {
    "ExecuteTime": {
     "end_time": "2023-01-24T17:00:40.207911Z",
     "start_time": "2023-01-24T17:00:39.692904Z"
    },
    "pycharm": {
     "name": "#%%\n"
    }
   },
   "outputs": [],
   "source": [
    "Etriprelax_df = ext_pyomo_vals(model.Etriprelax)"
   ]
  },
  {
   "cell_type": "code",
   "execution_count": 26,
   "id": "90aec214",
   "metadata": {
    "ExecuteTime": {
     "end_time": "2023-01-24T17:00:44.356088Z",
     "start_time": "2023-01-24T17:00:44.315086Z"
    },
    "pycharm": {
     "name": "#%%\n"
    }
   },
   "outputs": [
    {
     "data": {
      "text/plain": [
       "1        0.00\n",
       "2        0.00\n",
       "3        0.00\n",
       "4        0.00\n",
       "5        0.00\n",
       "6        0.00\n",
       "7        0.00\n",
       "8        0.00\n",
       "9        0.00\n",
       "10       0.00\n",
       "11       0.00\n",
       "12       0.00\n",
       "13       0.00\n",
       "14       0.00\n",
       "15       0.00\n",
       "16       0.00\n",
       "17       0.00\n",
       "18       0.00\n",
       "19       0.00\n",
       "20       0.00\n",
       "21       0.00\n",
       "22       0.00\n",
       "23       0.00\n",
       "24    1699.44\n",
       "dtype: float64"
      ]
     },
     "execution_count": 26,
     "metadata": {},
     "output_type": "execute_result"
    }
   ],
   "source": [
    "Etriprelax_df.sum()"
   ]
  },
  {
   "cell_type": "code",
   "execution_count": 27,
   "id": "4b291941",
   "metadata": {
    "ExecuteTime": {
     "end_time": "2023-01-24T17:00:55.042477Z",
     "start_time": "2023-01-24T17:00:54.868467Z"
    },
    "pycharm": {
     "name": "#%%\n"
    }
   },
   "outputs": [],
   "source": [
    "Eminsocrelax_df = ext_pyomo_vals(model.Eminsocrelax)"
   ]
  },
  {
   "cell_type": "code",
   "execution_count": 28,
   "id": "250dbfe2",
   "metadata": {
    "ExecuteTime": {
     "end_time": "2023-01-24T17:00:58.602630Z",
     "start_time": "2023-01-24T17:00:58.585629Z"
    },
    "pycharm": {
     "name": "#%%\n"
    }
   },
   "outputs": [
    {
     "data": {
      "text/plain": [
       "1     0.0\n",
       "2     0.0\n",
       "3     0.0\n",
       "4     0.0\n",
       "5     0.0\n",
       "6     0.0\n",
       "7     0.0\n",
       "8     0.0\n",
       "9     0.0\n",
       "10    0.0\n",
       "11    0.0\n",
       "12    0.0\n",
       "13    0.0\n",
       "14    0.0\n",
       "15    0.0\n",
       "16    0.0\n",
       "17    0.0\n",
       "18    0.0\n",
       "19    0.0\n",
       "20    0.0\n",
       "21    0.0\n",
       "22    0.0\n",
       "23    0.0\n",
       "24    0.0\n",
       "dtype: float64"
      ]
     },
     "execution_count": 28,
     "metadata": {},
     "output_type": "execute_result"
    }
   ],
   "source": [
    "Eminsocrelax_df.sum()"
   ]
  },
  {
   "cell_type": "code",
   "execution_count": 29,
   "id": "5089eed5",
   "metadata": {
    "ExecuteTime": {
     "end_time": "2023-01-24T17:01:04.019866Z",
     "start_time": "2023-01-24T17:01:03.851860Z"
    },
    "pycharm": {
     "name": "#%%\n"
    }
   },
   "outputs": [],
   "source": [
    "Etripn_df = ext_pyomo_vals(model.Etripn)"
   ]
  },
  {
   "cell_type": "code",
   "execution_count": 30,
   "id": "e275405a",
   "metadata": {
    "ExecuteTime": {
     "end_time": "2023-01-24T17:01:08.338023Z",
     "start_time": "2023-01-24T17:01:08.328022Z"
    },
    "pycharm": {
     "name": "#%%\n"
    }
   },
   "outputs": [
    {
     "data": {
      "text/plain": [
       "1     306577.030530\n",
       "2       5304.887131\n",
       "3          0.000000\n",
       "4          0.000000\n",
       "5          0.000000\n",
       "6          0.000000\n",
       "7          0.000000\n",
       "8          0.000000\n",
       "9          0.000000\n",
       "10    100109.908333\n",
       "11    241018.800000\n",
       "12         0.000000\n",
       "13    152273.988853\n",
       "14    599476.835983\n",
       "15    259866.379538\n",
       "16    317942.365149\n",
       "17    103607.316435\n",
       "18    201483.015792\n",
       "19     66832.958288\n",
       "20    210267.788436\n",
       "21    254300.247633\n",
       "22    219829.993476\n",
       "23    257323.066999\n",
       "24    660055.667423\n",
       "dtype: float64"
      ]
     },
     "execution_count": 30,
     "metadata": {},
     "output_type": "execute_result"
    }
   ],
   "source": [
    "Etripn_df.sum()"
   ]
  },
  {
   "cell_type": "code",
   "execution_count": 31,
   "id": "588c5d3d",
   "metadata": {
    "pycharm": {
     "name": "#%%\n"
    }
   },
   "outputs": [],
   "source": [
    "Pex_df = ext_pyomo_vals(model.Pex)"
   ]
  },
  {
   "cell_type": "code",
   "execution_count": 32,
   "id": "7bad145b",
   "metadata": {
    "pycharm": {
     "name": "#%%\n"
    }
   },
   "outputs": [
    {
     "data": {
      "text/html": [
       "<div>\n",
       "<style scoped>\n",
       "    .dataframe tbody tr th:only-of-type {\n",
       "        vertical-align: middle;\n",
       "    }\n",
       "\n",
       "    .dataframe tbody tr th {\n",
       "        vertical-align: top;\n",
       "    }\n",
       "\n",
       "    .dataframe thead th {\n",
       "        text-align: right;\n",
       "    }\n",
       "</style>\n",
       "<table border=\"1\" class=\"dataframe\">\n",
       "  <thead>\n",
       "    <tr style=\"text-align: right;\">\n",
       "      <th></th>\n",
       "      <th>0</th>\n",
       "    </tr>\n",
       "  </thead>\n",
       "  <tbody>\n",
       "    <tr>\n",
       "      <th>1</th>\n",
       "      <td>0.0</td>\n",
       "    </tr>\n",
       "    <tr>\n",
       "      <th>2</th>\n",
       "      <td>0.0</td>\n",
       "    </tr>\n",
       "    <tr>\n",
       "      <th>3</th>\n",
       "      <td>0.0</td>\n",
       "    </tr>\n",
       "    <tr>\n",
       "      <th>4</th>\n",
       "      <td>0.0</td>\n",
       "    </tr>\n",
       "    <tr>\n",
       "      <th>5</th>\n",
       "      <td>0.0</td>\n",
       "    </tr>\n",
       "    <tr>\n",
       "      <th>6</th>\n",
       "      <td>0.0</td>\n",
       "    </tr>\n",
       "    <tr>\n",
       "      <th>7</th>\n",
       "      <td>0.0</td>\n",
       "    </tr>\n",
       "    <tr>\n",
       "      <th>8</th>\n",
       "      <td>0.0</td>\n",
       "    </tr>\n",
       "    <tr>\n",
       "      <th>9</th>\n",
       "      <td>0.0</td>\n",
       "    </tr>\n",
       "    <tr>\n",
       "      <th>10</th>\n",
       "      <td>0.0</td>\n",
       "    </tr>\n",
       "    <tr>\n",
       "      <th>11</th>\n",
       "      <td>0.0</td>\n",
       "    </tr>\n",
       "    <tr>\n",
       "      <th>12</th>\n",
       "      <td>0.0</td>\n",
       "    </tr>\n",
       "    <tr>\n",
       "      <th>13</th>\n",
       "      <td>0.0</td>\n",
       "    </tr>\n",
       "    <tr>\n",
       "      <th>14</th>\n",
       "      <td>0.0</td>\n",
       "    </tr>\n",
       "    <tr>\n",
       "      <th>15</th>\n",
       "      <td>0.0</td>\n",
       "    </tr>\n",
       "    <tr>\n",
       "      <th>16</th>\n",
       "      <td>0.0</td>\n",
       "    </tr>\n",
       "    <tr>\n",
       "      <th>17</th>\n",
       "      <td>0.0</td>\n",
       "    </tr>\n",
       "    <tr>\n",
       "      <th>18</th>\n",
       "      <td>0.0</td>\n",
       "    </tr>\n",
       "    <tr>\n",
       "      <th>19</th>\n",
       "      <td>0.0</td>\n",
       "    </tr>\n",
       "    <tr>\n",
       "      <th>20</th>\n",
       "      <td>0.0</td>\n",
       "    </tr>\n",
       "    <tr>\n",
       "      <th>21</th>\n",
       "      <td>0.0</td>\n",
       "    </tr>\n",
       "    <tr>\n",
       "      <th>22</th>\n",
       "      <td>0.0</td>\n",
       "    </tr>\n",
       "    <tr>\n",
       "      <th>23</th>\n",
       "      <td>0.0</td>\n",
       "    </tr>\n",
       "    <tr>\n",
       "      <th>24</th>\n",
       "      <td>0.0</td>\n",
       "    </tr>\n",
       "  </tbody>\n",
       "</table>\n",
       "</div>"
      ],
      "text/plain": [
       "      0\n",
       "1   0.0\n",
       "2   0.0\n",
       "3   0.0\n",
       "4   0.0\n",
       "5   0.0\n",
       "6   0.0\n",
       "7   0.0\n",
       "8   0.0\n",
       "9   0.0\n",
       "10  0.0\n",
       "11  0.0\n",
       "12  0.0\n",
       "13  0.0\n",
       "14  0.0\n",
       "15  0.0\n",
       "16  0.0\n",
       "17  0.0\n",
       "18  0.0\n",
       "19  0.0\n",
       "20  0.0\n",
       "21  0.0\n",
       "22  0.0\n",
       "23  0.0\n",
       "24  0.0"
      ]
     },
     "execution_count": 32,
     "metadata": {},
     "output_type": "execute_result"
    }
   ],
   "source": [
    "Pex_df"
   ]
  },
  {
   "cell_type": "markdown",
   "id": "5dba7d37",
   "metadata": {
    "pycharm": {
     "name": "#%% md\n"
    }
   },
   "source": [
    "## Save results in csv files"
   ]
  },
  {
   "cell_type": "code",
   "execution_count": 33,
   "id": "ad9399dc",
   "metadata": {
    "ExecuteTime": {
     "end_time": "2023-01-24T17:21:39.641697Z",
     "start_time": "2023-01-24T17:21:39.448688Z"
    },
    "pycharm": {
     "name": "#%%\n"
    }
   },
   "outputs": [],
   "source": [
    "import os \n",
    "folder = 'results_RES_V2G_' + str(n_evs)\n",
    "\n",
    "if not os.path.exists(folder):\n",
    "    os.makedirs(folder)\n",
    "    \n",
    "EEV_df.to_csv(folder + '/EEV.csv')\n",
    "PEV_df.to_csv(folder + '/PEV.csv')\n",
    "PEVdc_df.to_csv(folder + '/PEVdc.csv')\n",
    "PEV_df.sum().to_csv(folder + '/PEV_h.csv')\n",
    "PEVdc_df.sum().to_csv(folder + '/PEVdc_h.csv')\n",
    "\n",
    "Etriprelax_df.to_csv(folder + '/Etriprelax.csv')\n",
    "Etriprelax_df.sum().to_csv(folder + '/Etriprelax_h.csv')\n",
    "\n",
    "Eminsocrelax_df.to_csv(folder + '/Eminsocrelax.csv')\n",
    "Eminsocrelax_df.sum().to_csv(folder + '/Eminsocrelax_h.csv')\n",
    "\n",
    "Etripn_df.to_csv(folder + '/Etripn.csv')\n",
    "Etripn_df.sum().to_csv(folder + '/Etripn_h.csv')\n",
    "\n",
    "Pgen_df.to_csv(folder + '/Pgen.csv')\n",
    "Pres_df.to_csv(folder + '/Pres.csv')\n",
    "Pex_df.to_csv(folder + '/Pex.csv')"
   ]
  },
  {
   "cell_type": "code",
   "execution_count": null,
   "id": "e4350d0c",
   "metadata": {
    "pycharm": {
     "name": "#%%\n"
    }
   },
   "outputs": [],
   "source": []
  }
 ],
 "metadata": {
  "kernelspec": {
   "display_name": "Python 3 (ipykernel)",
   "language": "python",
   "name": "python3"
  },
  "language_info": {
   "codemirror_mode": {
    "name": "ipython",
    "version": 3
   },
   "file_extension": ".py",
   "mimetype": "text/x-python",
   "name": "python",
   "nbconvert_exporter": "python",
   "pygments_lexer": "ipython3",
   "version": "3.10.10"
  },
  "toc": {
   "base_numbering": 1,
   "nav_menu": {},
   "number_sections": true,
   "sideBar": true,
   "skip_h1_title": false,
   "title_cell": "Table of Contents",
   "title_sidebar": "Contents",
   "toc_cell": false,
   "toc_position": {},
   "toc_section_display": true,
   "toc_window_display": false
  }
 },
 "nbformat": 4,
 "nbformat_minor": 5
}
