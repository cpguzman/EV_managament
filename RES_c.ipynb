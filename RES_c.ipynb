{
 "cells": [
  {
   "cell_type": "markdown",
   "id": "49f8415c",
   "metadata": {
    "pycharm": {
     "name": "#%% md\n"
    }
   },
   "source": [
    "## Import packages"
   ]
  },
  {
   "cell_type": "code",
   "execution_count": 1,
   "id": "715e26a7",
   "metadata": {
    "ExecuteTime": {
     "end_time": "2023-01-24T15:33:15.888058Z",
     "start_time": "2023-01-24T15:33:14.912039Z"
    },
    "pycharm": {
     "name": "#%%\n"
    }
   },
   "outputs": [],
   "source": [
    "import pyomo\n",
    "import pyomo.opt\n",
    "import pyomo.environ as pyo\n",
    "import numpy as np\n",
    "import pandas as pd\n",
    "import matplotlib as plt"
   ]
  },
  {
   "cell_type": "code",
   "execution_count": 2,
   "id": "7439ce86",
   "metadata": {
    "ExecuteTime": {
     "end_time": "2023-01-24T15:33:15.893058Z",
     "start_time": "2023-01-24T15:33:15.888058Z"
    },
    "pycharm": {
     "name": "#%%\n"
    }
   },
   "outputs": [],
   "source": [
    "n_time = 24\n",
    "country = \"Denmark\"; # Possible options: Portugal, Slovenia, Greece, Denmark, this if apply only to Slovenia and Denmark, because both countries have biomass"
   ]
  },
  {
   "cell_type": "code",
   "execution_count": 3,
   "id": "b8f61626",
   "metadata": {
    "ExecuteTime": {
     "end_time": "2023-01-24T15:33:15.906058Z",
     "start_time": "2023-01-24T15:33:15.893058Z"
    },
    "pycharm": {
     "name": "#%%\n"
    }
   },
   "outputs": [],
   "source": [
    "def _auxDictionary(a):\n",
    "    temp_dictionary = {}\n",
    "    if len(a.shape) == 3:\n",
    "        for dim0 in np.arange(a.shape[0]):\n",
    "            for dim1 in np.arange(a.shape[1]):\n",
    "                for dim2 in np.arange(a.shape[2]):\n",
    "                    temp_dictionary[(dim0+1, dim1+1, dim2+1)] = a[dim0, dim1, dim2]\n",
    "    elif len(a.shape) == 2:\n",
    "        for dim0 in np.arange(a.shape[0]):\n",
    "            for dim1 in np.arange(a.shape[1]):\n",
    "                temp_dictionary[(dim0+1, dim1+1)] = a[dim0, dim1]\n",
    "    else:\n",
    "        for dim0 in np.arange(a.shape[0]):\n",
    "            temp_dictionary[(dim0+1)] = a[dim0]\n",
    "    return temp_dictionary\n",
    "#temp_dict1 = _auxDictionary(loadLimit)"
   ]
  },
  {
   "cell_type": "markdown",
   "id": "066f9dad",
   "metadata": {
    "pycharm": {
     "name": "#%% md\n"
    }
   },
   "source": [
    "## Data"
   ]
  },
  {
   "cell_type": "code",
   "execution_count": 4,
   "id": "6ee2c24c",
   "metadata": {
    "ExecuteTime": {
     "end_time": "2023-01-24T15:33:15.938060Z",
     "start_time": "2023-01-24T15:33:15.909058Z"
    },
    "pycharm": {
     "name": "#%%\n"
    }
   },
   "outputs": [],
   "source": [
    "data = {}\n",
    "data['Inputs'] = pd.read_csv('Inputs.csv')\n",
    "data['EVs_Inputs'] = pd.read_csv('EVs_Inputs.csv')\n",
    "data['alpha'] = pd.read_csv('alpha.csv')\n",
    "data['PchmaxEV'] = pd.read_csv('PchmaxEV.csv')\n",
    "data['S'] = pd.read_csv('S.csv')"
   ]
  },
  {
   "cell_type": "code",
   "execution_count": 5,
   "id": "8c8c07d9",
   "metadata": {
    "ExecuteTime": {
     "end_time": "2023-01-24T15:33:15.946060Z",
     "start_time": "2023-01-24T15:33:15.939060Z"
    },
    "pycharm": {
     "name": "#%%\n"
    }
   },
   "outputs": [],
   "source": [
    "n_evs = data['EVs_Inputs']['Esoc'].size"
   ]
  },
  {
   "cell_type": "markdown",
   "id": "1a180354",
   "metadata": {
    "pycharm": {
     "name": "#%% md\n"
    }
   },
   "source": [
    "## Start Time"
   ]
  },
  {
   "cell_type": "code",
   "execution_count": 6,
   "id": "2b449c1e",
   "metadata": {
    "pycharm": {
     "name": "#%%\n"
    }
   },
   "outputs": [
    {
     "name": "stdout",
     "output_type": "stream",
     "text": [
      "Start Time = 14:38:37\n"
     ]
    }
   ],
   "source": [
    "from datetime import datetime\n",
    "\n",
    "now = datetime.now()\n",
    "\n",
    "start_time = now.strftime(\"%H:%M:%S\")\n",
    "print(\"Start Time =\", start_time)"
   ]
  },
  {
   "cell_type": "markdown",
   "id": "aa86258e",
   "metadata": {
    "pycharm": {
     "name": "#%% md\n"
    }
   },
   "source": [
    "## Sets"
   ]
  },
  {
   "cell_type": "code",
   "execution_count": 7,
   "id": "6324b7f3",
   "metadata": {
    "ExecuteTime": {
     "end_time": "2023-01-24T15:33:15.959061Z",
     "start_time": "2023-01-24T15:33:15.949061Z"
    },
    "pycharm": {
     "name": "#%%\n"
    }
   },
   "outputs": [],
   "source": [
    "model = pyo.ConcreteModel()\n",
    "\n",
    "model.ev = pyo.Set(initialize = np.arange(1, n_evs + 1))\n",
    "model.t = pyo.Set(initialize = np.arange(1, n_time + 1))\n"
   ]
  },
  {
   "cell_type": "markdown",
   "id": "c5060158",
   "metadata": {
    "pycharm": {
     "name": "#%% md\n"
    }
   },
   "source": [
    "## Parameters"
   ]
  },
  {
   "cell_type": "code",
   "execution_count": 8,
   "id": "0244c4e0",
   "metadata": {
    "ExecuteTime": {
     "end_time": "2023-01-24T15:33:17.353101Z",
     "start_time": "2023-01-24T15:33:15.960061Z"
    },
    "pycharm": {
     "name": "#%%\n"
    }
   },
   "outputs": [],
   "source": [
    "model.EEVmax = pyo.Param(model.ev, initialize =_auxDictionary(data['EVs_Inputs'].to_numpy()[:,2]))\n",
    "model.EEVmin = pyo.Param(model.ev, initialize =_auxDictionary(data['EVs_Inputs'].to_numpy()[:,1]))\n",
    "model.ESoc = pyo.Param(model.ev, initialize =_auxDictionary(data['EVs_Inputs'].to_numpy()[:,0]))\n",
    "model.dT = pyo.Param(model.t, initialize =_auxDictionary(data['Inputs'].to_numpy()[:,0]))\n",
    "model.cDA = pyo.Param(model.t, initialize =_auxDictionary(data['Inputs'].to_numpy()[:,1]))\n",
    "model.Pl = pyo.Param(model.t, initialize =_auxDictionary(data['Inputs'].to_numpy()[:,2]))\n",
    "model.Php = pyo.Param(model.t, initialize =_auxDictionary(data['Inputs'].to_numpy()[:,3]))\n",
    "model.Pb = pyo.Param(model.t, initialize =_auxDictionary(data['Inputs'].to_numpy()[:,4]))\n",
    "model.Pimp = pyo.Param(model.t, initialize =_auxDictionary(data['Inputs'].to_numpy()[:,5]))\n",
    "model.Ppv = pyo.Param(model.t, initialize =_auxDictionary(data['Inputs'].to_numpy()[:,6]))\n",
    "model.Pwind = pyo.Param(model.t, initialize =_auxDictionary(data['Inputs'].to_numpy()[:,7]))\n",
    "model.Phid = pyo.Param(model.t, initialize =_auxDictionary(data['Inputs'].to_numpy()[:,8]))\n",
    "model.Pbio = pyo.Param(model.t, initialize =_auxDictionary(data['Inputs'].to_numpy()[:,9]))\n",
    "model.PchmaxEV = pyo.Param(model.ev, model.t, initialize =_auxDictionary(data['PchmaxEV'].to_numpy()))\n",
    "model.S = pyo.Param(model.ev, model.t, initialize = _auxDictionary(data['S'].to_numpy()))\n",
    "model.alpha = pyo.Param(model.ev, model.t, initialize = _auxDictionary(data['alpha'].to_numpy()))\n",
    "model.RealHour = pyo.Param(model.t, initialize=_auxDictionary(data['Inputs'].to_numpy()[:,9]))\n",
    "model.penalty1 = 1000\n",
    "model.penalty2 = 1000\n",
    "model.penalty3 = 0.6\n",
    "model.Etrip = pyo.Param(model.ev, initialize=_auxDictionary(data['EVs_Inputs'].to_numpy()[:,3]))\n",
    "model.n = 0.95\n",
    "model.m = 0.6\n",
    "model.factor = 1"
   ]
  },
  {
   "cell_type": "markdown",
   "id": "ed19147f",
   "metadata": {
    "pycharm": {
     "name": "#%% md\n"
    }
   },
   "source": [
    "## Variables"
   ]
  },
  {
   "cell_type": "code",
   "execution_count": 9,
   "id": "8eb6f254",
   "metadata": {
    "ExecuteTime": {
     "end_time": "2023-01-24T15:33:17.619115Z",
     "start_time": "2023-01-24T15:33:17.353101Z"
    },
    "pycharm": {
     "name": "#%%\n"
    }
   },
   "outputs": [],
   "source": [
    "model.PEV = pyo.Var(model.ev, model.t, domain = pyo.NonNegativeReals, initialize = 0)\n",
    "model.EEV = pyo.Var(model.ev, model.t, domain = pyo.Reals, initialize = 0)\n",
    "model.Etriprelax = pyo.Var(model.ev, model.t, domain = pyo.NonNegativeReals, initialize = 0)\n",
    "model.Eminsocrelax = pyo.Var(model.ev, model.t, domain = pyo.NonNegativeReals, initialize = 0)\n",
    "model.Etripn = pyo.Var(model.ev, model.t, domain = pyo.Reals, initialize = 0)\n",
    "model.Pgen = pyo.Var(model.t, domain =  pyo.NonNegativeReals, initialize = 0)\n",
    "model.Pres = pyo.Var(model.t, domain = pyo.NonNegativeReals, initialize = 0)\n",
    "model.Pex = pyo.Var(model.t, domain = pyo.NonNegativeReals, initialize = 0)"
   ]
  },
  {
   "cell_type": "markdown",
   "id": "7186c6b6",
   "metadata": {
    "pycharm": {
     "name": "#%% md\n"
    }
   },
   "source": [
    "## Constraints"
   ]
  },
  {
   "cell_type": "code",
   "execution_count": 10,
   "id": "af513242",
   "metadata": {
    "ExecuteTime": {
     "end_time": "2023-01-24T15:33:22.419174Z",
     "start_time": "2023-01-24T15:33:17.621116Z"
    },
    "pycharm": {
     "name": "#%%\n"
    }
   },
   "outputs": [],
   "source": [
    "def _balance_etripn(m,ev,t): \n",
    "    return m.Etripn[ev,t] == m.Etrip[ev]*m.S[ev,t]/(sum([m.S[ev,k] for k in np.arange(1, n_time + 1)]))\n",
    "model.balance_etripn = pyo.Constraint(model.ev, model.t, rule = _balance_etripn)\n",
    "\n",
    "def _balance_energy_EVS3(m,ev,t): \n",
    "    if t == 24:\n",
    "        return m.EEV[ev,t] + m.Etriprelax[ev,t] >= m.EEVmax[ev]*m.m\n",
    "    return pyo.Constraint.Skip\n",
    "model.balance_energy_EVS3 = pyo.Constraint(model.ev, model.t, rule = _balance_energy_EVS3)\n",
    "\n",
    "def _balance_energy_EVS(m,ev,t): \n",
    "    if t == 1:\n",
    "        return m.EEV[ev,t] - m.Etriprelax[ev,t] == m.ESoc[ev] + m.PEV[ev,t]*m.dT[t]*m.n - m.Etripn[ev,t]\n",
    "    return pyo.Constraint.Skip\n",
    "model.balance_energy_EVS = pyo.Constraint(model.ev, model.t, rule = _balance_energy_EVS)\n",
    "\n",
    "def _balance_energy_EVS2(m,ev,t): \n",
    "    if t > 1:\n",
    "        return m.EEV[ev,t] - m.Etriprelax[ev,t] == m.EEV[ev,t-1] + m.PEV[ev,t]*m.dT[t]*m.n - m.Etripn[ev,t]\n",
    "    return pyo.Constraint.Skip\n",
    "model.balance_energy_EVS2 = pyo.Constraint(model.ev, model.t, rule = _balance_energy_EVS2)\n",
    "\n",
    "def _RES_balance(m,t):\n",
    "    return m.Pres[t] == m.Pwind[t] + m.Ppv[t] + m.Phid[t] + m.Pbio[t]\n",
    "model.RES_balance = pyo.Constraint(model.t, rule = _RES_balance)\n",
    "\n",
    "def _total_balance(m,t):\n",
    "    #if (country == \"Slovenia\"):\n",
    "        return m.Pgen[t] + m.Pres[t] + m.Pimp[t] - m.Pex[t] == m.Pl[t] + m.Pb[t] +sum(m.PEV[ev, t] for ev in np.arange(1, n_evs + 1))\n",
    "    #else:\n",
    "        #return m.Pgen[t] + m.Pres[t] + m.Pimp[t] - m.Pex[t] ==  m.Pl[t] + m.Pb[t] + sum(m.PEV[ev, t] for ev in np.arange(1, n_evs + 1))\n",
    "model.total_balance = pyo.Constraint(model.t, rule = _total_balance)\n",
    "\n",
    "def _power_charging_limit1(m,ev,t): \n",
    "    return m.PEV[ev,t] >= 0\n",
    "model.power_charging_limit1 = pyo.Constraint(model.ev, model.t, rule = _power_charging_limit1)\n",
    "\n",
    "def _power_charging_limit2(m,ev,t): \n",
    "    return m.PEV[ev,t] <= m.alpha[ev,t]*m.PchmaxEV[ev,t]*m.factor\n",
    "model.power_charging_limit2 = pyo.Constraint(model.ev, model.t, rule = _power_charging_limit2)\n",
    "\n",
    "def _energy_limits_EVS_1(m,ev,t): \n",
    "    return m.EEVmin[ev] <= m.EEV[ev,t] + m.Eminsocrelax[ev,t]\n",
    "    #return m.EEVmin[ev] <= m.EEV[ev,t]\n",
    "model.energy_limits_EVS_1 = pyo.Constraint(model.ev, model.t, rule = _energy_limits_EVS_1)\n",
    "\n",
    "def _energy_limits_EVS_2(m,ev,t): \n",
    "    return m.EEV[ev,t] <= m.EEVmax[ev]\n",
    "model.energy_limits_EVS_2 = pyo.Constraint(model.ev, model.t, rule = _energy_limits_EVS_2)\n"
   ]
  },
  {
   "cell_type": "markdown",
   "id": "4fc67cc6",
   "metadata": {
    "pycharm": {
     "name": "#%% md\n"
    }
   },
   "source": [
    "## Objective function"
   ]
  },
  {
   "cell_type": "code",
   "execution_count": 11,
   "id": "a81eab81",
   "metadata": {
    "ExecuteTime": {
     "end_time": "2023-01-24T15:33:22.749192Z",
     "start_time": "2023-01-24T15:33:22.419174Z"
    },
    "pycharm": {
     "name": "#%%\n"
    }
   },
   "outputs": [],
   "source": [
    "def _FOag(m):\n",
    "    return (sum(m.Pgen[t] for t in np.arange(1, n_time + 1))**2 + sum(m.Ppv[t] for t in np.arange(1, n_time + 1))**2)/ (sum(m.Ppv[t] for t in np.arange(1, n_time + 1))**2) + sum([m.Etriprelax[ev,t]*m.penalty1 + m.Eminsocrelax[ev,t]*m.penalty2 for ev in np.arange(1, n_evs + 1) for t in np.arange(1, n_time + 1)])\n",
    "\n",
    "model.FOag = pyo.Objective(rule = _FOag, sense = pyo.minimize)"
   ]
  },
  {
   "cell_type": "markdown",
   "id": "c187224f",
   "metadata": {
    "pycharm": {
     "name": "#%% md\n"
    }
   },
   "source": [
    "## Solve the model"
   ]
  },
  {
   "cell_type": "code",
   "execution_count": 12,
   "id": "633159e2",
   "metadata": {
    "ExecuteTime": {
     "end_time": "2023-01-24T15:33:41.798287Z",
     "start_time": "2023-01-24T15:33:22.751192Z"
    },
    "pycharm": {
     "name": "#%%\n"
    }
   },
   "outputs": [
    {
     "name": "stdout",
     "output_type": "stream",
     "text": [
      "# ==========================================================\n",
      "# = Solver Results                                         =\n",
      "# ==========================================================\n",
      "# ----------------------------------------------------------\n",
      "#   Problem Information\n",
      "# ----------------------------------------------------------\n",
      "Problem: \n",
      "- Name: tmpge0qsyr6\n",
      "  Lower bound: 588287589.7100073\n",
      "  Upper bound: 588287589.7100073\n",
      "  Number of objectives: 1\n",
      "  Number of constraints: 917754\n",
      "  Number of variables: 759553\n",
      "  Number of nonzeros: 1829178\n",
      "  Sense: minimize\n",
      "# ----------------------------------------------------------\n",
      "#   Solver Information\n",
      "# ----------------------------------------------------------\n",
      "Solver: \n",
      "- Status: ok\n",
      "  User time: 5.13\n",
      "  Termination condition: optimal\n",
      "  Termination message: Barrier - Optimal\\x3a Objective = 5.8828758971e+08\n",
      "  Error rc: 0\n",
      "  Time: 11.08033561706543\n",
      "# ----------------------------------------------------------\n",
      "#   Solution Information\n",
      "# ----------------------------------------------------------\n",
      "Solution: \n",
      "- number of solutions: 0\n",
      "  number of solutions displayed: 0\n"
     ]
    }
   ],
   "source": [
    "from pyomo.opt import SolverFactory\n",
    "\n",
    "model.write('res_V4_EC.lp',  io_options={'symbolic_solver_labels': True})\n",
    "\n",
    "# Create a solver\n",
    "#opt = pyo.SolverFactory('cbc', executable='C:/Program Files/Cbc-releases.2.10.8-x86_64-w64-mingw64/bin/cbc.exe')\n",
    "\n",
    "opt = pyo.SolverFactory('cplex', executable='C:/Program Files/IBM/ILOG/CPLEX_Studio129/cplex/bin/x64_win64/cplex.exe')\n",
    "opt.options['LogFile'] = 'res_V4_EC.log'\n",
    "\n",
    "#opt = pyo.SolverFactory('ipopt', executable='C:/Program Files/Ipopt-3.11.1-win64-intel13.1/bin/ipopt.exe')\n",
    "#opt.options['print_level'] = 12\n",
    "#opt.options['output_file'] = \"res_V5_EC.log\"\n",
    "\n",
    "results = opt.solve(model)#, tee=True)\n",
    "results.write()"
   ]
  },
  {
   "cell_type": "markdown",
   "id": "e400b960",
   "metadata": {
    "pycharm": {
     "name": "#%% md\n"
    }
   },
   "source": [
    "## Objective Function Value"
   ]
  },
  {
   "cell_type": "code",
   "execution_count": 13,
   "id": "a7e24b62",
   "metadata": {
    "ExecuteTime": {
     "end_time": "2023-01-24T15:33:41.998298Z",
     "start_time": "2023-01-24T15:33:41.798287Z"
    },
    "pycharm": {
     "name": "#%%\n"
    }
   },
   "outputs": [
    {
     "data": {
      "text/plain": [
       "588287589.7106819"
      ]
     },
     "execution_count": 13,
     "metadata": {},
     "output_type": "execute_result"
    }
   ],
   "source": [
    "pyo.value(model.FOag)"
   ]
  },
  {
   "cell_type": "markdown",
   "id": "8d24bfd3",
   "metadata": {
    "pycharm": {
     "name": "#%% md\n"
    }
   },
   "source": [
    "## End Time"
   ]
  },
  {
   "cell_type": "code",
   "execution_count": 14,
   "id": "712a6ae9",
   "metadata": {
    "pycharm": {
     "name": "#%%\n"
    }
   },
   "outputs": [
    {
     "name": "stdout",
     "output_type": "stream",
     "text": [
      "End Time = 14:41:49\n",
      "Dif: 0:03:12\n"
     ]
    }
   ],
   "source": [
    "now = datetime.now()\n",
    "\n",
    "end_time = now.strftime(\"%H:%M:%S\")\n",
    "print(\"End Time =\", end_time)\n",
    "print(\"Dif: {}\".format(datetime.strptime(end_time, \"%H:%M:%S\") - datetime.strptime(start_time, \"%H:%M:%S\")))"
   ]
  },
  {
   "cell_type": "markdown",
   "id": "de186eda",
   "metadata": {
    "pycharm": {
     "name": "#%% md\n"
    }
   },
   "source": [
    "## Cost Value"
   ]
  },
  {
   "cell_type": "code",
   "execution_count": 15,
   "id": "5e6051a8",
   "metadata": {
    "ExecuteTime": {
     "end_time": "2023-01-24T15:33:42.008298Z",
     "start_time": "2023-01-24T15:33:42.000298Z"
    },
    "pycharm": {
     "name": "#%%\n"
    }
   },
   "outputs": [],
   "source": [
    "def ext_pyomo_vals(vals):\n",
    "    # make a pd.Series from each\n",
    "    s = pd.Series(vals.extract_values(),\n",
    "                  index=vals.extract_values().keys())\n",
    "    # if the series is multi-indexed we need to unstack it...\n",
    "    if type(s.index[0]) == tuple:    # it is multi-indexed\n",
    "        s = s.unstack(level=1)\n",
    "    else:\n",
    "        # force transition from Series -> df\n",
    "        s = pd.DataFrame(s)\n",
    "    return s"
   ]
  },
  {
   "cell_type": "code",
   "execution_count": 16,
   "id": "bbb357f8",
   "metadata": {
    "ExecuteTime": {
     "end_time": "2023-01-24T15:33:43.620333Z",
     "start_time": "2023-01-24T15:33:42.011299Z"
    },
    "pycharm": {
     "name": "#%%\n"
    }
   },
   "outputs": [
    {
     "name": "stdout",
     "output_type": "stream",
     "text": [
      "Charge cost: 11333735.454171581\n"
     ]
    }
   ],
   "source": [
    "PEV_df = ext_pyomo_vals(model.PEV)\n",
    "dT_df = ext_pyomo_vals(model.dT)\n",
    "cDA_df = ext_pyomo_vals(model.cDA)\n",
    "EEV_df = ext_pyomo_vals(model.EEV)\n",
    "\n",
    "charge_cost = sum([PEV_df[t][ev]*dT_df[0][t]*cDA_df[0][t]\n",
    "                   for ev in np.arange(1, n_evs + 1) for t in np.arange(1, n_time + 1)])\n",
    "\n",
    "print('Charge cost: {}'.format(charge_cost))"
   ]
  },
  {
   "cell_type": "markdown",
   "id": "7e5cd7ce",
   "metadata": {
    "pycharm": {
     "name": "#%% md\n"
    }
   },
   "source": [
    "## Results"
   ]
  },
  {
   "cell_type": "code",
   "execution_count": 17,
   "id": "a341e329",
   "metadata": {
    "ExecuteTime": {
     "end_time": "2023-01-24T15:33:43.628333Z",
     "start_time": "2023-01-24T15:33:43.620333Z"
    },
    "pycharm": {
     "name": "#%%\n"
    }
   },
   "outputs": [
    {
     "name": "stdout",
     "output_type": "stream",
     "text": [
      "Total Charge: 62.41315614423894\n"
     ]
    }
   ],
   "source": [
    "print(\"Total Charge: {}\".format(np.sum(PEV_df.to_numpy()/1000000)))"
   ]
  },
  {
   "cell_type": "code",
   "execution_count": 18,
   "id": "2ed8567c",
   "metadata": {
    "ExecuteTime": {
     "end_time": "2023-01-24T15:33:43.683336Z",
     "start_time": "2023-01-24T15:33:43.638334Z"
    },
    "pycharm": {
     "name": "#%%\n"
    }
   },
   "outputs": [
    {
     "data": {
      "text/html": [
       "<div>\n",
       "<style scoped>\n",
       "    .dataframe tbody tr th:only-of-type {\n",
       "        vertical-align: middle;\n",
       "    }\n",
       "\n",
       "    .dataframe tbody tr th {\n",
       "        vertical-align: top;\n",
       "    }\n",
       "\n",
       "    .dataframe thead th {\n",
       "        text-align: right;\n",
       "    }\n",
       "</style>\n",
       "<table border=\"1\" class=\"dataframe\">\n",
       "  <thead>\n",
       "    <tr style=\"text-align: right;\">\n",
       "      <th></th>\n",
       "      <th>1</th>\n",
       "      <th>2</th>\n",
       "      <th>3</th>\n",
       "      <th>4</th>\n",
       "      <th>5</th>\n",
       "      <th>6</th>\n",
       "      <th>7</th>\n",
       "      <th>8</th>\n",
       "      <th>9</th>\n",
       "      <th>10</th>\n",
       "      <th>...</th>\n",
       "      <th>15</th>\n",
       "      <th>16</th>\n",
       "      <th>17</th>\n",
       "      <th>18</th>\n",
       "      <th>19</th>\n",
       "      <th>20</th>\n",
       "      <th>21</th>\n",
       "      <th>22</th>\n",
       "      <th>23</th>\n",
       "      <th>24</th>\n",
       "    </tr>\n",
       "  </thead>\n",
       "  <tbody>\n",
       "    <tr>\n",
       "      <th>1</th>\n",
       "      <td>64680.000000</td>\n",
       "      <td>64680.000000</td>\n",
       "      <td>64680.000000</td>\n",
       "      <td>64680.000000</td>\n",
       "      <td>64680.000000</td>\n",
       "      <td>64680.000000</td>\n",
       "      <td>64680.000000</td>\n",
       "      <td>64680.000000</td>\n",
       "      <td>64680.000000</td>\n",
       "      <td>64680.000000</td>\n",
       "      <td>...</td>\n",
       "      <td>62336.679987</td>\n",
       "      <td>62829.415933</td>\n",
       "      <td>63493.062891</td>\n",
       "      <td>64243.467625</td>\n",
       "      <td>65019.814130</td>\n",
       "      <td>65820.496620</td>\n",
       "      <td>66572.149031</td>\n",
       "      <td>67149.409293</td>\n",
       "      <td>67677.785852</td>\n",
       "      <td>64943.200559</td>\n",
       "    </tr>\n",
       "    <tr>\n",
       "      <th>2</th>\n",
       "      <td>38103.743049</td>\n",
       "      <td>38103.743049</td>\n",
       "      <td>38103.743049</td>\n",
       "      <td>38103.743049</td>\n",
       "      <td>38103.743049</td>\n",
       "      <td>38103.743049</td>\n",
       "      <td>38103.743049</td>\n",
       "      <td>38103.743049</td>\n",
       "      <td>38103.743049</td>\n",
       "      <td>38103.743049</td>\n",
       "      <td>...</td>\n",
       "      <td>35454.438636</td>\n",
       "      <td>35920.333319</td>\n",
       "      <td>36543.942304</td>\n",
       "      <td>37254.479733</td>\n",
       "      <td>37988.468203</td>\n",
       "      <td>38747.405816</td>\n",
       "      <td>39471.145120</td>\n",
       "      <td>40031.462645</td>\n",
       "      <td>40538.056614</td>\n",
       "      <td>41053.794247</td>\n",
       "    </tr>\n",
       "    <tr>\n",
       "      <th>3</th>\n",
       "      <td>8169.093412</td>\n",
       "      <td>8238.652367</td>\n",
       "      <td>8308.352993</td>\n",
       "      <td>8378.202381</td>\n",
       "      <td>8448.219662</td>\n",
       "      <td>8518.434285</td>\n",
       "      <td>8589.019585</td>\n",
       "      <td>8659.860005</td>\n",
       "      <td>8730.970972</td>\n",
       "      <td>8802.383681</td>\n",
       "      <td>...</td>\n",
       "      <td>9158.404000</td>\n",
       "      <td>9158.404000</td>\n",
       "      <td>9158.404000</td>\n",
       "      <td>9158.404000</td>\n",
       "      <td>9158.404000</td>\n",
       "      <td>9158.404000</td>\n",
       "      <td>9158.404000</td>\n",
       "      <td>9158.404000</td>\n",
       "      <td>9158.404000</td>\n",
       "      <td>9243.363223</td>\n",
       "    </tr>\n",
       "    <tr>\n",
       "      <th>4</th>\n",
       "      <td>8169.183431</td>\n",
       "      <td>8238.833741</td>\n",
       "      <td>8308.625955</td>\n",
       "      <td>8378.567264</td>\n",
       "      <td>8448.676922</td>\n",
       "      <td>8518.984520</td>\n",
       "      <td>8589.663904</td>\n",
       "      <td>8660.599254</td>\n",
       "      <td>8731.806076</td>\n",
       "      <td>8803.315676</td>\n",
       "      <td>...</td>\n",
       "      <td>9148.570475</td>\n",
       "      <td>9148.570475</td>\n",
       "      <td>9148.570475</td>\n",
       "      <td>9148.570475</td>\n",
       "      <td>9148.570475</td>\n",
       "      <td>9148.570475</td>\n",
       "      <td>9148.570475</td>\n",
       "      <td>9148.570475</td>\n",
       "      <td>9148.570475</td>\n",
       "      <td>9222.436030</td>\n",
       "    </tr>\n",
       "    <tr>\n",
       "      <th>5</th>\n",
       "      <td>40800.000000</td>\n",
       "      <td>40800.000000</td>\n",
       "      <td>40800.000000</td>\n",
       "      <td>40800.000000</td>\n",
       "      <td>40800.000000</td>\n",
       "      <td>40800.000000</td>\n",
       "      <td>40800.000000</td>\n",
       "      <td>40800.000000</td>\n",
       "      <td>40800.000000</td>\n",
       "      <td>40800.000000</td>\n",
       "      <td>...</td>\n",
       "      <td>38341.564783</td>\n",
       "      <td>37120.370857</td>\n",
       "      <td>38555.720347</td>\n",
       "      <td>40827.547418</td>\n",
       "      <td>43545.963123</td>\n",
       "      <td>44624.528949</td>\n",
       "      <td>44904.242258</td>\n",
       "      <td>44026.120229</td>\n",
       "      <td>42985.576231</td>\n",
       "      <td>40952.534753</td>\n",
       "    </tr>\n",
       "    <tr>\n",
       "      <th>...</th>\n",
       "      <td>...</td>\n",
       "      <td>...</td>\n",
       "      <td>...</td>\n",
       "      <td>...</td>\n",
       "      <td>...</td>\n",
       "      <td>...</td>\n",
       "      <td>...</td>\n",
       "      <td>...</td>\n",
       "      <td>...</td>\n",
       "      <td>...</td>\n",
       "      <td>...</td>\n",
       "      <td>...</td>\n",
       "      <td>...</td>\n",
       "      <td>...</td>\n",
       "      <td>...</td>\n",
       "      <td>...</td>\n",
       "      <td>...</td>\n",
       "      <td>...</td>\n",
       "      <td>...</td>\n",
       "      <td>...</td>\n",
       "      <td>...</td>\n",
       "    </tr>\n",
       "    <tr>\n",
       "      <th>6325</th>\n",
       "      <td>45620.398633</td>\n",
       "      <td>46919.765569</td>\n",
       "      <td>48241.343696</td>\n",
       "      <td>49591.048357</td>\n",
       "      <td>50975.262659</td>\n",
       "      <td>52402.116075</td>\n",
       "      <td>53886.842900</td>\n",
       "      <td>55438.835012</td>\n",
       "      <td>57077.587435</td>\n",
       "      <td>58832.023009</td>\n",
       "      <td>...</td>\n",
       "      <td>60697.989964</td>\n",
       "      <td>56560.726280</td>\n",
       "      <td>52423.462595</td>\n",
       "      <td>48286.198911</td>\n",
       "      <td>48286.198911</td>\n",
       "      <td>44148.935226</td>\n",
       "      <td>40011.671542</td>\n",
       "      <td>40011.671542</td>\n",
       "      <td>35874.407857</td>\n",
       "      <td>44506.205455</td>\n",
       "    </tr>\n",
       "    <tr>\n",
       "      <th>6326</th>\n",
       "      <td>46905.573438</td>\n",
       "      <td>47013.419036</td>\n",
       "      <td>47121.307438</td>\n",
       "      <td>47229.332597</td>\n",
       "      <td>47337.535562</td>\n",
       "      <td>47445.967372</td>\n",
       "      <td>47554.862603</td>\n",
       "      <td>47664.113643</td>\n",
       "      <td>47773.787061</td>\n",
       "      <td>47883.971938</td>\n",
       "      <td>...</td>\n",
       "      <td>47528.734616</td>\n",
       "      <td>47528.734616</td>\n",
       "      <td>47528.734616</td>\n",
       "      <td>47528.734616</td>\n",
       "      <td>47528.734616</td>\n",
       "      <td>47528.734616</td>\n",
       "      <td>47528.734616</td>\n",
       "      <td>47528.734616</td>\n",
       "      <td>47528.734616</td>\n",
       "      <td>46849.256181</td>\n",
       "    </tr>\n",
       "    <tr>\n",
       "      <th>6327</th>\n",
       "      <td>57000.000000</td>\n",
       "      <td>57000.000000</td>\n",
       "      <td>57000.000000</td>\n",
       "      <td>57000.000000</td>\n",
       "      <td>57000.000000</td>\n",
       "      <td>57000.000000</td>\n",
       "      <td>57000.000000</td>\n",
       "      <td>57000.000000</td>\n",
       "      <td>57000.000000</td>\n",
       "      <td>57000.000000</td>\n",
       "      <td>...</td>\n",
       "      <td>55353.062060</td>\n",
       "      <td>55742.907219</td>\n",
       "      <td>56228.877289</td>\n",
       "      <td>56772.530044</td>\n",
       "      <td>57320.746915</td>\n",
       "      <td>57880.624792</td>\n",
       "      <td>58431.615553</td>\n",
       "      <td>58878.849176</td>\n",
       "      <td>59294.591159</td>\n",
       "      <td>57325.441806</td>\n",
       "    </tr>\n",
       "    <tr>\n",
       "      <th>6328</th>\n",
       "      <td>65569.031036</td>\n",
       "      <td>66490.011219</td>\n",
       "      <td>67417.055458</td>\n",
       "      <td>68351.431703</td>\n",
       "      <td>69294.290542</td>\n",
       "      <td>70247.056584</td>\n",
       "      <td>71212.765005</td>\n",
       "      <td>72192.021278</td>\n",
       "      <td>73187.018819</td>\n",
       "      <td>74200.382343</td>\n",
       "      <td>...</td>\n",
       "      <td>69392.070420</td>\n",
       "      <td>69392.070420</td>\n",
       "      <td>69392.070420</td>\n",
       "      <td>69392.070420</td>\n",
       "      <td>69392.070420</td>\n",
       "      <td>69392.070420</td>\n",
       "      <td>69392.070420</td>\n",
       "      <td>69392.070420</td>\n",
       "      <td>69392.070420</td>\n",
       "      <td>64833.138191</td>\n",
       "    </tr>\n",
       "    <tr>\n",
       "      <th>6329</th>\n",
       "      <td>44400.000000</td>\n",
       "      <td>44400.000000</td>\n",
       "      <td>44400.000000</td>\n",
       "      <td>44400.000000</td>\n",
       "      <td>44400.000000</td>\n",
       "      <td>44400.000000</td>\n",
       "      <td>44400.000000</td>\n",
       "      <td>44400.000000</td>\n",
       "      <td>44400.000000</td>\n",
       "      <td>44400.000000</td>\n",
       "      <td>...</td>\n",
       "      <td>43353.825756</td>\n",
       "      <td>42837.642605</td>\n",
       "      <td>43798.236059</td>\n",
       "      <td>44967.550553</td>\n",
       "      <td>45088.992803</td>\n",
       "      <td>45289.076581</td>\n",
       "      <td>46495.496454</td>\n",
       "      <td>46175.073264</td>\n",
       "      <td>45769.065936</td>\n",
       "      <td>44622.939898</td>\n",
       "    </tr>\n",
       "  </tbody>\n",
       "</table>\n",
       "<p>6329 rows × 24 columns</p>\n",
       "</div>"
      ],
      "text/plain": [
       "                1             2             3             4             5   \\\n",
       "1     64680.000000  64680.000000  64680.000000  64680.000000  64680.000000   \n",
       "2     38103.743049  38103.743049  38103.743049  38103.743049  38103.743049   \n",
       "3      8169.093412   8238.652367   8308.352993   8378.202381   8448.219662   \n",
       "4      8169.183431   8238.833741   8308.625955   8378.567264   8448.676922   \n",
       "5     40800.000000  40800.000000  40800.000000  40800.000000  40800.000000   \n",
       "...            ...           ...           ...           ...           ...   \n",
       "6325  45620.398633  46919.765569  48241.343696  49591.048357  50975.262659   \n",
       "6326  46905.573438  47013.419036  47121.307438  47229.332597  47337.535562   \n",
       "6327  57000.000000  57000.000000  57000.000000  57000.000000  57000.000000   \n",
       "6328  65569.031036  66490.011219  67417.055458  68351.431703  69294.290542   \n",
       "6329  44400.000000  44400.000000  44400.000000  44400.000000  44400.000000   \n",
       "\n",
       "                6             7             8             9             10  \\\n",
       "1     64680.000000  64680.000000  64680.000000  64680.000000  64680.000000   \n",
       "2     38103.743049  38103.743049  38103.743049  38103.743049  38103.743049   \n",
       "3      8518.434285   8589.019585   8659.860005   8730.970972   8802.383681   \n",
       "4      8518.984520   8589.663904   8660.599254   8731.806076   8803.315676   \n",
       "5     40800.000000  40800.000000  40800.000000  40800.000000  40800.000000   \n",
       "...            ...           ...           ...           ...           ...   \n",
       "6325  52402.116075  53886.842900  55438.835012  57077.587435  58832.023009   \n",
       "6326  47445.967372  47554.862603  47664.113643  47773.787061  47883.971938   \n",
       "6327  57000.000000  57000.000000  57000.000000  57000.000000  57000.000000   \n",
       "6328  70247.056584  71212.765005  72192.021278  73187.018819  74200.382343   \n",
       "6329  44400.000000  44400.000000  44400.000000  44400.000000  44400.000000   \n",
       "\n",
       "      ...            15            16            17            18  \\\n",
       "1     ...  62336.679987  62829.415933  63493.062891  64243.467625   \n",
       "2     ...  35454.438636  35920.333319  36543.942304  37254.479733   \n",
       "3     ...   9158.404000   9158.404000   9158.404000   9158.404000   \n",
       "4     ...   9148.570475   9148.570475   9148.570475   9148.570475   \n",
       "5     ...  38341.564783  37120.370857  38555.720347  40827.547418   \n",
       "...   ...           ...           ...           ...           ...   \n",
       "6325  ...  60697.989964  56560.726280  52423.462595  48286.198911   \n",
       "6326  ...  47528.734616  47528.734616  47528.734616  47528.734616   \n",
       "6327  ...  55353.062060  55742.907219  56228.877289  56772.530044   \n",
       "6328  ...  69392.070420  69392.070420  69392.070420  69392.070420   \n",
       "6329  ...  43353.825756  42837.642605  43798.236059  44967.550553   \n",
       "\n",
       "                19            20            21            22            23  \\\n",
       "1     65019.814130  65820.496620  66572.149031  67149.409293  67677.785852   \n",
       "2     37988.468203  38747.405816  39471.145120  40031.462645  40538.056614   \n",
       "3      9158.404000   9158.404000   9158.404000   9158.404000   9158.404000   \n",
       "4      9148.570475   9148.570475   9148.570475   9148.570475   9148.570475   \n",
       "5     43545.963123  44624.528949  44904.242258  44026.120229  42985.576231   \n",
       "...            ...           ...           ...           ...           ...   \n",
       "6325  48286.198911  44148.935226  40011.671542  40011.671542  35874.407857   \n",
       "6326  47528.734616  47528.734616  47528.734616  47528.734616  47528.734616   \n",
       "6327  57320.746915  57880.624792  58431.615553  58878.849176  59294.591159   \n",
       "6328  69392.070420  69392.070420  69392.070420  69392.070420  69392.070420   \n",
       "6329  45088.992803  45289.076581  46495.496454  46175.073264  45769.065936   \n",
       "\n",
       "                24  \n",
       "1     64943.200559  \n",
       "2     41053.794247  \n",
       "3      9243.363223  \n",
       "4      9222.436030  \n",
       "5     40952.534753  \n",
       "...            ...  \n",
       "6325  44506.205455  \n",
       "6326  46849.256181  \n",
       "6327  57325.441806  \n",
       "6328  64833.138191  \n",
       "6329  44622.939898  \n",
       "\n",
       "[6329 rows x 24 columns]"
      ]
     },
     "execution_count": 18,
     "metadata": {},
     "output_type": "execute_result"
    }
   ],
   "source": [
    "EEV_df"
   ]
  },
  {
   "cell_type": "code",
   "execution_count": 19,
   "id": "4623282e",
   "metadata": {
    "ExecuteTime": {
     "end_time": "2023-01-24T15:33:43.736339Z",
     "start_time": "2023-01-24T15:33:43.685336Z"
    },
    "pycharm": {
     "name": "#%%\n"
    }
   },
   "outputs": [
    {
     "data": {
      "text/html": [
       "<div>\n",
       "<style scoped>\n",
       "    .dataframe tbody tr th:only-of-type {\n",
       "        vertical-align: middle;\n",
       "    }\n",
       "\n",
       "    .dataframe tbody tr th {\n",
       "        vertical-align: top;\n",
       "    }\n",
       "\n",
       "    .dataframe thead th {\n",
       "        text-align: right;\n",
       "    }\n",
       "</style>\n",
       "<table border=\"1\" class=\"dataframe\">\n",
       "  <thead>\n",
       "    <tr style=\"text-align: right;\">\n",
       "      <th></th>\n",
       "      <th>1</th>\n",
       "      <th>2</th>\n",
       "      <th>3</th>\n",
       "      <th>4</th>\n",
       "      <th>5</th>\n",
       "      <th>6</th>\n",
       "      <th>7</th>\n",
       "      <th>8</th>\n",
       "      <th>9</th>\n",
       "      <th>10</th>\n",
       "      <th>...</th>\n",
       "      <th>15</th>\n",
       "      <th>16</th>\n",
       "      <th>17</th>\n",
       "      <th>18</th>\n",
       "      <th>19</th>\n",
       "      <th>20</th>\n",
       "      <th>21</th>\n",
       "      <th>22</th>\n",
       "      <th>23</th>\n",
       "      <th>24</th>\n",
       "    </tr>\n",
       "  </thead>\n",
       "  <tbody>\n",
       "    <tr>\n",
       "      <th>1</th>\n",
       "      <td>0.000000</td>\n",
       "      <td>0.000000</td>\n",
       "      <td>0.000000</td>\n",
       "      <td>0.000000</td>\n",
       "      <td>0.000000</td>\n",
       "      <td>0.000000</td>\n",
       "      <td>0.000000</td>\n",
       "      <td>0.000000</td>\n",
       "      <td>0.000000</td>\n",
       "      <td>0.000000</td>\n",
       "      <td>...</td>\n",
       "      <td>517.420831</td>\n",
       "      <td>518.669417</td>\n",
       "      <td>698.575745</td>\n",
       "      <td>789.899719</td>\n",
       "      <td>817.206848</td>\n",
       "      <td>842.823673</td>\n",
       "      <td>791.213064</td>\n",
       "      <td>607.642381</td>\n",
       "      <td>556.185852</td>\n",
       "      <td>621.010377</td>\n",
       "    </tr>\n",
       "    <tr>\n",
       "      <th>2</th>\n",
       "      <td>440.150939</td>\n",
       "      <td>0.000000</td>\n",
       "      <td>0.000000</td>\n",
       "      <td>0.000000</td>\n",
       "      <td>0.000000</td>\n",
       "      <td>0.000000</td>\n",
       "      <td>0.000000</td>\n",
       "      <td>0.000000</td>\n",
       "      <td>0.000000</td>\n",
       "      <td>0.000000</td>\n",
       "      <td>...</td>\n",
       "      <td>489.574662</td>\n",
       "      <td>490.415456</td>\n",
       "      <td>656.430511</td>\n",
       "      <td>747.934137</td>\n",
       "      <td>772.619442</td>\n",
       "      <td>798.881698</td>\n",
       "      <td>761.830846</td>\n",
       "      <td>589.807921</td>\n",
       "      <td>533.256809</td>\n",
       "      <td>542.881719</td>\n",
       "    </tr>\n",
       "    <tr>\n",
       "      <th>3</th>\n",
       "      <td>72.729907</td>\n",
       "      <td>73.219953</td>\n",
       "      <td>73.369081</td>\n",
       "      <td>73.525671</td>\n",
       "      <td>73.702401</td>\n",
       "      <td>73.910129</td>\n",
       "      <td>74.300316</td>\n",
       "      <td>74.568863</td>\n",
       "      <td>74.853650</td>\n",
       "      <td>75.171272</td>\n",
       "      <td>...</td>\n",
       "      <td>76.767868</td>\n",
       "      <td>0.000000</td>\n",
       "      <td>0.000000</td>\n",
       "      <td>0.000000</td>\n",
       "      <td>0.000000</td>\n",
       "      <td>0.000000</td>\n",
       "      <td>0.000000</td>\n",
       "      <td>0.000000</td>\n",
       "      <td>0.000000</td>\n",
       "      <td>95.361781</td>\n",
       "    </tr>\n",
       "    <tr>\n",
       "      <th>4</th>\n",
       "      <td>72.824664</td>\n",
       "      <td>73.316116</td>\n",
       "      <td>73.465488</td>\n",
       "      <td>73.622430</td>\n",
       "      <td>73.799641</td>\n",
       "      <td>74.007998</td>\n",
       "      <td>74.399352</td>\n",
       "      <td>74.668789</td>\n",
       "      <td>74.954550</td>\n",
       "      <td>75.273263</td>\n",
       "      <td>...</td>\n",
       "      <td>76.877414</td>\n",
       "      <td>0.000000</td>\n",
       "      <td>0.000000</td>\n",
       "      <td>0.000000</td>\n",
       "      <td>0.000000</td>\n",
       "      <td>0.000000</td>\n",
       "      <td>0.000000</td>\n",
       "      <td>0.000000</td>\n",
       "      <td>0.000000</td>\n",
       "      <td>95.546274</td>\n",
       "    </tr>\n",
       "    <tr>\n",
       "      <th>5</th>\n",
       "      <td>0.000000</td>\n",
       "      <td>0.000000</td>\n",
       "      <td>0.000000</td>\n",
       "      <td>0.000000</td>\n",
       "      <td>0.000000</td>\n",
       "      <td>0.000000</td>\n",
       "      <td>0.000000</td>\n",
       "      <td>0.000000</td>\n",
       "      <td>0.000000</td>\n",
       "      <td>0.000000</td>\n",
       "      <td>...</td>\n",
       "      <td>849.293635</td>\n",
       "      <td>854.576370</td>\n",
       "      <td>1510.894200</td>\n",
       "      <td>2391.396917</td>\n",
       "      <td>2861.490215</td>\n",
       "      <td>3275.376110</td>\n",
       "      <td>2434.478723</td>\n",
       "      <td>1215.704682</td>\n",
       "      <td>1044.734189</td>\n",
       "      <td>0.000000</td>\n",
       "    </tr>\n",
       "    <tr>\n",
       "      <th>...</th>\n",
       "      <td>...</td>\n",
       "      <td>...</td>\n",
       "      <td>...</td>\n",
       "      <td>...</td>\n",
       "      <td>...</td>\n",
       "      <td>...</td>\n",
       "      <td>...</td>\n",
       "      <td>...</td>\n",
       "      <td>...</td>\n",
       "      <td>...</td>\n",
       "      <td>...</td>\n",
       "      <td>...</td>\n",
       "      <td>...</td>\n",
       "      <td>...</td>\n",
       "      <td>...</td>\n",
       "      <td>...</td>\n",
       "      <td>...</td>\n",
       "      <td>...</td>\n",
       "      <td>...</td>\n",
       "      <td>...</td>\n",
       "      <td>...</td>\n",
       "    </tr>\n",
       "    <tr>\n",
       "      <th>6325</th>\n",
       "      <td>1284.630140</td>\n",
       "      <td>1367.754669</td>\n",
       "      <td>1391.134871</td>\n",
       "      <td>1420.741748</td>\n",
       "      <td>1457.067686</td>\n",
       "      <td>1501.950964</td>\n",
       "      <td>1562.870342</td>\n",
       "      <td>1633.675908</td>\n",
       "      <td>1725.002550</td>\n",
       "      <td>1846.774289</td>\n",
       "      <td>...</td>\n",
       "      <td>0.000000</td>\n",
       "      <td>0.000000</td>\n",
       "      <td>0.000000</td>\n",
       "      <td>0.000000</td>\n",
       "      <td>0.000000</td>\n",
       "      <td>0.000000</td>\n",
       "      <td>0.000000</td>\n",
       "      <td>0.000000</td>\n",
       "      <td>0.000000</td>\n",
       "      <td>13441.117138</td>\n",
       "    </tr>\n",
       "    <tr>\n",
       "      <th>6326</th>\n",
       "      <td>111.129934</td>\n",
       "      <td>113.521682</td>\n",
       "      <td>113.566739</td>\n",
       "      <td>113.710693</td>\n",
       "      <td>113.897859</td>\n",
       "      <td>114.138747</td>\n",
       "      <td>114.626559</td>\n",
       "      <td>115.001094</td>\n",
       "      <td>115.445703</td>\n",
       "      <td>115.984082</td>\n",
       "      <td>...</td>\n",
       "      <td>0.000000</td>\n",
       "      <td>0.000000</td>\n",
       "      <td>0.000000</td>\n",
       "      <td>0.000000</td>\n",
       "      <td>0.000000</td>\n",
       "      <td>0.000000</td>\n",
       "      <td>0.000000</td>\n",
       "      <td>0.000000</td>\n",
       "      <td>0.000000</td>\n",
       "      <td>129.512463</td>\n",
       "    </tr>\n",
       "    <tr>\n",
       "      <th>6327</th>\n",
       "      <td>0.000000</td>\n",
       "      <td>0.000000</td>\n",
       "      <td>0.000000</td>\n",
       "      <td>0.000000</td>\n",
       "      <td>0.000000</td>\n",
       "      <td>0.000000</td>\n",
       "      <td>0.000000</td>\n",
       "      <td>0.000000</td>\n",
       "      <td>0.000000</td>\n",
       "      <td>0.000000</td>\n",
       "      <td>...</td>\n",
       "      <td>409.275772</td>\n",
       "      <td>410.363325</td>\n",
       "      <td>511.547443</td>\n",
       "      <td>572.266058</td>\n",
       "      <td>577.070390</td>\n",
       "      <td>589.345134</td>\n",
       "      <td>579.990275</td>\n",
       "      <td>470.772234</td>\n",
       "      <td>437.623141</td>\n",
       "      <td>477.549622</td>\n",
       "    </tr>\n",
       "    <tr>\n",
       "      <th>6328</th>\n",
       "      <td>935.822143</td>\n",
       "      <td>969.452824</td>\n",
       "      <td>975.836042</td>\n",
       "      <td>983.553942</td>\n",
       "      <td>992.482989</td>\n",
       "      <td>1002.911623</td>\n",
       "      <td>1016.535180</td>\n",
       "      <td>1030.796077</td>\n",
       "      <td>1047.365833</td>\n",
       "      <td>1066.698446</td>\n",
       "      <td>...</td>\n",
       "      <td>0.000000</td>\n",
       "      <td>0.000000</td>\n",
       "      <td>0.000000</td>\n",
       "      <td>0.000000</td>\n",
       "      <td>0.000000</td>\n",
       "      <td>0.000000</td>\n",
       "      <td>0.000000</td>\n",
       "      <td>0.000000</td>\n",
       "      <td>0.000000</td>\n",
       "      <td>1351.679128</td>\n",
       "    </tr>\n",
       "    <tr>\n",
       "      <th>6329</th>\n",
       "      <td>0.000000</td>\n",
       "      <td>0.000000</td>\n",
       "      <td>0.000000</td>\n",
       "      <td>0.000000</td>\n",
       "      <td>0.000000</td>\n",
       "      <td>0.000000</td>\n",
       "      <td>0.000000</td>\n",
       "      <td>0.000000</td>\n",
       "      <td>0.000000</td>\n",
       "      <td>0.000000</td>\n",
       "      <td>...</td>\n",
       "      <td>658.791666</td>\n",
       "      <td>663.097775</td>\n",
       "      <td>1011.151004</td>\n",
       "      <td>1230.857362</td>\n",
       "      <td>1334.282408</td>\n",
       "      <td>1417.062964</td>\n",
       "      <td>1269.915656</td>\n",
       "      <td>869.160892</td>\n",
       "      <td>779.072326</td>\n",
       "      <td>0.000000</td>\n",
       "    </tr>\n",
       "  </tbody>\n",
       "</table>\n",
       "<p>6329 rows × 24 columns</p>\n",
       "</div>"
      ],
      "text/plain": [
       "               1            2            3            4            5   \\\n",
       "1        0.000000     0.000000     0.000000     0.000000     0.000000   \n",
       "2      440.150939     0.000000     0.000000     0.000000     0.000000   \n",
       "3       72.729907    73.219953    73.369081    73.525671    73.702401   \n",
       "4       72.824664    73.316116    73.465488    73.622430    73.799641   \n",
       "5        0.000000     0.000000     0.000000     0.000000     0.000000   \n",
       "...           ...          ...          ...          ...          ...   \n",
       "6325  1284.630140  1367.754669  1391.134871  1420.741748  1457.067686   \n",
       "6326   111.129934   113.521682   113.566739   113.710693   113.897859   \n",
       "6327     0.000000     0.000000     0.000000     0.000000     0.000000   \n",
       "6328   935.822143   969.452824   975.836042   983.553942   992.482989   \n",
       "6329     0.000000     0.000000     0.000000     0.000000     0.000000   \n",
       "\n",
       "               6            7            8            9            10  ...  \\\n",
       "1        0.000000     0.000000     0.000000     0.000000     0.000000  ...   \n",
       "2        0.000000     0.000000     0.000000     0.000000     0.000000  ...   \n",
       "3       73.910129    74.300316    74.568863    74.853650    75.171272  ...   \n",
       "4       74.007998    74.399352    74.668789    74.954550    75.273263  ...   \n",
       "5        0.000000     0.000000     0.000000     0.000000     0.000000  ...   \n",
       "...           ...          ...          ...          ...          ...  ...   \n",
       "6325  1501.950964  1562.870342  1633.675908  1725.002550  1846.774289  ...   \n",
       "6326   114.138747   114.626559   115.001094   115.445703   115.984082  ...   \n",
       "6327     0.000000     0.000000     0.000000     0.000000     0.000000  ...   \n",
       "6328  1002.911623  1016.535180  1030.796077  1047.365833  1066.698446  ...   \n",
       "6329     0.000000     0.000000     0.000000     0.000000     0.000000  ...   \n",
       "\n",
       "              15          16           17           18           19  \\\n",
       "1     517.420831  518.669417   698.575745   789.899719   817.206848   \n",
       "2     489.574662  490.415456   656.430511   747.934137   772.619442   \n",
       "3      76.767868    0.000000     0.000000     0.000000     0.000000   \n",
       "4      76.877414    0.000000     0.000000     0.000000     0.000000   \n",
       "5     849.293635  854.576370  1510.894200  2391.396917  2861.490215   \n",
       "...          ...         ...          ...          ...          ...   \n",
       "6325    0.000000    0.000000     0.000000     0.000000     0.000000   \n",
       "6326    0.000000    0.000000     0.000000     0.000000     0.000000   \n",
       "6327  409.275772  410.363325   511.547443   572.266058   577.070390   \n",
       "6328    0.000000    0.000000     0.000000     0.000000     0.000000   \n",
       "6329  658.791666  663.097775  1011.151004  1230.857362  1334.282408   \n",
       "\n",
       "               20           21           22           23            24  \n",
       "1      842.823673   791.213064   607.642381   556.185852    621.010377  \n",
       "2      798.881698   761.830846   589.807921   533.256809    542.881719  \n",
       "3        0.000000     0.000000     0.000000     0.000000     95.361781  \n",
       "4        0.000000     0.000000     0.000000     0.000000     95.546274  \n",
       "5     3275.376110  2434.478723  1215.704682  1044.734189      0.000000  \n",
       "...           ...          ...          ...          ...           ...  \n",
       "6325     0.000000     0.000000     0.000000     0.000000  13441.117138  \n",
       "6326     0.000000     0.000000     0.000000     0.000000    129.512463  \n",
       "6327   589.345134   579.990275   470.772234   437.623141    477.549622  \n",
       "6328     0.000000     0.000000     0.000000     0.000000   1351.679128  \n",
       "6329  1417.062964  1269.915656   869.160892   779.072326      0.000000  \n",
       "\n",
       "[6329 rows x 24 columns]"
      ]
     },
     "execution_count": 19,
     "metadata": {},
     "output_type": "execute_result"
    }
   ],
   "source": [
    "PEV_df"
   ]
  },
  {
   "cell_type": "code",
   "execution_count": 20,
   "id": "ff5ee25e",
   "metadata": {
    "ExecuteTime": {
     "end_time": "2023-01-24T15:33:43.745340Z",
     "start_time": "2023-01-24T15:33:43.739339Z"
    },
    "pycharm": {
     "name": "#%%\n"
    }
   },
   "outputs": [
    {
     "data": {
      "text/plain": [
       "1     2.265071e+06\n",
       "2     2.070288e+06\n",
       "3     2.111522e+06\n",
       "4     2.151708e+06\n",
       "5     2.193327e+06\n",
       "6     2.263968e+06\n",
       "7     2.329444e+06\n",
       "8     2.411696e+06\n",
       "9     2.508449e+06\n",
       "10    2.668002e+06\n",
       "11    2.121014e+06\n",
       "12    1.657247e+06\n",
       "13    1.903465e+06\n",
       "14    2.343400e+06\n",
       "15    1.772568e+06\n",
       "16    1.694845e+06\n",
       "17    2.558561e+06\n",
       "18    3.279134e+06\n",
       "19    3.618267e+06\n",
       "20    3.920517e+06\n",
       "21    3.313962e+06\n",
       "22    2.147739e+06\n",
       "23    3.900160e+06\n",
       "24    5.208803e+06\n",
       "dtype: float64"
      ]
     },
     "execution_count": 20,
     "metadata": {},
     "output_type": "execute_result"
    }
   ],
   "source": [
    "PEV_df.sum()"
   ]
  },
  {
   "cell_type": "code",
   "execution_count": 21,
   "id": "6675147b",
   "metadata": {
    "ExecuteTime": {
     "end_time": "2023-01-24T15:33:43.766341Z",
     "start_time": "2023-01-24T15:33:43.747340Z"
    },
    "pycharm": {
     "name": "#%%\n"
    }
   },
   "outputs": [
    {
     "data": {
      "text/html": [
       "<div>\n",
       "<style scoped>\n",
       "    .dataframe tbody tr th:only-of-type {\n",
       "        vertical-align: middle;\n",
       "    }\n",
       "\n",
       "    .dataframe tbody tr th {\n",
       "        vertical-align: top;\n",
       "    }\n",
       "\n",
       "    .dataframe thead th {\n",
       "        text-align: right;\n",
       "    }\n",
       "</style>\n",
       "<table border=\"1\" class=\"dataframe\">\n",
       "  <thead>\n",
       "    <tr style=\"text-align: right;\">\n",
       "      <th></th>\n",
       "      <th>0</th>\n",
       "    </tr>\n",
       "  </thead>\n",
       "  <tbody>\n",
       "    <tr>\n",
       "      <th>1</th>\n",
       "      <td>7.278585e+06</td>\n",
       "    </tr>\n",
       "    <tr>\n",
       "      <th>2</th>\n",
       "      <td>7.106935e+06</td>\n",
       "    </tr>\n",
       "    <tr>\n",
       "      <th>3</th>\n",
       "      <td>6.919984e+06</td>\n",
       "    </tr>\n",
       "    <tr>\n",
       "      <th>4</th>\n",
       "      <td>6.690223e+06</td>\n",
       "    </tr>\n",
       "    <tr>\n",
       "      <th>5</th>\n",
       "      <td>6.615490e+06</td>\n",
       "    </tr>\n",
       "    <tr>\n",
       "      <th>6</th>\n",
       "      <td>7.008578e+06</td>\n",
       "    </tr>\n",
       "    <tr>\n",
       "      <th>7</th>\n",
       "      <td>3.174561e+06</td>\n",
       "    </tr>\n",
       "    <tr>\n",
       "      <th>8</th>\n",
       "      <td>3.257149e+06</td>\n",
       "    </tr>\n",
       "    <tr>\n",
       "      <th>9</th>\n",
       "      <td>3.527561e+06</td>\n",
       "    </tr>\n",
       "    <tr>\n",
       "      <th>10</th>\n",
       "      <td>3.691071e+06</td>\n",
       "    </tr>\n",
       "    <tr>\n",
       "      <th>11</th>\n",
       "      <td>3.223904e+06</td>\n",
       "    </tr>\n",
       "    <tr>\n",
       "      <th>12</th>\n",
       "      <td>3.149851e+06</td>\n",
       "    </tr>\n",
       "    <tr>\n",
       "      <th>13</th>\n",
       "      <td>4.130925e+06</td>\n",
       "    </tr>\n",
       "    <tr>\n",
       "      <th>14</th>\n",
       "      <td>4.487232e+06</td>\n",
       "    </tr>\n",
       "    <tr>\n",
       "      <th>15</th>\n",
       "      <td>4.503528e+06</td>\n",
       "    </tr>\n",
       "    <tr>\n",
       "      <th>16</th>\n",
       "      <td>2.093070e+06</td>\n",
       "    </tr>\n",
       "    <tr>\n",
       "      <th>17</th>\n",
       "      <td>4.247752e+05</td>\n",
       "    </tr>\n",
       "    <tr>\n",
       "      <th>18</th>\n",
       "      <td>1.821351e+05</td>\n",
       "    </tr>\n",
       "    <tr>\n",
       "      <th>19</th>\n",
       "      <td>3.113379e+05</td>\n",
       "    </tr>\n",
       "    <tr>\n",
       "      <th>20</th>\n",
       "      <td>5.244716e+05</td>\n",
       "    </tr>\n",
       "    <tr>\n",
       "      <th>21</th>\n",
       "      <td>2.327672e+05</td>\n",
       "    </tr>\n",
       "    <tr>\n",
       "      <th>22</th>\n",
       "      <td>2.305914e+03</td>\n",
       "    </tr>\n",
       "    <tr>\n",
       "      <th>23</th>\n",
       "      <td>4.729489e+06</td>\n",
       "    </tr>\n",
       "    <tr>\n",
       "      <th>24</th>\n",
       "      <td>9.868087e+06</td>\n",
       "    </tr>\n",
       "  </tbody>\n",
       "</table>\n",
       "</div>"
      ],
      "text/plain": [
       "               0\n",
       "1   7.278585e+06\n",
       "2   7.106935e+06\n",
       "3   6.919984e+06\n",
       "4   6.690223e+06\n",
       "5   6.615490e+06\n",
       "6   7.008578e+06\n",
       "7   3.174561e+06\n",
       "8   3.257149e+06\n",
       "9   3.527561e+06\n",
       "10  3.691071e+06\n",
       "11  3.223904e+06\n",
       "12  3.149851e+06\n",
       "13  4.130925e+06\n",
       "14  4.487232e+06\n",
       "15  4.503528e+06\n",
       "16  2.093070e+06\n",
       "17  4.247752e+05\n",
       "18  1.821351e+05\n",
       "19  3.113379e+05\n",
       "20  5.244716e+05\n",
       "21  2.327672e+05\n",
       "22  2.305914e+03\n",
       "23  4.729489e+06\n",
       "24  9.868087e+06"
      ]
     },
     "execution_count": 21,
     "metadata": {},
     "output_type": "execute_result"
    }
   ],
   "source": [
    "Pgen_df = ext_pyomo_vals(model.Pgen)\n",
    "\n",
    "Pgen_df"
   ]
  },
  {
   "cell_type": "code",
   "execution_count": 22,
   "id": "b4f36898",
   "metadata": {
    "ExecuteTime": {
     "end_time": "2023-01-24T15:33:43.784342Z",
     "start_time": "2023-01-24T15:33:43.769341Z"
    },
    "pycharm": {
     "name": "#%%\n"
    }
   },
   "outputs": [
    {
     "data": {
      "text/html": [
       "<div>\n",
       "<style scoped>\n",
       "    .dataframe tbody tr th:only-of-type {\n",
       "        vertical-align: middle;\n",
       "    }\n",
       "\n",
       "    .dataframe tbody tr th {\n",
       "        vertical-align: top;\n",
       "    }\n",
       "\n",
       "    .dataframe thead th {\n",
       "        text-align: right;\n",
       "    }\n",
       "</style>\n",
       "<table border=\"1\" class=\"dataframe\">\n",
       "  <thead>\n",
       "    <tr style=\"text-align: right;\">\n",
       "      <th></th>\n",
       "      <th>0</th>\n",
       "    </tr>\n",
       "  </thead>\n",
       "  <tbody>\n",
       "    <tr>\n",
       "      <th>1</th>\n",
       "      <td>5.202029e+06</td>\n",
       "    </tr>\n",
       "    <tr>\n",
       "      <th>2</th>\n",
       "      <td>5.864105e+06</td>\n",
       "    </tr>\n",
       "    <tr>\n",
       "      <th>3</th>\n",
       "      <td>5.383119e+06</td>\n",
       "    </tr>\n",
       "    <tr>\n",
       "      <th>4</th>\n",
       "      <td>4.117823e+06</td>\n",
       "    </tr>\n",
       "    <tr>\n",
       "      <th>5</th>\n",
       "      <td>3.434997e+06</td>\n",
       "    </tr>\n",
       "    <tr>\n",
       "      <th>6</th>\n",
       "      <td>4.004192e+06</td>\n",
       "    </tr>\n",
       "    <tr>\n",
       "      <th>7</th>\n",
       "      <td>5.191122e+06</td>\n",
       "    </tr>\n",
       "    <tr>\n",
       "      <th>8</th>\n",
       "      <td>4.282210e+06</td>\n",
       "    </tr>\n",
       "    <tr>\n",
       "      <th>9</th>\n",
       "      <td>4.371468e+06</td>\n",
       "    </tr>\n",
       "    <tr>\n",
       "      <th>10</th>\n",
       "      <td>3.906558e+06</td>\n",
       "    </tr>\n",
       "    <tr>\n",
       "      <th>11</th>\n",
       "      <td>3.486552e+06</td>\n",
       "    </tr>\n",
       "    <tr>\n",
       "      <th>12</th>\n",
       "      <td>3.691903e+06</td>\n",
       "    </tr>\n",
       "    <tr>\n",
       "      <th>13</th>\n",
       "      <td>4.118951e+06</td>\n",
       "    </tr>\n",
       "    <tr>\n",
       "      <th>14</th>\n",
       "      <td>5.561970e+06</td>\n",
       "    </tr>\n",
       "    <tr>\n",
       "      <th>15</th>\n",
       "      <td>6.102671e+06</td>\n",
       "    </tr>\n",
       "    <tr>\n",
       "      <th>16</th>\n",
       "      <td>9.494741e+06</td>\n",
       "    </tr>\n",
       "    <tr>\n",
       "      <th>17</th>\n",
       "      <td>1.218563e+07</td>\n",
       "    </tr>\n",
       "    <tr>\n",
       "      <th>18</th>\n",
       "      <td>1.208855e+07</td>\n",
       "    </tr>\n",
       "    <tr>\n",
       "      <th>19</th>\n",
       "      <td>1.255179e+07</td>\n",
       "    </tr>\n",
       "    <tr>\n",
       "      <th>20</th>\n",
       "      <td>1.235324e+07</td>\n",
       "    </tr>\n",
       "    <tr>\n",
       "      <th>21</th>\n",
       "      <td>1.072364e+07</td>\n",
       "    </tr>\n",
       "    <tr>\n",
       "      <th>22</th>\n",
       "      <td>9.259148e+06</td>\n",
       "    </tr>\n",
       "    <tr>\n",
       "      <th>23</th>\n",
       "      <td>7.937077e+06</td>\n",
       "    </tr>\n",
       "    <tr>\n",
       "      <th>24</th>\n",
       "      <td>5.236647e+06</td>\n",
       "    </tr>\n",
       "  </tbody>\n",
       "</table>\n",
       "</div>"
      ],
      "text/plain": [
       "               0\n",
       "1   5.202029e+06\n",
       "2   5.864105e+06\n",
       "3   5.383119e+06\n",
       "4   4.117823e+06\n",
       "5   3.434997e+06\n",
       "6   4.004192e+06\n",
       "7   5.191122e+06\n",
       "8   4.282210e+06\n",
       "9   4.371468e+06\n",
       "10  3.906558e+06\n",
       "11  3.486552e+06\n",
       "12  3.691903e+06\n",
       "13  4.118951e+06\n",
       "14  5.561970e+06\n",
       "15  6.102671e+06\n",
       "16  9.494741e+06\n",
       "17  1.218563e+07\n",
       "18  1.208855e+07\n",
       "19  1.255179e+07\n",
       "20  1.235324e+07\n",
       "21  1.072364e+07\n",
       "22  9.259148e+06\n",
       "23  7.937077e+06\n",
       "24  5.236647e+06"
      ]
     },
     "execution_count": 22,
     "metadata": {},
     "output_type": "execute_result"
    }
   ],
   "source": [
    "Pres_df = ext_pyomo_vals(model.Pres)\n",
    "\n",
    "Pres_df"
   ]
  },
  {
   "cell_type": "code",
   "execution_count": 23,
   "id": "1a4b0a42",
   "metadata": {
    "ExecuteTime": {
     "end_time": "2023-01-24T17:05:54.186160Z",
     "start_time": "2023-01-24T17:05:53.606148Z"
    },
    "pycharm": {
     "name": "#%%\n"
    }
   },
   "outputs": [],
   "source": [
    "Etriprelax_df = ext_pyomo_vals(model.Etriprelax)"
   ]
  },
  {
   "cell_type": "code",
   "execution_count": 24,
   "id": "d05a167f",
   "metadata": {
    "ExecuteTime": {
     "end_time": "2023-01-24T17:05:58.282343Z",
     "start_time": "2023-01-24T17:05:58.200339Z"
    },
    "pycharm": {
     "name": "#%%\n"
    }
   },
   "outputs": [
    {
     "data": {
      "text/plain": [
       "1          0.000021\n",
       "2          0.000031\n",
       "3          0.000031\n",
       "4          0.000031\n",
       "5          0.000031\n",
       "6          0.000031\n",
       "7          0.000031\n",
       "8          0.000031\n",
       "9          0.000031\n",
       "10         0.000031\n",
       "11         0.000031\n",
       "12         0.000031\n",
       "13      1074.470884\n",
       "14      6533.501575\n",
       "15      8350.704321\n",
       "16     12251.114767\n",
       "17     13671.367942\n",
       "18     14283.455120\n",
       "19     12660.400190\n",
       "20     13295.113468\n",
       "21     12328.740878\n",
       "22      8840.625296\n",
       "23      4714.849143\n",
       "24    480151.085613\n",
       "dtype: float64"
      ]
     },
     "execution_count": 24,
     "metadata": {},
     "output_type": "execute_result"
    }
   ],
   "source": [
    "Etriprelax_df.sum()"
   ]
  },
  {
   "cell_type": "code",
   "execution_count": 25,
   "id": "31b6567e",
   "metadata": {
    "ExecuteTime": {
     "end_time": "2023-01-24T17:06:03.871600Z",
     "start_time": "2023-01-24T17:06:03.713595Z"
    },
    "pycharm": {
     "name": "#%%\n"
    }
   },
   "outputs": [],
   "source": [
    "Eminsocrelax_df = ext_pyomo_vals(model.Eminsocrelax)"
   ]
  },
  {
   "cell_type": "code",
   "execution_count": 26,
   "id": "5b7336ec",
   "metadata": {
    "ExecuteTime": {
     "end_time": "2023-01-24T17:06:08.648805Z",
     "start_time": "2023-01-24T17:06:08.637805Z"
    },
    "pycharm": {
     "name": "#%%\n"
    }
   },
   "outputs": [
    {
     "data": {
      "text/plain": [
       "1       0.000000\n",
       "2       0.000022\n",
       "3       0.000032\n",
       "4       0.000032\n",
       "5       0.000032\n",
       "6       0.000032\n",
       "7       0.000032\n",
       "8       0.000032\n",
       "9       0.000032\n",
       "10      0.000032\n",
       "11      0.000032\n",
       "12      0.000032\n",
       "13      0.000032\n",
       "14      0.000032\n",
       "15      0.000032\n",
       "16      0.000032\n",
       "17      0.000032\n",
       "18      0.000032\n",
       "19      0.000032\n",
       "20      0.000032\n",
       "21      0.000032\n",
       "22    132.155852\n",
       "23      0.000032\n",
       "24      0.000032\n",
       "dtype: float64"
      ]
     },
     "execution_count": 26,
     "metadata": {},
     "output_type": "execute_result"
    }
   ],
   "source": [
    "Eminsocrelax_df.sum()"
   ]
  },
  {
   "cell_type": "code",
   "execution_count": 27,
   "id": "af611526",
   "metadata": {
    "ExecuteTime": {
     "end_time": "2023-01-24T17:06:15.053089Z",
     "start_time": "2023-01-24T17:06:14.903084Z"
    },
    "pycharm": {
     "name": "#%%\n"
    }
   },
   "outputs": [],
   "source": [
    "Etripn_df = ext_pyomo_vals(model.Etripn)"
   ]
  },
  {
   "cell_type": "code",
   "execution_count": 28,
   "id": "2d67466a",
   "metadata": {
    "ExecuteTime": {
     "end_time": "2023-01-24T17:06:19.409280Z",
     "start_time": "2023-01-24T17:06:19.391279Z"
    },
    "pycharm": {
     "name": "#%%\n"
    }
   },
   "outputs": [
    {
     "data": {
      "text/plain": [
       "1     3.012639e+06\n",
       "2     1.166828e+05\n",
       "3     5.611484e+04\n",
       "4     1.747803e+04\n",
       "5     7.542035e+03\n",
       "6     1.218573e+04\n",
       "7     1.022651e+04\n",
       "8     1.182157e+04\n",
       "9     0.000000e+00\n",
       "10    1.878932e+06\n",
       "11    4.450396e+06\n",
       "12    0.000000e+00\n",
       "13    2.402219e+06\n",
       "14    9.198751e+06\n",
       "15    4.185460e+06\n",
       "16    4.260775e+06\n",
       "17    1.203396e+06\n",
       "18    2.595200e+06\n",
       "19    7.924992e+05\n",
       "20    2.940490e+06\n",
       "21    3.307096e+06\n",
       "22    2.922840e+06\n",
       "23    3.333886e+06\n",
       "24    1.150694e+07\n",
       "dtype: float64"
      ]
     },
     "execution_count": 28,
     "metadata": {},
     "output_type": "execute_result"
    }
   ],
   "source": [
    "Etripn_df.sum()"
   ]
  },
  {
   "cell_type": "code",
   "execution_count": 29,
   "id": "e371541d",
   "metadata": {
    "pycharm": {
     "name": "#%%\n"
    }
   },
   "outputs": [],
   "source": [
    "Pex_df = ext_pyomo_vals(model.Pex)"
   ]
  },
  {
   "cell_type": "code",
   "execution_count": 30,
   "id": "5d7863e8",
   "metadata": {
    "pycharm": {
     "name": "#%%\n"
    }
   },
   "outputs": [
    {
     "data": {
      "text/html": [
       "<div>\n",
       "<style scoped>\n",
       "    .dataframe tbody tr th:only-of-type {\n",
       "        vertical-align: middle;\n",
       "    }\n",
       "\n",
       "    .dataframe tbody tr th {\n",
       "        vertical-align: top;\n",
       "    }\n",
       "\n",
       "    .dataframe thead th {\n",
       "        text-align: right;\n",
       "    }\n",
       "</style>\n",
       "<table border=\"1\" class=\"dataframe\">\n",
       "  <thead>\n",
       "    <tr style=\"text-align: right;\">\n",
       "      <th></th>\n",
       "      <th>0</th>\n",
       "    </tr>\n",
       "  </thead>\n",
       "  <tbody>\n",
       "    <tr>\n",
       "      <th>1</th>\n",
       "      <td>857.196086</td>\n",
       "    </tr>\n",
       "    <tr>\n",
       "      <th>2</th>\n",
       "      <td>967.404705</td>\n",
       "    </tr>\n",
       "    <tr>\n",
       "      <th>3</th>\n",
       "      <td>930.531307</td>\n",
       "    </tr>\n",
       "    <tr>\n",
       "      <th>4</th>\n",
       "      <td>895.481352</td>\n",
       "    </tr>\n",
       "    <tr>\n",
       "      <th>5</th>\n",
       "      <td>882.920013</td>\n",
       "    </tr>\n",
       "    <tr>\n",
       "      <th>6</th>\n",
       "      <td>913.738420</td>\n",
       "    </tr>\n",
       "    <tr>\n",
       "      <th>7</th>\n",
       "      <td>667.692029</td>\n",
       "    </tr>\n",
       "    <tr>\n",
       "      <th>8</th>\n",
       "      <td>666.044104</td>\n",
       "    </tr>\n",
       "    <tr>\n",
       "      <th>9</th>\n",
       "      <td>650.169063</td>\n",
       "    </tr>\n",
       "    <tr>\n",
       "      <th>10</th>\n",
       "      <td>653.945593</td>\n",
       "    </tr>\n",
       "    <tr>\n",
       "      <th>11</th>\n",
       "      <td>627.084155</td>\n",
       "    </tr>\n",
       "    <tr>\n",
       "      <th>12</th>\n",
       "      <td>740.861456</td>\n",
       "    </tr>\n",
       "    <tr>\n",
       "      <th>13</th>\n",
       "      <td>907.209535</td>\n",
       "    </tr>\n",
       "    <tr>\n",
       "      <th>14</th>\n",
       "      <td>789.606655</td>\n",
       "    </tr>\n",
       "    <tr>\n",
       "      <th>15</th>\n",
       "      <td>854.832151</td>\n",
       "    </tr>\n",
       "    <tr>\n",
       "      <th>16</th>\n",
       "      <td>2519.458517</td>\n",
       "    </tr>\n",
       "    <tr>\n",
       "      <th>17</th>\n",
       "      <td>981.908525</td>\n",
       "    </tr>\n",
       "    <tr>\n",
       "      <th>18</th>\n",
       "      <td>61.062090</td>\n",
       "    </tr>\n",
       "    <tr>\n",
       "      <th>19</th>\n",
       "      <td>416.205875</td>\n",
       "    </tr>\n",
       "    <tr>\n",
       "      <th>20</th>\n",
       "      <td>865.339310</td>\n",
       "    </tr>\n",
       "    <tr>\n",
       "      <th>21</th>\n",
       "      <td>1026.198616</td>\n",
       "    </tr>\n",
       "    <tr>\n",
       "      <th>22</th>\n",
       "      <td>1067.587942</td>\n",
       "    </tr>\n",
       "    <tr>\n",
       "      <th>23</th>\n",
       "      <td>1677.371260</td>\n",
       "    </tr>\n",
       "    <tr>\n",
       "      <th>24</th>\n",
       "      <td>1390.114125</td>\n",
       "    </tr>\n",
       "  </tbody>\n",
       "</table>\n",
       "</div>"
      ],
      "text/plain": [
       "              0\n",
       "1    857.196086\n",
       "2    967.404705\n",
       "3    930.531307\n",
       "4    895.481352\n",
       "5    882.920013\n",
       "6    913.738420\n",
       "7    667.692029\n",
       "8    666.044104\n",
       "9    650.169063\n",
       "10   653.945593\n",
       "11   627.084155\n",
       "12   740.861456\n",
       "13   907.209535\n",
       "14   789.606655\n",
       "15   854.832151\n",
       "16  2519.458517\n",
       "17   981.908525\n",
       "18    61.062090\n",
       "19   416.205875\n",
       "20   865.339310\n",
       "21  1026.198616\n",
       "22  1067.587942\n",
       "23  1677.371260\n",
       "24  1390.114125"
      ]
     },
     "execution_count": 30,
     "metadata": {},
     "output_type": "execute_result"
    }
   ],
   "source": [
    "Pex_df"
   ]
  },
  {
   "cell_type": "code",
   "execution_count": 31,
   "id": "1550e3a1",
   "metadata": {},
   "outputs": [],
   "source": [
    "Pbio_df = ext_pyomo_vals(model.Pbio)"
   ]
  },
  {
   "cell_type": "code",
   "execution_count": 32,
   "id": "f3e8b4ac",
   "metadata": {},
   "outputs": [
    {
     "data": {
      "text/html": [
       "<div>\n",
       "<style scoped>\n",
       "    .dataframe tbody tr th:only-of-type {\n",
       "        vertical-align: middle;\n",
       "    }\n",
       "\n",
       "    .dataframe tbody tr th {\n",
       "        vertical-align: top;\n",
       "    }\n",
       "\n",
       "    .dataframe thead th {\n",
       "        text-align: right;\n",
       "    }\n",
       "</style>\n",
       "<table border=\"1\" class=\"dataframe\">\n",
       "  <thead>\n",
       "    <tr style=\"text-align: right;\">\n",
       "      <th></th>\n",
       "      <th>0</th>\n",
       "    </tr>\n",
       "  </thead>\n",
       "  <tbody>\n",
       "    <tr>\n",
       "      <th>1</th>\n",
       "      <td>538066.6667</td>\n",
       "    </tr>\n",
       "    <tr>\n",
       "      <th>2</th>\n",
       "      <td>502133.3333</td>\n",
       "    </tr>\n",
       "    <tr>\n",
       "      <th>3</th>\n",
       "      <td>493577.7778</td>\n",
       "    </tr>\n",
       "    <tr>\n",
       "      <th>4</th>\n",
       "      <td>492488.8889</td>\n",
       "    </tr>\n",
       "    <tr>\n",
       "      <th>5</th>\n",
       "      <td>508977.7778</td>\n",
       "    </tr>\n",
       "    <tr>\n",
       "      <th>6</th>\n",
       "      <td>415955.5556</td>\n",
       "    </tr>\n",
       "    <tr>\n",
       "      <th>7</th>\n",
       "      <td>553000.0000</td>\n",
       "    </tr>\n",
       "    <tr>\n",
       "      <th>8</th>\n",
       "      <td>562800.0000</td>\n",
       "    </tr>\n",
       "    <tr>\n",
       "      <th>9</th>\n",
       "      <td>562800.0000</td>\n",
       "    </tr>\n",
       "    <tr>\n",
       "      <th>10</th>\n",
       "      <td>554555.5556</td>\n",
       "    </tr>\n",
       "    <tr>\n",
       "      <th>11</th>\n",
       "      <td>520333.3333</td>\n",
       "    </tr>\n",
       "    <tr>\n",
       "      <th>12</th>\n",
       "      <td>513177.7778</td>\n",
       "    </tr>\n",
       "    <tr>\n",
       "      <th>13</th>\n",
       "      <td>526244.4444</td>\n",
       "    </tr>\n",
       "    <tr>\n",
       "      <th>14</th>\n",
       "      <td>535577.7778</td>\n",
       "    </tr>\n",
       "    <tr>\n",
       "      <th>15</th>\n",
       "      <td>536355.5556</td>\n",
       "    </tr>\n",
       "    <tr>\n",
       "      <th>16</th>\n",
       "      <td>546000.0000</td>\n",
       "    </tr>\n",
       "    <tr>\n",
       "      <th>17</th>\n",
       "      <td>522822.2222</td>\n",
       "    </tr>\n",
       "    <tr>\n",
       "      <th>18</th>\n",
       "      <td>521733.3333</td>\n",
       "    </tr>\n",
       "    <tr>\n",
       "      <th>19</th>\n",
       "      <td>532933.3333</td>\n",
       "    </tr>\n",
       "    <tr>\n",
       "      <th>20</th>\n",
       "      <td>530755.5556</td>\n",
       "    </tr>\n",
       "    <tr>\n",
       "      <th>21</th>\n",
       "      <td>432288.8889</td>\n",
       "    </tr>\n",
       "    <tr>\n",
       "      <th>22</th>\n",
       "      <td>494200.0000</td>\n",
       "    </tr>\n",
       "    <tr>\n",
       "      <th>23</th>\n",
       "      <td>554088.8889</td>\n",
       "    </tr>\n",
       "    <tr>\n",
       "      <th>24</th>\n",
       "      <td>558911.1111</td>\n",
       "    </tr>\n",
       "  </tbody>\n",
       "</table>\n",
       "</div>"
      ],
      "text/plain": [
       "              0\n",
       "1   538066.6667\n",
       "2   502133.3333\n",
       "3   493577.7778\n",
       "4   492488.8889\n",
       "5   508977.7778\n",
       "6   415955.5556\n",
       "7   553000.0000\n",
       "8   562800.0000\n",
       "9   562800.0000\n",
       "10  554555.5556\n",
       "11  520333.3333\n",
       "12  513177.7778\n",
       "13  526244.4444\n",
       "14  535577.7778\n",
       "15  536355.5556\n",
       "16  546000.0000\n",
       "17  522822.2222\n",
       "18  521733.3333\n",
       "19  532933.3333\n",
       "20  530755.5556\n",
       "21  432288.8889\n",
       "22  494200.0000\n",
       "23  554088.8889\n",
       "24  558911.1111"
      ]
     },
     "execution_count": 32,
     "metadata": {},
     "output_type": "execute_result"
    }
   ],
   "source": [
    "Pbio_df"
   ]
  },
  {
   "cell_type": "markdown",
   "id": "a68903ef",
   "metadata": {
    "pycharm": {
     "name": "#%% md\n"
    }
   },
   "source": [
    "## Save results in csv files"
   ]
  },
  {
   "cell_type": "code",
   "execution_count": 33,
   "id": "4f916d41",
   "metadata": {
    "ExecuteTime": {
     "end_time": "2023-01-24T17:22:26.847469Z",
     "start_time": "2023-01-24T17:22:26.673463Z"
    },
    "pycharm": {
     "name": "#%%\n"
    }
   },
   "outputs": [],
   "source": [
    "import os \n",
    "folder = 'results_RESc_' + str(n_evs)\n",
    "\n",
    "if not os.path.exists(folder):\n",
    "    os.makedirs(folder)\n",
    "    \n",
    "EEV_df.to_csv(folder + '/EEV.csv')\n",
    "PEV_df.to_csv(folder + '/PEV.csv')\n",
    "PEV_df.sum().to_csv(folder + '/PEV_h.csv')\n",
    "\n",
    "Etriprelax_df.to_csv(folder + '/Etriprelax.csv')\n",
    "Etriprelax_df.sum().to_csv(folder + '/Etriprelax_h.csv')\n",
    "\n",
    "Eminsocrelax_df.to_csv(folder + '/Eminsocrelax.csv')\n",
    "Eminsocrelax_df.sum().to_csv(folder + '/Eminsocrelax_h.csv')\n",
    "\n",
    "Etripn_df.to_csv(folder + '/Etripn.csv')\n",
    "Etripn_df.sum().to_csv(folder + '/Etripn_h.csv')\n",
    "\n",
    "Pgen_df.to_csv(folder + '/Pgen.csv')\n",
    "Pres_df.to_csv(folder + '/Pres.csv')\n",
    "Pex_df.to_csv(folder + '/Pex.csv')"
   ]
  },
  {
   "cell_type": "code",
   "execution_count": null,
   "id": "b9e00ba6",
   "metadata": {
    "pycharm": {
     "name": "#%%\n"
    }
   },
   "outputs": [],
   "source": []
  },
  {
   "cell_type": "code",
   "execution_count": null,
   "id": "031e8f77",
   "metadata": {
    "pycharm": {
     "name": "#%%\n"
    }
   },
   "outputs": [],
   "source": []
  }
 ],
 "metadata": {
  "kernelspec": {
   "display_name": "Python 3 (ipykernel)",
   "language": "python",
   "name": "python3"
  },
  "language_info": {
   "codemirror_mode": {
    "name": "ipython",
    "version": 3
   },
   "file_extension": ".py",
   "mimetype": "text/x-python",
   "name": "python",
   "nbconvert_exporter": "python",
   "pygments_lexer": "ipython3",
   "version": "3.10.10"
  },
  "toc": {
   "base_numbering": 1,
   "nav_menu": {},
   "number_sections": true,
   "sideBar": true,
   "skip_h1_title": false,
   "title_cell": "Table of Contents",
   "title_sidebar": "Contents",
   "toc_cell": false,
   "toc_position": {},
   "toc_section_display": true,
   "toc_window_display": false
  }
 },
 "nbformat": 4,
 "nbformat_minor": 5
}
