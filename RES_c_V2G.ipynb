{
 "cells": [
  {
   "cell_type": "markdown",
   "id": "49f8415c",
   "metadata": {
    "pycharm": {
     "name": "#%% md\n"
    }
   },
   "source": [
    "## Import packages"
   ]
  },
  {
   "cell_type": "code",
   "execution_count": 1,
   "id": "715e26a7",
   "metadata": {
    "ExecuteTime": {
     "end_time": "2023-01-24T15:33:15.888058Z",
     "start_time": "2023-01-24T15:33:14.912039Z"
    },
    "pycharm": {
     "name": "#%%\n"
    }
   },
   "outputs": [],
   "source": [
    "import pyomo\n",
    "import pyomo.opt\n",
    "import pyomo.environ as pyo\n",
    "import numpy as np\n",
    "import pandas as pd\n",
    "import matplotlib as plt"
   ]
  },
  {
   "cell_type": "code",
   "execution_count": 2,
   "id": "7439ce86",
   "metadata": {
    "ExecuteTime": {
     "end_time": "2023-01-24T15:33:15.893058Z",
     "start_time": "2023-01-24T15:33:15.888058Z"
    },
    "pycharm": {
     "name": "#%%\n"
    }
   },
   "outputs": [],
   "source": [
    "n_time = 24\n",
    "country = \"Denmark\"; # Possible options: Portugal, Slovenia, Greece, Denmark, this if apply only to Slovenia and Denmark, because both countries have biomass"
   ]
  },
  {
   "cell_type": "code",
   "execution_count": 3,
   "id": "b8f61626",
   "metadata": {
    "ExecuteTime": {
     "end_time": "2023-01-24T15:33:15.906058Z",
     "start_time": "2023-01-24T15:33:15.893058Z"
    },
    "pycharm": {
     "name": "#%%\n"
    }
   },
   "outputs": [],
   "source": [
    "def _auxDictionary(a):\n",
    "    temp_dictionary = {}\n",
    "    if len(a.shape) == 3:\n",
    "        for dim0 in np.arange(a.shape[0]):\n",
    "            for dim1 in np.arange(a.shape[1]):\n",
    "                for dim2 in np.arange(a.shape[2]):\n",
    "                    temp_dictionary[(dim0+1, dim1+1, dim2+1)] = a[dim0, dim1, dim2]\n",
    "    elif len(a.shape) == 2:\n",
    "        for dim0 in np.arange(a.shape[0]):\n",
    "            for dim1 in np.arange(a.shape[1]):\n",
    "                temp_dictionary[(dim0+1, dim1+1)] = a[dim0, dim1]\n",
    "    else:\n",
    "        for dim0 in np.arange(a.shape[0]):\n",
    "            temp_dictionary[(dim0+1)] = a[dim0]\n",
    "    return temp_dictionary\n",
    "#temp_dict1 = _auxDictionary(loadLimit)"
   ]
  },
  {
   "cell_type": "markdown",
   "id": "066f9dad",
   "metadata": {
    "pycharm": {
     "name": "#%% md\n"
    }
   },
   "source": [
    "## Data"
   ]
  },
  {
   "cell_type": "code",
   "execution_count": 4,
   "id": "6ee2c24c",
   "metadata": {
    "ExecuteTime": {
     "end_time": "2023-01-24T15:33:15.938060Z",
     "start_time": "2023-01-24T15:33:15.909058Z"
    },
    "pycharm": {
     "name": "#%%\n"
    }
   },
   "outputs": [],
   "source": [
    "data = {}\n",
    "data['Inputs'] = pd.read_csv('Inputs.csv')\n",
    "data['EVs_Inputs'] = pd.read_csv('EVs_Inputs.csv')\n",
    "data['alpha'] = pd.read_csv('alpha.csv')\n",
    "data['PchmaxEV'] = pd.read_csv('PchmaxEV.csv')\n",
    "data['S'] = pd.read_csv('S.csv')"
   ]
  },
  {
   "cell_type": "code",
   "execution_count": 5,
   "id": "8c8c07d9",
   "metadata": {
    "ExecuteTime": {
     "end_time": "2023-01-24T15:33:15.946060Z",
     "start_time": "2023-01-24T15:33:15.939060Z"
    },
    "pycharm": {
     "name": "#%%\n"
    }
   },
   "outputs": [],
   "source": [
    "n_evs = data['EVs_Inputs']['Esoc'].size"
   ]
  },
  {
   "cell_type": "markdown",
   "id": "1a180354",
   "metadata": {
    "pycharm": {
     "name": "#%% md\n"
    }
   },
   "source": [
    "## Start Time"
   ]
  },
  {
   "cell_type": "code",
   "execution_count": 6,
   "id": "2b449c1e",
   "metadata": {
    "pycharm": {
     "name": "#%%\n"
    }
   },
   "outputs": [
    {
     "name": "stdout",
     "output_type": "stream",
     "text": [
      "Start Time = 17:43:40\n"
     ]
    }
   ],
   "source": [
    "from datetime import datetime\n",
    "\n",
    "now = datetime.now()\n",
    "\n",
    "start_time = now.strftime(\"%H:%M:%S\")\n",
    "print(\"Start Time =\", start_time)"
   ]
  },
  {
   "cell_type": "markdown",
   "id": "aa86258e",
   "metadata": {
    "pycharm": {
     "name": "#%% md\n"
    }
   },
   "source": [
    "## Sets"
   ]
  },
  {
   "cell_type": "code",
   "execution_count": 7,
   "id": "6324b7f3",
   "metadata": {
    "ExecuteTime": {
     "end_time": "2023-01-24T15:33:15.959061Z",
     "start_time": "2023-01-24T15:33:15.949061Z"
    },
    "pycharm": {
     "name": "#%%\n"
    }
   },
   "outputs": [],
   "source": [
    "model = pyo.ConcreteModel()\n",
    "\n",
    "model.ev = pyo.Set(initialize = np.arange(1, n_evs + 1))\n",
    "model.t = pyo.Set(initialize = np.arange(1, n_time + 1))\n"
   ]
  },
  {
   "cell_type": "markdown",
   "id": "c5060158",
   "metadata": {
    "pycharm": {
     "name": "#%% md\n"
    }
   },
   "source": [
    "## Parameters"
   ]
  },
  {
   "cell_type": "code",
   "execution_count": 8,
   "id": "0244c4e0",
   "metadata": {
    "ExecuteTime": {
     "end_time": "2023-01-24T15:33:17.353101Z",
     "start_time": "2023-01-24T15:33:15.960061Z"
    },
    "pycharm": {
     "name": "#%%\n"
    }
   },
   "outputs": [],
   "source": [
    "model.EEVmax = pyo.Param(model.ev, initialize =_auxDictionary(data['EVs_Inputs'].to_numpy()[:,2]))\n",
    "model.EEVmin = pyo.Param(model.ev, initialize =_auxDictionary(data['EVs_Inputs'].to_numpy()[:,1]))\n",
    "model.ESoc = pyo.Param(model.ev, initialize =_auxDictionary(data['EVs_Inputs'].to_numpy()[:,0]))\n",
    "model.dT = pyo.Param(model.t, initialize =_auxDictionary(data['Inputs'].to_numpy()[:,0]))\n",
    "model.cDA = pyo.Param(model.t, initialize =_auxDictionary(data['Inputs'].to_numpy()[:,1]))\n",
    "model.Pl = pyo.Param(model.t, initialize =_auxDictionary(data['Inputs'].to_numpy()[:,2]))\n",
    "model.Php = pyo.Param(model.t, initialize =_auxDictionary(data['Inputs'].to_numpy()[:,3]))\n",
    "model.Pb = pyo.Param(model.t, initialize =_auxDictionary(data['Inputs'].to_numpy()[:,4]))\n",
    "model.Pimp = pyo.Param(model.t, initialize =_auxDictionary(data['Inputs'].to_numpy()[:,5]))\n",
    "model.Ppv = pyo.Param(model.t, initialize =_auxDictionary(data['Inputs'].to_numpy()[:,6]))\n",
    "model.Pwind = pyo.Param(model.t, initialize =_auxDictionary(data['Inputs'].to_numpy()[:,7]))\n",
    "model.Phid = pyo.Param(model.t, initialize =_auxDictionary(data['Inputs'].to_numpy()[:,8]))\n",
    "model.Pbio = pyo.Param(model.t, initialize =_auxDictionary(data['Inputs'].to_numpy()[:,9]))\n",
    "model.PchmaxEV = pyo.Param(model.ev, model.t, initialize =_auxDictionary(data['PchmaxEV'].to_numpy()))\n",
    "model.S = pyo.Param(model.ev, model.t, initialize = _auxDictionary(data['S'].to_numpy()))\n",
    "model.alpha = pyo.Param(model.ev, model.t, initialize = _auxDictionary(data['alpha'].to_numpy()))\n",
    "model.RealHour = pyo.Param(model.t, initialize=_auxDictionary(data['Inputs'].to_numpy()[:,9]))\n",
    "model.penalty1 = 1000\n",
    "model.penalty2 = 1000\n",
    "model.penalty3 = 0.6\n",
    "model.Etrip = pyo.Param(model.ev, initialize=_auxDictionary(data['EVs_Inputs'].to_numpy()[:,3]))\n",
    "model.n = 0.95\n",
    "model.m = 0.6\n",
    "model.factor = 1"
   ]
  },
  {
   "cell_type": "markdown",
   "id": "ed19147f",
   "metadata": {
    "pycharm": {
     "name": "#%% md\n"
    }
   },
   "source": [
    "## Variables"
   ]
  },
  {
   "cell_type": "code",
   "execution_count": 9,
   "id": "8eb6f254",
   "metadata": {
    "ExecuteTime": {
     "end_time": "2023-01-24T15:33:17.619115Z",
     "start_time": "2023-01-24T15:33:17.353101Z"
    },
    "pycharm": {
     "name": "#%%\n"
    }
   },
   "outputs": [],
   "source": [
    "model.PEV = pyo.Var(model.ev, model.t, domain = pyo.NonNegativeReals, initialize = 0)\n",
    "model.PEVdc = pyo.Var(model.ev, model.t, domain = pyo.NonNegativeReals, initialize = 0)\n",
    "model.EEV = pyo.Var(model.ev, model.t, domain = pyo.Reals, initialize = 0)\n",
    "model.Etriprelax = pyo.Var(model.ev, model.t, domain = pyo.NonNegativeReals, initialize = 0)\n",
    "model.Eminsocrelax = pyo.Var(model.ev, model.t, domain = pyo.NonNegativeReals, initialize = 0)\n",
    "model.Etripn = pyo.Var(model.ev, model.t, domain = pyo.Reals, initialize = 0)\n",
    "model.Pgen = pyo.Var(model.t, domain =  pyo.NonNegativeReals, initialize = 0)\n",
    "model.Pres = pyo.Var(model.t, domain = pyo.NonNegativeReals, initialize = 0)\n",
    "model.Pex = pyo.Var(model.t, domain = pyo.NonNegativeReals, initialize = 0)"
   ]
  },
  {
   "cell_type": "markdown",
   "id": "7186c6b6",
   "metadata": {
    "pycharm": {
     "name": "#%% md\n"
    }
   },
   "source": [
    "## Constraints"
   ]
  },
  {
   "cell_type": "code",
   "execution_count": 10,
   "id": "af513242",
   "metadata": {
    "ExecuteTime": {
     "end_time": "2023-01-24T15:33:22.419174Z",
     "start_time": "2023-01-24T15:33:17.621116Z"
    },
    "pycharm": {
     "name": "#%%\n"
    }
   },
   "outputs": [],
   "source": [
    "def _balance_etripn(m,ev,t): \n",
    "    return m.Etripn[ev,t] == m.Etrip[ev]*m.S[ev,t]/(sum([m.S[ev,k] for k in np.arange(1, n_time + 1)]))\n",
    "model.balance_etripn = pyo.Constraint(model.ev, model.t, rule = _balance_etripn)\n",
    "\n",
    "def _balance_energy_EVS3(m,ev,t): \n",
    "    if t == 24:\n",
    "        return m.EEV[ev,t] + m.Etriprelax[ev,t] >= m.EEVmax[ev]*m.m\n",
    "    return pyo.Constraint.Skip\n",
    "model.balance_energy_EVS3 = pyo.Constraint(model.ev, model.t, rule = _balance_energy_EVS3)\n",
    "\n",
    "def _balance_energy_EVS(m,ev,t): \n",
    "    if t == 1:\n",
    "        return m.EEV[ev,t] - m.Etriprelax[ev,t] == m.ESoc[ev] + m.PEV[ev,t]*m.dT[t]*m.n - m.Etripn[ev,t]\n",
    "    return pyo.Constraint.Skip\n",
    "model.balance_energy_EVS = pyo.Constraint(model.ev, model.t, rule = _balance_energy_EVS)\n",
    "\n",
    "def _balance_energy_EVS2(m,ev,t): \n",
    "    if t > 1:\n",
    "        return m.EEV[ev,t] - m.Etriprelax[ev,t] == m.EEV[ev,t-1] + m.PEV[ev,t]*m.dT[t]*m.n - m.PEVdc[ev,t]*m.dT[t]/m.n  - m.Etripn[ev,t]\n",
    "    return pyo.Constraint.Skip\n",
    "model.balance_energy_EVS2 = pyo.Constraint(model.ev, model.t, rule = _balance_energy_EVS2)\n",
    "\n",
    "def _RES_balance(m,t):\n",
    "    return m.Pres[t] == m.Pwind[t] + m.Ppv[t] + m.Phid[t] + m.Pbio[t]\n",
    "model.RES_balance = pyo.Constraint(model.t, rule = _RES_balance)\n",
    "\n",
    "def _total_balance(m,t):\n",
    "    #if (country == \"Slovenia\"):\n",
    "        return m.Pgen[t] + m.Pres[t] + m.Pimp[t] - m.Pex[t] == m.Pl[t] + m.Pb[t] +sum(m.PEV[ev, t] for ev in np.arange(1, n_evs + 1))\n",
    "    #else:\n",
    "        #return m.Pgen[t] + m.Pres[t] + m.Pimp[t] - m.Pex[t] ==  m.Pl[t] + m.Pb[t] + sum(m.PEV[ev, t] for ev in np.arange(1, n_evs + 1))\n",
    "model.total_balance = pyo.Constraint(model.t, rule = _total_balance)\n",
    "\n",
    "def _power_charging_limit1(m,ev,t): \n",
    "    return m.PEV[ev,t] >= 0\n",
    "model.power_charging_limit1 = pyo.Constraint(model.ev, model.t, rule = _power_charging_limit1)\n",
    "\n",
    "def _power_charging_limit2(m,ev,t): \n",
    "    return m.PEV[ev,t] <= m.alpha[ev,t]*m.PchmaxEV[ev,t]*m.factor\n",
    "model.power_charging_limit2 = pyo.Constraint(model.ev, model.t, rule = _power_charging_limit2)\n",
    "\n",
    "def _power_discharging_limit2(m,ev,t): \n",
    "    return m.PEVdc[ev,t] <= m.alpha[ev,t]*m.PchmaxEV[ev,t]*m.factor\n",
    "model.power_discharging_limit2 = pyo.Constraint(model.ev, model.t, rule = _power_discharging_limit2)\n",
    "\n",
    "def _energy_limits_EVS_1(m,ev,t): \n",
    "    return m.EEVmin[ev] <= m.EEV[ev,t] + m.Eminsocrelax[ev,t]\n",
    "    #return m.EEVmin[ev] <= m.EEV[ev,t]\n",
    "model.energy_limits_EVS_1 = pyo.Constraint(model.ev, model.t, rule = _energy_limits_EVS_1)\n",
    "\n",
    "def _energy_limits_EVS_2(m,ev,t): \n",
    "    return m.EEV[ev,t] <= m.EEVmax[ev]\n",
    "model.energy_limits_EVS_2 = pyo.Constraint(model.ev, model.t, rule = _energy_limits_EVS_2)\n"
   ]
  },
  {
   "cell_type": "markdown",
   "id": "4fc67cc6",
   "metadata": {
    "pycharm": {
     "name": "#%% md\n"
    }
   },
   "source": [
    "## Objective function"
   ]
  },
  {
   "cell_type": "code",
   "execution_count": 11,
   "id": "a81eab81",
   "metadata": {
    "ExecuteTime": {
     "end_time": "2023-01-24T15:33:22.749192Z",
     "start_time": "2023-01-24T15:33:22.419174Z"
    },
    "pycharm": {
     "name": "#%%\n"
    }
   },
   "outputs": [],
   "source": [
    "def _FOag(m):\n",
    "    return (sum(m.Pgen[t] for t in np.arange(1, n_time + 1))**2 + sum(m.Ppv[t] for t in np.arange(1, n_time + 1))**2)/ (sum(m.Ppv[t] for t in np.arange(1, n_time + 1))**2) + sum([m.Etriprelax[ev,t]*m.penalty1 + m.Eminsocrelax[ev,t]*m.penalty2 for ev in np.arange(1, n_evs + 1) for t in np.arange(1, n_time + 1)])\n",
    "\n",
    "model.FOag = pyo.Objective(rule = _FOag, sense = pyo.minimize)"
   ]
  },
  {
   "cell_type": "markdown",
   "id": "c187224f",
   "metadata": {
    "pycharm": {
     "name": "#%% md\n"
    }
   },
   "source": [
    "## Solve the model"
   ]
  },
  {
   "cell_type": "code",
   "execution_count": 12,
   "id": "633159e2",
   "metadata": {
    "ExecuteTime": {
     "end_time": "2023-01-24T15:33:41.798287Z",
     "start_time": "2023-01-24T15:33:22.751192Z"
    },
    "pycharm": {
     "name": "#%%\n"
    }
   },
   "outputs": [
    {
     "name": "stdout",
     "output_type": "stream",
     "text": [
      "# ==========================================================\n",
      "# = Solver Results                                         =\n",
      "# ==========================================================\n",
      "# ----------------------------------------------------------\n",
      "#   Problem Information\n",
      "# ----------------------------------------------------------\n",
      "Problem: \n",
      "- Name: tmp1hpwx9kj\n",
      "  Lower bound: 588287586.7011604\n",
      "  Upper bound: 588287586.7011604\n",
      "  Number of objectives: 1\n",
      "  Number of constraints: 1069650\n",
      "  Number of variables: 911449\n",
      "  Number of nonzeros: 2126641\n",
      "  Sense: minimize\n",
      "# ----------------------------------------------------------\n",
      "#   Solver Information\n",
      "# ----------------------------------------------------------\n",
      "Solver: \n",
      "- Status: ok\n",
      "  User time: 5.63\n",
      "  Termination condition: optimal\n",
      "  Termination message: Barrier - Optimal\\x3a Objective = 5.8828758670e+08\n",
      "  Error rc: 0\n",
      "  Time: 13.17224645614624\n",
      "# ----------------------------------------------------------\n",
      "#   Solution Information\n",
      "# ----------------------------------------------------------\n",
      "Solution: \n",
      "- number of solutions: 0\n",
      "  number of solutions displayed: 0\n"
     ]
    }
   ],
   "source": [
    "from pyomo.opt import SolverFactory\n",
    "\n",
    "model.write('res_V4_EC.lp',  io_options={'symbolic_solver_labels': True})\n",
    "\n",
    "# Create a solver\n",
    "#opt = pyo.SolverFactory('cbc', executable='C:/Program Files/Cbc-releases.2.10.8-x86_64-w64-mingw64/bin/cbc.exe')\n",
    "\n",
    "opt = pyo.SolverFactory('cplex', executable='C:/Program Files/IBM/ILOG/CPLEX_Studio129/cplex/bin/x64_win64/cplex.exe')\n",
    "opt.options['LogFile'] = 'res_V4_EC.log'\n",
    "\n",
    "#opt = pyo.SolverFactory('ipopt', executable='C:/Program Files/Ipopt-3.11.1-win64-intel13.1/bin/ipopt.exe')\n",
    "#opt.options['print_level'] = 12\n",
    "#opt.options['output_file'] = \"res_V5_EC.log\"\n",
    "\n",
    "results = opt.solve(model)#, tee=True)\n",
    "results.write()"
   ]
  },
  {
   "cell_type": "markdown",
   "id": "e400b960",
   "metadata": {
    "pycharm": {
     "name": "#%% md\n"
    }
   },
   "source": [
    "## Objective Function Value"
   ]
  },
  {
   "cell_type": "code",
   "execution_count": 13,
   "id": "a7e24b62",
   "metadata": {
    "ExecuteTime": {
     "end_time": "2023-01-24T15:33:41.998298Z",
     "start_time": "2023-01-24T15:33:41.798287Z"
    },
    "pycharm": {
     "name": "#%%\n"
    }
   },
   "outputs": [
    {
     "data": {
      "text/plain": [
       "588287586.7010498"
      ]
     },
     "execution_count": 13,
     "metadata": {},
     "output_type": "execute_result"
    }
   ],
   "source": [
    "pyo.value(model.FOag)"
   ]
  },
  {
   "cell_type": "markdown",
   "id": "8d24bfd3",
   "metadata": {
    "pycharm": {
     "name": "#%% md\n"
    }
   },
   "source": [
    "## End Time"
   ]
  },
  {
   "cell_type": "code",
   "execution_count": 14,
   "id": "712a6ae9",
   "metadata": {
    "pycharm": {
     "name": "#%%\n"
    }
   },
   "outputs": [
    {
     "name": "stdout",
     "output_type": "stream",
     "text": [
      "End Time = 17:48:17\n",
      "Dif: 0:04:37\n"
     ]
    }
   ],
   "source": [
    "now = datetime.now()\n",
    "\n",
    "end_time = now.strftime(\"%H:%M:%S\")\n",
    "print(\"End Time =\", end_time)\n",
    "print(\"Dif: {}\".format(datetime.strptime(end_time, \"%H:%M:%S\") - datetime.strptime(start_time, \"%H:%M:%S\")))"
   ]
  },
  {
   "cell_type": "markdown",
   "id": "de186eda",
   "metadata": {
    "pycharm": {
     "name": "#%% md\n"
    }
   },
   "source": [
    "## Cost Value"
   ]
  },
  {
   "cell_type": "code",
   "execution_count": 15,
   "id": "5e6051a8",
   "metadata": {
    "ExecuteTime": {
     "end_time": "2023-01-24T15:33:42.008298Z",
     "start_time": "2023-01-24T15:33:42.000298Z"
    },
    "pycharm": {
     "name": "#%%\n"
    }
   },
   "outputs": [],
   "source": [
    "def ext_pyomo_vals(vals):\n",
    "    # make a pd.Series from each\n",
    "    s = pd.Series(vals.extract_values(),\n",
    "                  index=vals.extract_values().keys())\n",
    "    # if the series is multi-indexed we need to unstack it...\n",
    "    if type(s.index[0]) == tuple:    # it is multi-indexed\n",
    "        s = s.unstack(level=1)\n",
    "    else:\n",
    "        # force transition from Series -> df\n",
    "        s = pd.DataFrame(s)\n",
    "    return s"
   ]
  },
  {
   "cell_type": "code",
   "execution_count": 16,
   "id": "bbb357f8",
   "metadata": {
    "ExecuteTime": {
     "end_time": "2023-01-24T15:33:43.620333Z",
     "start_time": "2023-01-24T15:33:42.011299Z"
    },
    "pycharm": {
     "name": "#%%\n"
    }
   },
   "outputs": [
    {
     "name": "stdout",
     "output_type": "stream",
     "text": [
      "Charge cost: 18510023.285770793\n"
     ]
    }
   ],
   "source": [
    "PEV_df = ext_pyomo_vals(model.PEV)\n",
    "dT_df = ext_pyomo_vals(model.dT)\n",
    "cDA_df = ext_pyomo_vals(model.cDA)\n",
    "EEV_df = ext_pyomo_vals(model.EEV)\n",
    "PEVdc_df = ext_pyomo_vals(model.PEVdc)\n",
    "\n",
    "charge_cost = sum([PEV_df[t][ev]*dT_df[0][t]*cDA_df[0][t]\n",
    "                   for ev in np.arange(1, n_evs + 1) for t in np.arange(1, n_time + 1)])\n",
    "\n",
    "print('Charge cost: {}'.format(charge_cost))"
   ]
  },
  {
   "cell_type": "markdown",
   "id": "7e5cd7ce",
   "metadata": {
    "pycharm": {
     "name": "#%% md\n"
    }
   },
   "source": [
    "## Results"
   ]
  },
  {
   "cell_type": "code",
   "execution_count": 17,
   "id": "a341e329",
   "metadata": {
    "ExecuteTime": {
     "end_time": "2023-01-24T15:33:43.628333Z",
     "start_time": "2023-01-24T15:33:43.620333Z"
    },
    "pycharm": {
     "name": "#%%\n"
    }
   },
   "outputs": [
    {
     "name": "stdout",
     "output_type": "stream",
     "text": [
      "Total Charge: 103.19759295060352\n"
     ]
    }
   ],
   "source": [
    "print(\"Total Charge: {}\".format(np.sum(PEV_df.to_numpy()/1000000)))"
   ]
  },
  {
   "cell_type": "code",
   "execution_count": 18,
   "id": "2ed8567c",
   "metadata": {
    "ExecuteTime": {
     "end_time": "2023-01-24T15:33:43.683336Z",
     "start_time": "2023-01-24T15:33:43.638334Z"
    },
    "pycharm": {
     "name": "#%%\n"
    }
   },
   "outputs": [
    {
     "data": {
      "text/html": [
       "<div>\n",
       "<style scoped>\n",
       "    .dataframe tbody tr th:only-of-type {\n",
       "        vertical-align: middle;\n",
       "    }\n",
       "\n",
       "    .dataframe tbody tr th {\n",
       "        vertical-align: top;\n",
       "    }\n",
       "\n",
       "    .dataframe thead th {\n",
       "        text-align: right;\n",
       "    }\n",
       "</style>\n",
       "<table border=\"1\" class=\"dataframe\">\n",
       "  <thead>\n",
       "    <tr style=\"text-align: right;\">\n",
       "      <th></th>\n",
       "      <th>1</th>\n",
       "      <th>2</th>\n",
       "      <th>3</th>\n",
       "      <th>4</th>\n",
       "      <th>5</th>\n",
       "      <th>6</th>\n",
       "      <th>7</th>\n",
       "      <th>8</th>\n",
       "      <th>9</th>\n",
       "      <th>10</th>\n",
       "      <th>...</th>\n",
       "      <th>15</th>\n",
       "      <th>16</th>\n",
       "      <th>17</th>\n",
       "      <th>18</th>\n",
       "      <th>19</th>\n",
       "      <th>20</th>\n",
       "      <th>21</th>\n",
       "      <th>22</th>\n",
       "      <th>23</th>\n",
       "      <th>24</th>\n",
       "    </tr>\n",
       "  </thead>\n",
       "  <tbody>\n",
       "    <tr>\n",
       "      <th>1</th>\n",
       "      <td>64680.000000</td>\n",
       "      <td>64680.000000</td>\n",
       "      <td>64680.000000</td>\n",
       "      <td>64680.000000</td>\n",
       "      <td>64680.000000</td>\n",
       "      <td>64680.000000</td>\n",
       "      <td>64680.000000</td>\n",
       "      <td>64680.000000</td>\n",
       "      <td>64680.000000</td>\n",
       "      <td>64680.000000</td>\n",
       "      <td>...</td>\n",
       "      <td>62678.846196</td>\n",
       "      <td>63342.460906</td>\n",
       "      <td>64018.230129</td>\n",
       "      <td>64702.859623</td>\n",
       "      <td>65386.532077</td>\n",
       "      <td>66064.851865</td>\n",
       "      <td>66730.087191</td>\n",
       "      <td>67375.366235</td>\n",
       "      <td>67993.619058</td>\n",
       "      <td>65280.543063</td>\n",
       "    </tr>\n",
       "    <tr>\n",
       "      <th>2</th>\n",
       "      <td>38566.513705</td>\n",
       "      <td>38566.513705</td>\n",
       "      <td>38566.513705</td>\n",
       "      <td>38566.513705</td>\n",
       "      <td>38566.513705</td>\n",
       "      <td>38566.513705</td>\n",
       "      <td>38566.513705</td>\n",
       "      <td>38566.513705</td>\n",
       "      <td>38566.513705</td>\n",
       "      <td>38566.513705</td>\n",
       "      <td>...</td>\n",
       "      <td>36064.264687</td>\n",
       "      <td>36676.143701</td>\n",
       "      <td>37296.231665</td>\n",
       "      <td>37920.773745</td>\n",
       "      <td>38540.610692</td>\n",
       "      <td>39151.609771</td>\n",
       "      <td>39746.324567</td>\n",
       "      <td>40317.730538</td>\n",
       "      <td>40858.805934</td>\n",
       "      <td>41390.156886</td>\n",
       "    </tr>\n",
       "    <tr>\n",
       "      <th>3</th>\n",
       "      <td>8537.885273</td>\n",
       "      <td>8436.965804</td>\n",
       "      <td>8335.915523</td>\n",
       "      <td>8243.948352</td>\n",
       "      <td>8165.342037</td>\n",
       "      <td>8102.402299</td>\n",
       "      <td>8057.464232</td>\n",
       "      <td>8030.430532</td>\n",
       "      <td>8021.788334</td>\n",
       "      <td>8032.057890</td>\n",
       "      <td>...</td>\n",
       "      <td>8360.598293</td>\n",
       "      <td>8360.598293</td>\n",
       "      <td>8360.598293</td>\n",
       "      <td>8360.598293</td>\n",
       "      <td>8360.598293</td>\n",
       "      <td>8360.598293</td>\n",
       "      <td>8360.598293</td>\n",
       "      <td>8360.598293</td>\n",
       "      <td>8360.598293</td>\n",
       "      <td>8514.305532</td>\n",
       "    </tr>\n",
       "    <tr>\n",
       "      <th>4</th>\n",
       "      <td>8537.991324</td>\n",
       "      <td>8437.478730</td>\n",
       "      <td>8336.850822</td>\n",
       "      <td>8245.348323</td>\n",
       "      <td>8167.273281</td>\n",
       "      <td>8104.955446</td>\n",
       "      <td>8060.757431</td>\n",
       "      <td>8034.605520</td>\n",
       "      <td>8027.015906</td>\n",
       "      <td>8038.537880</td>\n",
       "      <td>...</td>\n",
       "      <td>8366.015109</td>\n",
       "      <td>8366.015109</td>\n",
       "      <td>8366.015109</td>\n",
       "      <td>8366.015109</td>\n",
       "      <td>8366.015109</td>\n",
       "      <td>8366.015109</td>\n",
       "      <td>8366.015109</td>\n",
       "      <td>8366.015109</td>\n",
       "      <td>8366.015109</td>\n",
       "      <td>8512.540802</td>\n",
       "    </tr>\n",
       "    <tr>\n",
       "      <th>5</th>\n",
       "      <td>40800.000000</td>\n",
       "      <td>40800.000000</td>\n",
       "      <td>40800.000000</td>\n",
       "      <td>40800.000000</td>\n",
       "      <td>40800.000000</td>\n",
       "      <td>40800.000000</td>\n",
       "      <td>40800.000000</td>\n",
       "      <td>40800.000000</td>\n",
       "      <td>40800.000000</td>\n",
       "      <td>40800.000000</td>\n",
       "      <td>...</td>\n",
       "      <td>39862.563330</td>\n",
       "      <td>39421.020728</td>\n",
       "      <td>41063.035548</td>\n",
       "      <td>42751.776926</td>\n",
       "      <td>44474.924406</td>\n",
       "      <td>44194.505799</td>\n",
       "      <td>43921.780750</td>\n",
       "      <td>43626.584255</td>\n",
       "      <td>43259.172719</td>\n",
       "      <td>41226.131241</td>\n",
       "    </tr>\n",
       "    <tr>\n",
       "      <th>...</th>\n",
       "      <td>...</td>\n",
       "      <td>...</td>\n",
       "      <td>...</td>\n",
       "      <td>...</td>\n",
       "      <td>...</td>\n",
       "      <td>...</td>\n",
       "      <td>...</td>\n",
       "      <td>...</td>\n",
       "      <td>...</td>\n",
       "      <td>...</td>\n",
       "      <td>...</td>\n",
       "      <td>...</td>\n",
       "      <td>...</td>\n",
       "      <td>...</td>\n",
       "      <td>...</td>\n",
       "      <td>...</td>\n",
       "      <td>...</td>\n",
       "      <td>...</td>\n",
       "      <td>...</td>\n",
       "      <td>...</td>\n",
       "      <td>...</td>\n",
       "    </tr>\n",
       "    <tr>\n",
       "      <th>6325</th>\n",
       "      <td>45963.696894</td>\n",
       "      <td>47343.723015</td>\n",
       "      <td>48753.081678</td>\n",
       "      <td>50187.391337</td>\n",
       "      <td>51654.957689</td>\n",
       "      <td>53166.450769</td>\n",
       "      <td>54739.449140</td>\n",
       "      <td>56390.687241</td>\n",
       "      <td>58139.850533</td>\n",
       "      <td>60023.262600</td>\n",
       "      <td>...</td>\n",
       "      <td>62637.334961</td>\n",
       "      <td>58500.071277</td>\n",
       "      <td>54362.807593</td>\n",
       "      <td>50225.543908</td>\n",
       "      <td>50225.543908</td>\n",
       "      <td>46088.280224</td>\n",
       "      <td>41951.016539</td>\n",
       "      <td>41951.016539</td>\n",
       "      <td>37813.752855</td>\n",
       "      <td>44726.124310</td>\n",
       "    </tr>\n",
       "    <tr>\n",
       "      <th>6326</th>\n",
       "      <td>47362.676495</td>\n",
       "      <td>47466.003018</td>\n",
       "      <td>47570.038670</td>\n",
       "      <td>47674.979481</td>\n",
       "      <td>47780.992943</td>\n",
       "      <td>47888.180355</td>\n",
       "      <td>47998.180053</td>\n",
       "      <td>48109.418407</td>\n",
       "      <td>48222.098821</td>\n",
       "      <td>48336.384957</td>\n",
       "      <td>...</td>\n",
       "      <td>48006.987786</td>\n",
       "      <td>48006.987786</td>\n",
       "      <td>48006.987786</td>\n",
       "      <td>48006.987786</td>\n",
       "      <td>48006.987786</td>\n",
       "      <td>48006.987786</td>\n",
       "      <td>48006.987786</td>\n",
       "      <td>48006.987786</td>\n",
       "      <td>48006.987786</td>\n",
       "      <td>47320.777772</td>\n",
       "    </tr>\n",
       "    <tr>\n",
       "      <th>6327</th>\n",
       "      <td>57000.000000</td>\n",
       "      <td>57000.000000</td>\n",
       "      <td>57000.000000</td>\n",
       "      <td>57000.000000</td>\n",
       "      <td>57000.000000</td>\n",
       "      <td>57000.000000</td>\n",
       "      <td>57000.000000</td>\n",
       "      <td>57000.000000</td>\n",
       "      <td>57000.000000</td>\n",
       "      <td>57000.000000</td>\n",
       "      <td>...</td>\n",
       "      <td>55606.408169</td>\n",
       "      <td>56117.991425</td>\n",
       "      <td>56636.664113</td>\n",
       "      <td>57160.103693</td>\n",
       "      <td>57679.745977</td>\n",
       "      <td>58191.827895</td>\n",
       "      <td>58689.517236</td>\n",
       "      <td>59166.894483</td>\n",
       "      <td>59618.780984</td>\n",
       "      <td>57641.913020</td>\n",
       "    </tr>\n",
       "    <tr>\n",
       "      <th>6328</th>\n",
       "      <td>65923.585108</td>\n",
       "      <td>66842.806937</td>\n",
       "      <td>67770.113654</td>\n",
       "      <td>68706.568101</td>\n",
       "      <td>69652.802237</td>\n",
       "      <td>70609.082678</td>\n",
       "      <td>71584.605638</td>\n",
       "      <td>72569.677383</td>\n",
       "      <td>73567.263916</td>\n",
       "      <td>74578.249782</td>\n",
       "      <td>...</td>\n",
       "      <td>69761.380378</td>\n",
       "      <td>69761.380378</td>\n",
       "      <td>69761.380378</td>\n",
       "      <td>69761.380378</td>\n",
       "      <td>69761.380378</td>\n",
       "      <td>69761.380378</td>\n",
       "      <td>69761.380378</td>\n",
       "      <td>69761.380378</td>\n",
       "      <td>69761.380378</td>\n",
       "      <td>65040.793115</td>\n",
       "    </tr>\n",
       "    <tr>\n",
       "      <th>6329</th>\n",
       "      <td>44400.000000</td>\n",
       "      <td>44400.000000</td>\n",
       "      <td>44400.000000</td>\n",
       "      <td>44400.000000</td>\n",
       "      <td>44400.000000</td>\n",
       "      <td>44400.000000</td>\n",
       "      <td>44400.000000</td>\n",
       "      <td>44400.000000</td>\n",
       "      <td>44400.000000</td>\n",
       "      <td>44400.000000</td>\n",
       "      <td>...</td>\n",
       "      <td>44023.645384</td>\n",
       "      <td>43838.282409</td>\n",
       "      <td>44818.306915</td>\n",
       "      <td>45813.247288</td>\n",
       "      <td>45664.489511</td>\n",
       "      <td>45511.998224</td>\n",
       "      <td>46490.325318</td>\n",
       "      <td>46292.174797</td>\n",
       "      <td>46050.786912</td>\n",
       "      <td>44904.660874</td>\n",
       "    </tr>\n",
       "  </tbody>\n",
       "</table>\n",
       "<p>6329 rows × 24 columns</p>\n",
       "</div>"
      ],
      "text/plain": [
       "                1             2             3             4             5   \\\n",
       "1     64680.000000  64680.000000  64680.000000  64680.000000  64680.000000   \n",
       "2     38566.513705  38566.513705  38566.513705  38566.513705  38566.513705   \n",
       "3      8537.885273   8436.965804   8335.915523   8243.948352   8165.342037   \n",
       "4      8537.991324   8437.478730   8336.850822   8245.348323   8167.273281   \n",
       "5     40800.000000  40800.000000  40800.000000  40800.000000  40800.000000   \n",
       "...            ...           ...           ...           ...           ...   \n",
       "6325  45963.696894  47343.723015  48753.081678  50187.391337  51654.957689   \n",
       "6326  47362.676495  47466.003018  47570.038670  47674.979481  47780.992943   \n",
       "6327  57000.000000  57000.000000  57000.000000  57000.000000  57000.000000   \n",
       "6328  65923.585108  66842.806937  67770.113654  68706.568101  69652.802237   \n",
       "6329  44400.000000  44400.000000  44400.000000  44400.000000  44400.000000   \n",
       "\n",
       "                6             7             8             9             10  \\\n",
       "1     64680.000000  64680.000000  64680.000000  64680.000000  64680.000000   \n",
       "2     38566.513705  38566.513705  38566.513705  38566.513705  38566.513705   \n",
       "3      8102.402299   8057.464232   8030.430532   8021.788334   8032.057890   \n",
       "4      8104.955446   8060.757431   8034.605520   8027.015906   8038.537880   \n",
       "5     40800.000000  40800.000000  40800.000000  40800.000000  40800.000000   \n",
       "...            ...           ...           ...           ...           ...   \n",
       "6325  53166.450769  54739.449140  56390.687241  58139.850533  60023.262600   \n",
       "6326  47888.180355  47998.180053  48109.418407  48222.098821  48336.384957   \n",
       "6327  57000.000000  57000.000000  57000.000000  57000.000000  57000.000000   \n",
       "6328  70609.082678  71584.605638  72569.677383  73567.263916  74578.249782   \n",
       "6329  44400.000000  44400.000000  44400.000000  44400.000000  44400.000000   \n",
       "\n",
       "      ...            15            16            17            18  \\\n",
       "1     ...  62678.846196  63342.460906  64018.230129  64702.859623   \n",
       "2     ...  36064.264687  36676.143701  37296.231665  37920.773745   \n",
       "3     ...   8360.598293   8360.598293   8360.598293   8360.598293   \n",
       "4     ...   8366.015109   8366.015109   8366.015109   8366.015109   \n",
       "5     ...  39862.563330  39421.020728  41063.035548  42751.776926   \n",
       "...   ...           ...           ...           ...           ...   \n",
       "6325  ...  62637.334961  58500.071277  54362.807593  50225.543908   \n",
       "6326  ...  48006.987786  48006.987786  48006.987786  48006.987786   \n",
       "6327  ...  55606.408169  56117.991425  56636.664113  57160.103693   \n",
       "6328  ...  69761.380378  69761.380378  69761.380378  69761.380378   \n",
       "6329  ...  44023.645384  43838.282409  44818.306915  45813.247288   \n",
       "\n",
       "                19            20            21            22            23  \\\n",
       "1     65386.532077  66064.851865  66730.087191  67375.366235  67993.619058   \n",
       "2     38540.610692  39151.609771  39746.324567  40317.730538  40858.805934   \n",
       "3      8360.598293   8360.598293   8360.598293   8360.598293   8360.598293   \n",
       "4      8366.015109   8366.015109   8366.015109   8366.015109   8366.015109   \n",
       "5     44474.924406  44194.505799  43921.780750  43626.584255  43259.172719   \n",
       "...            ...           ...           ...           ...           ...   \n",
       "6325  50225.543908  46088.280224  41951.016539  41951.016539  37813.752855   \n",
       "6326  48006.987786  48006.987786  48006.987786  48006.987786  48006.987786   \n",
       "6327  57679.745977  58191.827895  58689.517236  59166.894483  59618.780984   \n",
       "6328  69761.380378  69761.380378  69761.380378  69761.380378  69761.380378   \n",
       "6329  45664.489511  45511.998224  46490.325318  46292.174797  46050.786912   \n",
       "\n",
       "                24  \n",
       "1     65280.543063  \n",
       "2     41390.156886  \n",
       "3      8514.305532  \n",
       "4      8512.540802  \n",
       "5     41226.131241  \n",
       "...            ...  \n",
       "6325  44726.124310  \n",
       "6326  47320.777772  \n",
       "6327  57641.913020  \n",
       "6328  65040.793115  \n",
       "6329  44904.660874  \n",
       "\n",
       "[6329 rows x 24 columns]"
      ]
     },
     "execution_count": 18,
     "metadata": {},
     "output_type": "execute_result"
    }
   ],
   "source": [
    "EEV_df"
   ]
  },
  {
   "cell_type": "code",
   "execution_count": 19,
   "id": "4623282e",
   "metadata": {
    "ExecuteTime": {
     "end_time": "2023-01-24T15:33:43.736339Z",
     "start_time": "2023-01-24T15:33:43.685336Z"
    },
    "pycharm": {
     "name": "#%%\n"
    }
   },
   "outputs": [
    {
     "data": {
      "text/html": [
       "<div>\n",
       "<style scoped>\n",
       "    .dataframe tbody tr th:only-of-type {\n",
       "        vertical-align: middle;\n",
       "    }\n",
       "\n",
       "    .dataframe tbody tr th {\n",
       "        vertical-align: top;\n",
       "    }\n",
       "\n",
       "    .dataframe thead th {\n",
       "        text-align: right;\n",
       "    }\n",
       "</style>\n",
       "<table border=\"1\" class=\"dataframe\">\n",
       "  <thead>\n",
       "    <tr style=\"text-align: right;\">\n",
       "      <th></th>\n",
       "      <th>1</th>\n",
       "      <th>2</th>\n",
       "      <th>3</th>\n",
       "      <th>4</th>\n",
       "      <th>5</th>\n",
       "      <th>6</th>\n",
       "      <th>7</th>\n",
       "      <th>8</th>\n",
       "      <th>9</th>\n",
       "      <th>10</th>\n",
       "      <th>...</th>\n",
       "      <th>15</th>\n",
       "      <th>16</th>\n",
       "      <th>17</th>\n",
       "      <th>18</th>\n",
       "      <th>19</th>\n",
       "      <th>20</th>\n",
       "      <th>21</th>\n",
       "      <th>22</th>\n",
       "      <th>23</th>\n",
       "      <th>24</th>\n",
       "    </tr>\n",
       "  </thead>\n",
       "  <tbody>\n",
       "    <tr>\n",
       "      <th>1</th>\n",
       "      <td>0.000000</td>\n",
       "      <td>0.000000</td>\n",
       "      <td>0.000000</td>\n",
       "      <td>0.000000</td>\n",
       "      <td>0.000000</td>\n",
       "      <td>0.000000</td>\n",
       "      <td>0.000000</td>\n",
       "      <td>0.000000</td>\n",
       "      <td>0.000000</td>\n",
       "      <td>0.000000</td>\n",
       "      <td>...</td>\n",
       "      <td>1279.408719</td>\n",
       "      <td>1285.188807</td>\n",
       "      <td>1302.441871</td>\n",
       "      <td>1316.051717</td>\n",
       "      <td>1318.800549</td>\n",
       "      <td>1315.980802</td>\n",
       "      <td>1303.479322</td>\n",
       "      <td>1281.264901</td>\n",
       "      <td>1247.615630</td>\n",
       "      <td>1228.640539</td>\n",
       "    </tr>\n",
       "    <tr>\n",
       "      <th>2</th>\n",
       "      <td>927.277945</td>\n",
       "      <td>0.000000</td>\n",
       "      <td>0.000000</td>\n",
       "      <td>0.000000</td>\n",
       "      <td>0.000000</td>\n",
       "      <td>0.000000</td>\n",
       "      <td>0.000000</td>\n",
       "      <td>0.000000</td>\n",
       "      <td>0.000000</td>\n",
       "      <td>0.000000</td>\n",
       "      <td>...</td>\n",
       "      <td>1236.141256</td>\n",
       "      <td>1239.217024</td>\n",
       "      <td>1252.691883</td>\n",
       "      <td>1262.965178</td>\n",
       "      <td>1263.832308</td>\n",
       "      <td>1260.156398</td>\n",
       "      <td>1247.774375</td>\n",
       "      <td>1225.775998</td>\n",
       "      <td>1191.181295</td>\n",
       "      <td>1166.259378</td>\n",
       "    </tr>\n",
       "    <tr>\n",
       "      <th>3</th>\n",
       "      <td>460.931866</td>\n",
       "      <td>490.601926</td>\n",
       "      <td>496.075157</td>\n",
       "      <td>500.986367</td>\n",
       "      <td>506.565135</td>\n",
       "      <td>513.153065</td>\n",
       "      <td>521.698377</td>\n",
       "      <td>530.143910</td>\n",
       "      <td>539.150254</td>\n",
       "      <td>548.831407</td>\n",
       "      <td>...</td>\n",
       "      <td>600.105435</td>\n",
       "      <td>0.000000</td>\n",
       "      <td>0.000000</td>\n",
       "      <td>0.000000</td>\n",
       "      <td>0.000000</td>\n",
       "      <td>0.000000</td>\n",
       "      <td>0.000000</td>\n",
       "      <td>0.000000</td>\n",
       "      <td>0.000000</td>\n",
       "      <td>573.640133</td>\n",
       "    </tr>\n",
       "    <tr>\n",
       "      <th>4</th>\n",
       "      <td>461.043499</td>\n",
       "      <td>490.746156</td>\n",
       "      <td>496.240903</td>\n",
       "      <td>501.182732</td>\n",
       "      <td>506.802246</td>\n",
       "      <td>513.442412</td>\n",
       "      <td>522.055843</td>\n",
       "      <td>530.581724</td>\n",
       "      <td>539.687111</td>\n",
       "      <td>549.487224</td>\n",
       "      <td>...</td>\n",
       "      <td>601.658899</td>\n",
       "      <td>0.000000</td>\n",
       "      <td>0.000000</td>\n",
       "      <td>0.000000</td>\n",
       "      <td>0.000000</td>\n",
       "      <td>0.000000</td>\n",
       "      <td>0.000000</td>\n",
       "      <td>0.000000</td>\n",
       "      <td>0.000000</td>\n",
       "      <td>576.398289</td>\n",
       "    </tr>\n",
       "    <tr>\n",
       "      <th>5</th>\n",
       "      <td>0.000000</td>\n",
       "      <td>0.000000</td>\n",
       "      <td>0.000000</td>\n",
       "      <td>0.000000</td>\n",
       "      <td>0.000000</td>\n",
       "      <td>0.000000</td>\n",
       "      <td>0.000000</td>\n",
       "      <td>0.000000</td>\n",
       "      <td>0.000000</td>\n",
       "      <td>0.000000</td>\n",
       "      <td>...</td>\n",
       "      <td>2080.154198</td>\n",
       "      <td>2109.282386</td>\n",
       "      <td>2167.722497</td>\n",
       "      <td>2223.356393</td>\n",
       "      <td>2266.817179</td>\n",
       "      <td>2305.032964</td>\n",
       "      <td>2317.582254</td>\n",
       "      <td>2294.164853</td>\n",
       "      <td>2210.752208</td>\n",
       "      <td>0.000000</td>\n",
       "    </tr>\n",
       "    <tr>\n",
       "      <th>...</th>\n",
       "      <td>...</td>\n",
       "      <td>...</td>\n",
       "      <td>...</td>\n",
       "      <td>...</td>\n",
       "      <td>...</td>\n",
       "      <td>...</td>\n",
       "      <td>...</td>\n",
       "      <td>...</td>\n",
       "      <td>...</td>\n",
       "      <td>...</td>\n",
       "      <td>...</td>\n",
       "      <td>...</td>\n",
       "      <td>...</td>\n",
       "      <td>...</td>\n",
       "      <td>...</td>\n",
       "      <td>...</td>\n",
       "      <td>...</td>\n",
       "      <td>...</td>\n",
       "      <td>...</td>\n",
       "      <td>...</td>\n",
       "      <td>...</td>\n",
       "    </tr>\n",
       "    <tr>\n",
       "      <th>6325</th>\n",
       "      <td>1645.996731</td>\n",
       "      <td>1771.648798</td>\n",
       "      <td>1815.995322</td>\n",
       "      <td>1855.296834</td>\n",
       "      <td>1903.167436</td>\n",
       "      <td>1962.312167</td>\n",
       "      <td>2039.796610</td>\n",
       "      <td>2134.719941</td>\n",
       "      <td>2249.477269</td>\n",
       "      <td>2401.051915</td>\n",
       "      <td>...</td>\n",
       "      <td>0.000000</td>\n",
       "      <td>0.000000</td>\n",
       "      <td>0.000000</td>\n",
       "      <td>0.000000</td>\n",
       "      <td>0.000000</td>\n",
       "      <td>0.000000</td>\n",
       "      <td>0.000000</td>\n",
       "      <td>0.000000</td>\n",
       "      <td>0.000000</td>\n",
       "      <td>11959.697225</td>\n",
       "    </tr>\n",
       "    <tr>\n",
       "      <th>6326</th>\n",
       "      <td>592.291048</td>\n",
       "      <td>596.586814</td>\n",
       "      <td>597.786192</td>\n",
       "      <td>598.967373</td>\n",
       "      <td>600.096606</td>\n",
       "      <td>601.109663</td>\n",
       "      <td>603.631270</td>\n",
       "      <td>604.296138</td>\n",
       "      <td>604.978773</td>\n",
       "      <td>605.644002</td>\n",
       "      <td>...</td>\n",
       "      <td>0.000000</td>\n",
       "      <td>0.000000</td>\n",
       "      <td>0.000000</td>\n",
       "      <td>0.000000</td>\n",
       "      <td>0.000000</td>\n",
       "      <td>0.000000</td>\n",
       "      <td>0.000000</td>\n",
       "      <td>0.000000</td>\n",
       "      <td>0.000000</td>\n",
       "      <td>583.164673</td>\n",
       "    </tr>\n",
       "    <tr>\n",
       "      <th>6327</th>\n",
       "      <td>0.000000</td>\n",
       "      <td>0.000000</td>\n",
       "      <td>0.000000</td>\n",
       "      <td>0.000000</td>\n",
       "      <td>0.000000</td>\n",
       "      <td>0.000000</td>\n",
       "      <td>0.000000</td>\n",
       "      <td>0.000000</td>\n",
       "      <td>0.000000</td>\n",
       "      <td>0.000000</td>\n",
       "      <td>...</td>\n",
       "      <td>1165.814306</td>\n",
       "      <td>1169.364768</td>\n",
       "      <td>1182.532013</td>\n",
       "      <td>1192.916481</td>\n",
       "      <td>1193.628113</td>\n",
       "      <td>1189.323318</td>\n",
       "      <td>1176.123602</td>\n",
       "      <td>1153.863406</td>\n",
       "      <td>1121.330028</td>\n",
       "      <td>1100.869629</td>\n",
       "    </tr>\n",
       "    <tr>\n",
       "      <th>6328</th>\n",
       "      <td>1309.036955</td>\n",
       "      <td>1336.448457</td>\n",
       "      <td>1345.901057</td>\n",
       "      <td>1356.389846</td>\n",
       "      <td>1367.433231</td>\n",
       "      <td>1378.612033</td>\n",
       "      <td>1399.283106</td>\n",
       "      <td>1409.529301</td>\n",
       "      <td>1422.615656</td>\n",
       "      <td>1436.294699</td>\n",
       "      <td>...</td>\n",
       "      <td>0.000000</td>\n",
       "      <td>0.000000</td>\n",
       "      <td>0.000000</td>\n",
       "      <td>0.000000</td>\n",
       "      <td>0.000000</td>\n",
       "      <td>0.000000</td>\n",
       "      <td>0.000000</td>\n",
       "      <td>0.000000</td>\n",
       "      <td>0.000000</td>\n",
       "      <td>1535.364569</td>\n",
       "    </tr>\n",
       "    <tr>\n",
       "      <th>6329</th>\n",
       "      <td>0.000000</td>\n",
       "      <td>0.000000</td>\n",
       "      <td>0.000000</td>\n",
       "      <td>0.000000</td>\n",
       "      <td>0.000000</td>\n",
       "      <td>0.000000</td>\n",
       "      <td>0.000000</td>\n",
       "      <td>0.000000</td>\n",
       "      <td>0.000000</td>\n",
       "      <td>0.000000</td>\n",
       "      <td>...</td>\n",
       "      <td>1514.725006</td>\n",
       "      <td>1525.834588</td>\n",
       "      <td>1553.174852</td>\n",
       "      <td>1576.106566</td>\n",
       "      <td>1585.643023</td>\n",
       "      <td>1587.077969</td>\n",
       "      <td>1574.081767</td>\n",
       "      <td>1541.467392</td>\n",
       "      <td>1487.179485</td>\n",
       "      <td>0.000000</td>\n",
       "    </tr>\n",
       "  </tbody>\n",
       "</table>\n",
       "<p>6329 rows × 24 columns</p>\n",
       "</div>"
      ],
      "text/plain": [
       "               1            2            3            4            5   \\\n",
       "1        0.000000     0.000000     0.000000     0.000000     0.000000   \n",
       "2      927.277945     0.000000     0.000000     0.000000     0.000000   \n",
       "3      460.931866   490.601926   496.075157   500.986367   506.565135   \n",
       "4      461.043499   490.746156   496.240903   501.182732   506.802246   \n",
       "5        0.000000     0.000000     0.000000     0.000000     0.000000   \n",
       "...           ...          ...          ...          ...          ...   \n",
       "6325  1645.996731  1771.648798  1815.995322  1855.296834  1903.167436   \n",
       "6326   592.291048   596.586814   597.786192   598.967373   600.096606   \n",
       "6327     0.000000     0.000000     0.000000     0.000000     0.000000   \n",
       "6328  1309.036955  1336.448457  1345.901057  1356.389846  1367.433231   \n",
       "6329     0.000000     0.000000     0.000000     0.000000     0.000000   \n",
       "\n",
       "               6            7            8            9            10  ...  \\\n",
       "1        0.000000     0.000000     0.000000     0.000000     0.000000  ...   \n",
       "2        0.000000     0.000000     0.000000     0.000000     0.000000  ...   \n",
       "3      513.153065   521.698377   530.143910   539.150254   548.831407  ...   \n",
       "4      513.442412   522.055843   530.581724   539.687111   549.487224  ...   \n",
       "5        0.000000     0.000000     0.000000     0.000000     0.000000  ...   \n",
       "...           ...          ...          ...          ...          ...  ...   \n",
       "6325  1962.312167  2039.796610  2134.719941  2249.477269  2401.051915  ...   \n",
       "6326   601.109663   603.631270   604.296138   604.978773   605.644002  ...   \n",
       "6327     0.000000     0.000000     0.000000     0.000000     0.000000  ...   \n",
       "6328  1378.612033  1399.283106  1409.529301  1422.615656  1436.294699  ...   \n",
       "6329     0.000000     0.000000     0.000000     0.000000     0.000000  ...   \n",
       "\n",
       "               15           16           17           18           19  \\\n",
       "1     1279.408719  1285.188807  1302.441871  1316.051717  1318.800549   \n",
       "2     1236.141256  1239.217024  1252.691883  1262.965178  1263.832308   \n",
       "3      600.105435     0.000000     0.000000     0.000000     0.000000   \n",
       "4      601.658899     0.000000     0.000000     0.000000     0.000000   \n",
       "5     2080.154198  2109.282386  2167.722497  2223.356393  2266.817179   \n",
       "...           ...          ...          ...          ...          ...   \n",
       "6325     0.000000     0.000000     0.000000     0.000000     0.000000   \n",
       "6326     0.000000     0.000000     0.000000     0.000000     0.000000   \n",
       "6327  1165.814306  1169.364768  1182.532013  1192.916481  1193.628113   \n",
       "6328     0.000000     0.000000     0.000000     0.000000     0.000000   \n",
       "6329  1514.725006  1525.834588  1553.174852  1576.106566  1585.643023   \n",
       "\n",
       "               20           21           22           23            24  \n",
       "1     1315.980802  1303.479322  1281.264901  1247.615630   1228.640539  \n",
       "2     1260.156398  1247.774375  1225.775998  1191.181295   1166.259378  \n",
       "3        0.000000     0.000000     0.000000     0.000000    573.640133  \n",
       "4        0.000000     0.000000     0.000000     0.000000    576.398289  \n",
       "5     2305.032964  2317.582254  2294.164853  2210.752208      0.000000  \n",
       "...           ...          ...          ...          ...           ...  \n",
       "6325     0.000000     0.000000     0.000000     0.000000  11959.697225  \n",
       "6326     0.000000     0.000000     0.000000     0.000000    583.164673  \n",
       "6327  1189.323318  1176.123602  1153.863406  1121.330028   1100.869629  \n",
       "6328     0.000000     0.000000     0.000000     0.000000   1535.364569  \n",
       "6329  1587.077969  1574.081767  1541.467392  1487.179485      0.000000  \n",
       "\n",
       "[6329 rows x 24 columns]"
      ]
     },
     "execution_count": 19,
     "metadata": {},
     "output_type": "execute_result"
    }
   ],
   "source": [
    "PEV_df"
   ]
  },
  {
   "cell_type": "code",
   "execution_count": 20,
   "id": "ff5ee25e",
   "metadata": {
    "ExecuteTime": {
     "end_time": "2023-01-24T15:33:43.745340Z",
     "start_time": "2023-01-24T15:33:43.739339Z"
    },
    "pycharm": {
     "name": "#%%\n"
    }
   },
   "outputs": [
    {
     "data": {
      "text/plain": [
       "1     4.158851e+06\n",
       "2     3.551494e+06\n",
       "3     3.602022e+06\n",
       "4     3.651410e+06\n",
       "5     3.705090e+06\n",
       "6     3.789901e+06\n",
       "7     3.886790e+06\n",
       "8     3.977348e+06\n",
       "9     4.084831e+06\n",
       "10    4.246862e+06\n",
       "11    3.610221e+06\n",
       "12    3.061824e+06\n",
       "13    3.292059e+06\n",
       "14    5.209613e+06\n",
       "15    4.915261e+06\n",
       "16    4.218604e+06\n",
       "17    4.285387e+06\n",
       "18    4.345488e+06\n",
       "19    4.375722e+06\n",
       "20    4.390540e+06\n",
       "21    4.372035e+06\n",
       "22    4.313635e+06\n",
       "23    6.213850e+06\n",
       "24    7.938757e+06\n",
       "dtype: float64"
      ]
     },
     "execution_count": 20,
     "metadata": {},
     "output_type": "execute_result"
    }
   ],
   "source": [
    "PEV_df.sum()"
   ]
  },
  {
   "cell_type": "code",
   "execution_count": 21,
   "id": "6675147b",
   "metadata": {
    "ExecuteTime": {
     "end_time": "2023-01-24T15:33:43.766341Z",
     "start_time": "2023-01-24T15:33:43.747340Z"
    },
    "pycharm": {
     "name": "#%%\n"
    }
   },
   "outputs": [
    {
     "data": {
      "text/html": [
       "<div>\n",
       "<style scoped>\n",
       "    .dataframe tbody tr th:only-of-type {\n",
       "        vertical-align: middle;\n",
       "    }\n",
       "\n",
       "    .dataframe tbody tr th {\n",
       "        vertical-align: top;\n",
       "    }\n",
       "\n",
       "    .dataframe thead th {\n",
       "        text-align: right;\n",
       "    }\n",
       "</style>\n",
       "<table border=\"1\" class=\"dataframe\">\n",
       "  <thead>\n",
       "    <tr style=\"text-align: right;\">\n",
       "      <th></th>\n",
       "      <th>0</th>\n",
       "    </tr>\n",
       "  </thead>\n",
       "  <tbody>\n",
       "    <tr>\n",
       "      <th>1</th>\n",
       "      <td>9.179633e+06</td>\n",
       "    </tr>\n",
       "    <tr>\n",
       "      <th>2</th>\n",
       "      <td>8.593682e+06</td>\n",
       "    </tr>\n",
       "    <tr>\n",
       "      <th>3</th>\n",
       "      <td>8.417791e+06</td>\n",
       "    </tr>\n",
       "    <tr>\n",
       "      <th>4</th>\n",
       "      <td>8.197555e+06</td>\n",
       "    </tr>\n",
       "    <tr>\n",
       "      <th>5</th>\n",
       "      <td>8.134697e+06</td>\n",
       "    </tr>\n",
       "    <tr>\n",
       "      <th>6</th>\n",
       "      <td>8.542084e+06</td>\n",
       "    </tr>\n",
       "    <tr>\n",
       "      <th>7</th>\n",
       "      <td>4.736875e+06</td>\n",
       "    </tr>\n",
       "    <tr>\n",
       "      <th>8</th>\n",
       "      <td>4.832502e+06</td>\n",
       "    </tr>\n",
       "    <tr>\n",
       "      <th>9</th>\n",
       "      <td>5.112411e+06</td>\n",
       "    </tr>\n",
       "    <tr>\n",
       "      <th>10</th>\n",
       "      <td>5.275865e+06</td>\n",
       "    </tr>\n",
       "    <tr>\n",
       "      <th>11</th>\n",
       "      <td>4.722438e+06</td>\n",
       "    </tr>\n",
       "    <tr>\n",
       "      <th>12</th>\n",
       "      <td>4.558798e+06</td>\n",
       "    </tr>\n",
       "    <tr>\n",
       "      <th>13</th>\n",
       "      <td>5.524396e+06</td>\n",
       "    </tr>\n",
       "    <tr>\n",
       "      <th>14</th>\n",
       "      <td>7.363518e+06</td>\n",
       "    </tr>\n",
       "    <tr>\n",
       "      <th>15</th>\n",
       "      <td>7.657508e+06</td>\n",
       "    </tr>\n",
       "    <tr>\n",
       "      <th>16</th>\n",
       "      <td>4.625141e+06</td>\n",
       "    </tr>\n",
       "    <tr>\n",
       "      <th>17</th>\n",
       "      <td>2.161537e+06</td>\n",
       "    </tr>\n",
       "    <tr>\n",
       "      <th>18</th>\n",
       "      <td>1.259398e+06</td>\n",
       "    </tr>\n",
       "    <tr>\n",
       "      <th>19</th>\n",
       "      <td>1.079368e+06</td>\n",
       "    </tr>\n",
       "    <tr>\n",
       "      <th>20</th>\n",
       "      <td>1.004929e+06</td>\n",
       "    </tr>\n",
       "    <tr>\n",
       "      <th>21</th>\n",
       "      <td>1.301289e+06</td>\n",
       "    </tr>\n",
       "    <tr>\n",
       "      <th>22</th>\n",
       "      <td>2.178995e+06</td>\n",
       "    </tr>\n",
       "    <tr>\n",
       "      <th>23</th>\n",
       "      <td>7.054779e+06</td>\n",
       "    </tr>\n",
       "    <tr>\n",
       "      <th>24</th>\n",
       "      <td>1.261019e+07</td>\n",
       "    </tr>\n",
       "  </tbody>\n",
       "</table>\n",
       "</div>"
      ],
      "text/plain": [
       "               0\n",
       "1   9.179633e+06\n",
       "2   8.593682e+06\n",
       "3   8.417791e+06\n",
       "4   8.197555e+06\n",
       "5   8.134697e+06\n",
       "6   8.542084e+06\n",
       "7   4.736875e+06\n",
       "8   4.832502e+06\n",
       "9   5.112411e+06\n",
       "10  5.275865e+06\n",
       "11  4.722438e+06\n",
       "12  4.558798e+06\n",
       "13  5.524396e+06\n",
       "14  7.363518e+06\n",
       "15  7.657508e+06\n",
       "16  4.625141e+06\n",
       "17  2.161537e+06\n",
       "18  1.259398e+06\n",
       "19  1.079368e+06\n",
       "20  1.004929e+06\n",
       "21  1.301289e+06\n",
       "22  2.178995e+06\n",
       "23  7.054779e+06\n",
       "24  1.261019e+07"
      ]
     },
     "execution_count": 21,
     "metadata": {},
     "output_type": "execute_result"
    }
   ],
   "source": [
    "Pgen_df = ext_pyomo_vals(model.Pgen)\n",
    "\n",
    "Pgen_df"
   ]
  },
  {
   "cell_type": "code",
   "execution_count": 22,
   "id": "b4f36898",
   "metadata": {
    "ExecuteTime": {
     "end_time": "2023-01-24T15:33:43.784342Z",
     "start_time": "2023-01-24T15:33:43.769341Z"
    },
    "pycharm": {
     "name": "#%%\n"
    }
   },
   "outputs": [
    {
     "data": {
      "text/html": [
       "<div>\n",
       "<style scoped>\n",
       "    .dataframe tbody tr th:only-of-type {\n",
       "        vertical-align: middle;\n",
       "    }\n",
       "\n",
       "    .dataframe tbody tr th {\n",
       "        vertical-align: top;\n",
       "    }\n",
       "\n",
       "    .dataframe thead th {\n",
       "        text-align: right;\n",
       "    }\n",
       "</style>\n",
       "<table border=\"1\" class=\"dataframe\">\n",
       "  <thead>\n",
       "    <tr style=\"text-align: right;\">\n",
       "      <th></th>\n",
       "      <th>0</th>\n",
       "    </tr>\n",
       "  </thead>\n",
       "  <tbody>\n",
       "    <tr>\n",
       "      <th>1</th>\n",
       "      <td>5.202029e+06</td>\n",
       "    </tr>\n",
       "    <tr>\n",
       "      <th>2</th>\n",
       "      <td>5.864105e+06</td>\n",
       "    </tr>\n",
       "    <tr>\n",
       "      <th>3</th>\n",
       "      <td>5.383119e+06</td>\n",
       "    </tr>\n",
       "    <tr>\n",
       "      <th>4</th>\n",
       "      <td>4.117823e+06</td>\n",
       "    </tr>\n",
       "    <tr>\n",
       "      <th>5</th>\n",
       "      <td>3.434997e+06</td>\n",
       "    </tr>\n",
       "    <tr>\n",
       "      <th>6</th>\n",
       "      <td>4.004192e+06</td>\n",
       "    </tr>\n",
       "    <tr>\n",
       "      <th>7</th>\n",
       "      <td>5.191122e+06</td>\n",
       "    </tr>\n",
       "    <tr>\n",
       "      <th>8</th>\n",
       "      <td>4.282210e+06</td>\n",
       "    </tr>\n",
       "    <tr>\n",
       "      <th>9</th>\n",
       "      <td>4.371468e+06</td>\n",
       "    </tr>\n",
       "    <tr>\n",
       "      <th>10</th>\n",
       "      <td>3.906558e+06</td>\n",
       "    </tr>\n",
       "    <tr>\n",
       "      <th>11</th>\n",
       "      <td>3.486552e+06</td>\n",
       "    </tr>\n",
       "    <tr>\n",
       "      <th>12</th>\n",
       "      <td>3.691903e+06</td>\n",
       "    </tr>\n",
       "    <tr>\n",
       "      <th>13</th>\n",
       "      <td>4.118951e+06</td>\n",
       "    </tr>\n",
       "    <tr>\n",
       "      <th>14</th>\n",
       "      <td>5.561970e+06</td>\n",
       "    </tr>\n",
       "    <tr>\n",
       "      <th>15</th>\n",
       "      <td>6.102671e+06</td>\n",
       "    </tr>\n",
       "    <tr>\n",
       "      <th>16</th>\n",
       "      <td>9.494741e+06</td>\n",
       "    </tr>\n",
       "    <tr>\n",
       "      <th>17</th>\n",
       "      <td>1.218563e+07</td>\n",
       "    </tr>\n",
       "    <tr>\n",
       "      <th>18</th>\n",
       "      <td>1.208855e+07</td>\n",
       "    </tr>\n",
       "    <tr>\n",
       "      <th>19</th>\n",
       "      <td>1.255179e+07</td>\n",
       "    </tr>\n",
       "    <tr>\n",
       "      <th>20</th>\n",
       "      <td>1.235324e+07</td>\n",
       "    </tr>\n",
       "    <tr>\n",
       "      <th>21</th>\n",
       "      <td>1.072364e+07</td>\n",
       "    </tr>\n",
       "    <tr>\n",
       "      <th>22</th>\n",
       "      <td>9.259148e+06</td>\n",
       "    </tr>\n",
       "    <tr>\n",
       "      <th>23</th>\n",
       "      <td>7.937077e+06</td>\n",
       "    </tr>\n",
       "    <tr>\n",
       "      <th>24</th>\n",
       "      <td>5.236647e+06</td>\n",
       "    </tr>\n",
       "  </tbody>\n",
       "</table>\n",
       "</div>"
      ],
      "text/plain": [
       "               0\n",
       "1   5.202029e+06\n",
       "2   5.864105e+06\n",
       "3   5.383119e+06\n",
       "4   4.117823e+06\n",
       "5   3.434997e+06\n",
       "6   4.004192e+06\n",
       "7   5.191122e+06\n",
       "8   4.282210e+06\n",
       "9   4.371468e+06\n",
       "10  3.906558e+06\n",
       "11  3.486552e+06\n",
       "12  3.691903e+06\n",
       "13  4.118951e+06\n",
       "14  5.561970e+06\n",
       "15  6.102671e+06\n",
       "16  9.494741e+06\n",
       "17  1.218563e+07\n",
       "18  1.208855e+07\n",
       "19  1.255179e+07\n",
       "20  1.235324e+07\n",
       "21  1.072364e+07\n",
       "22  9.259148e+06\n",
       "23  7.937077e+06\n",
       "24  5.236647e+06"
      ]
     },
     "execution_count": 22,
     "metadata": {},
     "output_type": "execute_result"
    }
   ],
   "source": [
    "Pres_df = ext_pyomo_vals(model.Pres)\n",
    "\n",
    "Pres_df"
   ]
  },
  {
   "cell_type": "code",
   "execution_count": 23,
   "id": "1a4b0a42",
   "metadata": {
    "ExecuteTime": {
     "end_time": "2023-01-24T17:05:54.186160Z",
     "start_time": "2023-01-24T17:05:53.606148Z"
    },
    "pycharm": {
     "name": "#%%\n"
    }
   },
   "outputs": [],
   "source": [
    "Etriprelax_df = ext_pyomo_vals(model.Etriprelax)"
   ]
  },
  {
   "cell_type": "code",
   "execution_count": 24,
   "id": "d05a167f",
   "metadata": {
    "ExecuteTime": {
     "end_time": "2023-01-24T17:05:58.282343Z",
     "start_time": "2023-01-24T17:05:58.200339Z"
    },
    "pycharm": {
     "name": "#%%\n"
    }
   },
   "outputs": [
    {
     "data": {
      "text/plain": [
       "1          0.000005\n",
       "2          0.000008\n",
       "3          0.000008\n",
       "4          0.000008\n",
       "5          0.000008\n",
       "6          0.000008\n",
       "7          0.000008\n",
       "8          0.000008\n",
       "9          0.000008\n",
       "10         0.000008\n",
       "11         0.000008\n",
       "12         0.000008\n",
       "13      1069.988219\n",
       "14      6531.044290\n",
       "15      8373.544718\n",
       "16     12310.295158\n",
       "17     13701.172069\n",
       "18     14278.664832\n",
       "19     12594.527074\n",
       "20     13224.317838\n",
       "21     12248.259830\n",
       "22      8720.518498\n",
       "23      4694.228238\n",
       "24    480151.085592\n",
       "dtype: float64"
      ]
     },
     "execution_count": 24,
     "metadata": {},
     "output_type": "execute_result"
    }
   ],
   "source": [
    "Etriprelax_df.sum()"
   ]
  },
  {
   "cell_type": "code",
   "execution_count": 25,
   "id": "31b6567e",
   "metadata": {
    "ExecuteTime": {
     "end_time": "2023-01-24T17:06:03.871600Z",
     "start_time": "2023-01-24T17:06:03.713595Z"
    },
    "pycharm": {
     "name": "#%%\n"
    }
   },
   "outputs": [],
   "source": [
    "Eminsocrelax_df = ext_pyomo_vals(model.Eminsocrelax)"
   ]
  },
  {
   "cell_type": "code",
   "execution_count": 26,
   "id": "5b7336ec",
   "metadata": {
    "ExecuteTime": {
     "end_time": "2023-01-24T17:06:08.648805Z",
     "start_time": "2023-01-24T17:06:08.637805Z"
    },
    "pycharm": {
     "name": "#%%\n"
    }
   },
   "outputs": [
    {
     "data": {
      "text/plain": [
       "1       0.000000\n",
       "2       0.000005\n",
       "3       0.000008\n",
       "4       0.000008\n",
       "5       0.000008\n",
       "6       0.000008\n",
       "7       0.000008\n",
       "8       0.000008\n",
       "9       0.000008\n",
       "10      0.000008\n",
       "11      0.000008\n",
       "12      0.000008\n",
       "13      0.000008\n",
       "14      0.000008\n",
       "15      0.000008\n",
       "16      0.000008\n",
       "17      0.000008\n",
       "18      0.000008\n",
       "19      0.000008\n",
       "20      0.000008\n",
       "21      0.000008\n",
       "22    389.938384\n",
       "23      0.000008\n",
       "24      0.000008\n",
       "dtype: float64"
      ]
     },
     "execution_count": 26,
     "metadata": {},
     "output_type": "execute_result"
    }
   ],
   "source": [
    "Eminsocrelax_df.sum()"
   ]
  },
  {
   "cell_type": "code",
   "execution_count": 27,
   "id": "af611526",
   "metadata": {
    "ExecuteTime": {
     "end_time": "2023-01-24T17:06:15.053089Z",
     "start_time": "2023-01-24T17:06:14.903084Z"
    },
    "pycharm": {
     "name": "#%%\n"
    }
   },
   "outputs": [],
   "source": [
    "Etripn_df = ext_pyomo_vals(model.Etripn)"
   ]
  },
  {
   "cell_type": "code",
   "execution_count": 28,
   "id": "2d67466a",
   "metadata": {
    "ExecuteTime": {
     "end_time": "2023-01-24T17:06:19.409280Z",
     "start_time": "2023-01-24T17:06:19.391279Z"
    },
    "pycharm": {
     "name": "#%%\n"
    }
   },
   "outputs": [
    {
     "data": {
      "text/plain": [
       "1     3.012639e+06\n",
       "2     1.166828e+05\n",
       "3     5.611484e+04\n",
       "4     1.747803e+04\n",
       "5     7.542035e+03\n",
       "6     1.218573e+04\n",
       "7     1.022651e+04\n",
       "8     1.182157e+04\n",
       "9     0.000000e+00\n",
       "10    1.878932e+06\n",
       "11    4.450396e+06\n",
       "12    0.000000e+00\n",
       "13    2.402219e+06\n",
       "14    9.198751e+06\n",
       "15    4.185460e+06\n",
       "16    4.260775e+06\n",
       "17    1.203396e+06\n",
       "18    2.595200e+06\n",
       "19    7.924992e+05\n",
       "20    2.940490e+06\n",
       "21    3.307096e+06\n",
       "22    2.922840e+06\n",
       "23    3.333886e+06\n",
       "24    1.150694e+07\n",
       "dtype: float64"
      ]
     },
     "execution_count": 28,
     "metadata": {},
     "output_type": "execute_result"
    }
   ],
   "source": [
    "Etripn_df.sum()"
   ]
  },
  {
   "cell_type": "code",
   "execution_count": 29,
   "id": "e371541d",
   "metadata": {
    "pycharm": {
     "name": "#%%\n"
    }
   },
   "outputs": [],
   "source": [
    "Pex_df = ext_pyomo_vals(model.Pex)"
   ]
  },
  {
   "cell_type": "code",
   "execution_count": 30,
   "id": "5d7863e8",
   "metadata": {
    "pycharm": {
     "name": "#%%\n"
    }
   },
   "outputs": [
    {
     "data": {
      "text/html": [
       "<div>\n",
       "<style scoped>\n",
       "    .dataframe tbody tr th:only-of-type {\n",
       "        vertical-align: middle;\n",
       "    }\n",
       "\n",
       "    .dataframe tbody tr th {\n",
       "        vertical-align: top;\n",
       "    }\n",
       "\n",
       "    .dataframe thead th {\n",
       "        text-align: right;\n",
       "    }\n",
       "</style>\n",
       "<table border=\"1\" class=\"dataframe\">\n",
       "  <thead>\n",
       "    <tr style=\"text-align: right;\">\n",
       "      <th></th>\n",
       "      <th>0</th>\n",
       "    </tr>\n",
       "  </thead>\n",
       "  <tbody>\n",
       "    <tr>\n",
       "      <th>1</th>\n",
       "      <td>8126.027728</td>\n",
       "    </tr>\n",
       "    <tr>\n",
       "      <th>2</th>\n",
       "      <td>6507.679889</td>\n",
       "    </tr>\n",
       "    <tr>\n",
       "      <th>3</th>\n",
       "      <td>8237.569636</td>\n",
       "    </tr>\n",
       "    <tr>\n",
       "      <th>4</th>\n",
       "      <td>8524.999735</td>\n",
       "    </tr>\n",
       "    <tr>\n",
       "      <th>5</th>\n",
       "      <td>8326.963576</td>\n",
       "    </tr>\n",
       "    <tr>\n",
       "      <th>6</th>\n",
       "      <td>8487.044091</td>\n",
       "    </tr>\n",
       "    <tr>\n",
       "      <th>7</th>\n",
       "      <td>5636.174085</td>\n",
       "    </tr>\n",
       "    <tr>\n",
       "      <th>8</th>\n",
       "      <td>10366.553169</td>\n",
       "    </tr>\n",
       "    <tr>\n",
       "      <th>9</th>\n",
       "      <td>9118.126107</td>\n",
       "    </tr>\n",
       "    <tr>\n",
       "      <th>10</th>\n",
       "      <td>6588.250695</td>\n",
       "    </tr>\n",
       "    <tr>\n",
       "      <th>11</th>\n",
       "      <td>9953.849495</td>\n",
       "    </tr>\n",
       "    <tr>\n",
       "      <th>12</th>\n",
       "      <td>5111.331981</td>\n",
       "    </tr>\n",
       "    <tr>\n",
       "      <th>13</th>\n",
       "      <td>5783.588155</td>\n",
       "    </tr>\n",
       "    <tr>\n",
       "      <th>14</th>\n",
       "      <td>10862.876205</td>\n",
       "    </tr>\n",
       "    <tr>\n",
       "      <th>15</th>\n",
       "      <td>12143.351332</td>\n",
       "    </tr>\n",
       "    <tr>\n",
       "      <th>16</th>\n",
       "      <td>10830.697484</td>\n",
       "    </tr>\n",
       "    <tr>\n",
       "      <th>17</th>\n",
       "      <td>10917.001113</td>\n",
       "    </tr>\n",
       "    <tr>\n",
       "      <th>18</th>\n",
       "      <td>10970.086042</td>\n",
       "    </tr>\n",
       "    <tr>\n",
       "      <th>19</th>\n",
       "      <td>10992.217517</td>\n",
       "    </tr>\n",
       "    <tr>\n",
       "      <th>20</th>\n",
       "      <td>11300.118218</td>\n",
       "    </tr>\n",
       "    <tr>\n",
       "      <th>21</th>\n",
       "      <td>11474.276526</td>\n",
       "    </tr>\n",
       "    <tr>\n",
       "      <th>22</th>\n",
       "      <td>11860.903695</td>\n",
       "    </tr>\n",
       "    <tr>\n",
       "      <th>23</th>\n",
       "      <td>13278.252723</td>\n",
       "    </tr>\n",
       "    <tr>\n",
       "      <th>24</th>\n",
       "      <td>13542.969677</td>\n",
       "    </tr>\n",
       "  </tbody>\n",
       "</table>\n",
       "</div>"
      ],
      "text/plain": [
       "               0\n",
       "1    8126.027728\n",
       "2    6507.679889\n",
       "3    8237.569636\n",
       "4    8524.999735\n",
       "5    8326.963576\n",
       "6    8487.044091\n",
       "7    5636.174085\n",
       "8   10366.553169\n",
       "9    9118.126107\n",
       "10   6588.250695\n",
       "11   9953.849495\n",
       "12   5111.331981\n",
       "13   5783.588155\n",
       "14  10862.876205\n",
       "15  12143.351332\n",
       "16  10830.697484\n",
       "17  10917.001113\n",
       "18  10970.086042\n",
       "19  10992.217517\n",
       "20  11300.118218\n",
       "21  11474.276526\n",
       "22  11860.903695\n",
       "23  13278.252723\n",
       "24  13542.969677"
      ]
     },
     "execution_count": 30,
     "metadata": {},
     "output_type": "execute_result"
    }
   ],
   "source": [
    "Pex_df"
   ]
  },
  {
   "cell_type": "code",
   "execution_count": 31,
   "id": "1550e3a1",
   "metadata": {},
   "outputs": [],
   "source": [
    "Pbio_df = ext_pyomo_vals(model.Pbio)"
   ]
  },
  {
   "cell_type": "code",
   "execution_count": 32,
   "id": "f3e8b4ac",
   "metadata": {},
   "outputs": [
    {
     "data": {
      "text/html": [
       "<div>\n",
       "<style scoped>\n",
       "    .dataframe tbody tr th:only-of-type {\n",
       "        vertical-align: middle;\n",
       "    }\n",
       "\n",
       "    .dataframe tbody tr th {\n",
       "        vertical-align: top;\n",
       "    }\n",
       "\n",
       "    .dataframe thead th {\n",
       "        text-align: right;\n",
       "    }\n",
       "</style>\n",
       "<table border=\"1\" class=\"dataframe\">\n",
       "  <thead>\n",
       "    <tr style=\"text-align: right;\">\n",
       "      <th></th>\n",
       "      <th>0</th>\n",
       "    </tr>\n",
       "  </thead>\n",
       "  <tbody>\n",
       "    <tr>\n",
       "      <th>1</th>\n",
       "      <td>0.0</td>\n",
       "    </tr>\n",
       "    <tr>\n",
       "      <th>2</th>\n",
       "      <td>0.0</td>\n",
       "    </tr>\n",
       "    <tr>\n",
       "      <th>3</th>\n",
       "      <td>0.0</td>\n",
       "    </tr>\n",
       "    <tr>\n",
       "      <th>4</th>\n",
       "      <td>0.0</td>\n",
       "    </tr>\n",
       "    <tr>\n",
       "      <th>5</th>\n",
       "      <td>0.0</td>\n",
       "    </tr>\n",
       "    <tr>\n",
       "      <th>6</th>\n",
       "      <td>0.0</td>\n",
       "    </tr>\n",
       "    <tr>\n",
       "      <th>7</th>\n",
       "      <td>0.0</td>\n",
       "    </tr>\n",
       "    <tr>\n",
       "      <th>8</th>\n",
       "      <td>0.0</td>\n",
       "    </tr>\n",
       "    <tr>\n",
       "      <th>9</th>\n",
       "      <td>0.0</td>\n",
       "    </tr>\n",
       "    <tr>\n",
       "      <th>10</th>\n",
       "      <td>0.0</td>\n",
       "    </tr>\n",
       "    <tr>\n",
       "      <th>11</th>\n",
       "      <td>0.0</td>\n",
       "    </tr>\n",
       "    <tr>\n",
       "      <th>12</th>\n",
       "      <td>0.0</td>\n",
       "    </tr>\n",
       "    <tr>\n",
       "      <th>13</th>\n",
       "      <td>0.0</td>\n",
       "    </tr>\n",
       "    <tr>\n",
       "      <th>14</th>\n",
       "      <td>0.0</td>\n",
       "    </tr>\n",
       "    <tr>\n",
       "      <th>15</th>\n",
       "      <td>0.0</td>\n",
       "    </tr>\n",
       "    <tr>\n",
       "      <th>16</th>\n",
       "      <td>0.0</td>\n",
       "    </tr>\n",
       "    <tr>\n",
       "      <th>17</th>\n",
       "      <td>0.0</td>\n",
       "    </tr>\n",
       "    <tr>\n",
       "      <th>18</th>\n",
       "      <td>0.0</td>\n",
       "    </tr>\n",
       "    <tr>\n",
       "      <th>19</th>\n",
       "      <td>0.0</td>\n",
       "    </tr>\n",
       "    <tr>\n",
       "      <th>20</th>\n",
       "      <td>0.0</td>\n",
       "    </tr>\n",
       "    <tr>\n",
       "      <th>21</th>\n",
       "      <td>0.0</td>\n",
       "    </tr>\n",
       "    <tr>\n",
       "      <th>22</th>\n",
       "      <td>0.0</td>\n",
       "    </tr>\n",
       "    <tr>\n",
       "      <th>23</th>\n",
       "      <td>0.0</td>\n",
       "    </tr>\n",
       "    <tr>\n",
       "      <th>24</th>\n",
       "      <td>0.0</td>\n",
       "    </tr>\n",
       "  </tbody>\n",
       "</table>\n",
       "</div>"
      ],
      "text/plain": [
       "      0\n",
       "1   0.0\n",
       "2   0.0\n",
       "3   0.0\n",
       "4   0.0\n",
       "5   0.0\n",
       "6   0.0\n",
       "7   0.0\n",
       "8   0.0\n",
       "9   0.0\n",
       "10  0.0\n",
       "11  0.0\n",
       "12  0.0\n",
       "13  0.0\n",
       "14  0.0\n",
       "15  0.0\n",
       "16  0.0\n",
       "17  0.0\n",
       "18  0.0\n",
       "19  0.0\n",
       "20  0.0\n",
       "21  0.0\n",
       "22  0.0\n",
       "23  0.0\n",
       "24  0.0"
      ]
     },
     "execution_count": 32,
     "metadata": {},
     "output_type": "execute_result"
    }
   ],
   "source": [
    "Pbio_df"
   ]
  },
  {
   "cell_type": "markdown",
   "id": "a68903ef",
   "metadata": {
    "pycharm": {
     "name": "#%% md\n"
    }
   },
   "source": [
    "## Save results in csv files"
   ]
  },
  {
   "cell_type": "code",
   "execution_count": 33,
   "id": "4f916d41",
   "metadata": {
    "ExecuteTime": {
     "end_time": "2023-01-24T17:22:26.847469Z",
     "start_time": "2023-01-24T17:22:26.673463Z"
    },
    "pycharm": {
     "name": "#%%\n"
    }
   },
   "outputs": [],
   "source": [
    "import os \n",
    "folder = 'results_RES_c_V2G' + str(n_evs)\n",
    "\n",
    "if not os.path.exists(folder):\n",
    "    os.makedirs(folder)\n",
    "    \n",
    "EEV_df.to_csv(folder + '/EEV.csv')\n",
    "PEV_df.to_csv(folder + '/PEV.csv')\n",
    "PEV_df.sum().to_csv(folder + '/PEV_h.csv')\n",
    "PEVdc_df.sum().to_csv(folder + '/PEVdc_h.csv')\n",
    "\n",
    "Etriprelax_df.to_csv(folder + '/Etriprelax.csv')\n",
    "Etriprelax_df.sum().to_csv(folder + '/Etriprelax_h.csv')\n",
    "\n",
    "Eminsocrelax_df.to_csv(folder + '/Eminsocrelax.csv')\n",
    "Eminsocrelax_df.sum().to_csv(folder + '/Eminsocrelax_h.csv')\n",
    "\n",
    "Etripn_df.to_csv(folder + '/Etripn.csv')\n",
    "Etripn_df.sum().to_csv(folder + '/Etripn_h.csv')\n",
    "\n",
    "Pgen_df.to_csv(folder + '/Pgen.csv')\n",
    "Pres_df.to_csv(folder + '/Pres.csv')\n",
    "Pex_df.to_csv(folder + '/Pex.csv')"
   ]
  },
  {
   "cell_type": "code",
   "execution_count": null,
   "id": "b9e00ba6",
   "metadata": {
    "pycharm": {
     "name": "#%%\n"
    }
   },
   "outputs": [],
   "source": []
  },
  {
   "cell_type": "code",
   "execution_count": null,
   "id": "031e8f77",
   "metadata": {
    "pycharm": {
     "name": "#%%\n"
    }
   },
   "outputs": [],
   "source": []
  }
 ],
 "metadata": {
  "kernelspec": {
   "display_name": "Python 3 (ipykernel)",
   "language": "python",
   "name": "python3"
  },
  "language_info": {
   "codemirror_mode": {
    "name": "ipython",
    "version": 3
   },
   "file_extension": ".py",
   "mimetype": "text/x-python",
   "name": "python",
   "nbconvert_exporter": "python",
   "pygments_lexer": "ipython3",
   "version": "3.10.10"
  },
  "toc": {
   "base_numbering": 1,
   "nav_menu": {},
   "number_sections": true,
   "sideBar": true,
   "skip_h1_title": false,
   "title_cell": "Table of Contents",
   "title_sidebar": "Contents",
   "toc_cell": false,
   "toc_position": {},
   "toc_section_display": true,
   "toc_window_display": false
  }
 },
 "nbformat": 4,
 "nbformat_minor": 5
}
