{
 "cells": [
  {
   "cell_type": "markdown",
   "id": "6a58bfd2",
   "metadata": {
    "pycharm": {
     "name": "#%% md\n"
    }
   },
   "source": [
    "## Import packages"
   ]
  },
  {
   "cell_type": "code",
   "execution_count": 1,
   "id": "b87b1c85",
   "metadata": {
    "ExecuteTime": {
     "end_time": "2023-01-24T15:17:42.627332Z",
     "start_time": "2023-01-24T15:17:41.636311Z"
    },
    "pycharm": {
     "name": "#%%\n"
    }
   },
   "outputs": [],
   "source": [
    "import pyomo\n",
    "import pyomo.opt\n",
    "import pyomo.environ as pyo\n",
    "import numpy as np\n",
    "import pandas as pd\n",
    "import matplotlib as plt"
   ]
  },
  {
   "cell_type": "code",
   "execution_count": 2,
   "id": "df083217",
   "metadata": {
    "ExecuteTime": {
     "end_time": "2023-01-24T15:17:42.632332Z",
     "start_time": "2023-01-24T15:17:42.627332Z"
    },
    "pycharm": {
     "name": "#%%\n"
    }
   },
   "outputs": [],
   "source": [
    "n_time = 24"
   ]
  },
  {
   "cell_type": "code",
   "execution_count": 3,
   "id": "d123a525",
   "metadata": {
    "ExecuteTime": {
     "end_time": "2023-01-24T15:17:42.643333Z",
     "start_time": "2023-01-24T15:17:42.632332Z"
    },
    "pycharm": {
     "name": "#%%\n"
    }
   },
   "outputs": [],
   "source": [
    "def _auxDictionary(a):\n",
    "    temp_dictionary = {}\n",
    "    if len(a.shape) == 3:\n",
    "        for dim0 in np.arange(a.shape[0]):\n",
    "            for dim1 in np.arange(a.shape[1]):\n",
    "                for dim2 in np.arange(a.shape[2]):\n",
    "                    temp_dictionary[(dim0+1, dim1+1, dim2+1)] = a[dim0, dim1, dim2]\n",
    "    elif len(a.shape) == 2:\n",
    "        for dim0 in np.arange(a.shape[0]):\n",
    "            for dim1 in np.arange(a.shape[1]):\n",
    "                temp_dictionary[(dim0+1, dim1+1)] = a[dim0, dim1]\n",
    "    else:\n",
    "        for dim0 in np.arange(a.shape[0]):\n",
    "            temp_dictionary[(dim0+1)] = a[dim0]\n",
    "    return temp_dictionary\n",
    "#temp_dict1 = _auxDictionary(loadLimit)"
   ]
  },
  {
   "cell_type": "markdown",
   "id": "350a78ae",
   "metadata": {
    "pycharm": {
     "name": "#%% md\n"
    }
   },
   "source": [
    "## Data"
   ]
  },
  {
   "cell_type": "code",
   "execution_count": 4,
   "id": "bef207fe",
   "metadata": {
    "ExecuteTime": {
     "end_time": "2023-01-24T15:17:42.681335Z",
     "start_time": "2023-01-24T15:17:42.645333Z"
    },
    "pycharm": {
     "name": "#%%\n"
    }
   },
   "outputs": [],
   "source": [
    "data = {}\n",
    "data['Inputs'] = pd.read_csv('Inputs.csv')\n",
    "data['EVs_Inputs'] = pd.read_csv('EVs_Inputs.csv')\n",
    "data['alpha'] = pd.read_csv('alpha.csv')\n",
    "data['PchmaxEV'] = pd.read_csv('PchmaxEV.csv')\n",
    "data['S'] = pd.read_csv('S.csv')"
   ]
  },
  {
   "cell_type": "code",
   "execution_count": 5,
   "id": "76c473cc",
   "metadata": {
    "ExecuteTime": {
     "end_time": "2023-01-24T15:17:42.686335Z",
     "start_time": "2023-01-24T15:17:42.682335Z"
    },
    "pycharm": {
     "name": "#%%\n"
    }
   },
   "outputs": [],
   "source": [
    "n_evs = data['EVs_Inputs']['Esoc'].size"
   ]
  },
  {
   "cell_type": "markdown",
   "id": "47831453",
   "metadata": {
    "pycharm": {
     "name": "#%% md\n"
    }
   },
   "source": [
    "## Start Time"
   ]
  },
  {
   "cell_type": "code",
   "execution_count": 6,
   "id": "ee4928c6",
   "metadata": {
    "pycharm": {
     "name": "#%%\n"
    }
   },
   "outputs": [
    {
     "name": "stdout",
     "output_type": "stream",
     "text": [
      "Start Time = 22:58:29\n"
     ]
    }
   ],
   "source": [
    "from datetime import datetime\n",
    "\n",
    "now = datetime.now()\n",
    "\n",
    "start_time = now.strftime(\"%H:%M:%S\")\n",
    "print(\"Start Time =\", start_time)"
   ]
  },
  {
   "cell_type": "markdown",
   "id": "b8f7c1b5",
   "metadata": {
    "pycharm": {
     "name": "#%% md\n"
    }
   },
   "source": [
    "## Sets"
   ]
  },
  {
   "cell_type": "code",
   "execution_count": 7,
   "id": "1cced946",
   "metadata": {
    "ExecuteTime": {
     "end_time": "2023-01-24T15:17:42.700336Z",
     "start_time": "2023-01-24T15:17:42.688335Z"
    },
    "pycharm": {
     "name": "#%%\n"
    }
   },
   "outputs": [],
   "source": [
    "model = pyo.ConcreteModel()\n",
    "\n",
    "model.ev = pyo.Set(initialize = np.arange(1, n_evs + 1))\n",
    "model.t = pyo.Set(initialize = np.arange(1, n_time + 1))\n"
   ]
  },
  {
   "cell_type": "markdown",
   "id": "5d664586",
   "metadata": {
    "pycharm": {
     "name": "#%% md\n"
    }
   },
   "source": [
    "## Parameters"
   ]
  },
  {
   "cell_type": "code",
   "execution_count": 8,
   "id": "148addfd",
   "metadata": {
    "ExecuteTime": {
     "end_time": "2023-01-24T15:17:44.085368Z",
     "start_time": "2023-01-24T15:17:42.702336Z"
    },
    "pycharm": {
     "name": "#%%\n"
    }
   },
   "outputs": [],
   "source": [
    "model.EEVmax = pyo.Param(model.ev, initialize =_auxDictionary(data['EVs_Inputs'].to_numpy()[:,2]))\n",
    "model.EEVmin = pyo.Param(model.ev, initialize =_auxDictionary(data['EVs_Inputs'].to_numpy()[:,1]))\n",
    "model.ESoc = pyo.Param(model.ev, initialize =_auxDictionary(data['EVs_Inputs'].to_numpy()[:,0]))\n",
    "model.dT = pyo.Param(model.t, initialize =_auxDictionary(data['Inputs'].to_numpy()[:,0]))\n",
    "model.cDA = pyo.Param(model.t, initialize =_auxDictionary(data['Inputs'].to_numpy()[:,1]))\n",
    "model.PchmaxEV = pyo.Param(model.ev, model.t, initialize =_auxDictionary(data['PchmaxEV'].to_numpy()))\n",
    "model.S = pyo.Param(model.ev, model.t, initialize = _auxDictionary(data['S'].to_numpy()))\n",
    "model.alpha = pyo.Param(model.ev, model.t, initialize = _auxDictionary(data['alpha'].to_numpy()))\n",
    "model.RealHour = pyo.Param(model.t, initialize=_auxDictionary(data['Inputs'].to_numpy()[:,2]))\n",
    "model.penalty1 = 1000\n",
    "model.penalty2 = 1000\n",
    "model.penalty3 = 0.6\n",
    "model.Etrip = pyo.Param(model.ev, initialize=_auxDictionary(data['EVs_Inputs'].to_numpy()[:,3]))\n",
    "model.n = 1\n",
    "model.m = 0.6\n",
    "model.OCParam = 0.022\n",
    "model.factor = 1"
   ]
  },
  {
   "cell_type": "markdown",
   "id": "a9c24e9c",
   "metadata": {
    "pycharm": {
     "name": "#%% md\n"
    }
   },
   "source": [
    "## Variables"
   ]
  },
  {
   "cell_type": "code",
   "execution_count": 9,
   "id": "08234a28",
   "metadata": {
    "ExecuteTime": {
     "end_time": "2023-01-24T15:17:44.354383Z",
     "start_time": "2023-01-24T15:17:44.085368Z"
    },
    "pycharm": {
     "name": "#%%\n"
    }
   },
   "outputs": [],
   "source": [
    "model.PEV = pyo.Var(model.ev, model.t, domain = pyo.NonNegativeReals, initialize = 0)\n",
    "model.EEV = pyo.Var(model.ev, model.t, domain = pyo.Reals, initialize = 0)\n",
    "model.Etriprelax = pyo.Var(model.ev, model.t, domain = pyo.NonNegativeReals, initialize = 0)\n",
    "model.Eminsocrelax = pyo.Var(model.ev, model.t, domain = pyo.NonNegativeReals, initialize = 0)\n",
    "model.Etripn = pyo.Var(model.ev, model.t, domain = pyo.Reals, initialize = 0)"
   ]
  },
  {
   "cell_type": "markdown",
   "id": "afd607ee",
   "metadata": {
    "pycharm": {
     "name": "#%% md\n"
    }
   },
   "source": [
    "## Constraints"
   ]
  },
  {
   "cell_type": "code",
   "execution_count": 10,
   "id": "c8222a40",
   "metadata": {
    "ExecuteTime": {
     "end_time": "2023-01-24T15:17:49.169483Z",
     "start_time": "2023-01-24T15:17:44.356383Z"
    },
    "pycharm": {
     "name": "#%%\n"
    }
   },
   "outputs": [],
   "source": [
    "def _balance_etripn(m,ev,t): \n",
    "    return m.Etripn[ev,t] == m.Etrip[ev]*m.S[ev,t]/(sum([m.S[ev,k] for k in np.arange(1, n_time + 1)]))\n",
    "model.balance_etripn = pyo.Constraint(model.ev, model.t, rule = _balance_etripn)\n",
    "\n",
    "def _balance_energy_EVS3(m,ev,t): \n",
    "    if t == 24:\n",
    "        return m.EEV[ev,t] + m.Etriprelax[ev,t] >= m.EEVmax[ev]*m.m\n",
    "    return pyo.Constraint.Skip\n",
    "model.balance_energy_EVS3 = pyo.Constraint(model.ev, model.t, rule = _balance_energy_EVS3)\n",
    "\n",
    "def _balance_energy_EVS(m,ev,t): \n",
    "    if t == 1:\n",
    "        return m.EEV[ev,t] - m.Etriprelax[ev,t] == m.ESoc[ev] + m.PEV[ev,t]*m.dT[t]*m.n - m.Etripn[ev,t]\n",
    "    return pyo.Constraint.Skip\n",
    "model.balance_energy_EVS = pyo.Constraint(model.ev, model.t, rule = _balance_energy_EVS)\n",
    "\n",
    "def _balance_energy_EVS2(m,ev,t): \n",
    "    if t > 1:\n",
    "        return m.EEV[ev,t] - m.Etriprelax[ev,t] == m.EEV[ev,t-1] + m.PEV[ev,t]*m.dT[t]*m.n - m.Etripn[ev,t]\n",
    "    return pyo.Constraint.Skip\n",
    "model.balance_energy_EVS2 = pyo.Constraint(model.ev, model.t, rule = _balance_energy_EVS2)\n",
    "\n",
    "def _power_charging_limit1(m,ev,t): \n",
    "    return m.PEV[ev,t] >= 0\n",
    "model.power_charging_limit1 = pyo.Constraint(model.ev, model.t, rule = _power_charging_limit1)\n",
    "\n",
    "def _power_charging_limit2(m,ev,t): \n",
    "    return m.PEV[ev,t] <= m.alpha[ev,t]*m.PchmaxEV[ev,t]*m.factor\n",
    "model.power_charging_limit2 = pyo.Constraint(model.ev, model.t, rule = _power_charging_limit2)\n",
    "\n",
    "def _energy_limits_EVS_1(m,ev,t): \n",
    "    return m.EEVmin[ev] <= m.EEV[ev,t] + m.Eminsocrelax[ev,t]\n",
    "model.energy_limits_EVS_1 = pyo.Constraint(model.ev, model.t, rule = _energy_limits_EVS_1)\n",
    "\n",
    "def _energy_limits_EVS_2(m,ev,t): \n",
    "    return m.EEV[ev,t] <= m.EEVmax[ev]\n",
    "model.energy_limits_EVS_2 = pyo.Constraint(model.ev, model.t, rule = _energy_limits_EVS_2) \n"
   ]
  },
  {
   "cell_type": "markdown",
   "id": "e49642d6",
   "metadata": {
    "pycharm": {
     "name": "#%% md\n"
    }
   },
   "source": [
    "## Objective function"
   ]
  },
  {
   "cell_type": "code",
   "execution_count": 11,
   "id": "8be0a620",
   "metadata": {
    "ExecuteTime": {
     "end_time": "2023-01-24T15:17:49.956521Z",
     "start_time": "2023-01-24T15:17:49.171483Z"
    },
    "pycharm": {
     "name": "#%%\n"
    }
   },
   "outputs": [],
   "source": [
    "def _FOag(m):\n",
    "    return sum([-m.PEV[ev,t]*m.dT[t]*(m.OCParam - m.cDA[t]) + m.Etriprelax[ev,t]*m.penalty1 + m.Eminsocrelax[ev,t]*m.penalty2 for ev in np.arange(1, n_evs + 1) for t in np.arange(1, n_time + 1)])\n",
    "\n",
    "model.FOag = pyo.Objective(rule = _FOag, sense = pyo.minimize)"
   ]
  },
  {
   "cell_type": "markdown",
   "id": "5df899d1",
   "metadata": {
    "pycharm": {
     "name": "#%% md\n"
    }
   },
   "source": [
    "## Solve the model"
   ]
  },
  {
   "cell_type": "code",
   "execution_count": 12,
   "id": "3c88da05",
   "metadata": {
    "ExecuteTime": {
     "end_time": "2023-01-24T15:18:10.409104Z",
     "start_time": "2023-01-24T15:17:49.957521Z"
    },
    "pycharm": {
     "name": "#%%\n"
    }
   },
   "outputs": [
    {
     "name": "stdout",
     "output_type": "stream",
     "text": [
      "# ==========================================================\n",
      "# = Solver Results                                         =\n",
      "# ==========================================================\n",
      "# ----------------------------------------------------------\n",
      "#   Problem Information\n",
      "# ----------------------------------------------------------\n",
      "Problem: \n",
      "- Name: tmpsitk7th4\n",
      "  Lower bound: 597714067.1367911\n",
      "  Upper bound: 597714067.1367911\n",
      "  Number of objectives: 1\n",
      "  Number of constraints: 435001\n",
      "  Number of variables: 360001\n",
      "  Number of nonzeros: 795001\n",
      "  Sense: minimize\n",
      "# ----------------------------------------------------------\n",
      "#   Solver Information\n",
      "# ----------------------------------------------------------\n",
      "Solver: \n",
      "- Status: ok\n",
      "  User time: 1.66\n",
      "  Termination condition: optimal\n",
      "  Termination message: Dual simplex - Optimal\\x3a Objective = 5.9771406714e+08\n",
      "  Error rc: 0\n",
      "  Time: 4.586140155792236\n",
      "# ----------------------------------------------------------\n",
      "#   Solution Information\n",
      "# ----------------------------------------------------------\n",
      "Solution: \n",
      "- number of solutions: 0\n",
      "  number of solutions displayed: 0\n"
     ]
    }
   ],
   "source": [
    "from pyomo.opt import SolverFactory\n",
    "\n",
    "model.write('res_V4_EC.lp',  io_options={'symbolic_solver_labels': True})\n",
    "\n",
    "# Create a solver\n",
    "#opt = pyo.SolverFactory('cbc', executable='C:/Program Files/Cbc-releases.2.10.8-x86_64-w64-mingw64/bin/cbc.exe')\n",
    "\n",
    "opt = pyo.SolverFactory('cplex', executable='C:/Program Files/IBM/ILOG/CPLEX_Studio129/cplex/bin/x64_win64/cplex.exe')\n",
    "opt.options['LogFile'] = 'res_V4_EC.log'\n",
    "\n",
    "#opt = pyo.SolverFactory('ipopt', executable='C:/Program Files/Ipopt-3.11.1-win64-intel13.1/bin/ipopt.exe')\n",
    "#opt.options['print_level'] = 12\n",
    "#opt.options['output_file'] = \"res_V5_EC.log\"\n",
    "\n",
    "results = opt.solve(model)#, tee=True)\n",
    "results.write()"
   ]
  },
  {
   "cell_type": "markdown",
   "id": "da6ebc23",
   "metadata": {
    "pycharm": {
     "name": "#%% md\n"
    }
   },
   "source": [
    "## Objective Function Value"
   ]
  },
  {
   "cell_type": "code",
   "execution_count": 13,
   "id": "ab0daa15",
   "metadata": {
    "ExecuteTime": {
     "end_time": "2023-01-24T15:18:10.722118Z",
     "start_time": "2023-01-24T15:18:10.413104Z"
    },
    "pycharm": {
     "name": "#%%\n"
    }
   },
   "outputs": [
    {
     "data": {
      "text/plain": [
       "597714067.1367992"
      ]
     },
     "execution_count": 13,
     "metadata": {},
     "output_type": "execute_result"
    }
   ],
   "source": [
    "pyo.value(model.FOag)"
   ]
  },
  {
   "cell_type": "markdown",
   "id": "bef70a2d",
   "metadata": {
    "pycharm": {
     "name": "#%% md\n"
    }
   },
   "source": [
    "## End Time"
   ]
  },
  {
   "cell_type": "code",
   "execution_count": 14,
   "id": "1e6b1be0",
   "metadata": {
    "pycharm": {
     "name": "#%%\n"
    }
   },
   "outputs": [
    {
     "name": "stdout",
     "output_type": "stream",
     "text": [
      "End Time = 22:59:57\n",
      "Dif: 0:01:28\n"
     ]
    }
   ],
   "source": [
    "now = datetime.now()\n",
    "\n",
    "end_time = now.strftime(\"%H:%M:%S\")\n",
    "print(\"End Time =\", end_time)\n",
    "print(\"Dif: {}\".format(datetime.strptime(end_time, \"%H:%M:%S\") - datetime.strptime(start_time, \"%H:%M:%S\")))"
   ]
  },
  {
   "cell_type": "markdown",
   "id": "fbb23d74",
   "metadata": {
    "pycharm": {
     "name": "#%% md\n"
    }
   },
   "source": [
    "## Cost Value"
   ]
  },
  {
   "cell_type": "code",
   "execution_count": 15,
   "id": "523b4d15",
   "metadata": {
    "ExecuteTime": {
     "end_time": "2023-01-24T15:18:10.732118Z",
     "start_time": "2023-01-24T15:18:10.722118Z"
    },
    "pycharm": {
     "name": "#%%\n"
    }
   },
   "outputs": [],
   "source": [
    "def ext_pyomo_vals(vals):\n",
    "    # make a pd.Series from each\n",
    "    s = pd.Series(vals.extract_values(),\n",
    "                  index=vals.extract_values().keys())\n",
    "    # if the series is multi-indexed we need to unstack it...\n",
    "    if type(s.index[0]) == tuple:    # it is multi-indexed\n",
    "        s = s.unstack(level=1)\n",
    "    else:\n",
    "        # force transition from Series -> df\n",
    "        s = pd.DataFrame(s)\n",
    "    return s"
   ]
  },
  {
   "cell_type": "code",
   "execution_count": 16,
   "id": "0ad4b8e9",
   "metadata": {
    "ExecuteTime": {
     "end_time": "2023-01-24T15:18:12.414183Z",
     "start_time": "2023-01-24T15:18:10.732118Z"
    },
    "pycharm": {
     "name": "#%%\n"
    }
   },
   "outputs": [
    {
     "name": "stdout",
     "output_type": "stream",
     "text": [
      "Charge cost: 2734655.236612244\n"
     ]
    }
   ],
   "source": [
    "PEV_df = ext_pyomo_vals(model.PEV)\n",
    "dT_df = ext_pyomo_vals(model.dT)\n",
    "cDA_df = ext_pyomo_vals(model.cDA)\n",
    "EEV_df = ext_pyomo_vals(model.EEV)\n",
    "\n",
    "charge_cost = sum([PEV_df[t][ev]*dT_df[0][t]*cDA_df[0][t]\n",
    "                   for ev in np.arange(1, n_evs + 1) for t in np.arange(1, n_time + 1)])\n",
    "\n",
    "print('Charge cost: {}'.format(charge_cost))"
   ]
  },
  {
   "cell_type": "markdown",
   "id": "20bc7e47",
   "metadata": {
    "pycharm": {
     "name": "#%% md\n"
    }
   },
   "source": [
    "## Results"
   ]
  },
  {
   "cell_type": "code",
   "execution_count": 17,
   "id": "38cc680e",
   "metadata": {
    "ExecuteTime": {
     "end_time": "2023-01-24T15:18:12.422183Z",
     "start_time": "2023-01-24T15:18:12.416183Z"
    },
    "pycharm": {
     "name": "#%%\n"
    }
   },
   "outputs": [
    {
     "name": "stdout",
     "output_type": "stream",
     "text": [
      "Total Charge: 20819168.893105686\n"
     ]
    }
   ],
   "source": [
    "print(\"Total Charge: {}\".format(np.sum(PEV_df.to_numpy())))"
   ]
  },
  {
   "cell_type": "code",
   "execution_count": 18,
   "id": "ac84cc69",
   "metadata": {
    "ExecuteTime": {
     "end_time": "2023-01-24T15:18:12.467186Z",
     "start_time": "2023-01-24T15:18:12.424183Z"
    },
    "pycharm": {
     "name": "#%%\n"
    }
   },
   "outputs": [
    {
     "data": {
      "text/html": [
       "<div>\n",
       "<style scoped>\n",
       "    .dataframe tbody tr th:only-of-type {\n",
       "        vertical-align: middle;\n",
       "    }\n",
       "\n",
       "    .dataframe tbody tr th {\n",
       "        vertical-align: top;\n",
       "    }\n",
       "\n",
       "    .dataframe thead th {\n",
       "        text-align: right;\n",
       "    }\n",
       "</style>\n",
       "<table border=\"1\" class=\"dataframe\">\n",
       "  <thead>\n",
       "    <tr style=\"text-align: right;\">\n",
       "      <th></th>\n",
       "      <th>1</th>\n",
       "      <th>2</th>\n",
       "      <th>3</th>\n",
       "      <th>4</th>\n",
       "      <th>5</th>\n",
       "      <th>6</th>\n",
       "      <th>7</th>\n",
       "      <th>8</th>\n",
       "      <th>9</th>\n",
       "      <th>10</th>\n",
       "      <th>...</th>\n",
       "      <th>15</th>\n",
       "      <th>16</th>\n",
       "      <th>17</th>\n",
       "      <th>18</th>\n",
       "      <th>19</th>\n",
       "      <th>20</th>\n",
       "      <th>21</th>\n",
       "      <th>22</th>\n",
       "      <th>23</th>\n",
       "      <th>24</th>\n",
       "    </tr>\n",
       "  </thead>\n",
       "  <tbody>\n",
       "    <tr>\n",
       "      <th>1</th>\n",
       "      <td>42386.148255</td>\n",
       "      <td>42386.148255</td>\n",
       "      <td>42386.148255</td>\n",
       "      <td>45986.148255</td>\n",
       "      <td>49586.148255</td>\n",
       "      <td>49586.148255</td>\n",
       "      <td>49586.148255</td>\n",
       "      <td>52841.555235</td>\n",
       "      <td>52841.555235</td>\n",
       "      <td>50227.703490</td>\n",
       "      <td>...</td>\n",
       "      <td>47613.851745</td>\n",
       "      <td>47613.851745</td>\n",
       "      <td>47613.851745</td>\n",
       "      <td>47613.851745</td>\n",
       "      <td>47613.851745</td>\n",
       "      <td>47613.851745</td>\n",
       "      <td>47613.851745</td>\n",
       "      <td>47613.851745</td>\n",
       "      <td>47613.851745</td>\n",
       "      <td>45000.0</td>\n",
       "    </tr>\n",
       "    <tr>\n",
       "      <th>2</th>\n",
       "      <td>9960.000000</td>\n",
       "      <td>9960.000000</td>\n",
       "      <td>9960.000000</td>\n",
       "      <td>9960.000000</td>\n",
       "      <td>11263.752480</td>\n",
       "      <td>11263.752480</td>\n",
       "      <td>11263.752480</td>\n",
       "      <td>11263.752480</td>\n",
       "      <td>11263.752480</td>\n",
       "      <td>11263.752480</td>\n",
       "      <td>...</td>\n",
       "      <td>10611.876240</td>\n",
       "      <td>10611.876240</td>\n",
       "      <td>10611.876240</td>\n",
       "      <td>10611.876240</td>\n",
       "      <td>10611.876240</td>\n",
       "      <td>10611.876240</td>\n",
       "      <td>10611.876240</td>\n",
       "      <td>10611.876240</td>\n",
       "      <td>10611.876240</td>\n",
       "      <td>9960.0</td>\n",
       "    </tr>\n",
       "    <tr>\n",
       "      <th>3</th>\n",
       "      <td>40200.000000</td>\n",
       "      <td>40200.000000</td>\n",
       "      <td>40200.000000</td>\n",
       "      <td>43635.300800</td>\n",
       "      <td>50835.300800</td>\n",
       "      <td>50835.300800</td>\n",
       "      <td>50835.300800</td>\n",
       "      <td>50835.300800</td>\n",
       "      <td>50835.300800</td>\n",
       "      <td>47290.200533</td>\n",
       "      <td>...</td>\n",
       "      <td>43745.100267</td>\n",
       "      <td>43745.100267</td>\n",
       "      <td>43745.100267</td>\n",
       "      <td>43745.100267</td>\n",
       "      <td>43745.100267</td>\n",
       "      <td>43745.100267</td>\n",
       "      <td>43745.100267</td>\n",
       "      <td>43745.100267</td>\n",
       "      <td>43745.100267</td>\n",
       "      <td>40200.0</td>\n",
       "    </tr>\n",
       "    <tr>\n",
       "      <th>4</th>\n",
       "      <td>45000.000000</td>\n",
       "      <td>45000.000000</td>\n",
       "      <td>45000.000000</td>\n",
       "      <td>45000.000000</td>\n",
       "      <td>45000.000000</td>\n",
       "      <td>45000.000000</td>\n",
       "      <td>45000.000000</td>\n",
       "      <td>45000.000000</td>\n",
       "      <td>45000.000000</td>\n",
       "      <td>45000.000000</td>\n",
       "      <td>...</td>\n",
       "      <td>42852.739320</td>\n",
       "      <td>42852.739320</td>\n",
       "      <td>42852.739320</td>\n",
       "      <td>42852.739320</td>\n",
       "      <td>42852.739320</td>\n",
       "      <td>42852.739320</td>\n",
       "      <td>42852.739320</td>\n",
       "      <td>42852.739320</td>\n",
       "      <td>42852.739320</td>\n",
       "      <td>45000.0</td>\n",
       "    </tr>\n",
       "    <tr>\n",
       "      <th>5</th>\n",
       "      <td>46200.000000</td>\n",
       "      <td>46200.000000</td>\n",
       "      <td>46200.000000</td>\n",
       "      <td>46200.000000</td>\n",
       "      <td>46720.845840</td>\n",
       "      <td>46720.845840</td>\n",
       "      <td>46720.845840</td>\n",
       "      <td>46720.845840</td>\n",
       "      <td>46720.845840</td>\n",
       "      <td>46720.845840</td>\n",
       "      <td>...</td>\n",
       "      <td>46460.422920</td>\n",
       "      <td>46460.422920</td>\n",
       "      <td>46460.422920</td>\n",
       "      <td>46460.422920</td>\n",
       "      <td>46460.422920</td>\n",
       "      <td>46460.422920</td>\n",
       "      <td>46460.422920</td>\n",
       "      <td>46460.422920</td>\n",
       "      <td>46460.422920</td>\n",
       "      <td>46200.0</td>\n",
       "    </tr>\n",
       "    <tr>\n",
       "      <th>...</th>\n",
       "      <td>...</td>\n",
       "      <td>...</td>\n",
       "      <td>...</td>\n",
       "      <td>...</td>\n",
       "      <td>...</td>\n",
       "      <td>...</td>\n",
       "      <td>...</td>\n",
       "      <td>...</td>\n",
       "      <td>...</td>\n",
       "      <td>...</td>\n",
       "      <td>...</td>\n",
       "      <td>...</td>\n",
       "      <td>...</td>\n",
       "      <td>...</td>\n",
       "      <td>...</td>\n",
       "      <td>...</td>\n",
       "      <td>...</td>\n",
       "      <td>...</td>\n",
       "      <td>...</td>\n",
       "      <td>...</td>\n",
       "      <td>...</td>\n",
       "    </tr>\n",
       "    <tr>\n",
       "      <th>2996</th>\n",
       "      <td>45000.000000</td>\n",
       "      <td>45000.000000</td>\n",
       "      <td>45000.000000</td>\n",
       "      <td>45000.000000</td>\n",
       "      <td>45000.000000</td>\n",
       "      <td>45000.000000</td>\n",
       "      <td>45000.000000</td>\n",
       "      <td>45000.000000</td>\n",
       "      <td>45000.000000</td>\n",
       "      <td>45000.000000</td>\n",
       "      <td>...</td>\n",
       "      <td>42223.793400</td>\n",
       "      <td>42223.793400</td>\n",
       "      <td>42223.793400</td>\n",
       "      <td>42223.793400</td>\n",
       "      <td>42223.793400</td>\n",
       "      <td>42223.793400</td>\n",
       "      <td>42223.793400</td>\n",
       "      <td>42223.793400</td>\n",
       "      <td>42223.793400</td>\n",
       "      <td>45000.0</td>\n",
       "    </tr>\n",
       "    <tr>\n",
       "      <th>2997</th>\n",
       "      <td>46368.994700</td>\n",
       "      <td>46368.994700</td>\n",
       "      <td>46368.994700</td>\n",
       "      <td>46368.994700</td>\n",
       "      <td>46368.994700</td>\n",
       "      <td>46368.994700</td>\n",
       "      <td>46368.994700</td>\n",
       "      <td>46368.994700</td>\n",
       "      <td>46368.994700</td>\n",
       "      <td>46368.994700</td>\n",
       "      <td>...</td>\n",
       "      <td>45000.000000</td>\n",
       "      <td>45000.000000</td>\n",
       "      <td>45000.000000</td>\n",
       "      <td>45000.000000</td>\n",
       "      <td>45000.000000</td>\n",
       "      <td>45000.000000</td>\n",
       "      <td>45000.000000</td>\n",
       "      <td>45000.000000</td>\n",
       "      <td>45000.000000</td>\n",
       "      <td>45000.0</td>\n",
       "    </tr>\n",
       "    <tr>\n",
       "      <th>2998</th>\n",
       "      <td>42000.000000</td>\n",
       "      <td>42000.000000</td>\n",
       "      <td>42000.000000</td>\n",
       "      <td>49200.000000</td>\n",
       "      <td>56400.000000</td>\n",
       "      <td>56400.000000</td>\n",
       "      <td>56400.000000</td>\n",
       "      <td>60874.929120</td>\n",
       "      <td>60874.929120</td>\n",
       "      <td>60874.929120</td>\n",
       "      <td>...</td>\n",
       "      <td>55482.092229</td>\n",
       "      <td>52785.673783</td>\n",
       "      <td>52785.673783</td>\n",
       "      <td>50089.255337</td>\n",
       "      <td>50089.255337</td>\n",
       "      <td>50089.255337</td>\n",
       "      <td>47392.836891</td>\n",
       "      <td>44696.418446</td>\n",
       "      <td>42000.000000</td>\n",
       "      <td>42000.0</td>\n",
       "    </tr>\n",
       "    <tr>\n",
       "      <th>2999</th>\n",
       "      <td>46132.594020</td>\n",
       "      <td>46132.594020</td>\n",
       "      <td>46132.594020</td>\n",
       "      <td>46132.594020</td>\n",
       "      <td>46132.594020</td>\n",
       "      <td>46132.594020</td>\n",
       "      <td>46132.594020</td>\n",
       "      <td>46132.594020</td>\n",
       "      <td>46132.594020</td>\n",
       "      <td>46132.594020</td>\n",
       "      <td>...</td>\n",
       "      <td>45000.000000</td>\n",
       "      <td>45000.000000</td>\n",
       "      <td>45000.000000</td>\n",
       "      <td>45000.000000</td>\n",
       "      <td>45000.000000</td>\n",
       "      <td>45000.000000</td>\n",
       "      <td>45000.000000</td>\n",
       "      <td>45000.000000</td>\n",
       "      <td>45000.000000</td>\n",
       "      <td>45000.0</td>\n",
       "    </tr>\n",
       "    <tr>\n",
       "      <th>3000</th>\n",
       "      <td>8640.000000</td>\n",
       "      <td>8640.000000</td>\n",
       "      <td>8640.000000</td>\n",
       "      <td>8640.000000</td>\n",
       "      <td>8685.041700</td>\n",
       "      <td>8685.041700</td>\n",
       "      <td>8685.041700</td>\n",
       "      <td>8685.041700</td>\n",
       "      <td>8685.041700</td>\n",
       "      <td>8685.041700</td>\n",
       "      <td>...</td>\n",
       "      <td>8662.520850</td>\n",
       "      <td>8662.520850</td>\n",
       "      <td>8662.520850</td>\n",
       "      <td>8662.520850</td>\n",
       "      <td>8662.520850</td>\n",
       "      <td>8662.520850</td>\n",
       "      <td>8662.520850</td>\n",
       "      <td>8662.520850</td>\n",
       "      <td>8662.520850</td>\n",
       "      <td>8640.0</td>\n",
       "    </tr>\n",
       "  </tbody>\n",
       "</table>\n",
       "<p>3000 rows × 24 columns</p>\n",
       "</div>"
      ],
      "text/plain": [
       "                1             2             3             4             5   \\\n",
       "1     42386.148255  42386.148255  42386.148255  45986.148255  49586.148255   \n",
       "2      9960.000000   9960.000000   9960.000000   9960.000000  11263.752480   \n",
       "3     40200.000000  40200.000000  40200.000000  43635.300800  50835.300800   \n",
       "4     45000.000000  45000.000000  45000.000000  45000.000000  45000.000000   \n",
       "5     46200.000000  46200.000000  46200.000000  46200.000000  46720.845840   \n",
       "...            ...           ...           ...           ...           ...   \n",
       "2996  45000.000000  45000.000000  45000.000000  45000.000000  45000.000000   \n",
       "2997  46368.994700  46368.994700  46368.994700  46368.994700  46368.994700   \n",
       "2998  42000.000000  42000.000000  42000.000000  49200.000000  56400.000000   \n",
       "2999  46132.594020  46132.594020  46132.594020  46132.594020  46132.594020   \n",
       "3000   8640.000000   8640.000000   8640.000000   8640.000000   8685.041700   \n",
       "\n",
       "                6             7             8             9             10  \\\n",
       "1     49586.148255  49586.148255  52841.555235  52841.555235  50227.703490   \n",
       "2     11263.752480  11263.752480  11263.752480  11263.752480  11263.752480   \n",
       "3     50835.300800  50835.300800  50835.300800  50835.300800  47290.200533   \n",
       "4     45000.000000  45000.000000  45000.000000  45000.000000  45000.000000   \n",
       "5     46720.845840  46720.845840  46720.845840  46720.845840  46720.845840   \n",
       "...            ...           ...           ...           ...           ...   \n",
       "2996  45000.000000  45000.000000  45000.000000  45000.000000  45000.000000   \n",
       "2997  46368.994700  46368.994700  46368.994700  46368.994700  46368.994700   \n",
       "2998  56400.000000  56400.000000  60874.929120  60874.929120  60874.929120   \n",
       "2999  46132.594020  46132.594020  46132.594020  46132.594020  46132.594020   \n",
       "3000   8685.041700   8685.041700   8685.041700   8685.041700   8685.041700   \n",
       "\n",
       "      ...            15            16            17            18  \\\n",
       "1     ...  47613.851745  47613.851745  47613.851745  47613.851745   \n",
       "2     ...  10611.876240  10611.876240  10611.876240  10611.876240   \n",
       "3     ...  43745.100267  43745.100267  43745.100267  43745.100267   \n",
       "4     ...  42852.739320  42852.739320  42852.739320  42852.739320   \n",
       "5     ...  46460.422920  46460.422920  46460.422920  46460.422920   \n",
       "...   ...           ...           ...           ...           ...   \n",
       "2996  ...  42223.793400  42223.793400  42223.793400  42223.793400   \n",
       "2997  ...  45000.000000  45000.000000  45000.000000  45000.000000   \n",
       "2998  ...  55482.092229  52785.673783  52785.673783  50089.255337   \n",
       "2999  ...  45000.000000  45000.000000  45000.000000  45000.000000   \n",
       "3000  ...   8662.520850   8662.520850   8662.520850   8662.520850   \n",
       "\n",
       "                19            20            21            22            23  \\\n",
       "1     47613.851745  47613.851745  47613.851745  47613.851745  47613.851745   \n",
       "2     10611.876240  10611.876240  10611.876240  10611.876240  10611.876240   \n",
       "3     43745.100267  43745.100267  43745.100267  43745.100267  43745.100267   \n",
       "4     42852.739320  42852.739320  42852.739320  42852.739320  42852.739320   \n",
       "5     46460.422920  46460.422920  46460.422920  46460.422920  46460.422920   \n",
       "...            ...           ...           ...           ...           ...   \n",
       "2996  42223.793400  42223.793400  42223.793400  42223.793400  42223.793400   \n",
       "2997  45000.000000  45000.000000  45000.000000  45000.000000  45000.000000   \n",
       "2998  50089.255337  50089.255337  47392.836891  44696.418446  42000.000000   \n",
       "2999  45000.000000  45000.000000  45000.000000  45000.000000  45000.000000   \n",
       "3000   8662.520850   8662.520850   8662.520850   8662.520850   8662.520850   \n",
       "\n",
       "           24  \n",
       "1     45000.0  \n",
       "2      9960.0  \n",
       "3     40200.0  \n",
       "4     45000.0  \n",
       "5     46200.0  \n",
       "...       ...  \n",
       "2996  45000.0  \n",
       "2997  45000.0  \n",
       "2998  42000.0  \n",
       "2999  45000.0  \n",
       "3000   8640.0  \n",
       "\n",
       "[3000 rows x 24 columns]"
      ]
     },
     "execution_count": 18,
     "metadata": {},
     "output_type": "execute_result"
    }
   ],
   "source": [
    "EEV_df"
   ]
  },
  {
   "cell_type": "code",
   "execution_count": 19,
   "id": "95e24f37",
   "metadata": {
    "ExecuteTime": {
     "end_time": "2023-01-24T15:18:12.507188Z",
     "start_time": "2023-01-24T15:18:12.469186Z"
    },
    "pycharm": {
     "name": "#%%\n"
    }
   },
   "outputs": [
    {
     "data": {
      "text/html": [
       "<div>\n",
       "<style scoped>\n",
       "    .dataframe tbody tr th:only-of-type {\n",
       "        vertical-align: middle;\n",
       "    }\n",
       "\n",
       "    .dataframe tbody tr th {\n",
       "        vertical-align: top;\n",
       "    }\n",
       "\n",
       "    .dataframe thead th {\n",
       "        text-align: right;\n",
       "    }\n",
       "</style>\n",
       "<table border=\"1\" class=\"dataframe\">\n",
       "  <thead>\n",
       "    <tr style=\"text-align: right;\">\n",
       "      <th></th>\n",
       "      <th>1</th>\n",
       "      <th>2</th>\n",
       "      <th>3</th>\n",
       "      <th>4</th>\n",
       "      <th>5</th>\n",
       "      <th>6</th>\n",
       "      <th>7</th>\n",
       "      <th>8</th>\n",
       "      <th>9</th>\n",
       "      <th>10</th>\n",
       "      <th>...</th>\n",
       "      <th>15</th>\n",
       "      <th>16</th>\n",
       "      <th>17</th>\n",
       "      <th>18</th>\n",
       "      <th>19</th>\n",
       "      <th>20</th>\n",
       "      <th>21</th>\n",
       "      <th>22</th>\n",
       "      <th>23</th>\n",
       "      <th>24</th>\n",
       "    </tr>\n",
       "  </thead>\n",
       "  <tbody>\n",
       "    <tr>\n",
       "      <th>1</th>\n",
       "      <td>0.00000</td>\n",
       "      <td>0.0</td>\n",
       "      <td>0.0</td>\n",
       "      <td>3600.0000</td>\n",
       "      <td>3600.00000</td>\n",
       "      <td>0.0</td>\n",
       "      <td>0.0</td>\n",
       "      <td>3255.40698</td>\n",
       "      <td>0.0</td>\n",
       "      <td>0.0</td>\n",
       "      <td>...</td>\n",
       "      <td>0.0</td>\n",
       "      <td>0.0</td>\n",
       "      <td>0.0</td>\n",
       "      <td>0.0</td>\n",
       "      <td>0.0</td>\n",
       "      <td>0.0</td>\n",
       "      <td>0.0</td>\n",
       "      <td>0.0</td>\n",
       "      <td>0.0</td>\n",
       "      <td>0.00000</td>\n",
       "    </tr>\n",
       "    <tr>\n",
       "      <th>2</th>\n",
       "      <td>0.00000</td>\n",
       "      <td>0.0</td>\n",
       "      <td>0.0</td>\n",
       "      <td>0.0000</td>\n",
       "      <td>1303.75248</td>\n",
       "      <td>0.0</td>\n",
       "      <td>0.0</td>\n",
       "      <td>0.00000</td>\n",
       "      <td>0.0</td>\n",
       "      <td>0.0</td>\n",
       "      <td>...</td>\n",
       "      <td>0.0</td>\n",
       "      <td>0.0</td>\n",
       "      <td>0.0</td>\n",
       "      <td>0.0</td>\n",
       "      <td>0.0</td>\n",
       "      <td>0.0</td>\n",
       "      <td>0.0</td>\n",
       "      <td>0.0</td>\n",
       "      <td>0.0</td>\n",
       "      <td>0.00000</td>\n",
       "    </tr>\n",
       "    <tr>\n",
       "      <th>3</th>\n",
       "      <td>0.00000</td>\n",
       "      <td>0.0</td>\n",
       "      <td>0.0</td>\n",
       "      <td>3435.3008</td>\n",
       "      <td>7200.00000</td>\n",
       "      <td>0.0</td>\n",
       "      <td>0.0</td>\n",
       "      <td>0.00000</td>\n",
       "      <td>0.0</td>\n",
       "      <td>0.0</td>\n",
       "      <td>...</td>\n",
       "      <td>0.0</td>\n",
       "      <td>0.0</td>\n",
       "      <td>0.0</td>\n",
       "      <td>0.0</td>\n",
       "      <td>0.0</td>\n",
       "      <td>0.0</td>\n",
       "      <td>0.0</td>\n",
       "      <td>0.0</td>\n",
       "      <td>0.0</td>\n",
       "      <td>0.00000</td>\n",
       "    </tr>\n",
       "    <tr>\n",
       "      <th>4</th>\n",
       "      <td>0.00000</td>\n",
       "      <td>0.0</td>\n",
       "      <td>0.0</td>\n",
       "      <td>0.0000</td>\n",
       "      <td>0.00000</td>\n",
       "      <td>0.0</td>\n",
       "      <td>0.0</td>\n",
       "      <td>0.00000</td>\n",
       "      <td>0.0</td>\n",
       "      <td>0.0</td>\n",
       "      <td>...</td>\n",
       "      <td>0.0</td>\n",
       "      <td>0.0</td>\n",
       "      <td>0.0</td>\n",
       "      <td>0.0</td>\n",
       "      <td>0.0</td>\n",
       "      <td>0.0</td>\n",
       "      <td>0.0</td>\n",
       "      <td>0.0</td>\n",
       "      <td>0.0</td>\n",
       "      <td>4294.52136</td>\n",
       "    </tr>\n",
       "    <tr>\n",
       "      <th>5</th>\n",
       "      <td>0.00000</td>\n",
       "      <td>0.0</td>\n",
       "      <td>0.0</td>\n",
       "      <td>0.0000</td>\n",
       "      <td>520.84584</td>\n",
       "      <td>0.0</td>\n",
       "      <td>0.0</td>\n",
       "      <td>0.00000</td>\n",
       "      <td>0.0</td>\n",
       "      <td>0.0</td>\n",
       "      <td>...</td>\n",
       "      <td>0.0</td>\n",
       "      <td>0.0</td>\n",
       "      <td>0.0</td>\n",
       "      <td>0.0</td>\n",
       "      <td>0.0</td>\n",
       "      <td>0.0</td>\n",
       "      <td>0.0</td>\n",
       "      <td>0.0</td>\n",
       "      <td>0.0</td>\n",
       "      <td>0.00000</td>\n",
       "    </tr>\n",
       "    <tr>\n",
       "      <th>...</th>\n",
       "      <td>...</td>\n",
       "      <td>...</td>\n",
       "      <td>...</td>\n",
       "      <td>...</td>\n",
       "      <td>...</td>\n",
       "      <td>...</td>\n",
       "      <td>...</td>\n",
       "      <td>...</td>\n",
       "      <td>...</td>\n",
       "      <td>...</td>\n",
       "      <td>...</td>\n",
       "      <td>...</td>\n",
       "      <td>...</td>\n",
       "      <td>...</td>\n",
       "      <td>...</td>\n",
       "      <td>...</td>\n",
       "      <td>...</td>\n",
       "      <td>...</td>\n",
       "      <td>...</td>\n",
       "      <td>...</td>\n",
       "      <td>...</td>\n",
       "    </tr>\n",
       "    <tr>\n",
       "      <th>2996</th>\n",
       "      <td>0.00000</td>\n",
       "      <td>0.0</td>\n",
       "      <td>0.0</td>\n",
       "      <td>0.0000</td>\n",
       "      <td>0.00000</td>\n",
       "      <td>0.0</td>\n",
       "      <td>0.0</td>\n",
       "      <td>0.00000</td>\n",
       "      <td>0.0</td>\n",
       "      <td>0.0</td>\n",
       "      <td>...</td>\n",
       "      <td>0.0</td>\n",
       "      <td>0.0</td>\n",
       "      <td>0.0</td>\n",
       "      <td>0.0</td>\n",
       "      <td>0.0</td>\n",
       "      <td>0.0</td>\n",
       "      <td>0.0</td>\n",
       "      <td>0.0</td>\n",
       "      <td>0.0</td>\n",
       "      <td>5552.41320</td>\n",
       "    </tr>\n",
       "    <tr>\n",
       "      <th>2997</th>\n",
       "      <td>2737.98940</td>\n",
       "      <td>0.0</td>\n",
       "      <td>0.0</td>\n",
       "      <td>0.0000</td>\n",
       "      <td>0.00000</td>\n",
       "      <td>0.0</td>\n",
       "      <td>0.0</td>\n",
       "      <td>0.00000</td>\n",
       "      <td>0.0</td>\n",
       "      <td>0.0</td>\n",
       "      <td>...</td>\n",
       "      <td>0.0</td>\n",
       "      <td>0.0</td>\n",
       "      <td>0.0</td>\n",
       "      <td>0.0</td>\n",
       "      <td>0.0</td>\n",
       "      <td>0.0</td>\n",
       "      <td>0.0</td>\n",
       "      <td>0.0</td>\n",
       "      <td>0.0</td>\n",
       "      <td>0.00000</td>\n",
       "    </tr>\n",
       "    <tr>\n",
       "      <th>2998</th>\n",
       "      <td>0.00000</td>\n",
       "      <td>0.0</td>\n",
       "      <td>0.0</td>\n",
       "      <td>7200.0000</td>\n",
       "      <td>7200.00000</td>\n",
       "      <td>0.0</td>\n",
       "      <td>0.0</td>\n",
       "      <td>4474.92912</td>\n",
       "      <td>0.0</td>\n",
       "      <td>0.0</td>\n",
       "      <td>...</td>\n",
       "      <td>0.0</td>\n",
       "      <td>0.0</td>\n",
       "      <td>0.0</td>\n",
       "      <td>0.0</td>\n",
       "      <td>0.0</td>\n",
       "      <td>0.0</td>\n",
       "      <td>0.0</td>\n",
       "      <td>0.0</td>\n",
       "      <td>0.0</td>\n",
       "      <td>0.00000</td>\n",
       "    </tr>\n",
       "    <tr>\n",
       "      <th>2999</th>\n",
       "      <td>2265.18804</td>\n",
       "      <td>0.0</td>\n",
       "      <td>0.0</td>\n",
       "      <td>0.0000</td>\n",
       "      <td>0.00000</td>\n",
       "      <td>0.0</td>\n",
       "      <td>0.0</td>\n",
       "      <td>0.00000</td>\n",
       "      <td>0.0</td>\n",
       "      <td>0.0</td>\n",
       "      <td>...</td>\n",
       "      <td>0.0</td>\n",
       "      <td>0.0</td>\n",
       "      <td>0.0</td>\n",
       "      <td>0.0</td>\n",
       "      <td>0.0</td>\n",
       "      <td>0.0</td>\n",
       "      <td>0.0</td>\n",
       "      <td>0.0</td>\n",
       "      <td>0.0</td>\n",
       "      <td>0.00000</td>\n",
       "    </tr>\n",
       "    <tr>\n",
       "      <th>3000</th>\n",
       "      <td>0.00000</td>\n",
       "      <td>0.0</td>\n",
       "      <td>0.0</td>\n",
       "      <td>0.0000</td>\n",
       "      <td>45.04170</td>\n",
       "      <td>0.0</td>\n",
       "      <td>0.0</td>\n",
       "      <td>0.00000</td>\n",
       "      <td>0.0</td>\n",
       "      <td>0.0</td>\n",
       "      <td>...</td>\n",
       "      <td>0.0</td>\n",
       "      <td>0.0</td>\n",
       "      <td>0.0</td>\n",
       "      <td>0.0</td>\n",
       "      <td>0.0</td>\n",
       "      <td>0.0</td>\n",
       "      <td>0.0</td>\n",
       "      <td>0.0</td>\n",
       "      <td>0.0</td>\n",
       "      <td>0.00000</td>\n",
       "    </tr>\n",
       "  </tbody>\n",
       "</table>\n",
       "<p>3000 rows × 24 columns</p>\n",
       "</div>"
      ],
      "text/plain": [
       "              1    2    3          4           5    6    7           8    9   \\\n",
       "1        0.00000  0.0  0.0  3600.0000  3600.00000  0.0  0.0  3255.40698  0.0   \n",
       "2        0.00000  0.0  0.0     0.0000  1303.75248  0.0  0.0     0.00000  0.0   \n",
       "3        0.00000  0.0  0.0  3435.3008  7200.00000  0.0  0.0     0.00000  0.0   \n",
       "4        0.00000  0.0  0.0     0.0000     0.00000  0.0  0.0     0.00000  0.0   \n",
       "5        0.00000  0.0  0.0     0.0000   520.84584  0.0  0.0     0.00000  0.0   \n",
       "...          ...  ...  ...        ...         ...  ...  ...         ...  ...   \n",
       "2996     0.00000  0.0  0.0     0.0000     0.00000  0.0  0.0     0.00000  0.0   \n",
       "2997  2737.98940  0.0  0.0     0.0000     0.00000  0.0  0.0     0.00000  0.0   \n",
       "2998     0.00000  0.0  0.0  7200.0000  7200.00000  0.0  0.0  4474.92912  0.0   \n",
       "2999  2265.18804  0.0  0.0     0.0000     0.00000  0.0  0.0     0.00000  0.0   \n",
       "3000     0.00000  0.0  0.0     0.0000    45.04170  0.0  0.0     0.00000  0.0   \n",
       "\n",
       "       10  ...   15   16   17   18   19   20   21   22   23          24  \n",
       "1     0.0  ...  0.0  0.0  0.0  0.0  0.0  0.0  0.0  0.0  0.0     0.00000  \n",
       "2     0.0  ...  0.0  0.0  0.0  0.0  0.0  0.0  0.0  0.0  0.0     0.00000  \n",
       "3     0.0  ...  0.0  0.0  0.0  0.0  0.0  0.0  0.0  0.0  0.0     0.00000  \n",
       "4     0.0  ...  0.0  0.0  0.0  0.0  0.0  0.0  0.0  0.0  0.0  4294.52136  \n",
       "5     0.0  ...  0.0  0.0  0.0  0.0  0.0  0.0  0.0  0.0  0.0     0.00000  \n",
       "...   ...  ...  ...  ...  ...  ...  ...  ...  ...  ...  ...         ...  \n",
       "2996  0.0  ...  0.0  0.0  0.0  0.0  0.0  0.0  0.0  0.0  0.0  5552.41320  \n",
       "2997  0.0  ...  0.0  0.0  0.0  0.0  0.0  0.0  0.0  0.0  0.0     0.00000  \n",
       "2998  0.0  ...  0.0  0.0  0.0  0.0  0.0  0.0  0.0  0.0  0.0     0.00000  \n",
       "2999  0.0  ...  0.0  0.0  0.0  0.0  0.0  0.0  0.0  0.0  0.0     0.00000  \n",
       "3000  0.0  ...  0.0  0.0  0.0  0.0  0.0  0.0  0.0  0.0  0.0     0.00000  \n",
       "\n",
       "[3000 rows x 24 columns]"
      ]
     },
     "execution_count": 19,
     "metadata": {},
     "output_type": "execute_result"
    }
   ],
   "source": [
    "PEV_df"
   ]
  },
  {
   "cell_type": "code",
   "execution_count": 20,
   "id": "69ca042a",
   "metadata": {
    "ExecuteTime": {
     "end_time": "2023-01-24T15:18:12.516189Z",
     "start_time": "2023-01-24T15:18:12.509188Z"
    },
    "pycharm": {
     "name": "#%%\n"
    }
   },
   "outputs": [
    {
     "data": {
      "text/plain": [
       "1     1.127402e+06\n",
       "2     2.094717e+03\n",
       "3     1.939410e+05\n",
       "4     2.826712e+06\n",
       "5     4.160114e+06\n",
       "6     4.249709e+05\n",
       "7     1.077419e+06\n",
       "8     1.789071e+06\n",
       "9     1.241213e+05\n",
       "10    1.706432e+05\n",
       "11    8.065518e+04\n",
       "12    3.357786e+03\n",
       "13    1.220413e+05\n",
       "14    1.367757e+05\n",
       "15    2.713614e+02\n",
       "16    1.457014e+03\n",
       "17    0.000000e+00\n",
       "18    3.590773e+04\n",
       "19    0.000000e+00\n",
       "20    0.000000e+00\n",
       "21    2.437663e+06\n",
       "22    0.000000e+00\n",
       "23    2.836683e+05\n",
       "24    5.820883e+06\n",
       "dtype: float64"
      ]
     },
     "execution_count": 20,
     "metadata": {},
     "output_type": "execute_result"
    }
   ],
   "source": [
    "PEV_df.sum()"
   ]
  },
  {
   "cell_type": "code",
   "execution_count": 21,
   "id": "6edd4be0",
   "metadata": {
    "ExecuteTime": {
     "end_time": "2023-01-24T16:57:40.297217Z",
     "start_time": "2023-01-24T16:57:39.935205Z"
    },
    "pycharm": {
     "name": "#%%\n"
    }
   },
   "outputs": [],
   "source": [
    "Etriprelax_df = ext_pyomo_vals(model.Etriprelax)"
   ]
  },
  {
   "cell_type": "code",
   "execution_count": 22,
   "id": "faa7da26",
   "metadata": {
    "ExecuteTime": {
     "end_time": "2023-01-24T16:57:45.438410Z",
     "start_time": "2023-01-24T16:57:45.420409Z"
    },
    "pycharm": {
     "name": "#%%\n"
    }
   },
   "outputs": [
    {
     "data": {
      "text/plain": [
       "1          0.000000\n",
       "2          0.000000\n",
       "3          0.000000\n",
       "4          0.000000\n",
       "5          0.000000\n",
       "6          0.000000\n",
       "7          0.000000\n",
       "8          0.000000\n",
       "9          0.000000\n",
       "10         0.000000\n",
       "11         0.000000\n",
       "12         0.000000\n",
       "13      1963.550786\n",
       "14         0.000000\n",
       "15      9620.227268\n",
       "16     23219.151502\n",
       "17    136195.772542\n",
       "18     73859.940867\n",
       "19     74807.981082\n",
       "20     38536.859097\n",
       "21     41443.318449\n",
       "22     10743.901703\n",
       "23         0.000000\n",
       "24    185046.730320\n",
       "dtype: float64"
      ]
     },
     "execution_count": 22,
     "metadata": {},
     "output_type": "execute_result"
    }
   ],
   "source": [
    "Etriprelax_df.sum()"
   ]
  },
  {
   "cell_type": "code",
   "execution_count": 23,
   "id": "3dfb05ce",
   "metadata": {
    "ExecuteTime": {
     "end_time": "2023-01-24T16:57:50.898673Z",
     "start_time": "2023-01-24T16:57:50.757668Z"
    },
    "pycharm": {
     "name": "#%%\n"
    }
   },
   "outputs": [],
   "source": [
    "Eminsocrelax_df = ext_pyomo_vals(model.Eminsocrelax)"
   ]
  },
  {
   "cell_type": "code",
   "execution_count": 24,
   "id": "45db94c6",
   "metadata": {
    "ExecuteTime": {
     "end_time": "2023-01-24T16:57:56.002913Z",
     "start_time": "2023-01-24T16:57:55.988913Z"
    },
    "pycharm": {
     "name": "#%%\n"
    }
   },
   "outputs": [
    {
     "data": {
      "text/plain": [
       "1     0.0\n",
       "2     0.0\n",
       "3     0.0\n",
       "4     0.0\n",
       "5     0.0\n",
       "6     0.0\n",
       "7     0.0\n",
       "8     0.0\n",
       "9     0.0\n",
       "10    0.0\n",
       "11    0.0\n",
       "12    0.0\n",
       "13    0.0\n",
       "14    0.0\n",
       "15    0.0\n",
       "16    0.0\n",
       "17    0.0\n",
       "18    0.0\n",
       "19    0.0\n",
       "20    0.0\n",
       "21    0.0\n",
       "22    0.0\n",
       "23    0.0\n",
       "24    0.0\n",
       "dtype: float64"
      ]
     },
     "execution_count": 24,
     "metadata": {},
     "output_type": "execute_result"
    }
   ],
   "source": [
    "Eminsocrelax_df.sum()"
   ]
  },
  {
   "cell_type": "code",
   "execution_count": 25,
   "id": "8c063462",
   "metadata": {
    "ExecuteTime": {
     "end_time": "2023-01-24T16:58:06.092330Z",
     "start_time": "2023-01-24T16:58:05.945326Z"
    },
    "pycharm": {
     "name": "#%%\n"
    }
   },
   "outputs": [],
   "source": [
    "Etripn_df = ext_pyomo_vals(model.Etripn)"
   ]
  },
  {
   "cell_type": "code",
   "execution_count": 26,
   "id": "ae19465f",
   "metadata": {
    "ExecuteTime": {
     "end_time": "2023-01-24T16:58:10.811527Z",
     "start_time": "2023-01-24T16:58:10.797527Z"
    },
    "pycharm": {
     "name": "#%%\n"
    }
   },
   "outputs": [
    {
     "data": {
      "text/plain": [
       "1     1.673788e+06\n",
       "2     2.896256e+04\n",
       "3     0.000000e+00\n",
       "4     0.000000e+00\n",
       "5     0.000000e+00\n",
       "6     0.000000e+00\n",
       "7     0.000000e+00\n",
       "8     0.000000e+00\n",
       "9     0.000000e+00\n",
       "10    5.465601e+05\n",
       "11    1.315866e+06\n",
       "12    0.000000e+00\n",
       "13    8.313551e+05\n",
       "14    3.272904e+06\n",
       "15    1.418766e+06\n",
       "16    1.735838e+06\n",
       "17    5.656545e+05\n",
       "18    1.100017e+06\n",
       "19    3.648812e+05\n",
       "20    1.147978e+06\n",
       "21    1.388378e+06\n",
       "22    1.200184e+06\n",
       "23    1.404881e+06\n",
       "24    3.603640e+06\n",
       "dtype: float64"
      ]
     },
     "execution_count": 26,
     "metadata": {},
     "output_type": "execute_result"
    }
   ],
   "source": [
    "Etripn_df.sum()"
   ]
  },
  {
   "cell_type": "markdown",
   "id": "196996cd",
   "metadata": {
    "pycharm": {
     "name": "#%% md\n"
    }
   },
   "source": [
    "## Save results in csv files"
   ]
  },
  {
   "cell_type": "code",
   "execution_count": 27,
   "id": "13a79efe",
   "metadata": {
    "ExecuteTime": {
     "end_time": "2023-01-24T17:21:29.597251Z",
     "start_time": "2023-01-24T17:21:29.400241Z"
    },
    "pycharm": {
     "name": "#%%\n"
    }
   },
   "outputs": [],
   "source": [
    "import os \n",
    "folder = 'results_RTP_' + str(n_evs)\n",
    "\n",
    "if not os.path.exists(folder):\n",
    "    os.makedirs(folder)\n",
    "    \n",
    "EEV_df.to_csv(folder + '/EEV.csv')\n",
    "PEV_df.to_csv(folder + '/PEV.csv')\n",
    "PEV_df.sum().to_csv(folder + '/PEV_h.csv')\n",
    "\n",
    "Etriprelax_df.to_csv(folder + '/Etriprelax.csv')\n",
    "Etriprelax_df.sum().to_csv(folder + '/Etriprelax_h.csv')\n",
    "\n",
    "Eminsocrelax_df.to_csv(folder + '/Eminsocrelax.csv')\n",
    "Eminsocrelax_df.sum().to_csv(folder + '/Eminsocrelax_h.csv')\n",
    "\n",
    "Etripn_df.to_csv(folder + '/Etripn.csv')\n",
    "Etripn_df.sum().to_csv(folder + '/Etripn_h.csv')"
   ]
  },
  {
   "cell_type": "code",
   "execution_count": null,
   "id": "c948fa25",
   "metadata": {
    "pycharm": {
     "name": "#%%\n"
    }
   },
   "outputs": [],
   "source": []
  }
 ],
 "metadata": {
  "kernelspec": {
   "display_name": "Python 3 (ipykernel)",
   "language": "python",
   "name": "python3"
  },
  "language_info": {
   "codemirror_mode": {
    "name": "ipython",
    "version": 3
   },
   "file_extension": ".py",
   "mimetype": "text/x-python",
   "name": "python",
   "nbconvert_exporter": "python",
   "pygments_lexer": "ipython3",
   "version": "3.10.10"
  },
  "toc": {
   "base_numbering": 1,
   "nav_menu": {},
   "number_sections": true,
   "sideBar": true,
   "skip_h1_title": false,
   "title_cell": "Table of Contents",
   "title_sidebar": "Contents",
   "toc_cell": false,
   "toc_position": {},
   "toc_section_display": true,
   "toc_window_display": false
  }
 },
 "nbformat": 4,
 "nbformat_minor": 5
}
