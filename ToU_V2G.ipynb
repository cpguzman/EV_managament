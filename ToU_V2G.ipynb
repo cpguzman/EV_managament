{
 "cells": [
  {
   "cell_type": "markdown",
   "id": "057e797b",
   "metadata": {
    "pycharm": {
     "name": "#%% md\n"
    }
   },
   "source": [
    "## Import packages"
   ]
  },
  {
   "cell_type": "code",
   "execution_count": 1,
   "id": "f110f9f3",
   "metadata": {
    "ExecuteTime": {
     "end_time": "2023-01-24T15:20:23.283744Z",
     "start_time": "2023-01-24T15:20:22.285722Z"
    },
    "pycharm": {
     "name": "#%%\n"
    }
   },
   "outputs": [],
   "source": [
    "import pyomo\n",
    "import pyomo.opt\n",
    "import pyomo.environ as pyo\n",
    "import numpy as np\n",
    "import pandas as pd\n",
    "import matplotlib as plt"
   ]
  },
  {
   "cell_type": "code",
   "execution_count": 2,
   "id": "38054d66",
   "metadata": {
    "ExecuteTime": {
     "end_time": "2023-01-24T15:20:23.288744Z",
     "start_time": "2023-01-24T15:20:23.283744Z"
    },
    "pycharm": {
     "name": "#%%\n"
    }
   },
   "outputs": [],
   "source": [
    "n_time = 24"
   ]
  },
  {
   "cell_type": "code",
   "execution_count": 3,
   "id": "f0a3323d",
   "metadata": {
    "ExecuteTime": {
     "end_time": "2023-01-24T15:20:23.302744Z",
     "start_time": "2023-01-24T15:20:23.288744Z"
    },
    "pycharm": {
     "name": "#%%\n"
    }
   },
   "outputs": [],
   "source": [
    "def _auxDictionary(a):\n",
    "    temp_dictionary = {}\n",
    "    if len(a.shape) == 3:\n",
    "        for dim0 in np.arange(a.shape[0]):\n",
    "            for dim1 in np.arange(a.shape[1]):\n",
    "                for dim2 in np.arange(a.shape[2]):\n",
    "                    temp_dictionary[(dim0+1, dim1+1, dim2+1)] = a[dim0, dim1, dim2]\n",
    "    elif len(a.shape) == 2:\n",
    "        for dim0 in np.arange(a.shape[0]):\n",
    "            for dim1 in np.arange(a.shape[1]):\n",
    "                temp_dictionary[(dim0+1, dim1+1)] = a[dim0, dim1]\n",
    "    else:\n",
    "        for dim0 in np.arange(a.shape[0]):\n",
    "            temp_dictionary[(dim0+1)] = a[dim0]\n",
    "    return temp_dictionary\n",
    "#temp_dict1 = _auxDictionary(loadLimit)"
   ]
  },
  {
   "cell_type": "markdown",
   "id": "04ed8ab8",
   "metadata": {
    "pycharm": {
     "name": "#%% md\n"
    }
   },
   "source": [
    "## Data"
   ]
  },
  {
   "cell_type": "code",
   "execution_count": 4,
   "id": "f228a10e",
   "metadata": {
    "ExecuteTime": {
     "end_time": "2023-01-24T15:20:23.333746Z",
     "start_time": "2023-01-24T15:20:23.304745Z"
    },
    "pycharm": {
     "name": "#%%\n"
    }
   },
   "outputs": [],
   "source": [
    "data = {}\n",
    "data['Inputs'] = pd.read_csv('Inputs.csv')\n",
    "data['EVs_Inputs'] = pd.read_csv('EVs_Inputs.csv')\n",
    "data['alpha'] = pd.read_csv('alpha.csv')\n",
    "data['PchmaxEV'] = pd.read_csv('PchmaxEV.csv')\n",
    "data['S'] = pd.read_csv('S.csv')"
   ]
  },
  {
   "cell_type": "code",
   "execution_count": 5,
   "id": "efea3099",
   "metadata": {
    "ExecuteTime": {
     "end_time": "2023-01-24T15:20:23.339747Z",
     "start_time": "2023-01-24T15:20:23.335746Z"
    },
    "pycharm": {
     "name": "#%%\n"
    }
   },
   "outputs": [],
   "source": [
    "n_evs = data['EVs_Inputs']['Esoc'].size"
   ]
  },
  {
   "cell_type": "markdown",
   "id": "c34e513a",
   "metadata": {
    "pycharm": {
     "name": "#%% md\n"
    }
   },
   "source": [
    "## Start Time"
   ]
  },
  {
   "cell_type": "code",
   "execution_count": 6,
   "id": "72a44871",
   "metadata": {
    "pycharm": {
     "name": "#%%\n"
    }
   },
   "outputs": [
    {
     "name": "stdout",
     "output_type": "stream",
     "text": [
      "Start Time = 00:46:20\n"
     ]
    }
   ],
   "source": [
    "from datetime import datetime\n",
    "\n",
    "now = datetime.now()\n",
    "\n",
    "start_time = now.strftime(\"%H:%M:%S\")\n",
    "print(\"Start Time =\", start_time)"
   ]
  },
  {
   "cell_type": "markdown",
   "id": "bb30128f",
   "metadata": {
    "pycharm": {
     "name": "#%% md\n"
    }
   },
   "source": [
    "## Sets"
   ]
  },
  {
   "cell_type": "code",
   "execution_count": 7,
   "id": "4bf32c3d",
   "metadata": {
    "ExecuteTime": {
     "end_time": "2023-01-24T15:20:23.353747Z",
     "start_time": "2023-01-24T15:20:23.341747Z"
    },
    "pycharm": {
     "name": "#%%\n"
    }
   },
   "outputs": [],
   "source": [
    "model = pyo.ConcreteModel()\n",
    "\n",
    "model.ev = pyo.Set(initialize = np.arange(1, n_evs + 1))\n",
    "model.t = pyo.Set(initialize = np.arange(1, n_time + 1))\n"
   ]
  },
  {
   "cell_type": "markdown",
   "id": "e9002fae",
   "metadata": {
    "pycharm": {
     "name": "#%% md\n"
    }
   },
   "source": [
    "## Parameters"
   ]
  },
  {
   "cell_type": "code",
   "execution_count": 8,
   "id": "a8a2f931",
   "metadata": {
    "ExecuteTime": {
     "end_time": "2023-01-24T15:20:24.738779Z",
     "start_time": "2023-01-24T15:20:23.355748Z"
    },
    "pycharm": {
     "name": "#%%\n"
    }
   },
   "outputs": [],
   "source": [
    "model.EEVmax = pyo.Param(model.ev, initialize =_auxDictionary(data['EVs_Inputs'].to_numpy()[:,2]))\n",
    "model.EEVmin = pyo.Param(model.ev, initialize =_auxDictionary(data['EVs_Inputs'].to_numpy()[:,1]))\n",
    "model.ESoc = pyo.Param(model.ev, initialize =_auxDictionary(data['EVs_Inputs'].to_numpy()[:,0]))\n",
    "model.dT = pyo.Param(model.t, initialize =_auxDictionary(data['Inputs'].to_numpy()[:,0]))\n",
    "model.cDA = pyo.Param(model.t, initialize =_auxDictionary(data['Inputs'].to_numpy()[:,1]))\n",
    "model.PchmaxEV = pyo.Param(model.ev, model.t, initialize =_auxDictionary(data['PchmaxEV'].to_numpy()))\n",
    "model.S = pyo.Param(model.ev, model.t, initialize = _auxDictionary(data['S'].to_numpy()))\n",
    "model.alpha = pyo.Param(model.ev, model.t, initialize = _auxDictionary(data['alpha'].to_numpy()))\n",
    "model.RealHour = pyo.Param(model.t, initialize=_auxDictionary(data['Inputs'].to_numpy()[:,2]))\n",
    "model.penalty1 = 1000\n",
    "model.penalty2 = 1000\n",
    "model.penalty3 = 0.6\n",
    "model.Etrip = pyo.Param(model.ev, initialize=_auxDictionary(data['EVs_Inputs'].to_numpy()[:,3]))\n",
    "model.n = 0.95\n",
    "model.m = 0.6\n",
    "model.DegCost = 0.10\n",
    "model.factor = 1"
   ]
  },
  {
   "cell_type": "markdown",
   "id": "2474b5d3",
   "metadata": {
    "pycharm": {
     "name": "#%% md\n"
    }
   },
   "source": [
    "## Variables"
   ]
  },
  {
   "cell_type": "code",
   "execution_count": 9,
   "id": "f9d77926",
   "metadata": {
    "ExecuteTime": {
     "end_time": "2023-01-24T15:20:25.035795Z",
     "start_time": "2023-01-24T15:20:24.738779Z"
    },
    "pycharm": {
     "name": "#%%\n"
    }
   },
   "outputs": [],
   "source": [
    "model.PEV = pyo.Var(model.ev, model.t, domain = pyo.NonNegativeReals, initialize = 0)\n",
    "model.PEVdc = pyo.Var(model.ev, model.t, domain = pyo.NonNegativeReals, initialize = 0)\n",
    "model.EEV = pyo.Var(model.ev, model.t, domain = pyo.Reals, initialize = 0)\n",
    "model.Etriprelax = pyo.Var(model.ev, model.t, domain = pyo.NonNegativeReals, initialize = 0)\n",
    "model.Eminsocrelax = pyo.Var(model.ev, model.t, domain = pyo.NonNegativeReals, initialize = 0)\n",
    "model.Etripn = pyo.Var(model.ev, model.t, domain = pyo.Reals, initialize = 0)"
   ]
  },
  {
   "cell_type": "markdown",
   "id": "84469755",
   "metadata": {
    "pycharm": {
     "name": "#%% md\n"
    }
   },
   "source": [
    "## Constraints"
   ]
  },
  {
   "cell_type": "code",
   "execution_count": 10,
   "id": "a0e36c8d",
   "metadata": {
    "ExecuteTime": {
     "end_time": "2023-01-24T15:20:30.446843Z",
     "start_time": "2023-01-24T15:20:25.038795Z"
    },
    "pycharm": {
     "name": "#%%\n"
    }
   },
   "outputs": [],
   "source": [
    "def _balance_etripn(m,ev,t): \n",
    "    return m.Etripn[ev,t] == m.Etrip[ev]*m.S[ev,t]/(sum([m.S[ev,k] for k in np.arange(1, n_time + 1)]))\n",
    "model.balance_etripn = pyo.Constraint(model.ev, model.t, rule = _balance_etripn)\n",
    "\n",
    "def _balance_energy_EVS3(m,ev,t): \n",
    "    if t == 24:\n",
    "        return m.EEV[ev,t] + m.Etriprelax[ev,t] >= m.EEVmax[ev]*m.m\n",
    "    return pyo.Constraint.Skip\n",
    "model.balance_energy_EVS3 = pyo.Constraint(model.ev, model.t, rule = _balance_energy_EVS3)\n",
    "\n",
    "def _balance_energy_EVS(m,ev,t): \n",
    "    if t == 1:\n",
    "        return m.EEV[ev,t] - m.Etriprelax[ev,t] == m.ESoc[ev] + m.PEV[ev,t]*m.dT[t]*m.n - m.PEVdc[ev,t]*m.dT[t]/m.n - m.Etripn[ev,t]\n",
    "    return pyo.Constraint.Skip\n",
    "model.balance_energy_EVS = pyo.Constraint(model.ev, model.t, rule = _balance_energy_EVS)\n",
    "\n",
    "def _balance_energy_EVS2(m,ev,t): \n",
    "    if t > 1:\n",
    "        return m.EEV[ev,t] - m.Etriprelax[ev,t] == m.EEV[ev,t-1] + m.PEV[ev,t]*m.dT[t]*m.n - m.PEVdc[ev,t]*m.dT[t]/m.n - m.Etripn[ev,t]\n",
    "    return pyo.Constraint.Skip\n",
    "model.balance_energy_EVS2 = pyo.Constraint(model.ev, model.t, rule = _balance_energy_EVS2)\n",
    "\n",
    "def _power_charging_limit1(m,ev,t): \n",
    "    return m.PEV[ev,t] >= 0\n",
    "model.power_charging_limit1 = pyo.Constraint(model.ev, model.t, rule = _power_charging_limit1)\n",
    "\n",
    "def _power_charging_limit2(m,ev,t): \n",
    "    return m.PEV[ev,t] <= m.alpha[ev,t]*m.PchmaxEV[ev,t]*m.factor\n",
    "model.power_charging_limit2 = pyo.Constraint(model.ev, model.t, rule = _power_charging_limit2)\n",
    "\n",
    "def _power_discharging_limit2(m,ev,t): \n",
    "    return m.PEVdc[ev,t] <= m.alpha[ev,t]*m.PchmaxEV[ev,t]*m.factor\n",
    "model.power_discharging_limit2 = pyo.Constraint(model.ev, model.t, rule = _power_discharging_limit2)\n",
    "\n",
    "def _energy_limits_EVS_1(m,ev,t): \n",
    "    return m.EEVmin[ev] <= m.EEV[ev,t] + m.Eminsocrelax[ev,t]\n",
    "model.energy_limits_EVS_1 = pyo.Constraint(model.ev, model.t, rule = _energy_limits_EVS_1)\n",
    "\n",
    "def _energy_limits_EVS_2(m,ev,t): \n",
    "    return m.EEV[ev,t] <= m.EEVmax[ev]\n",
    "model.energy_limits_EVS_2 = pyo.Constraint(model.ev, model.t, rule = _energy_limits_EVS_2)  "
   ]
  },
  {
   "cell_type": "markdown",
   "id": "106b423e",
   "metadata": {
    "pycharm": {
     "name": "#%% md\n"
    }
   },
   "source": [
    "## Objective function"
   ]
  },
  {
   "cell_type": "code",
   "execution_count": 11,
   "id": "5c853d22",
   "metadata": {
    "ExecuteTime": {
     "end_time": "2023-01-24T15:20:31.343873Z",
     "start_time": "2023-01-24T15:20:30.446843Z"
    },
    "pycharm": {
     "name": "#%%\n"
    }
   },
   "outputs": [],
   "source": [
    "def _FOag(m):\n",
    "    return sum([m.PEV[ev,t]*m.dT[t]*m.cDA[t] - m.PEVdc[ev, t]*m.dT[t]*(m.cDA[t]-m.DegCost) + (m.EEVmax[ev] - m.EEV[ev,t])*0.0001 + m.Etriprelax[ev,t]*m.penalty1 + m.Eminsocrelax[ev,t]*m.penalty2 for ev in np.arange(1, n_evs + 1) for t in np.arange(1, n_time + 1)])\n",
    "\n",
    "model.FOag = pyo.Objective(rule = _FOag, sense = pyo.minimize)"
   ]
  },
  {
   "cell_type": "markdown",
   "id": "7a003177",
   "metadata": {
    "pycharm": {
     "name": "#%% md\n"
    }
   },
   "source": [
    "## Solve the model"
   ]
  },
  {
   "cell_type": "code",
   "execution_count": 12,
   "id": "dc918d94",
   "metadata": {
    "ExecuteTime": {
     "end_time": "2023-01-24T15:20:54.818973Z",
     "start_time": "2023-01-24T15:20:31.343873Z"
    },
    "pycharm": {
     "name": "#%%\n"
    }
   },
   "outputs": [
    {
     "name": "stdout",
     "output_type": "stream",
     "text": [
      "# ==========================================================\n",
      "# = Solver Results                                         =\n",
      "# ==========================================================\n",
      "# ----------------------------------------------------------\n",
      "#   Problem Information\n",
      "# ----------------------------------------------------------\n",
      "Problem: \n",
      "- Name: tmpfkibp3jk\n",
      "  Lower bound: 260563200.91659853\n",
      "  Upper bound: 260563200.91659853\n",
      "  Number of objectives: 1\n",
      "  Number of constraints: 396982\n",
      "  Number of variables: 338257\n",
      "  Number of nonzeros: 735238\n",
      "  Sense: minimize\n",
      "# ----------------------------------------------------------\n",
      "#   Solver Information\n",
      "# ----------------------------------------------------------\n",
      "Solver: \n",
      "- Status: ok\n",
      "  User time: 2.17\n",
      "  Termination condition: optimal\n",
      "  Termination message: Primal simplex - Optimal\\x3a Objective = 2.6056320092e+08\n",
      "  Error rc: 0\n",
      "  Time: 4.529893159866333\n",
      "# ----------------------------------------------------------\n",
      "#   Solution Information\n",
      "# ----------------------------------------------------------\n",
      "Solution: \n",
      "- number of solutions: 0\n",
      "  number of solutions displayed: 0\n"
     ]
    }
   ],
   "source": [
    "from pyomo.opt import SolverFactory\n",
    "\n",
    "model.write('res_V4_EC.lp',  io_options={'symbolic_solver_labels': True})\n",
    "\n",
    "# Create a solver\n",
    "#opt = pyo.SolverFactory('cbc', executable='C:/Program Files/Cbc-releases.2.10.8-x86_64-w64-mingw64/bin/cbc.exe')\n",
    "\n",
    "opt = pyo.SolverFactory('cplex', executable='C:/Program Files/IBM/ILOG/CPLEX_Studio129/cplex/bin/x64_win64/cplex.exe')\n",
    "opt.options['LogFile'] = 'res_V4_EC.log'\n",
    "\n",
    "#opt = pyo.SolverFactory('ipopt', executable='C:/Program Files/Ipopt-3.11.1-win64-intel13.1/bin/ipopt.exe')\n",
    "#opt.options['print_level'] = 12\n",
    "#opt.options['output_file'] = \"res_V5_EC.log\"\n",
    "\n",
    "results = opt.solve(model)#, tee=True)\n",
    "results.write()"
   ]
  },
  {
   "cell_type": "markdown",
   "id": "c31aa552",
   "metadata": {
    "pycharm": {
     "name": "#%% md\n"
    }
   },
   "source": [
    "## Objective Function Value"
   ]
  },
  {
   "cell_type": "code",
   "execution_count": 13,
   "id": "76d81e13",
   "metadata": {
    "ExecuteTime": {
     "end_time": "2023-01-24T15:20:55.228995Z",
     "start_time": "2023-01-24T15:20:54.818973Z"
    },
    "pycharm": {
     "name": "#%%\n"
    }
   },
   "outputs": [
    {
     "data": {
      "text/plain": [
       "260563200.91659954"
      ]
     },
     "execution_count": 13,
     "metadata": {},
     "output_type": "execute_result"
    }
   ],
   "source": [
    "pyo.value(model.FOag)"
   ]
  },
  {
   "cell_type": "markdown",
   "id": "b06487ee",
   "metadata": {
    "pycharm": {
     "name": "#%% md\n"
    }
   },
   "source": [
    "## End Time"
   ]
  },
  {
   "cell_type": "code",
   "execution_count": 14,
   "id": "d9f57ae2",
   "metadata": {
    "pycharm": {
     "name": "#%%\n"
    }
   },
   "outputs": [
    {
     "name": "stdout",
     "output_type": "stream",
     "text": [
      "End Time = 00:47:49\n",
      "Dif: 0:01:29\n"
     ]
    }
   ],
   "source": [
    "now = datetime.now()\n",
    "\n",
    "end_time = now.strftime(\"%H:%M:%S\")\n",
    "print(\"End Time =\", end_time)\n",
    "print(\"Dif: {}\".format(datetime.strptime(end_time, \"%H:%M:%S\") - datetime.strptime(start_time, \"%H:%M:%S\")))"
   ]
  },
  {
   "cell_type": "markdown",
   "id": "a783fc3a",
   "metadata": {
    "pycharm": {
     "name": "#%% md\n"
    }
   },
   "source": [
    "## Cost Value"
   ]
  },
  {
   "cell_type": "code",
   "execution_count": 15,
   "id": "ef6eabbd",
   "metadata": {
    "ExecuteTime": {
     "end_time": "2023-01-24T15:20:55.235996Z",
     "start_time": "2023-01-24T15:20:55.230996Z"
    },
    "pycharm": {
     "name": "#%%\n"
    }
   },
   "outputs": [],
   "source": [
    "def ext_pyomo_vals(vals):\n",
    "    # make a pd.Series from each\n",
    "    s = pd.Series(vals.extract_values(),\n",
    "                  index=vals.extract_values().keys())\n",
    "    # if the series is multi-indexed we need to unstack it...\n",
    "    if type(s.index[0]) == tuple:    # it is multi-indexed\n",
    "        s = s.unstack(level=1)\n",
    "    else:\n",
    "        # force transition from Series -> df\n",
    "        s = pd.DataFrame(s)\n",
    "    return s"
   ]
  },
  {
   "cell_type": "code",
   "execution_count": 16,
   "id": "ca3fae15",
   "metadata": {
    "ExecuteTime": {
     "end_time": "2023-01-24T15:20:58.382033Z",
     "start_time": "2023-01-24T15:20:55.237996Z"
    },
    "pycharm": {
     "name": "#%%\n"
    }
   },
   "outputs": [
    {
     "name": "stdout",
     "output_type": "stream",
     "text": [
      "Charge cost: 5156276.7631342625\n",
      "Discharge cost: 3758079.722012131\n"
     ]
    }
   ],
   "source": [
    "PEV_df = ext_pyomo_vals(model.PEV)\n",
    "dT_df = ext_pyomo_vals(model.dT)\n",
    "cDA_df = ext_pyomo_vals(model.cDA)\n",
    "PEVdc_df = ext_pyomo_vals(model.PEVdc)\n",
    "EEV_df = ext_pyomo_vals(model.EEV)\n",
    "\n",
    "charge_cost = sum([PEV_df[t][ev]*dT_df[0][t]*cDA_df[0][t]\n",
    "                   for ev in np.arange(1, n_evs + 1) for t in np.arange(1, n_time + 1)])\n",
    "\n",
    "discharge_cost = sum([PEVdc_df[t][ev]*dT_df[0][t]*cDA_df[0][t]\n",
    "                      for ev in np.arange(1, n_evs + 1) for t in np.arange(1, n_time + 1)])\n",
    "\n",
    "print('Charge cost: {}'.format(charge_cost))\n",
    "print('Discharge cost: {}'.format(discharge_cost))"
   ]
  },
  {
   "cell_type": "markdown",
   "id": "7c617a9b",
   "metadata": {
    "pycharm": {
     "name": "#%% md\n"
    }
   },
   "source": [
    "## Results"
   ]
  },
  {
   "cell_type": "code",
   "execution_count": 17,
   "id": "93c9fd8b",
   "metadata": {
    "ExecuteTime": {
     "end_time": "2023-01-24T15:20:58.393034Z",
     "start_time": "2023-01-24T15:20:58.382033Z"
    },
    "pycharm": {
     "name": "#%%\n"
    }
   },
   "outputs": [
    {
     "name": "stdout",
     "output_type": "stream",
     "text": [
      "Total Charge: 37367844.26556182\n"
     ]
    }
   ],
   "source": [
    "print(\"Total Charge: {}\".format(np.sum(PEV_df.to_numpy())))"
   ]
  },
  {
   "cell_type": "code",
   "execution_count": 18,
   "id": "bbda4ebf",
   "metadata": {
    "ExecuteTime": {
     "end_time": "2023-01-24T15:20:58.405035Z",
     "start_time": "2023-01-24T15:20:58.396034Z"
    },
    "pycharm": {
     "name": "#%%\n"
    }
   },
   "outputs": [
    {
     "name": "stdout",
     "output_type": "stream",
     "text": [
      "Total Discharge: 13631047.232543018\n"
     ]
    }
   ],
   "source": [
    "print(\"Total Discharge: {}\".format(np.sum(PEVdc_df.to_numpy())))"
   ]
  },
  {
   "cell_type": "code",
   "execution_count": 19,
   "id": "cc509769",
   "metadata": {
    "ExecuteTime": {
     "end_time": "2023-01-24T15:20:58.459038Z",
     "start_time": "2023-01-24T15:20:58.407035Z"
    },
    "pycharm": {
     "name": "#%%\n"
    }
   },
   "outputs": [
    {
     "data": {
      "text/html": [
       "<div>\n",
       "<style scoped>\n",
       "    .dataframe tbody tr th:only-of-type {\n",
       "        vertical-align: middle;\n",
       "    }\n",
       "\n",
       "    .dataframe tbody tr th {\n",
       "        vertical-align: top;\n",
       "    }\n",
       "\n",
       "    .dataframe thead th {\n",
       "        text-align: right;\n",
       "    }\n",
       "</style>\n",
       "<table border=\"1\" class=\"dataframe\">\n",
       "  <thead>\n",
       "    <tr style=\"text-align: right;\">\n",
       "      <th></th>\n",
       "      <th>1</th>\n",
       "      <th>2</th>\n",
       "      <th>3</th>\n",
       "      <th>4</th>\n",
       "      <th>5</th>\n",
       "      <th>6</th>\n",
       "      <th>7</th>\n",
       "      <th>8</th>\n",
       "      <th>9</th>\n",
       "      <th>10</th>\n",
       "      <th>...</th>\n",
       "      <th>15</th>\n",
       "      <th>16</th>\n",
       "      <th>17</th>\n",
       "      <th>18</th>\n",
       "      <th>19</th>\n",
       "      <th>20</th>\n",
       "      <th>21</th>\n",
       "      <th>22</th>\n",
       "      <th>23</th>\n",
       "      <th>24</th>\n",
       "    </tr>\n",
       "  </thead>\n",
       "  <tbody>\n",
       "    <tr>\n",
       "      <th>1</th>\n",
       "      <td>38720.494033</td>\n",
       "      <td>38720.494033</td>\n",
       "      <td>38720.494033</td>\n",
       "      <td>38720.494033</td>\n",
       "      <td>38720.494033</td>\n",
       "      <td>38720.494033</td>\n",
       "      <td>38720.494033</td>\n",
       "      <td>38720.494033</td>\n",
       "      <td>38720.494033</td>\n",
       "      <td>38720.494033</td>\n",
       "      <td>...</td>\n",
       "      <td>40800.000000</td>\n",
       "      <td>40800.000000</td>\n",
       "      <td>40800.000000</td>\n",
       "      <td>40800.000000</td>\n",
       "      <td>40800.000000</td>\n",
       "      <td>40800.000000</td>\n",
       "      <td>40800.000000</td>\n",
       "      <td>40800.000000</td>\n",
       "      <td>40800.000000</td>\n",
       "      <td>40800.0</td>\n",
       "    </tr>\n",
       "    <tr>\n",
       "      <th>2</th>\n",
       "      <td>57000.000000</td>\n",
       "      <td>57000.000000</td>\n",
       "      <td>55176.484860</td>\n",
       "      <td>55176.484860</td>\n",
       "      <td>55176.484860</td>\n",
       "      <td>55176.484860</td>\n",
       "      <td>58596.484860</td>\n",
       "      <td>62016.484860</td>\n",
       "      <td>65436.484860</td>\n",
       "      <td>68856.484860</td>\n",
       "      <td>...</td>\n",
       "      <td>76351.924253</td>\n",
       "      <td>73587.363645</td>\n",
       "      <td>70822.803038</td>\n",
       "      <td>68058.242430</td>\n",
       "      <td>68058.242430</td>\n",
       "      <td>65293.681823</td>\n",
       "      <td>62529.121215</td>\n",
       "      <td>59764.560608</td>\n",
       "      <td>57000.000000</td>\n",
       "      <td>57000.0</td>\n",
       "    </tr>\n",
       "    <tr>\n",
       "      <th>3</th>\n",
       "      <td>38380.759199</td>\n",
       "      <td>38380.759199</td>\n",
       "      <td>38380.759199</td>\n",
       "      <td>38380.759199</td>\n",
       "      <td>38380.759199</td>\n",
       "      <td>38380.759199</td>\n",
       "      <td>38380.759199</td>\n",
       "      <td>38380.759199</td>\n",
       "      <td>38380.759199</td>\n",
       "      <td>38380.759199</td>\n",
       "      <td>...</td>\n",
       "      <td>40800.000000</td>\n",
       "      <td>40800.000000</td>\n",
       "      <td>40800.000000</td>\n",
       "      <td>40800.000000</td>\n",
       "      <td>40800.000000</td>\n",
       "      <td>40800.000000</td>\n",
       "      <td>40800.000000</td>\n",
       "      <td>40800.000000</td>\n",
       "      <td>40800.000000</td>\n",
       "      <td>40800.0</td>\n",
       "    </tr>\n",
       "    <tr>\n",
       "      <th>4</th>\n",
       "      <td>57000.000000</td>\n",
       "      <td>50837.846278</td>\n",
       "      <td>43258.898910</td>\n",
       "      <td>43258.898910</td>\n",
       "      <td>43258.898910</td>\n",
       "      <td>43258.898910</td>\n",
       "      <td>50098.898910</td>\n",
       "      <td>56938.898910</td>\n",
       "      <td>63778.898910</td>\n",
       "      <td>66079.265940</td>\n",
       "      <td>...</td>\n",
       "      <td>61539.632970</td>\n",
       "      <td>61539.632970</td>\n",
       "      <td>61539.632970</td>\n",
       "      <td>61539.632970</td>\n",
       "      <td>61539.632970</td>\n",
       "      <td>61539.632970</td>\n",
       "      <td>61539.632970</td>\n",
       "      <td>61539.632970</td>\n",
       "      <td>61539.632970</td>\n",
       "      <td>57000.0</td>\n",
       "    </tr>\n",
       "    <tr>\n",
       "      <th>5</th>\n",
       "      <td>8081.032174</td>\n",
       "      <td>5289.473684</td>\n",
       "      <td>1500.000000</td>\n",
       "      <td>1500.000000</td>\n",
       "      <td>1500.000000</td>\n",
       "      <td>1500.000000</td>\n",
       "      <td>4920.000000</td>\n",
       "      <td>8118.967826</td>\n",
       "      <td>8118.967826</td>\n",
       "      <td>8118.967826</td>\n",
       "      <td>...</td>\n",
       "      <td>8100.000000</td>\n",
       "      <td>8100.000000</td>\n",
       "      <td>8100.000000</td>\n",
       "      <td>8100.000000</td>\n",
       "      <td>8100.000000</td>\n",
       "      <td>8100.000000</td>\n",
       "      <td>8100.000000</td>\n",
       "      <td>8100.000000</td>\n",
       "      <td>8100.000000</td>\n",
       "      <td>8100.0</td>\n",
       "    </tr>\n",
       "    <tr>\n",
       "      <th>...</th>\n",
       "      <td>...</td>\n",
       "      <td>...</td>\n",
       "      <td>...</td>\n",
       "      <td>...</td>\n",
       "      <td>...</td>\n",
       "      <td>...</td>\n",
       "      <td>...</td>\n",
       "      <td>...</td>\n",
       "      <td>...</td>\n",
       "      <td>...</td>\n",
       "      <td>...</td>\n",
       "      <td>...</td>\n",
       "      <td>...</td>\n",
       "      <td>...</td>\n",
       "      <td>...</td>\n",
       "      <td>...</td>\n",
       "      <td>...</td>\n",
       "      <td>...</td>\n",
       "      <td>...</td>\n",
       "      <td>...</td>\n",
       "      <td>...</td>\n",
       "    </tr>\n",
       "    <tr>\n",
       "      <th>2345</th>\n",
       "      <td>48000.000000</td>\n",
       "      <td>48000.000000</td>\n",
       "      <td>48000.000000</td>\n",
       "      <td>51420.000000</td>\n",
       "      <td>54840.000000</td>\n",
       "      <td>55230.025760</td>\n",
       "      <td>58650.025760</td>\n",
       "      <td>62070.025760</td>\n",
       "      <td>65490.025760</td>\n",
       "      <td>61940.017173</td>\n",
       "      <td>...</td>\n",
       "      <td>54970.008587</td>\n",
       "      <td>54970.008587</td>\n",
       "      <td>54970.008587</td>\n",
       "      <td>54970.008587</td>\n",
       "      <td>54970.008587</td>\n",
       "      <td>54970.008587</td>\n",
       "      <td>54970.008587</td>\n",
       "      <td>54970.008587</td>\n",
       "      <td>54970.008587</td>\n",
       "      <td>48000.0</td>\n",
       "    </tr>\n",
       "    <tr>\n",
       "      <th>2346</th>\n",
       "      <td>40594.658232</td>\n",
       "      <td>40594.658232</td>\n",
       "      <td>40594.658232</td>\n",
       "      <td>40594.658232</td>\n",
       "      <td>40594.658232</td>\n",
       "      <td>40594.658232</td>\n",
       "      <td>40594.658232</td>\n",
       "      <td>40594.658232</td>\n",
       "      <td>40594.658232</td>\n",
       "      <td>40594.658232</td>\n",
       "      <td>...</td>\n",
       "      <td>42600.000000</td>\n",
       "      <td>42600.000000</td>\n",
       "      <td>42600.000000</td>\n",
       "      <td>42600.000000</td>\n",
       "      <td>42600.000000</td>\n",
       "      <td>42600.000000</td>\n",
       "      <td>42600.000000</td>\n",
       "      <td>42600.000000</td>\n",
       "      <td>42600.000000</td>\n",
       "      <td>42600.0</td>\n",
       "    </tr>\n",
       "    <tr>\n",
       "      <th>2347</th>\n",
       "      <td>8088.619305</td>\n",
       "      <td>8088.619305</td>\n",
       "      <td>1500.000000</td>\n",
       "      <td>1500.000000</td>\n",
       "      <td>1500.000000</td>\n",
       "      <td>1500.000000</td>\n",
       "      <td>8111.380695</td>\n",
       "      <td>8111.380695</td>\n",
       "      <td>8111.380695</td>\n",
       "      <td>8111.380695</td>\n",
       "      <td>...</td>\n",
       "      <td>8100.000000</td>\n",
       "      <td>8100.000000</td>\n",
       "      <td>8100.000000</td>\n",
       "      <td>8100.000000</td>\n",
       "      <td>8100.000000</td>\n",
       "      <td>8100.000000</td>\n",
       "      <td>8100.000000</td>\n",
       "      <td>8100.000000</td>\n",
       "      <td>8100.000000</td>\n",
       "      <td>8100.0</td>\n",
       "    </tr>\n",
       "    <tr>\n",
       "      <th>2348</th>\n",
       "      <td>8100.000000</td>\n",
       "      <td>8100.000000</td>\n",
       "      <td>1500.000000</td>\n",
       "      <td>1500.000000</td>\n",
       "      <td>1500.000000</td>\n",
       "      <td>1500.000000</td>\n",
       "      <td>8340.000000</td>\n",
       "      <td>8399.691647</td>\n",
       "      <td>8399.691647</td>\n",
       "      <td>8399.691647</td>\n",
       "      <td>...</td>\n",
       "      <td>8249.845824</td>\n",
       "      <td>8249.845824</td>\n",
       "      <td>8249.845824</td>\n",
       "      <td>8249.845824</td>\n",
       "      <td>8249.845824</td>\n",
       "      <td>8249.845824</td>\n",
       "      <td>8249.845824</td>\n",
       "      <td>8249.845824</td>\n",
       "      <td>8249.845824</td>\n",
       "      <td>8100.0</td>\n",
       "    </tr>\n",
       "    <tr>\n",
       "      <th>2349</th>\n",
       "      <td>64680.000000</td>\n",
       "      <td>64680.000000</td>\n",
       "      <td>64680.000000</td>\n",
       "      <td>64680.000000</td>\n",
       "      <td>64680.000000</td>\n",
       "      <td>64680.000000</td>\n",
       "      <td>64680.000000</td>\n",
       "      <td>64680.000000</td>\n",
       "      <td>64680.000000</td>\n",
       "      <td>64680.000000</td>\n",
       "      <td>...</td>\n",
       "      <td>69930.104495</td>\n",
       "      <td>69930.104495</td>\n",
       "      <td>69930.104495</td>\n",
       "      <td>69930.104495</td>\n",
       "      <td>69930.104495</td>\n",
       "      <td>69930.104495</td>\n",
       "      <td>69930.104495</td>\n",
       "      <td>69930.104495</td>\n",
       "      <td>69930.104495</td>\n",
       "      <td>64680.0</td>\n",
       "    </tr>\n",
       "  </tbody>\n",
       "</table>\n",
       "<p>2349 rows × 24 columns</p>\n",
       "</div>"
      ],
      "text/plain": [
       "                1             2             3             4             5   \\\n",
       "1     38720.494033  38720.494033  38720.494033  38720.494033  38720.494033   \n",
       "2     57000.000000  57000.000000  55176.484860  55176.484860  55176.484860   \n",
       "3     38380.759199  38380.759199  38380.759199  38380.759199  38380.759199   \n",
       "4     57000.000000  50837.846278  43258.898910  43258.898910  43258.898910   \n",
       "5      8081.032174   5289.473684   1500.000000   1500.000000   1500.000000   \n",
       "...            ...           ...           ...           ...           ...   \n",
       "2345  48000.000000  48000.000000  48000.000000  51420.000000  54840.000000   \n",
       "2346  40594.658232  40594.658232  40594.658232  40594.658232  40594.658232   \n",
       "2347   8088.619305   8088.619305   1500.000000   1500.000000   1500.000000   \n",
       "2348   8100.000000   8100.000000   1500.000000   1500.000000   1500.000000   \n",
       "2349  64680.000000  64680.000000  64680.000000  64680.000000  64680.000000   \n",
       "\n",
       "                6             7             8             9             10  \\\n",
       "1     38720.494033  38720.494033  38720.494033  38720.494033  38720.494033   \n",
       "2     55176.484860  58596.484860  62016.484860  65436.484860  68856.484860   \n",
       "3     38380.759199  38380.759199  38380.759199  38380.759199  38380.759199   \n",
       "4     43258.898910  50098.898910  56938.898910  63778.898910  66079.265940   \n",
       "5      1500.000000   4920.000000   8118.967826   8118.967826   8118.967826   \n",
       "...            ...           ...           ...           ...           ...   \n",
       "2345  55230.025760  58650.025760  62070.025760  65490.025760  61940.017173   \n",
       "2346  40594.658232  40594.658232  40594.658232  40594.658232  40594.658232   \n",
       "2347   1500.000000   8111.380695   8111.380695   8111.380695   8111.380695   \n",
       "2348   1500.000000   8340.000000   8399.691647   8399.691647   8399.691647   \n",
       "2349  64680.000000  64680.000000  64680.000000  64680.000000  64680.000000   \n",
       "\n",
       "      ...            15            16            17            18  \\\n",
       "1     ...  40800.000000  40800.000000  40800.000000  40800.000000   \n",
       "2     ...  76351.924253  73587.363645  70822.803038  68058.242430   \n",
       "3     ...  40800.000000  40800.000000  40800.000000  40800.000000   \n",
       "4     ...  61539.632970  61539.632970  61539.632970  61539.632970   \n",
       "5     ...   8100.000000   8100.000000   8100.000000   8100.000000   \n",
       "...   ...           ...           ...           ...           ...   \n",
       "2345  ...  54970.008587  54970.008587  54970.008587  54970.008587   \n",
       "2346  ...  42600.000000  42600.000000  42600.000000  42600.000000   \n",
       "2347  ...   8100.000000   8100.000000   8100.000000   8100.000000   \n",
       "2348  ...   8249.845824   8249.845824   8249.845824   8249.845824   \n",
       "2349  ...  69930.104495  69930.104495  69930.104495  69930.104495   \n",
       "\n",
       "                19            20            21            22            23  \\\n",
       "1     40800.000000  40800.000000  40800.000000  40800.000000  40800.000000   \n",
       "2     68058.242430  65293.681823  62529.121215  59764.560608  57000.000000   \n",
       "3     40800.000000  40800.000000  40800.000000  40800.000000  40800.000000   \n",
       "4     61539.632970  61539.632970  61539.632970  61539.632970  61539.632970   \n",
       "5      8100.000000   8100.000000   8100.000000   8100.000000   8100.000000   \n",
       "...            ...           ...           ...           ...           ...   \n",
       "2345  54970.008587  54970.008587  54970.008587  54970.008587  54970.008587   \n",
       "2346  42600.000000  42600.000000  42600.000000  42600.000000  42600.000000   \n",
       "2347   8100.000000   8100.000000   8100.000000   8100.000000   8100.000000   \n",
       "2348   8249.845824   8249.845824   8249.845824   8249.845824   8249.845824   \n",
       "2349  69930.104495  69930.104495  69930.104495  69930.104495  69930.104495   \n",
       "\n",
       "           24  \n",
       "1     40800.0  \n",
       "2     57000.0  \n",
       "3     40800.0  \n",
       "4     57000.0  \n",
       "5      8100.0  \n",
       "...       ...  \n",
       "2345  48000.0  \n",
       "2346  42600.0  \n",
       "2347   8100.0  \n",
       "2348   8100.0  \n",
       "2349  64680.0  \n",
       "\n",
       "[2349 rows x 24 columns]"
      ]
     },
     "execution_count": 19,
     "metadata": {},
     "output_type": "execute_result"
    }
   ],
   "source": [
    "EEV_df"
   ]
  },
  {
   "cell_type": "code",
   "execution_count": 20,
   "id": "e5aa3df0",
   "metadata": {
    "ExecuteTime": {
     "end_time": "2023-01-24T15:20:58.507040Z",
     "start_time": "2023-01-24T15:20:58.461038Z"
    },
    "pycharm": {
     "name": "#%%\n"
    }
   },
   "outputs": [
    {
     "data": {
      "text/html": [
       "<div>\n",
       "<style scoped>\n",
       "    .dataframe tbody tr th:only-of-type {\n",
       "        vertical-align: middle;\n",
       "    }\n",
       "\n",
       "    .dataframe tbody tr th {\n",
       "        vertical-align: top;\n",
       "    }\n",
       "\n",
       "    .dataframe thead th {\n",
       "        text-align: right;\n",
       "    }\n",
       "</style>\n",
       "<table border=\"1\" class=\"dataframe\">\n",
       "  <thead>\n",
       "    <tr style=\"text-align: right;\">\n",
       "      <th></th>\n",
       "      <th>1</th>\n",
       "      <th>2</th>\n",
       "      <th>3</th>\n",
       "      <th>4</th>\n",
       "      <th>5</th>\n",
       "      <th>6</th>\n",
       "      <th>7</th>\n",
       "      <th>8</th>\n",
       "      <th>9</th>\n",
       "      <th>10</th>\n",
       "      <th>...</th>\n",
       "      <th>15</th>\n",
       "      <th>16</th>\n",
       "      <th>17</th>\n",
       "      <th>18</th>\n",
       "      <th>19</th>\n",
       "      <th>20</th>\n",
       "      <th>21</th>\n",
       "      <th>22</th>\n",
       "      <th>23</th>\n",
       "      <th>24</th>\n",
       "    </tr>\n",
       "  </thead>\n",
       "  <tbody>\n",
       "    <tr>\n",
       "      <th>1</th>\n",
       "      <td>0.0</td>\n",
       "      <td>0.0</td>\n",
       "      <td>0.0</td>\n",
       "      <td>0.0</td>\n",
       "      <td>0.0</td>\n",
       "      <td>0.000000</td>\n",
       "      <td>0.0000</td>\n",
       "      <td>0.000000</td>\n",
       "      <td>0.0</td>\n",
       "      <td>0.0</td>\n",
       "      <td>...</td>\n",
       "      <td>4377.907298</td>\n",
       "      <td>0.0</td>\n",
       "      <td>0.0</td>\n",
       "      <td>0.0</td>\n",
       "      <td>0.0</td>\n",
       "      <td>0.0</td>\n",
       "      <td>0.0</td>\n",
       "      <td>0.0</td>\n",
       "      <td>0.0</td>\n",
       "      <td>0.0</td>\n",
       "    </tr>\n",
       "    <tr>\n",
       "      <th>2</th>\n",
       "      <td>0.0</td>\n",
       "      <td>0.0</td>\n",
       "      <td>0.0</td>\n",
       "      <td>0.0</td>\n",
       "      <td>0.0</td>\n",
       "      <td>0.000000</td>\n",
       "      <td>3600.0000</td>\n",
       "      <td>3600.000000</td>\n",
       "      <td>3600.0</td>\n",
       "      <td>3600.0</td>\n",
       "      <td>...</td>\n",
       "      <td>0.000000</td>\n",
       "      <td>0.0</td>\n",
       "      <td>0.0</td>\n",
       "      <td>0.0</td>\n",
       "      <td>0.0</td>\n",
       "      <td>0.0</td>\n",
       "      <td>0.0</td>\n",
       "      <td>0.0</td>\n",
       "      <td>0.0</td>\n",
       "      <td>0.0</td>\n",
       "    </tr>\n",
       "    <tr>\n",
       "      <th>3</th>\n",
       "      <td>0.0</td>\n",
       "      <td>0.0</td>\n",
       "      <td>0.0</td>\n",
       "      <td>0.0</td>\n",
       "      <td>0.0</td>\n",
       "      <td>0.000000</td>\n",
       "      <td>0.0000</td>\n",
       "      <td>0.000000</td>\n",
       "      <td>0.0</td>\n",
       "      <td>0.0</td>\n",
       "      <td>...</td>\n",
       "      <td>5093.138529</td>\n",
       "      <td>0.0</td>\n",
       "      <td>0.0</td>\n",
       "      <td>0.0</td>\n",
       "      <td>0.0</td>\n",
       "      <td>0.0</td>\n",
       "      <td>0.0</td>\n",
       "      <td>0.0</td>\n",
       "      <td>0.0</td>\n",
       "      <td>0.0</td>\n",
       "    </tr>\n",
       "    <tr>\n",
       "      <th>4</th>\n",
       "      <td>0.0</td>\n",
       "      <td>0.0</td>\n",
       "      <td>0.0</td>\n",
       "      <td>0.0</td>\n",
       "      <td>0.0</td>\n",
       "      <td>0.000000</td>\n",
       "      <td>7200.0000</td>\n",
       "      <td>7200.000000</td>\n",
       "      <td>7200.0</td>\n",
       "      <td>7200.0</td>\n",
       "      <td>...</td>\n",
       "      <td>0.000000</td>\n",
       "      <td>0.0</td>\n",
       "      <td>0.0</td>\n",
       "      <td>0.0</td>\n",
       "      <td>0.0</td>\n",
       "      <td>0.0</td>\n",
       "      <td>0.0</td>\n",
       "      <td>0.0</td>\n",
       "      <td>0.0</td>\n",
       "      <td>0.0</td>\n",
       "    </tr>\n",
       "    <tr>\n",
       "      <th>5</th>\n",
       "      <td>0.0</td>\n",
       "      <td>0.0</td>\n",
       "      <td>0.0</td>\n",
       "      <td>0.0</td>\n",
       "      <td>0.0</td>\n",
       "      <td>0.000000</td>\n",
       "      <td>3600.0000</td>\n",
       "      <td>3367.334553</td>\n",
       "      <td>0.0</td>\n",
       "      <td>0.0</td>\n",
       "      <td>...</td>\n",
       "      <td>0.000000</td>\n",
       "      <td>0.0</td>\n",
       "      <td>0.0</td>\n",
       "      <td>0.0</td>\n",
       "      <td>0.0</td>\n",
       "      <td>0.0</td>\n",
       "      <td>0.0</td>\n",
       "      <td>0.0</td>\n",
       "      <td>0.0</td>\n",
       "      <td>0.0</td>\n",
       "    </tr>\n",
       "    <tr>\n",
       "      <th>...</th>\n",
       "      <td>...</td>\n",
       "      <td>...</td>\n",
       "      <td>...</td>\n",
       "      <td>...</td>\n",
       "      <td>...</td>\n",
       "      <td>...</td>\n",
       "      <td>...</td>\n",
       "      <td>...</td>\n",
       "      <td>...</td>\n",
       "      <td>...</td>\n",
       "      <td>...</td>\n",
       "      <td>...</td>\n",
       "      <td>...</td>\n",
       "      <td>...</td>\n",
       "      <td>...</td>\n",
       "      <td>...</td>\n",
       "      <td>...</td>\n",
       "      <td>...</td>\n",
       "      <td>...</td>\n",
       "      <td>...</td>\n",
       "      <td>...</td>\n",
       "    </tr>\n",
       "    <tr>\n",
       "      <th>2345</th>\n",
       "      <td>0.0</td>\n",
       "      <td>0.0</td>\n",
       "      <td>0.0</td>\n",
       "      <td>3600.0</td>\n",
       "      <td>3600.0</td>\n",
       "      <td>410.553432</td>\n",
       "      <td>3600.0000</td>\n",
       "      <td>3600.000000</td>\n",
       "      <td>3600.0</td>\n",
       "      <td>3600.0</td>\n",
       "      <td>...</td>\n",
       "      <td>0.000000</td>\n",
       "      <td>0.0</td>\n",
       "      <td>0.0</td>\n",
       "      <td>0.0</td>\n",
       "      <td>0.0</td>\n",
       "      <td>0.0</td>\n",
       "      <td>0.0</td>\n",
       "      <td>0.0</td>\n",
       "      <td>0.0</td>\n",
       "      <td>0.0</td>\n",
       "    </tr>\n",
       "    <tr>\n",
       "      <th>2346</th>\n",
       "      <td>0.0</td>\n",
       "      <td>0.0</td>\n",
       "      <td>0.0</td>\n",
       "      <td>0.0</td>\n",
       "      <td>0.0</td>\n",
       "      <td>0.000000</td>\n",
       "      <td>0.0000</td>\n",
       "      <td>0.000000</td>\n",
       "      <td>0.0</td>\n",
       "      <td>0.0</td>\n",
       "      <td>...</td>\n",
       "      <td>4221.772142</td>\n",
       "      <td>0.0</td>\n",
       "      <td>0.0</td>\n",
       "      <td>0.0</td>\n",
       "      <td>0.0</td>\n",
       "      <td>0.0</td>\n",
       "      <td>0.0</td>\n",
       "      <td>0.0</td>\n",
       "      <td>0.0</td>\n",
       "      <td>0.0</td>\n",
       "    </tr>\n",
       "    <tr>\n",
       "      <th>2347</th>\n",
       "      <td>0.0</td>\n",
       "      <td>0.0</td>\n",
       "      <td>0.0</td>\n",
       "      <td>0.0</td>\n",
       "      <td>0.0</td>\n",
       "      <td>0.000000</td>\n",
       "      <td>6959.3481</td>\n",
       "      <td>0.000000</td>\n",
       "      <td>0.0</td>\n",
       "      <td>0.0</td>\n",
       "      <td>...</td>\n",
       "      <td>0.000000</td>\n",
       "      <td>0.0</td>\n",
       "      <td>0.0</td>\n",
       "      <td>0.0</td>\n",
       "      <td>0.0</td>\n",
       "      <td>0.0</td>\n",
       "      <td>0.0</td>\n",
       "      <td>0.0</td>\n",
       "      <td>0.0</td>\n",
       "      <td>0.0</td>\n",
       "    </tr>\n",
       "    <tr>\n",
       "      <th>2348</th>\n",
       "      <td>0.0</td>\n",
       "      <td>0.0</td>\n",
       "      <td>0.0</td>\n",
       "      <td>0.0</td>\n",
       "      <td>0.0</td>\n",
       "      <td>0.000000</td>\n",
       "      <td>7200.0000</td>\n",
       "      <td>62.833313</td>\n",
       "      <td>0.0</td>\n",
       "      <td>0.0</td>\n",
       "      <td>...</td>\n",
       "      <td>0.000000</td>\n",
       "      <td>0.0</td>\n",
       "      <td>0.0</td>\n",
       "      <td>0.0</td>\n",
       "      <td>0.0</td>\n",
       "      <td>0.0</td>\n",
       "      <td>0.0</td>\n",
       "      <td>0.0</td>\n",
       "      <td>0.0</td>\n",
       "      <td>0.0</td>\n",
       "    </tr>\n",
       "    <tr>\n",
       "      <th>2349</th>\n",
       "      <td>0.0</td>\n",
       "      <td>0.0</td>\n",
       "      <td>0.0</td>\n",
       "      <td>0.0</td>\n",
       "      <td>0.0</td>\n",
       "      <td>0.000000</td>\n",
       "      <td>0.0000</td>\n",
       "      <td>0.000000</td>\n",
       "      <td>0.0</td>\n",
       "      <td>0.0</td>\n",
       "      <td>...</td>\n",
       "      <td>0.000000</td>\n",
       "      <td>0.0</td>\n",
       "      <td>0.0</td>\n",
       "      <td>0.0</td>\n",
       "      <td>0.0</td>\n",
       "      <td>0.0</td>\n",
       "      <td>0.0</td>\n",
       "      <td>0.0</td>\n",
       "      <td>0.0</td>\n",
       "      <td>0.0</td>\n",
       "    </tr>\n",
       "  </tbody>\n",
       "</table>\n",
       "<p>2349 rows × 24 columns</p>\n",
       "</div>"
      ],
      "text/plain": [
       "       1    2    3       4       5           6          7            8   \\\n",
       "1     0.0  0.0  0.0     0.0     0.0    0.000000     0.0000     0.000000   \n",
       "2     0.0  0.0  0.0     0.0     0.0    0.000000  3600.0000  3600.000000   \n",
       "3     0.0  0.0  0.0     0.0     0.0    0.000000     0.0000     0.000000   \n",
       "4     0.0  0.0  0.0     0.0     0.0    0.000000  7200.0000  7200.000000   \n",
       "5     0.0  0.0  0.0     0.0     0.0    0.000000  3600.0000  3367.334553   \n",
       "...   ...  ...  ...     ...     ...         ...        ...          ...   \n",
       "2345  0.0  0.0  0.0  3600.0  3600.0  410.553432  3600.0000  3600.000000   \n",
       "2346  0.0  0.0  0.0     0.0     0.0    0.000000     0.0000     0.000000   \n",
       "2347  0.0  0.0  0.0     0.0     0.0    0.000000  6959.3481     0.000000   \n",
       "2348  0.0  0.0  0.0     0.0     0.0    0.000000  7200.0000    62.833313   \n",
       "2349  0.0  0.0  0.0     0.0     0.0    0.000000     0.0000     0.000000   \n",
       "\n",
       "          9       10  ...           15   16   17   18   19   20   21   22  \\\n",
       "1        0.0     0.0  ...  4377.907298  0.0  0.0  0.0  0.0  0.0  0.0  0.0   \n",
       "2     3600.0  3600.0  ...     0.000000  0.0  0.0  0.0  0.0  0.0  0.0  0.0   \n",
       "3        0.0     0.0  ...  5093.138529  0.0  0.0  0.0  0.0  0.0  0.0  0.0   \n",
       "4     7200.0  7200.0  ...     0.000000  0.0  0.0  0.0  0.0  0.0  0.0  0.0   \n",
       "5        0.0     0.0  ...     0.000000  0.0  0.0  0.0  0.0  0.0  0.0  0.0   \n",
       "...      ...     ...  ...          ...  ...  ...  ...  ...  ...  ...  ...   \n",
       "2345  3600.0  3600.0  ...     0.000000  0.0  0.0  0.0  0.0  0.0  0.0  0.0   \n",
       "2346     0.0     0.0  ...  4221.772142  0.0  0.0  0.0  0.0  0.0  0.0  0.0   \n",
       "2347     0.0     0.0  ...     0.000000  0.0  0.0  0.0  0.0  0.0  0.0  0.0   \n",
       "2348     0.0     0.0  ...     0.000000  0.0  0.0  0.0  0.0  0.0  0.0  0.0   \n",
       "2349     0.0     0.0  ...     0.000000  0.0  0.0  0.0  0.0  0.0  0.0  0.0   \n",
       "\n",
       "       23   24  \n",
       "1     0.0  0.0  \n",
       "2     0.0  0.0  \n",
       "3     0.0  0.0  \n",
       "4     0.0  0.0  \n",
       "5     0.0  0.0  \n",
       "...   ...  ...  \n",
       "2345  0.0  0.0  \n",
       "2346  0.0  0.0  \n",
       "2347  0.0  0.0  \n",
       "2348  0.0  0.0  \n",
       "2349  0.0  0.0  \n",
       "\n",
       "[2349 rows x 24 columns]"
      ]
     },
     "execution_count": 20,
     "metadata": {},
     "output_type": "execute_result"
    }
   ],
   "source": [
    "PEV_df"
   ]
  },
  {
   "cell_type": "code",
   "execution_count": 21,
   "id": "17060cc6",
   "metadata": {
    "ExecuteTime": {
     "end_time": "2023-01-24T15:20:58.553043Z",
     "start_time": "2023-01-24T15:20:58.508040Z"
    },
    "pycharm": {
     "name": "#%%\n"
    }
   },
   "outputs": [
    {
     "data": {
      "text/html": [
       "<div>\n",
       "<style scoped>\n",
       "    .dataframe tbody tr th:only-of-type {\n",
       "        vertical-align: middle;\n",
       "    }\n",
       "\n",
       "    .dataframe tbody tr th {\n",
       "        vertical-align: top;\n",
       "    }\n",
       "\n",
       "    .dataframe thead th {\n",
       "        text-align: right;\n",
       "    }\n",
       "</style>\n",
       "<table border=\"1\" class=\"dataframe\">\n",
       "  <thead>\n",
       "    <tr style=\"text-align: right;\">\n",
       "      <th></th>\n",
       "      <th>1</th>\n",
       "      <th>2</th>\n",
       "      <th>3</th>\n",
       "      <th>4</th>\n",
       "      <th>5</th>\n",
       "      <th>6</th>\n",
       "      <th>7</th>\n",
       "      <th>8</th>\n",
       "      <th>9</th>\n",
       "      <th>10</th>\n",
       "      <th>...</th>\n",
       "      <th>15</th>\n",
       "      <th>16</th>\n",
       "      <th>17</th>\n",
       "      <th>18</th>\n",
       "      <th>19</th>\n",
       "      <th>20</th>\n",
       "      <th>21</th>\n",
       "      <th>22</th>\n",
       "      <th>23</th>\n",
       "      <th>24</th>\n",
       "    </tr>\n",
       "  </thead>\n",
       "  <tbody>\n",
       "    <tr>\n",
       "      <th>1</th>\n",
       "      <td>0.0</td>\n",
       "      <td>0.000000</td>\n",
       "      <td>0.000000</td>\n",
       "      <td>0.0</td>\n",
       "      <td>0.0</td>\n",
       "      <td>0.0</td>\n",
       "      <td>0.0</td>\n",
       "      <td>0.0</td>\n",
       "      <td>0.0</td>\n",
       "      <td>0.0</td>\n",
       "      <td>...</td>\n",
       "      <td>0.0</td>\n",
       "      <td>0.0</td>\n",
       "      <td>0.0</td>\n",
       "      <td>0.0</td>\n",
       "      <td>0.0</td>\n",
       "      <td>0.0</td>\n",
       "      <td>0.0</td>\n",
       "      <td>0.0</td>\n",
       "      <td>0.0</td>\n",
       "      <td>0.0</td>\n",
       "    </tr>\n",
       "    <tr>\n",
       "      <th>2</th>\n",
       "      <td>0.0</td>\n",
       "      <td>0.000000</td>\n",
       "      <td>1732.339383</td>\n",
       "      <td>0.0</td>\n",
       "      <td>0.0</td>\n",
       "      <td>0.0</td>\n",
       "      <td>0.0</td>\n",
       "      <td>0.0</td>\n",
       "      <td>0.0</td>\n",
       "      <td>0.0</td>\n",
       "      <td>...</td>\n",
       "      <td>0.0</td>\n",
       "      <td>0.0</td>\n",
       "      <td>0.0</td>\n",
       "      <td>0.0</td>\n",
       "      <td>0.0</td>\n",
       "      <td>0.0</td>\n",
       "      <td>0.0</td>\n",
       "      <td>0.0</td>\n",
       "      <td>0.0</td>\n",
       "      <td>0.0</td>\n",
       "    </tr>\n",
       "    <tr>\n",
       "      <th>3</th>\n",
       "      <td>0.0</td>\n",
       "      <td>0.000000</td>\n",
       "      <td>0.000000</td>\n",
       "      <td>0.0</td>\n",
       "      <td>0.0</td>\n",
       "      <td>0.0</td>\n",
       "      <td>0.0</td>\n",
       "      <td>0.0</td>\n",
       "      <td>0.0</td>\n",
       "      <td>0.0</td>\n",
       "      <td>...</td>\n",
       "      <td>0.0</td>\n",
       "      <td>0.0</td>\n",
       "      <td>0.0</td>\n",
       "      <td>0.0</td>\n",
       "      <td>0.0</td>\n",
       "      <td>0.0</td>\n",
       "      <td>0.0</td>\n",
       "      <td>0.0</td>\n",
       "      <td>0.0</td>\n",
       "      <td>0.0</td>\n",
       "    </tr>\n",
       "    <tr>\n",
       "      <th>4</th>\n",
       "      <td>0.0</td>\n",
       "      <td>5854.046036</td>\n",
       "      <td>7200.000000</td>\n",
       "      <td>0.0</td>\n",
       "      <td>0.0</td>\n",
       "      <td>0.0</td>\n",
       "      <td>0.0</td>\n",
       "      <td>0.0</td>\n",
       "      <td>0.0</td>\n",
       "      <td>0.0</td>\n",
       "      <td>...</td>\n",
       "      <td>0.0</td>\n",
       "      <td>0.0</td>\n",
       "      <td>0.0</td>\n",
       "      <td>0.0</td>\n",
       "      <td>0.0</td>\n",
       "      <td>0.0</td>\n",
       "      <td>0.0</td>\n",
       "      <td>0.0</td>\n",
       "      <td>0.0</td>\n",
       "      <td>0.0</td>\n",
       "    </tr>\n",
       "    <tr>\n",
       "      <th>5</th>\n",
       "      <td>0.0</td>\n",
       "      <td>2651.980566</td>\n",
       "      <td>3600.000000</td>\n",
       "      <td>0.0</td>\n",
       "      <td>0.0</td>\n",
       "      <td>0.0</td>\n",
       "      <td>0.0</td>\n",
       "      <td>0.0</td>\n",
       "      <td>0.0</td>\n",
       "      <td>0.0</td>\n",
       "      <td>...</td>\n",
       "      <td>0.0</td>\n",
       "      <td>0.0</td>\n",
       "      <td>0.0</td>\n",
       "      <td>0.0</td>\n",
       "      <td>0.0</td>\n",
       "      <td>0.0</td>\n",
       "      <td>0.0</td>\n",
       "      <td>0.0</td>\n",
       "      <td>0.0</td>\n",
       "      <td>0.0</td>\n",
       "    </tr>\n",
       "    <tr>\n",
       "      <th>...</th>\n",
       "      <td>...</td>\n",
       "      <td>...</td>\n",
       "      <td>...</td>\n",
       "      <td>...</td>\n",
       "      <td>...</td>\n",
       "      <td>...</td>\n",
       "      <td>...</td>\n",
       "      <td>...</td>\n",
       "      <td>...</td>\n",
       "      <td>...</td>\n",
       "      <td>...</td>\n",
       "      <td>...</td>\n",
       "      <td>...</td>\n",
       "      <td>...</td>\n",
       "      <td>...</td>\n",
       "      <td>...</td>\n",
       "      <td>...</td>\n",
       "      <td>...</td>\n",
       "      <td>...</td>\n",
       "      <td>...</td>\n",
       "      <td>...</td>\n",
       "    </tr>\n",
       "    <tr>\n",
       "      <th>2345</th>\n",
       "      <td>0.0</td>\n",
       "      <td>0.000000</td>\n",
       "      <td>0.000000</td>\n",
       "      <td>0.0</td>\n",
       "      <td>0.0</td>\n",
       "      <td>0.0</td>\n",
       "      <td>0.0</td>\n",
       "      <td>0.0</td>\n",
       "      <td>0.0</td>\n",
       "      <td>0.0</td>\n",
       "      <td>...</td>\n",
       "      <td>0.0</td>\n",
       "      <td>0.0</td>\n",
       "      <td>0.0</td>\n",
       "      <td>0.0</td>\n",
       "      <td>0.0</td>\n",
       "      <td>0.0</td>\n",
       "      <td>0.0</td>\n",
       "      <td>0.0</td>\n",
       "      <td>0.0</td>\n",
       "      <td>0.0</td>\n",
       "    </tr>\n",
       "    <tr>\n",
       "      <th>2346</th>\n",
       "      <td>0.0</td>\n",
       "      <td>0.000000</td>\n",
       "      <td>0.000000</td>\n",
       "      <td>0.0</td>\n",
       "      <td>0.0</td>\n",
       "      <td>0.0</td>\n",
       "      <td>0.0</td>\n",
       "      <td>0.0</td>\n",
       "      <td>0.0</td>\n",
       "      <td>0.0</td>\n",
       "      <td>...</td>\n",
       "      <td>0.0</td>\n",
       "      <td>0.0</td>\n",
       "      <td>0.0</td>\n",
       "      <td>0.0</td>\n",
       "      <td>0.0</td>\n",
       "      <td>0.0</td>\n",
       "      <td>0.0</td>\n",
       "      <td>0.0</td>\n",
       "      <td>0.0</td>\n",
       "      <td>0.0</td>\n",
       "    </tr>\n",
       "    <tr>\n",
       "      <th>2347</th>\n",
       "      <td>0.0</td>\n",
       "      <td>0.000000</td>\n",
       "      <td>6259.188339</td>\n",
       "      <td>0.0</td>\n",
       "      <td>0.0</td>\n",
       "      <td>0.0</td>\n",
       "      <td>0.0</td>\n",
       "      <td>0.0</td>\n",
       "      <td>0.0</td>\n",
       "      <td>0.0</td>\n",
       "      <td>...</td>\n",
       "      <td>0.0</td>\n",
       "      <td>0.0</td>\n",
       "      <td>0.0</td>\n",
       "      <td>0.0</td>\n",
       "      <td>0.0</td>\n",
       "      <td>0.0</td>\n",
       "      <td>0.0</td>\n",
       "      <td>0.0</td>\n",
       "      <td>0.0</td>\n",
       "      <td>0.0</td>\n",
       "    </tr>\n",
       "    <tr>\n",
       "      <th>2348</th>\n",
       "      <td>0.0</td>\n",
       "      <td>0.000000</td>\n",
       "      <td>6270.000000</td>\n",
       "      <td>0.0</td>\n",
       "      <td>0.0</td>\n",
       "      <td>0.0</td>\n",
       "      <td>0.0</td>\n",
       "      <td>0.0</td>\n",
       "      <td>0.0</td>\n",
       "      <td>0.0</td>\n",
       "      <td>...</td>\n",
       "      <td>0.0</td>\n",
       "      <td>0.0</td>\n",
       "      <td>0.0</td>\n",
       "      <td>0.0</td>\n",
       "      <td>0.0</td>\n",
       "      <td>0.0</td>\n",
       "      <td>0.0</td>\n",
       "      <td>0.0</td>\n",
       "      <td>0.0</td>\n",
       "      <td>0.0</td>\n",
       "    </tr>\n",
       "    <tr>\n",
       "      <th>2349</th>\n",
       "      <td>0.0</td>\n",
       "      <td>0.000000</td>\n",
       "      <td>0.000000</td>\n",
       "      <td>0.0</td>\n",
       "      <td>0.0</td>\n",
       "      <td>0.0</td>\n",
       "      <td>0.0</td>\n",
       "      <td>0.0</td>\n",
       "      <td>0.0</td>\n",
       "      <td>0.0</td>\n",
       "      <td>...</td>\n",
       "      <td>0.0</td>\n",
       "      <td>0.0</td>\n",
       "      <td>0.0</td>\n",
       "      <td>0.0</td>\n",
       "      <td>0.0</td>\n",
       "      <td>0.0</td>\n",
       "      <td>0.0</td>\n",
       "      <td>0.0</td>\n",
       "      <td>0.0</td>\n",
       "      <td>0.0</td>\n",
       "    </tr>\n",
       "  </tbody>\n",
       "</table>\n",
       "<p>2349 rows × 24 columns</p>\n",
       "</div>"
      ],
      "text/plain": [
       "       1            2            3    4    5    6    7    8    9    10  ...  \\\n",
       "1     0.0     0.000000     0.000000  0.0  0.0  0.0  0.0  0.0  0.0  0.0  ...   \n",
       "2     0.0     0.000000  1732.339383  0.0  0.0  0.0  0.0  0.0  0.0  0.0  ...   \n",
       "3     0.0     0.000000     0.000000  0.0  0.0  0.0  0.0  0.0  0.0  0.0  ...   \n",
       "4     0.0  5854.046036  7200.000000  0.0  0.0  0.0  0.0  0.0  0.0  0.0  ...   \n",
       "5     0.0  2651.980566  3600.000000  0.0  0.0  0.0  0.0  0.0  0.0  0.0  ...   \n",
       "...   ...          ...          ...  ...  ...  ...  ...  ...  ...  ...  ...   \n",
       "2345  0.0     0.000000     0.000000  0.0  0.0  0.0  0.0  0.0  0.0  0.0  ...   \n",
       "2346  0.0     0.000000     0.000000  0.0  0.0  0.0  0.0  0.0  0.0  0.0  ...   \n",
       "2347  0.0     0.000000  6259.188339  0.0  0.0  0.0  0.0  0.0  0.0  0.0  ...   \n",
       "2348  0.0     0.000000  6270.000000  0.0  0.0  0.0  0.0  0.0  0.0  0.0  ...   \n",
       "2349  0.0     0.000000     0.000000  0.0  0.0  0.0  0.0  0.0  0.0  0.0  ...   \n",
       "\n",
       "       15   16   17   18   19   20   21   22   23   24  \n",
       "1     0.0  0.0  0.0  0.0  0.0  0.0  0.0  0.0  0.0  0.0  \n",
       "2     0.0  0.0  0.0  0.0  0.0  0.0  0.0  0.0  0.0  0.0  \n",
       "3     0.0  0.0  0.0  0.0  0.0  0.0  0.0  0.0  0.0  0.0  \n",
       "4     0.0  0.0  0.0  0.0  0.0  0.0  0.0  0.0  0.0  0.0  \n",
       "5     0.0  0.0  0.0  0.0  0.0  0.0  0.0  0.0  0.0  0.0  \n",
       "...   ...  ...  ...  ...  ...  ...  ...  ...  ...  ...  \n",
       "2345  0.0  0.0  0.0  0.0  0.0  0.0  0.0  0.0  0.0  0.0  \n",
       "2346  0.0  0.0  0.0  0.0  0.0  0.0  0.0  0.0  0.0  0.0  \n",
       "2347  0.0  0.0  0.0  0.0  0.0  0.0  0.0  0.0  0.0  0.0  \n",
       "2348  0.0  0.0  0.0  0.0  0.0  0.0  0.0  0.0  0.0  0.0  \n",
       "2349  0.0  0.0  0.0  0.0  0.0  0.0  0.0  0.0  0.0  0.0  \n",
       "\n",
       "[2349 rows x 24 columns]"
      ]
     },
     "execution_count": 21,
     "metadata": {},
     "output_type": "execute_result"
    }
   ],
   "source": [
    "PEVdc_df"
   ]
  },
  {
   "cell_type": "code",
   "execution_count": 22,
   "id": "2e115437",
   "metadata": {
    "ExecuteTime": {
     "end_time": "2023-01-24T15:20:58.566044Z",
     "start_time": "2023-01-24T15:20:58.555043Z"
    },
    "pycharm": {
     "name": "#%%\n"
    }
   },
   "outputs": [
    {
     "data": {
      "text/plain": [
       "1     1.025082e+04\n",
       "2     9.672625e+03\n",
       "3     9.389474e+03\n",
       "4     3.749835e+05\n",
       "5     1.655207e+05\n",
       "6     6.452560e+04\n",
       "7     7.811251e+06\n",
       "8     5.498543e+06\n",
       "9     4.827462e+06\n",
       "10    3.805512e+06\n",
       "11    1.986856e+06\n",
       "12    1.267546e+06\n",
       "13    9.170936e+05\n",
       "14    8.557098e+06\n",
       "15    1.665203e+06\n",
       "16    1.291361e+04\n",
       "17    0.000000e+00\n",
       "18    0.000000e+00\n",
       "19    0.000000e+00\n",
       "20    1.383817e+04\n",
       "21    0.000000e+00\n",
       "22    0.000000e+00\n",
       "23    1.786655e+05\n",
       "24    1.915192e+05\n",
       "dtype: float64"
      ]
     },
     "execution_count": 22,
     "metadata": {},
     "output_type": "execute_result"
    }
   ],
   "source": [
    "PEV_df.sum()"
   ]
  },
  {
   "cell_type": "code",
   "execution_count": 23,
   "id": "b6c8c904",
   "metadata": {
    "ExecuteTime": {
     "end_time": "2023-01-24T15:20:58.582045Z",
     "start_time": "2023-01-24T15:20:58.568044Z"
    },
    "pycharm": {
     "name": "#%%\n"
    }
   },
   "outputs": [
    {
     "data": {
      "text/plain": [
       "1     2.671488e+06\n",
       "2     4.120448e+06\n",
       "3     6.839111e+06\n",
       "4     0.000000e+00\n",
       "5     0.000000e+00\n",
       "6     0.000000e+00\n",
       "7     0.000000e+00\n",
       "8     0.000000e+00\n",
       "9     0.000000e+00\n",
       "10    0.000000e+00\n",
       "11    0.000000e+00\n",
       "12    0.000000e+00\n",
       "13    0.000000e+00\n",
       "14    0.000000e+00\n",
       "15    0.000000e+00\n",
       "16    0.000000e+00\n",
       "17    0.000000e+00\n",
       "18    0.000000e+00\n",
       "19    0.000000e+00\n",
       "20    0.000000e+00\n",
       "21    0.000000e+00\n",
       "22    0.000000e+00\n",
       "23    0.000000e+00\n",
       "24    0.000000e+00\n",
       "dtype: float64"
      ]
     },
     "execution_count": 23,
     "metadata": {},
     "output_type": "execute_result"
    }
   ],
   "source": [
    "PEVdc_df.sum()"
   ]
  },
  {
   "cell_type": "code",
   "execution_count": 24,
   "id": "b0d84086",
   "metadata": {
    "ExecuteTime": {
     "end_time": "2023-01-24T16:47:49.004774Z",
     "start_time": "2023-01-24T16:47:48.888768Z"
    },
    "pycharm": {
     "name": "#%%\n"
    }
   },
   "outputs": [],
   "source": [
    "Etriprelax_df = ext_pyomo_vals(model.Etriprelax)"
   ]
  },
  {
   "cell_type": "code",
   "execution_count": 25,
   "id": "afbfe29b",
   "metadata": {
    "ExecuteTime": {
     "end_time": "2023-01-24T16:47:55.420930Z",
     "start_time": "2023-01-24T16:47:55.408930Z"
    },
    "pycharm": {
     "name": "#%%\n"
    }
   },
   "outputs": [
    {
     "data": {
      "text/plain": [
       "1          0.000000\n",
       "2          0.000000\n",
       "3          0.000000\n",
       "4          0.000000\n",
       "5          0.000000\n",
       "6          0.000000\n",
       "7          0.000000\n",
       "8          0.000000\n",
       "9          0.000000\n",
       "10         0.000000\n",
       "11         0.000000\n",
       "12         0.000000\n",
       "13      4822.572516\n",
       "14     11820.087758\n",
       "15      8136.712526\n",
       "16     12361.970335\n",
       "17      3113.189245\n",
       "18      5907.229262\n",
       "19         0.000000\n",
       "20      5454.472282\n",
       "21      4363.416847\n",
       "22         0.000000\n",
       "23         0.000000\n",
       "24    201677.048084\n",
       "dtype: float64"
      ]
     },
     "execution_count": 25,
     "metadata": {},
     "output_type": "execute_result"
    }
   ],
   "source": [
    "Etriprelax_df.sum()"
   ]
  },
  {
   "cell_type": "code",
   "execution_count": 26,
   "id": "44ddc77e",
   "metadata": {
    "ExecuteTime": {
     "end_time": "2023-01-24T16:48:58.631746Z",
     "start_time": "2023-01-24T16:48:58.519740Z"
    },
    "pycharm": {
     "name": "#%%\n"
    }
   },
   "outputs": [],
   "source": [
    "Eminsocrelax_df = ext_pyomo_vals(model.Eminsocrelax)"
   ]
  },
  {
   "cell_type": "code",
   "execution_count": 27,
   "id": "7ee14872",
   "metadata": {
    "ExecuteTime": {
     "end_time": "2023-01-24T16:48:58.862759Z",
     "start_time": "2023-01-24T16:48:58.853759Z"
    },
    "pycharm": {
     "name": "#%%\n"
    }
   },
   "outputs": [
    {
     "data": {
      "text/plain": [
       "1     0.0\n",
       "2     0.0\n",
       "3     0.0\n",
       "4     0.0\n",
       "5     0.0\n",
       "6     0.0\n",
       "7     0.0\n",
       "8     0.0\n",
       "9     0.0\n",
       "10    0.0\n",
       "11    0.0\n",
       "12    0.0\n",
       "13    0.0\n",
       "14    0.0\n",
       "15    0.0\n",
       "16    0.0\n",
       "17    0.0\n",
       "18    0.0\n",
       "19    0.0\n",
       "20    0.0\n",
       "21    0.0\n",
       "22    0.0\n",
       "23    0.0\n",
       "24    0.0\n",
       "dtype: float64"
      ]
     },
     "execution_count": 27,
     "metadata": {},
     "output_type": "execute_result"
    }
   ],
   "source": [
    "Eminsocrelax_df.sum()"
   ]
  },
  {
   "cell_type": "code",
   "execution_count": 28,
   "id": "a5184c38",
   "metadata": {
    "ExecuteTime": {
     "end_time": "2023-01-24T16:49:24.131588Z",
     "start_time": "2023-01-24T16:49:21.365524Z"
    },
    "pycharm": {
     "name": "#%%\n"
    }
   },
   "outputs": [],
   "source": [
    "Etripn_df = ext_pyomo_vals(model.Etripn)"
   ]
  },
  {
   "cell_type": "code",
   "execution_count": 29,
   "id": "900b4c5b",
   "metadata": {
    "ExecuteTime": {
     "end_time": "2023-01-24T16:49:27.726669Z",
     "start_time": "2023-01-24T16:49:27.716669Z"
    },
    "pycharm": {
     "name": "#%%\n"
    }
   },
   "outputs": [
    {
     "data": {
      "text/plain": [
       "1     1.100987e+06\n",
       "2     2.849494e+04\n",
       "3     9.544837e+03\n",
       "4     0.000000e+00\n",
       "5     8.494229e+03\n",
       "6     0.000000e+00\n",
       "7     9.425414e+03\n",
       "8     7.520691e+03\n",
       "9     0.000000e+00\n",
       "10    7.243526e+05\n",
       "11    1.681718e+06\n",
       "12    0.000000e+00\n",
       "13    8.133524e+05\n",
       "14    3.464170e+06\n",
       "15    1.548599e+06\n",
       "16    1.564664e+06\n",
       "17    4.420251e+05\n",
       "18    9.451253e+05\n",
       "19    3.061923e+05\n",
       "20    1.061668e+06\n",
       "21    1.214125e+06\n",
       "22    1.112450e+06\n",
       "23    1.203906e+06\n",
       "24    4.363501e+06\n",
       "dtype: float64"
      ]
     },
     "execution_count": 29,
     "metadata": {},
     "output_type": "execute_result"
    }
   ],
   "source": [
    "Etripn_df.sum()"
   ]
  },
  {
   "cell_type": "markdown",
   "id": "8ad0e11f",
   "metadata": {
    "pycharm": {
     "name": "#%% md\n"
    }
   },
   "source": [
    "## Save results in csv files"
   ]
  },
  {
   "cell_type": "code",
   "execution_count": 30,
   "id": "7ac39855",
   "metadata": {
    "ExecuteTime": {
     "end_time": "2023-01-24T17:20:57.868831Z",
     "start_time": "2023-01-24T17:20:57.674823Z"
    },
    "pycharm": {
     "name": "#%%\n"
    }
   },
   "outputs": [],
   "source": [
    "import os \n",
    "folder = 'results_ToU_V2G_' + str(n_evs)\n",
    "\n",
    "if not os.path.exists(folder):\n",
    "    os.makedirs(folder)\n",
    "    \n",
    "EEV_df.to_csv(folder + '/EEV.csv')\n",
    "PEV_df.to_csv(folder + '/PEV.csv')\n",
    "PEVdc_df.to_csv(folder + '/PEVdc.csv')\n",
    "PEV_df.sum().to_csv(folder + '/PEV_h.csv')\n",
    "PEVdc_df.sum().to_csv(folder + '/PEVdc_h.csv')\n",
    "\n",
    "Etriprelax_df.to_csv(folder + '/Etriprelax.csv')\n",
    "Etriprelax_df.sum().to_csv(folder + '/Etriprelax_h.csv')\n",
    "\n",
    "Eminsocrelax_df.to_csv(folder + '/Eminsocrelax.csv')\n",
    "Eminsocrelax_df.sum().to_csv(folder + '/Eminsocrelax_h.csv')\n",
    "\n",
    "Etripn_df.to_csv(folder + '/Etripn.csv')\n",
    "Etripn_df.sum().to_csv(folder + '/Etripn_h.csv')"
   ]
  },
  {
   "cell_type": "code",
   "execution_count": null,
   "id": "46ba672e",
   "metadata": {
    "pycharm": {
     "name": "#%%\n"
    }
   },
   "outputs": [],
   "source": []
  }
 ],
 "metadata": {
  "kernelspec": {
   "display_name": "Python 3 (ipykernel)",
   "language": "python",
   "name": "python3"
  },
  "language_info": {
   "codemirror_mode": {
    "name": "ipython",
    "version": 3
   },
   "file_extension": ".py",
   "mimetype": "text/x-python",
   "name": "python",
   "nbconvert_exporter": "python",
   "pygments_lexer": "ipython3",
   "version": "3.10.11"
  },
  "toc": {
   "base_numbering": 1,
   "nav_menu": {},
   "number_sections": true,
   "sideBar": true,
   "skip_h1_title": false,
   "title_cell": "Table of Contents",
   "title_sidebar": "Contents",
   "toc_cell": false,
   "toc_position": {},
   "toc_section_display": true,
   "toc_window_display": false
  }
 },
 "nbformat": 4,
 "nbformat_minor": 5
}
